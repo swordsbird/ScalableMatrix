{
 "cells": [
  {
   "cell_type": "code",
   "execution_count": 17,
   "source": [
    "import csv\n",
    "\n",
    "features = ['Account Balance', 'Duration of Credit (month)', \n",
    "'Payment Status of Previous Credit', 'Purpose', 'Credit Amount',\n",
    "'Value Savings/Stocks', 'Length of current employment', 'Installment per cent',\n",
    "'Sex & Marital Status', 'Guarantors', 'Duration in Current address',\n",
    "'Most valuable available asset', 'Age (years)', 'Concurrent Credits',\n",
    "'Type of apartment', 'No of Credits at this Bank', 'Occupation',\n",
    "'No of dependents', 'Telephone', 'Foreign Worker', 'Creditability']\n",
    "\n",
    "reassign = {\n",
    "    'Creditability' : ['No', 'Yes' ], \n",
    "    'Payment Status of Previous Credit' : [\n",
    "        'no credits taken/ all credits paid back duly',\n",
    "        'all credits at this bank paid back duly',\n",
    "        'existing credits paid back duly till now',\n",
    "        'delay in paying off in the past',\n",
    "        'critical account/ other credits existing (not at this bank)',\n",
    "    ],\n",
    "    'Purpose' : [\n",
    "        'car (new)',\n",
    "        'car (used)',\n",
    "        'furniture/equipment',\n",
    "        'radio/television',\n",
    "        'domestic appliances',\n",
    "        'repairs',\n",
    "        'education',\n",
    "        '(vacation - does not exist?)',\n",
    "        'retraining',\n",
    "        'business',\n",
    "        'others'\n",
    "    ],\n",
    "    'Value Savings/Stocks': [\n",
    "        '< 100 DM',\n",
    "        '100 <= ... < 500 DM',\n",
    "        '500 <= ... < 1000 DM',\n",
    "        '>= 1000 DM',\n",
    "        'unknown/ no savings account',\n",
    "    ],\n",
    "    'Length of current employment': [\n",
    "        'unemployed',\n",
    "        '< 1 year',\n",
    "        '1 <= ... < 4 years',\n",
    "        '4 <= ... < 7 years',\n",
    "        '>= 7 years'\n",
    "    ],\n",
    "    'Sex & Marital Status': [\n",
    "        'male : divorced/separated',\n",
    "        'female : divorced/separated/married',\n",
    "        'male : single',\n",
    "        'male : married/widowed',\n",
    "        'female : single'\n",
    "    ],\n",
    "    'Guarantors': [\n",
    "        'none',\n",
    "        'co-applicant',\n",
    "        'guarantor'\n",
    "    ],\n",
    "    'Most valuable available asset': [\n",
    "        'real estate',\n",
    "        'building society savings agreement/ life insurance',\n",
    "        'car or other',\n",
    "        'unknown / no property'\n",
    "    ],\n",
    "    'Other installment plans': ['bank', 'stores', 'none'],\n",
    "    'Type of apartment': ['rent', 'own', 'for free'],\n",
    "    'Occupation': [\n",
    "        'unemployed/ unskilled - non-resident',\n",
    "        'unskilled - resident',\n",
    "        'skilled employee / official',\n",
    "        'management/ self-employed/ highly qualified employee/ officer'\n",
    "    ],\n",
    "    'Account Balance': [\n",
    "        '... < 0 DM',\n",
    "        '0 <= ... < 200 DM',\n",
    "        '... >= 200 DM / salary assignments for at least 1 year',\n",
    "        'no checking account',\n",
    "    ],\n",
    "    'Telephone': ['No', 'Yes'],\n",
    "    'Foreign Worker': ['Yes', 'No'],\n",
    "}\n"
   ],
   "outputs": [],
   "metadata": {}
  },
  {
   "cell_type": "code",
   "execution_count": 20,
   "source": [
    "import pandas as pd\n",
    "data = pd.read_csv('german.csv')\n",
    "for feature in data.columns:\n",
    "    if feature in reassign:\n",
    "        delta = min(data[feature].values)\n",
    "        data[feature] = [reassign[feature][k - delta] for k in data[feature]]\n",
    "    else:\n",
    "        data[feature] = [int(k) for k in data[feature]]"
   ],
   "outputs": [],
   "metadata": {}
  },
  {
   "cell_type": "code",
   "execution_count": 22,
   "source": [
    "f = open('german_detailed.csv', 'w')\n",
    "f.write(data.to_csv())"
   ],
   "outputs": [
    {
     "output_type": "execute_result",
     "data": {
      "text/plain": [
       "234674"
      ]
     },
     "metadata": {},
     "execution_count": 22
    }
   ],
   "metadata": {}
  }
 ],
 "metadata": {
  "orig_nbformat": 4,
  "language_info": {
   "name": "python",
   "version": "3.8.1",
   "mimetype": "text/x-python",
   "codemirror_mode": {
    "name": "ipython",
    "version": 3
   },
   "pygments_lexer": "ipython3",
   "nbconvert_exporter": "python",
   "file_extension": ".py"
  },
  "kernelspec": {
   "name": "python3",
   "display_name": "Python 3.8.1 64-bit"
  },
  "interpreter": {
   "hash": "e4ca62cc624854f73843cd7b3352ae633eb01f3e4f77eee16509c1692ddd1ed1"
  }
 },
 "nbformat": 4,
 "nbformat_minor": 2
}