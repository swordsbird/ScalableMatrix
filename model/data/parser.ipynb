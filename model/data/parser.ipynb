{
 "cells": [
  {
   "cell_type": "code",
   "execution_count": 13,
   "source": [
    "import csv\n",
    "\n",
    "features = 'credit_risk,status,duration,credit_history,purpose,amount,savings,employment_duration,installment_rate,personal_status_sex,other_debtors,present_residence,property,age,other_installment_plans,housing,number_credits,job,people_liable,telephone,foreign_worker'.split(',')\n",
    "\n",
    "reassign = {\n",
    "    'credit_risk' : ['No', 'Yes'], \n",
    "    'credit_history' : [\n",
    "        \"delay in paying off in the past\",\n",
    "        \"critical account/other credits elsewhere\",\n",
    "        \"no credits taken/all credits paid back duly\",\n",
    "        \"existing credits paid back duly till now\",\n",
    "        \"all credits at this bank paid back duly\",\n",
    "    ],\n",
    "    'purpose' : [\n",
    "        \"others\",\n",
    "        \"car (new)\",\n",
    "        \"car (used)\",\n",
    "        \"furniture/equipment\",\n",
    "        \"radio/television\",\n",
    "        \"domestic appliances\",\n",
    "        \"repairs\",\n",
    "        \"education\", \n",
    "        \"vacation\",\n",
    "        \"retraining\",\n",
    "        \"business\"\n",
    "    ],\n",
    "    'installment_rate': [\"< 20\", \"20 <= ... < 25\",  \"25 <= ... < 35\", \">= 35\"],\n",
    "    'present_residence': [\n",
    "        \"< 1 yr\", \n",
    "        \"1 <= ... < 4 yrs\",\n",
    "        \"4 <= ... < 7 yrs\", \n",
    "        \">= 7 yrs\"\n",
    "    ],\n",
    "    'number_credits': [\"1\", \"2-3\", \"4-5\", \">= 6\"],\n",
    "    'people_liable': [\"0 to 2\", \"3 or more\"],\n",
    "    'savings': [\n",
    "        \"unknown/no savings account\",\n",
    "        \"... <  100 DM\", \n",
    "        \"100 <= ... <  500 DM\",\n",
    "        \"500 <= ... < 1000 DM\", \n",
    "        \"... >= 1000 DM\",\n",
    "    ],\n",
    "    'employment_duration': [\n",
    "        \"unemployed\", \n",
    "        \"< 1 yr\", \n",
    "        \"1 <= ... < 4 yrs\",\n",
    "        \"4 <= ... < 7 yrs\", \n",
    "        \">= 7 yrs\"\n",
    "    ],\n",
    "    'personal_status_sex': [\n",
    "        \"not married male\",\n",
    "        \"not married male\",\n",
    "        \"married male\",\n",
    "        \"not married male\",\n",
    "    ],\n",
    "    'other_debtors': [\n",
    "        'none',\n",
    "        'co-applicant',\n",
    "        'guarantor'\n",
    "    ],\n",
    "    'property': [\n",
    "        \"real estate\",\n",
    "        \"building soc. savings agr./life insurance\", \n",
    "        \"car or other\",\n",
    "        \"unknown / no property\",\n",
    "    ],\n",
    "    'other_installment_plans': ['bank', 'stores', 'none'],\n",
    "    'housing': [\"rent\", \"own\", \"for free\"],\n",
    "    'job': [\n",
    "        'unemployed/ unskilled - non-resident',\n",
    "        'unskilled - resident',\n",
    "        'skilled employee / official',\n",
    "        'management/ self-employed/ highly qualified employee/ officer'\n",
    "    ],\n",
    "    'status': [\n",
    "        \"no checking account\",\n",
    "        \"... < 0 DM\",\n",
    "        \"0<= ... < 200 DM\",\n",
    "        \"... >= 200 DM / salary for at least 1 year\",\n",
    "    ],\n",
    "    'telephone': ['No', 'Yes'],\n",
    "    'foreign_worker': ['No', 'Yes'],\n",
    "}\n"
   ],
   "outputs": [],
   "metadata": {}
  },
  {
   "cell_type": "code",
   "execution_count": 14,
   "source": [
    "import pandas as pd\n",
    "data = pd.read_csv('german.csv')\n",
    "for feature in data.columns:\n",
    "    print(feature)\n",
    "    if feature in reassign:\n",
    "        delta = min(data[feature].values)\n",
    "        data[feature] = [reassign[feature][k - delta] for k in data[feature]]\n",
    "    else:\n",
    "        data[feature] = [int(k) for k in data[feature]]"
   ],
   "outputs": [
    {
     "output_type": "stream",
     "name": "stdout",
     "text": [
      "credit_risk\n",
      "status\n",
      "duration\n",
      "credit_history\n",
      "purpose\n",
      "amount\n",
      "savings\n",
      "employment_duration\n",
      "installment_rate\n",
      "personal_status_sex\n",
      "other_debtors\n",
      "present_residence\n",
      "property\n",
      "age\n",
      "other_installment_plans\n",
      "housing\n",
      "number_credits\n",
      "job\n",
      "people_liable\n",
      "telephone\n",
      "foreign_worker\n"
     ]
    }
   ],
   "metadata": {}
  },
  {
   "cell_type": "code",
   "execution_count": 15,
   "source": [
    "f = open('german_detailed.csv', 'w')\n",
    "f.write(data.to_csv())"
   ],
   "outputs": [
    {
     "output_type": "execute_result",
     "data": {
      "text/plain": [
       "258255"
      ]
     },
     "metadata": {},
     "execution_count": 15
    }
   ],
   "metadata": {}
  }
 ],
 "metadata": {
  "orig_nbformat": 4,
  "language_info": {
   "name": "python",
   "version": "3.8.1",
   "mimetype": "text/x-python",
   "codemirror_mode": {
    "name": "ipython",
    "version": 3
   },
   "pygments_lexer": "ipython3",
   "nbconvert_exporter": "python",
   "file_extension": ".py"
  },
  "kernelspec": {
   "name": "python3",
   "display_name": "Python 3.8.1 64-bit"
  },
  "interpreter": {
   "hash": "e4ca62cc624854f73843cd7b3352ae633eb01f3e4f77eee16509c1692ddd1ed1"
  }
 },
 "nbformat": 4,
 "nbformat_minor": 2
}