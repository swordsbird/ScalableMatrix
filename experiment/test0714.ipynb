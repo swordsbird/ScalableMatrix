{
 "cells": [
  {
   "cell_type": "code",
   "execution_count": 1,
   "metadata": {},
   "outputs": [],
   "source": [
    "import sys\n",
    "import matplotlib.pyplot as plt\n",
    "from sklearn.metrics import pairwise_distances\n",
    "\n",
    "from IPython.display import HTML\n",
    "import matplotlib.cm as cm\n",
    "import numpy as np\n",
    "from typing import Union\n",
    "import math\n"
   ]
  },
  {
   "cell_type": "code",
   "execution_count": 2,
   "metadata": {},
   "outputs": [],
   "source": [
    "import pandas as pd\n",
    "import numpy as np\n",
    "import sys\n",
    "sys.path.append('..')\n",
    "from lib.model_reduction_variant import Extractor\n",
    "from lib.anomaly_detection import LOCIMatrix, LOCIMatrixNew\n",
    "from lib.model_utils import export_rules_to_csv\n",
    "from matplotlib import pyplot as plt\n",
    "import pandas as pd\n",
    "import matplotlib.pyplot as plt\n",
    "import seaborn as sns\n",
    "\n",
    "plt.style.use('ggplot')\n",
    "pd.options.display.notebook_repr_html = False \n",
    "plt.rcParams['figure.dpi'] = 75 \n",
    "sns.set_theme(style='darkgrid') "
   ]
  },
  {
   "cell_type": "code",
   "execution_count": 3,
   "metadata": {},
   "outputs": [
    {
     "name": "stdout",
     "output_type": "stream",
     "text": [
      "Test\n",
      "Accuracy Score is 0.828\n",
      "Precision Score is 0.8663101604278075\n",
      "F1 Score is 0.88283378746594\n",
      "Train\n",
      "Accuracy Score is 0.8932692307692308\n"
     ]
    }
   ],
   "source": [
    "from lib.model_utils import ModelUtil\n",
    "model = ModelUtil(data_name = 'german_credit', model_name = 'RF')\n",
    "paths = model.paths\n",
    "mat, output = model.get_rule_matrix()"
   ]
  },
  {
   "cell_type": "code",
   "execution_count": 9,
   "metadata": {},
   "outputs": [
    {
     "name": "stdout",
     "output_type": "stream",
     "text": [
      "Accuracy Score is 0.7677259082910671\n"
     ]
    }
   ],
   "source": [
    "\n",
    "import copy\n",
    "feature_pos = copy.deepcopy(model.feature_pos)\n",
    "\n",
    "is_feature_categorical = {}\n",
    "feature_val_idxs = {}\n",
    "for i in model.feature_pos:\n",
    "    if i == -1:\n",
    "        continue\n",
    "    feature, index = model.feature_pos[i]\n",
    "    is_feature_categorical[feature] = index > 0\n",
    "\n",
    "for i in model.feature_pos:\n",
    "    if i == -1:\n",
    "        continue\n",
    "    feature, index = model.feature_pos[i]\n",
    "    if is_feature_categorical[feature]:\n",
    "        if feature not in feature_val_idxs:\n",
    "            feature_val_idxs[feature] = []\n",
    "        if i >= 0:\n",
    "            feature_val_idxs[feature].append(i)\n",
    "\n",
    "is_categorical = []\n",
    "feature_range = []\n",
    "for i in model.feature_pos:\n",
    "    if i == -1:\n",
    "        continue\n",
    "    feature, index = model.feature_pos[i]\n",
    "    is_categorical.append(is_feature_categorical[feature])\n",
    "    feature_range.append(model.feature_range[feature])\n",
    "\n",
    "n_features = len(is_categorical)\n",
    "to_category_idx = [3]\n",
    "for i in to_category_idx:\n",
    "    name = model.feature_pos[i][0]\n",
    "    is_categorical[i] = True\n",
    "    feature_len =  model.feature_range[name][1] - model.feature_range[name][0]\n",
    "    idx = [i for i in range(n_features, n_features + feature_len)]\n",
    "    for it, j in enumerate(idx):\n",
    "        feature_pos[j] = (name, it)\n",
    "    feature_val_idxs[name] = idx\n",
    "    n_features += feature_len\n",
    "\n",
    "X = []\n",
    "y = []\n",
    "for p in paths:\n",
    "    m = p['range']\n",
    "    row = np.zeros(n_features)\n",
    "    for i in m:\n",
    "        if is_categorical[i]:\n",
    "            if i in to_category_idx:\n",
    "                left = int(max(feature_range[i][0], math.floor(m[i][0])))\n",
    "                right = int(min(feature_range[i][1], math.ceil(m[i][1])))\n",
    "                if feature_range[i][0] > 0:\n",
    "                    left -= feature_range[i][0]\n",
    "                    right -= feature_range[i][0]\n",
    "                for j in range(left, right):\n",
    "                    if j < len(feature_val_idxs[feature]):\n",
    "                        row[feature_val_idxs[feature][j]] = 1\n",
    "            else:\n",
    "                if m[i][1] > 1:\n",
    "                    row[i] = 1\n",
    "                else:\n",
    "                    if row[i] == 0:\n",
    "                        feature, _ = model.feature_pos[i]\n",
    "                        row[feature_val_idxs[feature]] = 1\n",
    "                    row[i] = 0\n",
    "        else:\n",
    "            left = int(max(feature_range[i][0], m[i][0]))\n",
    "            right = int(min(feature_range[i][1] - 1, m[i][1]))\n",
    "            left = model.get_sum(i, 1, left) / len(model.X)\n",
    "            right = model.get_sum(i, 1, right) / len(model.X)\n",
    "            row[i] = (left + right) / 2 - 0.5\n",
    "    for feature in feature_val_idxs:\n",
    "        idx = feature_val_idxs[feature]\n",
    "        tot = row[idx].sum()\n",
    "        if tot > 0:\n",
    "            row[idx] /= tot\n",
    "\n",
    "    X.append(row)\n",
    "    y.append(p['output'])\n",
    "X = np.array(X).astype('float')\n",
    "lr_mat = X\n",
    "y = np.array(y)\n",
    "\n",
    "from sklearn.linear_model import LogisticRegression\n",
    "lr = LogisticRegression(max_iter=1000, class_weight='balanced')\n",
    "lr.fit(X[:], y[:])\n",
    "y_pred = lr.predict(X)\n",
    "from sklearn.metrics import accuracy_score, precision_score, f1_score\n",
    "print('Accuracy Score is', accuracy_score(y, y_pred))\n",
    "prob1 = lr.predict_proba(X)[:, 0] * (y != y_pred)\n",
    "outlier1 = prob1.argsort()[-50:][::-1].tolist()\n",
    "prob2 = lr.predict_proba(X)[:, 1] * (y != y_pred)\n",
    "outlier2 = prob2.argsort()[-50:][::-1].tolist()"
   ]
  },
  {
   "cell_type": "code",
   "execution_count": 8,
   "metadata": {},
   "outputs": [
    {
     "name": "stdout",
     "output_type": "stream",
     "text": [
      "Accuracy Score is 0.7201117896698065\n",
      "Precision Score is 0.9335299901671583\n",
      "F1 Score is 0.778324315461551\n"
     ]
    }
   ],
   "source": [
    "lr.fit(X[high_conf_idxes], y[high_conf_idxes])\n",
    "y_pred = lr.predict(X[:])\n",
    "from sklearn.metrics import accuracy_score, precision_score, f1_score\n",
    "print('Accuracy Score is', accuracy_score(y[:], y_pred))\n",
    "print('Precision Score is', precision_score(y[:], y_pred))\n",
    "print('F1 Score is', f1_score(y[:], y_pred))"
   ]
  },
  {
   "cell_type": "code",
   "execution_count": 5,
   "metadata": {},
   "outputs": [],
   "source": [
    "high_conf_idxes = [i for i, p in enumerate(paths) if paths[i]['confidence'] > 0.8]"
   ]
  },
  {
   "cell_type": "code",
   "execution_count": 4,
   "metadata": {},
   "outputs": [],
   "source": [
    "res = LOCIMatrixNew(mat, output=output, r = 0.2, metric = 'euclidean', n_ticks=100)\n",
    "r = np.mean(res.sorted_dist[:, 20])"
   ]
  },
  {
   "cell_type": "code",
   "execution_count": 5,
   "metadata": {},
   "outputs": [
    {
     "data": {
      "image/png": "[encoded data removed]",
      "text/plain": [
       "<Figure size 375x375 with 1 Axes>"
      ]
     },
     "metadata": {},
     "output_type": "display_data"
    }
   ],
   "source": [
    "dist_data = pd.DataFrame({ 'dist': res.sorted_dist.reshape(-1) })\n",
    "sns.displot(data=dist_data, x=\"dist\", bins=50, log_scale=(False, False))\n",
    "plt.show()"
   ]
  },
  {
   "cell_type": "code",
   "execution_count": 10,
   "metadata": {},
   "outputs": [
    {
     "data": {
      "image/png": "[encoded data removed]",
      "text/plain": [
       "<Figure size 375x375 with 1 Axes>"
      ]
     },
     "metadata": {},
     "output_type": "display_data"
    }
   ],
   "source": [
    "res2 = LOCIMatrixNew(mat, output=output, r = 0.2, output_alpha = 0.15, metric = 'euclidean', n_ticks=100)\n",
    "dist_data = pd.DataFrame({ 'dist': res2.sorted_dist.reshape(-1) })\n",
    "sns.displot(data=dist_data, x=\"dist\", bins=50, log_scale=(False, False))\n",
    "plt.show()"
   ]
  },
  {
   "cell_type": "code",
   "execution_count": 38,
   "metadata": {},
   "outputs": [
    {
     "name": "stdout",
     "output_type": "stream",
     "text": [
      "r range: 0.193 - 0.995\n"
     ]
    },
    {
     "data": {
      "text/plain": [
       "True"
      ]
     },
     "execution_count": 38,
     "metadata": {},
     "output_type": "execute_result"
    }
   ],
   "source": [
    "res.r = res.sorted_dist[:, 98].mean()\n",
    "res.run()"
   ]
  },
  {
   "cell_type": "code",
   "execution_count": 13,
   "metadata": {},
   "outputs": [
    {
     "name": "stdout",
     "output_type": "stream",
     "text": [
      "r range: 0.328 - 0.992\n"
     ]
    },
    {
     "data": {
      "text/plain": [
       "True"
      ]
     },
     "execution_count": 13,
     "metadata": {},
     "output_type": "execute_result"
    }
   ],
   "source": [
    "res2.r = res2.sorted_dist[:, 98].mean()\n",
    "res2.run()"
   ]
  },
  {
   "cell_type": "code",
   "execution_count": 16,
   "metadata": {},
   "outputs": [
    {
     "data": {
      "image/png": "[encoded data removed]",
      "text/plain": [
       "<Figure size 480x360 with 1 Axes>"
      ]
     },
     "metadata": {},
     "output_type": "display_data"
    }
   ],
   "source": [
    "fig, ax = plt.subplots()\n",
    "lines = []\n",
    "\n",
    "xs = res2.rs\n",
    "for x in range(2, 9000, 100):\n",
    "    lines.append((res2.scores[x, :], 'b', x))\n",
    "\n",
    "import random\n",
    "random.shuffle(lines)\n",
    "for (ys, color, index) in lines:\n",
    "    ax.plot(xs, ys, color=color, linewidth=1)\n",
    "ax.set_xlabel('r')\n",
    "ax.set_ylabel('score')\n",
    "plt.show()"
   ]
  },
  {
   "cell_type": "code",
   "execution_count": 39,
   "metadata": {},
   "outputs": [
    {
     "data": {
      "image/png": "[encoded data removed]",
      "text/plain": [
       "<Figure size 480x360 with 1 Axes>"
      ]
     },
     "metadata": {},
     "output_type": "display_data"
    }
   ],
   "source": [
    "fig, ax = plt.subplots()\n",
    "lines = []\n",
    "\n",
    "xs = res.rs\n",
    "for x in range(2, 9000, 100):\n",
    "    lines.append((res.scores[x, :], 'b', x))\n",
    "\n",
    "import random\n",
    "random.shuffle(lines)\n",
    "for (ys, color, index) in lines:\n",
    "    ax.plot(xs, ys, color=color, linewidth=1)\n",
    "ax.set_xlabel('r')\n",
    "ax.set_ylabel('score')\n",
    "plt.show()"
   ]
  },
  {
   "cell_type": "code",
   "execution_count": 33,
   "metadata": {},
   "outputs": [],
   "source": [
    "predict_proba = lr.predict_proba(X)\n",
    "score1 = np.array([predict_proba[i, 1 - y[i]] for i in range(predict_proba.shape[0])])\n",
    "score2 = res2.check_consistency(0.328, [p['output'] for p in paths])\n",
    "score2 = np.array(score2)\n",
    "score_max = score2.max()\n",
    "score_min = score2.min()\n",
    "score2 = (score_max - score2) / (score_max - score_min)\n",
    "score3 = np.array([p['confidence'] for p in paths])\n",
    "score_max = score3.max()\n",
    "score_min = score3.min()\n",
    "score3 = (score_max - score3) / (score_max - score_min)"
   ]
  },
  {
   "cell_type": "code",
   "execution_count": 45,
   "metadata": {},
   "outputs": [],
   "source": [
    "import matplotlib as mpl\n",
    "\n",
    "class MplColorHelper:\n",
    "\n",
    "  def __init__(self, cmap_name, start_val, stop_val):\n",
    "    self.cmap_name = cmap_name\n",
    "    self.cmap = plt.get_cmap(cmap_name)\n",
    "    self.norm = mpl.colors.Normalize(vmin=start_val, vmax=stop_val)\n",
    "    self.scalarMap = cm.ScalarMappable(norm=self.norm, cmap=self.cmap)\n",
    "\n",
    "  def get_rgb(self, val):\n",
    "    return self.scalarMap.to_rgba(val)\n",
    "\n",
    "for i in model.feature_pos:\n",
    "    if model.feature_pos[i][0] not in feature_val_idxs:\n",
    "        feature_val_idxs[model.feature_pos[i][0]] = i\n",
    "        \n",
    "max_ctr = lr.coef_[0].max()\n",
    "min_ctr = -lr.coef_[0].min()\n",
    "blues = MplColorHelper('Blues', 0, 1)\n",
    "reds = MplColorHelper('Reds', 0, 1)\n",
    "\n",
    "def display_rule(id, i):\n",
    "    conds, output = model.interpret_path(model.paths[i])\n",
    "    vec = lr_mat[i]\n",
    "    text = '<b>IF </b> '\n",
    "    for (feature, op, val) in conds:\n",
    "        idx = feature_val_idxs[feature]\n",
    "        ctr = np.sum(lr.coef_[0][idx] * vec[idx])\n",
    "        if ctr > 0:\n",
    "            ctr /= max_ctr\n",
    "        else:\n",
    "            ctr /= min_ctr\n",
    "        cond_text = feature + ' ' + op + ' ' + str(val)\n",
    "        if ctr > 0:\n",
    "            rgb = blues.get_rgb(ctr * 0.9 + 0.1)\n",
    "        else:\n",
    "            rgb = reds.get_rgb(-ctr * 0.9 + 0.1)\n",
    "        \n",
    "        text_color = 'white' if np.abs(ctr) > 0.15 else 'black'\n",
    "        bgcolor = 'rgb(%d,%d,%d)' % (int(rgb[0] * 255), int(rgb[1] * 255), int(rgb[2] * 255))\n",
    "        if np.abs(ctr) < 0.03:\n",
    "            bgcolor = 'white'\n",
    "\n",
    "        text += ' <span style=\"background-color: %s; color:%s;\">%s</span>, ' % \\\n",
    "            (bgcolor, text_color, cond_text)\n",
    "    text = text[:-2] + ' '\n",
    "    text += '<b>THEN </b> ' + output\n",
    "    display(HTML('#%d, %d, LR: %.2f, Confidence: %.2f, Consistency: %.2f' % (id, i, score1[i], score3[i], score2[i])))\n",
    "    display(HTML(text))\n"
   ]
  },
  {
   "cell_type": "code",
   "execution_count": 47,
   "metadata": {},
   "outputs": [],
   "source": [
    "export_rules_to_csv('csv/0714_loci_top100', model, loci_outlier2)"
   ]
  },
  {
   "cell_type": "code",
   "execution_count": 46,
   "metadata": {},
   "outputs": [
    {
     "data": {
      "text/html": [
       "#0, 8212, LR: 0.10, Confidence: 0.33, Consistency: 0.00"
      ],
      "text/plain": [
       "<IPython.core.display.HTML object>"
      ]
     },
     "metadata": {},
     "output_type": "display_data"
    },
    {
     "data": {
      "text/html": [
       "<b>IF </b>  <span style=\"background-color: rgb(187,214,235); color:white;\">credit_history is all credits at this bank paid back duly</span>,  <span style=\"background-color: rgb(253,218,202); color:black;\">installment_rate is not < 20</span>,  <span style=\"background-color: white; color:black;\">property is not car or other</span>,  <span style=\"background-color: rgb(251,138,106); color:white;\">purpose is retraining</span> <b>THEN </b> accept"
      ],
      "text/plain": [
       "<IPython.core.display.HTML object>"
      ]
     },
     "metadata": {},
     "output_type": "display_data"
    },
    {
     "data": {
      "text/html": [
       "#1, 6957, LR: 0.01, Confidence: 0.22, Consistency: 0.00"
      ],
      "text/plain": [
       "<IPython.core.display.HTML object>"
      ]
     },
     "metadata": {},
     "output_type": "display_data"
    },
    {
     "data": {
      "text/html": [
       "<b>IF </b>  <span style=\"background-color: rgb(253,220,205); color:black;\">personal_status_sex is married male</span>,  <span style=\"background-color: rgb(187,214,235); color:white;\">credit_history is all credits at this bank paid back duly</span>,  <span style=\"background-color: rgb(177,210,231); color:white;\">purpose is car (new)</span>,  <span style=\"background-color: rgb(251,114,82); color:white;\">duration >= 34</span> <b>THEN </b> accept"
      ],
      "text/plain": [
       "<IPython.core.display.HTML object>"
      ]
     },
     "metadata": {},
     "output_type": "display_data"
    },
    {
     "data": {
      "text/html": [
       "#2, 1863, LR: 0.72, Confidence: 0.75, Consistency: 0.00"
      ],
      "text/plain": [
       "<IPython.core.display.HTML object>"
      ]
     },
     "metadata": {},
     "output_type": "display_data"
    },
    {
     "data": {
      "text/html": [
       "<b>IF </b>  <span style=\"background-color: rgb(252,192,168); color:black;\">credit_history is not all credits at this bank paid back duly</span>,  <span style=\"background-color: white; color:black;\">number_credits is 1</span>,  <span style=\"background-color: rgb(252,194,171); color:black;\">status is not ... >= 200 DM (salary)</span>,  <span style=\"background-color: rgb(253,220,205); color:black;\">personal_status_sex is married male</span>,  <span style=\"background-color: rgb(251,138,106); color:white;\">purpose is retraining</span> <b>THEN </b> accept"
      ],
      "text/plain": [
       "<IPython.core.display.HTML object>"
      ]
     },
     "metadata": {},
     "output_type": "display_data"
    },
    {
     "data": {
      "text/html": [
       "#3, 9340, LR: 0.48, Confidence: 0.92, Consistency: 0.01"
      ],
      "text/plain": [
       "<IPython.core.display.HTML object>"
      ]
     },
     "metadata": {},
     "output_type": "display_data"
    },
    {
     "data": {
      "text/html": [
       "<b>IF </b>  <span style=\"background-color: rgb(251,138,106); color:white;\">credit_history is critical account/other credits elsewhere</span>,  <span style=\"background-color: rgb(213,229,244); color:black;\">savings is not unknown/no savings account</span>,  <span style=\"background-color: rgb(252,149,117); color:white;\">duration >= 22</span> <b>THEN </b> accept"
      ],
      "text/plain": [
       "<IPython.core.display.HTML object>"
      ]
     },
     "metadata": {},
     "output_type": "display_data"
    },
    {
     "data": {
      "text/html": [
       "#4, 8483, LR: 0.04, Confidence: 0.20, Consistency: 0.00"
      ],
      "text/plain": [
       "<IPython.core.display.HTML object>"
      ]
     },
     "metadata": {},
     "output_type": "display_data"
    },
    {
     "data": {
      "text/html": [
       "<b>IF </b>  <span style=\"background-color: rgb(252,199,177); color:black;\">property is not real estate</span>,  <span style=\"background-color: rgb(253,213,195); color:black;\">telephone is No</span>,  <span style=\"background-color: rgb(253,221,206); color:black;\">employment_duration is not >= 7 yrs</span>,  <span style=\"background-color: rgb(219,233,246); color:black;\">housing is own</span>,  <span style=\"background-color: rgb(252,192,168); color:black;\">credit_history is not all credits at this bank paid back duly</span>,  <span style=\"background-color: white; color:black;\">amount >= 1181</span>,  <span style=\"background-color: rgb(177,210,231); color:white;\">purpose is car (new)</span> <b>THEN </b> accept"
      ],
      "text/plain": [
       "<IPython.core.display.HTML object>"
      ]
     },
     "metadata": {},
     "output_type": "display_data"
    },
    {
     "data": {
      "text/html": [
       "#5, 6641, LR: 0.14, Confidence: 0.73, Consistency: 0.00"
      ],
      "text/plain": [
       "<IPython.core.display.HTML object>"
      ]
     },
     "metadata": {},
     "output_type": "display_data"
    },
    {
     "data": {
      "text/html": [
       "<b>IF </b>  <span style=\"background-color: rgb(252,194,171); color:black;\">status is not ... >= 200 DM (salary)</span>,  <span style=\"background-color: white; color:black;\">present_residence is not < 1 yr</span>,  <span style=\"background-color: rgb(253,208,189); color:black;\">duration >= 10</span>,  <span style=\"background-color: rgb(253,208,189); color:black;\">purpose is not car (new)</span>,  <span style=\"background-color: white; color:black;\">property is building soc. savings agr./life insurance</span>,  <span style=\"background-color: rgb(207,225,242); color:black;\">other_debtors is guarantor</span> <b>THEN </b> accept"
      ],
      "text/plain": [
       "<IPython.core.display.HTML object>"
      ]
     },
     "metadata": {},
     "output_type": "display_data"
    },
    {
     "data": {
      "text/html": [
       "#6, 6956, LR: 0.00, Confidence: 0.00, Consistency: 0.00"
      ],
      "text/plain": [
       "<IPython.core.display.HTML object>"
      ]
     },
     "metadata": {},
     "output_type": "display_data"
    },
    {
     "data": {
      "text/html": [
       "<b>IF </b>  <span style=\"background-color: rgb(253,220,205); color:black;\">personal_status_sex is married male</span>,  <span style=\"background-color: rgb(187,214,235); color:white;\">credit_history is all credits at this bank paid back duly</span>,  <span style=\"background-color: rgb(177,210,231); color:white;\">purpose is car (new)</span>,  <span style=\"background-color: rgb(221,234,246); color:black;\">duration <= 34</span> <b>THEN </b> accept"
      ],
      "text/plain": [
       "<IPython.core.display.HTML object>"
      ]
     },
     "metadata": {},
     "output_type": "display_data"
    },
    {
     "data": {
      "text/html": [
       "#7, 5275, LR: 0.20, Confidence: 0.90, Consistency: 0.00"
      ],
      "text/plain": [
       "<IPython.core.display.HTML object>"
      ]
     },
     "metadata": {},
     "output_type": "display_data"
    },
    {
     "data": {
      "text/html": [
       "<b>IF </b>  <span style=\"background-color: rgb(252,153,122); color:white;\">other_installment_plans is bank</span>,  <span style=\"background-color: white; color:black;\">credit_history is not critical account/other credits elsewhere</span>,  <span style=\"background-color: rgb(220,233,246); color:black;\">job is unskilled and resident</span> <b>THEN </b> accept"
      ],
      "text/plain": [
       "<IPython.core.display.HTML object>"
      ]
     },
     "metadata": {},
     "output_type": "display_data"
    },
    {
     "data": {
      "text/html": [
       "#8, 3628, LR: 0.01, Confidence: 0.91, Consistency: 0.00"
      ],
      "text/plain": [
       "<IPython.core.display.HTML object>"
      ]
     },
     "metadata": {},
     "output_type": "display_data"
    },
    {
     "data": {
      "text/html": [
       "<b>IF </b>  <span style=\"background-color: rgb(187,214,235); color:white;\">credit_history is all credits at this bank paid back duly</span>,  <span style=\"background-color: white; color:black;\">number_credits is not 4 to 5</span>,  <span style=\"background-color: rgb(207,225,242); color:black;\">other_debtors is guarantor</span> <b>THEN </b> accept"
      ],
      "text/plain": [
       "<IPython.core.display.HTML object>"
      ]
     },
     "metadata": {},
     "output_type": "display_data"
    },
    {
     "data": {
      "text/html": [
       "#9, 7583, LR: 0.05, Confidence: 0.80, Consistency: 0.03"
      ],
      "text/plain": [
       "<IPython.core.display.HTML object>"
      ]
     },
     "metadata": {},
     "output_type": "display_data"
    },
    {
     "data": {
      "text/html": [
       "<b>IF </b>  <span style=\"background-color: white; color:black;\">employment_duration is not unemployed and < 1 yr</span>,  <span style=\"background-color: rgb(251,127,95); color:white;\">purpose is others</span>,  <span style=\"background-color: rgb(158,202,225); color:white;\">status is ... >= 200 DM (salary)</span>,  <span style=\"background-color: rgb(252,186,160); color:white;\">people_liable is 3 or more</span> <b>THEN </b> accept"
      ],
      "text/plain": [
       "<IPython.core.display.HTML object>"
      ]
     },
     "metadata": {},
     "output_type": "display_data"
    },
    {
     "data": {
      "text/html": [
       "#10, 537, LR: 0.66, Confidence: 0.92, Consistency: 0.03"
      ],
      "text/plain": [
       "<IPython.core.display.HTML object>"
      ]
     },
     "metadata": {},
     "output_type": "display_data"
    },
    {
     "data": {
      "text/html": [
       "<b>IF </b>  <span style=\"background-color: white; color:black;\">purpose is not others and furniture/equipment</span>,  <span style=\"background-color: rgb(252,164,135); color:white;\">credit_history is not existing credits paid back duly till now and all credits at this bank paid back duly</span>,  <span style=\"background-color: white; color:black;\">savings is unknown/no savings account</span>,  <span style=\"background-color: white; color:black;\">people_liable is 0 to 2</span>,  <span style=\"background-color: rgb(253,206,186); color:black;\">personal_status_sex is not married male</span>,  <span style=\"background-color: rgb(252,158,128); color:white;\">housing is rent</span> <b>THEN </b> accept"
      ],
      "text/plain": [
       "<IPython.core.display.HTML object>"
      ]
     },
     "metadata": {},
     "output_type": "display_data"
    },
    {
     "data": {
      "text/html": [
       "#11, 9112, LR: 0.00, Confidence: 0.00, Consistency: 0.00"
      ],
      "text/plain": [
       "<IPython.core.display.HTML object>"
      ]
     },
     "metadata": {},
     "output_type": "display_data"
    },
    {
     "data": {
      "text/html": [
       "<b>IF </b>  <span style=\"background-color: rgb(205,223,241); color:black;\">duration <= 15</span>,  <span style=\"background-color: rgb(219,233,246); color:black;\">other_installment_plans is none</span>,  <span style=\"background-color: rgb(167,206,228); color:white;\">status is not no checking account and ... < 0 DM</span>,  <span style=\"background-color: rgb(177,210,231); color:white;\">purpose is car (new)</span> <b>THEN </b> accept"
      ],
      "text/plain": [
       "<IPython.core.display.HTML object>"
      ]
     },
     "metadata": {},
     "output_type": "display_data"
    },
    {
     "data": {
      "text/html": [
       "#12, 674, LR: 0.04, Confidence: 0.50, Consistency: 0.00"
      ],
      "text/plain": [
       "<IPython.core.display.HTML object>"
      ]
     },
     "metadata": {},
     "output_type": "display_data"
    },
    {
     "data": {
      "text/html": [
       "<b>IF </b>  <span style=\"background-color: rgb(158,202,225); color:white;\">status is ... >= 200 DM (salary)</span>,  <span style=\"background-color: rgb(253,214,197); color:black;\">credit_history is not existing credits paid back duly till now</span>,  <span style=\"background-color: white; color:black;\">amount <= 3882</span>,  <span style=\"background-color: rgb(253,212,194); color:black;\">other_debtors is none</span>,  <span style=\"background-color: rgb(252,153,122); color:white;\">other_installment_plans is bank</span> <b>THEN </b> accept"
      ],
      "text/plain": [
       "<IPython.core.display.HTML object>"
      ]
     },
     "metadata": {},
     "output_type": "display_data"
    },
    {
     "data": {
      "text/html": [
       "#13, 119, LR: 0.75, Confidence: 0.90, Consistency: 0.03"
      ],
      "text/plain": [
       "<IPython.core.display.HTML object>"
      ]
     },
     "metadata": {},
     "output_type": "display_data"
    },
    {
     "data": {
      "text/html": [
       "<b>IF </b>  <span style=\"background-color: rgb(252,194,171); color:black;\">status is not ... >= 200 DM (salary)</span>,  <span style=\"background-color: rgb(253,220,205); color:black;\">duration >= 7</span>,  <span style=\"background-color: rgb(251,127,95); color:white;\">purpose is others</span>,  <span style=\"background-color: rgb(252,186,160); color:white;\">people_liable is 3 or more</span> <b>THEN </b> accept"
      ],
      "text/plain": [
       "<IPython.core.display.HTML object>"
      ]
     },
     "metadata": {},
     "output_type": "display_data"
    },
    {
     "data": {
      "text/html": [
       "#14, 664, LR: 0.05, Confidence: 0.18, Consistency: 0.00"
      ],
      "text/plain": [
       "<IPython.core.display.HTML object>"
      ]
     },
     "metadata": {},
     "output_type": "display_data"
    },
    {
     "data": {
      "text/html": [
       "<b>IF </b>  <span style=\"background-color: rgb(252,194,171); color:black;\">status is not ... >= 200 DM (salary)</span>,  <span style=\"background-color: rgb(187,214,235); color:white;\">credit_history is all credits at this bank paid back duly</span>,  <span style=\"background-color: rgb(253,208,189); color:black;\">number_credits is 4 to 5</span> <b>THEN </b> accept"
      ],
      "text/plain": [
       "<IPython.core.display.HTML object>"
      ]
     },
     "metadata": {},
     "output_type": "display_data"
    },
    {
     "data": {
      "text/html": [
       "#15, 5346, LR: 0.04, Confidence: 0.86, Consistency: 0.00"
      ],
      "text/plain": [
       "<IPython.core.display.HTML object>"
      ]
     },
     "metadata": {},
     "output_type": "display_data"
    },
    {
     "data": {
      "text/html": [
       "<b>IF </b>  <span style=\"background-color: rgb(252,194,171); color:black;\">status is not ... >= 200 DM (salary)</span>,  <span style=\"background-color: rgb(253,222,208); color:black;\">job is not unskilled and resident</span>,  <span style=\"background-color: rgb(253,213,195); color:black;\">telephone is No</span>,  <span style=\"background-color: rgb(177,210,231); color:white;\">purpose is car (new)</span> <b>THEN </b> accept"
      ],
      "text/plain": [
       "<IPython.core.display.HTML object>"
      ]
     },
     "metadata": {},
     "output_type": "display_data"
    },
    {
     "data": {
      "text/html": [
       "#16, 4163, LR: 0.08, Confidence: 0.33, Consistency: 0.00"
      ],
      "text/plain": [
       "<IPython.core.display.HTML object>"
      ]
     },
     "metadata": {},
     "output_type": "display_data"
    },
    {
     "data": {
      "text/html": [
       "<b>IF </b>  <span style=\"background-color: white; color:black;\">property is not unknown / no property</span>,  <span style=\"background-color: white; color:black;\">savings is unknown/no savings account or < 100 DM</span>,  <span style=\"background-color: rgb(252,194,171); color:black;\">status is not ... >= 200 DM (salary)</span>,  <span style=\"background-color: white; color:black;\">people_liable is 0 to 2</span>,  <span style=\"background-color: rgb(253,206,186); color:black;\">personal_status_sex is not married male</span>,  <span style=\"background-color: rgb(207,225,242); color:black;\">other_debtors is guarantor</span> <b>THEN </b> accept"
      ],
      "text/plain": [
       "<IPython.core.display.HTML object>"
      ]
     },
     "metadata": {},
     "output_type": "display_data"
    },
    {
     "data": {
      "text/html": [
       "#17, 3629, LR: 0.03, Confidence: 0.12, Consistency: 0.00"
      ],
      "text/plain": [
       "<IPython.core.display.HTML object>"
      ]
     },
     "metadata": {},
     "output_type": "display_data"
    },
    {
     "data": {
      "text/html": [
       "<b>IF </b>  <span style=\"background-color: rgb(187,214,235); color:white;\">credit_history is all credits at this bank paid back duly</span>,  <span style=\"background-color: rgb(253,208,189); color:black;\">number_credits is 4 to 5</span> <b>THEN </b> accept"
      ],
      "text/plain": [
       "<IPython.core.display.HTML object>"
      ]
     },
     "metadata": {},
     "output_type": "display_data"
    },
    {
     "data": {
      "text/html": [
       "#18, 4051, LR: 0.03, Confidence: 0.88, Consistency: 0.01"
      ],
      "text/plain": [
       "<IPython.core.display.HTML object>"
      ]
     },
     "metadata": {},
     "output_type": "display_data"
    },
    {
     "data": {
      "text/html": [
       "<b>IF </b>  <span style=\"background-color: white; color:black;\">telephone is Yes</span>,  <span style=\"background-color: rgb(167,206,228); color:white;\">status is not no checking account and ... < 0 DM</span>,  <span style=\"background-color: rgb(251,138,106); color:white;\">purpose is retraining</span> <b>THEN </b> accept"
      ],
      "text/plain": [
       "<IPython.core.display.HTML object>"
      ]
     },
     "metadata": {},
     "output_type": "display_data"
    },
    {
     "data": {
      "text/html": [
       "#19, 2857, LR: 0.09, Confidence: 0.11, Consistency: 0.00"
      ],
      "text/plain": [
       "<IPython.core.display.HTML object>"
      ]
     },
     "metadata": {},
     "output_type": "display_data"
    },
    {
     "data": {
      "text/html": [
       "<b>IF </b>  <span style=\"background-color: rgb(253,213,195); color:black;\">telephone is No</span>,  <span style=\"background-color: rgb(253,219,203); color:black;\">purpose is not furniture/equipment</span>,  <span style=\"background-color: rgb(212,228,243); color:black;\">foreign_worker is Yes</span> <b>THEN </b> accept"
      ],
      "text/plain": [
       "<IPython.core.display.HTML object>"
      ]
     },
     "metadata": {},
     "output_type": "display_data"
    },
    {
     "data": {
      "text/html": [
       "#20, 925, LR: 0.15, Confidence: 0.83, Consistency: 0.00"
      ],
      "text/plain": [
       "<IPython.core.display.HTML object>"
      ]
     },
     "metadata": {},
     "output_type": "display_data"
    },
    {
     "data": {
      "text/html": [
       "<b>IF </b>  <span style=\"background-color: rgb(253,213,195); color:black;\">telephone is No</span>,  <span style=\"background-color: rgb(253,219,203); color:black;\">purpose is not furniture/equipment</span>,  <span style=\"background-color: white; color:black;\">savings is not 500 to 1000 DM and >= 1000 DM</span>,  <span style=\"background-color: rgb(252,194,171); color:black;\">status is not ... >= 200 DM (salary)</span>,  <span style=\"background-color: rgb(212,228,243); color:black;\">foreign_worker is Yes</span> <b>THEN </b> accept"
      ],
      "text/plain": [
       "<IPython.core.display.HTML object>"
      ]
     },
     "metadata": {},
     "output_type": "display_data"
    },
    {
     "data": {
      "text/html": [
       "#21, 8561, LR: 0.00, Confidence: 0.00, Consistency: 0.00"
      ],
      "text/plain": [
       "<IPython.core.display.HTML object>"
      ]
     },
     "metadata": {},
     "output_type": "display_data"
    },
    {
     "data": {
      "text/html": [
       "<b>IF </b>  <span style=\"background-color: rgb(219,233,246); color:black;\">other_installment_plans is none</span>,  <span style=\"background-color: rgb(253,214,197); color:black;\">credit_history is no credits taken/all credits paid back duly</span>,  <span style=\"background-color: rgb(158,202,225); color:white;\">status is ... >= 200 DM (salary)</span>,  <span style=\"background-color: rgb(253,218,202); color:black;\">installment_rate is not < 20</span>,  <span style=\"background-color: rgb(177,210,231); color:white;\">purpose is car (new)</span> <b>THEN </b> accept"
      ],
      "text/plain": [
       "<IPython.core.display.HTML object>"
      ]
     },
     "metadata": {},
     "output_type": "display_data"
    },
    {
     "data": {
      "text/html": [
       "#22, 5139, LR: 0.01, Confidence: 0.88, Consistency: 0.00"
      ],
      "text/plain": [
       "<IPython.core.display.HTML object>"
      ]
     },
     "metadata": {},
     "output_type": "display_data"
    },
    {
     "data": {
      "text/html": [
       "<b>IF </b>  <span style=\"background-color: white; color:black;\">credit_history is no credits taken/all credits paid back duly</span>,  <span style=\"background-color: rgb(158,202,225); color:white;\">status is ... >= 200 DM (salary)</span>,  <span style=\"background-color: rgb(253,219,203); color:black;\">purpose is not furniture/equipment</span>,  <span style=\"background-color: white; color:black;\">number_credits is 2 to 3</span> <b>THEN </b> accept"
      ],
      "text/plain": [
       "<IPython.core.display.HTML object>"
      ]
     },
     "metadata": {},
     "output_type": "display_data"
    },
    {
     "data": {
      "text/html": [
       "#23, 8116, LR: 0.29, Confidence: 0.73, Consistency: 0.00"
      ],
      "text/plain": [
       "<IPython.core.display.HTML object>"
      ]
     },
     "metadata": {},
     "output_type": "display_data"
    },
    {
     "data": {
      "text/html": [
       "<b>IF </b>  <span style=\"background-color: rgb(252,153,122); color:white;\">other_installment_plans is bank</span>,  <span style=\"background-color: rgb(252,194,171); color:black;\">status is not ... >= 200 DM (salary)</span>,  <span style=\"background-color: white; color:black;\">property is not car or other</span>,  <span style=\"background-color: white; color:black;\">credit_history is no credits taken/all credits paid back duly</span>,  <span style=\"background-color: rgb(212,228,243); color:black;\">installment_rate is not 25 to 35 and >= 35</span> <b>THEN </b> accept"
      ],
      "text/plain": [
       "<IPython.core.display.HTML object>"
      ]
     },
     "metadata": {},
     "output_type": "display_data"
    },
    {
     "data": {
      "text/html": [
       "#24, 9013, LR: 0.11, Confidence: 0.80, Consistency: 0.00"
      ],
      "text/plain": [
       "<IPython.core.display.HTML object>"
      ]
     },
     "metadata": {},
     "output_type": "display_data"
    },
    {
     "data": {
      "text/html": [
       "<b>IF </b>  <span style=\"background-color: rgb(219,233,246); color:black;\">other_installment_plans is none</span>,  <span style=\"background-color: white; color:black;\">purpose is not others</span>,  <span style=\"background-color: rgb(252,192,168); color:black;\">credit_history is no credits taken/all credits paid back duly</span>,  <span style=\"background-color: rgb(252,177,150); color:white;\">age <= 23</span>,  <span style=\"background-color: white; color:black;\">telephone is Yes</span>,  <span style=\"background-color: rgb(209,226,242); color:black;\">property is real estate</span> <b>THEN </b> accept"
      ],
      "text/plain": [
       "<IPython.core.display.HTML object>"
      ]
     },
     "metadata": {},
     "output_type": "display_data"
    },
    {
     "data": {
      "text/html": [
       "#25, 7957, LR: 0.38, Confidence: 0.67, Consistency: 0.01"
      ],
      "text/plain": [
       "<IPython.core.display.HTML object>"
      ]
     },
     "metadata": {},
     "output_type": "display_data"
    },
    {
     "data": {
      "text/html": [
       "<b>IF </b>  <span style=\"background-color: rgb(252,194,171); color:black;\">status is not ... >= 200 DM (salary)</span>,  <span style=\"background-color: white; color:black;\">present_residence is not < 1 yr</span>,  <span style=\"background-color: white; color:black;\">telephone is Yes</span>,  <span style=\"background-color: rgb(251,138,106); color:white;\">purpose is retraining</span>,  <span style=\"background-color: rgb(218,232,245); color:black;\">duration <= 28</span> <b>THEN </b> accept"
      ],
      "text/plain": [
       "<IPython.core.display.HTML object>"
      ]
     },
     "metadata": {},
     "output_type": "display_data"
    },
    {
     "data": {
      "text/html": [
       "#26, 1099, LR: 0.77, Confidence: 0.84, Consistency: 0.00"
      ],
      "text/plain": [
       "<IPython.core.display.HTML object>"
      ]
     },
     "metadata": {},
     "output_type": "display_data"
    },
    {
     "data": {
      "text/html": [
       "<b>IF </b>  <span style=\"background-color: rgb(252,194,171); color:black;\">status is not ... >= 200 DM (salary)</span>,  <span style=\"background-color: rgb(252,192,168); color:black;\">credit_history is no credits taken/all credits paid back duly</span>,  <span style=\"background-color: white; color:black;\">foreign_worker is No</span>,  <span style=\"background-color: rgb(253,213,195); color:black;\">telephone is No</span>,  <span style=\"background-color: white; color:black;\">present_residence is not < 1 yr</span>,  <span style=\"background-color: rgb(251,127,95); color:white;\">purpose is others</span>,  <span style=\"background-color: white; color:black;\">amount >= 1380</span> <b>THEN </b> accept"
      ],
      "text/plain": [
       "<IPython.core.display.HTML object>"
      ]
     },
     "metadata": {},
     "output_type": "display_data"
    },
    {
     "data": {
      "text/html": [
       "#27, 5954, LR: 0.05, Confidence: 0.36, Consistency: 0.00"
      ],
      "text/plain": [
       "<IPython.core.display.HTML object>"
      ]
     },
     "metadata": {},
     "output_type": "display_data"
    },
    {
     "data": {
      "text/html": [
       "<b>IF </b>  <span style=\"background-color: rgb(187,214,235); color:white;\">credit_history is all credits at this bank paid back duly</span>,  <span style=\"background-color: rgb(252,172,144); color:white;\">duration >= 15</span>,  <span style=\"background-color: white; color:black;\">telephone is Yes</span>,  <span style=\"background-color: rgb(217,231,245); color:black;\">age >= 35</span>,  <span style=\"background-color: rgb(252,186,160); color:white;\">people_liable is 3 or more</span> <b>THEN </b> accept"
      ],
      "text/plain": [
       "<IPython.core.display.HTML object>"
      ]
     },
     "metadata": {},
     "output_type": "display_data"
    },
    {
     "data": {
      "text/html": [
       "#28, 6723, LR: 0.39, Confidence: 0.76, Consistency: 0.00"
      ],
      "text/plain": [
       "<IPython.core.display.HTML object>"
      ]
     },
     "metadata": {},
     "output_type": "display_data"
    },
    {
     "data": {
      "text/html": [
       "<b>IF </b>  <span style=\"background-color: rgb(252,199,177); color:black;\">property is not real estate</span>,  <span style=\"background-color: white; color:black;\">telephone is Yes</span>,  <span style=\"background-color: white; color:black;\">credit_history is not delay in paying off in the past</span>,  <span style=\"background-color: rgb(251,138,106); color:white;\">purpose is retraining</span> <b>THEN </b> accept"
      ],
      "text/plain": [
       "<IPython.core.display.HTML object>"
      ]
     },
     "metadata": {},
     "output_type": "display_data"
    },
    {
     "data": {
      "text/html": [
       "#29, 3531, LR: 0.94, Confidence: 0.17, Consistency: 0.00"
      ],
      "text/plain": [
       "<IPython.core.display.HTML object>"
      ]
     },
     "metadata": {},
     "output_type": "display_data"
    },
    {
     "data": {
      "text/html": [
       "<b>IF </b>  <span style=\"background-color: rgb(252,172,144); color:white;\">duration >= 15</span>,  <span style=\"background-color: rgb(251,127,95); color:white;\">purpose is others</span>,  <span style=\"background-color: rgb(252,175,147); color:white;\">status is not 0 to 200 DM and ... >= 200 DM (salary)</span>,  <span style=\"background-color: white; color:black;\">employment_duration is not unemployed and < 1 yr</span>,  <span style=\"background-color: rgb(253,222,208); color:black;\">job is not unskilled and resident</span>,  <span style=\"background-color: rgb(251,138,106); color:white;\">credit_history is critical account/other credits elsewhere</span> <b>THEN </b> accept"
      ],
      "text/plain": [
       "<IPython.core.display.HTML object>"
      ]
     },
     "metadata": {},
     "output_type": "display_data"
    },
    {
     "data": {
      "text/html": [
       "#30, 5700, LR: 0.44, Confidence: 0.75, Consistency: 0.03"
      ],
      "text/plain": [
       "<IPython.core.display.HTML object>"
      ]
     },
     "metadata": {},
     "output_type": "display_data"
    },
    {
     "data": {
      "text/html": [
       "<b>IF </b>  <span style=\"background-color: rgb(252,201,180); color:black;\">savings is not 500 to 1000 DM and >= 1000 DM</span>,  <span style=\"background-color: rgb(252,158,128); color:white;\">housing is rent</span>,  <span style=\"background-color: rgb(253,212,194); color:black;\">employment_duration is not 4 to 7 yrs and >= 7 yrs</span>,  <span style=\"background-color: rgb(253,218,202); color:black;\">installment_rate is not < 20</span>,  <span style=\"background-color: rgb(218,232,245); color:black;\">age >= 33</span>,  <span style=\"background-color: white; color:black;\">number_credits is 1</span> <b>THEN </b> accept"
      ],
      "text/plain": [
       "<IPython.core.display.HTML object>"
      ]
     },
     "metadata": {},
     "output_type": "display_data"
    },
    {
     "data": {
      "text/html": [
       "#31, 1280, LR: 0.02, Confidence: 0.67, Consistency: 0.00"
      ],
      "text/plain": [
       "<IPython.core.display.HTML object>"
      ]
     },
     "metadata": {},
     "output_type": "display_data"
    },
    {
     "data": {
      "text/html": [
       "<b>IF </b>  <span style=\"background-color: rgb(253,223,209); color:black;\">property is not real estate</span>,  <span style=\"background-color: white; color:black;\">savings is unknown/no savings account or < 100 DM</span>,  <span style=\"background-color: rgb(253,213,195); color:black;\">telephone is No</span>,  <span style=\"background-color: rgb(177,210,231); color:white;\">purpose is car (new)</span> <b>THEN </b> accept"
      ],
      "text/plain": [
       "<IPython.core.display.HTML object>"
      ]
     },
     "metadata": {},
     "output_type": "display_data"
    },
    {
     "data": {
      "text/html": [
       "#32, 4575, LR: 0.03, Confidence: 0.00, Consistency: 0.00"
      ],
      "text/plain": [
       "<IPython.core.display.HTML object>"
      ]
     },
     "metadata": {},
     "output_type": "display_data"
    },
    {
     "data": {
      "text/html": [
       "<b>IF </b>  <span style=\"background-color: rgb(212,228,243); color:black;\">purpose is furniture/equipment</span>,  <span style=\"background-color: rgb(218,232,245); color:black;\">employment_duration is 4 to 7 yrs or >= 7 yrs</span>,  <span style=\"background-color: white; color:black;\">amount in 1184 to 3608</span>,  <span style=\"background-color: white; color:black;\">telephone is Yes</span>,  <span style=\"background-color: white; color:black;\">number_credits is 1</span> <b>THEN </b> accept"
      ],
      "text/plain": [
       "<IPython.core.display.HTML object>"
      ]
     },
     "metadata": {},
     "output_type": "display_data"
    },
    {
     "data": {
      "text/html": [
       "#33, 1609, LR: 0.32, Confidence: 0.27, Consistency: 0.00"
      ],
      "text/plain": [
       "<IPython.core.display.HTML object>"
      ]
     },
     "metadata": {},
     "output_type": "display_data"
    },
    {
     "data": {
      "text/html": [
       "<b>IF </b>  <span style=\"background-color: white; color:black;\">telephone is Yes</span>,  <span style=\"background-color: white; color:black;\">amount <= 4190</span>,  <span style=\"background-color: rgb(253,218,202); color:black;\">property is not building soc. savings agr./life insurance</span>,  <span style=\"background-color: rgb(252,153,122); color:white;\">other_installment_plans is bank</span> <b>THEN </b> accept"
      ],
      "text/plain": [
       "<IPython.core.display.HTML object>"
      ]
     },
     "metadata": {},
     "output_type": "display_data"
    },
    {
     "data": {
      "text/html": [
       "#34, 6607, LR: 0.24, Confidence: 0.86, Consistency: 0.00"
      ],
      "text/plain": [
       "<IPython.core.display.HTML object>"
      ]
     },
     "metadata": {},
     "output_type": "display_data"
    },
    {
     "data": {
      "text/html": [
       "<b>IF </b>  <span style=\"background-color: rgb(216,231,245); color:black;\">credit_history is existing credits paid back duly till now</span>,  <span style=\"background-color: rgb(251,138,106); color:white;\">purpose is retraining</span> <b>THEN </b> accept"
      ],
      "text/plain": [
       "<IPython.core.display.HTML object>"
      ]
     },
     "metadata": {},
     "output_type": "display_data"
    },
    {
     "data": {
      "text/html": [
       "#35, 4766, LR: 0.02, Confidence: 0.64, Consistency: 0.00"
      ],
      "text/plain": [
       "<IPython.core.display.HTML object>"
      ]
     },
     "metadata": {},
     "output_type": "display_data"
    },
    {
     "data": {
      "text/html": [
       "<b>IF </b>  <span style=\"background-color: rgb(253,214,197); color:black;\">amount >= 4146</span>,  <span style=\"background-color: rgb(177,210,231); color:white;\">purpose is car (new)</span>,  <span style=\"background-color: white; color:black;\">number_credits is 1</span> <b>THEN </b> accept"
      ],
      "text/plain": [
       "<IPython.core.display.HTML object>"
      ]
     },
     "metadata": {},
     "output_type": "display_data"
    },
    {
     "data": {
      "text/html": [
       "#36, 8117, LR: 0.63, Confidence: 0.84, Consistency: 0.00"
      ],
      "text/plain": [
       "<IPython.core.display.HTML object>"
      ]
     },
     "metadata": {},
     "output_type": "display_data"
    },
    {
     "data": {
      "text/html": [
       "<b>IF </b>  <span style=\"background-color: rgb(252,153,122); color:white;\">other_installment_plans is bank</span>,  <span style=\"background-color: rgb(252,194,171); color:black;\">status is not ... >= 200 DM (salary)</span>,  <span style=\"background-color: white; color:black;\">property is not car or other</span>,  <span style=\"background-color: white; color:black;\">credit_history is no credits taken/all credits paid back duly</span>,  <span style=\"background-color: rgb(252,193,169); color:black;\">installment_rate is not < 20 and 20 to 25</span> <b>THEN </b> accept"
      ],
      "text/plain": [
       "<IPython.core.display.HTML object>"
      ]
     },
     "metadata": {},
     "output_type": "display_data"
    },
    {
     "data": {
      "text/html": [
       "#37, 858, LR: 0.05, Confidence: 0.35, Consistency: 0.00"
      ],
      "text/plain": [
       "<IPython.core.display.HTML object>"
      ]
     },
     "metadata": {},
     "output_type": "display_data"
    },
    {
     "data": {
      "text/html": [
       "<b>IF </b>  <span style=\"background-color: rgb(252,194,171); color:black;\">status is not ... >= 200 DM (salary)</span>,  <span style=\"background-color: rgb(209,226,242); color:black;\">property is real estate</span>,  <span style=\"background-color: white; color:black;\">foreign_worker is No</span>,  <span style=\"background-color: rgb(218,232,245); color:black;\">employment_duration is 4 to 7 yrs or >= 7 yrs</span>,  <span style=\"background-color: white; color:black;\">number_credits is 1</span> <b>THEN </b> accept"
      ],
      "text/plain": [
       "<IPython.core.display.HTML object>"
      ]
     },
     "metadata": {},
     "output_type": "display_data"
    },
    {
     "data": {
      "text/html": [
       "#38, 7444, LR: 0.30, Confidence: 0.50, Consistency: 0.00"
      ],
      "text/plain": [
       "<IPython.core.display.HTML object>"
      ]
     },
     "metadata": {},
     "output_type": "display_data"
    },
    {
     "data": {
      "text/html": [
       "<b>IF </b>  <span style=\"background-color: white; color:black;\">credit_history is not critical account/other credits elsewhere and existing credits paid back duly till now</span>,  <span style=\"background-color: rgb(253,219,203); color:black;\">purpose is not furniture/equipment</span>,  <span style=\"background-color: white; color:black;\">telephone is Yes</span>,  <span style=\"background-color: white; color:black;\">people_liable is 0 to 2</span>,  <span style=\"background-color: rgb(252,176,148); color:white;\">housing is not own</span>,  <span style=\"background-color: rgb(253,214,197); color:black;\">property is car or other</span> <b>THEN </b> accept"
      ],
      "text/plain": [
       "<IPython.core.display.HTML object>"
      ]
     },
     "metadata": {},
     "output_type": "display_data"
    },
    {
     "data": {
      "text/html": [
       "#39, 7810, LR: 0.37, Confidence: 0.80, Consistency: 0.00"
      ],
      "text/plain": [
       "<IPython.core.display.HTML object>"
      ]
     },
     "metadata": {},
     "output_type": "display_data"
    },
    {
     "data": {
      "text/html": [
       "<b>IF </b>  <span style=\"background-color: white; color:black;\">other_installment_plans is not bank</span>,  <span style=\"background-color: rgb(219,233,246); color:black;\">housing is own</span>,  <span style=\"background-color: rgb(251,106,74); color:white;\">purpose is repairs</span> <b>THEN </b> accept"
      ],
      "text/plain": [
       "<IPython.core.display.HTML object>"
      ]
     },
     "metadata": {},
     "output_type": "display_data"
    },
    {
     "data": {
      "text/html": [
       "#40, 2150, LR: 0.04, Confidence: 0.86, Consistency: 0.06"
      ],
      "text/plain": [
       "<IPython.core.display.HTML object>"
      ]
     },
     "metadata": {},
     "output_type": "display_data"
    },
    {
     "data": {
      "text/html": [
       "<b>IF </b>  <span style=\"background-color: white; color:black;\">people_liable is 0 to 2</span>,  <span style=\"background-color: rgb(253,218,202); color:black;\">property is not building soc. savings agr./life insurance</span>,  <span style=\"background-color: rgb(253,219,203); color:black;\">purpose is not furniture/equipment</span>,  <span style=\"background-color: white; color:black;\">savings is unknown/no savings account or < 100 DM</span>,  <span style=\"background-color: white; color:black;\">telephone is Yes</span>,  <span style=\"background-color: rgb(216,231,245); color:black;\">credit_history is existing credits paid back duly till now</span>,  <span style=\"background-color: rgb(212,228,243); color:black;\">installment_rate is not 25 to 35 and >= 35</span> <b>THEN </b> accept"
      ],
      "text/plain": [
       "<IPython.core.display.HTML object>"
      ]
     },
     "metadata": {},
     "output_type": "display_data"
    },
    {
     "data": {
      "text/html": [
       "#41, 8854, LR: 0.05, Confidence: 0.53, Consistency: 0.00"
      ],
      "text/plain": [
       "<IPython.core.display.HTML object>"
      ]
     },
     "metadata": {},
     "output_type": "display_data"
    },
    {
     "data": {
      "text/html": [
       "<b>IF </b>  <span style=\"background-color: rgb(212,228,243); color:black;\">purpose is furniture/equipment</span>,  <span style=\"background-color: rgb(253,222,208); color:black;\">amount >= 1910</span>,  <span style=\"background-color: rgb(220,233,246); color:black;\">job is unskilled and resident</span> <b>THEN </b> accept"
      ],
      "text/plain": [
       "<IPython.core.display.HTML object>"
      ]
     },
     "metadata": {},
     "output_type": "display_data"
    },
    {
     "data": {
      "text/html": [
       "#42, 6820, LR: 0.02, Confidence: 0.44, Consistency: 0.00"
      ],
      "text/plain": [
       "<IPython.core.display.HTML object>"
      ]
     },
     "metadata": {},
     "output_type": "display_data"
    },
    {
     "data": {
      "text/html": [
       "<b>IF </b>  <span style=\"background-color: rgb(252,158,128); color:white;\">housing is rent</span>,  <span style=\"background-color: rgb(158,202,225); color:white;\">status is ... >= 200 DM (salary)</span>,  <span style=\"background-color: rgb(253,220,205); color:black;\">personal_status_sex is married male</span>,  <span style=\"background-color: rgb(220,233,246); color:black;\">job is unskilled and resident</span> <b>THEN </b> accept"
      ],
      "text/plain": [
       "<IPython.core.display.HTML object>"
      ]
     },
     "metadata": {},
     "output_type": "display_data"
    },
    {
     "data": {
      "text/html": [
       "#43, 8149, LR: 0.10, Confidence: 0.86, Consistency: 0.00"
      ],
      "text/plain": [
       "<IPython.core.display.HTML object>"
      ]
     },
     "metadata": {},
     "output_type": "display_data"
    },
    {
     "data": {
      "text/html": [
       "<b>IF </b>  <span style=\"background-color: rgb(252,194,171); color:black;\">status is not ... >= 200 DM (salary)</span>,  <span style=\"background-color: rgb(212,228,243); color:black;\">purpose is furniture/equipment</span>,  <span style=\"background-color: white; color:black;\">number_credits is 2 to 3</span>,  <span style=\"background-color: white; color:black;\">telephone is Yes</span> <b>THEN </b> accept"
      ],
      "text/plain": [
       "<IPython.core.display.HTML object>"
      ]
     },
     "metadata": {},
     "output_type": "display_data"
    },
    {
     "data": {
      "text/html": [
       "#44, 7393, LR: 0.15, Confidence: 0.94, Consistency: 0.00"
      ],
      "text/plain": [
       "<IPython.core.display.HTML object>"
      ]
     },
     "metadata": {},
     "output_type": "display_data"
    },
    {
     "data": {
      "text/html": [
       "<b>IF </b>  <span style=\"background-color: rgb(207,225,242); color:black;\">savings is not unknown/no savings account and < 100 DM</span>,  <span style=\"background-color: rgb(252,153,122); color:white;\">other_installment_plans is bank</span>,  <span style=\"background-color: white; color:black;\">job is skilled</span> <b>THEN </b> accept"
      ],
      "text/plain": [
       "<IPython.core.display.HTML object>"
      ]
     },
     "metadata": {},
     "output_type": "display_data"
    },
    {
     "data": {
      "text/html": [
       "#45, 2932, LR: 0.29, Confidence: 0.57, Consistency: 0.03"
      ],
      "text/plain": [
       "<IPython.core.display.HTML object>"
      ]
     },
     "metadata": {},
     "output_type": "display_data"
    },
    {
     "data": {
      "text/html": [
       "<b>IF </b>  <span style=\"background-color: rgb(252,172,144); color:white;\">duration >= 15</span>,  <span style=\"background-color: rgb(253,213,195); color:black;\">telephone is No</span>,  <span style=\"background-color: rgb(219,233,246); color:black;\">housing is own</span>,  <span style=\"background-color: rgb(253,208,189); color:black;\">job is highly skilled</span>,  <span style=\"background-color: white; color:black;\">amount <= 3816</span> <b>THEN </b> accept"
      ],
      "text/plain": [
       "<IPython.core.display.HTML object>"
      ]
     },
     "metadata": {},
     "output_type": "display_data"
    },
    {
     "data": {
      "text/html": [
       "#46, 3771, LR: 0.01, Confidence: 0.35, Consistency: 0.00"
      ],
      "text/plain": [
       "<IPython.core.display.HTML object>"
      ]
     },
     "metadata": {},
     "output_type": "display_data"
    },
    {
     "data": {
      "text/html": [
       "<b>IF </b>  <span style=\"background-color: rgb(207,225,242); color:black;\">savings is not unknown/no savings account and < 100 DM</span>,  <span style=\"background-color: rgb(203,222,240); color:black;\">status is not no checking account</span>,  <span style=\"background-color: white; color:black;\">amount <= 4077</span>,  <span style=\"background-color: white; color:black;\">number_credits is 1</span>,  <span style=\"background-color: rgb(221,234,246); color:black;\">purpose is car (used)</span> <b>THEN </b> accept"
      ],
      "text/plain": [
       "<IPython.core.display.HTML object>"
      ]
     },
     "metadata": {},
     "output_type": "display_data"
    },
    {
     "data": {
      "text/html": [
       "#47, 8811, LR: 0.00, Confidence: 0.40, Consistency: 0.00"
      ],
      "text/plain": [
       "<IPython.core.display.HTML object>"
      ]
     },
     "metadata": {},
     "output_type": "display_data"
    },
    {
     "data": {
      "text/html": [
       "<b>IF </b>  <span style=\"background-color: rgb(158,202,225); color:white;\">status is ... >= 200 DM (salary)</span>,  <span style=\"background-color: rgb(220,233,246); color:black;\">job is unskilled and resident</span>,  <span style=\"background-color: rgb(205,223,241); color:black;\">duration <= 16</span>,  <span style=\"background-color: white; color:black;\">credit_history is no credits taken/all credits paid back duly</span> <b>THEN </b> accept"
      ],
      "text/plain": [
       "<IPython.core.display.HTML object>"
      ]
     },
     "metadata": {},
     "output_type": "display_data"
    },
    {
     "data": {
      "text/html": [
       "#48, 859, LR: 0.04, Confidence: 0.00, Consistency: 0.00"
      ],
      "text/plain": [
       "<IPython.core.display.HTML object>"
      ]
     },
     "metadata": {},
     "output_type": "display_data"
    },
    {
     "data": {
      "text/html": [
       "<b>IF </b>  <span style=\"background-color: rgb(252,194,171); color:black;\">status is not ... >= 200 DM (salary)</span>,  <span style=\"background-color: rgb(209,226,242); color:black;\">property is real estate</span>,  <span style=\"background-color: rgb(212,228,243); color:black;\">foreign_worker is Yes</span> <b>THEN </b> accept"
      ],
      "text/plain": [
       "<IPython.core.display.HTML object>"
      ]
     },
     "metadata": {},
     "output_type": "display_data"
    },
    {
     "data": {
      "text/html": [
       "#49, 53, LR: 0.21, Confidence: 1.00, Consistency: 0.00"
      ],
      "text/plain": [
       "<IPython.core.display.HTML object>"
      ]
     },
     "metadata": {},
     "output_type": "display_data"
    },
    {
     "data": {
      "text/html": [
       "<b>IF </b>  <span style=\"background-color: rgb(252,192,168); color:black;\">credit_history is not all credits at this bank paid back duly</span>,  <span style=\"background-color: rgb(253,223,209); color:black;\">property is not real estate</span>,  <span style=\"background-color: white; color:black;\">savings is not >= 1000 DM</span>,  <span style=\"background-color: rgb(252,194,171); color:black;\">status is not ... >= 200 DM (salary)</span>,  <span style=\"background-color: white; color:black;\">purpose is not others</span>,  <span style=\"background-color: white; color:black;\">amount <= 1645</span>,  <span style=\"background-color: white; color:black;\">people_liable is 0 to 2</span>,  <span style=\"background-color: rgb(220,233,246); color:black;\">job is unskilled and resident</span> <b>THEN </b> accept"
      ],
      "text/plain": [
       "<IPython.core.display.HTML object>"
      ]
     },
     "metadata": {},
     "output_type": "display_data"
    },
    {
     "data": {
      "text/html": [
       "#50, 2896, LR: 0.06, Confidence: 0.44, Consistency: 0.00"
      ],
      "text/plain": [
       "<IPython.core.display.HTML object>"
      ]
     },
     "metadata": {},
     "output_type": "display_data"
    },
    {
     "data": {
      "text/html": [
       "<b>IF </b>  <span style=\"background-color: white; color:black;\">telephone is Yes</span>,  <span style=\"background-color: rgb(253,208,189); color:black;\">job is highly skilled</span>,  <span style=\"background-color: rgb(253,214,197); color:black;\">amount >= 4207</span>,  <span style=\"background-color: rgb(252,149,117); color:white;\">duration >= 23</span>,  <span style=\"background-color: rgb(218,232,245); color:black;\">age >= 33</span>,  <span style=\"background-color: rgb(187,214,235); color:white;\">credit_history is all credits at this bank paid back duly</span> <b>THEN </b> accept"
      ],
      "text/plain": [
       "<IPython.core.display.HTML object>"
      ]
     },
     "metadata": {},
     "output_type": "display_data"
    },
    {
     "data": {
      "text/html": [
       "#51, 2611, LR: 0.07, Confidence: 0.83, Consistency: 0.02"
      ],
      "text/plain": [
       "<IPython.core.display.HTML object>"
      ]
     },
     "metadata": {},
     "output_type": "display_data"
    },
    {
     "data": {
      "text/html": [
       "<b>IF </b>  <span style=\"background-color: white; color:black;\">telephone is Yes</span>,  <span style=\"background-color: white; color:black;\">amount <= 3939</span>,  <span style=\"background-color: white; color:black;\">job is not skilled</span>,  <span style=\"background-color: rgb(221,234,246); color:black;\">purpose is car (used)</span> <b>THEN </b> accept"
      ],
      "text/plain": [
       "<IPython.core.display.HTML object>"
      ]
     },
     "metadata": {},
     "output_type": "display_data"
    },
    {
     "data": {
      "text/html": [
       "#52, 6997, LR: 0.44, Confidence: 1.00, Consistency: 0.00"
      ],
      "text/plain": [
       "<IPython.core.display.HTML object>"
      ]
     },
     "metadata": {},
     "output_type": "display_data"
    },
    {
     "data": {
      "text/html": [
       "<b>IF </b>  <span style=\"background-color: rgb(251,127,95); color:white;\">purpose is others</span>,  <span style=\"background-color: white; color:black;\">telephone is Yes</span>,  <span style=\"background-color: white; color:black;\">job is skilled</span>,  <span style=\"background-color: rgb(253,221,206); color:black;\">amount >= 2128</span> <b>THEN </b> accept"
      ],
      "text/plain": [
       "<IPython.core.display.HTML object>"
      ]
     },
     "metadata": {},
     "output_type": "display_data"
    },
    {
     "data": {
      "text/html": [
       "#53, 7946, LR: 0.12, Confidence: 0.15, Consistency: 0.00"
      ],
      "text/plain": [
       "<IPython.core.display.HTML object>"
      ]
     },
     "metadata": {},
     "output_type": "display_data"
    },
    {
     "data": {
      "text/html": [
       "<b>IF </b>  <span style=\"background-color: rgb(252,194,171); color:black;\">status is not ... >= 200 DM (salary)</span>,  <span style=\"background-color: white; color:black;\">present_residence is not < 1 yr</span>,  <span style=\"background-color: rgb(253,213,195); color:black;\">telephone is No</span>,  <span style=\"background-color: rgb(212,228,243); color:black;\">foreign_worker is Yes</span> <b>THEN </b> accept"
      ],
      "text/plain": [
       "<IPython.core.display.HTML object>"
      ]
     },
     "metadata": {},
     "output_type": "display_data"
    },
    {
     "data": {
      "text/html": [
       "#54, 3003, LR: 0.17, Confidence: 0.75, Consistency: 0.00"
      ],
      "text/plain": [
       "<IPython.core.display.HTML object>"
      ]
     },
     "metadata": {},
     "output_type": "display_data"
    },
    {
     "data": {
      "text/html": [
       "<b>IF </b>  <span style=\"background-color: rgb(252,192,168); color:black;\">credit_history is not all credits at this bank paid back duly</span>,  <span style=\"background-color: rgb(212,228,243); color:black;\">installment_rate is not 25 to 35 and >= 35</span>,  <span style=\"background-color: white; color:black;\">amount <= 9504</span>,  <span style=\"background-color: white; color:black;\">number_credits is 1</span>,  <span style=\"background-color: rgb(252,176,148); color:white;\">housing is not own</span>,  <span style=\"background-color: rgb(221,234,246); color:black;\">purpose is car (used)</span> <b>THEN </b> accept"
      ],
      "text/plain": [
       "<IPython.core.display.HTML object>"
      ]
     },
     "metadata": {},
     "output_type": "display_data"
    },
    {
     "data": {
      "text/html": [
       "#55, 6996, LR: 0.35, Confidence: 0.11, Consistency: 0.00"
      ],
      "text/plain": [
       "<IPython.core.display.HTML object>"
      ]
     },
     "metadata": {},
     "output_type": "display_data"
    },
    {
     "data": {
      "text/html": [
       "<b>IF </b>  <span style=\"background-color: rgb(251,127,95); color:white;\">purpose is others</span>,  <span style=\"background-color: white; color:black;\">telephone is Yes</span>,  <span style=\"background-color: white; color:black;\">job is skilled</span>,  <span style=\"background-color: white; color:black;\">amount <= 2128</span> <b>THEN </b> accept"
      ],
      "text/plain": [
       "<IPython.core.display.HTML object>"
      ]
     },
     "metadata": {},
     "output_type": "display_data"
    },
    {
     "data": {
      "text/html": [
       "#56, 7542, LR: 0.53, Confidence: 0.88, Consistency: 0.00"
      ],
      "text/plain": [
       "<IPython.core.display.HTML object>"
      ]
     },
     "metadata": {},
     "output_type": "display_data"
    },
    {
     "data": {
      "text/html": [
       "<b>IF </b>  <span style=\"background-color: rgb(252,193,169); color:black;\">employment_duration is unemployed or < 1 yr</span>,  <span style=\"background-color: rgb(252,194,171); color:black;\">status is not ... >= 200 DM (salary)</span>,  <span style=\"background-color: rgb(253,212,194); color:black;\">other_debtors is none</span>,  <span style=\"background-color: rgb(252,193,169); color:black;\">housing is for free</span> <b>THEN </b> accept"
      ],
      "text/plain": [
       "<IPython.core.display.HTML object>"
      ]
     },
     "metadata": {},
     "output_type": "display_data"
    },
    {
     "data": {
      "text/html": [
       "#57, 88, LR: 0.03, Confidence: 0.91, Consistency: 0.00"
      ],
      "text/plain": [
       "<IPython.core.display.HTML object>"
      ]
     },
     "metadata": {},
     "output_type": "display_data"
    },
    {
     "data": {
      "text/html": [
       "<b>IF </b>  <span style=\"background-color: rgb(187,214,235); color:white;\">credit_history is all credits at this bank paid back duly</span>,  <span style=\"background-color: rgb(252,182,156); color:white;\">age <= 25</span>,  <span style=\"background-color: rgb(221,234,246); color:black;\">purpose is car (used)</span> <b>THEN </b> accept"
      ],
      "text/plain": [
       "<IPython.core.display.HTML object>"
      ]
     },
     "metadata": {},
     "output_type": "display_data"
    },
    {
     "data": {
      "text/html": [
       "#58, 8519, LR: 0.02, Confidence: 0.00, Consistency: 0.00"
      ],
      "text/plain": [
       "<IPython.core.display.HTML object>"
      ]
     },
     "metadata": {},
     "output_type": "display_data"
    },
    {
     "data": {
      "text/html": [
       "<b>IF </b>  <span style=\"background-color: rgb(209,226,242); color:black;\">property is real estate</span>,  <span style=\"background-color: rgb(212,228,243); color:black;\">foreign_worker is Yes</span> <b>THEN </b> accept"
      ],
      "text/plain": [
       "<IPython.core.display.HTML object>"
      ]
     },
     "metadata": {},
     "output_type": "display_data"
    },
    {
     "data": {
      "text/html": [
       "#59, 992, LR: 0.17, Confidence: 0.55, Consistency: 0.00"
      ],
      "text/plain": [
       "<IPython.core.display.HTML object>"
      ]
     },
     "metadata": {},
     "output_type": "display_data"
    },
    {
     "data": {
      "text/html": [
       "<b>IF </b>  <span style=\"background-color: rgb(252,175,147); color:white;\">status is not 0 to 200 DM and ... >= 200 DM (salary)</span>,  <span style=\"background-color: rgb(253,206,186); color:black;\">personal_status_sex is not married male</span>,  <span style=\"background-color: rgb(212,228,243); color:black;\">purpose is furniture/equipment</span>,  <span style=\"background-color: white; color:black;\">property is building soc. savings agr./life insurance</span> <b>THEN </b> accept"
      ],
      "text/plain": [
       "<IPython.core.display.HTML object>"
      ]
     },
     "metadata": {},
     "output_type": "display_data"
    },
    {
     "data": {
      "text/html": [
       "#60, 7859, LR: 0.01, Confidence: 0.00, Consistency: 0.00"
      ],
      "text/plain": [
       "<IPython.core.display.HTML object>"
      ]
     },
     "metadata": {},
     "output_type": "display_data"
    },
    {
     "data": {
      "text/html": [
       "<b>IF </b>  <span style=\"background-color: rgb(219,233,246); color:black;\">housing is own</span>,  <span style=\"background-color: rgb(215,230,244); color:black;\">employment_duration is >= 7 yrs</span>,  <span style=\"background-color: white; color:black;\">telephone is Yes</span>,  <span style=\"background-color: rgb(209,226,242); color:black;\">property is real estate</span>,  <span style=\"background-color: white; color:black;\">amount <= 4190</span>,  <span style=\"background-color: white; color:black;\">purpose is not retraining</span> <b>THEN </b> accept"
      ],
      "text/plain": [
       "<IPython.core.display.HTML object>"
      ]
     },
     "metadata": {},
     "output_type": "display_data"
    },
    {
     "data": {
      "text/html": [
       "#61, 4389, LR: 0.19, Confidence: 0.71, Consistency: 0.02"
      ],
      "text/plain": [
       "<IPython.core.display.HTML object>"
      ]
     },
     "metadata": {},
     "output_type": "display_data"
    },
    {
     "data": {
      "text/html": [
       "<b>IF </b>  <span style=\"background-color: white; color:black;\">telephone is Yes</span>,  <span style=\"background-color: rgb(252,189,163); color:white;\">other_debtors is co-applicant</span> <b>THEN </b> accept"
      ],
      "text/plain": [
       "<IPython.core.display.HTML object>"
      ]
     },
     "metadata": {},
     "output_type": "display_data"
    },
    {
     "data": {
      "text/html": [
       "#62, 7862, LR: 0.16, Confidence: 0.45, Consistency: 0.00"
      ],
      "text/plain": [
       "<IPython.core.display.HTML object>"
      ]
     },
     "metadata": {},
     "output_type": "display_data"
    },
    {
     "data": {
      "text/html": [
       "<b>IF </b>  <span style=\"background-color: rgb(219,233,246); color:black;\">housing is own</span>,  <span style=\"background-color: white; color:black;\">employment_duration is not unemployed and < 1 yr</span>,  <span style=\"background-color: white; color:black;\">telephone is Yes</span>,  <span style=\"background-color: white; color:black;\">property is not unknown / no property</span>,  <span style=\"background-color: white; color:black;\">amount <= 4190</span>,  <span style=\"background-color: rgb(251,138,106); color:white;\">purpose is retraining</span> <b>THEN </b> accept"
      ],
      "text/plain": [
       "<IPython.core.display.HTML object>"
      ]
     },
     "metadata": {},
     "output_type": "display_data"
    },
    {
     "data": {
      "text/html": [
       "#63, 6297, LR: 0.02, Confidence: 0.60, Consistency: 0.00"
      ],
      "text/plain": [
       "<IPython.core.display.HTML object>"
      ]
     },
     "metadata": {},
     "output_type": "display_data"
    },
    {
     "data": {
      "text/html": [
       "<b>IF </b>  <span style=\"background-color: rgb(252,192,168); color:black;\">credit_history is no credits taken/all credits paid back duly</span>,  <span style=\"background-color: rgb(158,202,225); color:white;\">status is ... >= 200 DM (salary)</span>,  <span style=\"background-color: rgb(219,233,246); color:black;\">other_installment_plans is none</span>,  <span style=\"background-color: rgb(219,233,246); color:black;\">age >= 31</span>,  <span style=\"background-color: rgb(252,172,144); color:white;\">duration >= 16</span>,  <span style=\"background-color: rgb(253,208,189); color:black;\">job is highly skilled</span> <b>THEN </b> accept"
      ],
      "text/plain": [
       "<IPython.core.display.HTML object>"
      ]
     },
     "metadata": {},
     "output_type": "display_data"
    },
    {
     "data": {
      "text/html": [
       "#64, 198, LR: 0.00, Confidence: 0.25, Consistency: 0.00"
      ],
      "text/plain": [
       "<IPython.core.display.HTML object>"
      ]
     },
     "metadata": {},
     "output_type": "display_data"
    },
    {
     "data": {
      "text/html": [
       "<b>IF </b>  <span style=\"background-color: rgb(207,225,242); color:black;\">savings is not unknown/no savings account and < 100 DM</span>,  <span style=\"background-color: rgb(187,214,235); color:white;\">credit_history is all credits at this bank paid back duly</span>,  <span style=\"background-color: rgb(158,202,225); color:white;\">status is ... >= 200 DM (salary)</span>,  <span style=\"background-color: white; color:black;\">number_credits is 1</span> <b>THEN </b> accept"
      ],
      "text/plain": [
       "<IPython.core.display.HTML object>"
      ]
     },
     "metadata": {},
     "output_type": "display_data"
    },
    {
     "data": {
      "text/html": [
       "#65, 4150, LR: 0.29, Confidence: 0.57, Consistency: 0.00"
      ],
      "text/plain": [
       "<IPython.core.display.HTML object>"
      ]
     },
     "metadata": {},
     "output_type": "display_data"
    },
    {
     "data": {
      "text/html": [
       "<b>IF </b>  <span style=\"background-color: white; color:black;\">property is not unknown / no property</span>,  <span style=\"background-color: white; color:black;\">savings is unknown/no savings account or < 100 DM</span>,  <span style=\"background-color: rgb(252,194,171); color:black;\">status is not ... >= 200 DM (salary)</span>,  <span style=\"background-color: rgb(252,186,160); color:white;\">people_liable is 3 or more</span>,  <span style=\"background-color: white; color:black;\">number_credits is 2 to 3</span> <b>THEN </b> accept"
      ],
      "text/plain": [
       "<IPython.core.display.HTML object>"
      ]
     },
     "metadata": {},
     "output_type": "display_data"
    },
    {
     "data": {
      "text/html": [
       "#66, 7758, LR: 0.17, Confidence: 0.67, Consistency: 0.00"
      ],
      "text/plain": [
       "<IPython.core.display.HTML object>"
      ]
     },
     "metadata": {},
     "output_type": "display_data"
    },
    {
     "data": {
      "text/html": [
       "<b>IF </b>  <span style=\"background-color: rgb(252,199,177); color:black;\">property is not real estate</span>,  <span style=\"background-color: rgb(212,228,243); color:black;\">purpose is furniture/equipment</span>,  <span style=\"background-color: rgb(252,189,163); color:white;\">other_debtors is co-applicant</span> <b>THEN </b> accept"
      ],
      "text/plain": [
       "<IPython.core.display.HTML object>"
      ]
     },
     "metadata": {},
     "output_type": "display_data"
    },
    {
     "data": {
      "text/html": [
       "#67, 3098, LR: 0.63, Confidence: 0.80, Consistency: 0.00"
      ],
      "text/plain": [
       "<IPython.core.display.HTML object>"
      ]
     },
     "metadata": {},
     "output_type": "display_data"
    },
    {
     "data": {
      "text/html": [
       "<b>IF </b>  <span style=\"background-color: rgb(252,194,171); color:black;\">status is not ... >= 200 DM (salary)</span>,  <span style=\"background-color: white; color:black;\">amount >= 599</span>,  <span style=\"background-color: rgb(253,207,188); color:black;\">duration >= 11</span>,  <span style=\"background-color: rgb(252,192,168); color:black;\">credit_history is not all credits at this bank paid back duly</span>,  <span style=\"background-color: rgb(253,213,195); color:black;\">telephone is No</span>,  <span style=\"background-color: rgb(253,206,186); color:black;\">personal_status_sex is not married male</span>,  <span style=\"background-color: rgb(253,222,208); color:black;\">number_credits is not 2 to 3</span>,  <span style=\"background-color: rgb(253,222,208); color:black;\">purpose is not car (used)</span>,  <span style=\"background-color: white; color:black;\">property is not car or other</span>,  <span style=\"background-color: white; color:black;\">other_debtors is not none</span> <b>THEN </b> accept"
      ],
      "text/plain": [
       "<IPython.core.display.HTML object>"
      ]
     },
     "metadata": {},
     "output_type": "display_data"
    },
    {
     "data": {
      "text/html": [
       "#68, 4853, LR: 0.08, Confidence: 0.88, Consistency: 0.00"
      ],
      "text/plain": [
       "<IPython.core.display.HTML object>"
      ]
     },
     "metadata": {},
     "output_type": "display_data"
    },
    {
     "data": {
      "text/html": [
       "<b>IF </b>  <span style=\"background-color: rgb(251,140,108); color:white;\">property is unknown / no property</span>,  <span style=\"background-color: white; color:black;\">savings is not >= 1000 DM</span>,  <span style=\"background-color: rgb(252,194,171); color:black;\">status is not ... >= 200 DM (salary)</span>,  <span style=\"background-color: rgb(177,210,231); color:white;\">purpose is car (new)</span> <b>THEN </b> accept"
      ],
      "text/plain": [
       "<IPython.core.display.HTML object>"
      ]
     },
     "metadata": {},
     "output_type": "display_data"
    },
    {
     "data": {
      "text/html": [
       "#69, 7897, LR: 0.73, Confidence: 0.59, Consistency: 0.07"
      ],
      "text/plain": [
       "<IPython.core.display.HTML object>"
      ]
     },
     "metadata": {},
     "output_type": "display_data"
    },
    {
     "data": {
      "text/html": [
       "<b>IF </b>  <span style=\"background-color: rgb(252,194,171); color:black;\">status is not ... >= 200 DM (salary)</span>,  <span style=\"background-color: rgb(251,127,95); color:white;\">purpose is others</span>,  <span style=\"background-color: rgb(252,199,177); color:black;\">property is not real estate</span>,  <span style=\"background-color: rgb(253,213,195); color:black;\">telephone is No</span>,  <span style=\"background-color: rgb(187,214,235); color:white;\">credit_history is all credits at this bank paid back duly</span> <b>THEN </b> reject"
      ],
      "text/plain": [
       "<IPython.core.display.HTML object>"
      ]
     },
     "metadata": {},
     "output_type": "display_data"
    },
    {
     "data": {
      "text/html": [
       "#70, 9243, LR: 0.00, Confidence: 0.25, Consistency: 0.00"
      ],
      "text/plain": [
       "<IPython.core.display.HTML object>"
      ]
     },
     "metadata": {},
     "output_type": "display_data"
    },
    {
     "data": {
      "text/html": [
       "<b>IF </b>  <span style=\"background-color: rgb(253,220,205); color:black;\">personal_status_sex is married male</span>,  <span style=\"background-color: rgb(219,233,246); color:black;\">housing is own</span>,  <span style=\"background-color: rgb(158,202,225); color:white;\">status is ... >= 200 DM (salary)</span>,  <span style=\"background-color: rgb(253,207,188); color:black;\">duration >= 11</span>,  <span style=\"background-color: rgb(253,208,189); color:black;\">job is highly skilled</span>,  <span style=\"background-color: rgb(187,214,235); color:white;\">credit_history is all credits at this bank paid back duly</span> <b>THEN </b> accept"
      ],
      "text/plain": [
       "<IPython.core.display.HTML object>"
      ]
     },
     "metadata": {},
     "output_type": "display_data"
    },
    {
     "data": {
      "text/html": [
       "#71, 336, LR: 0.12, Confidence: 0.46, Consistency: 0.06"
      ],
      "text/plain": [
       "<IPython.core.display.HTML object>"
      ]
     },
     "metadata": {},
     "output_type": "display_data"
    },
    {
     "data": {
      "text/html": [
       "<b>IF </b>  <span style=\"background-color: rgb(251,140,108); color:white;\">property is unknown / no property</span>,  <span style=\"background-color: rgb(219,233,246); color:black;\">housing is own</span>,  <span style=\"background-color: rgb(253,206,186); color:black;\">personal_status_sex is not married male</span>,  <span style=\"background-color: rgb(203,222,240); color:black;\">status is not no checking account</span> <b>THEN </b> accept"
      ],
      "text/plain": [
       "<IPython.core.display.HTML object>"
      ]
     },
     "metadata": {},
     "output_type": "display_data"
    },
    {
     "data": {
      "text/html": [
       "#72, 5663, LR: 0.08, Confidence: 0.36, Consistency: 0.00"
      ],
      "text/plain": [
       "<IPython.core.display.HTML object>"
      ]
     },
     "metadata": {},
     "output_type": "display_data"
    },
    {
     "data": {
      "text/html": [
       "<b>IF </b>  <span style=\"background-color: rgb(187,214,235); color:white;\">credit_history is all credits at this bank paid back duly</span>,  <span style=\"background-color: rgb(252,199,177); color:black;\">purpose is not car (new) and furniture/equipment</span>,  <span style=\"background-color: rgb(252,199,177); color:black;\">property is not real estate</span>,  <span style=\"background-color: rgb(253,220,205); color:black;\">personal_status_sex is married male</span>,  <span style=\"background-color: white; color:black;\">telephone is Yes</span>,  <span style=\"background-color: rgb(253,208,189); color:black;\">job is highly skilled</span> <b>THEN </b> accept"
      ],
      "text/plain": [
       "<IPython.core.display.HTML object>"
      ]
     },
     "metadata": {},
     "output_type": "display_data"
    },
    {
     "data": {
      "text/html": [
       "#73, 544, LR: 0.19, Confidence: 0.71, Consistency: 0.02"
      ],
      "text/plain": [
       "<IPython.core.display.HTML object>"
      ]
     },
     "metadata": {},
     "output_type": "display_data"
    },
    {
     "data": {
      "text/html": [
       "<b>IF </b>  <span style=\"background-color: rgb(253,219,203); color:black;\">purpose is not furniture/equipment</span>,  <span style=\"background-color: rgb(252,164,135); color:white;\">credit_history is not existing credits paid back duly till now and all credits at this bank paid back duly</span>,  <span style=\"background-color: white; color:black;\">savings is not >= 1000 DM</span>,  <span style=\"background-color: white; color:black;\">people_liable is 0 to 2</span>,  <span style=\"background-color: rgb(253,220,205); color:black;\">personal_status_sex is married male</span>,  <span style=\"background-color: rgb(218,232,245); color:black;\">duration <= 25</span>,  <span style=\"background-color: rgb(220,233,246); color:black;\">job is unskilled and resident</span> <b>THEN </b> accept"
      ],
      "text/plain": [
       "<IPython.core.display.HTML object>"
      ]
     },
     "metadata": {},
     "output_type": "display_data"
    },
    {
     "data": {
      "text/html": [
       "#74, 503, LR: 0.00, Confidence: 0.00, Consistency: 0.00"
      ],
      "text/plain": [
       "<IPython.core.display.HTML object>"
      ]
     },
     "metadata": {},
     "output_type": "display_data"
    },
    {
     "data": {
      "text/html": [
       "<b>IF </b>  <span style=\"background-color: rgb(205,223,241); color:black;\">duration <= 15</span>,  <span style=\"background-color: rgb(187,214,235); color:white;\">credit_history is all credits at this bank paid back duly</span>,  <span style=\"background-color: rgb(253,221,206); color:black;\">number_credits is not 1</span>,  <span style=\"background-color: rgb(220,233,246); color:black;\">job is unskilled and resident</span> <b>THEN </b> accept"
      ],
      "text/plain": [
       "<IPython.core.display.HTML object>"
      ]
     },
     "metadata": {},
     "output_type": "display_data"
    },
    {
     "data": {
      "text/html": [
       "#75, 621, LR: 0.02, Confidence: 0.67, Consistency: 0.00"
      ],
      "text/plain": [
       "<IPython.core.display.HTML object>"
      ]
     },
     "metadata": {},
     "output_type": "display_data"
    },
    {
     "data": {
      "text/html": [
       "<b>IF </b>  <span style=\"background-color: rgb(252,201,180); color:black;\">savings is not 500 to 1000 DM and >= 1000 DM</span>,  <span style=\"background-color: rgb(252,184,157); color:white;\">duration >= 12</span>,  <span style=\"background-color: rgb(167,206,228); color:white;\">status is not no checking account and ... < 0 DM</span>,  <span style=\"background-color: white; color:black;\">job is skilled</span>,  <span style=\"background-color: rgb(216,231,245); color:black;\">credit_history is existing credits paid back duly till now</span> <b>THEN </b> accept"
      ],
      "text/plain": [
       "<IPython.core.display.HTML object>"
      ]
     },
     "metadata": {},
     "output_type": "display_data"
    },
    {
     "data": {
      "text/html": [
       "#76, 3432, LR: 0.01, Confidence: 0.91, Consistency: 0.00"
      ],
      "text/plain": [
       "<IPython.core.display.HTML object>"
      ]
     },
     "metadata": {},
     "output_type": "display_data"
    },
    {
     "data": {
      "text/html": [
       "<b>IF </b>  <span style=\"background-color: rgb(187,214,235); color:white;\">credit_history is all credits at this bank paid back duly</span>,  <span style=\"background-color: rgb(207,225,242); color:black;\">other_debtors is guarantor</span> <b>THEN </b> accept"
      ],
      "text/plain": [
       "<IPython.core.display.HTML object>"
      ]
     },
     "metadata": {},
     "output_type": "display_data"
    },
    {
     "data": {
      "text/html": [
       "#77, 9660, LR: 0.01, Confidence: 0.80, Consistency: 0.00"
      ],
      "text/plain": [
       "<IPython.core.display.HTML object>"
      ]
     },
     "metadata": {},
     "output_type": "display_data"
    },
    {
     "data": {
      "text/html": [
       "<b>IF </b>  <span style=\"background-color: rgb(187,214,235); color:white;\">credit_history is all credits at this bank paid back duly</span>,  <span style=\"background-color: rgb(207,225,242); color:black;\">other_debtors is guarantor</span> <b>THEN </b> accept"
      ],
      "text/plain": [
       "<IPython.core.display.HTML object>"
      ]
     },
     "metadata": {},
     "output_type": "display_data"
    },
    {
     "data": {
      "text/html": [
       "#78, 6934, LR: 0.05, Confidence: 0.53, Consistency: 0.00"
      ],
      "text/plain": [
       "<IPython.core.display.HTML object>"
      ]
     },
     "metadata": {},
     "output_type": "display_data"
    },
    {
     "data": {
      "text/html": [
       "<b>IF </b>  <span style=\"background-color: rgb(253,206,186); color:black;\">personal_status_sex is not married male</span>,  <span style=\"background-color: rgb(212,228,243); color:black;\">purpose is furniture/equipment</span>,  <span style=\"background-color: rgb(215,230,244); color:black;\">age >= 37</span>,  <span style=\"background-color: white; color:black;\">job is skilled</span> <b>THEN </b> accept"
      ],
      "text/plain": [
       "<IPython.core.display.HTML object>"
      ]
     },
     "metadata": {},
     "output_type": "display_data"
    },
    {
     "data": {
      "text/html": [
       "#79, 1080, LR: 0.43, Confidence: 0.83, Consistency: 0.02"
      ],
      "text/plain": [
       "<IPython.core.display.HTML object>"
      ]
     },
     "metadata": {},
     "output_type": "display_data"
    },
    {
     "data": {
      "text/html": [
       "<b>IF </b>  <span style=\"background-color: rgb(252,194,171); color:black;\">status is not ... >= 200 DM (salary)</span>,  <span style=\"background-color: rgb(252,192,168); color:black;\">credit_history is existing credits paid back duly till now</span>,  <span style=\"background-color: white; color:black;\">foreign_worker is No</span>,  <span style=\"background-color: white; color:black;\">telephone is Yes</span>,  <span style=\"background-color: rgb(253,208,189); color:black;\">purpose is not car (new)</span>,  <span style=\"background-color: white; color:black;\">present_residence is not < 1 yr and 1 to 4 yrs</span>,  <span style=\"background-color: rgb(253,221,206); color:black;\">amount >= 2144</span> <b>THEN </b> accept"
      ],
      "text/plain": [
       "<IPython.core.display.HTML object>"
      ]
     },
     "metadata": {},
     "output_type": "display_data"
    },
    {
     "data": {
      "text/html": [
       "#80, 8565, LR: 0.36, Confidence: 0.47, Consistency: 0.00"
      ],
      "text/plain": [
       "<IPython.core.display.HTML object>"
      ]
     },
     "metadata": {},
     "output_type": "display_data"
    },
    {
     "data": {
      "text/html": [
       "<b>IF </b>  <span style=\"background-color: white; color:black;\">job is not skilled</span>,  <span style=\"background-color: rgb(253,208,189); color:black;\">purpose is not car (new)</span>,  <span style=\"background-color: rgb(220,233,246); color:black;\">property is not building soc. savings agr./life insurance and unknown / no property</span>,  <span style=\"background-color: rgb(252,200,179); color:black;\">other_debtors is not guarantor</span>,  <span style=\"background-color: rgb(253,212,194); color:black;\">employment_duration is not 4 to 7 yrs and >= 7 yrs</span>,  <span style=\"background-color: white; color:black;\">amount <= 3982</span>,  <span style=\"background-color: rgb(252,186,160); color:white;\">people_liable is 3 or more</span> <b>THEN </b> accept"
      ],
      "text/plain": [
       "<IPython.core.display.HTML object>"
      ]
     },
     "metadata": {},
     "output_type": "display_data"
    },
    {
     "data": {
      "text/html": [
       "#81, 6203, LR: 0.06, Confidence: 0.90, Consistency: 0.00"
      ],
      "text/plain": [
       "<IPython.core.display.HTML object>"
      ]
     },
     "metadata": {},
     "output_type": "display_data"
    },
    {
     "data": {
      "text/html": [
       "<b>IF </b>  <span style=\"background-color: rgb(187,214,235); color:white;\">credit_history is all credits at this bank paid back duly</span>,  <span style=\"background-color: rgb(252,153,122); color:white;\">other_installment_plans is bank</span> <b>THEN </b> accept"
      ],
      "text/plain": [
       "<IPython.core.display.HTML object>"
      ]
     },
     "metadata": {},
     "output_type": "display_data"
    },
    {
     "data": {
      "text/html": [
       "#82, 9300, LR: 0.39, Confidence: 0.90, Consistency: 0.00"
      ],
      "text/plain": [
       "<IPython.core.display.HTML object>"
      ]
     },
     "metadata": {},
     "output_type": "display_data"
    },
    {
     "data": {
      "text/html": [
       "<b>IF </b>  <span style=\"background-color: white; color:black;\">credit_history is not critical account/other credits elsewhere</span>,  <span style=\"background-color: rgb(252,194,171); color:black;\">status is not ... >= 200 DM (salary)</span>,  <span style=\"background-color: white; color:black;\">purpose is not others</span>,  <span style=\"background-color: rgb(252,158,128); color:white;\">housing is rent</span>,  <span style=\"background-color: white; color:black;\">number_credits is 2 to 3</span> <b>THEN </b> accept"
      ],
      "text/plain": [
       "<IPython.core.display.HTML object>"
      ]
     },
     "metadata": {},
     "output_type": "display_data"
    },
    {
     "data": {
      "text/html": [
       "#83, 6551, LR: 0.04, Confidence: 0.43, Consistency: 0.00"
      ],
      "text/plain": [
       "<IPython.core.display.HTML object>"
      ]
     },
     "metadata": {},
     "output_type": "display_data"
    },
    {
     "data": {
      "text/html": [
       "<b>IF </b>  <span style=\"background-color: rgb(252,193,169); color:black;\">installment_rate is not < 20 and 20 to 25</span>,  <span style=\"background-color: rgb(252,199,177); color:black;\">property is not real estate</span>,  <span style=\"background-color: rgb(187,214,235); color:white;\">credit_history is all credits at this bank paid back duly</span>,  <span style=\"background-color: white; color:black;\">present_residence is not < 1 yr and 1 to 4 yrs</span>,  <span style=\"background-color: rgb(221,234,246); color:black;\">purpose is car (used)</span> <b>THEN </b> accept"
      ],
      "text/plain": [
       "<IPython.core.display.HTML object>"
      ]
     },
     "metadata": {},
     "output_type": "display_data"
    },
    {
     "data": {
      "text/html": [
       "#84, 571, LR: 0.00, Confidence: 0.00, Consistency: 0.00"
      ],
      "text/plain": [
       "<IPython.core.display.HTML object>"
      ]
     },
     "metadata": {},
     "output_type": "display_data"
    },
    {
     "data": {
      "text/html": [
       "<b>IF </b>  <span style=\"background-color: rgb(212,228,243); color:black;\">purpose is furniture/equipment</span>,  <span style=\"background-color: rgb(253,212,194); color:black;\">employment_duration is not 4 to 7 yrs and >= 7 yrs</span>,  <span style=\"background-color: rgb(220,233,246); color:black;\">property is not building soc. savings agr./life insurance and unknown / no property</span>,  <span style=\"background-color: rgb(203,222,240); color:black;\">status is not no checking account</span>,  <span style=\"background-color: rgb(207,225,242); color:black;\">other_debtors is guarantor</span> <b>THEN </b> accept"
      ],
      "text/plain": [
       "<IPython.core.display.HTML object>"
      ]
     },
     "metadata": {},
     "output_type": "display_data"
    },
    {
     "data": {
      "text/html": [
       "#85, 1199, LR: 0.39, Confidence: 0.43, Consistency: 0.02"
      ],
      "text/plain": [
       "<IPython.core.display.HTML object>"
      ]
     },
     "metadata": {},
     "output_type": "display_data"
    },
    {
     "data": {
      "text/html": [
       "<b>IF </b>  <span style=\"background-color: white; color:black;\">credit_history is not all credits at this bank paid back duly</span>,  <span style=\"background-color: white; color:black;\">savings is not unknown/no savings account and < 100 DM</span>,  <span style=\"background-color: white; color:black;\">property is building soc. savings agr./life insurance</span>,  <span style=\"background-color: white; color:black;\">present_residence is not >= 7 yrs</span>,  <span style=\"background-color: rgb(251,127,95); color:white;\">purpose is others</span> <b>THEN </b> accept"
      ],
      "text/plain": [
       "<IPython.core.display.HTML object>"
      ]
     },
     "metadata": {},
     "output_type": "display_data"
    },
    {
     "data": {
      "text/html": [
       "#86, 5330, LR: 0.81, Confidence: 0.36, Consistency: 0.00"
      ],
      "text/plain": [
       "<IPython.core.display.HTML object>"
      ]
     },
     "metadata": {},
     "output_type": "display_data"
    },
    {
     "data": {
      "text/html": [
       "<b>IF </b>  <span style=\"background-color: rgb(252,194,171); color:black;\">status is not ... >= 200 DM (salary)</span>,  <span style=\"background-color: rgb(253,222,208); color:black;\">job is not unskilled and resident</span>,  <span style=\"background-color: rgb(253,213,195); color:black;\">telephone is No</span>,  <span style=\"background-color: rgb(252,199,177); color:black;\">purpose is not car (new) and furniture/equipment</span>,  <span style=\"background-color: rgb(252,200,179); color:black;\">other_debtors is not guarantor</span>,  <span style=\"background-color: rgb(251,130,98); color:white;\">credit_history is delay in paying off in the past or critical account/other credits elsewhere</span>,  <span style=\"background-color: white; color:black;\">duration <= 46</span>,  <span style=\"background-color: rgb(212,228,243); color:black;\">installment_rate is not 25 to 35 and >= 35</span>,  <span style=\"background-color: rgb(252,184,157); color:white;\">other_installment_plans is not none</span> <b>THEN </b> accept"
      ],
      "text/plain": [
       "<IPython.core.display.HTML object>"
      ]
     },
     "metadata": {},
     "output_type": "display_data"
    },
    {
     "data": {
      "text/html": [
       "#87, 3020, LR: 0.13, Confidence: 0.65, Consistency: 0.02"
      ],
      "text/plain": [
       "<IPython.core.display.HTML object>"
      ]
     },
     "metadata": {},
     "output_type": "display_data"
    },
    {
     "data": {
      "text/html": [
       "<b>IF </b>  <span style=\"background-color: rgb(252,192,168); color:black;\">credit_history is not all credits at this bank paid back duly</span>,  <span style=\"background-color: rgb(252,193,169); color:black;\">installment_rate is not < 20 and 20 to 25</span>,  <span style=\"background-color: rgb(253,221,206); color:black;\">employment_duration is not >= 7 yrs</span>,  <span style=\"background-color: rgb(209,226,242); color:black;\">duration <= 18</span>,  <span style=\"background-color: white; color:black;\">people_liable is 0 to 2</span>,  <span style=\"background-color: rgb(220,233,246); color:black;\">job is unskilled and resident</span> <b>THEN </b> accept"
      ],
      "text/plain": [
       "<IPython.core.display.HTML object>"
      ]
     },
     "metadata": {},
     "output_type": "display_data"
    },
    {
     "data": {
      "text/html": [
       "#88, 5157, LR: 0.15, Confidence: 0.50, Consistency: 0.00"
      ],
      "text/plain": [
       "<IPython.core.display.HTML object>"
      ]
     },
     "metadata": {},
     "output_type": "display_data"
    },
    {
     "data": {
      "text/html": [
       "<b>IF </b>  <span style=\"background-color: rgb(219,233,246); color:black;\">housing is own</span>,  <span style=\"background-color: white; color:black;\">job is unemployed, unskilled and non-resident</span>,  <span style=\"background-color: rgb(253,222,208); color:black;\">number_credits is not 2 to 3</span>,  <span style=\"background-color: rgb(252,193,169); color:black;\">employment_duration is unemployed or < 1 yr</span> <b>THEN </b> accept"
      ],
      "text/plain": [
       "<IPython.core.display.HTML object>"
      ]
     },
     "metadata": {},
     "output_type": "display_data"
    },
    {
     "data": {
      "text/html": [
       "#89, 1103, LR: 0.06, Confidence: 0.40, Consistency: 0.00"
      ],
      "text/plain": [
       "<IPython.core.display.HTML object>"
      ]
     },
     "metadata": {},
     "output_type": "display_data"
    },
    {
     "data": {
      "text/html": [
       "<b>IF </b>  <span style=\"background-color: rgb(252,194,171); color:black;\">status is not ... >= 200 DM (salary)</span>,  <span style=\"background-color: rgb(187,214,235); color:white;\">credit_history is all credits at this bank paid back duly</span>,  <span style=\"background-color: white; color:black;\">amount <= 4864</span>,  <span style=\"background-color: rgb(252,201,180); color:black;\">savings is not 500 to 1000 DM and >= 1000 DM</span>,  <span style=\"background-color: rgb(253,220,205); color:black;\">personal_status_sex is married male</span>,  <span style=\"background-color: white; color:black;\">number_credits is 1</span> <b>THEN </b> accept"
      ],
      "text/plain": [
       "<IPython.core.display.HTML object>"
      ]
     },
     "metadata": {},
     "output_type": "display_data"
    },
    {
     "data": {
      "text/html": [
       "#90, 1072, LR: 0.16, Confidence: 0.67, Consistency: 0.00"
      ],
      "text/plain": [
       "<IPython.core.display.HTML object>"
      ]
     },
     "metadata": {},
     "output_type": "display_data"
    },
    {
     "data": {
      "text/html": [
       "<b>IF </b>  <span style=\"background-color: rgb(252,194,171); color:black;\">status is not ... >= 200 DM (salary)</span>,  <span style=\"background-color: rgb(252,192,168); color:black;\">credit_history is not all credits at this bank paid back duly</span>,  <span style=\"background-color: rgb(212,228,243); color:black;\">foreign_worker is Yes</span> <b>THEN </b> accept"
      ],
      "text/plain": [
       "<IPython.core.display.HTML object>"
      ]
     },
     "metadata": {},
     "output_type": "display_data"
    },
    {
     "data": {
      "text/html": [
       "#91, 138, LR: 0.01, Confidence: 0.00, Consistency: 0.00"
      ],
      "text/plain": [
       "<IPython.core.display.HTML object>"
      ]
     },
     "metadata": {},
     "output_type": "display_data"
    },
    {
     "data": {
      "text/html": [
       "<b>IF </b>  <span style=\"background-color: rgb(158,202,225); color:white;\">status is ... >= 200 DM (salary)</span>,  <span style=\"background-color: rgb(252,205,185); color:black;\">age in 23 to 31</span>,  <span style=\"background-color: white; color:black;\">job is skilled</span>,  <span style=\"background-color: rgb(253,222,208); color:black;\">purpose is not car (used)</span>,  <span style=\"background-color: rgb(219,233,246); color:black;\">other_installment_plans is none</span>,  <span style=\"background-color: white; color:black;\">amount <= 3569</span>,  <span style=\"background-color: white; color:black;\">present_residence is not 4 to 7 yrs and >= 7 yrs</span>,  <span style=\"background-color: white; color:black;\">number_credits is 2 to 3</span> <b>THEN </b> accept"
      ],
      "text/plain": [
       "<IPython.core.display.HTML object>"
      ]
     },
     "metadata": {},
     "output_type": "display_data"
    },
    {
     "data": {
      "text/html": [
       "#92, 7476, LR: 0.15, Confidence: 0.70, Consistency: 0.00"
      ],
      "text/plain": [
       "<IPython.core.display.HTML object>"
      ]
     },
     "metadata": {},
     "output_type": "display_data"
    },
    {
     "data": {
      "text/html": [
       "<b>IF </b>  <span style=\"background-color: rgb(253,214,197); color:black;\">credit_history is not existing credits paid back duly till now</span>,  <span style=\"background-color: rgb(212,228,243); color:black;\">purpose is furniture/equipment</span>,  <span style=\"background-color: white; color:black;\">property is building soc. savings agr./life insurance</span>,  <span style=\"background-color: rgb(252,176,148); color:white;\">installment_rate is >= 35</span> <b>THEN </b> accept"
      ],
      "text/plain": [
       "<IPython.core.display.HTML object>"
      ]
     },
     "metadata": {},
     "output_type": "display_data"
    },
    {
     "data": {
      "text/html": [
       "#93, 3171, LR: 0.41, Confidence: 0.63, Consistency: 0.03"
      ],
      "text/plain": [
       "<IPython.core.display.HTML object>"
      ]
     },
     "metadata": {},
     "output_type": "display_data"
    },
    {
     "data": {
      "text/html": [
       "<b>IF </b>  <span style=\"background-color: rgb(252,192,168); color:black;\">credit_history is not all credits at this bank paid back duly</span>,  <span style=\"background-color: rgb(253,220,205); color:black;\">personal_status_sex is married male</span>,  <span style=\"background-color: white; color:black;\">number_credits is 1</span>,  <span style=\"background-color: rgb(212,228,243); color:black;\">installment_rate is not 25 to 35 and >= 35</span>,  <span style=\"background-color: rgb(251,127,95); color:white;\">purpose is others</span> <b>THEN </b> accept"
      ],
      "text/plain": [
       "<IPython.core.display.HTML object>"
      ]
     },
     "metadata": {},
     "output_type": "display_data"
    },
    {
     "data": {
      "text/html": [
       "#94, 3668, LR: 0.03, Confidence: 0.73, Consistency: 0.00"
      ],
      "text/plain": [
       "<IPython.core.display.HTML object>"
      ]
     },
     "metadata": {},
     "output_type": "display_data"
    },
    {
     "data": {
      "text/html": [
       "<b>IF </b>  <span style=\"background-color: white; color:black;\">property is not unknown / no property</span>,  <span style=\"background-color: rgb(221,234,246); color:black;\">purpose is car (used)</span>,  <span style=\"background-color: rgb(252,172,144); color:white;\">duration >= 15</span>,  <span style=\"background-color: rgb(187,214,235); color:white;\">credit_history is all credits at this bank paid back duly</span> <b>THEN </b> accept"
      ],
      "text/plain": [
       "<IPython.core.display.HTML object>"
      ]
     },
     "metadata": {},
     "output_type": "display_data"
    },
    {
     "data": {
      "text/html": [
       "#95, 9213, LR: 0.05, Confidence: 0.86, Consistency: 0.00"
      ],
      "text/plain": [
       "<IPython.core.display.HTML object>"
      ]
     },
     "metadata": {},
     "output_type": "display_data"
    },
    {
     "data": {
      "text/html": [
       "<b>IF </b>  <span style=\"background-color: rgb(253,206,186); color:black;\">personal_status_sex is not married male</span>,  <span style=\"background-color: rgb(187,214,235); color:white;\">credit_history is all credits at this bank paid back duly</span>,  <span style=\"background-color: rgb(218,232,245); color:black;\">duration <= 27</span>,  <span style=\"background-color: rgb(252,158,128); color:white;\">housing is rent</span> <b>THEN </b> accept"
      ],
      "text/plain": [
       "<IPython.core.display.HTML object>"
      ]
     },
     "metadata": {},
     "output_type": "display_data"
    },
    {
     "data": {
      "text/html": [
       "#96, 1387, LR: 0.32, Confidence: 0.85, Consistency: 0.04"
      ],
      "text/plain": [
       "<IPython.core.display.HTML object>"
      ]
     },
     "metadata": {},
     "output_type": "display_data"
    },
    {
     "data": {
      "text/html": [
       "<b>IF </b>  <span style=\"background-color: rgb(252,172,144); color:white;\">duration >= 15</span>,  <span style=\"background-color: white; color:black;\">telephone is Yes</span>,  <span style=\"background-color: rgb(220,233,246); color:black;\">other_debtors is not co-applicant</span>,  <span style=\"background-color: rgb(252,153,122); color:white;\">other_installment_plans is bank</span>,  <span style=\"background-color: rgb(220,233,246); color:black;\">age >= 30</span> <b>THEN </b> accept"
      ],
      "text/plain": [
       "<IPython.core.display.HTML object>"
      ]
     },
     "metadata": {},
     "output_type": "display_data"
    },
    {
     "data": {
      "text/html": [
       "#97, 899, LR: 0.01, Confidence: 0.67, Consistency: 0.00"
      ],
      "text/plain": [
       "<IPython.core.display.HTML object>"
      ]
     },
     "metadata": {},
     "output_type": "display_data"
    },
    {
     "data": {
      "text/html": [
       "<b>IF </b>  <span style=\"background-color: rgb(252,178,151); color:white;\">property is not real estate and building soc. savings agr./life insurance</span>,  <span style=\"background-color: rgb(158,202,225); color:white;\">status is ... >= 200 DM (salary)</span>,  <span style=\"background-color: white; color:black;\">housing is not rent</span>,  <span style=\"background-color: rgb(216,231,245); color:black;\">credit_history is existing credits paid back duly till now</span> <b>THEN </b> accept"
      ],
      "text/plain": [
       "<IPython.core.display.HTML object>"
      ]
     },
     "metadata": {},
     "output_type": "display_data"
    },
    {
     "data": {
      "text/html": [
       "#98, 5703, LR: 0.29, Confidence: 0.75, Consistency: 0.00"
      ],
      "text/plain": [
       "<IPython.core.display.HTML object>"
      ]
     },
     "metadata": {},
     "output_type": "display_data"
    },
    {
     "data": {
      "text/html": [
       "<b>IF </b>  <span style=\"background-color: rgb(252,201,180); color:black;\">savings is not 500 to 1000 DM and >= 1000 DM</span>,  <span style=\"background-color: rgb(252,158,128); color:white;\">housing is rent</span>,  <span style=\"background-color: rgb(218,232,245); color:black;\">employment_duration is 4 to 7 yrs or >= 7 yrs</span>,  <span style=\"background-color: rgb(221,234,246); color:black;\">age >= 28</span>,  <span style=\"background-color: rgb(253,214,197); color:black;\">property is car or other</span> <b>THEN </b> accept"
      ],
      "text/plain": [
       "<IPython.core.display.HTML object>"
      ]
     },
     "metadata": {},
     "output_type": "display_data"
    },
    {
     "data": {
      "text/html": [
       "#99, 4621, LR: 0.03, Confidence: 0.88, Consistency: 0.00"
      ],
      "text/plain": [
       "<IPython.core.display.HTML object>"
      ]
     },
     "metadata": {},
     "output_type": "display_data"
    },
    {
     "data": {
      "text/html": [
       "<b>IF </b>  <span style=\"background-color: rgb(219,233,246); color:black;\">housing is own</span>,  <span style=\"background-color: rgb(158,202,225); color:white;\">status is ... >= 200 DM (salary)</span>,  <span style=\"background-color: white; color:black;\">age >= 25</span>,  <span style=\"background-color: rgb(252,199,177); color:black;\">property is not real estate</span>,  <span style=\"background-color: rgb(251,138,106); color:white;\">purpose is retraining</span> <b>THEN </b> accept"
      ],
      "text/plain": [
       "<IPython.core.display.HTML object>"
      ]
     },
     "metadata": {},
     "output_type": "display_data"
    }
   ],
   "source": [
    "loci_outlier2 = res.scores[:, 10].argsort()[-100:][::-1]\n",
    "for it, i in enumerate(loci_outlier2):\n",
    "    display_rule(it, i)"
   ]
  },
  {
   "cell_type": "code",
   "execution_count": 40,
   "metadata": {},
   "outputs": [
    {
     "data": {
      "text/html": [
       "#0, 8212, LR: 0.10, Confidence: 0.00, Consistency: 0.33"
      ],
      "text/plain": [
       "<IPython.core.display.HTML object>"
      ]
     },
     "metadata": {},
     "output_type": "display_data"
    },
    {
     "data": {
      "text/html": [
       "<b>IF </b>  <span style=\"background-color: rgb(187,214,235); color:white;\">credit_history is all credits at this bank paid back duly</span>,  <span style=\"background-color: rgb(253,218,202); color:black;\">installment_rate is not < 20</span>,  <span style=\"background-color: white; color:black;\">property is not car or other</span>,  <span style=\"background-color: rgb(251,138,106); color:white;\">purpose is retraining</span> <b>THEN </b> accept"
      ],
      "text/plain": [
       "<IPython.core.display.HTML object>"
      ]
     },
     "metadata": {},
     "output_type": "display_data"
    },
    {
     "data": {
      "text/html": [
       "#1, 6957, LR: 0.01, Confidence: 0.00, Consistency: 0.22"
      ],
      "text/plain": [
       "<IPython.core.display.HTML object>"
      ]
     },
     "metadata": {},
     "output_type": "display_data"
    },
    {
     "data": {
      "text/html": [
       "<b>IF </b>  <span style=\"background-color: rgb(253,220,205); color:black;\">personal_status_sex is married male</span>,  <span style=\"background-color: rgb(187,214,235); color:white;\">credit_history is all credits at this bank paid back duly</span>,  <span style=\"background-color: rgb(177,210,231); color:white;\">purpose is car (new)</span>,  <span style=\"background-color: rgb(251,114,82); color:white;\">duration >= 34</span> <b>THEN </b> accept"
      ],
      "text/plain": [
       "<IPython.core.display.HTML object>"
      ]
     },
     "metadata": {},
     "output_type": "display_data"
    },
    {
     "data": {
      "text/html": [
       "#2, 1863, LR: 0.72, Confidence: 0.00, Consistency: 0.75"
      ],
      "text/plain": [
       "<IPython.core.display.HTML object>"
      ]
     },
     "metadata": {},
     "output_type": "display_data"
    },
    {
     "data": {
      "text/html": [
       "<b>IF </b>  <span style=\"background-color: rgb(252,192,168); color:black;\">credit_history is not all credits at this bank paid back duly</span>,  <span style=\"background-color: white; color:black;\">number_credits is 1</span>,  <span style=\"background-color: rgb(252,194,171); color:black;\">status is not ... >= 200 DM (salary)</span>,  <span style=\"background-color: rgb(253,220,205); color:black;\">personal_status_sex is married male</span>,  <span style=\"background-color: rgb(251,138,106); color:white;\">purpose is retraining</span> <b>THEN </b> accept"
      ],
      "text/plain": [
       "<IPython.core.display.HTML object>"
      ]
     },
     "metadata": {},
     "output_type": "display_data"
    },
    {
     "data": {
      "text/html": [
       "#3, 8483, LR: 0.04, Confidence: 0.00, Consistency: 0.20"
      ],
      "text/plain": [
       "<IPython.core.display.HTML object>"
      ]
     },
     "metadata": {},
     "output_type": "display_data"
    },
    {
     "data": {
      "text/html": [
       "<b>IF </b>  <span style=\"background-color: rgb(252,199,177); color:black;\">property is not real estate</span>,  <span style=\"background-color: rgb(253,213,195); color:black;\">telephone is No</span>,  <span style=\"background-color: rgb(253,221,206); color:black;\">employment_duration is not >= 7 yrs</span>,  <span style=\"background-color: rgb(219,233,246); color:black;\">housing is own</span>,  <span style=\"background-color: rgb(252,192,168); color:black;\">credit_history is not all credits at this bank paid back duly</span>,  <span style=\"background-color: white; color:black;\">amount >= 1181</span>,  <span style=\"background-color: rgb(177,210,231); color:white;\">purpose is car (new)</span> <b>THEN </b> accept"
      ],
      "text/plain": [
       "<IPython.core.display.HTML object>"
      ]
     },
     "metadata": {},
     "output_type": "display_data"
    },
    {
     "data": {
      "text/html": [
       "#4, 6956, LR: 0.00, Confidence: 0.00, Consistency: 0.00"
      ],
      "text/plain": [
       "<IPython.core.display.HTML object>"
      ]
     },
     "metadata": {},
     "output_type": "display_data"
    },
    {
     "data": {
      "text/html": [
       "<b>IF </b>  <span style=\"background-color: rgb(253,220,205); color:black;\">personal_status_sex is married male</span>,  <span style=\"background-color: rgb(187,214,235); color:white;\">credit_history is all credits at this bank paid back duly</span>,  <span style=\"background-color: rgb(177,210,231); color:white;\">purpose is car (new)</span>,  <span style=\"background-color: rgb(221,234,246); color:black;\">duration <= 34</span> <b>THEN </b> accept"
      ],
      "text/plain": [
       "<IPython.core.display.HTML object>"
      ]
     },
     "metadata": {},
     "output_type": "display_data"
    },
    {
     "data": {
      "text/html": [
       "#5, 6641, LR: 0.14, Confidence: 0.00, Consistency: 0.73"
      ],
      "text/plain": [
       "<IPython.core.display.HTML object>"
      ]
     },
     "metadata": {},
     "output_type": "display_data"
    },
    {
     "data": {
      "text/html": [
       "<b>IF </b>  <span style=\"background-color: rgb(252,194,171); color:black;\">status is not ... >= 200 DM (salary)</span>,  <span style=\"background-color: white; color:black;\">present_residence is not < 1 yr</span>,  <span style=\"background-color: rgb(253,208,189); color:black;\">duration >= 10</span>,  <span style=\"background-color: rgb(253,208,189); color:black;\">purpose is not car (new)</span>,  <span style=\"background-color: white; color:black;\">property is building soc. savings agr./life insurance</span>,  <span style=\"background-color: rgb(207,225,242); color:black;\">other_debtors is guarantor</span> <b>THEN </b> accept"
      ],
      "text/plain": [
       "<IPython.core.display.HTML object>"
      ]
     },
     "metadata": {},
     "output_type": "display_data"
    },
    {
     "data": {
      "text/html": [
       "#6, 5275, LR: 0.20, Confidence: 0.00, Consistency: 0.90"
      ],
      "text/plain": [
       "<IPython.core.display.HTML object>"
      ]
     },
     "metadata": {},
     "output_type": "display_data"
    },
    {
     "data": {
      "text/html": [
       "<b>IF </b>  <span style=\"background-color: rgb(252,153,122); color:white;\">other_installment_plans is bank</span>,  <span style=\"background-color: white; color:black;\">credit_history is not critical account/other credits elsewhere</span>,  <span style=\"background-color: rgb(220,233,246); color:black;\">job is unskilled and resident</span> <b>THEN </b> accept"
      ],
      "text/plain": [
       "<IPython.core.display.HTML object>"
      ]
     },
     "metadata": {},
     "output_type": "display_data"
    },
    {
     "data": {
      "text/html": [
       "#7, 664, LR: 0.05, Confidence: 0.00, Consistency: 0.18"
      ],
      "text/plain": [
       "<IPython.core.display.HTML object>"
      ]
     },
     "metadata": {},
     "output_type": "display_data"
    },
    {
     "data": {
      "text/html": [
       "<b>IF </b>  <span style=\"background-color: rgb(252,194,171); color:black;\">status is not ... >= 200 DM (salary)</span>,  <span style=\"background-color: rgb(187,214,235); color:white;\">credit_history is all credits at this bank paid back duly</span>,  <span style=\"background-color: rgb(253,208,189); color:black;\">number_credits is 4 to 5</span> <b>THEN </b> accept"
      ],
      "text/plain": [
       "<IPython.core.display.HTML object>"
      ]
     },
     "metadata": {},
     "output_type": "display_data"
    },
    {
     "data": {
      "text/html": [
       "#8, 3628, LR: 0.01, Confidence: 0.00, Consistency: 0.91"
      ],
      "text/plain": [
       "<IPython.core.display.HTML object>"
      ]
     },
     "metadata": {},
     "output_type": "display_data"
    },
    {
     "data": {
      "text/html": [
       "<b>IF </b>  <span style=\"background-color: rgb(187,214,235); color:white;\">credit_history is all credits at this bank paid back duly</span>,  <span style=\"background-color: white; color:black;\">number_credits is not 4 to 5</span>,  <span style=\"background-color: rgb(207,225,242); color:black;\">other_debtors is guarantor</span> <b>THEN </b> accept"
      ],
      "text/plain": [
       "<IPython.core.display.HTML object>"
      ]
     },
     "metadata": {},
     "output_type": "display_data"
    },
    {
     "data": {
      "text/html": [
       "#9, 9340, LR: 0.48, Confidence: 0.01, Consistency: 0.92"
      ],
      "text/plain": [
       "<IPython.core.display.HTML object>"
      ]
     },
     "metadata": {},
     "output_type": "display_data"
    },
    {
     "data": {
      "text/html": [
       "<b>IF </b>  <span style=\"background-color: rgb(251,138,106); color:white;\">credit_history is critical account/other credits elsewhere</span>,  <span style=\"background-color: rgb(213,229,244); color:black;\">savings is not unknown/no savings account</span>,  <span style=\"background-color: rgb(252,149,117); color:white;\">duration >= 22</span> <b>THEN </b> accept"
      ],
      "text/plain": [
       "<IPython.core.display.HTML object>"
      ]
     },
     "metadata": {},
     "output_type": "display_data"
    },
    {
     "data": {
      "text/html": [
       "#10, 5346, LR: 0.04, Confidence: 0.00, Consistency: 0.86"
      ],
      "text/plain": [
       "<IPython.core.display.HTML object>"
      ]
     },
     "metadata": {},
     "output_type": "display_data"
    },
    {
     "data": {
      "text/html": [
       "<b>IF </b>  <span style=\"background-color: rgb(252,194,171); color:black;\">status is not ... >= 200 DM (salary)</span>,  <span style=\"background-color: rgb(253,222,208); color:black;\">job is not unskilled and resident</span>,  <span style=\"background-color: rgb(253,213,195); color:black;\">telephone is No</span>,  <span style=\"background-color: rgb(177,210,231); color:white;\">purpose is car (new)</span> <b>THEN </b> accept"
      ],
      "text/plain": [
       "<IPython.core.display.HTML object>"
      ]
     },
     "metadata": {},
     "output_type": "display_data"
    },
    {
     "data": {
      "text/html": [
       "#11, 9112, LR: 0.00, Confidence: 0.00, Consistency: 0.00"
      ],
      "text/plain": [
       "<IPython.core.display.HTML object>"
      ]
     },
     "metadata": {},
     "output_type": "display_data"
    },
    {
     "data": {
      "text/html": [
       "<b>IF </b>  <span style=\"background-color: rgb(205,223,241); color:black;\">duration <= 15</span>,  <span style=\"background-color: rgb(219,233,246); color:black;\">other_installment_plans is none</span>,  <span style=\"background-color: rgb(167,206,228); color:white;\">status is not no checking account and ... < 0 DM</span>,  <span style=\"background-color: rgb(177,210,231); color:white;\">purpose is car (new)</span> <b>THEN </b> accept"
      ],
      "text/plain": [
       "<IPython.core.display.HTML object>"
      ]
     },
     "metadata": {},
     "output_type": "display_data"
    },
    {
     "data": {
      "text/html": [
       "#12, 2857, LR: 0.09, Confidence: 0.00, Consistency: 0.11"
      ],
      "text/plain": [
       "<IPython.core.display.HTML object>"
      ]
     },
     "metadata": {},
     "output_type": "display_data"
    },
    {
     "data": {
      "text/html": [
       "<b>IF </b>  <span style=\"background-color: rgb(253,213,195); color:black;\">telephone is No</span>,  <span style=\"background-color: rgb(253,219,203); color:black;\">purpose is not furniture/equipment</span>,  <span style=\"background-color: rgb(212,228,243); color:black;\">foreign_worker is Yes</span> <b>THEN </b> accept"
      ],
      "text/plain": [
       "<IPython.core.display.HTML object>"
      ]
     },
     "metadata": {},
     "output_type": "display_data"
    },
    {
     "data": {
      "text/html": [
       "#13, 925, LR: 0.15, Confidence: 0.00, Consistency: 0.83"
      ],
      "text/plain": [
       "<IPython.core.display.HTML object>"
      ]
     },
     "metadata": {},
     "output_type": "display_data"
    },
    {
     "data": {
      "text/html": [
       "<b>IF </b>  <span style=\"background-color: rgb(253,213,195); color:black;\">telephone is No</span>,  <span style=\"background-color: rgb(253,219,203); color:black;\">purpose is not furniture/equipment</span>,  <span style=\"background-color: white; color:black;\">savings is not 500 to 1000 DM and >= 1000 DM</span>,  <span style=\"background-color: rgb(252,194,171); color:black;\">status is not ... >= 200 DM (salary)</span>,  <span style=\"background-color: rgb(212,228,243); color:black;\">foreign_worker is Yes</span> <b>THEN </b> accept"
      ],
      "text/plain": [
       "<IPython.core.display.HTML object>"
      ]
     },
     "metadata": {},
     "output_type": "display_data"
    },
    {
     "data": {
      "text/html": [
       "#14, 674, LR: 0.04, Confidence: 0.00, Consistency: 0.50"
      ],
      "text/plain": [
       "<IPython.core.display.HTML object>"
      ]
     },
     "metadata": {},
     "output_type": "display_data"
    },
    {
     "data": {
      "text/html": [
       "<b>IF </b>  <span style=\"background-color: rgb(158,202,225); color:white;\">status is ... >= 200 DM (salary)</span>,  <span style=\"background-color: rgb(253,214,197); color:black;\">credit_history is not existing credits paid back duly till now</span>,  <span style=\"background-color: white; color:black;\">amount <= 3882</span>,  <span style=\"background-color: rgb(253,212,194); color:black;\">other_debtors is none</span>,  <span style=\"background-color: rgb(252,153,122); color:white;\">other_installment_plans is bank</span> <b>THEN </b> accept"
      ],
      "text/plain": [
       "<IPython.core.display.HTML object>"
      ]
     },
     "metadata": {},
     "output_type": "display_data"
    },
    {
     "data": {
      "text/html": [
       "#15, 3629, LR: 0.03, Confidence: 0.00, Consistency: 0.12"
      ],
      "text/plain": [
       "<IPython.core.display.HTML object>"
      ]
     },
     "metadata": {},
     "output_type": "display_data"
    },
    {
     "data": {
      "text/html": [
       "<b>IF </b>  <span style=\"background-color: rgb(187,214,235); color:white;\">credit_history is all credits at this bank paid back duly</span>,  <span style=\"background-color: rgb(253,208,189); color:black;\">number_credits is 4 to 5</span> <b>THEN </b> accept"
      ],
      "text/plain": [
       "<IPython.core.display.HTML object>"
      ]
     },
     "metadata": {},
     "output_type": "display_data"
    },
    {
     "data": {
      "text/html": [
       "#16, 8561, LR: 0.00, Confidence: 0.00, Consistency: 0.00"
      ],
      "text/plain": [
       "<IPython.core.display.HTML object>"
      ]
     },
     "metadata": {},
     "output_type": "display_data"
    },
    {
     "data": {
      "text/html": [
       "<b>IF </b>  <span style=\"background-color: rgb(219,233,246); color:black;\">other_installment_plans is none</span>,  <span style=\"background-color: rgb(253,214,197); color:black;\">credit_history is no credits taken/all credits paid back duly</span>,  <span style=\"background-color: rgb(158,202,225); color:white;\">status is ... >= 200 DM (salary)</span>,  <span style=\"background-color: rgb(253,218,202); color:black;\">installment_rate is not < 20</span>,  <span style=\"background-color: rgb(177,210,231); color:white;\">purpose is car (new)</span> <b>THEN </b> accept"
      ],
      "text/plain": [
       "<IPython.core.display.HTML object>"
      ]
     },
     "metadata": {},
     "output_type": "display_data"
    },
    {
     "data": {
      "text/html": [
       "#17, 4163, LR: 0.08, Confidence: 0.00, Consistency: 0.33"
      ],
      "text/plain": [
       "<IPython.core.display.HTML object>"
      ]
     },
     "metadata": {},
     "output_type": "display_data"
    },
    {
     "data": {
      "text/html": [
       "<b>IF </b>  <span style=\"background-color: white; color:black;\">property is not unknown / no property</span>,  <span style=\"background-color: white; color:black;\">savings is unknown/no savings account or < 100 DM</span>,  <span style=\"background-color: rgb(252,194,171); color:black;\">status is not ... >= 200 DM (salary)</span>,  <span style=\"background-color: white; color:black;\">people_liable is 0 to 2</span>,  <span style=\"background-color: rgb(253,206,186); color:black;\">personal_status_sex is not married male</span>,  <span style=\"background-color: rgb(207,225,242); color:black;\">other_debtors is guarantor</span> <b>THEN </b> accept"
      ],
      "text/plain": [
       "<IPython.core.display.HTML object>"
      ]
     },
     "metadata": {},
     "output_type": "display_data"
    },
    {
     "data": {
      "text/html": [
       "#18, 1099, LR: 0.77, Confidence: 0.00, Consistency: 0.84"
      ],
      "text/plain": [
       "<IPython.core.display.HTML object>"
      ]
     },
     "metadata": {},
     "output_type": "display_data"
    },
    {
     "data": {
      "text/html": [
       "<b>IF </b>  <span style=\"background-color: rgb(252,194,171); color:black;\">status is not ... >= 200 DM (salary)</span>,  <span style=\"background-color: rgb(252,192,168); color:black;\">credit_history is no credits taken/all credits paid back duly</span>,  <span style=\"background-color: white; color:black;\">foreign_worker is No</span>,  <span style=\"background-color: rgb(253,213,195); color:black;\">telephone is No</span>,  <span style=\"background-color: white; color:black;\">present_residence is not < 1 yr</span>,  <span style=\"background-color: rgb(251,127,95); color:white;\">purpose is others</span>,  <span style=\"background-color: white; color:black;\">amount >= 1380</span> <b>THEN </b> accept"
      ],
      "text/plain": [
       "<IPython.core.display.HTML object>"
      ]
     },
     "metadata": {},
     "output_type": "display_data"
    },
    {
     "data": {
      "text/html": [
       "#19, 9013, LR: 0.11, Confidence: 0.00, Consistency: 0.80"
      ],
      "text/plain": [
       "<IPython.core.display.HTML object>"
      ]
     },
     "metadata": {},
     "output_type": "display_data"
    },
    {
     "data": {
      "text/html": [
       "<b>IF </b>  <span style=\"background-color: rgb(219,233,246); color:black;\">other_installment_plans is none</span>,  <span style=\"background-color: white; color:black;\">purpose is not others</span>,  <span style=\"background-color: rgb(252,192,168); color:black;\">credit_history is no credits taken/all credits paid back duly</span>,  <span style=\"background-color: rgb(252,177,150); color:white;\">age <= 23</span>,  <span style=\"background-color: white; color:black;\">telephone is Yes</span>,  <span style=\"background-color: rgb(209,226,242); color:black;\">property is real estate</span> <b>THEN </b> accept"
      ],
      "text/plain": [
       "<IPython.core.display.HTML object>"
      ]
     },
     "metadata": {},
     "output_type": "display_data"
    },
    {
     "data": {
      "text/html": [
       "#20, 8116, LR: 0.29, Confidence: 0.00, Consistency: 0.73"
      ],
      "text/plain": [
       "<IPython.core.display.HTML object>"
      ]
     },
     "metadata": {},
     "output_type": "display_data"
    },
    {
     "data": {
      "text/html": [
       "<b>IF </b>  <span style=\"background-color: rgb(252,153,122); color:white;\">other_installment_plans is bank</span>,  <span style=\"background-color: rgb(252,194,171); color:black;\">status is not ... >= 200 DM (salary)</span>,  <span style=\"background-color: white; color:black;\">property is not car or other</span>,  <span style=\"background-color: white; color:black;\">credit_history is no credits taken/all credits paid back duly</span>,  <span style=\"background-color: rgb(212,228,243); color:black;\">installment_rate is not 25 to 35 and >= 35</span> <b>THEN </b> accept"
      ],
      "text/plain": [
       "<IPython.core.display.HTML object>"
      ]
     },
     "metadata": {},
     "output_type": "display_data"
    },
    {
     "data": {
      "text/html": [
       "#21, 4575, LR: 0.03, Confidence: 0.00, Consistency: 0.00"
      ],
      "text/plain": [
       "<IPython.core.display.HTML object>"
      ]
     },
     "metadata": {},
     "output_type": "display_data"
    },
    {
     "data": {
      "text/html": [
       "<b>IF </b>  <span style=\"background-color: rgb(212,228,243); color:black;\">purpose is furniture/equipment</span>,  <span style=\"background-color: rgb(218,232,245); color:black;\">employment_duration is 4 to 7 yrs or >= 7 yrs</span>,  <span style=\"background-color: white; color:black;\">amount in 1184 to 3608</span>,  <span style=\"background-color: white; color:black;\">telephone is Yes</span>,  <span style=\"background-color: white; color:black;\">number_credits is 1</span> <b>THEN </b> accept"
      ],
      "text/plain": [
       "<IPython.core.display.HTML object>"
      ]
     },
     "metadata": {},
     "output_type": "display_data"
    },
    {
     "data": {
      "text/html": [
       "#22, 5139, LR: 0.01, Confidence: 0.00, Consistency: 0.88"
      ],
      "text/plain": [
       "<IPython.core.display.HTML object>"
      ]
     },
     "metadata": {},
     "output_type": "display_data"
    },
    {
     "data": {
      "text/html": [
       "<b>IF </b>  <span style=\"background-color: white; color:black;\">credit_history is no credits taken/all credits paid back duly</span>,  <span style=\"background-color: rgb(158,202,225); color:white;\">status is ... >= 200 DM (salary)</span>,  <span style=\"background-color: rgb(253,219,203); color:black;\">purpose is not furniture/equipment</span>,  <span style=\"background-color: white; color:black;\">number_credits is 2 to 3</span> <b>THEN </b> accept"
      ],
      "text/plain": [
       "<IPython.core.display.HTML object>"
      ]
     },
     "metadata": {},
     "output_type": "display_data"
    },
    {
     "data": {
      "text/html": [
       "#23, 5954, LR: 0.05, Confidence: 0.00, Consistency: 0.36"
      ],
      "text/plain": [
       "<IPython.core.display.HTML object>"
      ]
     },
     "metadata": {},
     "output_type": "display_data"
    },
    {
     "data": {
      "text/html": [
       "<b>IF </b>  <span style=\"background-color: rgb(187,214,235); color:white;\">credit_history is all credits at this bank paid back duly</span>,  <span style=\"background-color: rgb(252,172,144); color:white;\">duration >= 15</span>,  <span style=\"background-color: white; color:black;\">telephone is Yes</span>,  <span style=\"background-color: rgb(217,231,245); color:black;\">age >= 35</span>,  <span style=\"background-color: rgb(252,186,160); color:white;\">people_liable is 3 or more</span> <b>THEN </b> accept"
      ],
      "text/plain": [
       "<IPython.core.display.HTML object>"
      ]
     },
     "metadata": {},
     "output_type": "display_data"
    },
    {
     "data": {
      "text/html": [
       "#24, 6723, LR: 0.39, Confidence: 0.00, Consistency: 0.76"
      ],
      "text/plain": [
       "<IPython.core.display.HTML object>"
      ]
     },
     "metadata": {},
     "output_type": "display_data"
    },
    {
     "data": {
      "text/html": [
       "<b>IF </b>  <span style=\"background-color: rgb(252,199,177); color:black;\">property is not real estate</span>,  <span style=\"background-color: white; color:black;\">telephone is Yes</span>,  <span style=\"background-color: white; color:black;\">credit_history is not delay in paying off in the past</span>,  <span style=\"background-color: rgb(251,138,106); color:white;\">purpose is retraining</span> <b>THEN </b> accept"
      ],
      "text/plain": [
       "<IPython.core.display.HTML object>"
      ]
     },
     "metadata": {},
     "output_type": "display_data"
    },
    {
     "data": {
      "text/html": [
       "#25, 4766, LR: 0.02, Confidence: 0.00, Consistency: 0.64"
      ],
      "text/plain": [
       "<IPython.core.display.HTML object>"
      ]
     },
     "metadata": {},
     "output_type": "display_data"
    },
    {
     "data": {
      "text/html": [
       "<b>IF </b>  <span style=\"background-color: rgb(253,214,197); color:black;\">amount >= 4146</span>,  <span style=\"background-color: rgb(177,210,231); color:white;\">purpose is car (new)</span>,  <span style=\"background-color: white; color:black;\">number_credits is 1</span> <b>THEN </b> accept"
      ],
      "text/plain": [
       "<IPython.core.display.HTML object>"
      ]
     },
     "metadata": {},
     "output_type": "display_data"
    },
    {
     "data": {
      "text/html": [
       "#26, 1280, LR: 0.02, Confidence: 0.00, Consistency: 0.67"
      ],
      "text/plain": [
       "<IPython.core.display.HTML object>"
      ]
     },
     "metadata": {},
     "output_type": "display_data"
    },
    {
     "data": {
      "text/html": [
       "<b>IF </b>  <span style=\"background-color: rgb(253,223,209); color:black;\">property is not real estate</span>,  <span style=\"background-color: white; color:black;\">savings is unknown/no savings account or < 100 DM</span>,  <span style=\"background-color: rgb(253,213,195); color:black;\">telephone is No</span>,  <span style=\"background-color: rgb(177,210,231); color:white;\">purpose is car (new)</span> <b>THEN </b> accept"
      ],
      "text/plain": [
       "<IPython.core.display.HTML object>"
      ]
     },
     "metadata": {},
     "output_type": "display_data"
    },
    {
     "data": {
      "text/html": [
       "#27, 3531, LR: 0.94, Confidence: 0.00, Consistency: 0.17"
      ],
      "text/plain": [
       "<IPython.core.display.HTML object>"
      ]
     },
     "metadata": {},
     "output_type": "display_data"
    },
    {
     "data": {
      "text/html": [
       "<b>IF </b>  <span style=\"background-color: rgb(252,172,144); color:white;\">duration >= 15</span>,  <span style=\"background-color: rgb(251,127,95); color:white;\">purpose is others</span>,  <span style=\"background-color: rgb(252,175,147); color:white;\">status is not 0 to 200 DM and ... >= 200 DM (salary)</span>,  <span style=\"background-color: white; color:black;\">employment_duration is not unemployed and < 1 yr</span>,  <span style=\"background-color: rgb(253,222,208); color:black;\">job is not unskilled and resident</span>,  <span style=\"background-color: rgb(251,138,106); color:white;\">credit_history is critical account/other credits elsewhere</span> <b>THEN </b> accept"
      ],
      "text/plain": [
       "<IPython.core.display.HTML object>"
      ]
     },
     "metadata": {},
     "output_type": "display_data"
    },
    {
     "data": {
      "text/html": [
       "#28, 858, LR: 0.05, Confidence: 0.00, Consistency: 0.35"
      ],
      "text/plain": [
       "<IPython.core.display.HTML object>"
      ]
     },
     "metadata": {},
     "output_type": "display_data"
    },
    {
     "data": {
      "text/html": [
       "<b>IF </b>  <span style=\"background-color: rgb(252,194,171); color:black;\">status is not ... >= 200 DM (salary)</span>,  <span style=\"background-color: rgb(209,226,242); color:black;\">property is real estate</span>,  <span style=\"background-color: white; color:black;\">foreign_worker is No</span>,  <span style=\"background-color: rgb(218,232,245); color:black;\">employment_duration is 4 to 7 yrs or >= 7 yrs</span>,  <span style=\"background-color: white; color:black;\">number_credits is 1</span> <b>THEN </b> accept"
      ],
      "text/plain": [
       "<IPython.core.display.HTML object>"
      ]
     },
     "metadata": {},
     "output_type": "display_data"
    },
    {
     "data": {
      "text/html": [
       "#29, 4051, LR: 0.03, Confidence: 0.01, Consistency: 0.88"
      ],
      "text/plain": [
       "<IPython.core.display.HTML object>"
      ]
     },
     "metadata": {},
     "output_type": "display_data"
    },
    {
     "data": {
      "text/html": [
       "<b>IF </b>  <span style=\"background-color: white; color:black;\">telephone is Yes</span>,  <span style=\"background-color: rgb(167,206,228); color:white;\">status is not no checking account and ... < 0 DM</span>,  <span style=\"background-color: rgb(251,138,106); color:white;\">purpose is retraining</span> <b>THEN </b> accept"
      ],
      "text/plain": [
       "<IPython.core.display.HTML object>"
      ]
     },
     "metadata": {},
     "output_type": "display_data"
    },
    {
     "data": {
      "text/html": [
       "#30, 1609, LR: 0.32, Confidence: 0.00, Consistency: 0.27"
      ],
      "text/plain": [
       "<IPython.core.display.HTML object>"
      ]
     },
     "metadata": {},
     "output_type": "display_data"
    },
    {
     "data": {
      "text/html": [
       "<b>IF </b>  <span style=\"background-color: white; color:black;\">telephone is Yes</span>,  <span style=\"background-color: white; color:black;\">amount <= 4190</span>,  <span style=\"background-color: rgb(253,218,202); color:black;\">property is not building soc. savings agr./life insurance</span>,  <span style=\"background-color: rgb(252,153,122); color:white;\">other_installment_plans is bank</span> <b>THEN </b> accept"
      ],
      "text/plain": [
       "<IPython.core.display.HTML object>"
      ]
     },
     "metadata": {},
     "output_type": "display_data"
    },
    {
     "data": {
      "text/html": [
       "#31, 8117, LR: 0.63, Confidence: 0.00, Consistency: 0.84"
      ],
      "text/plain": [
       "<IPython.core.display.HTML object>"
      ]
     },
     "metadata": {},
     "output_type": "display_data"
    },
    {
     "data": {
      "text/html": [
       "<b>IF </b>  <span style=\"background-color: rgb(252,153,122); color:white;\">other_installment_plans is bank</span>,  <span style=\"background-color: rgb(252,194,171); color:black;\">status is not ... >= 200 DM (salary)</span>,  <span style=\"background-color: white; color:black;\">property is not car or other</span>,  <span style=\"background-color: white; color:black;\">credit_history is no credits taken/all credits paid back duly</span>,  <span style=\"background-color: rgb(252,193,169); color:black;\">installment_rate is not < 20 and 20 to 25</span> <b>THEN </b> accept"
      ],
      "text/plain": [
       "<IPython.core.display.HTML object>"
      ]
     },
     "metadata": {},
     "output_type": "display_data"
    },
    {
     "data": {
      "text/html": [
       "#32, 8149, LR: 0.10, Confidence: 0.00, Consistency: 0.86"
      ],
      "text/plain": [
       "<IPython.core.display.HTML object>"
      ]
     },
     "metadata": {},
     "output_type": "display_data"
    },
    {
     "data": {
      "text/html": [
       "<b>IF </b>  <span style=\"background-color: rgb(252,194,171); color:black;\">status is not ... >= 200 DM (salary)</span>,  <span style=\"background-color: rgb(212,228,243); color:black;\">purpose is furniture/equipment</span>,  <span style=\"background-color: white; color:black;\">number_credits is 2 to 3</span>,  <span style=\"background-color: white; color:black;\">telephone is Yes</span> <b>THEN </b> accept"
      ],
      "text/plain": [
       "<IPython.core.display.HTML object>"
      ]
     },
     "metadata": {},
     "output_type": "display_data"
    },
    {
     "data": {
      "text/html": [
       "#33, 7444, LR: 0.30, Confidence: 0.00, Consistency: 0.50"
      ],
      "text/plain": [
       "<IPython.core.display.HTML object>"
      ]
     },
     "metadata": {},
     "output_type": "display_data"
    },
    {
     "data": {
      "text/html": [
       "<b>IF </b>  <span style=\"background-color: white; color:black;\">credit_history is not critical account/other credits elsewhere and existing credits paid back duly till now</span>,  <span style=\"background-color: rgb(253,219,203); color:black;\">purpose is not furniture/equipment</span>,  <span style=\"background-color: white; color:black;\">telephone is Yes</span>,  <span style=\"background-color: white; color:black;\">people_liable is 0 to 2</span>,  <span style=\"background-color: rgb(252,176,148); color:white;\">housing is not own</span>,  <span style=\"background-color: rgb(253,214,197); color:black;\">property is car or other</span> <b>THEN </b> accept"
      ],
      "text/plain": [
       "<IPython.core.display.HTML object>"
      ]
     },
     "metadata": {},
     "output_type": "display_data"
    },
    {
     "data": {
      "text/html": [
       "#34, 7946, LR: 0.12, Confidence: 0.00, Consistency: 0.15"
      ],
      "text/plain": [
       "<IPython.core.display.HTML object>"
      ]
     },
     "metadata": {},
     "output_type": "display_data"
    },
    {
     "data": {
      "text/html": [
       "<b>IF </b>  <span style=\"background-color: rgb(252,194,171); color:black;\">status is not ... >= 200 DM (salary)</span>,  <span style=\"background-color: white; color:black;\">present_residence is not < 1 yr</span>,  <span style=\"background-color: rgb(253,213,195); color:black;\">telephone is No</span>,  <span style=\"background-color: rgb(212,228,243); color:black;\">foreign_worker is Yes</span> <b>THEN </b> accept"
      ],
      "text/plain": [
       "<IPython.core.display.HTML object>"
      ]
     },
     "metadata": {},
     "output_type": "display_data"
    },
    {
     "data": {
      "text/html": [
       "#35, 6607, LR: 0.24, Confidence: 0.00, Consistency: 0.86"
      ],
      "text/plain": [
       "<IPython.core.display.HTML object>"
      ]
     },
     "metadata": {},
     "output_type": "display_data"
    },
    {
     "data": {
      "text/html": [
       "<b>IF </b>  <span style=\"background-color: rgb(216,231,245); color:black;\">credit_history is existing credits paid back duly till now</span>,  <span style=\"background-color: rgb(251,138,106); color:white;\">purpose is retraining</span> <b>THEN </b> accept"
      ],
      "text/plain": [
       "<IPython.core.display.HTML object>"
      ]
     },
     "metadata": {},
     "output_type": "display_data"
    },
    {
     "data": {
      "text/html": [
       "#36, 7957, LR: 0.38, Confidence: 0.01, Consistency: 0.67"
      ],
      "text/plain": [
       "<IPython.core.display.HTML object>"
      ]
     },
     "metadata": {},
     "output_type": "display_data"
    },
    {
     "data": {
      "text/html": [
       "<b>IF </b>  <span style=\"background-color: rgb(252,194,171); color:black;\">status is not ... >= 200 DM (salary)</span>,  <span style=\"background-color: white; color:black;\">present_residence is not < 1 yr</span>,  <span style=\"background-color: white; color:black;\">telephone is Yes</span>,  <span style=\"background-color: rgb(251,138,106); color:white;\">purpose is retraining</span>,  <span style=\"background-color: rgb(218,232,245); color:black;\">duration <= 28</span> <b>THEN </b> accept"
      ],
      "text/plain": [
       "<IPython.core.display.HTML object>"
      ]
     },
     "metadata": {},
     "output_type": "display_data"
    },
    {
     "data": {
      "text/html": [
       "#37, 3771, LR: 0.01, Confidence: 0.00, Consistency: 0.35"
      ],
      "text/plain": [
       "<IPython.core.display.HTML object>"
      ]
     },
     "metadata": {},
     "output_type": "display_data"
    },
    {
     "data": {
      "text/html": [
       "<b>IF </b>  <span style=\"background-color: rgb(207,225,242); color:black;\">savings is not unknown/no savings account and < 100 DM</span>,  <span style=\"background-color: rgb(203,222,240); color:black;\">status is not no checking account</span>,  <span style=\"background-color: white; color:black;\">amount <= 4077</span>,  <span style=\"background-color: white; color:black;\">number_credits is 1</span>,  <span style=\"background-color: rgb(221,234,246); color:black;\">purpose is car (used)</span> <b>THEN </b> accept"
      ],
      "text/plain": [
       "<IPython.core.display.HTML object>"
      ]
     },
     "metadata": {},
     "output_type": "display_data"
    },
    {
     "data": {
      "text/html": [
       "#38, 7859, LR: 0.01, Confidence: 0.00, Consistency: 0.00"
      ],
      "text/plain": [
       "<IPython.core.display.HTML object>"
      ]
     },
     "metadata": {},
     "output_type": "display_data"
    },
    {
     "data": {
      "text/html": [
       "<b>IF </b>  <span style=\"background-color: rgb(219,233,246); color:black;\">housing is own</span>,  <span style=\"background-color: rgb(215,230,244); color:black;\">employment_duration is >= 7 yrs</span>,  <span style=\"background-color: white; color:black;\">telephone is Yes</span>,  <span style=\"background-color: rgb(209,226,242); color:black;\">property is real estate</span>,  <span style=\"background-color: white; color:black;\">amount <= 4190</span>,  <span style=\"background-color: white; color:black;\">purpose is not retraining</span> <b>THEN </b> accept"
      ],
      "text/plain": [
       "<IPython.core.display.HTML object>"
      ]
     },
     "metadata": {},
     "output_type": "display_data"
    },
    {
     "data": {
      "text/html": [
       "#39, 7810, LR: 0.37, Confidence: 0.00, Consistency: 0.80"
      ],
      "text/plain": [
       "<IPython.core.display.HTML object>"
      ]
     },
     "metadata": {},
     "output_type": "display_data"
    },
    {
     "data": {
      "text/html": [
       "<b>IF </b>  <span style=\"background-color: white; color:black;\">other_installment_plans is not bank</span>,  <span style=\"background-color: rgb(219,233,246); color:black;\">housing is own</span>,  <span style=\"background-color: rgb(251,106,74); color:white;\">purpose is repairs</span> <b>THEN </b> accept"
      ],
      "text/plain": [
       "<IPython.core.display.HTML object>"
      ]
     },
     "metadata": {},
     "output_type": "display_data"
    },
    {
     "data": {
      "text/html": [
       "#40, 8811, LR: 0.00, Confidence: 0.00, Consistency: 0.40"
      ],
      "text/plain": [
       "<IPython.core.display.HTML object>"
      ]
     },
     "metadata": {},
     "output_type": "display_data"
    },
    {
     "data": {
      "text/html": [
       "<b>IF </b>  <span style=\"background-color: rgb(158,202,225); color:white;\">status is ... >= 200 DM (salary)</span>,  <span style=\"background-color: rgb(220,233,246); color:black;\">job is unskilled and resident</span>,  <span style=\"background-color: rgb(205,223,241); color:black;\">duration <= 16</span>,  <span style=\"background-color: white; color:black;\">credit_history is no credits taken/all credits paid back duly</span> <b>THEN </b> accept"
      ],
      "text/plain": [
       "<IPython.core.display.HTML object>"
      ]
     },
     "metadata": {},
     "output_type": "display_data"
    },
    {
     "data": {
      "text/html": [
       "#41, 7393, LR: 0.15, Confidence: 0.00, Consistency: 0.94"
      ],
      "text/plain": [
       "<IPython.core.display.HTML object>"
      ]
     },
     "metadata": {},
     "output_type": "display_data"
    },
    {
     "data": {
      "text/html": [
       "<b>IF </b>  <span style=\"background-color: rgb(207,225,242); color:black;\">savings is not unknown/no savings account and < 100 DM</span>,  <span style=\"background-color: rgb(252,153,122); color:white;\">other_installment_plans is bank</span>,  <span style=\"background-color: white; color:black;\">job is skilled</span> <b>THEN </b> accept"
      ],
      "text/plain": [
       "<IPython.core.display.HTML object>"
      ]
     },
     "metadata": {},
     "output_type": "display_data"
    },
    {
     "data": {
      "text/html": [
       "#42, 8854, LR: 0.05, Confidence: 0.00, Consistency: 0.53"
      ],
      "text/plain": [
       "<IPython.core.display.HTML object>"
      ]
     },
     "metadata": {},
     "output_type": "display_data"
    },
    {
     "data": {
      "text/html": [
       "<b>IF </b>  <span style=\"background-color: rgb(212,228,243); color:black;\">purpose is furniture/equipment</span>,  <span style=\"background-color: rgb(253,222,208); color:black;\">amount >= 1910</span>,  <span style=\"background-color: rgb(220,233,246); color:black;\">job is unskilled and resident</span> <b>THEN </b> accept"
      ],
      "text/plain": [
       "<IPython.core.display.HTML object>"
      ]
     },
     "metadata": {},
     "output_type": "display_data"
    },
    {
     "data": {
      "text/html": [
       "#43, 88, LR: 0.03, Confidence: 0.00, Consistency: 0.91"
      ],
      "text/plain": [
       "<IPython.core.display.HTML object>"
      ]
     },
     "metadata": {},
     "output_type": "display_data"
    },
    {
     "data": {
      "text/html": [
       "<b>IF </b>  <span style=\"background-color: rgb(187,214,235); color:white;\">credit_history is all credits at this bank paid back duly</span>,  <span style=\"background-color: rgb(252,182,156); color:white;\">age <= 25</span>,  <span style=\"background-color: rgb(221,234,246); color:black;\">purpose is car (used)</span> <b>THEN </b> accept"
      ],
      "text/plain": [
       "<IPython.core.display.HTML object>"
      ]
     },
     "metadata": {},
     "output_type": "display_data"
    },
    {
     "data": {
      "text/html": [
       "#44, 859, LR: 0.04, Confidence: 0.00, Consistency: 0.00"
      ],
      "text/plain": [
       "<IPython.core.display.HTML object>"
      ]
     },
     "metadata": {},
     "output_type": "display_data"
    },
    {
     "data": {
      "text/html": [
       "<b>IF </b>  <span style=\"background-color: rgb(252,194,171); color:black;\">status is not ... >= 200 DM (salary)</span>,  <span style=\"background-color: rgb(209,226,242); color:black;\">property is real estate</span>,  <span style=\"background-color: rgb(212,228,243); color:black;\">foreign_worker is Yes</span> <b>THEN </b> accept"
      ],
      "text/plain": [
       "<IPython.core.display.HTML object>"
      ]
     },
     "metadata": {},
     "output_type": "display_data"
    },
    {
     "data": {
      "text/html": [
       "#45, 7583, LR: 0.05, Confidence: 0.03, Consistency: 0.80"
      ],
      "text/plain": [
       "<IPython.core.display.HTML object>"
      ]
     },
     "metadata": {},
     "output_type": "display_data"
    },
    {
     "data": {
      "text/html": [
       "<b>IF </b>  <span style=\"background-color: white; color:black;\">employment_duration is not unemployed and < 1 yr</span>,  <span style=\"background-color: rgb(251,127,95); color:white;\">purpose is others</span>,  <span style=\"background-color: rgb(158,202,225); color:white;\">status is ... >= 200 DM (salary)</span>,  <span style=\"background-color: rgb(252,186,160); color:white;\">people_liable is 3 or more</span> <b>THEN </b> accept"
      ],
      "text/plain": [
       "<IPython.core.display.HTML object>"
      ]
     },
     "metadata": {},
     "output_type": "display_data"
    },
    {
     "data": {
      "text/html": [
       "#46, 4150, LR: 0.29, Confidence: 0.00, Consistency: 0.57"
      ],
      "text/plain": [
       "<IPython.core.display.HTML object>"
      ]
     },
     "metadata": {},
     "output_type": "display_data"
    },
    {
     "data": {
      "text/html": [
       "<b>IF </b>  <span style=\"background-color: white; color:black;\">property is not unknown / no property</span>,  <span style=\"background-color: white; color:black;\">savings is unknown/no savings account or < 100 DM</span>,  <span style=\"background-color: rgb(252,194,171); color:black;\">status is not ... >= 200 DM (salary)</span>,  <span style=\"background-color: rgb(252,186,160); color:white;\">people_liable is 3 or more</span>,  <span style=\"background-color: white; color:black;\">number_credits is 2 to 3</span> <b>THEN </b> accept"
      ],
      "text/plain": [
       "<IPython.core.display.HTML object>"
      ]
     },
     "metadata": {},
     "output_type": "display_data"
    },
    {
     "data": {
      "text/html": [
       "#47, 9243, LR: 0.00, Confidence: 0.00, Consistency: 0.25"
      ],
      "text/plain": [
       "<IPython.core.display.HTML object>"
      ]
     },
     "metadata": {},
     "output_type": "display_data"
    },
    {
     "data": {
      "text/html": [
       "<b>IF </b>  <span style=\"background-color: rgb(253,220,205); color:black;\">personal_status_sex is married male</span>,  <span style=\"background-color: rgb(219,233,246); color:black;\">housing is own</span>,  <span style=\"background-color: rgb(158,202,225); color:white;\">status is ... >= 200 DM (salary)</span>,  <span style=\"background-color: rgb(253,207,188); color:black;\">duration >= 11</span>,  <span style=\"background-color: rgb(253,208,189); color:black;\">job is highly skilled</span>,  <span style=\"background-color: rgb(187,214,235); color:white;\">credit_history is all credits at this bank paid back duly</span> <b>THEN </b> accept"
      ],
      "text/plain": [
       "<IPython.core.display.HTML object>"
      ]
     },
     "metadata": {},
     "output_type": "display_data"
    },
    {
     "data": {
      "text/html": [
       "#48, 8519, LR: 0.02, Confidence: 0.00, Consistency: 0.00"
      ],
      "text/plain": [
       "<IPython.core.display.HTML object>"
      ]
     },
     "metadata": {},
     "output_type": "display_data"
    },
    {
     "data": {
      "text/html": [
       "<b>IF </b>  <span style=\"background-color: rgb(209,226,242); color:black;\">property is real estate</span>,  <span style=\"background-color: rgb(212,228,243); color:black;\">foreign_worker is Yes</span> <b>THEN </b> accept"
      ],
      "text/plain": [
       "<IPython.core.display.HTML object>"
      ]
     },
     "metadata": {},
     "output_type": "display_data"
    },
    {
     "data": {
      "text/html": [
       "#49, 6996, LR: 0.35, Confidence: 0.00, Consistency: 0.11"
      ],
      "text/plain": [
       "<IPython.core.display.HTML object>"
      ]
     },
     "metadata": {},
     "output_type": "display_data"
    },
    {
     "data": {
      "text/html": [
       "<b>IF </b>  <span style=\"background-color: rgb(251,127,95); color:white;\">purpose is others</span>,  <span style=\"background-color: white; color:black;\">telephone is Yes</span>,  <span style=\"background-color: white; color:black;\">job is skilled</span>,  <span style=\"background-color: white; color:black;\">amount <= 2128</span> <b>THEN </b> accept"
      ],
      "text/plain": [
       "<IPython.core.display.HTML object>"
      ]
     },
     "metadata": {},
     "output_type": "display_data"
    }
   ],
   "source": [
    "loci_outlier = res2.scores[:, 20].argsort()[-50:][::-1]\n",
    "for it, i in enumerate(loci_outlier):\n",
    "    display_rule(it, i)"
   ]
  },
  {
   "cell_type": "code",
   "execution_count": 62,
   "metadata": {},
   "outputs": [
    {
     "data": {
      "text/html": [
       "#0, 4137 <b>IF </b>  <span style=\"background-color: rgb(252,172,144); color:white;\">duration >= 15</span>  <span style=\"background-color: rgb(253,222,208); color:black;\">purpose is not car (used)</span>  <span style=\"background-color: rgb(251,140,108); color:white;\">property is unknown / no property</span>  <span style=\"background-color: rgb(253,209,191); color:black;\">housing is not for free</span>  <span style=\"background-color: rgb(225,236,247); color:black;\">job is not highly skilled</span>  <span style=\"background-color: rgb(245,83,59); color:white;\">status is no checking account</span>  <span style=\"background-color: rgb(252,186,160); color:white;\">people_liable is 3 or more</span> <b>THEN </b> accept"
      ],
      "text/plain": [
       "<IPython.core.display.HTML object>"
      ]
     },
     "metadata": {},
     "output_type": "display_data"
    },
    {
     "data": {
      "text/html": [
       "#1, 3531 <b>IF </b>  <span style=\"background-color: rgb(252,172,144); color:white;\">duration >= 15</span>  <span style=\"background-color: rgb(251,127,95); color:white;\">purpose is others</span>  <span style=\"background-color: rgb(252,175,147); color:white;\">status is not 0 to 200 DM and ... >= 200 DM (salary)</span>  <span style=\"background-color: rgb(223,235,247); color:black;\">employment_duration is not unemployed and < 1 yr</span>  <span style=\"background-color: rgb(253,222,208); color:black;\">job is not unskilled and resident</span>  <span style=\"background-color: rgb(251,138,106); color:white;\">credit_history is critical account/other credits elsewhere</span> <b>THEN </b> accept"
      ],
      "text/plain": [
       "<IPython.core.display.HTML object>"
      ]
     },
     "metadata": {},
     "output_type": "display_data"
    },
    {
     "data": {
      "text/html": [
       "#2, 4448 <b>IF </b>  <span style=\"background-color: rgb(252,192,168); color:black;\">credit_history is no credits taken/all credits paid back duly</span>  <span style=\"background-color: rgb(245,83,59); color:white;\">status is no checking account</span>  <span style=\"background-color: rgb(254,227,215); color:black;\">present_residence is not < 1 yr</span>  <span style=\"background-color: rgb(251,127,95); color:white;\">purpose is others</span>  <span style=\"background-color: rgb(253,223,209); color:black;\">amount >= 1667</span> <b>THEN </b> accept"
      ],
      "text/plain": [
       "<IPython.core.display.HTML object>"
      ]
     },
     "metadata": {},
     "output_type": "display_data"
    },
    {
     "data": {
      "text/html": [
       "#3, 5338 <b>IF </b>  <span style=\"background-color: rgb(245,83,59); color:white;\">status is no checking account</span>  <span style=\"background-color: rgb(253,222,208); color:black;\">job is not unskilled and resident</span>  <span style=\"background-color: rgb(253,213,195); color:black;\">telephone is No</span>  <span style=\"background-color: rgb(252,199,177); color:black;\">purpose is not car (new) and furniture/equipment</span>  <span style=\"background-color: rgb(252,200,179); color:black;\">other_debtors is not guarantor</span>  <span style=\"background-color: rgb(254,227,214); color:black;\">credit_history is no credits taken/all credits paid back duly</span>  <span style=\"background-color: rgb(254,224,210); color:black;\">amount >= 1495</span>  <span style=\"background-color: rgb(252,197,174); color:black;\">age <= 30</span> <b>THEN </b> accept"
      ],
      "text/plain": [
       "<IPython.core.display.HTML object>"
      ]
     },
     "metadata": {},
     "output_type": "display_data"
    },
    {
     "data": {
      "text/html": [
       "#4, 5998 <b>IF </b>  <span style=\"background-color: rgb(251,140,108); color:white;\">property is unknown / no property</span>  <span style=\"background-color: rgb(252,194,171); color:black;\">status is not ... >= 200 DM (salary)</span>  <span style=\"background-color: rgb(252,176,148); color:white;\">housing is not own</span>  <span style=\"background-color: rgb(253,220,205); color:black;\">personal_status_sex is married male</span>  <span style=\"background-color: rgb(252,153,122); color:white;\">other_installment_plans is bank</span> <b>THEN </b> accept"
      ],
      "text/plain": [
       "<IPython.core.display.HTML object>"
      ]
     },
     "metadata": {},
     "output_type": "display_data"
    },
    {
     "data": {
      "text/html": [
       "#5, 1216 <b>IF </b>  <span style=\"background-color: rgb(252,192,168); color:black;\">savings is unknown/no savings account or < 100 DM</span>  <span style=\"background-color: rgb(245,83,59); color:white;\">status is no checking account</span>  <span style=\"background-color: rgb(252,200,179); color:black;\">other_debtors is not guarantor</span>  <span style=\"background-color: rgb(252,176,148); color:white;\">housing is not own</span>  <span style=\"background-color: rgb(226,237,248); color:black;\">job is not skilled</span> <b>THEN </b> accept"
      ],
      "text/plain": [
       "<IPython.core.display.HTML object>"
      ]
     },
     "metadata": {},
     "output_type": "display_data"
    },
    {
     "data": {
      "text/html": [
       "#6, 2361 <b>IF </b>  <span style=\"background-color: rgb(219,233,246); color:black;\">housing is own</span>  <span style=\"background-color: rgb(226,237,248); color:black;\">other_installment_plans is not bank</span>  <span style=\"background-color: rgb(252,172,144); color:white;\">duration >= 15</span>  <span style=\"background-color: rgb(253,214,197); color:black;\">credit_history is not existing credits paid back duly till now</span>  <span style=\"background-color: rgb(252,199,177); color:black;\">purpose is not car (new) and furniture/equipment</span>  <span style=\"background-color: rgb(245,83,59); color:white;\">status is no checking account</span>  <span style=\"background-color: rgb(253,214,197); color:black;\">age <= 39</span>  <span style=\"background-color: rgb(253,222,208); color:black;\">amount >= 1939</span>  <span style=\"background-color: rgb(254,224,210); color:black;\">job is skilled</span> <b>THEN </b> accept"
      ],
      "text/plain": [
       "<IPython.core.display.HTML object>"
      ]
     },
     "metadata": {},
     "output_type": "display_data"
    },
    {
     "data": {
      "text/html": [
       "#7, 5426 <b>IF </b>  <span style=\"background-color: rgb(245,83,59); color:white;\">status is no checking account</span>  <span style=\"background-color: rgb(252,178,151); color:white;\">property is not real estate and building soc. savings agr./life insurance</span>  <span style=\"background-color: rgb(253,209,191); color:black;\">housing is not for free</span>  <span style=\"background-color: rgb(252,192,168); color:black;\">credit_history is not all credits at this bank paid back duly</span>  <span style=\"background-color: rgb(225,237,248); color:black;\">present_residence is < 1 yr</span> <b>THEN </b> accept"
      ],
      "text/plain": [
       "<IPython.core.display.HTML object>"
      ]
     },
     "metadata": {},
     "output_type": "display_data"
    },
    {
     "data": {
      "text/html": [
       "#8, 7896 <b>IF </b>  <span style=\"background-color: rgb(252,194,171); color:black;\">status is not ... >= 200 DM (salary)</span>  <span style=\"background-color: rgb(251,127,95); color:white;\">purpose is others</span>  <span style=\"background-color: rgb(252,199,177); color:black;\">property is not real estate</span>  <span style=\"background-color: rgb(253,213,195); color:black;\">telephone is No</span>  <span style=\"background-color: rgb(252,192,168); color:black;\">credit_history is not all credits at this bank paid back duly</span>  <span style=\"background-color: rgb(253,213,195); color:black;\">amount >= 6009</span> <b>THEN </b> accept"
      ],
      "text/plain": [
       "<IPython.core.display.HTML object>"
      ]
     },
     "metadata": {},
     "output_type": "display_data"
    },
    {
     "data": {
      "text/html": [
       "#9, 3048 <b>IF </b>  <span style=\"background-color: rgb(251,140,108); color:white;\">property is unknown / no property</span>  <span style=\"background-color: rgb(253,208,189); color:black;\">purpose is not car (new)</span>  <span style=\"background-color: rgb(252,194,171); color:black;\">status is not ... >= 200 DM (salary)</span>  <span style=\"background-color: rgb(253,221,206); color:black;\">duration in 9 to 47</span>  <span style=\"background-color: rgb(252,192,168); color:black;\">credit_history is not all credits at this bank paid back duly</span>  <span style=\"background-color: rgb(252,184,157); color:white;\">employment_duration is unemployed</span> <b>THEN </b> accept"
      ],
      "text/plain": [
       "<IPython.core.display.HTML object>"
      ]
     },
     "metadata": {},
     "output_type": "display_data"
    },
    {
     "data": {
      "text/html": [
       "#10, 7355 <b>IF </b>  <span style=\"background-color: rgb(252,193,169); color:black;\">savings is unknown/no savings account</span>  <span style=\"background-color: rgb(252,192,168); color:black;\">credit_history is no credits taken/all credits paid back duly</span>  <span style=\"background-color: rgb(253,219,203); color:black;\">duration >= 8</span>  <span style=\"background-color: rgb(253,206,186); color:black;\">personal_status_sex is not married male</span>  <span style=\"background-color: rgb(252,194,171); color:black;\">status is not ... >= 200 DM (salary)</span>  <span style=\"background-color: rgb(253,222,208); color:black;\">job is not unskilled and resident</span>  <span style=\"background-color: rgb(252,199,177); color:black;\">property is not real estate</span>  <span style=\"background-color: rgb(226,237,248); color:black;\">purpose is not others</span>  <span style=\"background-color: rgb(252,176,148); color:white;\">installment_rate is >= 35</span> <b>THEN </b> accept"
      ],
      "text/plain": [
       "<IPython.core.display.HTML object>"
      ]
     },
     "metadata": {},
     "output_type": "display_data"
    },
    {
     "data": {
      "text/html": [
       "#11, 9155 <b>IF </b>  <span style=\"background-color: rgb(226,237,248); color:black;\">other_installment_plans is not bank</span>  <span style=\"background-color: rgb(252,194,171); color:black;\">status is not no checking account and ... >= 200 DM (salary)</span>  <span style=\"background-color: rgb(254,225,211); color:black;\">property is not real estate and unknown / no property</span>  <span style=\"background-color: rgb(253,213,195); color:black;\">telephone is No</span>  <span style=\"background-color: rgb(252,176,148); color:white;\">housing is not own</span>  <span style=\"background-color: rgb(253,218,202); color:black;\">installment_rate is not < 20</span>  <span style=\"background-color: rgb(251,114,82); color:white;\">duration >= 35</span> <b>THEN </b> accept"
      ],
      "text/plain": [
       "<IPython.core.display.HTML object>"
      ]
     },
     "metadata": {},
     "output_type": "display_data"
    },
    {
     "data": {
      "text/html": [
       "#12, 9127 <b>IF </b>  <span style=\"background-color: rgb(252,172,144); color:white;\">duration >= 15</span>  <span style=\"background-color: rgb(226,237,248); color:black;\">other_installment_plans is not bank</span>  <span style=\"background-color: rgb(254,226,213); color:black;\">present_residence is not < 1 yr and 1 to 4 yrs</span>  <span style=\"background-color: rgb(252,205,185); color:black;\">age <= 34</span>  <span style=\"background-color: rgb(253,213,195); color:black;\">telephone is No</span>  <span style=\"background-color: rgb(221,234,246); color:black;\">credit_history is not delay in paying off in the past</span>  <span style=\"background-color: rgb(245,83,59); color:white;\">status is no checking account</span>  <span style=\"background-color: rgb(253,219,203); color:black;\">amount >= 2649</span> <b>THEN </b> accept"
      ],
      "text/plain": [
       "<IPython.core.display.HTML object>"
      ]
     },
     "metadata": {},
     "output_type": "display_data"
    },
    {
     "data": {
      "text/html": [
       "#13, 415 <b>IF </b>  <span style=\"background-color: rgb(252,192,168); color:black;\">credit_history is not all credits at this bank paid back duly</span>  <span style=\"background-color: rgb(253,220,205); color:black;\">personal_status_sex is married male</span>  <span style=\"background-color: rgb(252,194,171); color:black;\">status is not ... >= 200 DM (salary)</span>  <span style=\"background-color: rgb(254,225,211); color:black;\">property is not car or other</span>  <span style=\"background-color: rgb(253,214,197); color:black;\">amount >= 4205</span>  <span style=\"background-color: rgb(254,225,212); color:black;\">number_credits is 1</span>  <span style=\"background-color: rgb(250,102,71); color:white;\">duration >= 37</span> <b>THEN </b> accept"
      ],
      "text/plain": [
       "<IPython.core.display.HTML object>"
      ]
     },
     "metadata": {},
     "output_type": "display_data"
    },
    {
     "data": {
      "text/html": [
       "#14, 751 <b>IF </b>  <span style=\"background-color: rgb(252,192,168); color:black;\">savings is unknown/no savings account or < 100 DM</span>  <span style=\"background-color: rgb(253,213,195); color:black;\">telephone is No</span>  <span style=\"background-color: rgb(252,194,171); color:black;\">status is not ... >= 200 DM (salary)</span>  <span style=\"background-color: rgb(252,200,179); color:black;\">other_debtors is not guarantor</span>  <span style=\"background-color: rgb(253,222,208); color:black;\">job is skilled</span>  <span style=\"background-color: rgb(252,150,119); color:white;\">duration >= 21</span>  <span style=\"background-color: rgb(254,225,211); color:black;\">housing is not rent</span>  <span style=\"background-color: rgb(253,214,197); color:black;\">property is car or other</span> <b>THEN </b> accept"
      ],
      "text/plain": [
       "<IPython.core.display.HTML object>"
      ]
     },
     "metadata": {},
     "output_type": "display_data"
    },
    {
     "data": {
      "text/html": [
       "#15, 8136 <b>IF </b>  <span style=\"background-color: rgb(252,194,171); color:black;\">status is not ... >= 200 DM (salary)</span>  <span style=\"background-color: rgb(253,219,203); color:black;\">purpose is not furniture/equipment</span>  <span style=\"background-color: rgb(252,199,177); color:black;\">property is car or other</span>  <span style=\"background-color: rgb(252,192,168); color:black;\">credit_history is not all credits at this bank paid back duly</span>  <span style=\"background-color: rgb(251,122,90); color:white;\">duration >= 26</span>  <span style=\"background-color: rgb(253,221,206); color:black;\">number_credits is not 1</span> <b>THEN </b> accept"
      ],
      "text/plain": [
       "<IPython.core.display.HTML object>"
      ]
     },
     "metadata": {},
     "output_type": "display_data"
    },
    {
     "data": {
      "text/html": [
       "#16, 2097 <b>IF </b>  <span style=\"background-color: rgb(245,83,59); color:white;\">status is no checking account</span>  <span style=\"background-color: rgb(252,182,156); color:white;\">duration >= 13</span>  <span style=\"background-color: rgb(252,192,168); color:black;\">savings is unknown/no savings account or < 100 DM</span>  <span style=\"background-color: rgb(253,206,186); color:black;\">personal_status_sex is not married male</span>  <span style=\"background-color: rgb(221,234,246); color:black;\">purpose is car (used)</span> <b>THEN </b> accept"
      ],
      "text/plain": [
       "<IPython.core.display.HTML object>"
      ]
     },
     "metadata": {},
     "output_type": "display_data"
    },
    {
     "data": {
      "text/html": [
       "#17, 9367 <b>IF </b>  <span style=\"background-color: rgb(252,185,159); color:white;\">duration in 15 to 41</span>  <span style=\"background-color: rgb(252,178,151); color:white;\">credit_history is not no credits taken/all credits paid back duly and all credits at this bank paid back duly</span>  <span style=\"background-color: rgb(253,212,194); color:black;\">employment_duration is not 4 to 7 yrs and >= 7 yrs</span>  <span style=\"background-color: rgb(252,194,171); color:black;\">status is not ... >= 200 DM (salary)</span>  <span style=\"background-color: rgb(252,153,122); color:white;\">other_installment_plans is bank</span> <b>THEN </b> accept"
      ],
      "text/plain": [
       "<IPython.core.display.HTML object>"
      ]
     },
     "metadata": {},
     "output_type": "display_data"
    },
    {
     "data": {
      "text/html": [
       "#18, 9259 <b>IF </b>  <span style=\"background-color: rgb(226,237,248); color:black;\">other_installment_plans is not bank</span>  <span style=\"background-color: rgb(252,186,160); color:white;\">credit_history is critical account/other credits elsewhere or no credits taken/all credits paid back duly</span>  <span style=\"background-color: rgb(252,200,179); color:black;\">other_debtors is not guarantor</span>  <span style=\"background-color: rgb(219,233,246); color:black;\">housing is own</span>  <span style=\"background-color: rgb(252,194,171); color:black;\">status is not ... >= 200 DM (salary)</span>  <span style=\"background-color: rgb(254,228,216); color:black;\">people_liable is 0 to 2</span>  <span style=\"background-color: rgb(252,199,177); color:black;\">property is not real estate</span>  <span style=\"background-color: rgb(252,193,169); color:black;\">employment_duration is unemployed or < 1 yr</span>  <span style=\"background-color: rgb(252,155,125); color:white;\">duration >= 18</span> <b>THEN </b> accept"
      ],
      "text/plain": [
       "<IPython.core.display.HTML object>"
      ]
     },
     "metadata": {},
     "output_type": "display_data"
    },
    {
     "data": {
      "text/html": [
       "#19, 3527 <b>IF </b>  <span style=\"background-color: rgb(252,172,144); color:white;\">duration >= 15</span>  <span style=\"background-color: rgb(251,127,95); color:white;\">purpose is others</span>  <span style=\"background-color: rgb(252,175,147); color:white;\">status is not 0 to 200 DM and ... >= 200 DM (salary)</span>  <span style=\"background-color: rgb(252,193,169); color:black;\">employment_duration is unemployed or < 1 yr</span>  <span style=\"background-color: rgb(221,234,246); color:black;\">age >= 29</span> <b>THEN </b> accept"
      ],
      "text/plain": [
       "<IPython.core.display.HTML object>"
      ]
     },
     "metadata": {},
     "output_type": "display_data"
    },
    {
     "data": {
      "text/html": [
       "#20, 1728 <b>IF </b>  <span style=\"background-color: rgb(252,192,168); color:black;\">credit_history is not all credits at this bank paid back duly</span>  <span style=\"background-color: rgb(254,225,211); color:black;\">property is unknown / no property</span>  <span style=\"background-color: rgb(226,237,248); color:black;\">amount <= 5688</span>  <span style=\"background-color: rgb(245,83,59); color:white;\">status is no checking account</span>  <span style=\"background-color: rgb(252,184,157); color:white;\">other_installment_plans is not none</span> <b>THEN </b> accept"
      ],
      "text/plain": [
       "<IPython.core.display.HTML object>"
      ]
     },
     "metadata": {},
     "output_type": "display_data"
    },
    {
     "data": {
      "text/html": [
       "#21, 7021 <b>IF </b>  <span style=\"background-color: rgb(253,213,195); color:black;\">telephone is No</span>  <span style=\"background-color: rgb(254,224,210); color:black;\">job is skilled</span>  <span style=\"background-color: rgb(252,176,148); color:white;\">housing is not own</span>  <span style=\"background-color: rgb(252,193,169); color:black;\">installment_rate is not < 20 and 20 to 25</span>  <span style=\"background-color: rgb(253,220,205); color:black;\">personal_status_sex is married male</span>  <span style=\"background-color: rgb(253,223,209); color:black;\">credit_history is not no credits taken/all credits paid back duly</span>  <span style=\"background-color: rgb(251,140,108); color:white;\">property is unknown / no property</span> <b>THEN </b> accept"
      ],
      "text/plain": [
       "<IPython.core.display.HTML object>"
      ]
     },
     "metadata": {},
     "output_type": "display_data"
    },
    {
     "data": {
      "text/html": [
       "#22, 6314 <b>IF </b>  <span style=\"background-color: rgb(253,213,195); color:black;\">telephone is No</span>  <span style=\"background-color: rgb(252,178,151); color:white;\">property is not real estate and building soc. savings agr./life insurance</span>  <span style=\"background-color: rgb(253,218,202); color:black;\">purpose is not others and car (new)</span>  <span style=\"background-color: rgb(252,175,147); color:white;\">status is not 0 to 200 DM and ... >= 200 DM (salary)</span>  <span style=\"background-color: rgb(253,209,191); color:black;\">people_liable is 0 to 2</span>  <span style=\"background-color: rgb(254,226,213); color:black;\">present_residence is not < 1 yr and 1 to 4 yrs</span>  <span style=\"background-color: rgb(252,172,144); color:white;\">duration >= 16</span>  <span style=\"background-color: rgb(254,228,216); color:black;\">savings is not unknown/no savings account</span> <b>THEN </b> accept"
      ],
      "text/plain": [
       "<IPython.core.display.HTML object>"
      ]
     },
     "metadata": {},
     "output_type": "display_data"
    },
    {
     "data": {
      "text/html": [
       "#23, 603 <b>IF </b>  <span style=\"background-color: rgb(252,201,180); color:black;\">savings is not 500 to 1000 DM and >= 1000 DM</span>  <span style=\"background-color: rgb(252,184,157); color:white;\">duration >= 12</span>  <span style=\"background-color: rgb(252,175,147); color:white;\">status is not 0 to 200 DM and ... >= 200 DM (salary)</span>  <span style=\"background-color: rgb(254,224,210); color:black;\">job is skilled</span>  <span style=\"background-color: rgb(253,206,186); color:black;\">personal_status_sex is not married male</span>  <span style=\"background-color: rgb(253,220,205); color:black;\">amount >= 2337</span>  <span style=\"background-color: rgb(253,223,209); color:black;\">credit_history is not no credits taken/all credits paid back duly</span>  <span style=\"background-color: rgb(252,193,169); color:black;\">installment_rate is not < 20 and 20 to 25</span> <b>THEN </b> accept"
      ],
      "text/plain": [
       "<IPython.core.display.HTML object>"
      ]
     },
     "metadata": {},
     "output_type": "display_data"
    },
    {
     "data": {
      "text/html": [
       "#24, 2459 <b>IF </b>  <span style=\"background-color: rgb(252,192,168); color:black;\">savings is unknown/no savings account or < 100 DM</span>  <span style=\"background-color: rgb(254,225,211); color:black;\">housing is for free</span>  <span style=\"background-color: rgb(251,140,108); color:white;\">property is unknown / no property</span>  <span style=\"background-color: rgb(225,236,247); color:black;\">telephone is Yes</span>  <span style=\"background-color: rgb(251,127,95); color:white;\">purpose is others</span> <b>THEN </b> accept"
      ],
      "text/plain": [
       "<IPython.core.display.HTML object>"
      ]
     },
     "metadata": {},
     "output_type": "display_data"
    },
    {
     "data": {
      "text/html": [
       "#25, 8433 <b>IF </b>  <span style=\"background-color: rgb(252,193,169); color:black;\">housing is for free</span>  <span style=\"background-color: rgb(252,193,169); color:black;\">installment_rate is not < 20 and 20 to 25</span>  <span style=\"background-color: rgb(252,199,177); color:black;\">property is not real estate</span>  <span style=\"background-color: rgb(252,175,147); color:white;\">status is not 0 to 200 DM and ... >= 200 DM (salary)</span>  <span style=\"background-color: rgb(252,192,168); color:black;\">credit_history is not all credits at this bank paid back duly</span>  <span style=\"background-color: rgb(254,225,212); color:black;\">number_credits is 1</span>  <span style=\"background-color: rgb(225,237,248); color:black;\">age >= 23</span>  <span style=\"background-color: rgb(253,212,194); color:black;\">employment_duration is not 4 to 7 yrs and >= 7 yrs</span> <b>THEN </b> accept"
      ],
      "text/plain": [
       "<IPython.core.display.HTML object>"
      ]
     },
     "metadata": {},
     "output_type": "display_data"
    },
    {
     "data": {
      "text/html": [
       "#26, 6991 <b>IF </b>  <span style=\"background-color: rgb(221,234,246); color:black;\">purpose is not others and repairs</span>  <span style=\"background-color: rgb(251,140,108); color:white;\">property is unknown / no property</span>  <span style=\"background-color: rgb(252,194,171); color:black;\">status is not ... >= 200 DM (salary)</span>  <span style=\"background-color: rgb(252,193,169); color:black;\">housing is for free</span>  <span style=\"background-color: rgb(252,149,117); color:white;\">duration >= 23</span> <b>THEN </b> accept"
      ],
      "text/plain": [
       "<IPython.core.display.HTML object>"
      ]
     },
     "metadata": {},
     "output_type": "display_data"
    },
    {
     "data": {
      "text/html": [
       "#27, 3513 <b>IF </b>  <span style=\"background-color: rgb(252,172,144); color:white;\">duration >= 15</span>  <span style=\"background-color: rgb(226,237,248); color:black;\">purpose is not others</span>  <span style=\"background-color: rgb(245,83,59); color:white;\">status is no checking account</span>  <span style=\"background-color: rgb(253,222,208); color:black;\">job is not unskilled and resident</span>  <span style=\"background-color: rgb(254,227,214); color:black;\">credit_history is no credits taken/all credits paid back duly</span>  <span style=\"background-color: rgb(254,225,212); color:black;\">number_credits is 1</span>  <span style=\"background-color: rgb(253,220,205); color:black;\">personal_status_sex is married male</span>  <span style=\"background-color: rgb(226,237,248); color:black;\">amount <= 6039</span>  <span style=\"background-color: rgb(254,225,211); color:black;\">property is not car or other</span> <b>THEN </b> accept"
      ],
      "text/plain": [
       "<IPython.core.display.HTML object>"
      ]
     },
     "metadata": {},
     "output_type": "display_data"
    },
    {
     "data": {
      "text/html": [
       "#28, 6526 <b>IF </b>  <span style=\"background-color: rgb(252,193,169); color:black;\">installment_rate is not < 20 and 20 to 25</span>  <span style=\"background-color: rgb(252,191,166); color:black;\">property is not real estate and car or other</span>  <span style=\"background-color: rgb(252,178,151); color:white;\">credit_history is not no credits taken/all credits paid back duly and all credits at this bank paid back duly</span>  <span style=\"background-color: rgb(253,220,205); color:black;\">personal_status_sex is married male</span>  <span style=\"background-color: rgb(253,222,208); color:black;\">job is not unskilled and resident</span>  <span style=\"background-color: rgb(252,176,148); color:white;\">housing is not own</span>  <span style=\"background-color: rgb(253,216,200); color:black;\">age <= 41</span> <b>THEN </b> accept"
      ],
      "text/plain": [
       "<IPython.core.display.HTML object>"
      ]
     },
     "metadata": {},
     "output_type": "display_data"
    },
    {
     "data": {
      "text/html": [
       "#29, 5860 <b>IF </b>  <span style=\"background-color: rgb(252,194,171); color:black;\">status is not ... >= 200 DM (salary)</span>  <span style=\"background-color: rgb(252,201,180); color:black;\">savings is not 500 to 1000 DM and >= 1000 DM</span>  <span style=\"background-color: rgb(252,200,179); color:black;\">other_debtors is not guarantor</span>  <span style=\"background-color: rgb(253,213,195); color:black;\">telephone is No</span>  <span style=\"background-color: rgb(252,176,148); color:white;\">housing is not own</span>  <span style=\"background-color: rgb(253,222,208); color:black;\">purpose is not car (used)</span>  <span style=\"background-color: rgb(221,234,246); color:black;\">property is not unknown / no property</span>  <span style=\"background-color: rgb(254,228,216); color:black;\">people_liable is 0 to 2</span>  <span style=\"background-color: rgb(254,225,212); color:black;\">present_residence is >= 7 yrs</span>  <span style=\"background-color: rgb(252,180,153); color:white;\">age <= 24</span> <b>THEN </b> accept"
      ],
      "text/plain": [
       "<IPython.core.display.HTML object>"
      ]
     },
     "metadata": {},
     "output_type": "display_data"
    },
    {
     "data": {
      "text/html": [
       "#30, 6872 <b>IF </b>  <span style=\"background-color: rgb(252,192,168); color:black;\">credit_history is not all credits at this bank paid back duly</span>  <span style=\"background-color: rgb(252,194,171); color:black;\">status is not ... >= 200 DM (salary)</span>  <span style=\"background-color: rgb(253,212,194); color:black;\">other_debtors is none</span>  <span style=\"background-color: rgb(252,193,169); color:black;\">installment_rate is not < 20 and 20 to 25</span>  <span style=\"background-color: rgb(254,225,212); color:black;\">number_credits is 1</span>  <span style=\"background-color: rgb(225,237,248); color:black;\">purpose is not repairs</span>  <span style=\"background-color: rgb(252,205,185); color:black;\">age <= 34</span>  <span style=\"background-color: rgb(253,220,205); color:black;\">personal_status_sex is married male</span>  <span style=\"background-color: rgb(252,184,157); color:white;\">other_installment_plans is not none</span> <b>THEN </b> accept"
      ],
      "text/plain": [
       "<IPython.core.display.HTML object>"
      ]
     },
     "metadata": {},
     "output_type": "display_data"
    },
    {
     "data": {
      "text/html": [
       "#31, 2314 <b>IF </b>  <span style=\"background-color: rgb(252,194,171); color:black;\">status is not ... >= 200 DM (salary)</span>  <span style=\"background-color: rgb(253,212,194); color:black;\">other_debtors is none</span>  <span style=\"background-color: rgb(253,213,195); color:black;\">telephone is No</span>  <span style=\"background-color: rgb(253,214,197); color:black;\">property is car or other</span>  <span style=\"background-color: rgb(249,99,69); color:white;\">duration >= 44</span> <b>THEN </b> accept"
      ],
      "text/plain": [
       "<IPython.core.display.HTML object>"
      ]
     },
     "metadata": {},
     "output_type": "display_data"
    },
    {
     "data": {
      "text/html": [
       "#32, 3312 <b>IF </b>  <span style=\"background-color: rgb(252,192,168); color:black;\">credit_history is not all credits at this bank paid back duly</span>  <span style=\"background-color: rgb(252,193,169); color:black;\">installment_rate is not < 20 and 20 to 25</span>  <span style=\"background-color: rgb(218,232,245); color:black;\">duration <= 24</span>  <span style=\"background-color: rgb(253,213,195); color:black;\">telephone is No</span>  <span style=\"background-color: rgb(254,228,216); color:black;\">people_liable is 0 to 2</span>  <span style=\"background-color: rgb(245,83,59); color:white;\">status is no checking account</span>  <span style=\"background-color: rgb(253,221,206); color:black;\">amount >= 2175</span> <b>THEN </b> accept"
      ],
      "text/plain": [
       "<IPython.core.display.HTML object>"
      ]
     },
     "metadata": {},
     "output_type": "display_data"
    },
    {
     "data": {
      "text/html": [
       "#33, 3205 <b>IF </b>  <span style=\"background-color: rgb(252,192,168); color:black;\">credit_history is not all credits at this bank paid back duly</span>  <span style=\"background-color: rgb(252,194,171); color:black;\">status is not ... >= 200 DM (salary)</span>  <span style=\"background-color: rgb(254,228,216); color:black;\">savings is unknown/no savings account or < 100 DM</span>  <span style=\"background-color: rgb(252,193,169); color:black;\">installment_rate is not < 20 and 20 to 25</span>  <span style=\"background-color: rgb(254,224,210); color:black;\">job is skilled</span>  <span style=\"background-color: rgb(253,212,194); color:black;\">other_debtors is none</span>  <span style=\"background-color: rgb(252,182,156); color:white;\">age <= 25</span>  <span style=\"background-color: rgb(253,213,195); color:black;\">telephone is No</span>  <span style=\"background-color: rgb(254,225,211); color:black;\">housing is not rent</span> <b>THEN </b> accept"
      ],
      "text/plain": [
       "<IPython.core.display.HTML object>"
      ]
     },
     "metadata": {},
     "output_type": "display_data"
    },
    {
     "data": {
      "text/html": [
       "#34, 5330 <b>IF </b>  <span style=\"background-color: rgb(252,194,171); color:black;\">status is not ... >= 200 DM (salary)</span>  <span style=\"background-color: rgb(253,222,208); color:black;\">job is not unskilled and resident</span>  <span style=\"background-color: rgb(253,213,195); color:black;\">telephone is No</span>  <span style=\"background-color: rgb(252,199,177); color:black;\">purpose is not car (new) and furniture/equipment</span>  <span style=\"background-color: rgb(252,200,179); color:black;\">other_debtors is not guarantor</span>  <span style=\"background-color: rgb(251,130,98); color:white;\">credit_history is delay in paying off in the past or critical account/other credits elsewhere</span>  <span style=\"background-color: rgb(225,236,247); color:black;\">duration <= 46</span>  <span style=\"background-color: rgb(212,228,243); color:black;\">installment_rate is not 25 to 35 and >= 35</span>  <span style=\"background-color: rgb(252,184,157); color:white;\">other_installment_plans is not none</span> <b>THEN </b> accept"
      ],
      "text/plain": [
       "<IPython.core.display.HTML object>"
      ]
     },
     "metadata": {},
     "output_type": "display_data"
    },
    {
     "data": {
      "text/html": [
       "#35, 4443 <b>IF </b>  <span style=\"background-color: rgb(252,192,168); color:black;\">credit_history is no credits taken/all credits paid back duly</span>  <span style=\"background-color: rgb(245,83,59); color:white;\">status is no checking account</span>  <span style=\"background-color: rgb(254,227,215); color:black;\">present_residence is not < 1 yr</span>  <span style=\"background-color: rgb(254,227,214); color:black;\">purpose is not others and furniture/equipment</span>  <span style=\"background-color: rgb(253,219,203); color:black;\">amount >= 2645</span>  <span style=\"background-color: rgb(253,213,195); color:black;\">telephone is No</span> <b>THEN </b> accept"
      ],
      "text/plain": [
       "<IPython.core.display.HTML object>"
      ]
     },
     "metadata": {},
     "output_type": "display_data"
    },
    {
     "data": {
      "text/html": [
       "#36, 1171 <b>IF </b>  <span style=\"background-color: rgb(252,192,168); color:black;\">credit_history is no credits taken/all credits paid back duly</span>  <span style=\"background-color: rgb(254,228,216); color:black;\">savings is unknown/no savings account or < 100 DM</span>  <span style=\"background-color: rgb(252,200,179); color:black;\">other_debtors is not guarantor</span>  <span style=\"background-color: rgb(252,178,151); color:white;\">property is not real estate and building soc. savings agr./life insurance</span>  <span style=\"background-color: rgb(253,221,206); color:black;\">number_credits is not 1</span>  <span style=\"background-color: rgb(252,155,125); color:white;\">duration >= 18</span>  <span style=\"background-color: rgb(254,225,211); color:black;\">housing is not rent</span> <b>THEN </b> accept"
      ],
      "text/plain": [
       "<IPython.core.display.HTML object>"
      ]
     },
     "metadata": {},
     "output_type": "display_data"
    },
    {
     "data": {
      "text/html": [
       "#37, 3777 <b>IF </b>  <span style=\"background-color: rgb(245,83,59); color:white;\">status is no checking account</span>  <span style=\"background-color: rgb(252,192,168); color:black;\">savings is unknown/no savings account or < 100 DM</span>  <span style=\"background-color: rgb(226,237,248); color:black;\">purpose is not others</span>  <span style=\"background-color: rgb(252,199,177); color:black;\">property is not real estate</span>  <span style=\"background-color: rgb(226,237,248); color:black;\">job is not skilled</span>  <span style=\"background-color: rgb(254,225,212); color:black;\">present_residence is >= 7 yrs</span> <b>THEN </b> accept"
      ],
      "text/plain": [
       "<IPython.core.display.HTML object>"
      ]
     },
     "metadata": {},
     "output_type": "display_data"
    },
    {
     "data": {
      "text/html": [
       "#38, 593 <b>IF </b>  <span style=\"background-color: rgb(252,201,180); color:black;\">savings is not 500 to 1000 DM and >= 1000 DM</span>  <span style=\"background-color: rgb(252,184,157); color:white;\">duration >= 12</span>  <span style=\"background-color: rgb(252,175,147); color:white;\">status is not 0 to 200 DM and ... >= 200 DM (salary)</span>  <span style=\"background-color: rgb(226,237,248); color:black;\">job is not skilled</span>  <span style=\"background-color: rgb(226,237,248); color:black;\">purpose is not others</span>  <span style=\"background-color: rgb(254,225,211); color:black;\">property is not car or other</span>  <span style=\"background-color: rgb(252,197,174); color:black;\">age <= 30</span>  <span style=\"background-color: rgb(252,193,169); color:black;\">employment_duration is unemployed or < 1 yr</span> <b>THEN </b> accept"
      ],
      "text/plain": [
       "<IPython.core.display.HTML object>"
      ]
     },
     "metadata": {},
     "output_type": "display_data"
    },
    {
     "data": {
      "text/html": [
       "#39, 5862 <b>IF </b>  <span style=\"background-color: rgb(252,194,171); color:black;\">status is not ... >= 200 DM (salary)</span>  <span style=\"background-color: rgb(252,201,180); color:black;\">savings is not 500 to 1000 DM and >= 1000 DM</span>  <span style=\"background-color: rgb(252,200,179); color:black;\">other_debtors is not guarantor</span>  <span style=\"background-color: rgb(253,213,195); color:black;\">telephone is No</span>  <span style=\"background-color: rgb(252,176,148); color:white;\">housing is not own</span>  <span style=\"background-color: rgb(253,222,208); color:black;\">purpose is not car (used)</span>  <span style=\"background-color: rgb(221,234,246); color:black;\">property is not unknown / no property</span>  <span style=\"background-color: rgb(252,186,160); color:white;\">people_liable is 3 or more</span> <b>THEN </b> accept"
      ],
      "text/plain": [
       "<IPython.core.display.HTML object>"
      ]
     },
     "metadata": {},
     "output_type": "display_data"
    },
    {
     "data": {
      "text/html": [
       "#40, 3511 <b>IF </b>  <span style=\"background-color: rgb(252,172,144); color:white;\">duration >= 15</span>  <span style=\"background-color: rgb(226,237,248); color:black;\">purpose is not others</span>  <span style=\"background-color: rgb(252,194,171); color:black;\">status is not ... >= 200 DM (salary)</span>  <span style=\"background-color: rgb(253,222,208); color:black;\">job is not unskilled and resident</span>  <span style=\"background-color: rgb(254,227,214); color:black;\">credit_history is no credits taken/all credits paid back duly</span>  <span style=\"background-color: rgb(254,225,212); color:black;\">number_credits is 1</span>  <span style=\"background-color: rgb(253,206,186); color:black;\">personal_status_sex is not married male</span>  <span style=\"background-color: rgb(254,225,211); color:black;\">property is not car or other</span>  <span style=\"background-color: rgb(252,158,128); color:white;\">housing is rent</span> <b>THEN </b> accept"
      ],
      "text/plain": [
       "<IPython.core.display.HTML object>"
      ]
     },
     "metadata": {},
     "output_type": "display_data"
    },
    {
     "data": {
      "text/html": [
       "#41, 1042 <b>IF </b>  <span style=\"background-color: rgb(252,176,148); color:white;\">housing is not own</span>  <span style=\"background-color: rgb(254,225,212); color:black;\">number_credits is 1</span>  <span style=\"background-color: rgb(252,155,125); color:white;\">duration >= 18</span>  <span style=\"background-color: rgb(252,153,122); color:white;\">other_installment_plans is bank</span> <b>THEN </b> accept"
      ],
      "text/plain": [
       "<IPython.core.display.HTML object>"
      ]
     },
     "metadata": {},
     "output_type": "display_data"
    },
    {
     "data": {
      "text/html": [
       "#42, 126 <b>IF </b>  <span style=\"background-color: rgb(252,194,171); color:black;\">status is not ... >= 200 DM (salary)</span>  <span style=\"background-color: rgb(253,220,205); color:black;\">duration >= 7</span>  <span style=\"background-color: rgb(251,127,95); color:white;\">purpose is others</span>  <span style=\"background-color: rgb(254,228,216); color:black;\">people_liable is 0 to 2</span>  <span style=\"background-color: rgb(253,222,208); color:black;\">job is skilled</span>  <span style=\"background-color: rgb(253,218,202); color:black;\">property is not building soc. savings agr./life insurance</span>  <span style=\"background-color: rgb(252,193,169); color:black;\">housing is for free</span> <b>THEN </b> accept"
      ],
      "text/plain": [
       "<IPython.core.display.HTML object>"
      ]
     },
     "metadata": {},
     "output_type": "display_data"
    },
    {
     "data": {
      "text/html": [
       "#43, 9039 <b>IF </b>  <span style=\"background-color: rgb(219,233,246); color:black;\">other_installment_plans is none</span>  <span style=\"background-color: rgb(251,127,95); color:white;\">purpose is others</span>  <span style=\"background-color: rgb(253,213,195); color:black;\">telephone is No</span>  <span style=\"background-color: rgb(252,192,168); color:black;\">credit_history is not all credits at this bank paid back duly</span>  <span style=\"background-color: rgb(253,222,208); color:black;\">job is not unskilled and resident</span>  <span style=\"background-color: rgb(252,176,148); color:white;\">installment_rate is >= 35</span>  <span style=\"background-color: rgb(253,220,205); color:black;\">personal_status_sex is married male</span> <b>THEN </b> accept"
      ],
      "text/plain": [
       "<IPython.core.display.HTML object>"
      ]
     },
     "metadata": {},
     "output_type": "display_data"
    },
    {
     "data": {
      "text/html": [
       "#44, 5996 <b>IF </b>  <span style=\"background-color: rgb(251,140,108); color:white;\">property is unknown / no property</span>  <span style=\"background-color: rgb(252,194,171); color:black;\">status is not ... >= 200 DM (salary)</span>  <span style=\"background-color: rgb(252,176,148); color:white;\">housing is not own</span>  <span style=\"background-color: rgb(253,220,205); color:black;\">personal_status_sex is married male</span>  <span style=\"background-color: rgb(226,237,248); color:black;\">other_installment_plans is not bank</span>  <span style=\"background-color: rgb(253,213,195); color:black;\">age <= 38</span> <b>THEN </b> accept"
      ],
      "text/plain": [
       "<IPython.core.display.HTML object>"
      ]
     },
     "metadata": {},
     "output_type": "display_data"
    },
    {
     "data": {
      "text/html": [
       "#45, 6472 <b>IF </b>  <span style=\"background-color: rgb(252,199,177); color:black;\">age <= 31</span>  <span style=\"background-color: rgb(225,236,247); color:black;\">savings is not >= 1000 DM</span>  <span style=\"background-color: rgb(252,200,179); color:black;\">other_debtors is not guarantor</span>  <span style=\"background-color: rgb(254,224,210); color:black;\">job is skilled</span>  <span style=\"background-color: rgb(251,140,108); color:white;\">property is unknown / no property</span>  <span style=\"background-color: rgb(252,176,148); color:white;\">installment_rate is >= 35</span> <b>THEN </b> accept"
      ],
      "text/plain": [
       "<IPython.core.display.HTML object>"
      ]
     },
     "metadata": {},
     "output_type": "display_data"
    },
    {
     "data": {
      "text/html": [
       "#46, 3785 <b>IF </b>  <span style=\"background-color: rgb(252,175,147); color:white;\">status is not 0 to 200 DM and ... >= 200 DM (salary)</span>  <span style=\"background-color: rgb(252,192,168); color:black;\">savings is unknown/no savings account or < 100 DM</span>  <span style=\"background-color: rgb(226,237,248); color:black;\">purpose is car (used)</span>  <span style=\"background-color: rgb(252,199,177); color:black;\">property is not real estate</span>  <span style=\"background-color: rgb(254,224,210); color:black;\">job is skilled</span>  <span style=\"background-color: rgb(252,176,148); color:white;\">housing is not own</span>  <span style=\"background-color: rgb(253,213,195); color:black;\">telephone is No</span> <b>THEN </b> accept"
      ],
      "text/plain": [
       "<IPython.core.display.HTML object>"
      ]
     },
     "metadata": {},
     "output_type": "display_data"
    },
    {
     "data": {
      "text/html": [
       "#47, 1847 <b>IF </b>  <span style=\"background-color: rgb(252,192,168); color:black;\">credit_history is no credits taken/all credits paid back duly</span>  <span style=\"background-color: rgb(254,225,212); color:black;\">number_credits is 1</span>  <span style=\"background-color: rgb(252,194,171); color:black;\">status is not ... >= 200 DM (salary)</span>  <span style=\"background-color: rgb(253,206,186); color:black;\">personal_status_sex is not married male</span>  <span style=\"background-color: rgb(253,214,197); color:black;\">property is car or other</span>  <span style=\"background-color: rgb(252,189,163); color:white;\">age <= 27</span>  <span style=\"background-color: rgb(252,193,169); color:black;\">installment_rate is not < 20 and 20 to 25</span> <b>THEN </b> accept"
      ],
      "text/plain": [
       "<IPython.core.display.HTML object>"
      ]
     },
     "metadata": {},
     "output_type": "display_data"
    },
    {
     "data": {
      "text/html": [
       "#48, 7206 <b>IF </b>  <span style=\"background-color: rgb(252,192,168); color:black;\">credit_history is not all credits at this bank paid back duly</span>  <span style=\"background-color: rgb(252,191,166); color:black;\">property is building soc. savings agr./life insurance</span>  <span style=\"background-color: rgb(253,213,195); color:black;\">telephone is No</span>  <span style=\"background-color: rgb(251,121,89); color:white;\">duration >= 27</span> <b>THEN </b> accept"
      ],
      "text/plain": [
       "<IPython.core.display.HTML object>"
      ]
     },
     "metadata": {},
     "output_type": "display_data"
    },
    {
     "data": {
      "text/html": [
       "#49, 6666 <b>IF </b>  <span style=\"background-color: rgb(253,221,206); color:black;\">employment_duration is not >= 7 yrs</span>  <span style=\"background-color: rgb(253,209,191); color:black;\">housing is not for free</span>  <span style=\"background-color: rgb(245,83,59); color:white;\">status is no checking account</span>  <span style=\"background-color: rgb(252,199,177); color:black;\">property is not real estate</span>  <span style=\"background-color: rgb(254,227,214); color:black;\">credit_history is no credits taken/all credits paid back duly</span>  <span style=\"background-color: rgb(226,237,248); color:black;\">job is not skilled</span> <b>THEN </b> accept"
      ],
      "text/plain": [
       "<IPython.core.display.HTML object>"
      ]
     },
     "metadata": {},
     "output_type": "display_data"
    },
    {
     "data": {
      "text/html": [
       "#50, 2573 <b>IF </b>  <span style=\"background-color: rgb(253,219,203); color:black;\">purpose is others</span>  <span style=\"background-color: rgb(158,202,225); color:white;\">status is ... >= 200 DM (salary)</span>  <span style=\"background-color: rgb(217,231,245); color:black;\">installment_rate is not >= 35</span>  <span style=\"background-color: rgb(254,224,210); color:black;\">job is skilled</span>  <span style=\"background-color: rgb(253,221,206); color:black;\">number_credits is not 1</span> <b>THEN </b> reject"
      ],
      "text/plain": [
       "<IPython.core.display.HTML object>"
      ]
     },
     "metadata": {},
     "output_type": "display_data"
    },
    {
     "data": {
      "text/html": [
       "#51, 289 <b>IF </b>  <span style=\"background-color: rgb(209,226,242); color:black;\">property is real estate</span>  <span style=\"background-color: rgb(252,193,169); color:black;\">savings is unknown/no savings account</span>  <span style=\"background-color: rgb(158,202,225); color:white;\">status is ... >= 200 DM (salary)</span>  <span style=\"background-color: rgb(252,182,156); color:white;\">age <= 25</span> <b>THEN </b> reject"
      ],
      "text/plain": [
       "<IPython.core.display.HTML object>"
      ]
     },
     "metadata": {},
     "output_type": "display_data"
    },
    {
     "data": {
      "text/html": [
       "#52, 1202 <b>IF </b>  <span style=\"background-color: rgb(187,214,235); color:white;\">credit_history is all credits at this bank paid back duly</span>  <span style=\"background-color: rgb(223,235,247); color:black;\">other_debtors is not none</span>  <span style=\"background-color: rgb(253,218,202); color:black;\">amount >= 3091</span> <b>THEN </b> reject"
      ],
      "text/plain": [
       "<IPython.core.display.HTML object>"
      ]
     },
     "metadata": {},
     "output_type": "display_data"
    },
    {
     "data": {
      "text/html": [
       "#53, 5240 <b>IF </b>  <span style=\"background-color: rgb(226,237,248); color:black;\">other_installment_plans is not bank</span>  <span style=\"background-color: rgb(254,225,211); color:black;\">housing is not rent</span>  <span style=\"background-color: rgb(254,225,211); color:black;\">property is not real estate and unknown / no property</span>  <span style=\"background-color: rgb(226,237,248); color:black;\">present_residence is not >= 7 yrs</span>  <span style=\"background-color: rgb(253,212,194); color:black;\">employment_duration is not 4 to 7 yrs and >= 7 yrs</span>  <span style=\"background-color: rgb(226,237,248); color:black;\">purpose is not others</span>  <span style=\"background-color: rgb(167,206,228); color:white;\">status is not no checking account and ... < 0 DM</span>  <span style=\"background-color: rgb(253,208,189); color:black;\">job is highly skilled</span> <b>THEN </b> reject"
      ],
      "text/plain": [
       "<IPython.core.display.HTML object>"
      ]
     },
     "metadata": {},
     "output_type": "display_data"
    },
    {
     "data": {
      "text/html": [
       "#54, 8516 <b>IF </b>  <span style=\"background-color: rgb(209,226,242); color:black;\">property is real estate</span>  <span style=\"background-color: rgb(254,227,215); color:black;\">foreign_worker is No</span>  <span style=\"background-color: rgb(252,172,144); color:white;\">duration >= 16</span>  <span style=\"background-color: rgb(253,222,208); color:black;\">job is not unskilled and resident</span>  <span style=\"background-color: rgb(167,206,228); color:white;\">status is not no checking account and ... < 0 DM</span>  <span style=\"background-color: rgb(252,186,160); color:white;\">age <= 26</span> <b>THEN </b> reject"
      ],
      "text/plain": [
       "<IPython.core.display.HTML object>"
      ]
     },
     "metadata": {},
     "output_type": "display_data"
    },
    {
     "data": {
      "text/html": [
       "#55, 3339 <b>IF </b>  <span style=\"background-color: rgb(187,214,235); color:white;\">credit_history is all credits at this bank paid back duly</span>  <span style=\"background-color: rgb(219,233,246); color:black;\">other_installment_plans is none</span>  <span style=\"background-color: rgb(253,209,191); color:black;\">housing is not for free</span>  <span style=\"background-color: rgb(253,212,194); color:black;\">amount >= 7047</span> <b>THEN </b> reject"
      ],
      "text/plain": [
       "<IPython.core.display.HTML object>"
      ]
     },
     "metadata": {},
     "output_type": "display_data"
    },
    {
     "data": {
      "text/html": [
       "#56, 4992 <b>IF </b>  <span style=\"background-color: rgb(187,214,235); color:white;\">credit_history is all credits at this bank paid back duly</span>  <span style=\"background-color: rgb(253,211,192); color:black;\">amount >= 7725</span> <b>THEN </b> reject"
      ],
      "text/plain": [
       "<IPython.core.display.HTML object>"
      ]
     },
     "metadata": {},
     "output_type": "display_data"
    },
    {
     "data": {
      "text/html": [
       "#57, 8673 <b>IF </b>  <span style=\"background-color: rgb(210,227,243); color:black;\">duration in 9 to 17</span>  <span style=\"background-color: rgb(212,228,243); color:black;\">installment_rate is not 25 to 35 and >= 35</span>  <span style=\"background-color: rgb(252,175,147); color:white;\">status is not 0 to 200 DM and ... >= 200 DM (salary)</span>  <span style=\"background-color: rgb(215,230,244); color:black;\">employment_duration is >= 7 yrs</span> <b>THEN </b> reject"
      ],
      "text/plain": [
       "<IPython.core.display.HTML object>"
      ]
     },
     "metadata": {},
     "output_type": "display_data"
    },
    {
     "data": {
      "text/html": [
       "#58, 6286 <b>IF </b>  <span style=\"background-color: rgb(252,192,168); color:black;\">credit_history is not all credits at this bank paid back duly</span>  <span style=\"background-color: rgb(158,202,225); color:white;\">status is ... >= 200 DM (salary)</span>  <span style=\"background-color: rgb(252,184,157); color:white;\">other_installment_plans is not none</span>  <span style=\"background-color: rgb(253,220,205); color:black;\">amount >= 2291</span>  <span style=\"background-color: rgb(225,236,247); color:black;\">telephone is Yes</span> <b>THEN </b> reject"
      ],
      "text/plain": [
       "<IPython.core.display.HTML object>"
      ]
     },
     "metadata": {},
     "output_type": "display_data"
    },
    {
     "data": {
      "text/html": [
       "#59, 8068 <b>IF </b>  <span style=\"background-color: rgb(219,233,246); color:black;\">housing is own</span>  <span style=\"background-color: rgb(219,233,246); color:black;\">other_installment_plans is none</span>  <span style=\"background-color: rgb(187,214,235); color:white;\">credit_history is all credits at this bank paid back duly</span>  <span style=\"background-color: rgb(252,202,182); color:black;\">age <= 33</span>  <span style=\"background-color: rgb(253,214,197); color:black;\">property is car or other</span>  <span style=\"background-color: rgb(252,194,171); color:black;\">status is not ... >= 200 DM (salary)</span> <b>THEN </b> reject"
      ],
      "text/plain": [
       "<IPython.core.display.HTML object>"
      ]
     },
     "metadata": {},
     "output_type": "display_data"
    },
    {
     "data": {
      "text/html": [
       "#60, 9342 <b>IF </b>  <span style=\"background-color: rgb(205,223,241); color:black;\">duration <= 15</span>  <span style=\"background-color: rgb(222,235,247); color:black;\">amount <= 1384</span>  <span style=\"background-color: rgb(221,234,246); color:black;\">property is not unknown / no property</span>  <span style=\"background-color: rgb(253,208,189); color:black;\">other_installment_plans is not none</span>  <span style=\"background-color: rgb(254,228,216); color:black;\">savings is not unknown/no savings account</span> <b>THEN </b> reject"
      ],
      "text/plain": [
       "<IPython.core.display.HTML object>"
      ]
     },
     "metadata": {},
     "output_type": "display_data"
    },
    {
     "data": {
      "text/html": [
       "#61, 2226 <b>IF </b>  <span style=\"background-color: rgb(205,223,241); color:black;\">duration <= 15</span>  <span style=\"background-color: rgb(252,192,168); color:black;\">credit_history is not all credits at this bank paid back duly</span>  <span style=\"background-color: rgb(217,231,245); color:black;\">property is not car or other and unknown / no property</span>  <span style=\"background-color: rgb(254,228,216); color:black;\">people_liable is 0 to 2</span>  <span style=\"background-color: rgb(252,192,168); color:black;\">age <= 28</span>  <span style=\"background-color: rgb(226,237,248); color:black;\">other_installment_plans is not bank</span>  <span style=\"background-color: rgb(254,226,213); color:black;\">amount >= 1082</span>  <span style=\"background-color: rgb(226,237,248); color:black;\">present_residence is not 4 to 7 yrs and >= 7 yrs</span>  <span style=\"background-color: rgb(212,228,243); color:black;\">installment_rate is not 25 to 35 and >= 35</span> <b>THEN </b> reject"
      ],
      "text/plain": [
       "<IPython.core.display.HTML object>"
      ]
     },
     "metadata": {},
     "output_type": "display_data"
    },
    {
     "data": {
      "text/html": [
       "#62, 9536 <b>IF </b>  <span style=\"background-color: rgb(212,228,243); color:black;\">installment_rate is not 25 to 35 and >= 35</span>  <span style=\"background-color: rgb(254,225,211); color:black;\">property is building soc. savings agr./life insurance</span>  <span style=\"background-color: rgb(253,222,208); color:black;\">job is not unskilled and resident</span>  <span style=\"background-color: rgb(225,236,247); color:black;\">telephone is Yes</span>  <span style=\"background-color: rgb(215,230,244); color:black;\">employment_duration is >= 7 yrs</span> <b>THEN </b> reject"
      ],
      "text/plain": [
       "<IPython.core.display.HTML object>"
      ]
     },
     "metadata": {},
     "output_type": "display_data"
    },
    {
     "data": {
      "text/html": [
       "#63, 4089 <b>IF </b>  <span style=\"background-color: rgb(187,214,235); color:white;\">credit_history is all credits at this bank paid back duly</span>  <span style=\"background-color: rgb(226,237,248); color:black;\">other_debtors is not co-applicant</span>  <span style=\"background-color: rgb(254,227,215); color:black;\">present_residence is not < 1 yr</span>  <span style=\"background-color: rgb(252,202,182); color:black;\">age <= 33</span>  <span style=\"background-color: rgb(254,228,216); color:black;\">savings is not 500 to 1000 DM and >= 1000 DM</span>  <span style=\"background-color: rgb(253,220,205); color:black;\">amount >= 2491</span> <b>THEN </b> reject"
      ],
      "text/plain": [
       "<IPython.core.display.HTML object>"
      ]
     },
     "metadata": {},
     "output_type": "display_data"
    },
    {
     "data": {
      "text/html": [
       "#64, 1476 <b>IF </b>  <span style=\"background-color: rgb(252,176,148); color:white;\">housing is not own</span>  <span style=\"background-color: rgb(167,206,228); color:white;\">status is not no checking account and ... < 0 DM</span>  <span style=\"background-color: rgb(253,214,197); color:black;\">property is car or other</span>  <span style=\"background-color: rgb(253,221,206); color:black;\">number_credits is not 1</span> <b>THEN </b> reject"
      ],
      "text/plain": [
       "<IPython.core.display.HTML object>"
      ]
     },
     "metadata": {},
     "output_type": "display_data"
    },
    {
     "data": {
      "text/html": [
       "#65, 9510 <b>IF </b>  <span style=\"background-color: rgb(252,192,168); color:black;\">credit_history is not all credits at this bank paid back duly</span>  <span style=\"background-color: rgb(252,184,157); color:white;\">duration >= 12</span>  <span style=\"background-color: rgb(219,233,246); color:black;\">housing is own</span>  <span style=\"background-color: rgb(254,227,214); color:black;\">amount >= 1047</span>  <span style=\"background-color: rgb(253,206,186); color:black;\">other_installment_plans is not stores</span>  <span style=\"background-color: rgb(225,236,247); color:black;\">telephone is Yes</span>  <span style=\"background-color: rgb(226,237,248); color:black;\">present_residence is not 4 to 7 yrs and >= 7 yrs</span>  <span style=\"background-color: rgb(167,206,228); color:white;\">status is not no checking account and ... < 0 DM</span>  <span style=\"background-color: rgb(253,221,206); color:black;\">number_credits is not 1</span> <b>THEN </b> reject"
      ],
      "text/plain": [
       "<IPython.core.display.HTML object>"
      ]
     },
     "metadata": {},
     "output_type": "display_data"
    },
    {
     "data": {
      "text/html": [
       "#66, 166 <b>IF </b>  <span style=\"background-color: rgb(252,192,168); color:black;\">savings is unknown/no savings account or < 100 DM</span>  <span style=\"background-color: rgb(252,199,177); color:black;\">property is not real estate</span>  <span style=\"background-color: rgb(226,237,248); color:black;\">purpose is not others</span>  <span style=\"background-color: rgb(167,206,228); color:white;\">status is not no checking account and ... < 0 DM</span>  <span style=\"background-color: rgb(253,211,192); color:black;\">amount >= 7973</span> <b>THEN </b> reject"
      ],
      "text/plain": [
       "<IPython.core.display.HTML object>"
      ]
     },
     "metadata": {},
     "output_type": "display_data"
    },
    {
     "data": {
      "text/html": [
       "#67, 3120 <b>IF </b>  <span style=\"background-color: rgb(252,194,171); color:black;\">status is not ... >= 200 DM (salary)</span>  <span style=\"background-color: rgb(254,227,215); color:black;\">amount >= 599</span>  <span style=\"background-color: rgb(253,207,188); color:black;\">duration >= 11</span>  <span style=\"background-color: rgb(187,214,235); color:white;\">credit_history is all credits at this bank paid back duly</span>  <span style=\"background-color: rgb(223,235,247); color:black;\">other_debtors is not none</span> <b>THEN </b> reject"
      ],
      "text/plain": [
       "<IPython.core.display.HTML object>"
      ]
     },
     "metadata": {},
     "output_type": "display_data"
    },
    {
     "data": {
      "text/html": [
       "#68, 942 <b>IF </b>  <span style=\"background-color: rgb(253,213,195); color:black;\">telephone is No</span>  <span style=\"background-color: rgb(253,219,203); color:black;\">purpose is not furniture/equipment</span>  <span style=\"background-color: rgb(254,228,216); color:black;\">savings is not 500 to 1000 DM and >= 1000 DM</span>  <span style=\"background-color: rgb(158,202,225); color:white;\">status is ... >= 200 DM (salary)</span>  <span style=\"background-color: rgb(252,186,160); color:white;\">people_liable is 3 or more</span>  <span style=\"background-color: rgb(252,199,177); color:black;\">property is not real estate</span> <b>THEN </b> reject"
      ],
      "text/plain": [
       "<IPython.core.display.HTML object>"
      ]
     },
     "metadata": {},
     "output_type": "display_data"
    },
    {
     "data": {
      "text/html": [
       "#69, 9345 <b>IF </b>  <span style=\"background-color: rgb(205,223,241); color:black;\">duration <= 15</span>  <span style=\"background-color: rgb(222,235,247); color:black;\">amount <= 1384</span>  <span style=\"background-color: rgb(254,225,211); color:black;\">property is not real estate and unknown / no property</span>  <span style=\"background-color: rgb(219,233,246); color:black;\">other_installment_plans is none</span>  <span style=\"background-color: rgb(254,228,216); color:black;\">present_residence is 4 to 7 yrs</span>  <span style=\"background-color: rgb(252,192,168); color:black;\">credit_history is not all credits at this bank paid back duly</span> <b>THEN </b> reject"
      ],
      "text/plain": [
       "<IPython.core.display.HTML object>"
      ]
     },
     "metadata": {},
     "output_type": "display_data"
    },
    {
     "data": {
      "text/html": [
       "#70, 2901 <b>IF </b>  <span style=\"background-color: rgb(205,223,241); color:black;\">duration <= 15</span>  <span style=\"background-color: rgb(252,199,177); color:black;\">property is not real estate</span>  <span style=\"background-color: rgb(253,209,191); color:black;\">credit_history is not critical account/other credits elsewhere and all credits at this bank paid back duly</span>  <span style=\"background-color: rgb(218,232,245); color:black;\">age >= 33</span>  <span style=\"background-color: rgb(254,228,216); color:black;\">savings is unknown/no savings account</span>  <span style=\"background-color: rgb(221,234,246); color:black;\">amount <= 1223</span> <b>THEN </b> reject"
      ],
      "text/plain": [
       "<IPython.core.display.HTML object>"
      ]
     },
     "metadata": {},
     "output_type": "display_data"
    },
    {
     "data": {
      "text/html": [
       "#71, 8322 <b>IF </b>  <span style=\"background-color: rgb(254,224,210); color:black;\">job is skilled</span>  <span style=\"background-color: rgb(219,233,246); color:black;\">housing is own</span>  <span style=\"background-color: rgb(207,225,242); color:black;\">savings is not unknown/no savings account and < 100 DM</span>  <span style=\"background-color: rgb(225,237,248); color:black;\">property is building soc. savings agr./life insurance</span>  <span style=\"background-color: rgb(253,206,186); color:black;\">personal_status_sex is not married male</span> <b>THEN </b> reject"
      ],
      "text/plain": [
       "<IPython.core.display.HTML object>"
      ]
     },
     "metadata": {},
     "output_type": "display_data"
    },
    {
     "data": {
      "text/html": [
       "#72, 1 <b>IF </b>  <span style=\"background-color: rgb(252,193,169); color:black;\">savings is unknown/no savings account</span>  <span style=\"background-color: rgb(221,234,246); color:black;\">property is not unknown / no property</span>  <span style=\"background-color: rgb(253,219,203); color:black;\">purpose is not furniture/equipment</span>  <span style=\"background-color: rgb(203,222,240); color:black;\">duration <= 12</span>  <span style=\"background-color: rgb(221,234,246); color:black;\">amount <= 922</span>  <span style=\"background-color: rgb(254,225,212); color:black;\">present_residence is >= 7 yrs</span> <b>THEN </b> reject"
      ],
      "text/plain": [
       "<IPython.core.display.HTML object>"
      ]
     },
     "metadata": {},
     "output_type": "display_data"
    },
    {
     "data": {
      "text/html": [
       "#73, 8564 <b>IF </b>  <span style=\"background-color: rgb(219,233,246); color:black;\">other_installment_plans is none</span>  <span style=\"background-color: rgb(216,231,245); color:black;\">credit_history is existing credits paid back duly till now</span>  <span style=\"background-color: rgb(219,233,246); color:black;\">housing is own</span>  <span style=\"background-color: rgb(253,208,189); color:black;\">job is highly skilled</span> <b>THEN </b> reject"
      ],
      "text/plain": [
       "<IPython.core.display.HTML object>"
      ]
     },
     "metadata": {},
     "output_type": "display_data"
    },
    {
     "data": {
      "text/html": [
       "#74, 4158 <b>IF </b>  <span style=\"background-color: rgb(220,233,246); color:black;\">property is not building soc. savings agr./life insurance and unknown / no property</span>  <span style=\"background-color: rgb(254,228,216); color:black;\">savings is unknown/no savings account or < 100 DM</span>  <span style=\"background-color: rgb(252,194,171); color:black;\">status is not ... >= 200 DM (salary)</span>  <span style=\"background-color: rgb(254,228,216); color:black;\">people_liable is 0 to 2</span>  <span style=\"background-color: rgb(253,206,186); color:black;\">personal_status_sex is not married male</span>  <span style=\"background-color: rgb(252,200,179); color:black;\">other_debtors is not guarantor</span>  <span style=\"background-color: rgb(221,234,246); color:black;\">age >= 28</span>  <span style=\"background-color: rgb(254,227,215); color:black;\">amount >= 729</span>  <span style=\"background-color: rgb(254,225,211); color:black;\">housing is not rent</span>  <span style=\"background-color: rgb(187,214,235); color:white;\">credit_history is all credits at this bank paid back duly</span> <b>THEN </b> reject"
      ],
      "text/plain": [
       "<IPython.core.display.HTML object>"
      ]
     },
     "metadata": {},
     "output_type": "display_data"
    },
    {
     "data": {
      "text/html": [
       "#75, 5736 <b>IF </b>  <span style=\"background-color: rgb(253,213,195); color:black;\">telephone is No</span>  <span style=\"background-color: rgb(205,223,241); color:black;\">duration <= 15</span>  <span style=\"background-color: rgb(222,235,247); color:black;\">amount in 653 to 1384</span>  <span style=\"background-color: rgb(254,225,212); color:black;\">number_credits is 1</span>  <span style=\"background-color: rgb(252,186,160); color:white;\">people_liable is 3 or more</span>  <span style=\"background-color: rgb(215,230,244); color:black;\">age >= 38</span> <b>THEN </b> reject"
      ],
      "text/plain": [
       "<IPython.core.display.HTML object>"
      ]
     },
     "metadata": {},
     "output_type": "display_data"
    },
    {
     "data": {
      "text/html": [
       "#76, 2818 <b>IF </b>  <span style=\"background-color: rgb(212,228,243); color:black;\">installment_rate is not 25 to 35 and >= 35</span>  <span style=\"background-color: rgb(253,212,194); color:black;\">other_debtors is none</span>  <span style=\"background-color: rgb(254,226,213); color:black;\">age <= 57</span>  <span style=\"background-color: rgb(252,172,144); color:white;\">duration >= 16</span>  <span style=\"background-color: rgb(203,222,240); color:black;\">status is not no checking account</span>  <span style=\"background-color: rgb(223,235,247); color:black;\">employment_duration is not unemployed and < 1 yr</span>  <span style=\"background-color: rgb(253,218,202); color:black;\">amount in 3432 to 9846</span>  <span style=\"background-color: rgb(225,236,247); color:black;\">savings is not >= 1000 DM</span>  <span style=\"background-color: rgb(226,237,248); color:black;\">job is not skilled</span> <b>THEN </b> reject"
      ],
      "text/plain": [
       "<IPython.core.display.HTML object>"
      ]
     },
     "metadata": {},
     "output_type": "display_data"
    },
    {
     "data": {
      "text/html": [
       "#77, 6022 <b>IF </b>  <span style=\"background-color: rgb(254,225,211); color:black;\">housing is not rent</span>  <span style=\"background-color: rgb(253,206,186); color:black;\">personal_status_sex is not married male</span>  <span style=\"background-color: rgb(253,208,189); color:black;\">job is highly skilled</span>  <span style=\"background-color: rgb(253,214,197); color:black;\">amount >= 4037</span>  <span style=\"background-color: rgb(226,237,248); color:black;\">present_residence is not >= 7 yrs</span>  <span style=\"background-color: rgb(187,214,235); color:white;\">credit_history is all credits at this bank paid back duly</span> <b>THEN </b> reject"
      ],
      "text/plain": [
       "<IPython.core.display.HTML object>"
      ]
     },
     "metadata": {},
     "output_type": "display_data"
    },
    {
     "data": {
      "text/html": [
       "#78, 4410 <b>IF </b>  <span style=\"background-color: rgb(219,233,246); color:black;\">housing is own</span>  <span style=\"background-color: rgb(252,194,171); color:black;\">status is not ... >= 200 DM (salary)</span>  <span style=\"background-color: rgb(252,199,177); color:black;\">property is not real estate</span>  <span style=\"background-color: rgb(253,222,208); color:black;\">job is not unskilled and resident and skilled</span>  <span style=\"background-color: rgb(253,213,195); color:black;\">telephone is No</span>  <span style=\"background-color: rgb(187,214,235); color:white;\">credit_history is all credits at this bank paid back duly</span> <b>THEN </b> reject"
      ],
      "text/plain": [
       "<IPython.core.display.HTML object>"
      ]
     },
     "metadata": {},
     "output_type": "display_data"
    },
    {
     "data": {
      "text/html": [
       "#79, 1213 <b>IF </b>  <span style=\"background-color: rgb(187,214,235); color:white;\">credit_history is all credits at this bank paid back duly</span>  <span style=\"background-color: rgb(253,212,194); color:black;\">other_debtors is none</span>  <span style=\"background-color: rgb(253,207,188); color:black;\">duration >= 11</span>  <span style=\"background-color: rgb(253,213,195); color:black;\">telephone is No</span>  <span style=\"background-color: rgb(252,201,180); color:black;\">savings is not 500 to 1000 DM and >= 1000 DM</span>  <span style=\"background-color: rgb(219,233,246); color:black;\">other_installment_plans is none</span>  <span style=\"background-color: rgb(219,233,246); color:black;\">housing is own</span>  <span style=\"background-color: rgb(220,233,246); color:black;\">age >= 30</span>  <span style=\"background-color: rgb(252,175,147); color:white;\">status is not 0 to 200 DM and ... >= 200 DM (salary)</span> <b>THEN </b> reject"
      ],
      "text/plain": [
       "<IPython.core.display.HTML object>"
      ]
     },
     "metadata": {},
     "output_type": "display_data"
    },
    {
     "data": {
      "text/html": [
       "#80, 6365 <b>IF </b>  <span style=\"background-color: rgb(205,223,241); color:black;\">duration <= 15</span>  <span style=\"background-color: rgb(252,199,177); color:black;\">property is building soc. savings agr./life insurance</span>  <span style=\"background-color: rgb(254,227,214); color:black;\">credit_history is no credits taken/all credits paid back duly</span>  <span style=\"background-color: rgb(254,225,212); color:black;\">number_credits is 1</span>  <span style=\"background-color: rgb(254,225,211); color:black;\">housing is not rent</span>  <span style=\"background-color: rgb(221,234,246); color:black;\">amount <= 993</span> <b>THEN </b> reject"
      ],
      "text/plain": [
       "<IPython.core.display.HTML object>"
      ]
     },
     "metadata": {},
     "output_type": "display_data"
    },
    {
     "data": {
      "text/html": [
       "#81, 7863 <b>IF </b>  <span style=\"background-color: rgb(219,233,246); color:black;\">housing is own</span>  <span style=\"background-color: rgb(254,227,215); color:black;\">employment_duration is 1 to 4 yrs or 4 to 7 yrs</span>  <span style=\"background-color: rgb(225,236,247); color:black;\">telephone is Yes</span>  <span style=\"background-color: rgb(217,231,245); color:black;\">property is not car or other and unknown / no property</span>  <span style=\"background-color: rgb(253,214,197); color:black;\">amount >= 4190</span> <b>THEN </b> reject"
      ],
      "text/plain": [
       "<IPython.core.display.HTML object>"
      ]
     },
     "metadata": {},
     "output_type": "display_data"
    },
    {
     "data": {
      "text/html": [
       "#82, 2166 <b>IF </b>  <span style=\"background-color: rgb(254,228,216); color:black;\">people_liable is 0 to 2</span>  <span style=\"background-color: rgb(253,218,202); color:black;\">property is not building soc. savings agr./life insurance</span>  <span style=\"background-color: rgb(212,228,243); color:black;\">purpose is furniture/equipment</span>  <span style=\"background-color: rgb(254,225,211); color:black;\">housing is not rent</span>  <span style=\"background-color: rgb(220,233,246); color:black;\">other_debtors is not co-applicant</span>  <span style=\"background-color: rgb(254,225,212); color:black;\">number_credits is 2 to 3</span>  <span style=\"background-color: rgb(254,227,214); color:black;\">credit_history is no credits taken/all credits paid back duly</span> <b>THEN </b> reject"
      ],
      "text/plain": [
       "<IPython.core.display.HTML object>"
      ]
     },
     "metadata": {},
     "output_type": "display_data"
    },
    {
     "data": {
      "text/html": [
       "#83, 661 <b>IF </b>  <span style=\"background-color: rgb(252,194,171); color:black;\">status is not ... >= 200 DM (salary)</span>  <span style=\"background-color: rgb(187,214,235); color:white;\">credit_history is all credits at this bank paid back duly</span>  <span style=\"background-color: rgb(254,226,213); color:black;\">number_credits is not 4 to 5</span>  <span style=\"background-color: rgb(253,219,203); color:black;\">age <= 43</span>  <span style=\"background-color: rgb(253,208,189); color:black;\">job is highly skilled</span> <b>THEN </b> reject"
      ],
      "text/plain": [
       "<IPython.core.display.HTML object>"
      ]
     },
     "metadata": {},
     "output_type": "display_data"
    },
    {
     "data": {
      "text/html": [
       "#84, 4838 <b>IF </b>  <span style=\"background-color: rgb(221,234,246); color:black;\">property is not unknown / no property</span>  <span style=\"background-color: rgb(225,236,247); color:black;\">job is not highly skilled</span>  <span style=\"background-color: rgb(187,214,235); color:white;\">credit_history is all credits at this bank paid back duly</span>  <span style=\"background-color: rgb(252,202,182); color:black;\">age <= 33</span>  <span style=\"background-color: rgb(254,228,216); color:black;\">savings is not 500 to 1000 DM and >= 1000 DM</span>  <span style=\"background-color: rgb(252,172,144); color:white;\">duration >= 16</span>  <span style=\"background-color: rgb(253,219,203); color:black;\">purpose is not furniture/equipment</span> <b>THEN </b> reject"
      ],
      "text/plain": [
       "<IPython.core.display.HTML object>"
      ]
     },
     "metadata": {},
     "output_type": "display_data"
    },
    {
     "data": {
      "text/html": [
       "#85, 234 <b>IF </b>  <span style=\"background-color: rgb(158,202,225); color:white;\">status is ... >= 200 DM (salary)</span>  <span style=\"background-color: rgb(252,184,157); color:white;\">other_installment_plans is not none</span>  <span style=\"background-color: rgb(251,138,106); color:white;\">purpose is retraining</span> <b>THEN </b> reject"
      ],
      "text/plain": [
       "<IPython.core.display.HTML object>"
      ]
     },
     "metadata": {},
     "output_type": "display_data"
    },
    {
     "data": {
      "text/html": [
       "#86, 1427 <b>IF </b>  <span style=\"background-color: rgb(219,233,246); color:black;\">housing is own</span>  <span style=\"background-color: rgb(219,233,246); color:black;\">other_installment_plans is none</span>  <span style=\"background-color: rgb(252,194,171); color:black;\">status is not ... >= 200 DM (salary)</span>  <span style=\"background-color: rgb(217,231,245); color:black;\">installment_rate is not >= 35</span>  <span style=\"background-color: rgb(220,233,246); color:black;\">other_debtors is not co-applicant</span>  <span style=\"background-color: rgb(252,182,156); color:white;\">age <= 25</span>  <span style=\"background-color: rgb(221,234,246); color:black;\">purpose is car (used)</span> <b>THEN </b> reject"
      ],
      "text/plain": [
       "<IPython.core.display.HTML object>"
      ]
     },
     "metadata": {},
     "output_type": "display_data"
    },
    {
     "data": {
      "text/html": [
       "#87, 2821 <b>IF </b>  <span style=\"background-color: rgb(212,228,243); color:black;\">installment_rate is not 25 to 35 and >= 35</span>  <span style=\"background-color: rgb(253,212,194); color:black;\">other_debtors is none</span>  <span style=\"background-color: rgb(254,226,213); color:black;\">age <= 57</span>  <span style=\"background-color: rgb(252,172,144); color:white;\">duration >= 16</span>  <span style=\"background-color: rgb(203,222,240); color:black;\">status is not no checking account</span>  <span style=\"background-color: rgb(223,235,247); color:black;\">employment_duration is not unemployed and < 1 yr</span>  <span style=\"background-color: rgb(253,211,192); color:black;\">amount >= 9846</span> <b>THEN </b> reject"
      ],
      "text/plain": [
       "<IPython.core.display.HTML object>"
      ]
     },
     "metadata": {},
     "output_type": "display_data"
    },
    {
     "data": {
      "text/html": [
       "#88, 9488 <b>IF </b>  <span style=\"background-color: rgb(252,192,168); color:black;\">credit_history is critical account/other credits elsewhere</span>  <span style=\"background-color: rgb(203,222,240); color:black;\">duration <= 12</span> <b>THEN </b> reject"
      ],
      "text/plain": [
       "<IPython.core.display.HTML object>"
      ]
     },
     "metadata": {},
     "output_type": "display_data"
    },
    {
     "data": {
      "text/html": [
       "#89, 3713 <b>IF </b>  <span style=\"background-color: rgb(212,228,243); color:black;\">purpose is furniture/equipment</span>  <span style=\"background-color: rgb(252,175,147); color:white;\">age <= 22</span>  <span style=\"background-color: rgb(212,228,243); color:black;\">installment_rate is not 25 to 35 and >= 35</span> <b>THEN </b> reject"
      ],
      "text/plain": [
       "<IPython.core.display.HTML object>"
      ]
     },
     "metadata": {},
     "output_type": "display_data"
    },
    {
     "data": {
      "text/html": [
       "#90, 9621 <b>IF </b>  <span style=\"background-color: rgb(252,192,168); color:black;\">credit_history is not all credits at this bank paid back duly</span>  <span style=\"background-color: rgb(254,228,216); color:black;\">savings is unknown/no savings account or < 100 DM</span>  <span style=\"background-color: rgb(253,219,203); color:black;\">purpose is not furniture/equipment</span>  <span style=\"background-color: rgb(254,228,216); color:black;\">people_liable is 0 to 2</span>  <span style=\"background-color: rgb(218,232,245); color:black;\">employment_duration is 4 to 7 yrs or >= 7 yrs</span>  <span style=\"background-color: rgb(211,227,243); color:black;\">duration <= 22</span>  <span style=\"background-color: rgb(254,225,211); color:black;\">property is not car or other</span>  <span style=\"background-color: rgb(222,235,247); color:black;\">amount <= 1514</span> <b>THEN </b> reject"
      ],
      "text/plain": [
       "<IPython.core.display.HTML object>"
      ]
     },
     "metadata": {},
     "output_type": "display_data"
    },
    {
     "data": {
      "text/html": [
       "#91, 7744 <b>IF </b>  <span style=\"background-color: rgb(252,199,177); color:black;\">property is not real estate</span>  <span style=\"background-color: rgb(254,224,210); color:black;\">purpose is not furniture/equipment</span>  <span style=\"background-color: rgb(254,228,216); color:black;\">savings is not >= 1000 DM</span>  <span style=\"background-color: rgb(187,214,235); color:white;\">credit_history is all credits at this bank paid back duly</span>  <span style=\"background-color: rgb(253,212,194); color:black;\">employment_duration is not 4 to 7 yrs and >= 7 yrs</span>  <span style=\"background-color: rgb(226,237,248); color:black;\">job is not skilled</span>  <span style=\"background-color: rgb(252,205,185); color:black;\">age <= 34</span> <b>THEN </b> reject"
      ],
      "text/plain": [
       "<IPython.core.display.HTML object>"
      ]
     },
     "metadata": {},
     "output_type": "display_data"
    },
    {
     "data": {
      "text/html": [
       "#92, 3000 <b>IF </b>  <span style=\"background-color: rgb(252,192,168); color:black;\">credit_history is not all credits at this bank paid back duly</span>  <span style=\"background-color: rgb(212,228,243); color:black;\">installment_rate is not 25 to 35 and >= 35</span>  <span style=\"background-color: rgb(227,238,248); color:black;\">amount <= 9504</span>  <span style=\"background-color: rgb(253,221,206); color:black;\">number_credits is not 1</span>  <span style=\"background-color: rgb(217,231,245); color:black;\">age >= 35</span> <b>THEN </b> reject"
      ],
      "text/plain": [
       "<IPython.core.display.HTML object>"
      ]
     },
     "metadata": {},
     "output_type": "display_data"
    },
    {
     "data": {
      "text/html": [
       "#93, 2294 <b>IF </b>  <span style=\"background-color: rgb(252,194,171); color:black;\">status is not ... >= 200 DM (salary)</span>  <span style=\"background-color: rgb(253,212,194); color:black;\">other_debtors is none</span>  <span style=\"background-color: rgb(253,213,195); color:black;\">telephone is No</span>  <span style=\"background-color: rgb(254,225,211); color:black;\">property is not car or other</span>  <span style=\"background-color: rgb(203,222,240); color:black;\">duration <= 12</span>  <span style=\"background-color: rgb(254,228,216); color:black;\">savings is unknown/no savings account or < 100 DM</span>  <span style=\"background-color: rgb(226,237,248); color:black;\">present_residence is not >= 7 yrs</span>  <span style=\"background-color: rgb(218,232,245); color:black;\">employment_duration is 4 to 7 yrs or >= 7 yrs</span> <b>THEN </b> reject"
      ],
      "text/plain": [
       "<IPython.core.display.HTML object>"
      ]
     },
     "metadata": {},
     "output_type": "display_data"
    },
    {
     "data": {
      "text/html": [
       "#94, 6720 <b>IF </b>  <span style=\"background-color: rgb(252,199,177); color:black;\">property is unknown / no property</span>  <span style=\"background-color: rgb(225,236,247); color:black;\">telephone is Yes</span>  <span style=\"background-color: rgb(221,234,246); color:black;\">credit_history is not delay in paying off in the past</span>  <span style=\"background-color: rgb(226,237,248); color:black;\">purpose is not retraining</span>  <span style=\"background-color: rgb(227,238,248); color:black;\">amount <= 9790</span>  <span style=\"background-color: rgb(215,230,244); color:black;\">employment_duration is >= 7 yrs</span>  <span style=\"background-color: rgb(226,237,248); color:black;\">job is not skilled</span> <b>THEN </b> reject"
      ],
      "text/plain": [
       "<IPython.core.display.HTML object>"
      ]
     },
     "metadata": {},
     "output_type": "display_data"
    },
    {
     "data": {
      "text/html": [
       "#95, 4281 <b>IF </b>  <span style=\"background-color: rgb(253,223,209); color:black;\">property is not real estate</span>  <span style=\"background-color: rgb(254,224,210); color:black;\">job is skilled</span>  <span style=\"background-color: rgb(216,231,245); color:black;\">duration in 10 to 20</span>  <span style=\"background-color: rgb(254,225,212); color:black;\">number_credits is 2 to 3</span>  <span style=\"background-color: rgb(226,237,248); color:black;\">present_residence is not >= 7 yrs</span>  <span style=\"background-color: rgb(221,234,246); color:black;\">age >= 28</span>  <span style=\"background-color: rgb(254,228,216); color:black;\">savings is unknown/no savings account</span> <b>THEN </b> reject"
      ],
      "text/plain": [
       "<IPython.core.display.HTML object>"
      ]
     },
     "metadata": {},
     "output_type": "display_data"
    },
    {
     "data": {
      "text/html": [
       "#96, 2597 <b>IF </b>  <span style=\"background-color: rgb(253,213,195); color:black;\">telephone is No</span>  <span style=\"background-color: rgb(254,225,211); color:black;\">housing is not rent</span>  <span style=\"background-color: rgb(254,225,212); color:black;\">number_credits is 1</span>  <span style=\"background-color: rgb(225,237,248); color:black;\">property is building soc. savings agr./life insurance</span>  <span style=\"background-color: rgb(254,227,214); color:black;\">purpose is not others and furniture/equipment</span>  <span style=\"background-color: rgb(253,206,186); color:black;\">personal_status_sex is not married male</span>  <span style=\"background-color: rgb(226,237,248); color:black;\">other_installment_plans is not bank</span>  <span style=\"background-color: rgb(203,222,240); color:black;\">duration <= 13</span> <b>THEN </b> reject"
      ],
      "text/plain": [
       "<IPython.core.display.HTML object>"
      ]
     },
     "metadata": {},
     "output_type": "display_data"
    },
    {
     "data": {
      "text/html": [
       "#97, 7799 <b>IF </b>  <span style=\"background-color: rgb(226,237,248); color:black;\">other_installment_plans is not bank</span>  <span style=\"background-color: rgb(219,233,246); color:black;\">housing is own</span>  <span style=\"background-color: rgb(225,237,248); color:black;\">purpose is others</span>  <span style=\"background-color: rgb(218,232,245); color:black;\">duration <= 24</span>  <span style=\"background-color: rgb(254,224,210); color:black;\">job is skilled</span>  <span style=\"background-color: rgb(254,225,212); color:black;\">number_credits is 1</span>  <span style=\"background-color: rgb(252,199,177); color:black;\">property is not real estate</span>  <span style=\"background-color: rgb(222,235,247); color:black;\">amount <= 1500</span> <b>THEN </b> reject"
      ],
      "text/plain": [
       "<IPython.core.display.HTML object>"
      ]
     },
     "metadata": {},
     "output_type": "display_data"
    },
    {
     "data": {
      "text/html": [
       "#98, 1837 <b>IF </b>  <span style=\"background-color: rgb(252,192,168); color:black;\">credit_history is not all credits at this bank paid back duly</span>  <span style=\"background-color: rgb(253,223,209); color:black;\">number_credits is not 1</span>  <span style=\"background-color: rgb(254,228,216); color:black;\">savings is not >= 1000 DM</span>  <span style=\"background-color: rgb(253,218,202); color:black;\">property is not building soc. savings agr./life insurance</span>  <span style=\"background-color: rgb(203,222,240); color:black;\">status is not no checking account</span>  <span style=\"background-color: rgb(252,193,169); color:black;\">employment_duration is unemployed or < 1 yr</span>  <span style=\"background-color: rgb(212,228,243); color:black;\">installment_rate is not 25 to 35 and >= 35</span> <b>THEN </b> reject"
      ],
      "text/plain": [
       "<IPython.core.display.HTML object>"
      ]
     },
     "metadata": {},
     "output_type": "display_data"
    },
    {
     "data": {
      "text/html": [
       "#99, 7786 <b>IF </b>  <span style=\"background-color: rgb(226,237,248); color:black;\">other_installment_plans is not bank</span>  <span style=\"background-color: rgb(219,233,246); color:black;\">housing is own</span>  <span style=\"background-color: rgb(225,237,248); color:black;\">purpose is not repairs</span>  <span style=\"background-color: rgb(218,232,245); color:black;\">duration <= 24</span>  <span style=\"background-color: rgb(253,222,208); color:black;\">job is not unskilled and resident and skilled</span>  <span style=\"background-color: rgb(252,194,171); color:black;\">status is not ... >= 200 DM (salary)</span>  <span style=\"background-color: rgb(222,235,247); color:black;\">amount <= 1369</span> <b>THEN </b> reject"
      ],
      "text/plain": [
       "<IPython.core.display.HTML object>"
      ]
     },
     "metadata": {},
     "output_type": "display_data"
    }
   ],
   "source": [
    "for it, i in enumerate(outlier1 + outlier2):\n",
    "    display_rule(it, i)"
   ]
  },
  {
   "cell_type": "code",
   "execution_count": null,
   "metadata": {},
   "outputs": [],
   "source": [
    "res = LOCIMatrixNew(mat, r = 8, metric = 'euclidean', n_ticks=100)"
   ]
  },
  {
   "cell_type": "markdown",
   "metadata": {},
   "source": [
    "<div class=\"alert alert-info\">\n",
    "  <strong>Consistency Top 50 (20 neighbors):</strong>\n",
    "</div>"
   ]
  },
  {
   "cell_type": "code",
   "execution_count": 185,
   "metadata": {},
   "outputs": [
    {
     "data": {
      "text/html": [
       "#0, 6693 <b>IF </b>  <span style=\"background-color: rgb(253,221,206); color:black;\">employment_duration is not >= 7 yrs</span>  <span style=\"background-color: rgb(253,209,191); color:black;\">housing is not for free</span>  <span style=\"background-color: rgb(158,202,225); color:white;\">status is ... >= 200 DM (salary)</span>  <span style=\"background-color: rgb(252,172,144); color:white;\">duration >= 16</span>  <span style=\"background-color: rgb(254,224,210); color:black;\">amount >= 1523</span>  <span style=\"background-color: rgb(219,233,246); color:black;\">other_installment_plans is none</span>  <span style=\"background-color: rgb(253,222,208); color:black;\">purpose is not car (used)</span>  <span style=\"background-color: rgb(252,192,168); color:black;\">credit_history is not all credits at this bank paid back duly</span>  <span style=\"background-color: rgb(254,226,213); color:black;\">number_credits is 1</span>  <span style=\"background-color: rgb(254,228,216); color:black;\">savings is unknown/no savings account</span> <b>THEN </b> accept"
      ],
      "text/plain": [
       "<IPython.core.display.HTML object>"
      ]
     },
     "metadata": {},
     "output_type": "display_data"
    },
    {
     "data": {
      "text/html": [
       "#1, 2156 <b>IF </b>  <span style=\"background-color: rgb(254,228,216); color:black;\">people_liable is 0 to 2</span>  <span style=\"background-color: rgb(253,218,202); color:black;\">property is not building soc. savings agr./life insurance</span>  <span style=\"background-color: rgb(254,224,210); color:black;\">purpose is not furniture/equipment</span>  <span style=\"background-color: rgb(254,228,216); color:black;\">savings is >= 1000 DM</span>  <span style=\"background-color: rgb(254,224,210); color:black;\">job is skilled employee / official</span>  <span style=\"background-color: rgb(158,202,225); color:white;\">status is ... >= 200 DM (salary)</span>  <span style=\"background-color: rgb(254,225,212); color:black;\">housing is not rent</span> <b>THEN </b> accept"
      ],
      "text/plain": [
       "<IPython.core.display.HTML object>"
      ]
     },
     "metadata": {},
     "output_type": "display_data"
    },
    {
     "data": {
      "text/html": [
       "#2, 6485 <b>IF </b>  <span style=\"background-color: rgb(219,233,246); color:black;\">age >= 31</span>  <span style=\"background-color: rgb(252,192,168); color:black;\">credit_history is not all credits at this bank paid back duly</span>  <span style=\"background-color: rgb(252,193,169); color:black;\">installment_rate is not < 20 and 20 to 25</span>  <span style=\"background-color: rgb(254,224,210); color:black;\">purpose is not others</span>  <span style=\"background-color: rgb(254,228,216); color:black;\">savings is unknown/no savings account or < 100 DM</span>  <span style=\"background-color: rgb(225,236,247); color:black;\">amount <= 3201</span>  <span style=\"background-color: rgb(254,225,212); color:black;\">present_residence is >= 7 yrs</span>  <span style=\"background-color: rgb(252,205,185); color:black;\">personal_status_sex is not married male</span> <b>THEN </b> accept"
      ],
      "text/plain": [
       "<IPython.core.display.HTML object>"
      ]
     },
     "metadata": {},
     "output_type": "display_data"
    },
    {
     "data": {
      "text/html": [
       "#3, 8638 <b>IF </b>  <span style=\"background-color: rgb(221,234,246); color:black;\">purpose is furniture/equipment</span>  <span style=\"background-color: rgb(253,209,191); color:black;\">housing is not for free</span>  <span style=\"background-color: rgb(253,214,197); color:black;\">property is car or other</span>  <span style=\"background-color: rgb(252,150,119); color:white;\">duration >= 21</span>  <span style=\"background-color: rgb(253,223,209); color:black;\">credit_history is not no credits taken/all credits paid back duly</span> <b>THEN </b> accept"
      ],
      "text/plain": [
       "<IPython.core.display.HTML object>"
      ]
     },
     "metadata": {},
     "output_type": "display_data"
    },
    {
     "data": {
      "text/html": [
       "#4, 7572 <b>IF </b>  <span style=\"background-color: rgb(218,232,245); color:black;\">employment_duration is 4 to 7 yrs or >= 7 yrs</span>  <span style=\"background-color: rgb(225,237,248); color:black;\">purpose is repairs</span>  <span style=\"background-color: rgb(253,223,209); color:black;\">job is not unskilled - resident</span> <b>THEN </b> accept"
      ],
      "text/plain": [
       "<IPython.core.display.HTML object>"
      ]
     },
     "metadata": {},
     "output_type": "display_data"
    },
    {
     "data": {
      "text/html": [
       "#5, 5597 <b>IF </b>  <span style=\"background-color: rgb(254,225,212); color:black;\">housing is not rent</span>  <span style=\"background-color: rgb(221,234,246); color:black;\">property is not unknown / no property</span>  <span style=\"background-color: rgb(252,172,144); color:white;\">duration >= 15</span>  <span style=\"background-color: rgb(253,208,189); color:black;\">purpose is not others and car (new) and furniture/equipment</span>  <span style=\"background-color: rgb(254,228,216); color:black;\">people_liable is 0 to 2</span>  <span style=\"background-color: rgb(254,224,210); color:black;\">job is skilled employee / official</span>  <span style=\"background-color: rgb(253,212,194); color:black;\">employment_duration is not 4 to 7 yrs and >= 7 yrs</span>  <span style=\"background-color: rgb(158,202,225); color:white;\">status is ... >= 200 DM (salary)</span> <b>THEN </b> accept"
      ],
      "text/plain": [
       "<IPython.core.display.HTML object>"
      ]
     },
     "metadata": {},
     "output_type": "display_data"
    },
    {
     "data": {
      "text/html": [
       "#6, 9627 <b>IF </b>  <span style=\"background-color: rgb(252,192,168); color:black;\">credit_history is no credits taken/all credits paid back duly</span>  <span style=\"background-color: rgb(254,228,216); color:black;\">savings is unknown/no savings account or < 100 DM</span>  <span style=\"background-color: rgb(253,219,203); color:black;\">purpose is not furniture/equipment</span>  <span style=\"background-color: rgb(254,228,216); color:black;\">people_liable is 0 to 2</span>  <span style=\"background-color: rgb(218,232,245); color:black;\">employment_duration is 4 to 7 yrs or >= 7 yrs</span>  <span style=\"background-color: rgb(252,149,117); color:white;\">duration >= 22</span>  <span style=\"background-color: rgb(215,230,244); color:black;\">age >= 37</span> <b>THEN </b> accept"
      ],
      "text/plain": [
       "<IPython.core.display.HTML object>"
      ]
     },
     "metadata": {},
     "output_type": "display_data"
    },
    {
     "data": {
      "text/html": [
       "#7, 349 <b>IF </b>  <span style=\"background-color: rgb(253,222,208); color:black;\">number_credits is not 2 to 3</span>  <span style=\"background-color: rgb(254,224,210); color:black;\">credit_history is not no credits taken/all credits paid back duly</span>  <span style=\"background-color: rgb(158,202,225); color:white;\">status is ... >= 200 DM (salary)</span>  <span style=\"background-color: rgb(254,228,216); color:black;\">people_liable is 0 to 2</span>  <span style=\"background-color: rgb(254,228,216); color:black;\">savings is 500 to 1000 DM or >= 1000 DM</span> <b>THEN </b> accept"
      ],
      "text/plain": [
       "<IPython.core.display.HTML object>"
      ]
     },
     "metadata": {},
     "output_type": "display_data"
    },
    {
     "data": {
      "text/html": [
       "#8, 3231 <b>IF </b>  <span style=\"background-color: rgb(187,214,235); color:white;\">credit_history is all credits at this bank paid back duly</span>  <span style=\"background-color: rgb(253,212,194); color:black;\">other_debtors is none</span>  <span style=\"background-color: rgb(253,212,194); color:black;\">employment_duration is not 4 to 7 yrs and >= 7 yrs</span>  <span style=\"background-color: rgb(225,237,248); color:black;\">amount <= 4726</span>  <span style=\"background-color: rgb(254,228,216); color:black;\">people_liable is 0 to 2</span>  <span style=\"background-color: rgb(253,213,195); color:black;\">telephone is No</span>  <span style=\"background-color: rgb(216,231,245); color:black;\">installment_rate is not >= 35</span>  <span style=\"background-color: rgb(158,202,225); color:white;\">status is ... >= 200 DM (salary)</span> <b>THEN </b> accept"
      ],
      "text/plain": [
       "<IPython.core.display.HTML object>"
      ]
     },
     "metadata": {},
     "output_type": "display_data"
    },
    {
     "data": {
      "text/html": [
       "#9, 5285 <b>IF </b>  <span style=\"background-color: rgb(254,225,211); color:black;\">telephone is Yes</span>  <span style=\"background-color: rgb(254,228,216); color:black;\">savings is unknown/no savings account or < 100 DM</span>  <span style=\"background-color: rgb(227,238,248); color:black;\">purpose is not car (used) and retraining</span>  <span style=\"background-color: rgb(254,225,211); color:black;\">property is not real estate and unknown / no property</span>  <span style=\"background-color: rgb(252,176,148); color:white;\">installment_rate is >= 35</span>  <span style=\"background-color: rgb(252,195,172); color:black;\">status is not ... >= 200 DM (salary)</span> <b>THEN </b> accept"
      ],
      "text/plain": [
       "<IPython.core.display.HTML object>"
      ]
     },
     "metadata": {},
     "output_type": "display_data"
    },
    {
     "data": {
      "text/html": [
       "#10, 1176 <b>IF </b>  <span style=\"background-color: rgb(252,192,168); color:black;\">credit_history is not all credits at this bank paid back duly</span>  <span style=\"background-color: rgb(254,228,216); color:black;\">savings is unknown/no savings account or < 100 DM</span>  <span style=\"background-color: rgb(252,201,180); color:black;\">other_debtors is not guarantor</span>  <span style=\"background-color: rgb(252,178,151); color:white;\">property is not real estate and building soc. savings agr./life insurance</span>  <span style=\"background-color: rgb(254,226,213); color:black;\">number_credits is 1</span>  <span style=\"background-color: rgb(219,233,246); color:black;\">housing is own</span>  <span style=\"background-color: rgb(253,219,203); color:black;\">purpose is not furniture/equipment</span>  <span style=\"background-color: rgb(254,225,212); color:black;\">present_residence is >= 7 yrs</span> <b>THEN </b> accept"
      ],
      "text/plain": [
       "<IPython.core.display.HTML object>"
      ]
     },
     "metadata": {},
     "output_type": "display_data"
    },
    {
     "data": {
      "text/html": [
       "#11, 5421 <b>IF </b>  <span style=\"background-color: rgb(253,220,205); color:black;\">personal_status_sex is married male</span>  <span style=\"background-color: rgb(222,235,247); color:black;\">savings is 100 to 500 DM or 500 to 1000 DM</span>  <span style=\"background-color: rgb(253,214,197); color:black;\">property is car or other</span> <b>THEN </b> accept"
      ],
      "text/plain": [
       "<IPython.core.display.HTML object>"
      ]
     },
     "metadata": {},
     "output_type": "display_data"
    },
    {
     "data": {
      "text/html": [
       "#12, 5790 <b>IF </b>  <span style=\"background-color: rgb(226,237,248); color:black;\">other_installment_plans is not bank</span>  <span style=\"background-color: rgb(254,225,212); color:black;\">housing is not rent</span>  <span style=\"background-color: rgb(221,234,246); color:black;\">credit_history is all credits at this bank paid back duly</span>  <span style=\"background-color: rgb(254,228,216); color:black;\">savings is 500 to 1000 DM or >= 1000 DM</span>  <span style=\"background-color: rgb(216,231,245); color:black;\">installment_rate is not >= 35</span>  <span style=\"background-color: rgb(253,223,209); color:black;\">job is not unskilled - resident</span> <b>THEN </b> accept"
      ],
      "text/plain": [
       "<IPython.core.display.HTML object>"
      ]
     },
     "metadata": {},
     "output_type": "display_data"
    },
    {
     "data": {
      "text/html": [
       "#13, 8320 <b>IF </b>  <span style=\"background-color: rgb(254,224,210); color:black;\">job is skilled employee / official</span>  <span style=\"background-color: rgb(219,233,246); color:black;\">housing is own</span>  <span style=\"background-color: rgb(203,222,240); color:black;\">savings is not unknown/no savings account and < 100 DM</span>  <span style=\"background-color: rgb(253,218,202); color:black;\">property is not building soc. savings agr./life insurance</span>  <span style=\"background-color: rgb(212,228,243); color:black;\">purpose is furniture/equipment</span>  <span style=\"background-color: rgb(253,222,208); color:black;\">number_credits is not 2 to 3</span> <b>THEN </b> accept"
      ],
      "text/plain": [
       "<IPython.core.display.HTML object>"
      ]
     },
     "metadata": {},
     "output_type": "display_data"
    },
    {
     "data": {
      "text/html": [
       "#14, 491 <b>IF </b>  <span style=\"background-color: rgb(205,223,241); color:black;\">duration <= 15</span>  <span style=\"background-color: rgb(252,192,168); color:black;\">credit_history is no credits taken/all credits paid back duly</span>  <span style=\"background-color: rgb(222,235,247); color:black;\">amount <= 1538</span>  <span style=\"background-color: rgb(254,225,212); color:black;\">housing is not rent</span>  <span style=\"background-color: rgb(254,224,210); color:black;\">job is skilled employee / official</span>  <span style=\"background-color: rgb(253,213,195); color:black;\">telephone is No</span>  <span style=\"background-color: rgb(252,199,177); color:black;\">property is not real estate</span> <b>THEN </b> accept"
      ],
      "text/plain": [
       "<IPython.core.display.HTML object>"
      ]
     },
     "metadata": {},
     "output_type": "display_data"
    },
    {
     "data": {
      "text/html": [
       "#15, 5557 <b>IF </b>  <span style=\"background-color: rgb(252,198,175); color:black;\">savings is < 100 DM or 100 to 500 DM</span>  <span style=\"background-color: rgb(158,202,225); color:white;\">status is ... >= 200 DM (salary)</span>  <span style=\"background-color: rgb(252,164,135); color:white;\">credit_history is not existing credits paid back duly till now and all credits at this bank paid back duly</span>  <span style=\"background-color: rgb(223,235,247); color:black;\">employment_duration is not unemployed and < 1 yr</span>  <span style=\"background-color: rgb(226,237,248); color:black;\">job is not skilled employee / official</span> <b>THEN </b> accept"
      ],
      "text/plain": [
       "<IPython.core.display.HTML object>"
      ]
     },
     "metadata": {},
     "output_type": "display_data"
    },
    {
     "data": {
      "text/html": [
       "#16, 198 <b>IF </b>  <span style=\"background-color: rgb(203,222,240); color:black;\">savings is not unknown/no savings account and < 100 DM</span>  <span style=\"background-color: rgb(187,214,235); color:white;\">credit_history is all credits at this bank paid back duly</span>  <span style=\"background-color: rgb(158,202,225); color:white;\">status is ... >= 200 DM (salary)</span>  <span style=\"background-color: rgb(254,226,213); color:black;\">number_credits is 1</span> <b>THEN </b> accept"
      ],
      "text/plain": [
       "<IPython.core.display.HTML object>"
      ]
     },
     "metadata": {},
     "output_type": "display_data"
    },
    {
     "data": {
      "text/html": [
       "#17, 2123 <b>IF </b>  <span style=\"background-color: rgb(158,202,225); color:white;\">status is ... >= 200 DM (salary)</span>  <span style=\"background-color: rgb(254,224,210); color:black;\">credit_history is not existing credits paid back duly till now</span>  <span style=\"background-color: rgb(225,236,247); color:black;\">telephone is Yes</span>  <span style=\"background-color: rgb(254,224,210); color:black;\">job is skilled employee / official</span>  <span style=\"background-color: rgb(254,228,216); color:black;\">savings is >= 1000 DM</span>  <span style=\"background-color: rgb(254,226,213); color:black;\">number_credits is 1</span> <b>THEN </b> accept"
      ],
      "text/plain": [
       "<IPython.core.display.HTML object>"
      ]
     },
     "metadata": {},
     "output_type": "display_data"
    },
    {
     "data": {
      "text/html": [
       "#18, 4675 <b>IF </b>  <span style=\"background-color: rgb(226,237,248); color:black;\">other_installment_plans is not bank</span>  <span style=\"background-color: rgb(253,213,195); color:black;\">telephone is No</span>  <span style=\"background-color: rgb(252,201,180); color:black;\">other_debtors is not guarantor</span>  <span style=\"background-color: rgb(226,237,248); color:black;\">job is not skilled employee / official</span>  <span style=\"background-color: rgb(254,225,211); color:black;\">property is not car or other</span>  <span style=\"background-color: rgb(219,233,246); color:black;\">housing is own</span>  <span style=\"background-color: rgb(253,219,203); color:black;\">purpose is not furniture/equipment</span>  <span style=\"background-color: rgb(253,222,208); color:black;\">number_credits is not 1</span> <b>THEN </b> accept"
      ],
      "text/plain": [
       "<IPython.core.display.HTML object>"
      ]
     },
     "metadata": {},
     "output_type": "display_data"
    },
    {
     "data": {
      "text/html": [
       "#19, 7801 <b>IF </b>  <span style=\"background-color: rgb(226,237,248); color:black;\">other_installment_plans is not bank</span>  <span style=\"background-color: rgb(219,233,246); color:black;\">housing is own</span>  <span style=\"background-color: rgb(225,237,248); color:black;\">purpose is not repairs</span>  <span style=\"background-color: rgb(218,232,245); color:black;\">duration <= 24</span>  <span style=\"background-color: rgb(254,224,210); color:black;\">job is skilled employee / official</span>  <span style=\"background-color: rgb(254,226,213); color:black;\">number_credits is 1</span>  <span style=\"background-color: rgb(209,226,242); color:black;\">property is real estate</span>  <span style=\"background-color: rgb(225,236,247); color:black;\">telephone is Yes</span> <b>THEN </b> accept"
      ],
      "text/plain": [
       "<IPython.core.display.HTML object>"
      ]
     },
     "metadata": {},
     "output_type": "display_data"
    },
    {
     "data": {
      "text/html": [
       "#20, 9605 <b>IF </b>  <span style=\"background-color: rgb(219,233,246); color:black;\">other_installment_plans is none</span>  <span style=\"background-color: rgb(187,214,235); color:white;\">credit_history is all credits at this bank paid back duly</span>  <span style=\"background-color: rgb(225,236,247); color:black;\">job is not management/ self-employed/ highly qualified employee/ officer</span>  <span style=\"background-color: rgb(225,237,248); color:black;\">amount <= 4210</span>  <span style=\"background-color: rgb(252,182,156); color:white;\">duration >= 13</span>  <span style=\"background-color: rgb(253,222,208); color:black;\">number_credits is not 1</span>  <span style=\"background-color: rgb(226,237,248); color:black;\">present_residence is not >= 7 yrs</span>  <span style=\"background-color: rgb(252,205,185); color:black;\">personal_status_sex is not married male</span> <b>THEN </b> accept"
      ],
      "text/plain": [
       "<IPython.core.display.HTML object>"
      ]
     },
     "metadata": {},
     "output_type": "display_data"
    },
    {
     "data": {
      "text/html": [
       "#21, 9577 <b>IF </b>  <span style=\"background-color: rgb(219,233,246); color:black;\">other_installment_plans is none</span>  <span style=\"background-color: rgb(252,192,168); color:black;\">credit_history is not all credits at this bank paid back duly</span>  <span style=\"background-color: rgb(253,214,197); color:black;\">purpose is not car (used) and furniture/equipment</span>  <span style=\"background-color: rgb(254,225,212); color:black;\">housing is not rent</span>  <span style=\"background-color: rgb(254,228,216); color:black;\">savings is unknown/no savings account</span>  <span style=\"background-color: rgb(254,228,216); color:black;\">people_liable is 0 to 2</span>  <span style=\"background-color: rgb(253,218,202); color:black;\">property is not building soc. savings agr./life insurance</span>  <span style=\"background-color: rgb(252,205,185); color:black;\">personal_status_sex is not married male</span> <b>THEN </b> accept"
      ],
      "text/plain": [
       "<IPython.core.display.HTML object>"
      ]
     },
     "metadata": {},
     "output_type": "display_data"
    },
    {
     "data": {
      "text/html": [
       "#22, 5298 <b>IF </b>  <span style=\"background-color: rgb(225,236,247); color:black;\">telephone is Yes</span>  <span style=\"background-color: rgb(254,228,216); color:black;\">savings is not unknown/no savings account and < 100 DM</span>  <span style=\"background-color: rgb(219,233,246); color:black;\">housing is own</span>  <span style=\"background-color: rgb(254,228,216); color:black;\">people_liable is 0 to 2</span>  <span style=\"background-color: rgb(212,228,243); color:black;\">purpose is furniture/equipment</span> <b>THEN </b> accept"
      ],
      "text/plain": [
       "<IPython.core.display.HTML object>"
      ]
     },
     "metadata": {},
     "output_type": "display_data"
    },
    {
     "data": {
      "text/html": [
       "#23, 8759 <b>IF </b>  <span style=\"background-color: rgb(253,213,195); color:black;\">telephone is No</span>  <span style=\"background-color: rgb(158,202,225); color:white;\">status is ... >= 200 DM (salary)</span>  <span style=\"background-color: rgb(254,224,210); color:black;\">job is skilled employee / official</span>  <span style=\"background-color: rgb(219,233,246); color:black;\">housing is own</span>  <span style=\"background-color: rgb(219,233,246); color:black;\">age >= 31</span>  <span style=\"background-color: rgb(253,219,203); color:black;\">purpose is not furniture/equipment</span>  <span style=\"background-color: rgb(254,227,215); color:black;\">credit_history is no credits taken/all credits paid back duly</span> <b>THEN </b> accept"
      ],
      "text/plain": [
       "<IPython.core.display.HTML object>"
      ]
     },
     "metadata": {},
     "output_type": "display_data"
    },
    {
     "data": {
      "text/html": [
       "#24, 2448 <b>IF </b>  <span style=\"background-color: rgb(252,191,166); color:white;\">savings is unknown/no savings account or < 100 DM</span>  <span style=\"background-color: rgb(254,225,212); color:black;\">housing is not rent</span>  <span style=\"background-color: rgb(221,234,246); color:black;\">property is car or other</span>  <span style=\"background-color: rgb(212,228,243); color:black;\">purpose is furniture/equipment</span>  <span style=\"background-color: rgb(216,231,245); color:black;\">installment_rate is not >= 35</span>  <span style=\"background-color: rgb(254,227,215); color:black;\">present_residence is not < 1 yr</span> <b>THEN </b> accept"
      ],
      "text/plain": [
       "<IPython.core.display.HTML object>"
      ]
     },
     "metadata": {},
     "output_type": "display_data"
    },
    {
     "data": {
      "text/html": [
       "#25, 4189 <b>IF </b>  <span style=\"background-color: rgb(253,223,209); color:black;\">property is not unknown / no property</span>  <span style=\"background-color: rgb(254,228,216); color:black;\">savings is not unknown/no savings account and < 100 DM</span>  <span style=\"background-color: rgb(253,220,205); color:black;\">personal_status_sex is married male</span>  <span style=\"background-color: rgb(219,233,246); color:black;\">other_installment_plans is none</span>  <span style=\"background-color: rgb(225,236,247); color:black;\">telephone is Yes</span>  <span style=\"background-color: rgb(254,227,215); color:black;\">credit_history is no credits taken/all credits paid back duly</span> <b>THEN </b> accept"
      ],
      "text/plain": [
       "<IPython.core.display.HTML object>"
      ]
     },
     "metadata": {},
     "output_type": "display_data"
    },
    {
     "data": {
      "text/html": [
       "#26, 7096 <b>IF </b>  <span style=\"background-color: rgb(222,235,247); color:black;\">savings is 100 to 500 DM or 500 to 1000 DM</span>  <span style=\"background-color: rgb(226,237,248); color:black;\">present_residence is not >= 7 yrs</span>  <span style=\"background-color: rgb(252,178,151); color:white;\">property is not real estate and building soc. savings agr./life insurance</span>  <span style=\"background-color: rgb(252,193,169); color:black;\">installment_rate is not < 20 and 20 to 25</span>  <span style=\"background-color: rgb(221,234,246); color:black;\">age >= 28</span> <b>THEN </b> accept"
      ],
      "text/plain": [
       "<IPython.core.display.HTML object>"
      ]
     },
     "metadata": {},
     "output_type": "display_data"
    },
    {
     "data": {
      "text/html": [
       "#27, 7365 <b>IF </b>  <span style=\"background-color: rgb(252,191,166); color:white;\">savings is unknown/no savings account or < 100 DM</span>  <span style=\"background-color: rgb(252,192,168); color:black;\">credit_history is no credits taken/all credits paid back duly</span>  <span style=\"background-color: rgb(253,219,203); color:black;\">duration >= 8</span>  <span style=\"background-color: rgb(253,220,205); color:black;\">personal_status_sex is married male</span>  <span style=\"background-color: rgb(226,237,248); color:black;\">present_residence is not 4 to 7 yrs and >= 7 yrs</span>  <span style=\"background-color: rgb(225,236,247); color:black;\">telephone is Yes</span>  <span style=\"background-color: rgb(225,237,248); color:black;\">amount <= 4765</span> <b>THEN </b> accept"
      ],
      "text/plain": [
       "<IPython.core.display.HTML object>"
      ]
     },
     "metadata": {},
     "output_type": "display_data"
    },
    {
     "data": {
      "text/html": [
       "#28, 6956 <b>IF </b>  <span style=\"background-color: rgb(253,220,205); color:black;\">personal_status_sex is married male</span>  <span style=\"background-color: rgb(187,214,235); color:white;\">credit_history is all credits at this bank paid back duly</span>  <span style=\"background-color: rgb(176,209,231); color:white;\">purpose is car (new)</span>  <span style=\"background-color: rgb(221,234,246); color:black;\">duration <= 34</span> <b>THEN </b> accept"
      ],
      "text/plain": [
       "<IPython.core.display.HTML object>"
      ]
     },
     "metadata": {},
     "output_type": "display_data"
    },
    {
     "data": {
      "text/html": [
       "#29, 1967 <b>IF </b>  <span style=\"background-color: rgb(226,237,248); color:black;\">other_installment_plans is not bank</span>  <span style=\"background-color: rgb(254,225,212); color:black;\">housing is not rent</span>  <span style=\"background-color: rgb(254,226,213); color:black;\">number_credits is 2 to 3</span>  <span style=\"background-color: rgb(220,233,246); color:black;\">age >= 30</span>  <span style=\"background-color: rgb(187,214,235); color:white;\">credit_history is all credits at this bank paid back duly</span>  <span style=\"background-color: rgb(253,220,205); color:black;\">personal_status_sex is married male</span>  <span style=\"background-color: rgb(158,202,225); color:white;\">status is ... >= 200 DM (salary)</span>  <span style=\"background-color: rgb(253,214,197); color:black;\">property is car or other</span> <b>THEN </b> accept"
      ],
      "text/plain": [
       "<IPython.core.display.HTML object>"
      ]
     },
     "metadata": {},
     "output_type": "display_data"
    },
    {
     "data": {
      "text/html": [
       "#30, 9655 <b>IF </b>  <span style=\"background-color: rgb(187,214,235); color:white;\">credit_history is all credits at this bank paid back duly</span>  <span style=\"background-color: rgb(252,201,180); color:black;\">other_debtors is not guarantor</span>  <span style=\"background-color: rgb(253,207,188); color:black;\">duration >= 11</span>  <span style=\"background-color: rgb(225,237,248); color:black;\">purpose is not others</span>  <span style=\"background-color: rgb(158,202,225); color:white;\">status is ... >= 200 DM (salary)</span>  <span style=\"background-color: rgb(252,193,169); color:black;\">installment_rate is not < 20 and 20 to 25</span>  <span style=\"background-color: rgb(226,237,248); color:black;\">present_residence is not >= 7 yrs</span>  <span style=\"background-color: rgb(226,237,248); color:black;\">job is not skilled employee / official</span> <b>THEN </b> accept"
      ],
      "text/plain": [
       "<IPython.core.display.HTML object>"
      ]
     },
     "metadata": {},
     "output_type": "display_data"
    },
    {
     "data": {
      "text/html": [
       "#31, 6307 <b>IF </b>  <span style=\"background-color: rgb(187,214,235); color:white;\">credit_history is all credits at this bank paid back duly</span>  <span style=\"background-color: rgb(254,225,212); color:black;\">housing is not rent</span>  <span style=\"background-color: rgb(254,228,216); color:black;\">savings is >= 1000 DM</span>  <span style=\"background-color: rgb(216,231,245); color:black;\">installment_rate is not >= 35</span> <b>THEN </b> accept"
      ],
      "text/plain": [
       "<IPython.core.display.HTML object>"
      ]
     },
     "metadata": {},
     "output_type": "display_data"
    },
    {
     "data": {
      "text/html": [
       "#32, 773 <b>IF </b>  <span style=\"background-color: rgb(188,215,235); color:white;\">savings is 500 to 1000 DM or >= 1000 DM</span>  <span style=\"background-color: rgb(253,212,194); color:black;\">employment_duration is not 4 to 7 yrs and >= 7 yrs</span>  <span style=\"background-color: rgb(254,228,216); color:black;\">people_liable is 0 to 2</span>  <span style=\"background-color: rgb(219,233,246); color:black;\">housing is own</span>  <span style=\"background-color: rgb(187,214,235); color:white;\">credit_history is all credits at this bank paid back duly</span> <b>THEN </b> accept"
      ],
      "text/plain": [
       "<IPython.core.display.HTML object>"
      ]
     },
     "metadata": {},
     "output_type": "display_data"
    },
    {
     "data": {
      "text/html": [
       "#33, 5562 <b>IF </b>  <span style=\"background-color: rgb(188,215,235); color:white;\">savings is 500 to 1000 DM or >= 1000 DM</span>  <span style=\"background-color: rgb(254,225,212); color:black;\">housing is not rent</span>  <span style=\"background-color: rgb(225,237,248); color:black;\">purpose is not others</span>  <span style=\"background-color: rgb(252,205,185); color:black;\">personal_status_sex is not married male</span>  <span style=\"background-color: rgb(215,230,244); color:black;\">age >= 37</span> <b>THEN </b> accept"
      ],
      "text/plain": [
       "<IPython.core.display.HTML object>"
      ]
     },
     "metadata": {},
     "output_type": "display_data"
    },
    {
     "data": {
      "text/html": [
       "#34, 6769 <b>IF </b>  <span style=\"background-color: rgb(252,195,172); color:black;\">status is not ... >= 200 DM (salary)</span>  <span style=\"background-color: rgb(253,219,203); color:black;\">purpose is not furniture/equipment</span>  <span style=\"background-color: rgb(254,224,210); color:black;\">job is skilled employee / official</span>  <span style=\"background-color: rgb(254,228,216); color:black;\">savings is unknown/no savings account</span>  <span style=\"background-color: rgb(252,164,135); color:white;\">credit_history is no credits taken/all credits paid back duly</span>  <span style=\"background-color: rgb(253,213,195); color:black;\">telephone is No</span>  <span style=\"background-color: rgb(254,225,211); color:black;\">property is not car or other</span>  <span style=\"background-color: rgb(226,237,248); color:black;\">other_installment_plans is not bank</span> <b>THEN </b> accept"
      ],
      "text/plain": [
       "<IPython.core.display.HTML object>"
      ]
     },
     "metadata": {},
     "output_type": "display_data"
    },
    {
     "data": {
      "text/html": [
       "#35, 8411 <b>IF </b>  <span style=\"background-color: rgb(252,172,144); color:white;\">duration >= 15</span>  <span style=\"background-color: rgb(253,220,205); color:black;\">personal_status_sex is married male</span>  <span style=\"background-color: rgb(217,231,245); color:black;\">property is not car or other and unknown / no property</span>  <span style=\"background-color: rgb(252,199,177); color:black;\">age <= 31</span>  <span style=\"background-color: rgb(254,228,216); color:black;\">savings is unknown/no savings account or < 100 DM</span>  <span style=\"background-color: rgb(226,237,248); color:black;\">present_residence is not 4 to 7 yrs and >= 7 yrs</span> <b>THEN </b> accept"
      ],
      "text/plain": [
       "<IPython.core.display.HTML object>"
      ]
     },
     "metadata": {},
     "output_type": "display_data"
    },
    {
     "data": {
      "text/html": [
       "#36, 6198 <b>IF </b>  <span style=\"background-color: rgb(187,214,235); color:white;\">credit_history is all credits at this bank paid back duly</span>  <span style=\"background-color: rgb(226,237,248); color:black;\">other_installment_plans is not bank</span>  <span style=\"background-color: rgb(215,230,244); color:black;\">employment_duration is >= 7 yrs</span>  <span style=\"background-color: rgb(254,225,211); color:black;\">property is not car or other</span>  <span style=\"background-color: rgb(254,228,216); color:black;\">savings is unknown/no savings account</span>  <span style=\"background-color: rgb(253,222,208); color:black;\">number_credits is not 2 to 3</span> <b>THEN </b> accept"
      ],
      "text/plain": [
       "<IPython.core.display.HTML object>"
      ]
     },
     "metadata": {},
     "output_type": "display_data"
    },
    {
     "data": {
      "text/html": [
       "#37, 5475 <b>IF </b>  <span style=\"background-color: rgb(252,191,166); color:white;\">savings is unknown/no savings account or < 100 DM</span>  <span style=\"background-color: rgb(225,236,247); color:black;\">telephone is Yes</span>  <span style=\"background-color: rgb(252,175,147); color:white;\">status is not 0 to 200 DM and ... >= 200 DM (salary)</span>  <span style=\"background-color: rgb(253,222,208); color:black;\">purpose is not car (used)</span>  <span style=\"background-color: rgb(252,192,168); color:black;\">credit_history is no credits taken/all credits paid back duly</span>  <span style=\"background-color: rgb(254,226,213); color:black;\">number_credits is 1</span>  <span style=\"background-color: rgb(253,209,191); color:black;\">housing is not for free</span> <b>THEN </b> accept"
      ],
      "text/plain": [
       "<IPython.core.display.HTML object>"
      ]
     },
     "metadata": {},
     "output_type": "display_data"
    },
    {
     "data": {
      "text/html": [
       "#38, 4708 <b>IF </b>  <span style=\"background-color: rgb(253,208,189); color:black;\">other_installment_plans is not bank</span>  <span style=\"background-color: rgb(225,236,247); color:black;\">telephone is Yes</span>  <span style=\"background-color: rgb(254,228,216); color:black;\">savings is not unknown/no savings account</span>  <span style=\"background-color: rgb(226,237,248); color:black;\">job is not skilled employee / official</span>  <span style=\"background-color: rgb(216,231,245); color:black;\">installment_rate is not >= 35</span> <b>THEN </b> accept"
      ],
      "text/plain": [
       "<IPython.core.display.HTML object>"
      ]
     },
     "metadata": {},
     "output_type": "display_data"
    },
    {
     "data": {
      "text/html": [
       "#39, 2609 <b>IF </b>  <span style=\"background-color: rgb(225,236,247); color:black;\">telephone is Yes</span>  <span style=\"background-color: rgb(225,237,248); color:black;\">amount <= 3939</span>  <span style=\"background-color: rgb(223,235,247); color:black;\">job is not skilled employee / official and management/ self-employed/ highly qualified employee/ officer</span>  <span style=\"background-color: rgb(253,222,208); color:black;\">purpose is not car (used)</span> <b>THEN </b> accept"
      ],
      "text/plain": [
       "<IPython.core.display.HTML object>"
      ]
     },
     "metadata": {},
     "output_type": "display_data"
    },
    {
     "data": {
      "text/html": [
       "#40, 3115 <b>IF </b>  <span style=\"background-color: rgb(252,195,172); color:black;\">status is not ... >= 200 DM (salary)</span>  <span style=\"background-color: rgb(254,227,215); color:black;\">amount >= 599</span>  <span style=\"background-color: rgb(253,207,188); color:black;\">duration >= 11</span>  <span style=\"background-color: rgb(252,192,168); color:black;\">credit_history is not all credits at this bank paid back duly</span>  <span style=\"background-color: rgb(225,236,247); color:black;\">telephone is Yes</span>  <span style=\"background-color: rgb(253,207,188); color:black;\">other_installment_plans is not stores</span>  <span style=\"background-color: rgb(254,225,212); color:black;\">housing is not rent</span>  <span style=\"background-color: rgb(253,212,194); color:black;\">employment_duration is not 4 to 7 yrs and >= 7 yrs</span>  <span style=\"background-color: rgb(226,237,248); color:black;\">present_residence is not 4 to 7 yrs and >= 7 yrs</span> <b>THEN </b> accept"
      ],
      "text/plain": [
       "<IPython.core.display.HTML object>"
      ]
     },
     "metadata": {},
     "output_type": "display_data"
    },
    {
     "data": {
      "text/html": [
       "#41, 5771 <b>IF </b>  <span style=\"background-color: rgb(226,237,248); color:black;\">other_installment_plans is not bank</span>  <span style=\"background-color: rgb(254,225,212); color:black;\">housing is not rent</span>  <span style=\"background-color: rgb(252,192,168); color:black;\">credit_history is not delay in paying off in the past and all credits at this bank paid back duly</span>  <span style=\"background-color: rgb(254,228,216); color:black;\">savings is not 500 to 1000 DM and >= 1000 DM</span>  <span style=\"background-color: rgb(252,199,177); color:black;\">property is building soc. savings agr./life insurance</span>  <span style=\"background-color: rgb(253,220,205); color:black;\">duration >= 6</span>  <span style=\"background-color: rgb(253,214,197); color:black;\">purpose is not car (used) and furniture/equipment</span> <b>THEN </b> accept"
      ],
      "text/plain": [
       "<IPython.core.display.HTML object>"
      ]
     },
     "metadata": {},
     "output_type": "display_data"
    },
    {
     "data": {
      "text/html": [
       "#42, 7574 <b>IF </b>  <span style=\"background-color: rgb(223,235,247); color:black;\">employment_duration is not unemployed and < 1 yr</span>  <span style=\"background-color: rgb(251,127,95); color:white;\">purpose is others</span>  <span style=\"background-color: rgb(252,195,172); color:black;\">status is not ... >= 200 DM (salary)</span>  <span style=\"background-color: rgb(212,228,243); color:black;\">installment_rate is not 25 to 35 and >= 35</span>  <span style=\"background-color: rgb(224,236,247); color:black;\">amount <= 2777</span> <b>THEN </b> accept"
      ],
      "text/plain": [
       "<IPython.core.display.HTML object>"
      ]
     },
     "metadata": {},
     "output_type": "display_data"
    },
    {
     "data": {
      "text/html": [
       "#43, 4816 <b>IF </b>  <span style=\"background-color: rgb(221,234,246); color:black;\">property is not unknown / no property</span>  <span style=\"background-color: rgb(225,236,247); color:black;\">job is not management/ self-employed/ highly qualified employee/ officer</span>  <span style=\"background-color: rgb(252,192,168); color:black;\">credit_history is not all credits at this bank paid back duly</span>  <span style=\"background-color: rgb(254,228,216); color:black;\">savings is unknown/no savings account or < 100 DM</span>  <span style=\"background-color: rgb(252,195,172); color:black;\">status is not ... >= 200 DM (salary)</span>  <span style=\"background-color: rgb(253,212,194); color:black;\">other_debtors is none</span>  <span style=\"background-color: rgb(254,227,215); color:black;\">present_residence is not < 1 yr</span>  <span style=\"background-color: rgb(225,236,247); color:black;\">telephone is Yes</span>  <span style=\"background-color: rgb(254,225,212); color:black;\">housing is not rent</span> <b>THEN </b> accept"
      ],
      "text/plain": [
       "<IPython.core.display.HTML object>"
      ]
     },
     "metadata": {},
     "output_type": "display_data"
    },
    {
     "data": {
      "text/html": [
       "#44, 2636 <b>IF </b>  <span style=\"background-color: rgb(252,195,172); color:black;\">status is not ... >= 200 DM (salary)</span>  <span style=\"background-color: rgb(253,219,203); color:black;\">purpose is not furniture/equipment</span>  <span style=\"background-color: rgb(253,218,202); color:black;\">property is not building soc. savings agr./life insurance</span>  <span style=\"background-color: rgb(253,220,205); color:black;\">personal_status_sex is married male</span>  <span style=\"background-color: rgb(226,237,248); color:black;\">present_residence is not 4 to 7 yrs and >= 7 yrs</span>  <span style=\"background-color: rgb(253,223,209); color:black;\">job is not unskilled - resident</span>  <span style=\"background-color: rgb(252,176,148); color:white;\">installment_rate is >= 35</span> <b>THEN </b> accept"
      ],
      "text/plain": [
       "<IPython.core.display.HTML object>"
      ]
     },
     "metadata": {},
     "output_type": "display_data"
    },
    {
     "data": {
      "text/html": [
       "#45, 3151 <b>IF </b>  <span style=\"background-color: rgb(252,192,168); color:black;\">credit_history is not all credits at this bank paid back duly</span>  <span style=\"background-color: rgb(252,205,185); color:black;\">personal_status_sex is not married male</span>  <span style=\"background-color: rgb(253,223,209); color:black;\">property is not building soc. savings agr./life insurance</span>  <span style=\"background-color: rgb(254,228,216); color:black;\">savings is not 500 to 1000 DM and >= 1000 DM</span>  <span style=\"background-color: rgb(225,236,247); color:black;\">telephone is Yes</span>  <span style=\"background-color: rgb(254,226,213); color:black;\">number_credits is 1</span>  <span style=\"background-color: rgb(212,228,243); color:black;\">installment_rate is not 25 to 35 and >= 35</span> <b>THEN </b> accept"
      ],
      "text/plain": [
       "<IPython.core.display.HTML object>"
      ]
     },
     "metadata": {},
     "output_type": "display_data"
    },
    {
     "data": {
      "text/html": [
       "#46, 369 <b>IF </b>  <span style=\"background-color: rgb(253,223,209); color:black;\">number_credits is not 2 to 3</span>  <span style=\"background-color: rgb(254,227,215); color:black;\">credit_history is no credits taken/all credits paid back duly</span>  <span style=\"background-color: rgb(254,228,216); color:black;\">savings is 100 to 500 DM</span>  <span style=\"background-color: rgb(225,237,248); color:black;\">purpose is not others</span>  <span style=\"background-color: rgb(158,202,225); color:white;\">status is ... >= 200 DM (salary)</span> <b>THEN </b> accept"
      ],
      "text/plain": [
       "<IPython.core.display.HTML object>"
      ]
     },
     "metadata": {},
     "output_type": "display_data"
    },
    {
     "data": {
      "text/html": [
       "#47, 3900 <b>IF </b>  <span style=\"background-color: rgb(252,172,144); color:white;\">duration >= 15</span>  <span style=\"background-color: rgb(254,225,212); color:black;\">housing is not rent</span>  <span style=\"background-color: rgb(225,236,247); color:black;\">telephone is Yes</span>  <span style=\"background-color: rgb(253,218,202); color:black;\">installment_rate is not < 20</span>  <span style=\"background-color: rgb(221,234,246); color:black;\">age >= 28</span>  <span style=\"background-color: rgb(254,225,211); color:black;\">property is not car or other</span>  <span style=\"background-color: rgb(254,228,216); color:black;\">people_liable is 0 to 2</span>  <span style=\"background-color: rgb(253,223,209); color:black;\">credit_history is not no credits taken/all credits paid back duly</span>  <span style=\"background-color: rgb(253,214,197); color:black;\">amount >= 4193</span> <b>THEN </b> accept"
      ],
      "text/plain": [
       "<IPython.core.display.HTML object>"
      ]
     },
     "metadata": {},
     "output_type": "display_data"
    },
    {
     "data": {
      "text/html": [
       "#48, 4368 <b>IF </b>  <span style=\"background-color: rgb(253,213,195); color:black;\">telephone is No</span>  <span style=\"background-color: rgb(253,214,197); color:black;\">property is car or other</span>  <span style=\"background-color: rgb(254,224,210); color:black;\">credit_history is not all credits at this bank paid back duly</span>  <span style=\"background-color: rgb(219,233,246); color:black;\">housing is own</span>  <span style=\"background-color: rgb(254,228,216); color:black;\">savings is not unknown/no savings account</span>  <span style=\"background-color: rgb(212,228,243); color:black;\">purpose is furniture/equipment</span> <b>THEN </b> accept"
      ],
      "text/plain": [
       "<IPython.core.display.HTML object>"
      ]
     },
     "metadata": {},
     "output_type": "display_data"
    },
    {
     "data": {
      "text/html": [
       "#49, 7036 <b>IF </b>  <span style=\"background-color: rgb(254,225,211); color:black;\">telephone is No</span>  <span style=\"background-color: rgb(254,224,210); color:black;\">job is skilled employee / official</span>  <span style=\"background-color: rgb(219,233,246); color:black;\">housing is own</span>  <span style=\"background-color: rgb(253,218,202); color:black;\">installment_rate is not < 20</span>  <span style=\"background-color: rgb(212,228,243); color:black;\">purpose is furniture/equipment</span>  <span style=\"background-color: rgb(254,226,213); color:black;\">number_credits is 1</span>  <span style=\"background-color: rgb(254,228,216); color:black;\">savings is not unknown/no savings account</span> <b>THEN </b> accept"
      ],
      "text/plain": [
       "<IPython.core.display.HTML object>"
      ]
     },
     "metadata": {},
     "output_type": "display_data"
    }
   ],
   "source": [
    "r = np.mean(res.sorted_dist[:, 20])\n",
    "ret20 = res.check_consistency(r, [p['output'] for p in paths])\n",
    "idx20 = np.array(ret20).argsort()[:50]\n",
    "for it, i in enumerate(idx20):\n",
    "    display_rule(it, i) "
   ]
  },
  {
   "cell_type": "markdown",
   "metadata": {},
   "source": [
    "<div class=\"alert alert-info\">\n",
    "  <strong>Consistency Top 50 (50 neighbors):</strong>\n",
    "</div>"
   ]
  },
  {
   "cell_type": "code",
   "execution_count": 186,
   "metadata": {},
   "outputs": [
    {
     "data": {
      "text/html": [
       "#0, 6693 <b>IF </b>  <span style=\"background-color: rgb(253,221,206); color:black;\">employment_duration is not >= 7 yrs</span>  <span style=\"background-color: rgb(253,209,191); color:black;\">housing is not for free</span>  <span style=\"background-color: rgb(158,202,225); color:white;\">status is ... >= 200 DM (salary)</span>  <span style=\"background-color: rgb(252,172,144); color:white;\">duration >= 16</span>  <span style=\"background-color: rgb(254,224,210); color:black;\">amount >= 1523</span>  <span style=\"background-color: rgb(219,233,246); color:black;\">other_installment_plans is none</span>  <span style=\"background-color: rgb(253,222,208); color:black;\">purpose is not car (used)</span>  <span style=\"background-color: rgb(252,192,168); color:black;\">credit_history is not all credits at this bank paid back duly</span>  <span style=\"background-color: rgb(254,226,213); color:black;\">number_credits is 1</span>  <span style=\"background-color: rgb(254,228,216); color:black;\">savings is unknown/no savings account</span> <b>THEN </b> accept"
      ],
      "text/plain": [
       "<IPython.core.display.HTML object>"
      ]
     },
     "metadata": {},
     "output_type": "display_data"
    },
    {
     "data": {
      "text/html": [
       "#1, 2156 <b>IF </b>  <span style=\"background-color: rgb(254,228,216); color:black;\">people_liable is 0 to 2</span>  <span style=\"background-color: rgb(253,218,202); color:black;\">property is not building soc. savings agr./life insurance</span>  <span style=\"background-color: rgb(254,224,210); color:black;\">purpose is not furniture/equipment</span>  <span style=\"background-color: rgb(254,228,216); color:black;\">savings is >= 1000 DM</span>  <span style=\"background-color: rgb(254,224,210); color:black;\">job is skilled employee / official</span>  <span style=\"background-color: rgb(158,202,225); color:white;\">status is ... >= 200 DM (salary)</span>  <span style=\"background-color: rgb(254,225,212); color:black;\">housing is not rent</span> <b>THEN </b> accept"
      ],
      "text/plain": [
       "<IPython.core.display.HTML object>"
      ]
     },
     "metadata": {},
     "output_type": "display_data"
    },
    {
     "data": {
      "text/html": [
       "#2, 6485 <b>IF </b>  <span style=\"background-color: rgb(219,233,246); color:black;\">age >= 31</span>  <span style=\"background-color: rgb(252,192,168); color:black;\">credit_history is not all credits at this bank paid back duly</span>  <span style=\"background-color: rgb(252,193,169); color:black;\">installment_rate is not < 20 and 20 to 25</span>  <span style=\"background-color: rgb(254,224,210); color:black;\">purpose is not others</span>  <span style=\"background-color: rgb(254,228,216); color:black;\">savings is unknown/no savings account or < 100 DM</span>  <span style=\"background-color: rgb(225,236,247); color:black;\">amount <= 3201</span>  <span style=\"background-color: rgb(254,225,212); color:black;\">present_residence is >= 7 yrs</span>  <span style=\"background-color: rgb(252,205,185); color:black;\">personal_status_sex is not married male</span> <b>THEN </b> accept"
      ],
      "text/plain": [
       "<IPython.core.display.HTML object>"
      ]
     },
     "metadata": {},
     "output_type": "display_data"
    },
    {
     "data": {
      "text/html": [
       "#3, 8638 <b>IF </b>  <span style=\"background-color: rgb(221,234,246); color:black;\">purpose is furniture/equipment</span>  <span style=\"background-color: rgb(253,209,191); color:black;\">housing is not for free</span>  <span style=\"background-color: rgb(253,214,197); color:black;\">property is car or other</span>  <span style=\"background-color: rgb(252,150,119); color:white;\">duration >= 21</span>  <span style=\"background-color: rgb(253,223,209); color:black;\">credit_history is not no credits taken/all credits paid back duly</span> <b>THEN </b> accept"
      ],
      "text/plain": [
       "<IPython.core.display.HTML object>"
      ]
     },
     "metadata": {},
     "output_type": "display_data"
    },
    {
     "data": {
      "text/html": [
       "#4, 7572 <b>IF </b>  <span style=\"background-color: rgb(218,232,245); color:black;\">employment_duration is 4 to 7 yrs or >= 7 yrs</span>  <span style=\"background-color: rgb(225,237,248); color:black;\">purpose is repairs</span>  <span style=\"background-color: rgb(253,223,209); color:black;\">job is not unskilled - resident</span> <b>THEN </b> accept"
      ],
      "text/plain": [
       "<IPython.core.display.HTML object>"
      ]
     },
     "metadata": {},
     "output_type": "display_data"
    },
    {
     "data": {
      "text/html": [
       "#5, 5597 <b>IF </b>  <span style=\"background-color: rgb(254,225,212); color:black;\">housing is not rent</span>  <span style=\"background-color: rgb(221,234,246); color:black;\">property is not unknown / no property</span>  <span style=\"background-color: rgb(252,172,144); color:white;\">duration >= 15</span>  <span style=\"background-color: rgb(253,208,189); color:black;\">purpose is not others and car (new) and furniture/equipment</span>  <span style=\"background-color: rgb(254,228,216); color:black;\">people_liable is 0 to 2</span>  <span style=\"background-color: rgb(254,224,210); color:black;\">job is skilled employee / official</span>  <span style=\"background-color: rgb(253,212,194); color:black;\">employment_duration is not 4 to 7 yrs and >= 7 yrs</span>  <span style=\"background-color: rgb(158,202,225); color:white;\">status is ... >= 200 DM (salary)</span> <b>THEN </b> accept"
      ],
      "text/plain": [
       "<IPython.core.display.HTML object>"
      ]
     },
     "metadata": {},
     "output_type": "display_data"
    },
    {
     "data": {
      "text/html": [
       "#6, 9627 <b>IF </b>  <span style=\"background-color: rgb(252,192,168); color:black;\">credit_history is no credits taken/all credits paid back duly</span>  <span style=\"background-color: rgb(254,228,216); color:black;\">savings is unknown/no savings account or < 100 DM</span>  <span style=\"background-color: rgb(253,219,203); color:black;\">purpose is not furniture/equipment</span>  <span style=\"background-color: rgb(254,228,216); color:black;\">people_liable is 0 to 2</span>  <span style=\"background-color: rgb(218,232,245); color:black;\">employment_duration is 4 to 7 yrs or >= 7 yrs</span>  <span style=\"background-color: rgb(252,149,117); color:white;\">duration >= 22</span>  <span style=\"background-color: rgb(215,230,244); color:black;\">age >= 37</span> <b>THEN </b> accept"
      ],
      "text/plain": [
       "<IPython.core.display.HTML object>"
      ]
     },
     "metadata": {},
     "output_type": "display_data"
    },
    {
     "data": {
      "text/html": [
       "#7, 349 <b>IF </b>  <span style=\"background-color: rgb(253,222,208); color:black;\">number_credits is not 2 to 3</span>  <span style=\"background-color: rgb(254,224,210); color:black;\">credit_history is not no credits taken/all credits paid back duly</span>  <span style=\"background-color: rgb(158,202,225); color:white;\">status is ... >= 200 DM (salary)</span>  <span style=\"background-color: rgb(254,228,216); color:black;\">people_liable is 0 to 2</span>  <span style=\"background-color: rgb(254,228,216); color:black;\">savings is 500 to 1000 DM or >= 1000 DM</span> <b>THEN </b> accept"
      ],
      "text/plain": [
       "<IPython.core.display.HTML object>"
      ]
     },
     "metadata": {},
     "output_type": "display_data"
    },
    {
     "data": {
      "text/html": [
       "#8, 3231 <b>IF </b>  <span style=\"background-color: rgb(187,214,235); color:white;\">credit_history is all credits at this bank paid back duly</span>  <span style=\"background-color: rgb(253,212,194); color:black;\">other_debtors is none</span>  <span style=\"background-color: rgb(253,212,194); color:black;\">employment_duration is not 4 to 7 yrs and >= 7 yrs</span>  <span style=\"background-color: rgb(225,237,248); color:black;\">amount <= 4726</span>  <span style=\"background-color: rgb(254,228,216); color:black;\">people_liable is 0 to 2</span>  <span style=\"background-color: rgb(253,213,195); color:black;\">telephone is No</span>  <span style=\"background-color: rgb(216,231,245); color:black;\">installment_rate is not >= 35</span>  <span style=\"background-color: rgb(158,202,225); color:white;\">status is ... >= 200 DM (salary)</span> <b>THEN </b> accept"
      ],
      "text/plain": [
       "<IPython.core.display.HTML object>"
      ]
     },
     "metadata": {},
     "output_type": "display_data"
    },
    {
     "data": {
      "text/html": [
       "#9, 5285 <b>IF </b>  <span style=\"background-color: rgb(254,225,211); color:black;\">telephone is Yes</span>  <span style=\"background-color: rgb(254,228,216); color:black;\">savings is unknown/no savings account or < 100 DM</span>  <span style=\"background-color: rgb(227,238,248); color:black;\">purpose is not car (used) and retraining</span>  <span style=\"background-color: rgb(254,225,211); color:black;\">property is not real estate and unknown / no property</span>  <span style=\"background-color: rgb(252,176,148); color:white;\">installment_rate is >= 35</span>  <span style=\"background-color: rgb(252,195,172); color:black;\">status is not ... >= 200 DM (salary)</span> <b>THEN </b> accept"
      ],
      "text/plain": [
       "<IPython.core.display.HTML object>"
      ]
     },
     "metadata": {},
     "output_type": "display_data"
    },
    {
     "data": {
      "text/html": [
       "#10, 1176 <b>IF </b>  <span style=\"background-color: rgb(252,192,168); color:black;\">credit_history is not all credits at this bank paid back duly</span>  <span style=\"background-color: rgb(254,228,216); color:black;\">savings is unknown/no savings account or < 100 DM</span>  <span style=\"background-color: rgb(252,201,180); color:black;\">other_debtors is not guarantor</span>  <span style=\"background-color: rgb(252,178,151); color:white;\">property is not real estate and building soc. savings agr./life insurance</span>  <span style=\"background-color: rgb(254,226,213); color:black;\">number_credits is 1</span>  <span style=\"background-color: rgb(219,233,246); color:black;\">housing is own</span>  <span style=\"background-color: rgb(253,219,203); color:black;\">purpose is not furniture/equipment</span>  <span style=\"background-color: rgb(254,225,212); color:black;\">present_residence is >= 7 yrs</span> <b>THEN </b> accept"
      ],
      "text/plain": [
       "<IPython.core.display.HTML object>"
      ]
     },
     "metadata": {},
     "output_type": "display_data"
    },
    {
     "data": {
      "text/html": [
       "#11, 5421 <b>IF </b>  <span style=\"background-color: rgb(253,220,205); color:black;\">personal_status_sex is married male</span>  <span style=\"background-color: rgb(222,235,247); color:black;\">savings is 100 to 500 DM or 500 to 1000 DM</span>  <span style=\"background-color: rgb(253,214,197); color:black;\">property is car or other</span> <b>THEN </b> accept"
      ],
      "text/plain": [
       "<IPython.core.display.HTML object>"
      ]
     },
     "metadata": {},
     "output_type": "display_data"
    },
    {
     "data": {
      "text/html": [
       "#12, 5790 <b>IF </b>  <span style=\"background-color: rgb(226,237,248); color:black;\">other_installment_plans is not bank</span>  <span style=\"background-color: rgb(254,225,212); color:black;\">housing is not rent</span>  <span style=\"background-color: rgb(221,234,246); color:black;\">credit_history is all credits at this bank paid back duly</span>  <span style=\"background-color: rgb(254,228,216); color:black;\">savings is 500 to 1000 DM or >= 1000 DM</span>  <span style=\"background-color: rgb(216,231,245); color:black;\">installment_rate is not >= 35</span>  <span style=\"background-color: rgb(253,223,209); color:black;\">job is not unskilled - resident</span> <b>THEN </b> accept"
      ],
      "text/plain": [
       "<IPython.core.display.HTML object>"
      ]
     },
     "metadata": {},
     "output_type": "display_data"
    },
    {
     "data": {
      "text/html": [
       "#13, 8320 <b>IF </b>  <span style=\"background-color: rgb(254,224,210); color:black;\">job is skilled employee / official</span>  <span style=\"background-color: rgb(219,233,246); color:black;\">housing is own</span>  <span style=\"background-color: rgb(203,222,240); color:black;\">savings is not unknown/no savings account and < 100 DM</span>  <span style=\"background-color: rgb(253,218,202); color:black;\">property is not building soc. savings agr./life insurance</span>  <span style=\"background-color: rgb(212,228,243); color:black;\">purpose is furniture/equipment</span>  <span style=\"background-color: rgb(253,222,208); color:black;\">number_credits is not 2 to 3</span> <b>THEN </b> accept"
      ],
      "text/plain": [
       "<IPython.core.display.HTML object>"
      ]
     },
     "metadata": {},
     "output_type": "display_data"
    },
    {
     "data": {
      "text/html": [
       "#14, 491 <b>IF </b>  <span style=\"background-color: rgb(205,223,241); color:black;\">duration <= 15</span>  <span style=\"background-color: rgb(252,192,168); color:black;\">credit_history is no credits taken/all credits paid back duly</span>  <span style=\"background-color: rgb(222,235,247); color:black;\">amount <= 1538</span>  <span style=\"background-color: rgb(254,225,212); color:black;\">housing is not rent</span>  <span style=\"background-color: rgb(254,224,210); color:black;\">job is skilled employee / official</span>  <span style=\"background-color: rgb(253,213,195); color:black;\">telephone is No</span>  <span style=\"background-color: rgb(252,199,177); color:black;\">property is not real estate</span> <b>THEN </b> accept"
      ],
      "text/plain": [
       "<IPython.core.display.HTML object>"
      ]
     },
     "metadata": {},
     "output_type": "display_data"
    },
    {
     "data": {
      "text/html": [
       "#15, 5557 <b>IF </b>  <span style=\"background-color: rgb(252,198,175); color:black;\">savings is < 100 DM or 100 to 500 DM</span>  <span style=\"background-color: rgb(158,202,225); color:white;\">status is ... >= 200 DM (salary)</span>  <span style=\"background-color: rgb(252,164,135); color:white;\">credit_history is not existing credits paid back duly till now and all credits at this bank paid back duly</span>  <span style=\"background-color: rgb(223,235,247); color:black;\">employment_duration is not unemployed and < 1 yr</span>  <span style=\"background-color: rgb(226,237,248); color:black;\">job is not skilled employee / official</span> <b>THEN </b> accept"
      ],
      "text/plain": [
       "<IPython.core.display.HTML object>"
      ]
     },
     "metadata": {},
     "output_type": "display_data"
    },
    {
     "data": {
      "text/html": [
       "#16, 198 <b>IF </b>  <span style=\"background-color: rgb(203,222,240); color:black;\">savings is not unknown/no savings account and < 100 DM</span>  <span style=\"background-color: rgb(187,214,235); color:white;\">credit_history is all credits at this bank paid back duly</span>  <span style=\"background-color: rgb(158,202,225); color:white;\">status is ... >= 200 DM (salary)</span>  <span style=\"background-color: rgb(254,226,213); color:black;\">number_credits is 1</span> <b>THEN </b> accept"
      ],
      "text/plain": [
       "<IPython.core.display.HTML object>"
      ]
     },
     "metadata": {},
     "output_type": "display_data"
    },
    {
     "data": {
      "text/html": [
       "#17, 2123 <b>IF </b>  <span style=\"background-color: rgb(158,202,225); color:white;\">status is ... >= 200 DM (salary)</span>  <span style=\"background-color: rgb(254,224,210); color:black;\">credit_history is not existing credits paid back duly till now</span>  <span style=\"background-color: rgb(225,236,247); color:black;\">telephone is Yes</span>  <span style=\"background-color: rgb(254,224,210); color:black;\">job is skilled employee / official</span>  <span style=\"background-color: rgb(254,228,216); color:black;\">savings is >= 1000 DM</span>  <span style=\"background-color: rgb(254,226,213); color:black;\">number_credits is 1</span> <b>THEN </b> accept"
      ],
      "text/plain": [
       "<IPython.core.display.HTML object>"
      ]
     },
     "metadata": {},
     "output_type": "display_data"
    },
    {
     "data": {
      "text/html": [
       "#18, 4675 <b>IF </b>  <span style=\"background-color: rgb(226,237,248); color:black;\">other_installment_plans is not bank</span>  <span style=\"background-color: rgb(253,213,195); color:black;\">telephone is No</span>  <span style=\"background-color: rgb(252,201,180); color:black;\">other_debtors is not guarantor</span>  <span style=\"background-color: rgb(226,237,248); color:black;\">job is not skilled employee / official</span>  <span style=\"background-color: rgb(254,225,211); color:black;\">property is not car or other</span>  <span style=\"background-color: rgb(219,233,246); color:black;\">housing is own</span>  <span style=\"background-color: rgb(253,219,203); color:black;\">purpose is not furniture/equipment</span>  <span style=\"background-color: rgb(253,222,208); color:black;\">number_credits is not 1</span> <b>THEN </b> accept"
      ],
      "text/plain": [
       "<IPython.core.display.HTML object>"
      ]
     },
     "metadata": {},
     "output_type": "display_data"
    },
    {
     "data": {
      "text/html": [
       "#19, 7801 <b>IF </b>  <span style=\"background-color: rgb(226,237,248); color:black;\">other_installment_plans is not bank</span>  <span style=\"background-color: rgb(219,233,246); color:black;\">housing is own</span>  <span style=\"background-color: rgb(225,237,248); color:black;\">purpose is not repairs</span>  <span style=\"background-color: rgb(218,232,245); color:black;\">duration <= 24</span>  <span style=\"background-color: rgb(254,224,210); color:black;\">job is skilled employee / official</span>  <span style=\"background-color: rgb(254,226,213); color:black;\">number_credits is 1</span>  <span style=\"background-color: rgb(209,226,242); color:black;\">property is real estate</span>  <span style=\"background-color: rgb(225,236,247); color:black;\">telephone is Yes</span> <b>THEN </b> accept"
      ],
      "text/plain": [
       "<IPython.core.display.HTML object>"
      ]
     },
     "metadata": {},
     "output_type": "display_data"
    },
    {
     "data": {
      "text/html": [
       "#20, 9605 <b>IF </b>  <span style=\"background-color: rgb(219,233,246); color:black;\">other_installment_plans is none</span>  <span style=\"background-color: rgb(187,214,235); color:white;\">credit_history is all credits at this bank paid back duly</span>  <span style=\"background-color: rgb(225,236,247); color:black;\">job is not management/ self-employed/ highly qualified employee/ officer</span>  <span style=\"background-color: rgb(225,237,248); color:black;\">amount <= 4210</span>  <span style=\"background-color: rgb(252,182,156); color:white;\">duration >= 13</span>  <span style=\"background-color: rgb(253,222,208); color:black;\">number_credits is not 1</span>  <span style=\"background-color: rgb(226,237,248); color:black;\">present_residence is not >= 7 yrs</span>  <span style=\"background-color: rgb(252,205,185); color:black;\">personal_status_sex is not married male</span> <b>THEN </b> accept"
      ],
      "text/plain": [
       "<IPython.core.display.HTML object>"
      ]
     },
     "metadata": {},
     "output_type": "display_data"
    },
    {
     "data": {
      "text/html": [
       "#21, 9577 <b>IF </b>  <span style=\"background-color: rgb(219,233,246); color:black;\">other_installment_plans is none</span>  <span style=\"background-color: rgb(252,192,168); color:black;\">credit_history is not all credits at this bank paid back duly</span>  <span style=\"background-color: rgb(253,214,197); color:black;\">purpose is not car (used) and furniture/equipment</span>  <span style=\"background-color: rgb(254,225,212); color:black;\">housing is not rent</span>  <span style=\"background-color: rgb(254,228,216); color:black;\">savings is unknown/no savings account</span>  <span style=\"background-color: rgb(254,228,216); color:black;\">people_liable is 0 to 2</span>  <span style=\"background-color: rgb(253,218,202); color:black;\">property is not building soc. savings agr./life insurance</span>  <span style=\"background-color: rgb(252,205,185); color:black;\">personal_status_sex is not married male</span> <b>THEN </b> accept"
      ],
      "text/plain": [
       "<IPython.core.display.HTML object>"
      ]
     },
     "metadata": {},
     "output_type": "display_data"
    },
    {
     "data": {
      "text/html": [
       "#22, 5298 <b>IF </b>  <span style=\"background-color: rgb(225,236,247); color:black;\">telephone is Yes</span>  <span style=\"background-color: rgb(254,228,216); color:black;\">savings is not unknown/no savings account and < 100 DM</span>  <span style=\"background-color: rgb(219,233,246); color:black;\">housing is own</span>  <span style=\"background-color: rgb(254,228,216); color:black;\">people_liable is 0 to 2</span>  <span style=\"background-color: rgb(212,228,243); color:black;\">purpose is furniture/equipment</span> <b>THEN </b> accept"
      ],
      "text/plain": [
       "<IPython.core.display.HTML object>"
      ]
     },
     "metadata": {},
     "output_type": "display_data"
    },
    {
     "data": {
      "text/html": [
       "#23, 8759 <b>IF </b>  <span style=\"background-color: rgb(253,213,195); color:black;\">telephone is No</span>  <span style=\"background-color: rgb(158,202,225); color:white;\">status is ... >= 200 DM (salary)</span>  <span style=\"background-color: rgb(254,224,210); color:black;\">job is skilled employee / official</span>  <span style=\"background-color: rgb(219,233,246); color:black;\">housing is own</span>  <span style=\"background-color: rgb(219,233,246); color:black;\">age >= 31</span>  <span style=\"background-color: rgb(253,219,203); color:black;\">purpose is not furniture/equipment</span>  <span style=\"background-color: rgb(254,227,215); color:black;\">credit_history is no credits taken/all credits paid back duly</span> <b>THEN </b> accept"
      ],
      "text/plain": [
       "<IPython.core.display.HTML object>"
      ]
     },
     "metadata": {},
     "output_type": "display_data"
    },
    {
     "data": {
      "text/html": [
       "#24, 2448 <b>IF </b>  <span style=\"background-color: rgb(252,191,166); color:white;\">savings is unknown/no savings account or < 100 DM</span>  <span style=\"background-color: rgb(254,225,212); color:black;\">housing is not rent</span>  <span style=\"background-color: rgb(221,234,246); color:black;\">property is car or other</span>  <span style=\"background-color: rgb(212,228,243); color:black;\">purpose is furniture/equipment</span>  <span style=\"background-color: rgb(216,231,245); color:black;\">installment_rate is not >= 35</span>  <span style=\"background-color: rgb(254,227,215); color:black;\">present_residence is not < 1 yr</span> <b>THEN </b> accept"
      ],
      "text/plain": [
       "<IPython.core.display.HTML object>"
      ]
     },
     "metadata": {},
     "output_type": "display_data"
    },
    {
     "data": {
      "text/html": [
       "#25, 4189 <b>IF </b>  <span style=\"background-color: rgb(253,223,209); color:black;\">property is not unknown / no property</span>  <span style=\"background-color: rgb(254,228,216); color:black;\">savings is not unknown/no savings account and < 100 DM</span>  <span style=\"background-color: rgb(253,220,205); color:black;\">personal_status_sex is married male</span>  <span style=\"background-color: rgb(219,233,246); color:black;\">other_installment_plans is none</span>  <span style=\"background-color: rgb(225,236,247); color:black;\">telephone is Yes</span>  <span style=\"background-color: rgb(254,227,215); color:black;\">credit_history is no credits taken/all credits paid back duly</span> <b>THEN </b> accept"
      ],
      "text/plain": [
       "<IPython.core.display.HTML object>"
      ]
     },
     "metadata": {},
     "output_type": "display_data"
    },
    {
     "data": {
      "text/html": [
       "#26, 7096 <b>IF </b>  <span style=\"background-color: rgb(222,235,247); color:black;\">savings is 100 to 500 DM or 500 to 1000 DM</span>  <span style=\"background-color: rgb(226,237,248); color:black;\">present_residence is not >= 7 yrs</span>  <span style=\"background-color: rgb(252,178,151); color:white;\">property is not real estate and building soc. savings agr./life insurance</span>  <span style=\"background-color: rgb(252,193,169); color:black;\">installment_rate is not < 20 and 20 to 25</span>  <span style=\"background-color: rgb(221,234,246); color:black;\">age >= 28</span> <b>THEN </b> accept"
      ],
      "text/plain": [
       "<IPython.core.display.HTML object>"
      ]
     },
     "metadata": {},
     "output_type": "display_data"
    },
    {
     "data": {
      "text/html": [
       "#27, 7365 <b>IF </b>  <span style=\"background-color: rgb(252,191,166); color:white;\">savings is unknown/no savings account or < 100 DM</span>  <span style=\"background-color: rgb(252,192,168); color:black;\">credit_history is no credits taken/all credits paid back duly</span>  <span style=\"background-color: rgb(253,219,203); color:black;\">duration >= 8</span>  <span style=\"background-color: rgb(253,220,205); color:black;\">personal_status_sex is married male</span>  <span style=\"background-color: rgb(226,237,248); color:black;\">present_residence is not 4 to 7 yrs and >= 7 yrs</span>  <span style=\"background-color: rgb(225,236,247); color:black;\">telephone is Yes</span>  <span style=\"background-color: rgb(225,237,248); color:black;\">amount <= 4765</span> <b>THEN </b> accept"
      ],
      "text/plain": [
       "<IPython.core.display.HTML object>"
      ]
     },
     "metadata": {},
     "output_type": "display_data"
    },
    {
     "data": {
      "text/html": [
       "#28, 6956 <b>IF </b>  <span style=\"background-color: rgb(253,220,205); color:black;\">personal_status_sex is married male</span>  <span style=\"background-color: rgb(187,214,235); color:white;\">credit_history is all credits at this bank paid back duly</span>  <span style=\"background-color: rgb(176,209,231); color:white;\">purpose is car (new)</span>  <span style=\"background-color: rgb(221,234,246); color:black;\">duration <= 34</span> <b>THEN </b> accept"
      ],
      "text/plain": [
       "<IPython.core.display.HTML object>"
      ]
     },
     "metadata": {},
     "output_type": "display_data"
    },
    {
     "data": {
      "text/html": [
       "#29, 1967 <b>IF </b>  <span style=\"background-color: rgb(226,237,248); color:black;\">other_installment_plans is not bank</span>  <span style=\"background-color: rgb(254,225,212); color:black;\">housing is not rent</span>  <span style=\"background-color: rgb(254,226,213); color:black;\">number_credits is 2 to 3</span>  <span style=\"background-color: rgb(220,233,246); color:black;\">age >= 30</span>  <span style=\"background-color: rgb(187,214,235); color:white;\">credit_history is all credits at this bank paid back duly</span>  <span style=\"background-color: rgb(253,220,205); color:black;\">personal_status_sex is married male</span>  <span style=\"background-color: rgb(158,202,225); color:white;\">status is ... >= 200 DM (salary)</span>  <span style=\"background-color: rgb(253,214,197); color:black;\">property is car or other</span> <b>THEN </b> accept"
      ],
      "text/plain": [
       "<IPython.core.display.HTML object>"
      ]
     },
     "metadata": {},
     "output_type": "display_data"
    },
    {
     "data": {
      "text/html": [
       "#30, 9655 <b>IF </b>  <span style=\"background-color: rgb(187,214,235); color:white;\">credit_history is all credits at this bank paid back duly</span>  <span style=\"background-color: rgb(252,201,180); color:black;\">other_debtors is not guarantor</span>  <span style=\"background-color: rgb(253,207,188); color:black;\">duration >= 11</span>  <span style=\"background-color: rgb(225,237,248); color:black;\">purpose is not others</span>  <span style=\"background-color: rgb(158,202,225); color:white;\">status is ... >= 200 DM (salary)</span>  <span style=\"background-color: rgb(252,193,169); color:black;\">installment_rate is not < 20 and 20 to 25</span>  <span style=\"background-color: rgb(226,237,248); color:black;\">present_residence is not >= 7 yrs</span>  <span style=\"background-color: rgb(226,237,248); color:black;\">job is not skilled employee / official</span> <b>THEN </b> accept"
      ],
      "text/plain": [
       "<IPython.core.display.HTML object>"
      ]
     },
     "metadata": {},
     "output_type": "display_data"
    },
    {
     "data": {
      "text/html": [
       "#31, 6307 <b>IF </b>  <span style=\"background-color: rgb(187,214,235); color:white;\">credit_history is all credits at this bank paid back duly</span>  <span style=\"background-color: rgb(254,225,212); color:black;\">housing is not rent</span>  <span style=\"background-color: rgb(254,228,216); color:black;\">savings is >= 1000 DM</span>  <span style=\"background-color: rgb(216,231,245); color:black;\">installment_rate is not >= 35</span> <b>THEN </b> accept"
      ],
      "text/plain": [
       "<IPython.core.display.HTML object>"
      ]
     },
     "metadata": {},
     "output_type": "display_data"
    },
    {
     "data": {
      "text/html": [
       "#32, 773 <b>IF </b>  <span style=\"background-color: rgb(188,215,235); color:white;\">savings is 500 to 1000 DM or >= 1000 DM</span>  <span style=\"background-color: rgb(253,212,194); color:black;\">employment_duration is not 4 to 7 yrs and >= 7 yrs</span>  <span style=\"background-color: rgb(254,228,216); color:black;\">people_liable is 0 to 2</span>  <span style=\"background-color: rgb(219,233,246); color:black;\">housing is own</span>  <span style=\"background-color: rgb(187,214,235); color:white;\">credit_history is all credits at this bank paid back duly</span> <b>THEN </b> accept"
      ],
      "text/plain": [
       "<IPython.core.display.HTML object>"
      ]
     },
     "metadata": {},
     "output_type": "display_data"
    },
    {
     "data": {
      "text/html": [
       "#33, 5562 <b>IF </b>  <span style=\"background-color: rgb(188,215,235); color:white;\">savings is 500 to 1000 DM or >= 1000 DM</span>  <span style=\"background-color: rgb(254,225,212); color:black;\">housing is not rent</span>  <span style=\"background-color: rgb(225,237,248); color:black;\">purpose is not others</span>  <span style=\"background-color: rgb(252,205,185); color:black;\">personal_status_sex is not married male</span>  <span style=\"background-color: rgb(215,230,244); color:black;\">age >= 37</span> <b>THEN </b> accept"
      ],
      "text/plain": [
       "<IPython.core.display.HTML object>"
      ]
     },
     "metadata": {},
     "output_type": "display_data"
    },
    {
     "data": {
      "text/html": [
       "#34, 6769 <b>IF </b>  <span style=\"background-color: rgb(252,195,172); color:black;\">status is not ... >= 200 DM (salary)</span>  <span style=\"background-color: rgb(253,219,203); color:black;\">purpose is not furniture/equipment</span>  <span style=\"background-color: rgb(254,224,210); color:black;\">job is skilled employee / official</span>  <span style=\"background-color: rgb(254,228,216); color:black;\">savings is unknown/no savings account</span>  <span style=\"background-color: rgb(252,164,135); color:white;\">credit_history is no credits taken/all credits paid back duly</span>  <span style=\"background-color: rgb(253,213,195); color:black;\">telephone is No</span>  <span style=\"background-color: rgb(254,225,211); color:black;\">property is not car or other</span>  <span style=\"background-color: rgb(226,237,248); color:black;\">other_installment_plans is not bank</span> <b>THEN </b> accept"
      ],
      "text/plain": [
       "<IPython.core.display.HTML object>"
      ]
     },
     "metadata": {},
     "output_type": "display_data"
    },
    {
     "data": {
      "text/html": [
       "#35, 8411 <b>IF </b>  <span style=\"background-color: rgb(252,172,144); color:white;\">duration >= 15</span>  <span style=\"background-color: rgb(253,220,205); color:black;\">personal_status_sex is married male</span>  <span style=\"background-color: rgb(217,231,245); color:black;\">property is not car or other and unknown / no property</span>  <span style=\"background-color: rgb(252,199,177); color:black;\">age <= 31</span>  <span style=\"background-color: rgb(254,228,216); color:black;\">savings is unknown/no savings account or < 100 DM</span>  <span style=\"background-color: rgb(226,237,248); color:black;\">present_residence is not 4 to 7 yrs and >= 7 yrs</span> <b>THEN </b> accept"
      ],
      "text/plain": [
       "<IPython.core.display.HTML object>"
      ]
     },
     "metadata": {},
     "output_type": "display_data"
    },
    {
     "data": {
      "text/html": [
       "#36, 6198 <b>IF </b>  <span style=\"background-color: rgb(187,214,235); color:white;\">credit_history is all credits at this bank paid back duly</span>  <span style=\"background-color: rgb(226,237,248); color:black;\">other_installment_plans is not bank</span>  <span style=\"background-color: rgb(215,230,244); color:black;\">employment_duration is >= 7 yrs</span>  <span style=\"background-color: rgb(254,225,211); color:black;\">property is not car or other</span>  <span style=\"background-color: rgb(254,228,216); color:black;\">savings is unknown/no savings account</span>  <span style=\"background-color: rgb(253,222,208); color:black;\">number_credits is not 2 to 3</span> <b>THEN </b> accept"
      ],
      "text/plain": [
       "<IPython.core.display.HTML object>"
      ]
     },
     "metadata": {},
     "output_type": "display_data"
    },
    {
     "data": {
      "text/html": [
       "#37, 5475 <b>IF </b>  <span style=\"background-color: rgb(252,191,166); color:white;\">savings is unknown/no savings account or < 100 DM</span>  <span style=\"background-color: rgb(225,236,247); color:black;\">telephone is Yes</span>  <span style=\"background-color: rgb(252,175,147); color:white;\">status is not 0 to 200 DM and ... >= 200 DM (salary)</span>  <span style=\"background-color: rgb(253,222,208); color:black;\">purpose is not car (used)</span>  <span style=\"background-color: rgb(252,192,168); color:black;\">credit_history is no credits taken/all credits paid back duly</span>  <span style=\"background-color: rgb(254,226,213); color:black;\">number_credits is 1</span>  <span style=\"background-color: rgb(253,209,191); color:black;\">housing is not for free</span> <b>THEN </b> accept"
      ],
      "text/plain": [
       "<IPython.core.display.HTML object>"
      ]
     },
     "metadata": {},
     "output_type": "display_data"
    },
    {
     "data": {
      "text/html": [
       "#38, 4708 <b>IF </b>  <span style=\"background-color: rgb(253,208,189); color:black;\">other_installment_plans is not bank</span>  <span style=\"background-color: rgb(225,236,247); color:black;\">telephone is Yes</span>  <span style=\"background-color: rgb(254,228,216); color:black;\">savings is not unknown/no savings account</span>  <span style=\"background-color: rgb(226,237,248); color:black;\">job is not skilled employee / official</span>  <span style=\"background-color: rgb(216,231,245); color:black;\">installment_rate is not >= 35</span> <b>THEN </b> accept"
      ],
      "text/plain": [
       "<IPython.core.display.HTML object>"
      ]
     },
     "metadata": {},
     "output_type": "display_data"
    },
    {
     "data": {
      "text/html": [
       "#39, 2609 <b>IF </b>  <span style=\"background-color: rgb(225,236,247); color:black;\">telephone is Yes</span>  <span style=\"background-color: rgb(225,237,248); color:black;\">amount <= 3939</span>  <span style=\"background-color: rgb(223,235,247); color:black;\">job is not skilled employee / official and management/ self-employed/ highly qualified employee/ officer</span>  <span style=\"background-color: rgb(253,222,208); color:black;\">purpose is not car (used)</span> <b>THEN </b> accept"
      ],
      "text/plain": [
       "<IPython.core.display.HTML object>"
      ]
     },
     "metadata": {},
     "output_type": "display_data"
    },
    {
     "data": {
      "text/html": [
       "#40, 3115 <b>IF </b>  <span style=\"background-color: rgb(252,195,172); color:black;\">status is not ... >= 200 DM (salary)</span>  <span style=\"background-color: rgb(254,227,215); color:black;\">amount >= 599</span>  <span style=\"background-color: rgb(253,207,188); color:black;\">duration >= 11</span>  <span style=\"background-color: rgb(252,192,168); color:black;\">credit_history is not all credits at this bank paid back duly</span>  <span style=\"background-color: rgb(225,236,247); color:black;\">telephone is Yes</span>  <span style=\"background-color: rgb(253,207,188); color:black;\">other_installment_plans is not stores</span>  <span style=\"background-color: rgb(254,225,212); color:black;\">housing is not rent</span>  <span style=\"background-color: rgb(253,212,194); color:black;\">employment_duration is not 4 to 7 yrs and >= 7 yrs</span>  <span style=\"background-color: rgb(226,237,248); color:black;\">present_residence is not 4 to 7 yrs and >= 7 yrs</span> <b>THEN </b> accept"
      ],
      "text/plain": [
       "<IPython.core.display.HTML object>"
      ]
     },
     "metadata": {},
     "output_type": "display_data"
    },
    {
     "data": {
      "text/html": [
       "#41, 5771 <b>IF </b>  <span style=\"background-color: rgb(226,237,248); color:black;\">other_installment_plans is not bank</span>  <span style=\"background-color: rgb(254,225,212); color:black;\">housing is not rent</span>  <span style=\"background-color: rgb(252,192,168); color:black;\">credit_history is not delay in paying off in the past and all credits at this bank paid back duly</span>  <span style=\"background-color: rgb(254,228,216); color:black;\">savings is not 500 to 1000 DM and >= 1000 DM</span>  <span style=\"background-color: rgb(252,199,177); color:black;\">property is building soc. savings agr./life insurance</span>  <span style=\"background-color: rgb(253,220,205); color:black;\">duration >= 6</span>  <span style=\"background-color: rgb(253,214,197); color:black;\">purpose is not car (used) and furniture/equipment</span> <b>THEN </b> accept"
      ],
      "text/plain": [
       "<IPython.core.display.HTML object>"
      ]
     },
     "metadata": {},
     "output_type": "display_data"
    },
    {
     "data": {
      "text/html": [
       "#42, 7574 <b>IF </b>  <span style=\"background-color: rgb(223,235,247); color:black;\">employment_duration is not unemployed and < 1 yr</span>  <span style=\"background-color: rgb(251,127,95); color:white;\">purpose is others</span>  <span style=\"background-color: rgb(252,195,172); color:black;\">status is not ... >= 200 DM (salary)</span>  <span style=\"background-color: rgb(212,228,243); color:black;\">installment_rate is not 25 to 35 and >= 35</span>  <span style=\"background-color: rgb(224,236,247); color:black;\">amount <= 2777</span> <b>THEN </b> accept"
      ],
      "text/plain": [
       "<IPython.core.display.HTML object>"
      ]
     },
     "metadata": {},
     "output_type": "display_data"
    },
    {
     "data": {
      "text/html": [
       "#43, 4816 <b>IF </b>  <span style=\"background-color: rgb(221,234,246); color:black;\">property is not unknown / no property</span>  <span style=\"background-color: rgb(225,236,247); color:black;\">job is not management/ self-employed/ highly qualified employee/ officer</span>  <span style=\"background-color: rgb(252,192,168); color:black;\">credit_history is not all credits at this bank paid back duly</span>  <span style=\"background-color: rgb(254,228,216); color:black;\">savings is unknown/no savings account or < 100 DM</span>  <span style=\"background-color: rgb(252,195,172); color:black;\">status is not ... >= 200 DM (salary)</span>  <span style=\"background-color: rgb(253,212,194); color:black;\">other_debtors is none</span>  <span style=\"background-color: rgb(254,227,215); color:black;\">present_residence is not < 1 yr</span>  <span style=\"background-color: rgb(225,236,247); color:black;\">telephone is Yes</span>  <span style=\"background-color: rgb(254,225,212); color:black;\">housing is not rent</span> <b>THEN </b> accept"
      ],
      "text/plain": [
       "<IPython.core.display.HTML object>"
      ]
     },
     "metadata": {},
     "output_type": "display_data"
    },
    {
     "data": {
      "text/html": [
       "#44, 2636 <b>IF </b>  <span style=\"background-color: rgb(252,195,172); color:black;\">status is not ... >= 200 DM (salary)</span>  <span style=\"background-color: rgb(253,219,203); color:black;\">purpose is not furniture/equipment</span>  <span style=\"background-color: rgb(253,218,202); color:black;\">property is not building soc. savings agr./life insurance</span>  <span style=\"background-color: rgb(253,220,205); color:black;\">personal_status_sex is married male</span>  <span style=\"background-color: rgb(226,237,248); color:black;\">present_residence is not 4 to 7 yrs and >= 7 yrs</span>  <span style=\"background-color: rgb(253,223,209); color:black;\">job is not unskilled - resident</span>  <span style=\"background-color: rgb(252,176,148); color:white;\">installment_rate is >= 35</span> <b>THEN </b> accept"
      ],
      "text/plain": [
       "<IPython.core.display.HTML object>"
      ]
     },
     "metadata": {},
     "output_type": "display_data"
    },
    {
     "data": {
      "text/html": [
       "#45, 3151 <b>IF </b>  <span style=\"background-color: rgb(252,192,168); color:black;\">credit_history is not all credits at this bank paid back duly</span>  <span style=\"background-color: rgb(252,205,185); color:black;\">personal_status_sex is not married male</span>  <span style=\"background-color: rgb(253,223,209); color:black;\">property is not building soc. savings agr./life insurance</span>  <span style=\"background-color: rgb(254,228,216); color:black;\">savings is not 500 to 1000 DM and >= 1000 DM</span>  <span style=\"background-color: rgb(225,236,247); color:black;\">telephone is Yes</span>  <span style=\"background-color: rgb(254,226,213); color:black;\">number_credits is 1</span>  <span style=\"background-color: rgb(212,228,243); color:black;\">installment_rate is not 25 to 35 and >= 35</span> <b>THEN </b> accept"
      ],
      "text/plain": [
       "<IPython.core.display.HTML object>"
      ]
     },
     "metadata": {},
     "output_type": "display_data"
    },
    {
     "data": {
      "text/html": [
       "#46, 369 <b>IF </b>  <span style=\"background-color: rgb(253,223,209); color:black;\">number_credits is not 2 to 3</span>  <span style=\"background-color: rgb(254,227,215); color:black;\">credit_history is no credits taken/all credits paid back duly</span>  <span style=\"background-color: rgb(254,228,216); color:black;\">savings is 100 to 500 DM</span>  <span style=\"background-color: rgb(225,237,248); color:black;\">purpose is not others</span>  <span style=\"background-color: rgb(158,202,225); color:white;\">status is ... >= 200 DM (salary)</span> <b>THEN </b> accept"
      ],
      "text/plain": [
       "<IPython.core.display.HTML object>"
      ]
     },
     "metadata": {},
     "output_type": "display_data"
    },
    {
     "data": {
      "text/html": [
       "#47, 3900 <b>IF </b>  <span style=\"background-color: rgb(252,172,144); color:white;\">duration >= 15</span>  <span style=\"background-color: rgb(254,225,212); color:black;\">housing is not rent</span>  <span style=\"background-color: rgb(225,236,247); color:black;\">telephone is Yes</span>  <span style=\"background-color: rgb(253,218,202); color:black;\">installment_rate is not < 20</span>  <span style=\"background-color: rgb(221,234,246); color:black;\">age >= 28</span>  <span style=\"background-color: rgb(254,225,211); color:black;\">property is not car or other</span>  <span style=\"background-color: rgb(254,228,216); color:black;\">people_liable is 0 to 2</span>  <span style=\"background-color: rgb(253,223,209); color:black;\">credit_history is not no credits taken/all credits paid back duly</span>  <span style=\"background-color: rgb(253,214,197); color:black;\">amount >= 4193</span> <b>THEN </b> accept"
      ],
      "text/plain": [
       "<IPython.core.display.HTML object>"
      ]
     },
     "metadata": {},
     "output_type": "display_data"
    },
    {
     "data": {
      "text/html": [
       "#48, 4368 <b>IF </b>  <span style=\"background-color: rgb(253,213,195); color:black;\">telephone is No</span>  <span style=\"background-color: rgb(253,214,197); color:black;\">property is car or other</span>  <span style=\"background-color: rgb(254,224,210); color:black;\">credit_history is not all credits at this bank paid back duly</span>  <span style=\"background-color: rgb(219,233,246); color:black;\">housing is own</span>  <span style=\"background-color: rgb(254,228,216); color:black;\">savings is not unknown/no savings account</span>  <span style=\"background-color: rgb(212,228,243); color:black;\">purpose is furniture/equipment</span> <b>THEN </b> accept"
      ],
      "text/plain": [
       "<IPython.core.display.HTML object>"
      ]
     },
     "metadata": {},
     "output_type": "display_data"
    },
    {
     "data": {
      "text/html": [
       "#49, 7036 <b>IF </b>  <span style=\"background-color: rgb(254,225,211); color:black;\">telephone is No</span>  <span style=\"background-color: rgb(254,224,210); color:black;\">job is skilled employee / official</span>  <span style=\"background-color: rgb(219,233,246); color:black;\">housing is own</span>  <span style=\"background-color: rgb(253,218,202); color:black;\">installment_rate is not < 20</span>  <span style=\"background-color: rgb(212,228,243); color:black;\">purpose is furniture/equipment</span>  <span style=\"background-color: rgb(254,226,213); color:black;\">number_credits is 1</span>  <span style=\"background-color: rgb(254,228,216); color:black;\">savings is not unknown/no savings account</span> <b>THEN </b> accept"
      ],
      "text/plain": [
       "<IPython.core.display.HTML object>"
      ]
     },
     "metadata": {},
     "output_type": "display_data"
    }
   ],
   "source": [
    "r50 = np.mean(res.sorted_dist[:, 50])\n",
    "ret50 = res.check_consistency(r, [p['output'] for p in paths])\n",
    "idx50 = np.array(ret50).argsort()[:50]\n",
    "for it, i in enumerate(idx50):\n",
    "    display_rule(it, i) "
   ]
  },
  {
   "cell_type": "markdown",
   "metadata": {},
   "source": [
    "<div class=\"alert alert-info\">\n",
    "  <strong>Consistency Top 50 (100 neighbors):</strong>\n",
    "</div>"
   ]
  },
  {
   "cell_type": "code",
   "execution_count": 187,
   "metadata": {},
   "outputs": [
    {
     "data": {
      "text/html": [
       "#0, 6693 <b>IF </b>  <span style=\"background-color: rgb(253,221,206); color:black;\">employment_duration is not >= 7 yrs</span>  <span style=\"background-color: rgb(253,209,191); color:black;\">housing is not for free</span>  <span style=\"background-color: rgb(158,202,225); color:white;\">status is ... >= 200 DM (salary)</span>  <span style=\"background-color: rgb(252,172,144); color:white;\">duration >= 16</span>  <span style=\"background-color: rgb(254,224,210); color:black;\">amount >= 1523</span>  <span style=\"background-color: rgb(219,233,246); color:black;\">other_installment_plans is none</span>  <span style=\"background-color: rgb(253,222,208); color:black;\">purpose is not car (used)</span>  <span style=\"background-color: rgb(252,192,168); color:black;\">credit_history is not all credits at this bank paid back duly</span>  <span style=\"background-color: rgb(254,226,213); color:black;\">number_credits is 1</span>  <span style=\"background-color: rgb(254,228,216); color:black;\">savings is unknown/no savings account</span> <b>THEN </b> accept"
      ],
      "text/plain": [
       "<IPython.core.display.HTML object>"
      ]
     },
     "metadata": {},
     "output_type": "display_data"
    },
    {
     "data": {
      "text/html": [
       "#1, 2156 <b>IF </b>  <span style=\"background-color: rgb(254,228,216); color:black;\">people_liable is 0 to 2</span>  <span style=\"background-color: rgb(253,218,202); color:black;\">property is not building soc. savings agr./life insurance</span>  <span style=\"background-color: rgb(254,224,210); color:black;\">purpose is not furniture/equipment</span>  <span style=\"background-color: rgb(254,228,216); color:black;\">savings is >= 1000 DM</span>  <span style=\"background-color: rgb(254,224,210); color:black;\">job is skilled employee / official</span>  <span style=\"background-color: rgb(158,202,225); color:white;\">status is ... >= 200 DM (salary)</span>  <span style=\"background-color: rgb(254,225,212); color:black;\">housing is not rent</span> <b>THEN </b> accept"
      ],
      "text/plain": [
       "<IPython.core.display.HTML object>"
      ]
     },
     "metadata": {},
     "output_type": "display_data"
    },
    {
     "data": {
      "text/html": [
       "#2, 6485 <b>IF </b>  <span style=\"background-color: rgb(219,233,246); color:black;\">age >= 31</span>  <span style=\"background-color: rgb(252,192,168); color:black;\">credit_history is not all credits at this bank paid back duly</span>  <span style=\"background-color: rgb(252,193,169); color:black;\">installment_rate is not < 20 and 20 to 25</span>  <span style=\"background-color: rgb(254,224,210); color:black;\">purpose is not others</span>  <span style=\"background-color: rgb(254,228,216); color:black;\">savings is unknown/no savings account or < 100 DM</span>  <span style=\"background-color: rgb(225,236,247); color:black;\">amount <= 3201</span>  <span style=\"background-color: rgb(254,225,212); color:black;\">present_residence is >= 7 yrs</span>  <span style=\"background-color: rgb(252,205,185); color:black;\">personal_status_sex is not married male</span> <b>THEN </b> accept"
      ],
      "text/plain": [
       "<IPython.core.display.HTML object>"
      ]
     },
     "metadata": {},
     "output_type": "display_data"
    },
    {
     "data": {
      "text/html": [
       "#3, 8638 <b>IF </b>  <span style=\"background-color: rgb(221,234,246); color:black;\">purpose is furniture/equipment</span>  <span style=\"background-color: rgb(253,209,191); color:black;\">housing is not for free</span>  <span style=\"background-color: rgb(253,214,197); color:black;\">property is car or other</span>  <span style=\"background-color: rgb(252,150,119); color:white;\">duration >= 21</span>  <span style=\"background-color: rgb(253,223,209); color:black;\">credit_history is not no credits taken/all credits paid back duly</span> <b>THEN </b> accept"
      ],
      "text/plain": [
       "<IPython.core.display.HTML object>"
      ]
     },
     "metadata": {},
     "output_type": "display_data"
    },
    {
     "data": {
      "text/html": [
       "#4, 7572 <b>IF </b>  <span style=\"background-color: rgb(218,232,245); color:black;\">employment_duration is 4 to 7 yrs or >= 7 yrs</span>  <span style=\"background-color: rgb(225,237,248); color:black;\">purpose is repairs</span>  <span style=\"background-color: rgb(253,223,209); color:black;\">job is not unskilled - resident</span> <b>THEN </b> accept"
      ],
      "text/plain": [
       "<IPython.core.display.HTML object>"
      ]
     },
     "metadata": {},
     "output_type": "display_data"
    },
    {
     "data": {
      "text/html": [
       "#5, 5597 <b>IF </b>  <span style=\"background-color: rgb(254,225,212); color:black;\">housing is not rent</span>  <span style=\"background-color: rgb(221,234,246); color:black;\">property is not unknown / no property</span>  <span style=\"background-color: rgb(252,172,144); color:white;\">duration >= 15</span>  <span style=\"background-color: rgb(253,208,189); color:black;\">purpose is not others and car (new) and furniture/equipment</span>  <span style=\"background-color: rgb(254,228,216); color:black;\">people_liable is 0 to 2</span>  <span style=\"background-color: rgb(254,224,210); color:black;\">job is skilled employee / official</span>  <span style=\"background-color: rgb(253,212,194); color:black;\">employment_duration is not 4 to 7 yrs and >= 7 yrs</span>  <span style=\"background-color: rgb(158,202,225); color:white;\">status is ... >= 200 DM (salary)</span> <b>THEN </b> accept"
      ],
      "text/plain": [
       "<IPython.core.display.HTML object>"
      ]
     },
     "metadata": {},
     "output_type": "display_data"
    },
    {
     "data": {
      "text/html": [
       "#6, 9627 <b>IF </b>  <span style=\"background-color: rgb(252,192,168); color:black;\">credit_history is no credits taken/all credits paid back duly</span>  <span style=\"background-color: rgb(254,228,216); color:black;\">savings is unknown/no savings account or < 100 DM</span>  <span style=\"background-color: rgb(253,219,203); color:black;\">purpose is not furniture/equipment</span>  <span style=\"background-color: rgb(254,228,216); color:black;\">people_liable is 0 to 2</span>  <span style=\"background-color: rgb(218,232,245); color:black;\">employment_duration is 4 to 7 yrs or >= 7 yrs</span>  <span style=\"background-color: rgb(252,149,117); color:white;\">duration >= 22</span>  <span style=\"background-color: rgb(215,230,244); color:black;\">age >= 37</span> <b>THEN </b> accept"
      ],
      "text/plain": [
       "<IPython.core.display.HTML object>"
      ]
     },
     "metadata": {},
     "output_type": "display_data"
    },
    {
     "data": {
      "text/html": [
       "#7, 349 <b>IF </b>  <span style=\"background-color: rgb(253,222,208); color:black;\">number_credits is not 2 to 3</span>  <span style=\"background-color: rgb(254,224,210); color:black;\">credit_history is not no credits taken/all credits paid back duly</span>  <span style=\"background-color: rgb(158,202,225); color:white;\">status is ... >= 200 DM (salary)</span>  <span style=\"background-color: rgb(254,228,216); color:black;\">people_liable is 0 to 2</span>  <span style=\"background-color: rgb(254,228,216); color:black;\">savings is 500 to 1000 DM or >= 1000 DM</span> <b>THEN </b> accept"
      ],
      "text/plain": [
       "<IPython.core.display.HTML object>"
      ]
     },
     "metadata": {},
     "output_type": "display_data"
    },
    {
     "data": {
      "text/html": [
       "#8, 3231 <b>IF </b>  <span style=\"background-color: rgb(187,214,235); color:white;\">credit_history is all credits at this bank paid back duly</span>  <span style=\"background-color: rgb(253,212,194); color:black;\">other_debtors is none</span>  <span style=\"background-color: rgb(253,212,194); color:black;\">employment_duration is not 4 to 7 yrs and >= 7 yrs</span>  <span style=\"background-color: rgb(225,237,248); color:black;\">amount <= 4726</span>  <span style=\"background-color: rgb(254,228,216); color:black;\">people_liable is 0 to 2</span>  <span style=\"background-color: rgb(253,213,195); color:black;\">telephone is No</span>  <span style=\"background-color: rgb(216,231,245); color:black;\">installment_rate is not >= 35</span>  <span style=\"background-color: rgb(158,202,225); color:white;\">status is ... >= 200 DM (salary)</span> <b>THEN </b> accept"
      ],
      "text/plain": [
       "<IPython.core.display.HTML object>"
      ]
     },
     "metadata": {},
     "output_type": "display_data"
    },
    {
     "data": {
      "text/html": [
       "#9, 5285 <b>IF </b>  <span style=\"background-color: rgb(254,225,211); color:black;\">telephone is Yes</span>  <span style=\"background-color: rgb(254,228,216); color:black;\">savings is unknown/no savings account or < 100 DM</span>  <span style=\"background-color: rgb(227,238,248); color:black;\">purpose is not car (used) and retraining</span>  <span style=\"background-color: rgb(254,225,211); color:black;\">property is not real estate and unknown / no property</span>  <span style=\"background-color: rgb(252,176,148); color:white;\">installment_rate is >= 35</span>  <span style=\"background-color: rgb(252,195,172); color:black;\">status is not ... >= 200 DM (salary)</span> <b>THEN </b> accept"
      ],
      "text/plain": [
       "<IPython.core.display.HTML object>"
      ]
     },
     "metadata": {},
     "output_type": "display_data"
    },
    {
     "data": {
      "text/html": [
       "#10, 1176 <b>IF </b>  <span style=\"background-color: rgb(252,192,168); color:black;\">credit_history is not all credits at this bank paid back duly</span>  <span style=\"background-color: rgb(254,228,216); color:black;\">savings is unknown/no savings account or < 100 DM</span>  <span style=\"background-color: rgb(252,201,180); color:black;\">other_debtors is not guarantor</span>  <span style=\"background-color: rgb(252,178,151); color:white;\">property is not real estate and building soc. savings agr./life insurance</span>  <span style=\"background-color: rgb(254,226,213); color:black;\">number_credits is 1</span>  <span style=\"background-color: rgb(219,233,246); color:black;\">housing is own</span>  <span style=\"background-color: rgb(253,219,203); color:black;\">purpose is not furniture/equipment</span>  <span style=\"background-color: rgb(254,225,212); color:black;\">present_residence is >= 7 yrs</span> <b>THEN </b> accept"
      ],
      "text/plain": [
       "<IPython.core.display.HTML object>"
      ]
     },
     "metadata": {},
     "output_type": "display_data"
    },
    {
     "data": {
      "text/html": [
       "#11, 5421 <b>IF </b>  <span style=\"background-color: rgb(253,220,205); color:black;\">personal_status_sex is married male</span>  <span style=\"background-color: rgb(222,235,247); color:black;\">savings is 100 to 500 DM or 500 to 1000 DM</span>  <span style=\"background-color: rgb(253,214,197); color:black;\">property is car or other</span> <b>THEN </b> accept"
      ],
      "text/plain": [
       "<IPython.core.display.HTML object>"
      ]
     },
     "metadata": {},
     "output_type": "display_data"
    },
    {
     "data": {
      "text/html": [
       "#12, 5790 <b>IF </b>  <span style=\"background-color: rgb(226,237,248); color:black;\">other_installment_plans is not bank</span>  <span style=\"background-color: rgb(254,225,212); color:black;\">housing is not rent</span>  <span style=\"background-color: rgb(221,234,246); color:black;\">credit_history is all credits at this bank paid back duly</span>  <span style=\"background-color: rgb(254,228,216); color:black;\">savings is 500 to 1000 DM or >= 1000 DM</span>  <span style=\"background-color: rgb(216,231,245); color:black;\">installment_rate is not >= 35</span>  <span style=\"background-color: rgb(253,223,209); color:black;\">job is not unskilled - resident</span> <b>THEN </b> accept"
      ],
      "text/plain": [
       "<IPython.core.display.HTML object>"
      ]
     },
     "metadata": {},
     "output_type": "display_data"
    },
    {
     "data": {
      "text/html": [
       "#13, 8320 <b>IF </b>  <span style=\"background-color: rgb(254,224,210); color:black;\">job is skilled employee / official</span>  <span style=\"background-color: rgb(219,233,246); color:black;\">housing is own</span>  <span style=\"background-color: rgb(203,222,240); color:black;\">savings is not unknown/no savings account and < 100 DM</span>  <span style=\"background-color: rgb(253,218,202); color:black;\">property is not building soc. savings agr./life insurance</span>  <span style=\"background-color: rgb(212,228,243); color:black;\">purpose is furniture/equipment</span>  <span style=\"background-color: rgb(253,222,208); color:black;\">number_credits is not 2 to 3</span> <b>THEN </b> accept"
      ],
      "text/plain": [
       "<IPython.core.display.HTML object>"
      ]
     },
     "metadata": {},
     "output_type": "display_data"
    },
    {
     "data": {
      "text/html": [
       "#14, 491 <b>IF </b>  <span style=\"background-color: rgb(205,223,241); color:black;\">duration <= 15</span>  <span style=\"background-color: rgb(252,192,168); color:black;\">credit_history is no credits taken/all credits paid back duly</span>  <span style=\"background-color: rgb(222,235,247); color:black;\">amount <= 1538</span>  <span style=\"background-color: rgb(254,225,212); color:black;\">housing is not rent</span>  <span style=\"background-color: rgb(254,224,210); color:black;\">job is skilled employee / official</span>  <span style=\"background-color: rgb(253,213,195); color:black;\">telephone is No</span>  <span style=\"background-color: rgb(252,199,177); color:black;\">property is not real estate</span> <b>THEN </b> accept"
      ],
      "text/plain": [
       "<IPython.core.display.HTML object>"
      ]
     },
     "metadata": {},
     "output_type": "display_data"
    },
    {
     "data": {
      "text/html": [
       "#15, 5557 <b>IF </b>  <span style=\"background-color: rgb(252,198,175); color:black;\">savings is < 100 DM or 100 to 500 DM</span>  <span style=\"background-color: rgb(158,202,225); color:white;\">status is ... >= 200 DM (salary)</span>  <span style=\"background-color: rgb(252,164,135); color:white;\">credit_history is not existing credits paid back duly till now and all credits at this bank paid back duly</span>  <span style=\"background-color: rgb(223,235,247); color:black;\">employment_duration is not unemployed and < 1 yr</span>  <span style=\"background-color: rgb(226,237,248); color:black;\">job is not skilled employee / official</span> <b>THEN </b> accept"
      ],
      "text/plain": [
       "<IPython.core.display.HTML object>"
      ]
     },
     "metadata": {},
     "output_type": "display_data"
    },
    {
     "data": {
      "text/html": [
       "#16, 198 <b>IF </b>  <span style=\"background-color: rgb(203,222,240); color:black;\">savings is not unknown/no savings account and < 100 DM</span>  <span style=\"background-color: rgb(187,214,235); color:white;\">credit_history is all credits at this bank paid back duly</span>  <span style=\"background-color: rgb(158,202,225); color:white;\">status is ... >= 200 DM (salary)</span>  <span style=\"background-color: rgb(254,226,213); color:black;\">number_credits is 1</span> <b>THEN </b> accept"
      ],
      "text/plain": [
       "<IPython.core.display.HTML object>"
      ]
     },
     "metadata": {},
     "output_type": "display_data"
    },
    {
     "data": {
      "text/html": [
       "#17, 2123 <b>IF </b>  <span style=\"background-color: rgb(158,202,225); color:white;\">status is ... >= 200 DM (salary)</span>  <span style=\"background-color: rgb(254,224,210); color:black;\">credit_history is not existing credits paid back duly till now</span>  <span style=\"background-color: rgb(225,236,247); color:black;\">telephone is Yes</span>  <span style=\"background-color: rgb(254,224,210); color:black;\">job is skilled employee / official</span>  <span style=\"background-color: rgb(254,228,216); color:black;\">savings is >= 1000 DM</span>  <span style=\"background-color: rgb(254,226,213); color:black;\">number_credits is 1</span> <b>THEN </b> accept"
      ],
      "text/plain": [
       "<IPython.core.display.HTML object>"
      ]
     },
     "metadata": {},
     "output_type": "display_data"
    },
    {
     "data": {
      "text/html": [
       "#18, 4675 <b>IF </b>  <span style=\"background-color: rgb(226,237,248); color:black;\">other_installment_plans is not bank</span>  <span style=\"background-color: rgb(253,213,195); color:black;\">telephone is No</span>  <span style=\"background-color: rgb(252,201,180); color:black;\">other_debtors is not guarantor</span>  <span style=\"background-color: rgb(226,237,248); color:black;\">job is not skilled employee / official</span>  <span style=\"background-color: rgb(254,225,211); color:black;\">property is not car or other</span>  <span style=\"background-color: rgb(219,233,246); color:black;\">housing is own</span>  <span style=\"background-color: rgb(253,219,203); color:black;\">purpose is not furniture/equipment</span>  <span style=\"background-color: rgb(253,222,208); color:black;\">number_credits is not 1</span> <b>THEN </b> accept"
      ],
      "text/plain": [
       "<IPython.core.display.HTML object>"
      ]
     },
     "metadata": {},
     "output_type": "display_data"
    },
    {
     "data": {
      "text/html": [
       "#19, 7801 <b>IF </b>  <span style=\"background-color: rgb(226,237,248); color:black;\">other_installment_plans is not bank</span>  <span style=\"background-color: rgb(219,233,246); color:black;\">housing is own</span>  <span style=\"background-color: rgb(225,237,248); color:black;\">purpose is not repairs</span>  <span style=\"background-color: rgb(218,232,245); color:black;\">duration <= 24</span>  <span style=\"background-color: rgb(254,224,210); color:black;\">job is skilled employee / official</span>  <span style=\"background-color: rgb(254,226,213); color:black;\">number_credits is 1</span>  <span style=\"background-color: rgb(209,226,242); color:black;\">property is real estate</span>  <span style=\"background-color: rgb(225,236,247); color:black;\">telephone is Yes</span> <b>THEN </b> accept"
      ],
      "text/plain": [
       "<IPython.core.display.HTML object>"
      ]
     },
     "metadata": {},
     "output_type": "display_data"
    },
    {
     "data": {
      "text/html": [
       "#20, 9605 <b>IF </b>  <span style=\"background-color: rgb(219,233,246); color:black;\">other_installment_plans is none</span>  <span style=\"background-color: rgb(187,214,235); color:white;\">credit_history is all credits at this bank paid back duly</span>  <span style=\"background-color: rgb(225,236,247); color:black;\">job is not management/ self-employed/ highly qualified employee/ officer</span>  <span style=\"background-color: rgb(225,237,248); color:black;\">amount <= 4210</span>  <span style=\"background-color: rgb(252,182,156); color:white;\">duration >= 13</span>  <span style=\"background-color: rgb(253,222,208); color:black;\">number_credits is not 1</span>  <span style=\"background-color: rgb(226,237,248); color:black;\">present_residence is not >= 7 yrs</span>  <span style=\"background-color: rgb(252,205,185); color:black;\">personal_status_sex is not married male</span> <b>THEN </b> accept"
      ],
      "text/plain": [
       "<IPython.core.display.HTML object>"
      ]
     },
     "metadata": {},
     "output_type": "display_data"
    },
    {
     "data": {
      "text/html": [
       "#21, 9577 <b>IF </b>  <span style=\"background-color: rgb(219,233,246); color:black;\">other_installment_plans is none</span>  <span style=\"background-color: rgb(252,192,168); color:black;\">credit_history is not all credits at this bank paid back duly</span>  <span style=\"background-color: rgb(253,214,197); color:black;\">purpose is not car (used) and furniture/equipment</span>  <span style=\"background-color: rgb(254,225,212); color:black;\">housing is not rent</span>  <span style=\"background-color: rgb(254,228,216); color:black;\">savings is unknown/no savings account</span>  <span style=\"background-color: rgb(254,228,216); color:black;\">people_liable is 0 to 2</span>  <span style=\"background-color: rgb(253,218,202); color:black;\">property is not building soc. savings agr./life insurance</span>  <span style=\"background-color: rgb(252,205,185); color:black;\">personal_status_sex is not married male</span> <b>THEN </b> accept"
      ],
      "text/plain": [
       "<IPython.core.display.HTML object>"
      ]
     },
     "metadata": {},
     "output_type": "display_data"
    },
    {
     "data": {
      "text/html": [
       "#22, 5298 <b>IF </b>  <span style=\"background-color: rgb(225,236,247); color:black;\">telephone is Yes</span>  <span style=\"background-color: rgb(254,228,216); color:black;\">savings is not unknown/no savings account and < 100 DM</span>  <span style=\"background-color: rgb(219,233,246); color:black;\">housing is own</span>  <span style=\"background-color: rgb(254,228,216); color:black;\">people_liable is 0 to 2</span>  <span style=\"background-color: rgb(212,228,243); color:black;\">purpose is furniture/equipment</span> <b>THEN </b> accept"
      ],
      "text/plain": [
       "<IPython.core.display.HTML object>"
      ]
     },
     "metadata": {},
     "output_type": "display_data"
    },
    {
     "data": {
      "text/html": [
       "#23, 8759 <b>IF </b>  <span style=\"background-color: rgb(253,213,195); color:black;\">telephone is No</span>  <span style=\"background-color: rgb(158,202,225); color:white;\">status is ... >= 200 DM (salary)</span>  <span style=\"background-color: rgb(254,224,210); color:black;\">job is skilled employee / official</span>  <span style=\"background-color: rgb(219,233,246); color:black;\">housing is own</span>  <span style=\"background-color: rgb(219,233,246); color:black;\">age >= 31</span>  <span style=\"background-color: rgb(253,219,203); color:black;\">purpose is not furniture/equipment</span>  <span style=\"background-color: rgb(254,227,215); color:black;\">credit_history is no credits taken/all credits paid back duly</span> <b>THEN </b> accept"
      ],
      "text/plain": [
       "<IPython.core.display.HTML object>"
      ]
     },
     "metadata": {},
     "output_type": "display_data"
    },
    {
     "data": {
      "text/html": [
       "#24, 2448 <b>IF </b>  <span style=\"background-color: rgb(252,191,166); color:white;\">savings is unknown/no savings account or < 100 DM</span>  <span style=\"background-color: rgb(254,225,212); color:black;\">housing is not rent</span>  <span style=\"background-color: rgb(221,234,246); color:black;\">property is car or other</span>  <span style=\"background-color: rgb(212,228,243); color:black;\">purpose is furniture/equipment</span>  <span style=\"background-color: rgb(216,231,245); color:black;\">installment_rate is not >= 35</span>  <span style=\"background-color: rgb(254,227,215); color:black;\">present_residence is not < 1 yr</span> <b>THEN </b> accept"
      ],
      "text/plain": [
       "<IPython.core.display.HTML object>"
      ]
     },
     "metadata": {},
     "output_type": "display_data"
    },
    {
     "data": {
      "text/html": [
       "#25, 4189 <b>IF </b>  <span style=\"background-color: rgb(253,223,209); color:black;\">property is not unknown / no property</span>  <span style=\"background-color: rgb(254,228,216); color:black;\">savings is not unknown/no savings account and < 100 DM</span>  <span style=\"background-color: rgb(253,220,205); color:black;\">personal_status_sex is married male</span>  <span style=\"background-color: rgb(219,233,246); color:black;\">other_installment_plans is none</span>  <span style=\"background-color: rgb(225,236,247); color:black;\">telephone is Yes</span>  <span style=\"background-color: rgb(254,227,215); color:black;\">credit_history is no credits taken/all credits paid back duly</span> <b>THEN </b> accept"
      ],
      "text/plain": [
       "<IPython.core.display.HTML object>"
      ]
     },
     "metadata": {},
     "output_type": "display_data"
    },
    {
     "data": {
      "text/html": [
       "#26, 7096 <b>IF </b>  <span style=\"background-color: rgb(222,235,247); color:black;\">savings is 100 to 500 DM or 500 to 1000 DM</span>  <span style=\"background-color: rgb(226,237,248); color:black;\">present_residence is not >= 7 yrs</span>  <span style=\"background-color: rgb(252,178,151); color:white;\">property is not real estate and building soc. savings agr./life insurance</span>  <span style=\"background-color: rgb(252,193,169); color:black;\">installment_rate is not < 20 and 20 to 25</span>  <span style=\"background-color: rgb(221,234,246); color:black;\">age >= 28</span> <b>THEN </b> accept"
      ],
      "text/plain": [
       "<IPython.core.display.HTML object>"
      ]
     },
     "metadata": {},
     "output_type": "display_data"
    },
    {
     "data": {
      "text/html": [
       "#27, 7365 <b>IF </b>  <span style=\"background-color: rgb(252,191,166); color:white;\">savings is unknown/no savings account or < 100 DM</span>  <span style=\"background-color: rgb(252,192,168); color:black;\">credit_history is no credits taken/all credits paid back duly</span>  <span style=\"background-color: rgb(253,219,203); color:black;\">duration >= 8</span>  <span style=\"background-color: rgb(253,220,205); color:black;\">personal_status_sex is married male</span>  <span style=\"background-color: rgb(226,237,248); color:black;\">present_residence is not 4 to 7 yrs and >= 7 yrs</span>  <span style=\"background-color: rgb(225,236,247); color:black;\">telephone is Yes</span>  <span style=\"background-color: rgb(225,237,248); color:black;\">amount <= 4765</span> <b>THEN </b> accept"
      ],
      "text/plain": [
       "<IPython.core.display.HTML object>"
      ]
     },
     "metadata": {},
     "output_type": "display_data"
    },
    {
     "data": {
      "text/html": [
       "#28, 6956 <b>IF </b>  <span style=\"background-color: rgb(253,220,205); color:black;\">personal_status_sex is married male</span>  <span style=\"background-color: rgb(187,214,235); color:white;\">credit_history is all credits at this bank paid back duly</span>  <span style=\"background-color: rgb(176,209,231); color:white;\">purpose is car (new)</span>  <span style=\"background-color: rgb(221,234,246); color:black;\">duration <= 34</span> <b>THEN </b> accept"
      ],
      "text/plain": [
       "<IPython.core.display.HTML object>"
      ]
     },
     "metadata": {},
     "output_type": "display_data"
    },
    {
     "data": {
      "text/html": [
       "#29, 1967 <b>IF </b>  <span style=\"background-color: rgb(226,237,248); color:black;\">other_installment_plans is not bank</span>  <span style=\"background-color: rgb(254,225,212); color:black;\">housing is not rent</span>  <span style=\"background-color: rgb(254,226,213); color:black;\">number_credits is 2 to 3</span>  <span style=\"background-color: rgb(220,233,246); color:black;\">age >= 30</span>  <span style=\"background-color: rgb(187,214,235); color:white;\">credit_history is all credits at this bank paid back duly</span>  <span style=\"background-color: rgb(253,220,205); color:black;\">personal_status_sex is married male</span>  <span style=\"background-color: rgb(158,202,225); color:white;\">status is ... >= 200 DM (salary)</span>  <span style=\"background-color: rgb(253,214,197); color:black;\">property is car or other</span> <b>THEN </b> accept"
      ],
      "text/plain": [
       "<IPython.core.display.HTML object>"
      ]
     },
     "metadata": {},
     "output_type": "display_data"
    },
    {
     "data": {
      "text/html": [
       "#30, 9655 <b>IF </b>  <span style=\"background-color: rgb(187,214,235); color:white;\">credit_history is all credits at this bank paid back duly</span>  <span style=\"background-color: rgb(252,201,180); color:black;\">other_debtors is not guarantor</span>  <span style=\"background-color: rgb(253,207,188); color:black;\">duration >= 11</span>  <span style=\"background-color: rgb(225,237,248); color:black;\">purpose is not others</span>  <span style=\"background-color: rgb(158,202,225); color:white;\">status is ... >= 200 DM (salary)</span>  <span style=\"background-color: rgb(252,193,169); color:black;\">installment_rate is not < 20 and 20 to 25</span>  <span style=\"background-color: rgb(226,237,248); color:black;\">present_residence is not >= 7 yrs</span>  <span style=\"background-color: rgb(226,237,248); color:black;\">job is not skilled employee / official</span> <b>THEN </b> accept"
      ],
      "text/plain": [
       "<IPython.core.display.HTML object>"
      ]
     },
     "metadata": {},
     "output_type": "display_data"
    },
    {
     "data": {
      "text/html": [
       "#31, 6307 <b>IF </b>  <span style=\"background-color: rgb(187,214,235); color:white;\">credit_history is all credits at this bank paid back duly</span>  <span style=\"background-color: rgb(254,225,212); color:black;\">housing is not rent</span>  <span style=\"background-color: rgb(254,228,216); color:black;\">savings is >= 1000 DM</span>  <span style=\"background-color: rgb(216,231,245); color:black;\">installment_rate is not >= 35</span> <b>THEN </b> accept"
      ],
      "text/plain": [
       "<IPython.core.display.HTML object>"
      ]
     },
     "metadata": {},
     "output_type": "display_data"
    },
    {
     "data": {
      "text/html": [
       "#32, 773 <b>IF </b>  <span style=\"background-color: rgb(188,215,235); color:white;\">savings is 500 to 1000 DM or >= 1000 DM</span>  <span style=\"background-color: rgb(253,212,194); color:black;\">employment_duration is not 4 to 7 yrs and >= 7 yrs</span>  <span style=\"background-color: rgb(254,228,216); color:black;\">people_liable is 0 to 2</span>  <span style=\"background-color: rgb(219,233,246); color:black;\">housing is own</span>  <span style=\"background-color: rgb(187,214,235); color:white;\">credit_history is all credits at this bank paid back duly</span> <b>THEN </b> accept"
      ],
      "text/plain": [
       "<IPython.core.display.HTML object>"
      ]
     },
     "metadata": {},
     "output_type": "display_data"
    },
    {
     "data": {
      "text/html": [
       "#33, 5562 <b>IF </b>  <span style=\"background-color: rgb(188,215,235); color:white;\">savings is 500 to 1000 DM or >= 1000 DM</span>  <span style=\"background-color: rgb(254,225,212); color:black;\">housing is not rent</span>  <span style=\"background-color: rgb(225,237,248); color:black;\">purpose is not others</span>  <span style=\"background-color: rgb(252,205,185); color:black;\">personal_status_sex is not married male</span>  <span style=\"background-color: rgb(215,230,244); color:black;\">age >= 37</span> <b>THEN </b> accept"
      ],
      "text/plain": [
       "<IPython.core.display.HTML object>"
      ]
     },
     "metadata": {},
     "output_type": "display_data"
    },
    {
     "data": {
      "text/html": [
       "#34, 6769 <b>IF </b>  <span style=\"background-color: rgb(252,195,172); color:black;\">status is not ... >= 200 DM (salary)</span>  <span style=\"background-color: rgb(253,219,203); color:black;\">purpose is not furniture/equipment</span>  <span style=\"background-color: rgb(254,224,210); color:black;\">job is skilled employee / official</span>  <span style=\"background-color: rgb(254,228,216); color:black;\">savings is unknown/no savings account</span>  <span style=\"background-color: rgb(252,164,135); color:white;\">credit_history is no credits taken/all credits paid back duly</span>  <span style=\"background-color: rgb(253,213,195); color:black;\">telephone is No</span>  <span style=\"background-color: rgb(254,225,211); color:black;\">property is not car or other</span>  <span style=\"background-color: rgb(226,237,248); color:black;\">other_installment_plans is not bank</span> <b>THEN </b> accept"
      ],
      "text/plain": [
       "<IPython.core.display.HTML object>"
      ]
     },
     "metadata": {},
     "output_type": "display_data"
    },
    {
     "data": {
      "text/html": [
       "#35, 8411 <b>IF </b>  <span style=\"background-color: rgb(252,172,144); color:white;\">duration >= 15</span>  <span style=\"background-color: rgb(253,220,205); color:black;\">personal_status_sex is married male</span>  <span style=\"background-color: rgb(217,231,245); color:black;\">property is not car or other and unknown / no property</span>  <span style=\"background-color: rgb(252,199,177); color:black;\">age <= 31</span>  <span style=\"background-color: rgb(254,228,216); color:black;\">savings is unknown/no savings account or < 100 DM</span>  <span style=\"background-color: rgb(226,237,248); color:black;\">present_residence is not 4 to 7 yrs and >= 7 yrs</span> <b>THEN </b> accept"
      ],
      "text/plain": [
       "<IPython.core.display.HTML object>"
      ]
     },
     "metadata": {},
     "output_type": "display_data"
    },
    {
     "data": {
      "text/html": [
       "#36, 6198 <b>IF </b>  <span style=\"background-color: rgb(187,214,235); color:white;\">credit_history is all credits at this bank paid back duly</span>  <span style=\"background-color: rgb(226,237,248); color:black;\">other_installment_plans is not bank</span>  <span style=\"background-color: rgb(215,230,244); color:black;\">employment_duration is >= 7 yrs</span>  <span style=\"background-color: rgb(254,225,211); color:black;\">property is not car or other</span>  <span style=\"background-color: rgb(254,228,216); color:black;\">savings is unknown/no savings account</span>  <span style=\"background-color: rgb(253,222,208); color:black;\">number_credits is not 2 to 3</span> <b>THEN </b> accept"
      ],
      "text/plain": [
       "<IPython.core.display.HTML object>"
      ]
     },
     "metadata": {},
     "output_type": "display_data"
    },
    {
     "data": {
      "text/html": [
       "#37, 5475 <b>IF </b>  <span style=\"background-color: rgb(252,191,166); color:white;\">savings is unknown/no savings account or < 100 DM</span>  <span style=\"background-color: rgb(225,236,247); color:black;\">telephone is Yes</span>  <span style=\"background-color: rgb(252,175,147); color:white;\">status is not 0 to 200 DM and ... >= 200 DM (salary)</span>  <span style=\"background-color: rgb(253,222,208); color:black;\">purpose is not car (used)</span>  <span style=\"background-color: rgb(252,192,168); color:black;\">credit_history is no credits taken/all credits paid back duly</span>  <span style=\"background-color: rgb(254,226,213); color:black;\">number_credits is 1</span>  <span style=\"background-color: rgb(253,209,191); color:black;\">housing is not for free</span> <b>THEN </b> accept"
      ],
      "text/plain": [
       "<IPython.core.display.HTML object>"
      ]
     },
     "metadata": {},
     "output_type": "display_data"
    },
    {
     "data": {
      "text/html": [
       "#38, 4708 <b>IF </b>  <span style=\"background-color: rgb(253,208,189); color:black;\">other_installment_plans is not bank</span>  <span style=\"background-color: rgb(225,236,247); color:black;\">telephone is Yes</span>  <span style=\"background-color: rgb(254,228,216); color:black;\">savings is not unknown/no savings account</span>  <span style=\"background-color: rgb(226,237,248); color:black;\">job is not skilled employee / official</span>  <span style=\"background-color: rgb(216,231,245); color:black;\">installment_rate is not >= 35</span> <b>THEN </b> accept"
      ],
      "text/plain": [
       "<IPython.core.display.HTML object>"
      ]
     },
     "metadata": {},
     "output_type": "display_data"
    },
    {
     "data": {
      "text/html": [
       "#39, 2609 <b>IF </b>  <span style=\"background-color: rgb(225,236,247); color:black;\">telephone is Yes</span>  <span style=\"background-color: rgb(225,237,248); color:black;\">amount <= 3939</span>  <span style=\"background-color: rgb(223,235,247); color:black;\">job is not skilled employee / official and management/ self-employed/ highly qualified employee/ officer</span>  <span style=\"background-color: rgb(253,222,208); color:black;\">purpose is not car (used)</span> <b>THEN </b> accept"
      ],
      "text/plain": [
       "<IPython.core.display.HTML object>"
      ]
     },
     "metadata": {},
     "output_type": "display_data"
    },
    {
     "data": {
      "text/html": [
       "#40, 3115 <b>IF </b>  <span style=\"background-color: rgb(252,195,172); color:black;\">status is not ... >= 200 DM (salary)</span>  <span style=\"background-color: rgb(254,227,215); color:black;\">amount >= 599</span>  <span style=\"background-color: rgb(253,207,188); color:black;\">duration >= 11</span>  <span style=\"background-color: rgb(252,192,168); color:black;\">credit_history is not all credits at this bank paid back duly</span>  <span style=\"background-color: rgb(225,236,247); color:black;\">telephone is Yes</span>  <span style=\"background-color: rgb(253,207,188); color:black;\">other_installment_plans is not stores</span>  <span style=\"background-color: rgb(254,225,212); color:black;\">housing is not rent</span>  <span style=\"background-color: rgb(253,212,194); color:black;\">employment_duration is not 4 to 7 yrs and >= 7 yrs</span>  <span style=\"background-color: rgb(226,237,248); color:black;\">present_residence is not 4 to 7 yrs and >= 7 yrs</span> <b>THEN </b> accept"
      ],
      "text/plain": [
       "<IPython.core.display.HTML object>"
      ]
     },
     "metadata": {},
     "output_type": "display_data"
    },
    {
     "data": {
      "text/html": [
       "#41, 5771 <b>IF </b>  <span style=\"background-color: rgb(226,237,248); color:black;\">other_installment_plans is not bank</span>  <span style=\"background-color: rgb(254,225,212); color:black;\">housing is not rent</span>  <span style=\"background-color: rgb(252,192,168); color:black;\">credit_history is not delay in paying off in the past and all credits at this bank paid back duly</span>  <span style=\"background-color: rgb(254,228,216); color:black;\">savings is not 500 to 1000 DM and >= 1000 DM</span>  <span style=\"background-color: rgb(252,199,177); color:black;\">property is building soc. savings agr./life insurance</span>  <span style=\"background-color: rgb(253,220,205); color:black;\">duration >= 6</span>  <span style=\"background-color: rgb(253,214,197); color:black;\">purpose is not car (used) and furniture/equipment</span> <b>THEN </b> accept"
      ],
      "text/plain": [
       "<IPython.core.display.HTML object>"
      ]
     },
     "metadata": {},
     "output_type": "display_data"
    },
    {
     "data": {
      "text/html": [
       "#42, 7574 <b>IF </b>  <span style=\"background-color: rgb(223,235,247); color:black;\">employment_duration is not unemployed and < 1 yr</span>  <span style=\"background-color: rgb(251,127,95); color:white;\">purpose is others</span>  <span style=\"background-color: rgb(252,195,172); color:black;\">status is not ... >= 200 DM (salary)</span>  <span style=\"background-color: rgb(212,228,243); color:black;\">installment_rate is not 25 to 35 and >= 35</span>  <span style=\"background-color: rgb(224,236,247); color:black;\">amount <= 2777</span> <b>THEN </b> accept"
      ],
      "text/plain": [
       "<IPython.core.display.HTML object>"
      ]
     },
     "metadata": {},
     "output_type": "display_data"
    },
    {
     "data": {
      "text/html": [
       "#43, 4816 <b>IF </b>  <span style=\"background-color: rgb(221,234,246); color:black;\">property is not unknown / no property</span>  <span style=\"background-color: rgb(225,236,247); color:black;\">job is not management/ self-employed/ highly qualified employee/ officer</span>  <span style=\"background-color: rgb(252,192,168); color:black;\">credit_history is not all credits at this bank paid back duly</span>  <span style=\"background-color: rgb(254,228,216); color:black;\">savings is unknown/no savings account or < 100 DM</span>  <span style=\"background-color: rgb(252,195,172); color:black;\">status is not ... >= 200 DM (salary)</span>  <span style=\"background-color: rgb(253,212,194); color:black;\">other_debtors is none</span>  <span style=\"background-color: rgb(254,227,215); color:black;\">present_residence is not < 1 yr</span>  <span style=\"background-color: rgb(225,236,247); color:black;\">telephone is Yes</span>  <span style=\"background-color: rgb(254,225,212); color:black;\">housing is not rent</span> <b>THEN </b> accept"
      ],
      "text/plain": [
       "<IPython.core.display.HTML object>"
      ]
     },
     "metadata": {},
     "output_type": "display_data"
    },
    {
     "data": {
      "text/html": [
       "#44, 2636 <b>IF </b>  <span style=\"background-color: rgb(252,195,172); color:black;\">status is not ... >= 200 DM (salary)</span>  <span style=\"background-color: rgb(253,219,203); color:black;\">purpose is not furniture/equipment</span>  <span style=\"background-color: rgb(253,218,202); color:black;\">property is not building soc. savings agr./life insurance</span>  <span style=\"background-color: rgb(253,220,205); color:black;\">personal_status_sex is married male</span>  <span style=\"background-color: rgb(226,237,248); color:black;\">present_residence is not 4 to 7 yrs and >= 7 yrs</span>  <span style=\"background-color: rgb(253,223,209); color:black;\">job is not unskilled - resident</span>  <span style=\"background-color: rgb(252,176,148); color:white;\">installment_rate is >= 35</span> <b>THEN </b> accept"
      ],
      "text/plain": [
       "<IPython.core.display.HTML object>"
      ]
     },
     "metadata": {},
     "output_type": "display_data"
    },
    {
     "data": {
      "text/html": [
       "#45, 3151 <b>IF </b>  <span style=\"background-color: rgb(252,192,168); color:black;\">credit_history is not all credits at this bank paid back duly</span>  <span style=\"background-color: rgb(252,205,185); color:black;\">personal_status_sex is not married male</span>  <span style=\"background-color: rgb(253,223,209); color:black;\">property is not building soc. savings agr./life insurance</span>  <span style=\"background-color: rgb(254,228,216); color:black;\">savings is not 500 to 1000 DM and >= 1000 DM</span>  <span style=\"background-color: rgb(225,236,247); color:black;\">telephone is Yes</span>  <span style=\"background-color: rgb(254,226,213); color:black;\">number_credits is 1</span>  <span style=\"background-color: rgb(212,228,243); color:black;\">installment_rate is not 25 to 35 and >= 35</span> <b>THEN </b> accept"
      ],
      "text/plain": [
       "<IPython.core.display.HTML object>"
      ]
     },
     "metadata": {},
     "output_type": "display_data"
    },
    {
     "data": {
      "text/html": [
       "#46, 369 <b>IF </b>  <span style=\"background-color: rgb(253,223,209); color:black;\">number_credits is not 2 to 3</span>  <span style=\"background-color: rgb(254,227,215); color:black;\">credit_history is no credits taken/all credits paid back duly</span>  <span style=\"background-color: rgb(254,228,216); color:black;\">savings is 100 to 500 DM</span>  <span style=\"background-color: rgb(225,237,248); color:black;\">purpose is not others</span>  <span style=\"background-color: rgb(158,202,225); color:white;\">status is ... >= 200 DM (salary)</span> <b>THEN </b> accept"
      ],
      "text/plain": [
       "<IPython.core.display.HTML object>"
      ]
     },
     "metadata": {},
     "output_type": "display_data"
    },
    {
     "data": {
      "text/html": [
       "#47, 3900 <b>IF </b>  <span style=\"background-color: rgb(252,172,144); color:white;\">duration >= 15</span>  <span style=\"background-color: rgb(254,225,212); color:black;\">housing is not rent</span>  <span style=\"background-color: rgb(225,236,247); color:black;\">telephone is Yes</span>  <span style=\"background-color: rgb(253,218,202); color:black;\">installment_rate is not < 20</span>  <span style=\"background-color: rgb(221,234,246); color:black;\">age >= 28</span>  <span style=\"background-color: rgb(254,225,211); color:black;\">property is not car or other</span>  <span style=\"background-color: rgb(254,228,216); color:black;\">people_liable is 0 to 2</span>  <span style=\"background-color: rgb(253,223,209); color:black;\">credit_history is not no credits taken/all credits paid back duly</span>  <span style=\"background-color: rgb(253,214,197); color:black;\">amount >= 4193</span> <b>THEN </b> accept"
      ],
      "text/plain": [
       "<IPython.core.display.HTML object>"
      ]
     },
     "metadata": {},
     "output_type": "display_data"
    },
    {
     "data": {
      "text/html": [
       "#48, 4368 <b>IF </b>  <span style=\"background-color: rgb(253,213,195); color:black;\">telephone is No</span>  <span style=\"background-color: rgb(253,214,197); color:black;\">property is car or other</span>  <span style=\"background-color: rgb(254,224,210); color:black;\">credit_history is not all credits at this bank paid back duly</span>  <span style=\"background-color: rgb(219,233,246); color:black;\">housing is own</span>  <span style=\"background-color: rgb(254,228,216); color:black;\">savings is not unknown/no savings account</span>  <span style=\"background-color: rgb(212,228,243); color:black;\">purpose is furniture/equipment</span> <b>THEN </b> accept"
      ],
      "text/plain": [
       "<IPython.core.display.HTML object>"
      ]
     },
     "metadata": {},
     "output_type": "display_data"
    },
    {
     "data": {
      "text/html": [
       "#49, 7036 <b>IF </b>  <span style=\"background-color: rgb(254,225,211); color:black;\">telephone is No</span>  <span style=\"background-color: rgb(254,224,210); color:black;\">job is skilled employee / official</span>  <span style=\"background-color: rgb(219,233,246); color:black;\">housing is own</span>  <span style=\"background-color: rgb(253,218,202); color:black;\">installment_rate is not < 20</span>  <span style=\"background-color: rgb(212,228,243); color:black;\">purpose is furniture/equipment</span>  <span style=\"background-color: rgb(254,226,213); color:black;\">number_credits is 1</span>  <span style=\"background-color: rgb(254,228,216); color:black;\">savings is not unknown/no savings account</span> <b>THEN </b> accept"
      ],
      "text/plain": [
       "<IPython.core.display.HTML object>"
      ]
     },
     "metadata": {},
     "output_type": "display_data"
    }
   ],
   "source": [
    "r100 = np.mean(res.sorted_dist[:, 100])\n",
    "ret100 = res.check_consistency(r, [p['output'] for p in paths])\n",
    "idx100 = np.array(ret100).argsort()[:50]\n",
    "for it, i in enumerate(idx100):\n",
    "    display_rule(it, i) "
   ]
  },
  {
   "cell_type": "markdown",
   "metadata": {},
   "source": [
    "<div class=\"alert alert-info\">\n",
    "  <strong>Low confidence Top 50:</strong>\n",
    "</div>"
   ]
  },
  {
   "cell_type": "code",
   "execution_count": 188,
   "metadata": {},
   "outputs": [
    {
     "data": {
      "text/html": [
       "#0, 3513 <b>IF </b>  <span style=\"background-color: rgb(252,172,144); color:white;\">duration >= 15</span>  <span style=\"background-color: rgb(225,237,248); color:black;\">purpose is not others</span>  <span style=\"background-color: rgb(245,83,59); color:white;\">status is no checking account</span>  <span style=\"background-color: rgb(253,223,209); color:black;\">job is not unskilled - resident</span>  <span style=\"background-color: rgb(254,227,215); color:black;\">credit_history is no credits taken/all credits paid back duly</span>  <span style=\"background-color: rgb(254,226,213); color:black;\">number_credits is 1</span>  <span style=\"background-color: rgb(253,220,205); color:black;\">personal_status_sex is married male</span>  <span style=\"background-color: rgb(226,237,248); color:black;\">amount <= 6039</span>  <span style=\"background-color: rgb(254,225,211); color:black;\">property is not car or other</span> <b>THEN </b> accept"
      ],
      "text/plain": [
       "<IPython.core.display.HTML object>"
      ]
     },
     "metadata": {},
     "output_type": "display_data"
    },
    {
     "data": {
      "text/html": [
       "#1, 2297 <b>IF </b>  <span style=\"background-color: rgb(252,195,172); color:black;\">status is not ... >= 200 DM (salary)</span>  <span style=\"background-color: rgb(253,212,194); color:black;\">other_debtors is none</span>  <span style=\"background-color: rgb(253,213,195); color:black;\">telephone is No</span>  <span style=\"background-color: rgb(254,225,211); color:black;\">property is not car or other</span>  <span style=\"background-color: rgb(252,184,157); color:white;\">duration >= 12</span>  <span style=\"background-color: rgb(252,205,185); color:black;\">personal_status_sex is not married male</span>  <span style=\"background-color: rgb(253,222,208); color:black;\">number_credits is not 1</span> <b>THEN </b> accept"
      ],
      "text/plain": [
       "<IPython.core.display.HTML object>"
      ]
     },
     "metadata": {},
     "output_type": "display_data"
    },
    {
     "data": {
      "text/html": [
       "#2, 17 <b>IF </b>  <span style=\"background-color: rgb(254,228,216); color:black;\">savings is unknown/no savings account</span>  <span style=\"background-color: rgb(220,233,246); color:black;\">property is not building soc. savings agr./life insurance and unknown / no property</span>  <span style=\"background-color: rgb(253,219,203); color:black;\">purpose is not furniture/equipment</span>  <span style=\"background-color: rgb(252,184,157); color:white;\">duration >= 12</span>  <span style=\"background-color: rgb(253,213,195); color:black;\">telephone is No</span>  <span style=\"background-color: rgb(253,218,202); color:black;\">amount >= 2942</span>  <span style=\"background-color: rgb(254,226,213); color:black;\">number_credits is 1</span> <b>THEN </b> accept"
      ],
      "text/plain": [
       "<IPython.core.display.HTML object>"
      ]
     },
     "metadata": {},
     "output_type": "display_data"
    },
    {
     "data": {
      "text/html": [
       "#3, 4791 <b>IF </b>  <span style=\"background-color: rgb(225,237,248); color:black;\">purpose is not others</span>  <span style=\"background-color: rgb(253,220,205); color:black;\">personal_status_sex is married male</span>  <span style=\"background-color: rgb(252,180,153); color:white;\">duration in 20 to 31</span>  <span style=\"background-color: rgb(253,214,197); color:black;\">property is car or other</span>  <span style=\"background-color: rgb(212,228,243); color:black;\">installment_rate is not 25 to 35 and >= 35</span> <b>THEN </b> accept"
      ],
      "text/plain": [
       "<IPython.core.display.HTML object>"
      ]
     },
     "metadata": {},
     "output_type": "display_data"
    },
    {
     "data": {
      "text/html": [
       "#4, 1141 <b>IF </b>  <span style=\"background-color: rgb(253,219,203); color:black;\">purpose is retraining</span>  <span style=\"background-color: rgb(253,218,202); color:black;\">property is real estate</span>  <span style=\"background-color: rgb(252,195,172); color:black;\">status is not ... >= 200 DM (salary)</span>  <span style=\"background-color: rgb(254,228,216); color:black;\">people_liable is 0 to 2</span>  <span style=\"background-color: rgb(252,182,156); color:white;\">duration >= 13</span> <b>THEN </b> accept"
      ],
      "text/plain": [
       "<IPython.core.display.HTML object>"
      ]
     },
     "metadata": {},
     "output_type": "display_data"
    },
    {
     "data": {
      "text/html": [
       "#5, 6940 <b>IF </b>  <span style=\"background-color: rgb(253,220,205); color:black;\">personal_status_sex is married male</span>  <span style=\"background-color: rgb(252,192,168); color:black;\">credit_history is no credits taken/all credits paid back duly</span>  <span style=\"background-color: rgb(254,228,216); color:black;\">savings is unknown/no savings account</span>  <span style=\"background-color: rgb(252,175,147); color:white;\">status is not 0 to 200 DM and ... >= 200 DM (salary)</span>  <span style=\"background-color: rgb(252,176,148); color:white;\">housing is not own</span>  <span style=\"background-color: rgb(220,233,246); color:black;\">duration <= 30</span> <b>THEN </b> accept"
      ],
      "text/plain": [
       "<IPython.core.display.HTML object>"
      ]
     },
     "metadata": {},
     "output_type": "display_data"
    },
    {
     "data": {
      "text/html": [
       "#6, 1244 <b>IF </b>  <span style=\"background-color: rgb(252,191,166); color:white;\">savings is unknown/no savings account or < 100 DM</span>  <span style=\"background-color: rgb(252,195,172); color:black;\">status is not ... >= 200 DM (salary)</span>  <span style=\"background-color: rgb(252,201,180); color:black;\">other_debtors is not guarantor</span>  <span style=\"background-color: rgb(219,233,246); color:black;\">housing is own</span>  <span style=\"background-color: rgb(252,193,169); color:black;\">installment_rate is not < 20 and 20 to 25</span>  <span style=\"background-color: rgb(219,233,246); color:black;\">other_installment_plans is none</span>  <span style=\"background-color: rgb(221,234,246); color:black;\">property is car or other</span>  <span style=\"background-color: rgb(253,220,205); color:black;\">personal_status_sex is married male</span>  <span style=\"background-color: rgb(254,227,215); color:black;\">present_residence is not < 1 yr</span>  <span style=\"background-color: rgb(187,214,235); color:white;\">credit_history is all credits at this bank paid back duly</span> <b>THEN </b> accept"
      ],
      "text/plain": [
       "<IPython.core.display.HTML object>"
      ]
     },
     "metadata": {},
     "output_type": "display_data"
    },
    {
     "data": {
      "text/html": [
       "#7, 8085 <b>IF </b>  <span style=\"background-color: rgb(226,237,248); color:black;\">other_installment_plans is not bank</span>  <span style=\"background-color: rgb(252,205,185); color:black;\">personal_status_sex is not married male</span>  <span style=\"background-color: rgb(252,195,172); color:black;\">status is not ... >= 200 DM (salary)</span>  <span style=\"background-color: rgb(253,212,194); color:black;\">other_debtors is none</span>  <span style=\"background-color: rgb(254,227,215); color:black;\">amount >= 714</span>  <span style=\"background-color: rgb(218,232,245); color:black;\">age >= 34</span>  <span style=\"background-color: rgb(225,237,248); color:black;\">purpose is not others</span>  <span style=\"background-color: rgb(209,226,242); color:black;\">property is real estate</span> <b>THEN </b> accept"
      ],
      "text/plain": [
       "<IPython.core.display.HTML object>"
      ]
     },
     "metadata": {},
     "output_type": "display_data"
    },
    {
     "data": {
      "text/html": [
       "#8, 7724 <b>IF </b>  <span style=\"background-color: rgb(209,226,242); color:black;\">property is real estate</span>  <span style=\"background-color: rgb(254,228,216); color:black;\">savings is unknown/no savings account</span>  <span style=\"background-color: rgb(225,236,247); color:black;\">telephone is Yes</span>  <span style=\"background-color: rgb(253,223,209); color:black;\">credit_history is not no credits taken/all credits paid back duly</span> <b>THEN </b> accept"
      ],
      "text/plain": [
       "<IPython.core.display.HTML object>"
      ]
     },
     "metadata": {},
     "output_type": "display_data"
    },
    {
     "data": {
      "text/html": [
       "#9, 2844 <b>IF </b>  <span style=\"background-color: rgb(252,193,169); color:black;\">installment_rate is not < 20 and 20 to 25</span>  <span style=\"background-color: rgb(252,195,172); color:black;\">status is not ... >= 200 DM (salary)</span>  <span style=\"background-color: rgb(253,213,195); color:black;\">telephone is No</span>  <span style=\"background-color: rgb(254,226,213); color:black;\">number_credits is 1</span>  <span style=\"background-color: rgb(226,237,248); color:black;\">other_installment_plans is not bank</span>  <span style=\"background-color: rgb(225,236,247); color:black;\">age >= 24</span>  <span style=\"background-color: rgb(221,234,246); color:black;\">purpose is car (used)</span> <b>THEN </b> accept"
      ],
      "text/plain": [
       "<IPython.core.display.HTML object>"
      ]
     },
     "metadata": {},
     "output_type": "display_data"
    },
    {
     "data": {
      "text/html": [
       "#10, 6964 <b>IF </b>  <span style=\"background-color: rgb(254,227,214); color:black;\">purpose is not others and furniture/equipment</span>  <span style=\"background-color: rgb(254,225,211); color:black;\">property is not real estate and unknown / no property</span>  <span style=\"background-color: rgb(254,225,212); color:black;\">housing is not rent</span>  <span style=\"background-color: rgb(252,195,172); color:black;\">status is not ... >= 200 DM (salary)</span>  <span style=\"background-color: rgb(252,201,180); color:black;\">other_debtors is not guarantor</span>  <span style=\"background-color: rgb(254,228,216); color:black;\">savings is unknown/no savings account or < 100 DM</span>  <span style=\"background-color: rgb(254,226,213); color:black;\">number_credits is 1</span>  <span style=\"background-color: rgb(252,192,168); color:black;\">credit_history is not all credits at this bank paid back duly</span>  <span style=\"background-color: rgb(252,193,169); color:black;\">installment_rate is not < 20 and 20 to 25</span>  <span style=\"background-color: rgb(253,219,203); color:black;\">amount >= 2606</span> <b>THEN </b> reject"
      ],
      "text/plain": [
       "<IPython.core.display.HTML object>"
      ]
     },
     "metadata": {},
     "output_type": "display_data"
    },
    {
     "data": {
      "text/html": [
       "#11, 7434 <b>IF </b>  <span style=\"background-color: rgb(252,154,123); color:white;\">other_installment_plans is bank</span>  <span style=\"background-color: rgb(252,205,185); color:black;\">personal_status_sex is not married male</span>  <span style=\"background-color: rgb(158,202,225); color:white;\">status is ... >= 200 DM (salary)</span> <b>THEN </b> accept"
      ],
      "text/plain": [
       "<IPython.core.display.HTML object>"
      ]
     },
     "metadata": {},
     "output_type": "display_data"
    },
    {
     "data": {
      "text/html": [
       "#12, 4865 <b>IF </b>  <span style=\"background-color: rgb(225,236,247); color:black;\">telephone is Yes</span>  <span style=\"background-color: rgb(219,233,246); color:black;\">other_installment_plans is none</span>  <span style=\"background-color: rgb(245,83,59); color:white;\">status is no checking account</span>  <span style=\"background-color: rgb(252,192,168); color:black;\">credit_history is no credits taken/all credits paid back duly</span>  <span style=\"background-color: rgb(225,237,248); color:black;\">property is building soc. savings agr./life insurance</span> <b>THEN </b> accept"
      ],
      "text/plain": [
       "<IPython.core.display.HTML object>"
      ]
     },
     "metadata": {},
     "output_type": "display_data"
    },
    {
     "data": {
      "text/html": [
       "#13, 8037 <b>IF </b>  <span style=\"background-color: rgb(252,176,148); color:white;\">housing is not own</span>  <span style=\"background-color: rgb(253,213,195); color:black;\">telephone is No</span>  <span style=\"background-color: rgb(252,195,172); color:black;\">status is not ... >= 200 DM (salary)</span>  <span style=\"background-color: rgb(252,192,168); color:black;\">credit_history is not all credits at this bank paid back duly</span>  <span style=\"background-color: rgb(209,226,242); color:black;\">property is real estate</span> <b>THEN </b> accept"
      ],
      "text/plain": [
       "<IPython.core.display.HTML object>"
      ]
     },
     "metadata": {},
     "output_type": "display_data"
    },
    {
     "data": {
      "text/html": [
       "#14, 6782 <b>IF </b>  <span style=\"background-color: rgb(252,195,172); color:black;\">status is not ... >= 200 DM (salary)</span>  <span style=\"background-color: rgb(254,224,210); color:black;\">purpose is not furniture/equipment</span>  <span style=\"background-color: rgb(254,224,210); color:black;\">job is skilled employee / official</span>  <span style=\"background-color: rgb(254,228,216); color:black;\">savings is not unknown/no savings account</span>  <span style=\"background-color: rgb(254,226,213); color:black;\">number_credits is 2 to 3</span>  <span style=\"background-color: rgb(253,219,203); color:black;\">amount >= 2529</span> <b>THEN </b> accept"
      ],
      "text/plain": [
       "<IPython.core.display.HTML object>"
      ]
     },
     "metadata": {},
     "output_type": "display_data"
    },
    {
     "data": {
      "text/html": [
       "#15, 4586 <b>IF </b>  <span style=\"background-color: rgb(252,176,148); color:white;\">housing is not own</span>  <span style=\"background-color: rgb(253,213,195); color:black;\">telephone is No</span>  <span style=\"background-color: rgb(252,195,172); color:black;\">status is not ... >= 200 DM (salary)</span>  <span style=\"background-color: rgb(254,224,210); color:black;\">job is skilled employee / official</span>  <span style=\"background-color: rgb(205,223,241); color:black;\">installment_rate is < 20</span> <b>THEN </b> accept"
      ],
      "text/plain": [
       "<IPython.core.display.HTML object>"
      ]
     },
     "metadata": {},
     "output_type": "display_data"
    },
    {
     "data": {
      "text/html": [
       "#16, 8855 <b>IF </b>  <span style=\"background-color: rgb(252,195,172); color:black;\">housing is for free</span>  <span style=\"background-color: rgb(252,184,157); color:white;\">employment_duration is unemployed</span>  <span style=\"background-color: rgb(226,237,248); color:black;\">amount <= 7277</span> <b>THEN </b> accept"
      ],
      "text/plain": [
       "<IPython.core.display.HTML object>"
      ]
     },
     "metadata": {},
     "output_type": "display_data"
    },
    {
     "data": {
      "text/html": [
       "#17, 8068 <b>IF </b>  <span style=\"background-color: rgb(219,233,246); color:black;\">housing is own</span>  <span style=\"background-color: rgb(219,233,246); color:black;\">other_installment_plans is none</span>  <span style=\"background-color: rgb(187,214,235); color:white;\">credit_history is all credits at this bank paid back duly</span>  <span style=\"background-color: rgb(252,202,182); color:black;\">age <= 33</span>  <span style=\"background-color: rgb(253,214,197); color:black;\">property is car or other</span>  <span style=\"background-color: rgb(252,195,172); color:black;\">status is not ... >= 200 DM (salary)</span> <b>THEN </b> reject"
      ],
      "text/plain": [
       "<IPython.core.display.HTML object>"
      ]
     },
     "metadata": {},
     "output_type": "display_data"
    },
    {
     "data": {
      "text/html": [
       "#18, 7602 <b>IF </b>  <span style=\"background-color: rgb(221,234,246); color:black;\">property is not unknown / no property</span>  <span style=\"background-color: rgb(252,202,182); color:black;\">age <= 33</span>  <span style=\"background-color: rgb(252,157,126); color:white;\">housing is rent</span>  <span style=\"background-color: rgb(205,223,241); color:black;\">installment_rate is < 20</span>  <span style=\"background-color: rgb(252,172,144); color:white;\">duration >= 16</span> <b>THEN </b> accept"
      ],
      "text/plain": [
       "<IPython.core.display.HTML object>"
      ]
     },
     "metadata": {},
     "output_type": "display_data"
    },
    {
     "data": {
      "text/html": [
       "#19, 5972 <b>IF </b>  <span style=\"background-color: rgb(221,234,246); color:black;\">property is car or other</span>  <span style=\"background-color: rgb(254,228,216); color:black;\">savings is unknown/no savings account or < 100 DM</span>  <span style=\"background-color: rgb(252,202,182); color:black;\">purpose is not car (new) and car (used)</span>  <span style=\"background-color: rgb(219,233,246); color:black;\">housing is own</span>  <span style=\"background-color: rgb(253,207,188); color:black;\">duration >= 11</span>  <span style=\"background-color: rgb(252,193,169); color:black;\">employment_duration is unemployed or < 1 yr</span>  <span style=\"background-color: rgb(203,222,240); color:black;\">status is not no checking account</span>  <span style=\"background-color: rgb(219,233,246); color:black;\">other_installment_plans is none</span> <b>THEN </b> accept"
      ],
      "text/plain": [
       "<IPython.core.display.HTML object>"
      ]
     },
     "metadata": {},
     "output_type": "display_data"
    },
    {
     "data": {
      "text/html": [
       "#20, 1580 <b>IF </b>  <span style=\"background-color: rgb(253,214,197); color:black;\">purpose is not car (used) and furniture/equipment</span>  <span style=\"background-color: rgb(219,233,246); color:black;\">housing is own</span>  <span style=\"background-color: rgb(252,195,172); color:black;\">status is not ... >= 200 DM (salary)</span>  <span style=\"background-color: rgb(254,224,210); color:black;\">job is skilled employee / official</span>  <span style=\"background-color: rgb(254,228,216); color:black;\">savings is unknown/no savings account</span>  <span style=\"background-color: rgb(225,237,248); color:black;\">amount <= 4802</span>  <span style=\"background-color: rgb(253,213,195); color:black;\">telephone is No</span>  <span style=\"background-color: rgb(187,214,235); color:white;\">credit_history is all credits at this bank paid back duly</span> <b>THEN </b> accept"
      ],
      "text/plain": [
       "<IPython.core.display.HTML object>"
      ]
     },
     "metadata": {},
     "output_type": "display_data"
    },
    {
     "data": {
      "text/html": [
       "#21, 1742 <b>IF </b>  <span style=\"background-color: rgb(187,214,235); color:white;\">credit_history is all credits at this bank paid back duly</span>  <span style=\"background-color: rgb(225,236,247); color:black;\">job is not management/ self-employed/ highly qualified employee/ officer</span>  <span style=\"background-color: rgb(253,213,195); color:black;\">telephone is No</span>  <span style=\"background-color: rgb(251,141,109); color:white;\">property is unknown / no property</span> <b>THEN </b> accept"
      ],
      "text/plain": [
       "<IPython.core.display.HTML object>"
      ]
     },
     "metadata": {},
     "output_type": "display_data"
    },
    {
     "data": {
      "text/html": [
       "#22, 3056 <b>IF </b>  <span style=\"background-color: rgb(252,178,151); color:white;\">property is car or other</span>  <span style=\"background-color: rgb(253,208,189); color:black;\">purpose is furniture/equipment</span>  <span style=\"background-color: rgb(252,195,172); color:black;\">status is not ... >= 200 DM (salary)</span>  <span style=\"background-color: rgb(253,212,194); color:black;\">duration >= 9</span>  <span style=\"background-color: rgb(252,192,168); color:black;\">credit_history is not all credits at this bank paid back duly</span>  <span style=\"background-color: rgb(254,224,210); color:black;\">job is skilled employee / official</span>  <span style=\"background-color: rgb(223,235,247); color:black;\">employment_duration is not unemployed and < 1 yr</span>  <span style=\"background-color: rgb(254,225,212); color:black;\">housing is not rent</span>  <span style=\"background-color: rgb(254,228,216); color:black;\">savings is unknown/no savings account</span> <b>THEN </b> accept"
      ],
      "text/plain": [
       "<IPython.core.display.HTML object>"
      ]
     },
     "metadata": {},
     "output_type": "display_data"
    },
    {
     "data": {
      "text/html": [
       "#23, 5327 <b>IF </b>  <span style=\"background-color: rgb(253,213,195); color:black;\">telephone is No</span>  <span style=\"background-color: rgb(251,127,95); color:white;\">purpose is others</span>  <span style=\"background-color: rgb(253,219,203); color:black;\">duration >= 8</span>  <span style=\"background-color: rgb(167,206,228); color:white;\">status is not no checking account and ... < 0 DM</span>  <span style=\"background-color: rgb(226,237,248); color:black;\">present_residence is not 4 to 7 yrs and >= 7 yrs</span>  <span style=\"background-color: rgb(254,224,210); color:black;\">amount >= 1530</span> <b>THEN </b> accept"
      ],
      "text/plain": [
       "<IPython.core.display.HTML object>"
      ]
     },
     "metadata": {},
     "output_type": "display_data"
    },
    {
     "data": {
      "text/html": [
       "#24, 6552 <b>IF </b>  <span style=\"background-color: rgb(252,193,169); color:black;\">installment_rate is not < 20 and 20 to 25</span>  <span style=\"background-color: rgb(209,226,242); color:black;\">property is real estate</span>  <span style=\"background-color: rgb(252,201,180); color:black;\">other_debtors is not guarantor</span>  <span style=\"background-color: rgb(223,235,247); color:black;\">amount <= 1772</span>  <span style=\"background-color: rgb(252,195,172); color:black;\">status is not ... >= 200 DM (salary)</span>  <span style=\"background-color: rgb(252,193,169); color:black;\">employment_duration is unemployed or < 1 yr</span> <b>THEN </b> accept"
      ],
      "text/plain": [
       "<IPython.core.display.HTML object>"
      ]
     },
     "metadata": {},
     "output_type": "display_data"
    },
    {
     "data": {
      "text/html": [
       "#25, 1238 <b>IF </b>  <span style=\"background-color: rgb(252,191,166); color:white;\">savings is unknown/no savings account or < 100 DM</span>  <span style=\"background-color: rgb(252,195,172); color:black;\">status is not ... >= 200 DM (salary)</span>  <span style=\"background-color: rgb(252,201,180); color:black;\">other_debtors is not guarantor</span>  <span style=\"background-color: rgb(219,233,246); color:black;\">housing is own</span>  <span style=\"background-color: rgb(252,193,169); color:black;\">installment_rate is not < 20 and 20 to 25</span>  <span style=\"background-color: rgb(219,233,246); color:black;\">other_installment_plans is none</span>  <span style=\"background-color: rgb(221,234,246); color:black;\">property is not unknown / no property</span>  <span style=\"background-color: rgb(252,205,185); color:black;\">personal_status_sex is not married male</span>  <span style=\"background-color: rgb(211,227,243); color:black;\">duration <= 21</span>  <span style=\"background-color: rgb(254,225,212); color:black;\">amount >= 1260</span> <b>THEN </b> accept"
      ],
      "text/plain": [
       "<IPython.core.display.HTML object>"
      ]
     },
     "metadata": {},
     "output_type": "display_data"
    },
    {
     "data": {
      "text/html": [
       "#26, 6017 <b>IF </b>  <span style=\"background-color: rgb(254,225,212); color:black;\">housing is not rent</span>  <span style=\"background-color: rgb(252,205,185); color:black;\">personal_status_sex is not married male</span>  <span style=\"background-color: rgb(225,236,247); color:black;\">job is not management/ self-employed/ highly qualified employee/ officer</span>  <span style=\"background-color: rgb(251,141,109); color:white;\">property is unknown / no property</span>  <span style=\"background-color: rgb(225,236,247); color:black;\">telephone is Yes</span> <b>THEN </b> accept"
      ],
      "text/plain": [
       "<IPython.core.display.HTML object>"
      ]
     },
     "metadata": {},
     "output_type": "display_data"
    },
    {
     "data": {
      "text/html": [
       "#27, 9127 <b>IF </b>  <span style=\"background-color: rgb(252,172,144); color:white;\">duration >= 15</span>  <span style=\"background-color: rgb(226,237,248); color:black;\">other_installment_plans is not bank</span>  <span style=\"background-color: rgb(254,226,213); color:black;\">present_residence is not < 1 yr and 1 to 4 yrs</span>  <span style=\"background-color: rgb(252,205,185); color:black;\">age <= 34</span>  <span style=\"background-color: rgb(253,213,195); color:black;\">telephone is No</span>  <span style=\"background-color: rgb(221,234,246); color:black;\">credit_history is not delay in paying off in the past</span>  <span style=\"background-color: rgb(245,83,59); color:white;\">status is no checking account</span>  <span style=\"background-color: rgb(253,219,203); color:black;\">amount >= 2649</span> <b>THEN </b> accept"
      ],
      "text/plain": [
       "<IPython.core.display.HTML object>"
      ]
     },
     "metadata": {},
     "output_type": "display_data"
    },
    {
     "data": {
      "text/html": [
       "#28, 7753 <b>IF </b>  <span style=\"background-color: rgb(252,199,177); color:black;\">property is not real estate</span>  <span style=\"background-color: rgb(254,224,210); color:black;\">purpose is not furniture/equipment</span>  <span style=\"background-color: rgb(254,228,216); color:black;\">savings is >= 1000 DM</span>  <span style=\"background-color: rgb(252,192,168); color:black;\">credit_history is not all credits at this bank paid back duly</span>  <span style=\"background-color: rgb(253,212,194); color:black;\">amount >= 6331</span> <b>THEN </b> accept"
      ],
      "text/plain": [
       "<IPython.core.display.HTML object>"
      ]
     },
     "metadata": {},
     "output_type": "display_data"
    },
    {
     "data": {
      "text/html": [
       "#29, 2866 <b>IF </b>  <span style=\"background-color: rgb(253,213,195); color:black;\">telephone is No</span>  <span style=\"background-color: rgb(253,219,203); color:black;\">purpose is not furniture/equipment</span>  <span style=\"background-color: rgb(254,228,216); color:black;\">foreign_worker is No</span>  <span style=\"background-color: rgb(252,195,172); color:black;\">status is not ... >= 200 DM (salary)</span>  <span style=\"background-color: rgb(219,233,246); color:black;\">housing is own</span>  <span style=\"background-color: rgb(252,205,185); color:black;\">personal_status_sex is not married male</span>  <span style=\"background-color: rgb(253,222,208); color:black;\">number_credits is not 2 to 3</span>  <span style=\"background-color: rgb(225,237,248); color:black;\">age >= 23</span>  <span style=\"background-color: rgb(212,228,243); color:black;\">installment_rate is not 25 to 35 and >= 35</span> <b>THEN </b> accept"
      ],
      "text/plain": [
       "<IPython.core.display.HTML object>"
      ]
     },
     "metadata": {},
     "output_type": "display_data"
    },
    {
     "data": {
      "text/html": [
       "#30, 7253 <b>IF </b>  <span style=\"background-color: rgb(252,176,148); color:white;\">housing is not own</span>  <span style=\"background-color: rgb(252,193,169); color:black;\">installment_rate is not < 20 and 20 to 25</span>  <span style=\"background-color: rgb(253,213,195); color:black;\">telephone is No</span>  <span style=\"background-color: rgb(221,234,246); color:black;\">purpose is car (used)</span>  <span style=\"background-color: rgb(254,228,216); color:black;\">savings is unknown/no savings account</span> <b>THEN </b> accept"
      ],
      "text/plain": [
       "<IPython.core.display.HTML object>"
      ]
     },
     "metadata": {},
     "output_type": "display_data"
    },
    {
     "data": {
      "text/html": [
       "#31, 7516 <b>IF </b>  <span style=\"background-color: rgb(219,233,246); color:black;\">housing is own</span>  <span style=\"background-color: rgb(252,199,177); color:black;\">property is not real estate</span>  <span style=\"background-color: rgb(254,227,215); color:black;\">credit_history is no credits taken/all credits paid back duly</span>  <span style=\"background-color: rgb(225,237,248); color:black;\">purpose is furniture/equipment</span>  <span style=\"background-color: rgb(252,175,147); color:white;\">status is not 0 to 200 DM and ... >= 200 DM (salary)</span>  <span style=\"background-color: rgb(225,237,248); color:black;\">amount <= 4170</span>  <span style=\"background-color: rgb(252,176,148); color:white;\">installment_rate is >= 35</span>  <span style=\"background-color: rgb(254,228,216); color:black;\">savings is unknown/no savings account</span> <b>THEN </b> accept"
      ],
      "text/plain": [
       "<IPython.core.display.HTML object>"
      ]
     },
     "metadata": {},
     "output_type": "display_data"
    },
    {
     "data": {
      "text/html": [
       "#32, 2525 <b>IF </b>  <span style=\"background-color: rgb(221,234,246); color:black;\">purpose is not others and repairs</span>  <span style=\"background-color: rgb(252,195,172); color:black;\">status is not ... >= 200 DM (salary)</span>  <span style=\"background-color: rgb(252,201,180); color:black;\">other_debtors is not guarantor</span>  <span style=\"background-color: rgb(195,217,238); color:white;\">duration <= 11</span>  <span style=\"background-color: rgb(226,237,248); color:black;\">present_residence is not >= 7 yrs</span>  <span style=\"background-color: rgb(253,213,195); color:black;\">telephone is No</span>  <span style=\"background-color: rgb(224,236,247); color:black;\">amount <= 2525</span>  <span style=\"background-color: rgb(221,234,246); color:black;\">age >= 27</span> <b>THEN </b> accept"
      ],
      "text/plain": [
       "<IPython.core.display.HTML object>"
      ]
     },
     "metadata": {},
     "output_type": "display_data"
    },
    {
     "data": {
      "text/html": [
       "#33, 4757 <b>IF </b>  <span style=\"background-color: rgb(253,216,200); color:black;\">amount in 4146 to 7489</span>  <span style=\"background-color: rgb(253,219,203); color:black;\">purpose is not others and car (new) and furniture/equipment</span>  <span style=\"background-color: rgb(254,228,216); color:black;\">savings is not >= 1000 DM</span>  <span style=\"background-color: rgb(220,233,246); color:black;\">age >= 30</span>  <span style=\"background-color: rgb(226,237,248); color:black;\">present_residence is not 4 to 7 yrs and >= 7 yrs</span> <b>THEN </b> accept"
      ],
      "text/plain": [
       "<IPython.core.display.HTML object>"
      ]
     },
     "metadata": {},
     "output_type": "display_data"
    },
    {
     "data": {
      "text/html": [
       "#34, 7047 <b>IF </b>  <span style=\"background-color: rgb(225,236,247); color:black;\">telephone is Yes</span>  <span style=\"background-color: rgb(221,234,246); color:black;\">credit_history is not critical account/other credits elsewhere and no credits taken/all credits paid back duly</span>  <span style=\"background-color: rgb(253,207,188); color:black;\">other_installment_plans is bank</span>  <span style=\"background-color: rgb(225,236,247); color:black;\">job is not management/ self-employed/ highly qualified employee/ officer</span> <b>THEN </b> accept"
      ],
      "text/plain": [
       "<IPython.core.display.HTML object>"
      ]
     },
     "metadata": {},
     "output_type": "display_data"
    },
    {
     "data": {
      "text/html": [
       "#35, 4993 <b>IF </b>  <span style=\"background-color: rgb(221,234,246); color:black;\">other_debtors is not none</span>  <span style=\"background-color: rgb(225,237,248); color:black;\">amount <= 3958</span>  <span style=\"background-color: rgb(252,176,148); color:white;\">housing is not own</span> <b>THEN </b> accept"
      ],
      "text/plain": [
       "<IPython.core.display.HTML object>"
      ]
     },
     "metadata": {},
     "output_type": "display_data"
    },
    {
     "data": {
      "text/html": [
       "#36, 540 <b>IF </b>  <span style=\"background-color: rgb(253,219,203); color:black;\">purpose is not furniture/equipment</span>  <span style=\"background-color: rgb(252,164,135); color:white;\">credit_history is not existing credits paid back duly till now and all credits at this bank paid back duly</span>  <span style=\"background-color: rgb(254,228,216); color:black;\">savings is not unknown/no savings account and >= 1000 DM</span>  <span style=\"background-color: rgb(254,228,216); color:black;\">people_liable is 0 to 2</span>  <span style=\"background-color: rgb(252,205,185); color:black;\">personal_status_sex is not married male</span>  <span style=\"background-color: rgb(254,225,211); color:black;\">amount >= 1398</span> <b>THEN </b> accept"
      ],
      "text/plain": [
       "<IPython.core.display.HTML object>"
      ]
     },
     "metadata": {},
     "output_type": "display_data"
    },
    {
     "data": {
      "text/html": [
       "#37, 846 <b>IF </b>  <span style=\"background-color: rgb(252,195,172); color:black;\">status is not ... >= 200 DM (salary)</span>  <span style=\"background-color: rgb(252,199,177); color:black;\">property is not real estate</span>  <span style=\"background-color: rgb(253,213,195); color:black;\">telephone is No</span>  <span style=\"background-color: rgb(221,234,246); color:black;\">purpose is car (used)</span>  <span style=\"background-color: rgb(254,227,215); color:black;\">credit_history is no credits taken/all credits paid back duly</span>  <span style=\"background-color: rgb(252,182,156); color:white;\">duration >= 13</span>  <span style=\"background-color: rgb(253,220,205); color:black;\">personal_status_sex is married male</span> <b>THEN </b> accept"
      ],
      "text/plain": [
       "<IPython.core.display.HTML object>"
      ]
     },
     "metadata": {},
     "output_type": "display_data"
    },
    {
     "data": {
      "text/html": [
       "#38, 5670 <b>IF </b>  <span style=\"background-color: rgb(252,198,175); color:black;\">savings is not 500 to 1000 DM and >= 1000 DM</span>  <span style=\"background-color: rgb(252,195,172); color:black;\">housing is for free</span>  <span style=\"background-color: rgb(252,205,185); color:black;\">personal_status_sex is not married male</span>  <span style=\"background-color: rgb(219,233,246); color:black;\">other_installment_plans is none</span> <b>THEN </b> accept"
      ],
      "text/plain": [
       "<IPython.core.display.HTML object>"
      ]
     },
     "metadata": {},
     "output_type": "display_data"
    },
    {
     "data": {
      "text/html": [
       "#39, 1650 <b>IF </b>  <span style=\"background-color: rgb(252,176,148); color:white;\">housing is not own</span>  <span style=\"background-color: rgb(225,236,247); color:black;\">telephone is Yes</span>  <span style=\"background-color: rgb(252,192,168); color:black;\">credit_history is not all credits at this bank paid back duly</span>  <span style=\"background-color: rgb(252,175,147); color:white;\">status is not 0 to 200 DM and ... >= 200 DM (salary)</span>  <span style=\"background-color: rgb(224,236,247); color:black;\">age >= 25</span>  <span style=\"background-color: rgb(226,237,248); color:black;\">amount <= 7493</span> <b>THEN </b> accept"
      ],
      "text/plain": [
       "<IPython.core.display.HTML object>"
      ]
     },
     "metadata": {},
     "output_type": "display_data"
    },
    {
     "data": {
      "text/html": [
       "#40, 5506 <b>IF </b>  <span style=\"background-color: rgb(252,191,166); color:white;\">savings is unknown/no savings account or < 100 DM</span>  <span style=\"background-color: rgb(253,213,195); color:black;\">telephone is No</span>  <span style=\"background-color: rgb(254,227,215); color:black;\">present_residence is not < 1 yr</span>  <span style=\"background-color: rgb(253,220,205); color:black;\">personal_status_sex is married male</span>  <span style=\"background-color: rgb(224,236,247); color:black;\">age >= 25</span>  <span style=\"background-color: rgb(252,192,168); color:black;\">credit_history is not all credits at this bank paid back duly</span>  <span style=\"background-color: rgb(219,233,246); color:black;\">other_installment_plans is none</span>  <span style=\"background-color: rgb(253,212,194); color:black;\">other_debtors is none</span>  <span style=\"background-color: rgb(220,233,246); color:black;\">job is unskilled - resident</span> <b>THEN </b> accept"
      ],
      "text/plain": [
       "<IPython.core.display.HTML object>"
      ]
     },
     "metadata": {},
     "output_type": "display_data"
    },
    {
     "data": {
      "text/html": [
       "#41, 4208 <b>IF </b>  <span style=\"background-color: rgb(252,195,172); color:black;\">status is not ... >= 200 DM (salary)</span>  <span style=\"background-color: rgb(252,176,148); color:white;\">housing is rent</span>  <span style=\"background-color: rgb(209,226,242); color:black;\">duration <= 18</span>  <span style=\"background-color: rgb(253,222,208); color:black;\">number_credits is not 2 to 3</span>  <span style=\"background-color: rgb(252,190,165); color:white;\">age <= 27</span>  <span style=\"background-color: rgb(254,225,211); color:black;\">amount >= 1321</span> <b>THEN </b> accept"
      ],
      "text/plain": [
       "<IPython.core.display.HTML object>"
      ]
     },
     "metadata": {},
     "output_type": "display_data"
    },
    {
     "data": {
      "text/html": [
       "#42, 1223 <b>IF </b>  <span style=\"background-color: rgb(252,191,166); color:white;\">savings is unknown/no savings account or < 100 DM</span>  <span style=\"background-color: rgb(252,195,172); color:black;\">status is not ... >= 200 DM (salary)</span>  <span style=\"background-color: rgb(252,201,180); color:black;\">other_debtors is not guarantor</span>  <span style=\"background-color: rgb(252,176,148); color:white;\">housing is rent</span>  <span style=\"background-color: rgb(254,224,210); color:black;\">job is skilled employee / official</span>  <span style=\"background-color: rgb(253,223,209); color:black;\">credit_history is not no credits taken/all credits paid back duly</span> <b>THEN </b> reject"
      ],
      "text/plain": [
       "<IPython.core.display.HTML object>"
      ]
     },
     "metadata": {},
     "output_type": "display_data"
    },
    {
     "data": {
      "text/html": [
       "#43, 6596 <b>IF </b>  <span style=\"background-color: rgb(253,214,197); color:black;\">credit_history is not existing credits paid back duly till now</span>  <span style=\"background-color: rgb(251,127,95); color:white;\">purpose is others</span>  <span style=\"background-color: rgb(253,223,209); color:black;\">job is not unskilled - resident</span>  <span style=\"background-color: rgb(253,213,195); color:black;\">telephone is No</span>  <span style=\"background-color: rgb(252,175,147); color:white;\">status is not 0 to 200 DM and ... >= 200 DM (salary)</span>  <span style=\"background-color: rgb(254,228,216); color:black;\">savings is unknown/no savings account or < 100 DM</span>  <span style=\"background-color: rgb(253,220,205); color:black;\">personal_status_sex is married male</span>  <span style=\"background-color: rgb(226,237,248); color:black;\">present_residence is not >= 7 yrs</span> <b>THEN </b> accept"
      ],
      "text/plain": [
       "<IPython.core.display.HTML object>"
      ]
     },
     "metadata": {},
     "output_type": "display_data"
    },
    {
     "data": {
      "text/html": [
       "#44, 6306 <b>IF </b>  <span style=\"background-color: rgb(187,214,235); color:white;\">credit_history is all credits at this bank paid back duly</span>  <span style=\"background-color: rgb(252,205,185); color:black;\">housing is not rent</span>  <span style=\"background-color: rgb(254,228,216); color:black;\">savings is not >= 1000 DM</span>  <span style=\"background-color: rgb(254,228,216); color:black;\">people_liable is 0 to 2</span>  <span style=\"background-color: rgb(249,100,70); color:white;\">duration >= 39</span> <b>THEN </b> reject"
      ],
      "text/plain": [
       "<IPython.core.display.HTML object>"
      ]
     },
     "metadata": {},
     "output_type": "display_data"
    },
    {
     "data": {
      "text/html": [
       "#45, 2784 <b>IF </b>  <span style=\"background-color: rgb(252,172,144); color:white;\">duration >= 15</span>  <span style=\"background-color: rgb(226,237,248); color:black;\">job is not skilled employee / official</span>  <span style=\"background-color: rgb(253,219,203); color:black;\">purpose is not furniture/equipment</span>  <span style=\"background-color: rgb(254,224,210); color:black;\">amount >= 1550</span>  <span style=\"background-color: rgb(254,228,216); color:black;\">savings is unknown/no savings account</span>  <span style=\"background-color: rgb(209,226,242); color:black;\">property is real estate</span> <b>THEN </b> accept"
      ],
      "text/plain": [
       "<IPython.core.display.HTML object>"
      ]
     },
     "metadata": {},
     "output_type": "display_data"
    },
    {
     "data": {
      "text/html": [
       "#46, 5545 <b>IF </b>  <span style=\"background-color: rgb(254,228,216); color:black;\">savings is unknown/no savings account</span>  <span style=\"background-color: rgb(252,195,172); color:black;\">status is not ... >= 200 DM (salary)</span>  <span style=\"background-color: rgb(218,232,245); color:black;\">employment_duration is 4 to 7 yrs or >= 7 yrs</span>  <span style=\"background-color: rgb(253,209,191); color:black;\">housing is not for free</span>  <span style=\"background-color: rgb(253,219,203); color:black;\">purpose is not furniture/equipment</span>  <span style=\"background-color: rgb(253,213,195); color:black;\">telephone is No</span>  <span style=\"background-color: rgb(225,236,247); color:black;\">amount <= 3575</span>  <span style=\"background-color: rgb(187,214,235); color:white;\">credit_history is all credits at this bank paid back duly</span> <b>THEN </b> accept"
      ],
      "text/plain": [
       "<IPython.core.display.HTML object>"
      ]
     },
     "metadata": {},
     "output_type": "display_data"
    },
    {
     "data": {
      "text/html": [
       "#47, 3477 <b>IF </b>  <span style=\"background-color: rgb(225,236,247); color:black;\">telephone is Yes</span>  <span style=\"background-color: rgb(253,215,199); color:black;\">amount >= 3713</span>  <span style=\"background-color: rgb(203,222,240); color:black;\">savings is not unknown/no savings account and < 100 DM</span>  <span style=\"background-color: rgb(226,237,248); color:black;\">present_residence is not >= 7 yrs</span> <b>THEN </b> accept"
      ],
      "text/plain": [
       "<IPython.core.display.HTML object>"
      ]
     },
     "metadata": {},
     "output_type": "display_data"
    },
    {
     "data": {
      "text/html": [
       "#48, 1623 <b>IF </b>  <span style=\"background-color: rgb(253,213,195); color:black;\">telephone is No</span>  <span style=\"background-color: rgb(252,175,147); color:white;\">status is not 0 to 200 DM and ... >= 200 DM (salary)</span>  <span style=\"background-color: rgb(254,227,215); color:black;\">present_residence is not < 1 yr</span>  <span style=\"background-color: rgb(253,218,202); color:black;\">property is not building soc. savings agr./life insurance</span>  <span style=\"background-color: rgb(195,217,238); color:white;\">duration <= 11</span>  <span style=\"background-color: rgb(252,176,148); color:white;\">housing is not own</span> <b>THEN </b> accept"
      ],
      "text/plain": [
       "<IPython.core.display.HTML object>"
      ]
     },
     "metadata": {},
     "output_type": "display_data"
    },
    {
     "data": {
      "text/html": [
       "#49, 2293 <b>IF </b>  <span style=\"background-color: rgb(252,195,172); color:black;\">status is not ... >= 200 DM (salary)</span>  <span style=\"background-color: rgb(253,212,194); color:black;\">other_debtors is none</span>  <span style=\"background-color: rgb(253,213,195); color:black;\">telephone is No</span>  <span style=\"background-color: rgb(254,225,211); color:black;\">property is not car or other</span>  <span style=\"background-color: rgb(203,222,240); color:black;\">duration <= 12</span>  <span style=\"background-color: rgb(254,228,216); color:black;\">savings is unknown/no savings account or < 100 DM</span>  <span style=\"background-color: rgb(226,237,248); color:black;\">present_residence is not >= 7 yrs</span>  <span style=\"background-color: rgb(253,221,206); color:black;\">employment_duration is 1 to 4 yrs</span> <b>THEN </b> accept"
      ],
      "text/plain": [
       "<IPython.core.display.HTML object>"
      ]
     },
     "metadata": {},
     "output_type": "display_data"
    },
    {
     "data": {
      "text/html": [
       "#50, 6800 <b>IF </b>  <span style=\"background-color: rgb(158,202,225); color:white;\">status is ... >= 200 DM (salary)</span>  <span style=\"background-color: rgb(252,172,144); color:white;\">duration >= 16</span>  <span style=\"background-color: rgb(225,236,247); color:black;\">age >= 24</span>  <span style=\"background-color: rgb(226,237,248); color:black;\">present_residence is not 4 to 7 yrs and >= 7 yrs</span>  <span style=\"background-color: rgb(251,138,106); color:white;\">purpose is retraining</span> <b>THEN </b> accept"
      ],
      "text/plain": [
       "<IPython.core.display.HTML object>"
      ]
     },
     "metadata": {},
     "output_type": "display_data"
    },
    {
     "data": {
      "text/html": [
       "#51, 6744 <b>IF </b>  <span style=\"background-color: rgb(252,199,177); color:black;\">property is not real estate</span>  <span style=\"background-color: rgb(253,213,195); color:black;\">telephone is No</span>  <span style=\"background-color: rgb(187,214,235); color:white;\">credit_history is all credits at this bank paid back duly</span>  <span style=\"background-color: rgb(220,233,246); color:black;\">job is unskilled - resident</span> <b>THEN </b> accept"
      ],
      "text/plain": [
       "<IPython.core.display.HTML object>"
      ]
     },
     "metadata": {},
     "output_type": "display_data"
    },
    {
     "data": {
      "text/html": [
       "#52, 4001 <b>IF </b>  <span style=\"background-color: rgb(219,233,246); color:black;\">other_installment_plans is none</span>  <span style=\"background-color: rgb(226,237,248); color:black;\">purpose is not retraining</span>  <span style=\"background-color: rgb(253,220,205); color:black;\">personal_status_sex is married male</span>  <span style=\"background-color: rgb(253,213,195); color:black;\">amount >= 6048</span>  <span style=\"background-color: rgb(253,209,191); color:black;\">housing is not for free</span>  <span style=\"background-color: rgb(254,227,215); color:black;\">credit_history is no credits taken/all credits paid back duly</span> <b>THEN </b> accept"
      ],
      "text/plain": [
       "<IPython.core.display.HTML object>"
      ]
     },
     "metadata": {},
     "output_type": "display_data"
    },
    {
     "data": {
      "text/html": [
       "#53, 608 <b>IF </b>  <span style=\"background-color: rgb(252,198,175); color:black;\">savings is not 500 to 1000 DM and >= 1000 DM</span>  <span style=\"background-color: rgb(252,195,172); color:black;\">duration in 12 to 37</span>  <span style=\"background-color: rgb(252,175,147); color:white;\">status is not 0 to 200 DM and ... >= 200 DM (salary)</span>  <span style=\"background-color: rgb(254,224,210); color:black;\">job is skilled employee / official</span>  <span style=\"background-color: rgb(253,220,205); color:black;\">personal_status_sex is married male</span>  <span style=\"background-color: rgb(253,212,194); color:black;\">employment_duration is not 4 to 7 yrs and >= 7 yrs</span>  <span style=\"background-color: rgb(221,234,246); color:black;\">purpose is car (used)</span> <b>THEN </b> accept"
      ],
      "text/plain": [
       "<IPython.core.display.HTML object>"
      ]
     },
     "metadata": {},
     "output_type": "display_data"
    },
    {
     "data": {
      "text/html": [
       "#54, 5449 <b>IF </b>  <span style=\"background-color: rgb(252,195,172); color:black;\">status is not no checking account and ... >= 200 DM (salary)</span>  <span style=\"background-color: rgb(253,219,203); color:black;\">age <= 43</span>  <span style=\"background-color: rgb(254,226,213); color:black;\">number_credits is 1</span>  <span style=\"background-color: rgb(252,205,185); color:black;\">personal_status_sex is not married male</span>  <span style=\"background-color: rgb(226,237,248); color:black;\">job is not skilled employee / official</span>  <span style=\"background-color: rgb(223,235,247); color:black;\">employment_duration is not unemployed and < 1 yr</span> <b>THEN </b> accept"
      ],
      "text/plain": [
       "<IPython.core.display.HTML object>"
      ]
     },
     "metadata": {},
     "output_type": "display_data"
    },
    {
     "data": {
      "text/html": [
       "#55, 7594 <b>IF </b>  <span style=\"background-color: rgb(220,233,246); color:black;\">property is not building soc. savings agr./life insurance and unknown / no property</span>  <span style=\"background-color: rgb(252,202,182); color:black;\">age <= 33</span>  <span style=\"background-color: rgb(254,225,212); color:black;\">housing is not rent</span>  <span style=\"background-color: rgb(253,213,195); color:black;\">telephone is No</span>  <span style=\"background-color: rgb(223,235,247); color:black;\">employment_duration is not unemployed and < 1 yr</span>  <span style=\"background-color: rgb(252,154,123); color:white;\">other_installment_plans is bank</span> <b>THEN </b> accept"
      ],
      "text/plain": [
       "<IPython.core.display.HTML object>"
      ]
     },
     "metadata": {},
     "output_type": "display_data"
    },
    {
     "data": {
      "text/html": [
       "#56, 5566 <b>IF </b>  <span style=\"background-color: rgb(188,215,235); color:white;\">savings is 500 to 1000 DM or >= 1000 DM</span>  <span style=\"background-color: rgb(254,225,212); color:black;\">housing is not rent</span>  <span style=\"background-color: rgb(251,127,95); color:white;\">purpose is others</span>  <span style=\"background-color: rgb(252,199,177); color:black;\">property is not real estate</span>  <span style=\"background-color: rgb(224,236,247); color:black;\">amount <= 2496</span> <b>THEN </b> accept"
      ],
      "text/plain": [
       "<IPython.core.display.HTML object>"
      ]
     },
     "metadata": {},
     "output_type": "display_data"
    },
    {
     "data": {
      "text/html": [
       "#57, 1793 <b>IF </b>  <span style=\"background-color: rgb(252,184,157); color:white;\">other_installment_plans is bank</span>  <span style=\"background-color: rgb(252,175,147); color:white;\">status is not 0 to 200 DM and ... >= 200 DM (salary)</span>  <span style=\"background-color: rgb(254,227,215); color:black;\">credit_history is no credits taken/all credits paid back duly</span> <b>THEN </b> accept"
      ],
      "text/plain": [
       "<IPython.core.display.HTML object>"
      ]
     },
     "metadata": {},
     "output_type": "display_data"
    },
    {
     "data": {
      "text/html": [
       "#58, 6255 <b>IF </b>  <span style=\"background-color: rgb(252,172,144); color:white;\">duration >= 15</span>  <span style=\"background-color: rgb(253,214,197); color:black;\">property is car or other</span>  <span style=\"background-color: rgb(254,225,212); color:black;\">housing is not rent</span>  <span style=\"background-color: rgb(253,213,195); color:black;\">credit_history is not delay in paying off in the past and all credits at this bank paid back duly</span>  <span style=\"background-color: rgb(254,228,216); color:black;\">people_liable is 0 to 2</span>  <span style=\"background-color: rgb(253,220,205); color:black;\">amount >= 2418</span>  <span style=\"background-color: rgb(223,235,247); color:black;\">employment_duration is not unemployed and < 1 yr</span>  <span style=\"background-color: rgb(254,226,213); color:black;\">present_residence is not < 1 yr and 1 to 4 yrs</span> <b>THEN </b> accept"
      ],
      "text/plain": [
       "<IPython.core.display.HTML object>"
      ]
     },
     "metadata": {},
     "output_type": "display_data"
    },
    {
     "data": {
      "text/html": [
       "#59, 3394 <b>IF </b>  <span style=\"background-color: rgb(252,192,168); color:black;\">credit_history is not all credits at this bank paid back duly</span>  <span style=\"background-color: rgb(212,228,243); color:black;\">installment_rate is 20 to 25</span>  <span style=\"background-color: rgb(221,234,246); color:black;\">purpose is car (used)</span>  <span style=\"background-color: rgb(252,172,144); color:white;\">duration >= 15</span> <b>THEN </b> accept"
      ],
      "text/plain": [
       "<IPython.core.display.HTML object>"
      ]
     },
     "metadata": {},
     "output_type": "display_data"
    },
    {
     "data": {
      "text/html": [
       "#60, 2534 <b>IF </b>  <span style=\"background-color: rgb(225,237,248); color:black;\">purpose is not others</span>  <span style=\"background-color: rgb(252,195,172); color:black;\">status is not ... >= 200 DM (salary)</span>  <span style=\"background-color: rgb(252,201,180); color:black;\">other_debtors is not guarantor</span>  <span style=\"background-color: rgb(209,226,242); color:black;\">duration <= 18</span>  <span style=\"background-color: rgb(254,225,212); color:black;\">present_residence is >= 7 yrs</span>  <span style=\"background-color: rgb(254,227,215); color:black;\">credit_history is no credits taken/all credits paid back duly</span>  <span style=\"background-color: rgb(225,236,247); color:black;\">telephone is Yes</span> <b>THEN </b> accept"
      ],
      "text/plain": [
       "<IPython.core.display.HTML object>"
      ]
     },
     "metadata": {},
     "output_type": "display_data"
    },
    {
     "data": {
      "text/html": [
       "#61, 5067 <b>IF </b>  <span style=\"background-color: rgb(252,193,169); color:black;\">installment_rate is not < 20 and 20 to 25</span>  <span style=\"background-color: rgb(254,225,211); color:black;\">property is not real estate and unknown / no property</span>  <span style=\"background-color: rgb(219,233,246); color:black;\">other_installment_plans is none</span>  <span style=\"background-color: rgb(252,176,148); color:white;\">housing is not own</span>  <span style=\"background-color: rgb(252,205,185); color:black;\">personal_status_sex is not married male</span>  <span style=\"background-color: rgb(225,237,248); color:black;\">purpose is not others</span>  <span style=\"background-color: rgb(225,236,247); color:black;\">telephone is Yes</span> <b>THEN </b> accept"
      ],
      "text/plain": [
       "<IPython.core.display.HTML object>"
      ]
     },
     "metadata": {},
     "output_type": "display_data"
    },
    {
     "data": {
      "text/html": [
       "#62, 4584 <b>IF </b>  <span style=\"background-color: rgb(252,176,148); color:white;\">housing is not own</span>  <span style=\"background-color: rgb(253,213,195); color:black;\">telephone is No</span>  <span style=\"background-color: rgb(252,195,172); color:black;\">status is not ... >= 200 DM (salary)</span>  <span style=\"background-color: rgb(253,222,208); color:black;\">job is not unskilled - resident and skilled employee / official</span> <b>THEN </b> accept"
      ],
      "text/plain": [
       "<IPython.core.display.HTML object>"
      ]
     },
     "metadata": {},
     "output_type": "display_data"
    },
    {
     "data": {
      "text/html": [
       "#63, 1385 <b>IF </b>  <span style=\"background-color: rgb(252,172,144); color:white;\">duration >= 15</span>  <span style=\"background-color: rgb(225,236,247); color:black;\">telephone is Yes</span>  <span style=\"background-color: rgb(219,233,246); color:black;\">other_debtors is not co-applicant</span>  <span style=\"background-color: rgb(226,237,248); color:black;\">other_installment_plans is not bank</span>  <span style=\"background-color: rgb(251,138,106); color:white;\">purpose is retraining</span>  <span style=\"background-color: rgb(254,224,210); color:black;\">job is skilled employee / official</span> <b>THEN </b> accept"
      ],
      "text/plain": [
       "<IPython.core.display.HTML object>"
      ]
     },
     "metadata": {},
     "output_type": "display_data"
    },
    {
     "data": {
      "text/html": [
       "#64, 1885 <b>IF </b>  <span style=\"background-color: rgb(253,213,195); color:black;\">purpose is not others and car (new) and car (used)</span>  <span style=\"background-color: rgb(252,195,172); color:black;\">status is not ... >= 200 DM (salary)</span>  <span style=\"background-color: rgb(254,228,216); color:black;\">savings is unknown/no savings account</span>  <span style=\"background-color: rgb(254,228,216); color:black;\">people_liable is 0 to 2</span>  <span style=\"background-color: rgb(253,212,194); color:black;\">employment_duration is not 4 to 7 yrs and >= 7 yrs</span>  <span style=\"background-color: rgb(253,212,194); color:black;\">other_debtors is none</span>  <span style=\"background-color: rgb(222,235,247); color:black;\">amount <= 1613</span> <b>THEN </b> accept"
      ],
      "text/plain": [
       "<IPython.core.display.HTML object>"
      ]
     },
     "metadata": {},
     "output_type": "display_data"
    },
    {
     "data": {
      "text/html": [
       "#65, 3059 <b>IF </b>  <span style=\"background-color: rgb(252,178,151); color:white;\">property is not real estate and building soc. savings agr./life insurance</span>  <span style=\"background-color: rgb(253,208,189); color:black;\">purpose is not car (new)</span>  <span style=\"background-color: rgb(252,195,172); color:black;\">status is not ... >= 200 DM (salary)</span>  <span style=\"background-color: rgb(253,212,194); color:black;\">duration >= 9</span>  <span style=\"background-color: rgb(187,214,235); color:white;\">credit_history is all credits at this bank paid back duly</span>  <span style=\"background-color: rgb(253,222,208); color:black;\">number_credits is not 2 to 3</span> <b>THEN </b> accept"
      ],
      "text/plain": [
       "<IPython.core.display.HTML object>"
      ]
     },
     "metadata": {},
     "output_type": "display_data"
    },
    {
     "data": {
      "text/html": [
       "#66, 5725 <b>IF </b>  <span style=\"background-color: rgb(225,236,247); color:black;\">telephone is Yes</span>  <span style=\"background-color: rgb(221,234,246); color:black;\">duration <= 33</span>  <span style=\"background-color: rgb(251,141,109); color:white;\">property is unknown / no property</span>  <span style=\"background-color: rgb(252,195,172); color:black;\">housing is for free</span>  <span style=\"background-color: rgb(252,175,147); color:white;\">status is not 0 to 200 DM and ... >= 200 DM (salary)</span> <b>THEN </b> accept"
      ],
      "text/plain": [
       "<IPython.core.display.HTML object>"
      ]
     },
     "metadata": {},
     "output_type": "display_data"
    },
    {
     "data": {
      "text/html": [
       "#67, 910 <b>IF </b>  <span style=\"background-color: rgb(252,199,177); color:black;\">property is building soc. savings agr./life insurance</span>  <span style=\"background-color: rgb(251,122,90); color:white;\">duration >= 25</span>  <span style=\"background-color: rgb(225,236,247); color:black;\">amount <= 3638</span> <b>THEN </b> accept"
      ],
      "text/plain": [
       "<IPython.core.display.HTML object>"
      ]
     },
     "metadata": {},
     "output_type": "display_data"
    },
    {
     "data": {
      "text/html": [
       "#68, 8455 <b>IF </b>  <span style=\"background-color: rgb(219,233,246); color:black;\">housing is own</span>  <span style=\"background-color: rgb(253,208,189); color:black;\">other_installment_plans is not bank</span>  <span style=\"background-color: rgb(252,195,172); color:black;\">status is not ... >= 200 DM (salary)</span>  <span style=\"background-color: rgb(254,228,216); color:black;\">savings is not unknown/no savings account</span>  <span style=\"background-color: rgb(253,220,205); color:black;\">personal_status_sex is married male</span>  <span style=\"background-color: rgb(251,122,90); color:white;\">duration >= 24</span> <b>THEN </b> accept"
      ],
      "text/plain": [
       "<IPython.core.display.HTML object>"
      ]
     },
     "metadata": {},
     "output_type": "display_data"
    },
    {
     "data": {
      "text/html": [
       "#69, 8004 <b>IF </b>  <span style=\"background-color: rgb(225,237,248); color:black;\">amount <= 3885</span>  <span style=\"background-color: rgb(252,176,148); color:white;\">housing is rent</span>  <span style=\"background-color: rgb(252,191,166); color:white;\">savings is unknown/no savings account or < 100 DM</span>  <span style=\"background-color: rgb(254,228,216); color:black;\">people_liable is 0 to 2</span>  <span style=\"background-color: rgb(254,225,211); color:black;\">purpose is not others and car (used) and furniture/equipment</span>  <span style=\"background-color: rgb(221,234,246); color:black;\">property is not unknown / no property</span>  <span style=\"background-color: rgb(254,224,210); color:black;\">job is skilled employee / official</span> <b>THEN </b> accept"
      ],
      "text/plain": [
       "<IPython.core.display.HTML object>"
      ]
     },
     "metadata": {},
     "output_type": "display_data"
    },
    {
     "data": {
      "text/html": [
       "#70, 6259 <b>IF </b>  <span style=\"background-color: rgb(252,172,144); color:white;\">duration >= 15</span>  <span style=\"background-color: rgb(253,214,197); color:black;\">property is car or other</span>  <span style=\"background-color: rgb(252,176,148); color:white;\">housing is rent</span>  <span style=\"background-color: rgb(245,83,59); color:white;\">status is no checking account</span> <b>THEN </b> reject"
      ],
      "text/plain": [
       "<IPython.core.display.HTML object>"
      ]
     },
     "metadata": {},
     "output_type": "display_data"
    },
    {
     "data": {
      "text/html": [
       "#71, 7643 <b>IF </b>  <span style=\"background-color: rgb(252,195,172); color:black;\">status is not ... >= 200 DM (salary)</span>  <span style=\"background-color: rgb(253,223,209); color:black;\">job is not unskilled - resident</span>  <span style=\"background-color: rgb(253,207,188); color:black;\">duration >= 11</span>  <span style=\"background-color: rgb(253,213,195); color:black;\">telephone is No</span>  <span style=\"background-color: rgb(254,225,212); color:black;\">housing is not rent</span>  <span style=\"background-color: rgb(219,233,246); color:black;\">other_installment_plans is none</span>  <span style=\"background-color: rgb(254,226,213); color:black;\">number_credits is 2 to 3</span>  <span style=\"background-color: rgb(225,237,248); color:black;\">purpose is not others</span>  <span style=\"background-color: rgb(252,176,148); color:white;\">installment_rate is >= 35</span> <b>THEN </b> accept"
      ],
      "text/plain": [
       "<IPython.core.display.HTML object>"
      ]
     },
     "metadata": {},
     "output_type": "display_data"
    },
    {
     "data": {
      "text/html": [
       "#72, 9658 <b>IF </b>  <span style=\"background-color: rgb(187,214,235); color:white;\">credit_history is all credits at this bank paid back duly</span>  <span style=\"background-color: rgb(252,201,180); color:black;\">other_debtors is not guarantor</span>  <span style=\"background-color: rgb(253,207,188); color:black;\">duration >= 11</span>  <span style=\"background-color: rgb(251,127,95); color:white;\">purpose is others</span>  <span style=\"background-color: rgb(252,195,172); color:black;\">status is not ... >= 200 DM (salary)</span> <b>THEN </b> accept"
      ],
      "text/plain": [
       "<IPython.core.display.HTML object>"
      ]
     },
     "metadata": {},
     "output_type": "display_data"
    },
    {
     "data": {
      "text/html": [
       "#73, 9123 <b>IF </b>  <span style=\"background-color: rgb(252,172,144); color:white;\">duration >= 15</span>  <span style=\"background-color: rgb(226,237,248); color:black;\">other_installment_plans is stores</span>  <span style=\"background-color: rgb(226,237,248); color:black;\">present_residence is not 4 to 7 yrs and >= 7 yrs</span>  <span style=\"background-color: rgb(254,226,213); color:black;\">number_credits is 1</span>  <span style=\"background-color: rgb(252,195,172); color:black;\">status is not ... >= 200 DM (salary)</span> <b>THEN </b> accept"
      ],
      "text/plain": [
       "<IPython.core.display.HTML object>"
      ]
     },
     "metadata": {},
     "output_type": "display_data"
    },
    {
     "data": {
      "text/html": [
       "#74, 8389 <b>IF </b>  <span style=\"background-color: rgb(205,223,241); color:black;\">duration <= 15</span>  <span style=\"background-color: rgb(219,233,246); color:black;\">other_installment_plans is none</span>  <span style=\"background-color: rgb(225,237,248); color:black;\">purpose is not others</span>  <span style=\"background-color: rgb(254,227,215); color:black;\">credit_history is no credits taken/all credits paid back duly</span>  <span style=\"background-color: rgb(254,227,214); color:black;\">amount >= 804</span>  <span style=\"background-color: rgb(252,191,166); color:white;\">other_debtors is co-applicant</span> <b>THEN </b> accept"
      ],
      "text/plain": [
       "<IPython.core.display.HTML object>"
      ]
     },
     "metadata": {},
     "output_type": "display_data"
    },
    {
     "data": {
      "text/html": [
       "#75, 1324 <b>IF </b>  <span style=\"background-color: rgb(219,233,246); color:black;\">housing is own</span>  <span style=\"background-color: rgb(253,222,208); color:black;\">purpose is not car (used)</span>  <span style=\"background-color: rgb(253,223,209); color:black;\">job is not unskilled - resident</span>  <span style=\"background-color: rgb(253,208,189); color:black;\">other_installment_plans is none</span>  <span style=\"background-color: rgb(252,197,174); color:black;\">age <= 30</span>  <span style=\"background-color: rgb(254,228,216); color:black;\">savings is not 500 to 1000 DM and >= 1000 DM</span>  <span style=\"background-color: rgb(245,83,59); color:white;\">status is no checking account</span>  <span style=\"background-color: rgb(254,225,211); color:black;\">amount >= 1363</span> <b>THEN </b> reject"
      ],
      "text/plain": [
       "<IPython.core.display.HTML object>"
      ]
     },
     "metadata": {},
     "output_type": "display_data"
    },
    {
     "data": {
      "text/html": [
       "#76, 6399 <b>IF </b>  <span style=\"background-color: rgb(252,172,144); color:white;\">duration >= 15</span>  <span style=\"background-color: rgb(158,202,225); color:white;\">status is ... >= 200 DM (salary)</span>  <span style=\"background-color: rgb(252,184,157); color:white;\">other_installment_plans is not none</span>  <span style=\"background-color: rgb(253,212,194); color:black;\">amount >= 6386</span> <b>THEN </b> accept"
      ],
      "text/plain": [
       "<IPython.core.display.HTML object>"
      ]
     },
     "metadata": {},
     "output_type": "display_data"
    },
    {
     "data": {
      "text/html": [
       "#77, 9305 <b>IF </b>  <span style=\"background-color: rgb(222,235,247); color:black;\">credit_history is not critical account/other credits elsewhere</span>  <span style=\"background-color: rgb(252,195,172); color:black;\">status is not no checking account and ... >= 200 DM (salary)</span>  <span style=\"background-color: rgb(221,234,246); color:black;\">purpose is furniture/equipment</span>  <span style=\"background-color: rgb(219,233,246); color:black;\">housing is own</span>  <span style=\"background-color: rgb(253,218,202); color:black;\">property is not building soc. savings agr./life insurance</span>  <span style=\"background-color: rgb(252,201,180); color:black;\">other_debtors is not guarantor</span>  <span style=\"background-color: rgb(225,236,247); color:black;\">telephone is Yes</span> <b>THEN </b> accept"
      ],
      "text/plain": [
       "<IPython.core.display.HTML object>"
      ]
     },
     "metadata": {},
     "output_type": "display_data"
    },
    {
     "data": {
      "text/html": [
       "#78, 3921 <b>IF </b>  <span style=\"background-color: rgb(252,199,177); color:black;\">property is not real estate</span>  <span style=\"background-color: rgb(252,205,185); color:black;\">personal_status_sex is not married male</span>  <span style=\"background-color: rgb(253,212,194); color:black;\">employment_duration is not 4 to 7 yrs and >= 7 yrs</span>  <span style=\"background-color: rgb(212,228,243); color:black;\">purpose is furniture/equipment</span>  <span style=\"background-color: rgb(253,213,195); color:black;\">telephone is No</span>  <span style=\"background-color: rgb(254,226,213); color:black;\">present_residence is not < 1 yr and 1 to 4 yrs</span> <b>THEN </b> accept"
      ],
      "text/plain": [
       "<IPython.core.display.HTML object>"
      ]
     },
     "metadata": {},
     "output_type": "display_data"
    },
    {
     "data": {
      "text/html": [
       "#79, 222 <b>IF </b>  <span style=\"background-color: rgb(252,195,172); color:black;\">status is not ... >= 200 DM (salary)</span>  <span style=\"background-color: rgb(253,220,205); color:black;\">personal_status_sex is married male</span>  <span style=\"background-color: rgb(253,207,188); color:black;\">other_installment_plans is not stores</span>  <span style=\"background-color: rgb(221,234,246); color:black;\">credit_history is not delay in paying off in the past</span>  <span style=\"background-color: rgb(253,222,208); color:black;\">number_credits is not 2 to 3</span>  <span style=\"background-color: rgb(225,236,247); color:black;\">telephone is Yes</span>  <span style=\"background-color: rgb(251,122,90); color:white;\">duration >= 25</span> <b>THEN </b> reject"
      ],
      "text/plain": [
       "<IPython.core.display.HTML object>"
      ]
     },
     "metadata": {},
     "output_type": "display_data"
    },
    {
     "data": {
      "text/html": [
       "#80, 4345 <b>IF </b>  <span style=\"background-color: rgb(253,213,195); color:black;\">telephone is No</span>  <span style=\"background-color: rgb(254,225,211); color:black;\">property is not car or other</span>  <span style=\"background-color: rgb(254,228,216); color:black;\">foreign_worker is No</span>  <span style=\"background-color: rgb(252,180,153); color:white;\">credit_history is existing credits paid back duly till now</span>  <span style=\"background-color: rgb(252,176,148); color:white;\">housing is not own</span>  <span style=\"background-color: rgb(253,222,208); color:black;\">purpose is not car (used)</span> <b>THEN </b> accept"
      ],
      "text/plain": [
       "<IPython.core.display.HTML object>"
      ]
     },
     "metadata": {},
     "output_type": "display_data"
    },
    {
     "data": {
      "text/html": [
       "#81, 7354 <b>IF </b>  <span style=\"background-color: rgb(254,228,216); color:black;\">savings is unknown/no savings account</span>  <span style=\"background-color: rgb(252,192,168); color:black;\">credit_history is no credits taken/all credits paid back duly</span>  <span style=\"background-color: rgb(253,219,203); color:black;\">duration >= 8</span>  <span style=\"background-color: rgb(252,205,185); color:black;\">personal_status_sex is not married male</span>  <span style=\"background-color: rgb(252,195,172); color:black;\">status is not ... >= 200 DM (salary)</span>  <span style=\"background-color: rgb(253,223,209); color:black;\">job is not unskilled - resident</span>  <span style=\"background-color: rgb(252,199,177); color:black;\">property is not real estate</span>  <span style=\"background-color: rgb(225,237,248); color:black;\">purpose is not others</span>  <span style=\"background-color: rgb(216,231,245); color:black;\">installment_rate is not >= 35</span> <b>THEN </b> accept"
      ],
      "text/plain": [
       "<IPython.core.display.HTML object>"
      ]
     },
     "metadata": {},
     "output_type": "display_data"
    },
    {
     "data": {
      "text/html": [
       "#82, 2954 <b>IF </b>  <span style=\"background-color: rgb(254,225,212); color:black;\">housing is not rent</span>  <span style=\"background-color: rgb(221,234,246); color:black;\">property is not unknown / no property</span>  <span style=\"background-color: rgb(252,180,153); color:white;\">credit_history is not no credits taken/all credits paid back duly and all credits at this bank paid back duly</span>  <span style=\"background-color: rgb(254,226,213); color:black;\">number_credits is 2 to 3</span>  <span style=\"background-color: rgb(252,193,169); color:black;\">installment_rate is not < 20 and 20 to 25</span>  <span style=\"background-color: rgb(218,232,245); color:black;\">employment_duration is 4 to 7 yrs or >= 7 yrs</span> <b>THEN </b> accept"
      ],
      "text/plain": [
       "<IPython.core.display.HTML object>"
      ]
     },
     "metadata": {},
     "output_type": "display_data"
    },
    {
     "data": {
      "text/html": [
       "#83, 5177 <b>IF </b>  <span style=\"background-color: rgb(219,233,246); color:black;\">housing is own</span>  <span style=\"background-color: rgb(254,224,210); color:black;\">job is skilled employee / official</span>  <span style=\"background-color: rgb(219,233,246); color:black;\">other_installment_plans is none</span>  <span style=\"background-color: rgb(253,220,205); color:black;\">personal_status_sex is married male</span>  <span style=\"background-color: rgb(253,222,208); color:black;\">number_credits is not 1</span>  <span style=\"background-color: rgb(252,192,168); color:black;\">credit_history is not all credits at this bank paid back duly</span>  <span style=\"background-color: rgb(252,195,172); color:black;\">status is not ... >= 200 DM (salary)</span> <b>THEN </b> accept"
      ],
      "text/plain": [
       "<IPython.core.display.HTML object>"
      ]
     },
     "metadata": {},
     "output_type": "display_data"
    },
    {
     "data": {
      "text/html": [
       "#84, 4367 <b>IF </b>  <span style=\"background-color: rgb(253,213,195); color:black;\">telephone is No</span>  <span style=\"background-color: rgb(253,214,197); color:black;\">property is car or other</span>  <span style=\"background-color: rgb(254,224,210); color:black;\">credit_history is not all credits at this bank paid back duly</span>  <span style=\"background-color: rgb(219,233,246); color:black;\">housing is own</span>  <span style=\"background-color: rgb(254,228,216); color:black;\">savings is not unknown/no savings account</span>  <span style=\"background-color: rgb(253,219,203); color:black;\">purpose is not furniture/equipment</span> <b>THEN </b> accept"
      ],
      "text/plain": [
       "<IPython.core.display.HTML object>"
      ]
     },
     "metadata": {},
     "output_type": "display_data"
    },
    {
     "data": {
      "text/html": [
       "#85, 5289 <b>IF </b>  <span style=\"background-color: rgb(254,225,211); color:black;\">telephone is Yes</span>  <span style=\"background-color: rgb(254,228,216); color:black;\">savings is unknown/no savings account or < 100 DM</span>  <span style=\"background-color: rgb(226,237,248); color:black;\">purpose is not retraining</span>  <span style=\"background-color: rgb(252,199,177); color:black;\">property is unknown / no property</span>  <span style=\"background-color: rgb(252,176,148); color:white;\">installment_rate is >= 35</span>  <span style=\"background-color: rgb(254,227,215); color:black;\">credit_history is no credits taken/all credits paid back duly</span> <b>THEN </b> reject"
      ],
      "text/plain": [
       "<IPython.core.display.HTML object>"
      ]
     },
     "metadata": {},
     "output_type": "display_data"
    },
    {
     "data": {
      "text/html": [
       "#86, 916 <b>IF </b>  <span style=\"background-color: rgb(209,226,242); color:black;\">property is real estate</span>  <span style=\"background-color: rgb(210,227,243); color:black;\">duration in 9 to 16</span>  <span style=\"background-color: rgb(252,195,172); color:black;\">status is not ... >= 200 DM (salary)</span>  <span style=\"background-color: rgb(254,228,216); color:black;\">people_liable is 0 to 2</span>  <span style=\"background-color: rgb(253,212,194); color:black;\">employment_duration is not 4 to 7 yrs and >= 7 yrs</span>  <span style=\"background-color: rgb(254,224,210); color:black;\">amount >= 1524</span> <b>THEN </b> accept"
      ],
      "text/plain": [
       "<IPython.core.display.HTML object>"
      ]
     },
     "metadata": {},
     "output_type": "display_data"
    },
    {
     "data": {
      "text/html": [
       "#87, 8127 <b>IF </b>  <span style=\"background-color: rgb(252,195,172); color:black;\">status is not ... >= 200 DM (salary)</span>  <span style=\"background-color: rgb(254,226,213); color:black;\">purpose is not furniture/equipment and retraining</span>  <span style=\"background-color: rgb(252,192,168); color:black;\">property is not real estate and car or other</span>  <span style=\"background-color: rgb(252,192,168); color:black;\">credit_history is not all credits at this bank paid back duly</span>  <span style=\"background-color: rgb(225,236,247); color:black;\">job is not management/ self-employed/ highly qualified employee/ officer</span>  <span style=\"background-color: rgb(254,226,213); color:black;\">number_credits is 1</span>  <span style=\"background-color: rgb(253,213,195); color:black;\">telephone is No</span>  <span style=\"background-color: rgb(253,220,205); color:black;\">personal_status_sex is married male</span> <b>THEN </b> accept"
      ],
      "text/plain": [
       "<IPython.core.display.HTML object>"
      ]
     },
     "metadata": {},
     "output_type": "display_data"
    },
    {
     "data": {
      "text/html": [
       "#88, 7951 <b>IF </b>  <span style=\"background-color: rgb(252,195,172); color:black;\">status is not ... >= 200 DM (salary)</span>  <span style=\"background-color: rgb(254,227,215); color:black;\">present_residence is not < 1 yr</span>  <span style=\"background-color: rgb(225,236,247); color:black;\">telephone is Yes</span>  <span style=\"background-color: rgb(222,235,247); color:black;\">purpose is not others and retraining</span>  <span style=\"background-color: rgb(226,237,248); color:black;\">employment_duration is not unemployed</span>  <span style=\"background-color: rgb(224,236,247); color:black;\">duration <= 40</span>  <span style=\"background-color: rgb(251,141,109); color:white;\">property is unknown / no property</span>  <span style=\"background-color: rgb(225,236,247); color:black;\">amount <= 3374</span> <b>THEN </b> accept"
      ],
      "text/plain": [
       "<IPython.core.display.HTML object>"
      ]
     },
     "metadata": {},
     "output_type": "display_data"
    },
    {
     "data": {
      "text/html": [
       "#89, 4006 <b>IF </b>  <span style=\"background-color: rgb(219,233,246); color:black;\">other_installment_plans is none</span>  <span style=\"background-color: rgb(251,138,106); color:white;\">purpose is retraining</span>  <span style=\"background-color: rgb(254,226,213); color:black;\">number_credits is 1</span>  <span style=\"background-color: rgb(253,223,209); color:black;\">credit_history is not no credits taken/all credits paid back duly</span> <b>THEN </b> reject"
      ],
      "text/plain": [
       "<IPython.core.display.HTML object>"
      ]
     },
     "metadata": {},
     "output_type": "display_data"
    },
    {
     "data": {
      "text/html": [
       "#90, 1872 <b>IF </b>  <span style=\"background-color: rgb(187,214,235); color:white;\">credit_history is all credits at this bank paid back duly</span>  <span style=\"background-color: rgb(221,234,246); color:black;\">other_debtors is not none</span>  <span style=\"background-color: rgb(225,236,247); color:black;\">telephone is Yes</span> <b>THEN </b> accept"
      ],
      "text/plain": [
       "<IPython.core.display.HTML object>"
      ]
     },
     "metadata": {},
     "output_type": "display_data"
    },
    {
     "data": {
      "text/html": [
       "#91, 8087 <b>IF </b>  <span style=\"background-color: rgb(226,237,248); color:black;\">other_installment_plans is not bank</span>  <span style=\"background-color: rgb(252,205,185); color:black;\">personal_status_sex is not married male</span>  <span style=\"background-color: rgb(252,195,172); color:black;\">status is not ... >= 200 DM (salary)</span>  <span style=\"background-color: rgb(253,212,194); color:black;\">other_debtors is none</span>  <span style=\"background-color: rgb(254,225,212); color:black;\">amount >= 1282</span>  <span style=\"background-color: rgb(218,232,245); color:black;\">age >= 34</span>  <span style=\"background-color: rgb(251,127,95); color:white;\">purpose is others</span> <b>THEN </b> accept"
      ],
      "text/plain": [
       "<IPython.core.display.HTML object>"
      ]
     },
     "metadata": {},
     "output_type": "display_data"
    },
    {
     "data": {
      "text/html": [
       "#92, 9404 <b>IF </b>  <span style=\"background-color: rgb(219,233,246); color:black;\">other_installment_plans is none</span>  <span style=\"background-color: rgb(252,192,168); color:black;\">credit_history is not all credits at this bank paid back duly</span>  <span style=\"background-color: rgb(253,219,203); color:black;\">purpose is not furniture/equipment</span>  <span style=\"background-color: rgb(253,213,195); color:black;\">telephone is No</span>  <span style=\"background-color: rgb(254,225,212); color:black;\">housing is not rent</span>  <span style=\"background-color: rgb(226,237,248); color:black;\">job is not skilled employee / official</span>  <span style=\"background-color: rgb(221,234,246); color:black;\">amount <= 1263</span> <b>THEN </b> accept"
      ],
      "text/plain": [
       "<IPython.core.display.HTML object>"
      ]
     },
     "metadata": {},
     "output_type": "display_data"
    },
    {
     "data": {
      "text/html": [
       "#93, 7062 <b>IF </b>  <span style=\"background-color: rgb(252,191,166); color:white;\">savings is unknown/no savings account or < 100 DM</span>  <span style=\"background-color: rgb(225,236,247); color:black;\">telephone is Yes</span>  <span style=\"background-color: rgb(252,175,147); color:white;\">status is not 0 to 200 DM and ... >= 200 DM (salary)</span>  <span style=\"background-color: rgb(212,228,243); color:black;\">purpose is furniture/equipment</span> <b>THEN </b> reject"
      ],
      "text/plain": [
       "<IPython.core.display.HTML object>"
      ]
     },
     "metadata": {},
     "output_type": "display_data"
    },
    {
     "data": {
      "text/html": [
       "#94, 1479 <b>IF </b>  <span style=\"background-color: rgb(219,233,246); color:black;\">housing is own</span>  <span style=\"background-color: rgb(252,199,177); color:black;\">property is not real estate</span>  <span style=\"background-color: rgb(252,184,157); color:white;\">other_installment_plans is not none</span>  <span style=\"background-color: rgb(225,237,248); color:black;\">purpose is not others</span>  <span style=\"background-color: rgb(216,231,245); color:black;\">installment_rate is not >= 35</span>  <span style=\"background-color: rgb(254,226,213); color:black;\">number_credits is 2 to 3</span> <b>THEN </b> accept"
      ],
      "text/plain": [
       "<IPython.core.display.HTML object>"
      ]
     },
     "metadata": {},
     "output_type": "display_data"
    },
    {
     "data": {
      "text/html": [
       "#95, 2801 <b>IF </b>  <span style=\"background-color: rgb(252,172,144); color:white;\">duration >= 15</span>  <span style=\"background-color: rgb(254,224,210); color:black;\">job is skilled employee / official</span>  <span style=\"background-color: rgb(219,233,246); color:black;\">housing is own</span>  <span style=\"background-color: rgb(254,226,213); color:black;\">number_credits is 1</span>  <span style=\"background-color: rgb(226,237,248); color:black;\">other_installment_plans is not bank</span>  <span style=\"background-color: rgb(253,223,209); color:black;\">credit_history is not no credits taken/all credits paid back duly</span>  <span style=\"background-color: rgb(212,228,243); color:black;\">purpose is furniture/equipment</span> <b>THEN </b> accept"
      ],
      "text/plain": [
       "<IPython.core.display.HTML object>"
      ]
     },
     "metadata": {},
     "output_type": "display_data"
    },
    {
     "data": {
      "text/html": [
       "#96, 4449 <b>IF </b>  <span style=\"background-color: rgb(252,192,168); color:black;\">credit_history is not all credits at this bank paid back duly</span>  <span style=\"background-color: rgb(252,195,172); color:black;\">status is not no checking account and ... >= 200 DM (salary)</span>  <span style=\"background-color: rgb(253,222,208); color:black;\">number_credits is not 1</span>  <span style=\"background-color: rgb(203,222,240); color:black;\">duration <= 12</span> <b>THEN </b> accept"
      ],
      "text/plain": [
       "<IPython.core.display.HTML object>"
      ]
     },
     "metadata": {},
     "output_type": "display_data"
    },
    {
     "data": {
      "text/html": [
       "#97, 7885 <b>IF </b>  <span style=\"background-color: rgb(252,195,172); color:black;\">status is not ... >= 200 DM (salary)</span>  <span style=\"background-color: rgb(225,237,248); color:black;\">purpose is not others and furniture/equipment</span>  <span style=\"background-color: rgb(254,228,216); color:black;\">savings is >= 1000 DM</span>  <span style=\"background-color: rgb(253,213,195); color:black;\">telephone is No</span> <b>THEN </b> accept"
      ],
      "text/plain": [
       "<IPython.core.display.HTML object>"
      ]
     },
     "metadata": {},
     "output_type": "display_data"
    },
    {
     "data": {
      "text/html": [
       "#98, 5365 <b>IF </b>  <span style=\"background-color: rgb(158,202,225); color:white;\">status is ... >= 200 DM (salary)</span>  <span style=\"background-color: rgb(252,184,157); color:white;\">other_installment_plans is not none</span>  <span style=\"background-color: rgb(253,223,209); color:black;\">property is not car or other</span>  <span style=\"background-color: rgb(254,224,210); color:black;\">job is skilled employee / official</span>  <span style=\"background-color: rgb(254,228,216); color:black;\">savings is not unknown/no savings account</span> <b>THEN </b> accept"
      ],
      "text/plain": [
       "<IPython.core.display.HTML object>"
      ]
     },
     "metadata": {},
     "output_type": "display_data"
    },
    {
     "data": {
      "text/html": [
       "#99, 6609 <b>IF </b>  <span style=\"background-color: rgb(252,195,172); color:black;\">status is not ... >= 200 DM (salary)</span>  <span style=\"background-color: rgb(225,237,248); color:black;\">present_residence is < 1 yr</span>  <span style=\"background-color: rgb(253,223,209); color:black;\">job is not unskilled - resident</span>  <span style=\"background-color: rgb(254,227,215); color:black;\">credit_history is no credits taken/all credits paid back duly</span>  <span style=\"background-color: rgb(252,205,185); color:black;\">personal_status_sex is not married male</span>  <span style=\"background-color: rgb(222,235,247); color:black;\">amount <= 1506</span> <b>THEN </b> accept"
      ],
      "text/plain": [
       "<IPython.core.display.HTML object>"
      ]
     },
     "metadata": {},
     "output_type": "display_data"
    }
   ],
   "source": [
    "for it, i in enumerate(low_conf_idxes):\n",
    "    display_rule(it, i) "
   ]
  }
 ],
 "metadata": {
  "kernelspec": {
   "display_name": "Python 3.8.1 ('base')",
   "language": "python",
   "name": "python3"
  },
  "language_info": {
   "codemirror_mode": {
    "name": "ipython",
    "version": 3
   },
   "file_extension": ".py",
   "mimetype": "text/x-python",
   "name": "python",
   "nbconvert_exporter": "python",
   "pygments_lexer": "ipython3",
   "version": "3.8.1"
  },
  "orig_nbformat": 4,
  "vscode": {
   "interpreter": {
    "hash": "7e68ee7780e0be540c4e3141e92f7a462f6acd183a50724e7701ea314000c600"
   }
  }
 },
 "nbformat": 4,
 "nbformat_minor": 2
}
