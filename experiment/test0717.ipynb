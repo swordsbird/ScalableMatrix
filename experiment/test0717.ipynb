{
 "cells": [
  {
   "cell_type": "code",
   "execution_count": 1,
   "metadata": {},
   "outputs": [],
   "source": [
    "import sys\n",
    "import matplotlib.pyplot as plt\n",
    "from sklearn.metrics import pairwise_distances\n",
    "\n",
    "from IPython.display import HTML\n",
    "import matplotlib.cm as cm\n",
    "import numpy as np\n",
    "from typing import Union\n",
    "import math\n"
   ]
  },
  {
   "cell_type": "code",
   "execution_count": 2,
   "metadata": {},
   "outputs": [],
   "source": [
    "import pandas as pd\n",
    "import numpy as np\n",
    "import sys\n",
    "sys.path.append('..')\n",
    "from lib.model_reduction_variant import Extractor\n",
    "from lib.anomaly_detection import LOCIMatrix, LOCIMatrixNew\n",
    "from lib.model_utils import export_rules_to_csv\n",
    "from matplotlib import pyplot as plt\n",
    "import pandas as pd\n",
    "import matplotlib.pyplot as plt\n",
    "import seaborn as sns\n",
    "\n",
    "plt.style.use('ggplot')\n",
    "pd.options.display.notebook_repr_html = False \n",
    "plt.rcParams['figure.dpi'] = 75 \n",
    "sns.set_theme(style='darkgrid') "
   ]
  },
  {
   "cell_type": "code",
   "execution_count": 3,
   "metadata": {},
   "outputs": [
    {
     "name": "stderr",
     "output_type": "stream",
     "text": [
      "/home/lizhen/.local/lib/python3.8/site-packages/sklearn/ensemble/_forest.py:427: FutureWarning: `max_features='auto'` has been deprecated in 1.1 and will be removed in 1.3. To keep the past behaviour, explicitly set `max_features='sqrt'` or remove this parameter as it is also the default value for RandomForestClassifiers and ExtraTreesClassifiers.\n",
      "  warn(\n"
     ]
    },
    {
     "name": "stdout",
     "output_type": "stream",
     "text": [
      "Test\n",
      "Accuracy Score is 0.828\n",
      "Precision Score is 0.8663101604278075\n",
      "F1 Score is 0.88283378746594\n",
      "Train\n",
      "Accuracy Score is 0.8932692307692308\n"
     ]
    }
   ],
   "source": [
    "from lib.model_utils import ModelUtil\n",
    "model = ModelUtil(data_name = 'german_credit', model_name = 'RF')\n",
    "paths = model.paths\n",
    "cond_mat, output = model.get_rule_matrix()\n"
   ]
  },
  {
   "cell_type": "code",
   "execution_count": 4,
   "metadata": {},
   "outputs": [
    {
     "name": "stdout",
     "output_type": "stream",
     "text": [
      "Accuracy Score is 0.921983758700696\n",
      "Precision Score is 0.9671532846715328\n",
      "F1 Score is 0.9403415391439344\n"
     ]
    }
   ],
   "source": [
    "high_conf_idxes = [i for i, p in enumerate(paths) if paths[i]['confidence'] > 0.8]\n",
    "\n",
    "import copy\n",
    "feature_pos = copy.deepcopy(model.feature_pos)\n",
    "\n",
    "is_feature_categorical = {}\n",
    "feature_val_idxs = {}\n",
    "for i in model.feature_pos:\n",
    "    if i == -1:\n",
    "        continue\n",
    "    feature, index = model.feature_pos[i]\n",
    "    is_feature_categorical[feature] = index > 0\n",
    "\n",
    "for i in model.feature_pos:\n",
    "    if i == -1:\n",
    "        continue\n",
    "    feature, index = model.feature_pos[i]\n",
    "    if is_feature_categorical[feature]:\n",
    "        if feature not in feature_val_idxs:\n",
    "            feature_val_idxs[feature] = []\n",
    "        if i >= 0:\n",
    "            feature_val_idxs[feature].append(i)\n",
    "\n",
    "is_categorical = []\n",
    "feature_range = []\n",
    "for i in model.feature_pos:\n",
    "    if i == -1:\n",
    "        continue\n",
    "    feature, index = model.feature_pos[i]\n",
    "    is_categorical.append(is_feature_categorical[feature])\n",
    "    feature_range.append(model.feature_range[feature])\n",
    "\n",
    "n_features = len(is_categorical)\n",
    "to_category_idx = [3]\n",
    "for i in to_category_idx:\n",
    "    name = model.feature_pos[i][0]\n",
    "    is_categorical[i] = True\n",
    "    feature_len =  model.feature_range[name][1] - model.feature_range[name][0]\n",
    "    idx = [i] + [j for j in range(n_features, n_features + feature_len - 1)]\n",
    "    for it, j in enumerate(idx):\n",
    "        feature_pos[j] = (name, it)\n",
    "        is_categorical.append(True)\n",
    "    feature_val_idxs[name] = idx\n",
    "    n_features += feature_len - 1\n",
    "\n",
    "X = np.ones((len(paths), n_features)).astype('float') * 0.5\n",
    "y = np.ones((len(paths), ))\n",
    "\n",
    "mid = np.zeros((n_features)).astype('float')\n",
    "columns = [feature for feature in model.data_table.columns if feature != model.target]\n",
    "n_samples = len(model.data_table)\n",
    "for i, feature in enumerate(columns):\n",
    "    if is_categorical[i]:\n",
    "        if i in to_category_idx:\n",
    "            vmin = model.data_table[feature].min()\n",
    "            vmax = model.data_table[feature].max()\n",
    "            for k, j in enumerate(feature_val_idxs[feature]):\n",
    "                val = (model.data_table[feature] == k + vmin).sum() / n_samples\n",
    "                mid[j] = val\n",
    "        else:\n",
    "            _, k = feature_pos[i]\n",
    "            vmin = model.data_table[feature].min()\n",
    "            mid[i] = (model.data_table[feature] == 1).sum() / n_samples\n",
    "\n",
    "for row_i, p in enumerate(paths):\n",
    "    m = p['range']\n",
    "    row = mid.copy()\n",
    "    for i in m:\n",
    "        if is_categorical[i]:\n",
    "            feature, _ = model.feature_pos[i]\n",
    "            idx = feature_val_idxs[feature]\n",
    "            if i in to_category_idx:\n",
    "                ll = feature_range[i][0]\n",
    "                rr = feature_range[i][1]\n",
    "                left = int(max(ll, math.floor(m[i][0])))\n",
    "                right = int(min(rr, math.ceil(m[i][1])))\n",
    "                if ll > 0:\n",
    "                    left -= ll\n",
    "                    right -= ll\n",
    "                    rr -= ll\n",
    "                    ll = 0\n",
    "                rr = min(rr, len(idx))\n",
    "                right = min(right, rr)\n",
    "                for j in range(rr):\n",
    "                    row[idx[j]] = 0\n",
    "                for j in range(left, right):\n",
    "                    row[idx[j]] = mid[idx[j]]\n",
    "            else:\n",
    "                if m[i][1] > 1:\n",
    "                    if row[idx].sum() == 1:\n",
    "                        row[idx] = 0\n",
    "                    row[i] = mid[i]\n",
    "                else:\n",
    "                    row[i] = 0\n",
    "        else:\n",
    "            left = int(max(feature_range[i][0], m[i][0]))\n",
    "            right = int(min(feature_range[i][1] - 1, m[i][1]))\n",
    "            left = model.get_sum(i, 1, left) / len(model.X)\n",
    "            right = model.get_sum(i, 1, right) / len(model.X)\n",
    "            row[i] = (left + right) / 2 - 0.5\n",
    "    for feature in feature_val_idxs:\n",
    "        idx = feature_val_idxs[feature]\n",
    "        tot = row[idx].sum()\n",
    "        if tot > 0:\n",
    "            row[idx] /= tot\n",
    "\n",
    "    X[row_i] = row\n",
    "    y[row_i] = p['output']\n",
    "lr_mat = X\n",
    "\n",
    "from sklearn.linear_model import LogisticRegression\n",
    "lr = LogisticRegression(max_iter=1000, class_weight='balanced')\n",
    "lr.fit(X[high_conf_idxes], y[high_conf_idxes])\n",
    "y_pred = lr.predict(X[high_conf_idxes])\n",
    "from sklearn.metrics import accuracy_score, precision_score, f1_score\n",
    "print('Accuracy Score is', accuracy_score(y[high_conf_idxes], y_pred))\n",
    "print('Precision Score is', precision_score(y[high_conf_idxes], y_pred))\n",
    "print('F1 Score is', f1_score(y[high_conf_idxes], y_pred))\n",
    "\n",
    "feature_importance = np.abs(lr.coef_[0])"
   ]
  },
  {
   "cell_type": "code",
   "execution_count": 5,
   "metadata": {},
   "outputs": [],
   "source": [
    "mat = cond_mat * feature_importance"
   ]
  },
  {
   "cell_type": "code",
   "execution_count": 11,
   "metadata": {},
   "outputs": [
    {
     "name": "stdout",
     "output_type": "stream",
     "text": [
      "r range: 0.150 - 1.000\n"
     ]
    },
    {
     "data": {
      "text/plain": [
       "True"
      ]
     },
     "execution_count": 11,
     "metadata": {},
     "output_type": "execute_result"
    }
   ],
   "source": [
    "res = LOCIMatrixNew(mat, r = 0.15, metric = 'euclidean', n_ticks=100, output = output)\n",
    "res.run()"
   ]
  },
  {
   "cell_type": "code",
   "execution_count": 7,
   "metadata": {},
   "outputs": [
    {
     "name": "stdout",
     "output_type": "stream",
     "text": [
      "1000000\n"
     ]
    },
    {
     "data": {
      "image/png": "[encoded data removed]",
      "text/plain": [
       "<Figure size 360x360 with 1 Axes>"
      ]
     },
     "metadata": {
      "needs_background": "light"
     },
     "output_type": "display_data"
    }
   ],
   "source": [
    "vec = res.sorted_dist[:, 1:].reshape(-1)\n",
    "vec = vec[:1000000]\n",
    "print(len(vec))\n",
    "consistency_data = pd.DataFrame({ '100n': vec })\n",
    "sns.displot(data=consistency_data, x=\"100n\", bins=50, log_scale=(False, False))\n",
    "plt.show()"
   ]
  },
  {
   "cell_type": "code",
   "execution_count": 8,
   "metadata": {},
   "outputs": [
    {
     "data": {
      "text/plain": [
       "0.199"
      ]
     },
     "execution_count": 8,
     "metadata": {},
     "output_type": "execute_result"
    }
   ],
   "source": [
    "res.rs[11]"
   ]
  },
  {
   "cell_type": "code",
   "execution_count": 9,
   "metadata": {},
   "outputs": [],
   "source": [
    "predict_proba = lr.predict_proba(X)\n",
    "score1 = np.array([predict_proba[i, 1 - int(y[i])] for i in range(predict_proba.shape[0])])\n",
    "\n",
    "idx = [i for i in range(2, 9000, 10)]\n",
    "plt.scatter(res.scores[idx, 11], score1[idx], s = 2, color='gray')\n",
    "plt.show()"
   ]
  },
  {
   "cell_type": "code",
   "execution_count": 17,
   "metadata": {},
   "outputs": [],
   "source": [
    "score = res.scores[:, 11]\n",
    "outlier =  score.argsort()[-50:][::-1]"
   ]
  },
  {
   "cell_type": "code",
   "execution_count": 18,
   "metadata": {},
   "outputs": [],
   "source": [
    "import matplotlib as mpl\n",
    "\n",
    "class MplColorHelper:\n",
    "\n",
    "  def __init__(self, cmap_name, start_val, stop_val):\n",
    "    self.cmap_name = cmap_name\n",
    "    self.cmap = plt.get_cmap(cmap_name)\n",
    "    self.norm = mpl.colors.Normalize(vmin=start_val, vmax=stop_val)\n",
    "    self.scalarMap = cm.ScalarMappable(norm=self.norm, cmap=self.cmap)\n",
    "\n",
    "  def get_rgb(self, val):\n",
    "    return self.scalarMap.to_rgba(val)\n",
    "\n",
    "for i in model.feature_pos:\n",
    "    if model.feature_pos[i][0] not in feature_val_idxs:\n",
    "        feature_val_idxs[model.feature_pos[i][0]] = i\n",
    "        \n",
    "max_ctr = lr.coef_[0].max()\n",
    "min_ctr = -lr.coef_[0].min()\n",
    "blues = MplColorHelper('Blues', 0, 1)\n",
    "reds = MplColorHelper('Reds', 0, 1)\n",
    "\n",
    "def display_rule(id, i, j = -1):\n",
    "    conds, output = model.interpret_path(model.paths[i])\n",
    "    vec = lr_mat[i]\n",
    "    text = '<b>IF </b> '\n",
    "    for (feature, op, val) in conds:\n",
    "        idx = feature_val_idxs[feature]\n",
    "        ctr = np.sum(lr.coef_[0][idx] * vec[idx])\n",
    "        if ctr > 0:\n",
    "            ctr /= max_ctr\n",
    "        else:\n",
    "            ctr /= min_ctr\n",
    "        cond_text = feature + ' ' + op + ' ' + str(val)\n",
    "        if ctr > 0:\n",
    "            rgb = blues.get_rgb(ctr * 0.9 + 0.1)\n",
    "        else:\n",
    "            rgb = reds.get_rgb(-ctr * 0.9 + 0.1)\n",
    "        \n",
    "        text_color = 'white' if np.abs(ctr) > 0.15 else 'black'\n",
    "        bgcolor = 'rgb(%d,%d,%d)' % (int(rgb[0] * 255), int(rgb[1] * 255), int(rgb[2] * 255))\n",
    "        if np.abs(ctr) < 0.03:\n",
    "            bgcolor = 'white'\n",
    "\n",
    "        text += ' <span style=\"background-color: %s; color:%s;\">%s</span>, ' % \\\n",
    "            (bgcolor, text_color, cond_text)\n",
    "    text = text[:-2] + ' '\n",
    "    text += '<b>THEN </b> ' + output\n",
    "    info = '#%d, %d, LR: %.2f, Anomaly: %.2f, Neighbors: %d, Cover: %d' % (id, i, score1[i], score[i], res.outer_ptr[i], np.sum(paths[i]['distribution']))\n",
    "    if j != -1:\n",
    "        info += ', Same: %d' % np.sum(np.array(paths[i]['sample']) * np.array(paths[j]['sample']))\n",
    "    display(HTML(info))\n",
    "    display(HTML(text))\n"
   ]
  },
  {
   "cell_type": "code",
   "execution_count": 119,
   "metadata": {},
   "outputs": [],
   "source": [
    "export_rules_to_csv('csv/0715_logistic_regression_top200', model, score1.argsort()[-200:][::-1])"
   ]
  },
  {
   "cell_type": "code",
   "execution_count": 103,
   "metadata": {},
   "outputs": [
    {
     "name": "stdout",
     "output_type": "stream",
     "text": [
      "0.11076411712903425 0.0996468851039179\n"
     ]
    }
   ],
   "source": [
    "print(res.sorted_dist[6944, 100], res.sorted_dist[:, 100].mean())"
   ]
  },
  {
   "cell_type": "code",
   "execution_count": 22,
   "metadata": {},
   "outputs": [
    {
     "name": "stdout",
     "output_type": "stream",
     "text": [
      "0.18514989977563434 0.0996468851039179\n"
     ]
    }
   ],
   "source": [
    "print(res.sorted_dist[8868, 100], res.sorted_dist[:, 100].mean())"
   ]
  },
  {
   "cell_type": "code",
   "execution_count": null,
   "metadata": {},
   "outputs": [],
   "source": [
    "for i in range()"
   ]
  },
  {
   "cell_type": "code",
   "execution_count": 20,
   "metadata": {},
   "outputs": [
    {
     "data": {
      "text/html": [
       "#0, 4474, LR: 0.00, Anomaly: 1.71, Neighbors: 9661, Cover: 18"
      ],
      "text/plain": [
       "<IPython.core.display.HTML object>"
      ]
     },
     "metadata": {},
     "output_type": "display_data"
    },
    {
     "data": {
      "text/html": [
       "<b>IF </b>  <span style=\"background-color: white; color:black;\">credit_history is not all credits at this bank paid back duly</span>,  <span style=\"background-color: rgb(158,202,225); color:white;\">status is ... >= 200 DM (salary)</span>,  <span style=\"background-color: rgb(190,215,236); color:white;\">purpose is car (new)</span>,  <span style=\"background-color: rgb(207,225,242); color:black;\">savings is 500 to 1000 DM or >= 1000 DM</span> <b>THEN </b> accept"
      ],
      "text/plain": [
       "<IPython.core.display.HTML object>"
      ]
     },
     "metadata": {},
     "output_type": "display_data"
    },
    {
     "data": {
      "text/html": [
       "#1, 6883, LR: 0.11, Anomaly: 1.54, Neighbors: 9661, Cover: 14"
      ],
      "text/plain": [
       "<IPython.core.display.HTML object>"
      ]
     },
     "metadata": {},
     "output_type": "display_data"
    },
    {
     "data": {
      "text/html": [
       "<b>IF </b>  <span style=\"background-color: white; color:black;\">credit_history is not all credits at this bank paid back duly</span>,  <span style=\"background-color: rgb(252,198,175); color:black;\">status is not ... >= 200 DM (salary)</span>,  <span style=\"background-color: rgb(182,212,233); color:white;\">other_debtors is guarantor</span>,  <span style=\"background-color: rgb(252,197,174); color:black;\">age <= 31</span> <b>THEN </b> accept"
      ],
      "text/plain": [
       "<IPython.core.display.HTML object>"
      ]
     },
     "metadata": {},
     "output_type": "display_data"
    },
    {
     "data": {
      "text/html": [
       "#2, 5266, LR: 0.26, Anomaly: 1.53, Neighbors: 9661, Cover: 20"
      ],
      "text/plain": [
       "<IPython.core.display.HTML object>"
      ]
     },
     "metadata": {},
     "output_type": "display_data"
    },
    {
     "data": {
      "text/html": [
       "<b>IF </b>  <span style=\"background-color: rgb(200,220,239); color:white;\">other_installment_plans is not bank</span>,  <span style=\"background-color: rgb(207,225,242); color:black;\">housing is for free</span>,  <span style=\"background-color: rgb(251,109,77); color:white;\">property is unknown / no property</span>,  <span style=\"background-color: rgb(190,215,236); color:white;\">purpose is car (new)</span> <b>THEN </b> accept"
      ],
      "text/plain": [
       "<IPython.core.display.HTML object>"
      ]
     },
     "metadata": {},
     "output_type": "display_data"
    },
    {
     "data": {
      "text/html": [
       "#3, 8868, LR: 0.84, Anomaly: 1.53, Neighbors: 9661, Cover: 8"
      ],
      "text/plain": [
       "<IPython.core.display.HTML object>"
      ]
     },
     "metadata": {},
     "output_type": "display_data"
    },
    {
     "data": {
      "text/html": [
       "<b>IF </b>  <span style=\"background-color: rgb(252,191,166); color:black;\">housing is rent</span>,  <span style=\"background-color: rgb(252,180,153); color:white;\">status is not 0 to 200 DM and ... >= 200 DM (salary)</span>,  <span style=\"background-color: rgb(182,212,233); color:white;\">other_debtors is guarantor</span> <b>THEN </b> reject"
      ],
      "text/plain": [
       "<IPython.core.display.HTML object>"
      ]
     },
     "metadata": {},
     "output_type": "display_data"
    },
    {
     "data": {
      "text/html": [
       "#4, 1444, LR: 0.02, Anomaly: 1.53, Neighbors: 9661, Cover: 14"
      ],
      "text/plain": [
       "<IPython.core.display.HTML object>"
      ]
     },
     "metadata": {},
     "output_type": "display_data"
    },
    {
     "data": {
      "text/html": [
       "<b>IF </b>  <span style=\"background-color: rgb(203,222,240); color:black;\">housing is own</span>,  <span style=\"background-color: rgb(198,219,239); color:white;\">other_installment_plans is none</span>,  <span style=\"background-color: rgb(252,198,175); color:black;\">status is not ... >= 200 DM (salary)</span>,  <span style=\"background-color: rgb(252,185,159); color:white;\">installment_rate is >= 35</span>,  <span style=\"background-color: rgb(182,212,233); color:white;\">other_debtors is guarantor</span> <b>THEN </b> accept"
      ],
      "text/plain": [
       "<IPython.core.display.HTML object>"
      ]
     },
     "metadata": {},
     "output_type": "display_data"
    },
    {
     "data": {
      "text/html": [
       "#5, 6884, LR: 0.03, Anomaly: 1.51, Neighbors: 9661, Cover: 20"
      ],
      "text/plain": [
       "<IPython.core.display.HTML object>"
      ]
     },
     "metadata": {},
     "output_type": "display_data"
    },
    {
     "data": {
      "text/html": [
       "<b>IF </b>  <span style=\"background-color: white; color:black;\">credit_history is not all credits at this bank paid back duly</span>,  <span style=\"background-color: rgb(252,198,175); color:black;\">status is not ... >= 200 DM (salary)</span>,  <span style=\"background-color: rgb(182,212,233); color:white;\">other_debtors is guarantor</span>,  <span style=\"background-color: rgb(218,232,245); color:black;\">age >= 31</span> <b>THEN </b> accept"
      ],
      "text/plain": [
       "<IPython.core.display.HTML object>"
      ]
     },
     "metadata": {},
     "output_type": "display_data"
    },
    {
     "data": {
      "text/html": [
       "#6, 4086, LR: 0.02, Anomaly: 1.51, Neighbors: 9661, Cover: 13"
      ],
      "text/plain": [
       "<IPython.core.display.HTML object>"
      ]
     },
     "metadata": {},
     "output_type": "display_data"
    },
    {
     "data": {
      "text/html": [
       "<b>IF </b>  <span style=\"background-color: white; color:black;\">credit_history is not all credits at this bank paid back duly</span>,  <span style=\"background-color: rgb(203,222,240); color:black;\">housing is own</span>,  <span style=\"background-color: rgb(221,234,246); color:black;\">employment_duration is not unemployed and < 1 yr</span>,  <span style=\"background-color: rgb(182,212,233); color:white;\">other_debtors is guarantor</span>,  <span style=\"background-color: rgb(253,211,192); color:black;\">personal_status_sex is married male</span> <b>THEN </b> accept"
      ],
      "text/plain": [
       "<IPython.core.display.HTML object>"
      ]
     },
     "metadata": {},
     "output_type": "display_data"
    },
    {
     "data": {
      "text/html": [
       "#7, 3447, LR: 0.02, Anomaly: 1.51, Neighbors: 9661, Cover: 13"
      ],
      "text/plain": [
       "<IPython.core.display.HTML object>"
      ]
     },
     "metadata": {},
     "output_type": "display_data"
    },
    {
     "data": {
      "text/html": [
       "<b>IF </b>  <span style=\"background-color: rgb(252,186,160); color:white;\">telephone is No</span>,  <span style=\"background-color: rgb(252,198,175); color:black;\">status is not ... >= 200 DM (salary)</span>,  <span style=\"background-color: rgb(198,219,239); color:white;\">other_installment_plans is none</span>,  <span style=\"background-color: rgb(203,222,240); color:black;\">housing is own</span>,  <span style=\"background-color: white; color:black;\">purpose is not car (used)</span>,  <span style=\"background-color: white; color:black;\">job is not unskilled and resident</span>,  <span style=\"background-color: rgb(182,212,233); color:white;\">other_debtors is guarantor</span> <b>THEN </b> accept"
      ],
      "text/plain": [
       "<IPython.core.display.HTML object>"
      ]
     },
     "metadata": {},
     "output_type": "display_data"
    },
    {
     "data": {
      "text/html": [
       "#8, 650, LR: 0.06, Anomaly: 1.51, Neighbors: 9661, Cover: 17"
      ],
      "text/plain": [
       "<IPython.core.display.HTML object>"
      ]
     },
     "metadata": {},
     "output_type": "display_data"
    },
    {
     "data": {
      "text/html": [
       "<b>IF </b>  <span style=\"background-color: rgb(252,198,175); color:black;\">status is not ... >= 200 DM (salary)</span>,  <span style=\"background-color: white; color:black;\">credit_history is no credits taken/all credits paid back duly</span>,  <span style=\"background-color: rgb(252,186,160); color:white;\">telephone is No</span>,  <span style=\"background-color: rgb(221,234,246); color:black;\">employment_duration is not unemployed and < 1 yr</span>,  <span style=\"background-color: rgb(200,220,239); color:white;\">other_installment_plans is not bank</span>,  <span style=\"background-color: rgb(182,212,233); color:white;\">other_debtors is guarantor</span> <b>THEN </b> accept"
      ],
      "text/plain": [
       "<IPython.core.display.HTML object>"
      ]
     },
     "metadata": {},
     "output_type": "display_data"
    },
    {
     "data": {
      "text/html": [
       "#9, 9283, LR: 0.00, Anomaly: 1.51, Neighbors: 9661, Cover: 15"
      ],
      "text/plain": [
       "<IPython.core.display.HTML object>"
      ]
     },
     "metadata": {},
     "output_type": "display_data"
    },
    {
     "data": {
      "text/html": [
       "<b>IF </b>  <span style=\"background-color: rgb(200,220,239); color:white;\">other_installment_plans is not bank</span>,  <span style=\"background-color: rgb(209,226,242); color:black;\">credit_history is not delay in paying off in the past</span>,  <span style=\"background-color: rgb(182,212,233); color:white;\">other_debtors is guarantor</span>,  <span style=\"background-color: rgb(214,229,244); color:black;\">age >= 36</span> <b>THEN </b> accept"
      ],
      "text/plain": [
       "<IPython.core.display.HTML object>"
      ]
     },
     "metadata": {},
     "output_type": "display_data"
    },
    {
     "data": {
      "text/html": [
       "#10, 6641, LR: 0.06, Anomaly: 1.49, Neighbors: 9661, Cover: 10"
      ],
      "text/plain": [
       "<IPython.core.display.HTML object>"
      ]
     },
     "metadata": {},
     "output_type": "display_data"
    },
    {
     "data": {
      "text/html": [
       "<b>IF </b>  <span style=\"background-color: rgb(252,198,175); color:black;\">status is not ... >= 200 DM (salary)</span>,  <span style=\"background-color: white; color:black;\">present_residence is not < 1 yr</span>,  <span style=\"background-color: rgb(253,208,189); color:black;\">duration >= 10</span>,  <span style=\"background-color: rgb(253,219,203); color:black;\">purpose is not car (new)</span>,  <span style=\"background-color: white; color:black;\">property is building soc. savings agr./life insurance</span>,  <span style=\"background-color: rgb(182,212,233); color:white;\">other_debtors is guarantor</span> <b>THEN </b> accept"
      ],
      "text/plain": [
       "<IPython.core.display.HTML object>"
      ]
     },
     "metadata": {},
     "output_type": "display_data"
    },
    {
     "data": {
      "text/html": [
       "#11, 254, LR: 0.14, Anomaly: 1.49, Neighbors: 9661, Cover: 11"
      ],
      "text/plain": [
       "<IPython.core.display.HTML object>"
      ]
     },
     "metadata": {},
     "output_type": "display_data"
    },
    {
     "data": {
      "text/html": [
       "<b>IF </b>  <span style=\"background-color: rgb(253,214,197); color:black;\">property is not real estate</span>,  <span style=\"background-color: rgb(252,198,175); color:black;\">status is not ... >= 200 DM (salary)</span>,  <span style=\"background-color: rgb(253,209,191); color:black;\">purpose is not furniture/equipment and repairs</span>,  <span style=\"background-color: rgb(252,186,160); color:white;\">telephone is No</span>,  <span style=\"background-color: rgb(182,212,233); color:white;\">other_debtors is guarantor</span> <b>THEN </b> accept"
      ],
      "text/plain": [
       "<IPython.core.display.HTML object>"
      ]
     },
     "metadata": {},
     "output_type": "display_data"
    },
    {
     "data": {
      "text/html": [
       "#12, 9308, LR: 0.01, Anomaly: 1.49, Neighbors: 9661, Cover: 24"
      ],
      "text/plain": [
       "<IPython.core.display.HTML object>"
      ]
     },
     "metadata": {},
     "output_type": "display_data"
    },
    {
     "data": {
      "text/html": [
       "<b>IF </b>  <span style=\"background-color: rgb(209,226,242); color:black;\">credit_history is not critical account/other credits elsewhere</span>,  <span style=\"background-color: rgb(252,198,175); color:black;\">status is not ... >= 200 DM (salary)</span>,  <span style=\"background-color: rgb(213,229,244); color:black;\">purpose is not others and car (used) and repairs</span>,  <span style=\"background-color: rgb(203,222,240); color:black;\">housing is own</span>,  <span style=\"background-color: white; color:black;\">property is not building soc. savings agr./life insurance</span>,  <span style=\"background-color: rgb(182,212,233); color:white;\">other_debtors is guarantor</span> <b>THEN </b> accept"
      ],
      "text/plain": [
       "<IPython.core.display.HTML object>"
      ]
     },
     "metadata": {},
     "output_type": "display_data"
    },
    {
     "data": {
      "text/html": [
       "#13, 2549, LR: 0.02, Anomaly: 1.47, Neighbors: 9661, Cover: 13"
      ],
      "text/plain": [
       "<IPython.core.display.HTML object>"
      ]
     },
     "metadata": {},
     "output_type": "display_data"
    },
    {
     "data": {
      "text/html": [
       "<b>IF </b>  <span style=\"background-color: rgb(219,233,246); color:black;\">purpose is not others</span>,  <span style=\"background-color: rgb(252,198,175); color:black;\">status is not ... >= 200 DM (salary)</span>,  <span style=\"background-color: rgb(182,212,233); color:white;\">other_debtors is guarantor</span>,  <span style=\"background-color: white; color:black;\">job is not skilled</span> <b>THEN </b> accept"
      ],
      "text/plain": [
       "<IPython.core.display.HTML object>"
      ]
     },
     "metadata": {},
     "output_type": "display_data"
    },
    {
     "data": {
      "text/html": [
       "#14, 4085, LR: 0.03, Anomaly: 1.47, Neighbors: 9661, Cover: 14"
      ],
      "text/plain": [
       "<IPython.core.display.HTML object>"
      ]
     },
     "metadata": {},
     "output_type": "display_data"
    },
    {
     "data": {
      "text/html": [
       "<b>IF </b>  <span style=\"background-color: white; color:black;\">credit_history is not all credits at this bank paid back duly</span>,  <span style=\"background-color: rgb(203,222,240); color:black;\">housing is own</span>,  <span style=\"background-color: rgb(221,234,246); color:black;\">employment_duration is not unemployed and < 1 yr</span>,  <span style=\"background-color: rgb(182,212,233); color:white;\">other_debtors is guarantor</span>,  <span style=\"background-color: rgb(252,185,159); color:white;\">personal_status_sex is not married male</span> <b>THEN </b> accept"
      ],
      "text/plain": [
       "<IPython.core.display.HTML object>"
      ]
     },
     "metadata": {},
     "output_type": "display_data"
    },
    {
     "data": {
      "text/html": [
       "#15, 9562, LR: 0.06, Anomaly: 1.47, Neighbors: 9661, Cover: 16"
      ],
      "text/plain": [
       "<IPython.core.display.HTML object>"
      ]
     },
     "metadata": {},
     "output_type": "display_data"
    },
    {
     "data": {
      "text/html": [
       "<b>IF </b>  <span style=\"background-color: rgb(252,199,177); color:black;\">installment_rate is not < 20 and 20 to 25</span>,  <span style=\"background-color: rgb(198,219,239); color:white;\">other_installment_plans is none</span>,  <span style=\"background-color: rgb(252,186,160); color:white;\">telephone is No</span>,  <span style=\"background-color: rgb(252,198,175); color:black;\">status is not ... >= 200 DM (salary)</span>,  <span style=\"background-color: rgb(182,212,233); color:white;\">other_debtors is guarantor</span> <b>THEN </b> accept"
      ],
      "text/plain": [
       "<IPython.core.display.HTML object>"
      ]
     },
     "metadata": {},
     "output_type": "display_data"
    },
    {
     "data": {
      "text/html": [
       "#16, 5845, LR: 0.06, Anomaly: 1.47, Neighbors: 9661, Cover: 17"
      ],
      "text/plain": [
       "<IPython.core.display.HTML object>"
      ]
     },
     "metadata": {},
     "output_type": "display_data"
    },
    {
     "data": {
      "text/html": [
       "<b>IF </b>  <span style=\"background-color: white; color:black;\">credit_history is not all credits at this bank paid back duly</span>,  <span style=\"background-color: rgb(182,212,233); color:white;\">other_debtors is guarantor</span>,  <span style=\"background-color: rgb(253,214,197); color:black;\">property is not real estate</span> <b>THEN </b> accept"
      ],
      "text/plain": [
       "<IPython.core.display.HTML object>"
      ]
     },
     "metadata": {},
     "output_type": "display_data"
    },
    {
     "data": {
      "text/html": [
       "#17, 6473, LR: 0.05, Anomaly: 1.47, Neighbors: 9661, Cover: 22"
      ],
      "text/plain": [
       "<IPython.core.display.HTML object>"
      ]
     },
     "metadata": {},
     "output_type": "display_data"
    },
    {
     "data": {
      "text/html": [
       "<b>IF </b>  <span style=\"background-color: rgb(252,197,174); color:black;\">age <= 31</span>,  <span style=\"background-color: rgb(251,127,95); color:white;\">savings is not >= 1000 DM</span>,  <span style=\"background-color: rgb(182,212,233); color:white;\">other_debtors is guarantor</span> <b>THEN </b> accept"
      ],
      "text/plain": [
       "<IPython.core.display.HTML object>"
      ]
     },
     "metadata": {},
     "output_type": "display_data"
    },
    {
     "data": {
      "text/html": [
       "#18, 2972, LR: 0.01, Anomaly: 1.47, Neighbors: 9661, Cover: 19"
      ],
      "text/plain": [
       "<IPython.core.display.HTML object>"
      ]
     },
     "metadata": {},
     "output_type": "display_data"
    },
    {
     "data": {
      "text/html": [
       "<b>IF </b>  <span style=\"background-color: rgb(207,225,242); color:black;\">housing is not rent</span>,  <span style=\"background-color: rgb(215,230,244); color:black;\">property is real estate</span>,  <span style=\"background-color: white; color:black;\">credit_history is no credits taken/all credits paid back duly</span>,  <span style=\"background-color: rgb(182,212,233); color:white;\">other_debtors is guarantor</span> <b>THEN </b> accept"
      ],
      "text/plain": [
       "<IPython.core.display.HTML object>"
      ]
     },
     "metadata": {},
     "output_type": "display_data"
    },
    {
     "data": {
      "text/html": [
       "#19, 5888, LR: 0.11, Anomaly: 1.47, Neighbors: 9661, Cover: 18"
      ],
      "text/plain": [
       "<IPython.core.display.HTML object>"
      ]
     },
     "metadata": {},
     "output_type": "display_data"
    },
    {
     "data": {
      "text/html": [
       "<b>IF </b>  <span style=\"background-color: rgb(252,198,175); color:black;\">status is not ... >= 200 DM (salary)</span>,  <span style=\"background-color: rgb(251,120,88); color:white;\">savings is not 500 to 1000 DM and >= 1000 DM</span>,  <span style=\"background-color: rgb(182,212,233); color:white;\">other_debtors is guarantor</span>,  <span style=\"background-color: rgb(252,197,174); color:black;\">age <= 31</span> <b>THEN </b> accept"
      ],
      "text/plain": [
       "<IPython.core.display.HTML object>"
      ]
     },
     "metadata": {},
     "output_type": "display_data"
    },
    {
     "data": {
      "text/html": [
       "#20, 5889, LR: 0.04, Anomaly: 1.47, Neighbors: 9661, Cover: 24"
      ],
      "text/plain": [
       "<IPython.core.display.HTML object>"
      ]
     },
     "metadata": {},
     "output_type": "display_data"
    },
    {
     "data": {
      "text/html": [
       "<b>IF </b>  <span style=\"background-color: rgb(252,198,175); color:black;\">status is not ... >= 200 DM (salary)</span>,  <span style=\"background-color: rgb(251,120,88); color:white;\">savings is not 500 to 1000 DM and >= 1000 DM</span>,  <span style=\"background-color: rgb(182,212,233); color:white;\">other_debtors is guarantor</span>,  <span style=\"background-color: rgb(218,232,245); color:black;\">age >= 31</span> <b>THEN </b> accept"
      ],
      "text/plain": [
       "<IPython.core.display.HTML object>"
      ]
     },
     "metadata": {},
     "output_type": "display_data"
    },
    {
     "data": {
      "text/html": [
       "#21, 4853, LR: 0.73, Anomaly: 1.47, Neighbors: 9661, Cover: 19"
      ],
      "text/plain": [
       "<IPython.core.display.HTML object>"
      ]
     },
     "metadata": {},
     "output_type": "display_data"
    },
    {
     "data": {
      "text/html": [
       "<b>IF </b>  <span style=\"background-color: rgb(251,109,77); color:white;\">property is unknown / no property</span>,  <span style=\"background-color: rgb(251,127,95); color:white;\">savings is not >= 1000 DM</span>,  <span style=\"background-color: rgb(252,198,175); color:black;\">status is not ... >= 200 DM (salary)</span>,  <span style=\"background-color: rgb(190,215,236); color:white;\">purpose is car (new)</span> <b>THEN </b> accept"
      ],
      "text/plain": [
       "<IPython.core.display.HTML object>"
      ]
     },
     "metadata": {},
     "output_type": "display_data"
    },
    {
     "data": {
      "text/html": [
       "#22, 2550, LR: 0.02, Anomaly: 1.46, Neighbors: 9661, Cover: 25"
      ],
      "text/plain": [
       "<IPython.core.display.HTML object>"
      ]
     },
     "metadata": {},
     "output_type": "display_data"
    },
    {
     "data": {
      "text/html": [
       "<b>IF </b>  <span style=\"background-color: rgb(219,233,246); color:black;\">purpose is not others</span>,  <span style=\"background-color: rgb(252,198,175); color:black;\">status is not ... >= 200 DM (salary)</span>,  <span style=\"background-color: rgb(182,212,233); color:white;\">other_debtors is guarantor</span>,  <span style=\"background-color: rgb(221,234,246); color:black;\">job is skilled</span> <b>THEN </b> accept"
      ],
      "text/plain": [
       "<IPython.core.display.HTML object>"
      ]
     },
     "metadata": {},
     "output_type": "display_data"
    },
    {
     "data": {
      "text/html": [
       "#23, 9112, LR: 0.00, Anomaly: 1.46, Neighbors: 9661, Cover: 13"
      ],
      "text/plain": [
       "<IPython.core.display.HTML object>"
      ]
     },
     "metadata": {},
     "output_type": "display_data"
    },
    {
     "data": {
      "text/html": [
       "<b>IF </b>  <span style=\"background-color: rgb(203,222,240); color:black;\">duration <= 15</span>,  <span style=\"background-color: rgb(198,219,239); color:white;\">other_installment_plans is none</span>,  <span style=\"background-color: rgb(167,206,228); color:white;\">status is not no checking account and ... < 0 DM</span>,  <span style=\"background-color: rgb(190,215,236); color:white;\">purpose is car (new)</span> <b>THEN </b> accept"
      ],
      "text/plain": [
       "<IPython.core.display.HTML object>"
      ]
     },
     "metadata": {},
     "output_type": "display_data"
    },
    {
     "data": {
      "text/html": [
       "#24, 3838, LR: 0.02, Anomaly: 1.46, Neighbors: 9661, Cover: 32"
      ],
      "text/plain": [
       "<IPython.core.display.HTML object>"
      ]
     },
     "metadata": {},
     "output_type": "display_data"
    },
    {
     "data": {
      "text/html": [
       "<b>IF </b>  <span style=\"background-color: rgb(219,233,246); color:black;\">purpose is not others</span>,  <span style=\"background-color: rgb(207,225,242); color:black;\">housing is not rent</span>,  <span style=\"background-color: rgb(209,226,242); color:black;\">credit_history is not existing credits paid back duly till now</span>,  <span style=\"background-color: rgb(251,109,77); color:white;\">savings is unknown/no savings account or < 100 DM</span>,  <span style=\"background-color: rgb(182,212,233); color:white;\">other_debtors is guarantor</span> <b>THEN </b> accept"
      ],
      "text/plain": [
       "<IPython.core.display.HTML object>"
      ]
     },
     "metadata": {},
     "output_type": "display_data"
    },
    {
     "data": {
      "text/html": [
       "#25, 4356, LR: 0.02, Anomaly: 1.46, Neighbors: 9661, Cover: 17"
      ],
      "text/plain": [
       "<IPython.core.display.HTML object>"
      ]
     },
     "metadata": {},
     "output_type": "display_data"
    },
    {
     "data": {
      "text/html": [
       "<b>IF </b>  <span style=\"background-color: rgb(252,186,160); color:white;\">telephone is No</span>,  <span style=\"background-color: rgb(221,234,246); color:black;\">property is not car or other</span>,  <span style=\"background-color: rgb(252,193,169); color:black;\">foreign_worker is No</span>,  <span style=\"background-color: white; color:black;\">credit_history is no credits taken/all credits paid back duly</span>,  <span style=\"background-color: rgb(203,222,240); color:black;\">housing is own</span>,  <span style=\"background-color: rgb(200,220,239); color:white;\">other_installment_plans is not bank</span>,  <span style=\"background-color: rgb(182,212,233); color:white;\">other_debtors is guarantor</span> <b>THEN </b> accept"
      ],
      "text/plain": [
       "<IPython.core.display.HTML object>"
      ]
     },
     "metadata": {},
     "output_type": "display_data"
    },
    {
     "data": {
      "text/html": [
       "#26, 6972, LR: 0.01, Anomaly: 1.45, Neighbors: 9661, Cover: 31"
      ],
      "text/plain": [
       "<IPython.core.display.HTML object>"
      ]
     },
     "metadata": {},
     "output_type": "display_data"
    },
    {
     "data": {
      "text/html": [
       "<b>IF </b>  <span style=\"background-color: rgb(219,233,246); color:black;\">purpose is not others</span>,  <span style=\"background-color: rgb(215,230,244); color:black;\">property is not unknown / no property</span>,  <span style=\"background-color: rgb(207,225,242); color:black;\">housing is not rent</span>,  <span style=\"background-color: rgb(252,198,175); color:black;\">status is not ... >= 200 DM (salary)</span>,  <span style=\"background-color: rgb(182,212,233); color:white;\">other_debtors is guarantor</span> <b>THEN </b> accept"
      ],
      "text/plain": [
       "<IPython.core.display.HTML object>"
      ]
     },
     "metadata": {},
     "output_type": "display_data"
    },
    {
     "data": {
      "text/html": [
       "#27, 3432, LR: 0.00, Anomaly: 1.45, Neighbors: 9661, Cover: 12"
      ],
      "text/plain": [
       "<IPython.core.display.HTML object>"
      ]
     },
     "metadata": {},
     "output_type": "display_data"
    },
    {
     "data": {
      "text/html": [
       "<b>IF </b>  <span style=\"background-color: rgb(168,206,228); color:white;\">credit_history is all credits at this bank paid back duly</span>,  <span style=\"background-color: rgb(182,212,233); color:white;\">other_debtors is guarantor</span> <b>THEN </b> accept"
      ],
      "text/plain": [
       "<IPython.core.display.HTML object>"
      ]
     },
     "metadata": {},
     "output_type": "display_data"
    },
    {
     "data": {
      "text/html": [
       "#28, 3628, LR: 0.00, Anomaly: 1.45, Neighbors: 9661, Cover: 11"
      ],
      "text/plain": [
       "<IPython.core.display.HTML object>"
      ]
     },
     "metadata": {},
     "output_type": "display_data"
    },
    {
     "data": {
      "text/html": [
       "<b>IF </b>  <span style=\"background-color: rgb(168,206,228); color:white;\">credit_history is all credits at this bank paid back duly</span>,  <span style=\"background-color: white; color:black;\">number_credits is not 4 to 5</span>,  <span style=\"background-color: rgb(182,212,233); color:white;\">other_debtors is guarantor</span> <b>THEN </b> accept"
      ],
      "text/plain": [
       "<IPython.core.display.HTML object>"
      ]
     },
     "metadata": {},
     "output_type": "display_data"
    },
    {
     "data": {
      "text/html": [
       "#29, 9660, LR: 0.00, Anomaly: 1.45, Neighbors: 9661, Cover: 12"
      ],
      "text/plain": [
       "<IPython.core.display.HTML object>"
      ]
     },
     "metadata": {},
     "output_type": "display_data"
    },
    {
     "data": {
      "text/html": [
       "<b>IF </b>  <span style=\"background-color: rgb(168,206,228); color:white;\">credit_history is all credits at this bank paid back duly</span>,  <span style=\"background-color: rgb(182,212,233); color:white;\">other_debtors is guarantor</span> <b>THEN </b> accept"
      ],
      "text/plain": [
       "<IPython.core.display.HTML object>"
      ]
     },
     "metadata": {},
     "output_type": "display_data"
    },
    {
     "data": {
      "text/html": [
       "#30, 7404, LR: 0.05, Anomaly: 1.45, Neighbors: 9661, Cover: 20"
      ],
      "text/plain": [
       "<IPython.core.display.HTML object>"
      ]
     },
     "metadata": {},
     "output_type": "display_data"
    },
    {
     "data": {
      "text/html": [
       "<b>IF </b>  <span style=\"background-color: rgb(200,220,239); color:white;\">other_installment_plans is not bank</span>,  <span style=\"background-color: white; color:black;\">number_credits is not 2 to 3</span>,  <span style=\"background-color: rgb(252,186,160); color:white;\">telephone is No</span>,  <span style=\"background-color: rgb(252,180,153); color:white;\">status is not 0 to 200 DM and ... >= 200 DM (salary)</span>,  <span style=\"background-color: rgb(182,212,233); color:white;\">other_debtors is guarantor</span> <b>THEN </b> accept"
      ],
      "text/plain": [
       "<IPython.core.display.HTML object>"
      ]
     },
     "metadata": {},
     "output_type": "display_data"
    },
    {
     "data": {
      "text/html": [
       "#31, 5726, LR: 0.25, Anomaly: 1.45, Neighbors: 9661, Cover: 15"
      ],
      "text/plain": [
       "<IPython.core.display.HTML object>"
      ]
     },
     "metadata": {},
     "output_type": "display_data"
    },
    {
     "data": {
      "text/html": [
       "<b>IF </b>  <span style=\"background-color: rgb(212,228,243); color:black;\">telephone is Yes</span>,  <span style=\"background-color: rgb(220,233,246); color:black;\">duration <= 33</span>,  <span style=\"background-color: rgb(251,109,77); color:white;\">property is unknown / no property</span>,  <span style=\"background-color: rgb(252,200,179); color:black;\">housing is for free</span>,  <span style=\"background-color: rgb(167,206,228); color:white;\">status is not no checking account and ... < 0 DM</span> <b>THEN </b> accept"
      ],
      "text/plain": [
       "<IPython.core.display.HTML object>"
      ]
     },
     "metadata": {},
     "output_type": "display_data"
    },
    {
     "data": {
      "text/html": [
       "#32, 8354, LR: 0.06, Anomaly: 1.44, Neighbors: 9661, Cover: 23"
      ],
      "text/plain": [
       "<IPython.core.display.HTML object>"
      ]
     },
     "metadata": {},
     "output_type": "display_data"
    },
    {
     "data": {
      "text/html": [
       "<b>IF </b>  <span style=\"background-color: rgb(252,198,175); color:black;\">status is not ... >= 200 DM (salary)</span>,  <span style=\"background-color: rgb(252,186,160); color:white;\">telephone is No</span>,  <span style=\"background-color: white; color:black;\">job is not unskilled and resident</span>,  <span style=\"background-color: rgb(182,212,233); color:white;\">other_debtors is guarantor</span> <b>THEN </b> accept"
      ],
      "text/plain": [
       "<IPython.core.display.HTML object>"
      ]
     },
     "metadata": {},
     "output_type": "display_data"
    },
    {
     "data": {
      "text/html": [
       "#33, 8576, LR: 0.01, Anomaly: 1.44, Neighbors: 9661, Cover: 17"
      ],
      "text/plain": [
       "<IPython.core.display.HTML object>"
      ]
     },
     "metadata": {},
     "output_type": "display_data"
    },
    {
     "data": {
      "text/html": [
       "<b>IF </b>  <span style=\"background-color: white; color:black;\">job is not skilled</span>,  <span style=\"background-color: rgb(253,219,203); color:black;\">purpose is not car (new)</span>,  <span style=\"background-color: rgb(215,230,244); color:black;\">property is not unknown / no property</span>,  <span style=\"background-color: rgb(182,212,233); color:white;\">other_debtors is guarantor</span> <b>THEN </b> accept"
      ],
      "text/plain": [
       "<IPython.core.display.HTML object>"
      ]
     },
     "metadata": {},
     "output_type": "display_data"
    },
    {
     "data": {
      "text/html": [
       "#34, 5345, LR: 0.08, Anomaly: 1.44, Neighbors: 9661, Cover: 22"
      ],
      "text/plain": [
       "<IPython.core.display.HTML object>"
      ]
     },
     "metadata": {},
     "output_type": "display_data"
    },
    {
     "data": {
      "text/html": [
       "<b>IF </b>  <span style=\"background-color: rgb(252,198,175); color:black;\">status is not ... >= 200 DM (salary)</span>,  <span style=\"background-color: white; color:black;\">job is not unskilled and resident</span>,  <span style=\"background-color: rgb(252,186,160); color:white;\">telephone is No</span>,  <span style=\"background-color: rgb(253,219,203); color:black;\">purpose is not car (new)</span>,  <span style=\"background-color: rgb(182,212,233); color:white;\">other_debtors is guarantor</span> <b>THEN </b> accept"
      ],
      "text/plain": [
       "<IPython.core.display.HTML object>"
      ]
     },
     "metadata": {},
     "output_type": "display_data"
    },
    {
     "data": {
      "text/html": [
       "#35, 31, LR: 0.85, Anomaly: 1.43, Neighbors: 9661, Cover: 8"
      ],
      "text/plain": [
       "<IPython.core.display.HTML object>"
      ]
     },
     "metadata": {},
     "output_type": "display_data"
    },
    {
     "data": {
      "text/html": [
       "<b>IF </b>  <span style=\"background-color: rgb(244,80,57); color:white;\">savings is unknown/no savings account</span>,  <span style=\"background-color: rgb(251,109,77); color:white;\">property is unknown / no property</span>,  <span style=\"background-color: white; color:black;\">credit_history is not all credits at this bank paid back duly</span>,  <span style=\"background-color: rgb(252,199,177); color:black;\">installment_rate is not < 20 and 20 to 25</span>,  <span style=\"background-color: rgb(167,206,228); color:white;\">status is not no checking account and ... < 0 DM</span> <b>THEN </b> accept"
      ],
      "text/plain": [
       "<IPython.core.display.HTML object>"
      ]
     },
     "metadata": {},
     "output_type": "display_data"
    },
    {
     "data": {
      "text/html": [
       "#36, 1762, LR: 0.05, Anomaly: 1.43, Neighbors: 9661, Cover: 14"
      ],
      "text/plain": [
       "<IPython.core.display.HTML object>"
      ]
     },
     "metadata": {},
     "output_type": "display_data"
    },
    {
     "data": {
      "text/html": [
       "<b>IF </b>  <span style=\"background-color: rgb(252,198,175); color:black;\">status is not ... >= 200 DM (salary)</span>,  <span style=\"background-color: rgb(221,234,246); color:black;\">property is not car or other</span>,  <span style=\"background-color: white; color:black;\">purpose is not repairs</span>,  <span style=\"background-color: rgb(252,199,177); color:black;\">installment_rate is not < 20 and 20 to 25</span>,  <span style=\"background-color: rgb(182,212,233); color:white;\">other_debtors is guarantor</span>,  <span style=\"background-color: white; color:black;\">present_residence is not 4 to 7 yrs and >= 7 yrs</span> <b>THEN </b> accept"
      ],
      "text/plain": [
       "<IPython.core.display.HTML object>"
      ]
     },
     "metadata": {},
     "output_type": "display_data"
    },
    {
     "data": {
      "text/html": [
       "#37, 1056, LR: 0.01, Anomaly: 1.43, Neighbors: 9661, Cover: 35"
      ],
      "text/plain": [
       "<IPython.core.display.HTML object>"
      ]
     },
     "metadata": {},
     "output_type": "display_data"
    },
    {
     "data": {
      "text/html": [
       "<b>IF </b>  <span style=\"background-color: rgb(203,222,240); color:black;\">housing is own</span>,  <span style=\"background-color: rgb(252,198,175); color:black;\">status is not ... >= 200 DM (salary)</span>,  <span style=\"background-color: rgb(221,234,246); color:black;\">property is not car or other</span>,  <span style=\"background-color: rgb(182,212,233); color:white;\">other_debtors is guarantor</span> <b>THEN </b> accept"
      ],
      "text/plain": [
       "<IPython.core.display.HTML object>"
      ]
     },
     "metadata": {},
     "output_type": "display_data"
    },
    {
     "data": {
      "text/html": [
       "#38, 1763, LR: 0.04, Anomaly: 1.43, Neighbors: 9661, Cover: 14"
      ],
      "text/plain": [
       "<IPython.core.display.HTML object>"
      ]
     },
     "metadata": {},
     "output_type": "display_data"
    },
    {
     "data": {
      "text/html": [
       "<b>IF </b>  <span style=\"background-color: rgb(252,198,175); color:black;\">status is not ... >= 200 DM (salary)</span>,  <span style=\"background-color: rgb(221,234,246); color:black;\">property is not car or other</span>,  <span style=\"background-color: white; color:black;\">purpose is not repairs</span>,  <span style=\"background-color: rgb(252,199,177); color:black;\">installment_rate is not < 20 and 20 to 25</span>,  <span style=\"background-color: rgb(182,212,233); color:white;\">other_debtors is guarantor</span>,  <span style=\"background-color: white; color:black;\">present_residence is not < 1 yr and 1 to 4 yrs</span> <b>THEN </b> accept"
      ],
      "text/plain": [
       "<IPython.core.display.HTML object>"
      ]
     },
     "metadata": {},
     "output_type": "display_data"
    },
    {
     "data": {
      "text/html": [
       "#39, 4698, LR: 0.02, Anomaly: 1.43, Neighbors: 9661, Cover: 32"
      ],
      "text/plain": [
       "<IPython.core.display.HTML object>"
      ]
     },
     "metadata": {},
     "output_type": "display_data"
    },
    {
     "data": {
      "text/html": [
       "<b>IF </b>  <span style=\"background-color: rgb(200,220,239); color:white;\">other_installment_plans is not bank</span>,  <span style=\"background-color: rgb(252,186,160); color:white;\">telephone is No</span>,  <span style=\"background-color: rgb(182,212,233); color:white;\">other_debtors is guarantor</span> <b>THEN </b> accept"
      ],
      "text/plain": [
       "<IPython.core.display.HTML object>"
      ]
     },
     "metadata": {},
     "output_type": "display_data"
    },
    {
     "data": {
      "text/html": [
       "#40, 9282, LR: 0.01, Anomaly: 1.43, Neighbors: 9661, Cover: 25"
      ],
      "text/plain": [
       "<IPython.core.display.HTML object>"
      ]
     },
     "metadata": {},
     "output_type": "display_data"
    },
    {
     "data": {
      "text/html": [
       "<b>IF </b>  <span style=\"background-color: rgb(200,220,239); color:white;\">other_installment_plans is not bank</span>,  <span style=\"background-color: rgb(209,226,242); color:black;\">credit_history is not delay in paying off in the past</span>,  <span style=\"background-color: rgb(182,212,233); color:white;\">other_debtors is guarantor</span>,  <span style=\"background-color: rgb(253,207,188); color:black;\">age <= 36</span> <b>THEN </b> accept"
      ],
      "text/plain": [
       "<IPython.core.display.HTML object>"
      ]
     },
     "metadata": {},
     "output_type": "display_data"
    },
    {
     "data": {
      "text/html": [
       "#41, 1162, LR: 0.00, Anomaly: 1.41, Neighbors: 9661, Cover: 15"
      ],
      "text/plain": [
       "<IPython.core.display.HTML object>"
      ]
     },
     "metadata": {},
     "output_type": "display_data"
    },
    {
     "data": {
      "text/html": [
       "<b>IF </b>  <span style=\"background-color: rgb(209,226,242); color:black;\">purpose is furniture/equipment</span>,  <span style=\"background-color: rgb(207,225,242); color:black;\">housing is not rent</span>,  <span style=\"background-color: rgb(198,219,239); color:white;\">other_installment_plans is none</span>,  <span style=\"background-color: white; color:black;\">credit_history is not all credits at this bank paid back duly</span>,  <span style=\"background-color: rgb(182,212,233); color:white;\">other_debtors is guarantor</span> <b>THEN </b> accept"
      ],
      "text/plain": [
       "<IPython.core.display.HTML object>"
      ]
     },
     "metadata": {},
     "output_type": "display_data"
    },
    {
     "data": {
      "text/html": [
       "#42, 7961, LR: 0.56, Anomaly: 1.41, Neighbors: 9661, Cover: 17"
      ],
      "text/plain": [
       "<IPython.core.display.HTML object>"
      ]
     },
     "metadata": {},
     "output_type": "display_data"
    },
    {
     "data": {
      "text/html": [
       "<b>IF </b>  <span style=\"background-color: rgb(158,202,225); color:white;\">status is ... >= 200 DM (salary)</span>,  <span style=\"background-color: rgb(252,182,156); color:white;\">other_installment_plans is not none</span>,  <span style=\"background-color: rgb(251,122,90); color:white;\">duration >= 26</span> <b>THEN </b> accept"
      ],
      "text/plain": [
       "<IPython.core.display.HTML object>"
      ]
     },
     "metadata": {},
     "output_type": "display_data"
    },
    {
     "data": {
      "text/html": [
       "#43, 759, LR: 0.14, Anomaly: 1.41, Neighbors: 9661, Cover: 21"
      ],
      "text/plain": [
       "<IPython.core.display.HTML object>"
      ]
     },
     "metadata": {},
     "output_type": "display_data"
    },
    {
     "data": {
      "text/html": [
       "<b>IF </b>  <span style=\"background-color: rgb(251,109,77); color:white;\">savings is unknown/no savings account or < 100 DM</span>,  <span style=\"background-color: rgb(252,186,160); color:white;\">telephone is No</span>,  <span style=\"background-color: rgb(252,198,175); color:black;\">status is not no checking account and ... >= 200 DM (salary)</span>,  <span style=\"background-color: rgb(182,212,233); color:white;\">other_debtors is guarantor</span> <b>THEN </b> accept"
      ],
      "text/plain": [
       "<IPython.core.display.HTML object>"
      ]
     },
     "metadata": {},
     "output_type": "display_data"
    },
    {
     "data": {
      "text/html": [
       "#44, 7722, LR: 0.00, Anomaly: 1.41, Neighbors: 9658, Cover: 17"
      ],
      "text/plain": [
       "<IPython.core.display.HTML object>"
      ]
     },
     "metadata": {},
     "output_type": "display_data"
    },
    {
     "data": {
      "text/html": [
       "<b>IF </b>  <span style=\"background-color: rgb(197,218,238); color:white;\">property is real estate</span>,  <span style=\"background-color: rgb(244,80,57); color:white;\">savings is unknown/no savings account</span>,  <span style=\"background-color: rgb(252,186,160); color:white;\">telephone is No</span>,  <span style=\"background-color: rgb(158,202,225); color:white;\">status is ... >= 200 DM (salary)</span>,  <span style=\"background-color: rgb(190,215,236); color:white;\">duration <= 11</span> <b>THEN </b> accept"
      ],
      "text/plain": [
       "<IPython.core.display.HTML object>"
      ]
     },
     "metadata": {},
     "output_type": "display_data"
    },
    {
     "data": {
      "text/html": [
       "#45, 4613, LR: 0.02, Anomaly: 1.41, Neighbors: 9661, Cover: 22"
      ],
      "text/plain": [
       "<IPython.core.display.HTML object>"
      ]
     },
     "metadata": {},
     "output_type": "display_data"
    },
    {
     "data": {
      "text/html": [
       "<b>IF </b>  <span style=\"background-color: rgb(203,222,240); color:black;\">housing is own</span>,  <span style=\"background-color: rgb(252,198,175); color:black;\">status is not ... >= 200 DM (salary)</span>,  <span style=\"background-color: rgb(253,207,188); color:black;\">duration >= 11</span>,  <span style=\"background-color: white; color:black;\">present_residence is not < 1 yr</span>,  <span style=\"background-color: rgb(182,212,233); color:white;\">other_debtors is guarantor</span> <b>THEN </b> accept"
      ],
      "text/plain": [
       "<IPython.core.display.HTML object>"
      ]
     },
     "metadata": {},
     "output_type": "display_data"
    },
    {
     "data": {
      "text/html": [
       "#46, 5617, LR: 0.15, Anomaly: 1.40, Neighbors: 9661, Cover: 20"
      ],
      "text/plain": [
       "<IPython.core.display.HTML object>"
      ]
     },
     "metadata": {},
     "output_type": "display_data"
    },
    {
     "data": {
      "text/html": [
       "<b>IF </b>  <span style=\"background-color: rgb(207,225,242); color:black;\">housing is not rent</span>,  <span style=\"background-color: rgb(251,109,77); color:white;\">property is unknown / no property</span>,  <span style=\"background-color: rgb(212,228,243); color:black;\">telephone is Yes</span>,  <span style=\"background-color: rgb(190,215,236); color:white;\">purpose is car (new)</span> <b>THEN </b> accept"
      ],
      "text/plain": [
       "<IPython.core.display.HTML object>"
      ]
     },
     "metadata": {},
     "output_type": "display_data"
    },
    {
     "data": {
      "text/html": [
       "#47, 2398, LR: 0.05, Anomaly: 1.40, Neighbors: 9661, Cover: 27"
      ],
      "text/plain": [
       "<IPython.core.display.HTML object>"
      ]
     },
     "metadata": {},
     "output_type": "display_data"
    },
    {
     "data": {
      "text/html": [
       "<b>IF </b>  <span style=\"background-color: rgb(210,227,243); color:black;\">housing is not for free</span>,  <span style=\"background-color: white; color:black;\">credit_history is no credits taken/all credits paid back duly</span>,  <span style=\"background-color: rgb(251,109,77); color:white;\">savings is unknown/no savings account or < 100 DM</span>,  <span style=\"background-color: rgb(200,220,239); color:white;\">other_installment_plans is not bank</span>,  <span style=\"background-color: rgb(182,212,233); color:white;\">other_debtors is guarantor</span> <b>THEN </b> accept"
      ],
      "text/plain": [
       "<IPython.core.display.HTML object>"
      ]
     },
     "metadata": {},
     "output_type": "display_data"
    },
    {
     "data": {
      "text/html": [
       "#48, 9648, LR: 0.04, Anomaly: 1.39, Neighbors: 9661, Cover: 13"
      ],
      "text/plain": [
       "<IPython.core.display.HTML object>"
      ]
     },
     "metadata": {},
     "output_type": "display_data"
    },
    {
     "data": {
      "text/html": [
       "<b>IF </b>  <span style=\"background-color: white; color:black;\">credit_history is not all credits at this bank paid back duly</span>,  <span style=\"background-color: rgb(211,227,243); color:black;\">savings is not unknown/no savings account and < 100 DM</span>,  <span style=\"background-color: rgb(158,202,225); color:white;\">status is ... >= 200 DM (salary)</span>,  <span style=\"background-color: rgb(252,180,153); color:white;\">other_installment_plans is bank</span> <b>THEN </b> accept"
      ],
      "text/plain": [
       "<IPython.core.display.HTML object>"
      ]
     },
     "metadata": {},
     "output_type": "display_data"
    },
    {
     "data": {
      "text/html": [
       "#49, 1246, LR: 0.07, Anomaly: 1.39, Neighbors: 9661, Cover: 42"
      ],
      "text/plain": [
       "<IPython.core.display.HTML object>"
      ]
     },
     "metadata": {},
     "output_type": "display_data"
    },
    {
     "data": {
      "text/html": [
       "<b>IF </b>  <span style=\"background-color: rgb(251,109,77); color:white;\">savings is unknown/no savings account or < 100 DM</span>,  <span style=\"background-color: rgb(252,198,175); color:black;\">status is not ... >= 200 DM (salary)</span>,  <span style=\"background-color: rgb(182,212,233); color:white;\">other_debtors is guarantor</span> <b>THEN </b> accept"
      ],
      "text/plain": [
       "<IPython.core.display.HTML object>"
      ]
     },
     "metadata": {},
     "output_type": "display_data"
    }
   ],
   "source": [
    "for it, i in enumerate(outlier):\n",
    "    display_rule(it, i)"
   ]
  },
  {
   "cell_type": "code",
   "execution_count": 144,
   "metadata": {},
   "outputs": [
    {
     "data": {
      "text/html": [
       "#0, 2593, LR: 0.88, Confidence: 0.69, Consistency: 0.07, Neighbors: 231, Cover: 10"
      ],
      "text/plain": [
       "<IPython.core.display.HTML object>"
      ]
     },
     "metadata": {},
     "output_type": "display_data"
    },
    {
     "data": {
      "text/html": [
       "<b>IF </b>  <span style=\"background-color: rgb(253,218,202); color:black;\">telephone is No</span>,  <span style=\"background-color: rgb(215,230,244); color:black;\">housing is not rent</span>,  <span style=\"background-color: white; color:black;\">number_credits is 1</span>,  <span style=\"background-color: rgb(217,231,245); color:black;\">property is real estate</span>,  <span style=\"background-color: rgb(203,222,240); color:black;\">status is not no checking account</span>,  <span style=\"background-color: rgb(252,181,154); color:white;\">installment_rate is >= 35</span>,  <span style=\"background-color: white; color:black;\">amount >= 1693</span> <b>THEN </b> reject"
      ],
      "text/plain": [
       "<IPython.core.display.HTML object>"
      ]
     },
     "metadata": {},
     "output_type": "display_data"
    },
    {
     "data": {
      "text/html": [
       "#1, 4838, LR: 0.59, Confidence: 0.52, Consistency: 0.07, Neighbors: 195, Cover: 34"
      ],
      "text/plain": [
       "<IPython.core.display.HTML object>"
      ]
     },
     "metadata": {},
     "output_type": "display_data"
    },
    {
     "data": {
      "text/html": [
       "<b>IF </b>  <span style=\"background-color: rgb(219,233,246); color:black;\">property is not unknown / no property</span>,  <span style=\"background-color: white; color:black;\">job is not highly skilled</span>,  <span style=\"background-color: rgb(182,212,233); color:white;\">credit_history is all credits at this bank paid back duly</span>,  <span style=\"background-color: rgb(252,199,177); color:black;\">age <= 33</span>,  <span style=\"background-color: rgb(251,143,111); color:white;\">savings is not 500 to 1000 DM and >= 1000 DM</span>,  <span style=\"background-color: rgb(252,172,144); color:white;\">duration >= 16</span>,  <span style=\"background-color: rgb(253,219,203); color:black;\">purpose is not furniture/equipment</span> <b>THEN </b> reject"
      ],
      "text/plain": [
       "<IPython.core.display.HTML object>"
      ]
     },
     "metadata": {},
     "output_type": "display_data"
    },
    {
     "data": {
      "text/html": [
       "#2, 4089, LR: 0.75, Confidence: 0.59, Consistency: 0.06, Neighbors: 381, Cover: 34"
      ],
      "text/plain": [
       "<IPython.core.display.HTML object>"
      ]
     },
     "metadata": {},
     "output_type": "display_data"
    },
    {
     "data": {
      "text/html": [
       "<b>IF </b>  <span style=\"background-color: rgb(182,212,233); color:white;\">credit_history is all credits at this bank paid back duly</span>,  <span style=\"background-color: rgb(253,222,208); color:black;\">other_debtors is not co-applicant</span>,  <span style=\"background-color: white; color:black;\">present_residence is not < 1 yr</span>,  <span style=\"background-color: rgb(252,199,177); color:black;\">age <= 33</span>,  <span style=\"background-color: rgb(251,143,111); color:white;\">savings is not 500 to 1000 DM and >= 1000 DM</span>,  <span style=\"background-color: rgb(253,220,205); color:black;\">amount >= 2491</span> <b>THEN </b> reject"
      ],
      "text/plain": [
       "<IPython.core.display.HTML object>"
      ]
     },
     "metadata": {},
     "output_type": "display_data"
    },
    {
     "data": {
      "text/html": [
       "#3, 4992, LR: 0.89, Confidence: 0.54, Consistency: 0.06, Neighbors: 500, Cover: 16"
      ],
      "text/plain": [
       "<IPython.core.display.HTML object>"
      ]
     },
     "metadata": {},
     "output_type": "display_data"
    },
    {
     "data": {
      "text/html": [
       "<b>IF </b>  <span style=\"background-color: rgb(182,212,233); color:white;\">credit_history is all credits at this bank paid back duly</span>,  <span style=\"background-color: rgb(253,211,192); color:black;\">amount >= 7725</span> <b>THEN </b> reject"
      ],
      "text/plain": [
       "<IPython.core.display.HTML object>"
      ]
     },
     "metadata": {},
     "output_type": "display_data"
    },
    {
     "data": {
      "text/html": [
       "#4, 6306, LR: 0.54, Confidence: 0.50, Consistency: 0.06, Neighbors: 333, Cover: 12"
      ],
      "text/plain": [
       "<IPython.core.display.HTML object>"
      ]
     },
     "metadata": {},
     "output_type": "display_data"
    },
    {
     "data": {
      "text/html": [
       "<b>IF </b>  <span style=\"background-color: rgb(182,212,233); color:white;\">credit_history is all credits at this bank paid back duly</span>,  <span style=\"background-color: rgb(215,230,244); color:black;\">housing is not rent</span>,  <span style=\"background-color: rgb(252,149,117); color:white;\">savings is not >= 1000 DM</span>,  <span style=\"background-color: rgb(220,233,246); color:black;\">people_liable is 0 to 2</span>,  <span style=\"background-color: rgb(249,100,70); color:white;\">duration >= 39</span> <b>THEN </b> reject"
      ],
      "text/plain": [
       "<IPython.core.display.HTML object>"
      ]
     },
     "metadata": {},
     "output_type": "display_data"
    },
    {
     "data": {
      "text/html": [
       "#5, 8516, LR: 0.96, Confidence: 0.70, Consistency: 0.05, Neighbors: 145, Cover: 9"
      ],
      "text/plain": [
       "<IPython.core.display.HTML object>"
      ]
     },
     "metadata": {},
     "output_type": "display_data"
    },
    {
     "data": {
      "text/html": [
       "<b>IF </b>  <span style=\"background-color: rgb(204,223,241); color:black;\">property is real estate</span>,  <span style=\"background-color: rgb(252,185,159); color:white;\">foreign_worker is No</span>,  <span style=\"background-color: rgb(252,172,144); color:white;\">duration >= 16</span>,  <span style=\"background-color: white; color:black;\">job is not unskilled and resident</span>,  <span style=\"background-color: rgb(167,206,228); color:white;\">status is not no checking account and ... < 0 DM</span>,  <span style=\"background-color: rgb(252,180,153); color:white;\">age <= 26</span> <b>THEN </b> reject"
      ],
      "text/plain": [
       "<IPython.core.display.HTML object>"
      ]
     },
     "metadata": {},
     "output_type": "display_data"
    },
    {
     "data": {
      "text/html": [
       "#6, 3339, LR: 0.92, Confidence: 0.50, Consistency: 0.04, Neighbors: 437, Cover: 12"
      ],
      "text/plain": [
       "<IPython.core.display.HTML object>"
      ]
     },
     "metadata": {},
     "output_type": "display_data"
    },
    {
     "data": {
      "text/html": [
       "<b>IF </b>  <span style=\"background-color: rgb(182,212,233); color:white;\">credit_history is all credits at this bank paid back duly</span>,  <span style=\"background-color: rgb(209,226,242); color:black;\">other_installment_plans is none</span>,  <span style=\"background-color: rgb(216,231,245); color:black;\">housing is not for free</span>,  <span style=\"background-color: rgb(253,212,194); color:black;\">amount >= 7047</span> <b>THEN </b> reject"
      ],
      "text/plain": [
       "<IPython.core.display.HTML object>"
      ]
     },
     "metadata": {},
     "output_type": "display_data"
    },
    {
     "data": {
      "text/html": [
       "#7, 2226, LR: 0.94, Confidence: 0.64, Consistency: 0.04, Neighbors: 74, Cover: 14"
      ],
      "text/plain": [
       "<IPython.core.display.HTML object>"
      ]
     },
     "metadata": {},
     "output_type": "display_data"
    },
    {
     "data": {
      "text/html": [
       "<b>IF </b>  <span style=\"background-color: rgb(206,224,241); color:black;\">duration <= 15</span>,  <span style=\"background-color: rgb(221,234,246); color:black;\">credit_history is not all credits at this bank paid back duly</span>,  <span style=\"background-color: rgb(213,229,244); color:black;\">property is not car or other and unknown / no property</span>,  <span style=\"background-color: rgb(220,233,246); color:black;\">people_liable is 0 to 2</span>,  <span style=\"background-color: rgb(252,186,160); color:white;\">age <= 28</span>,  <span style=\"background-color: rgb(212,228,243); color:black;\">other_installment_plans is not bank</span>,  <span style=\"background-color: white; color:black;\">amount >= 1082</span>,  <span style=\"background-color: white; color:black;\">present_residence is not 4 to 7 yrs and >= 7 yrs</span>,  <span style=\"background-color: rgb(214,229,244); color:black;\">installment_rate is not 25 to 35 and >= 35</span> <b>THEN </b> reject"
      ],
      "text/plain": [
       "<IPython.core.display.HTML object>"
      ]
     },
     "metadata": {},
     "output_type": "display_data"
    },
    {
     "data": {
      "text/html": [
       "#8, 4281, LR: 0.63, Confidence: 0.53, Consistency: 0.03, Neighbors: 94, Cover: 16"
      ],
      "text/plain": [
       "<IPython.core.display.HTML object>"
      ]
     },
     "metadata": {},
     "output_type": "display_data"
    },
    {
     "data": {
      "text/html": [
       "<b>IF </b>  <span style=\"background-color: rgb(253,214,197); color:black;\">property is not real estate</span>,  <span style=\"background-color: white; color:black;\">job is skilled</span>,  <span style=\"background-color: rgb(216,231,245); color:black;\">duration in 10 to 20</span>,  <span style=\"background-color: white; color:black;\">number_credits is 2 to 3</span>,  <span style=\"background-color: white; color:black;\">present_residence is not >= 7 yrs</span>,  <span style=\"background-color: rgb(221,234,246); color:black;\">age >= 28</span>,  <span style=\"background-color: rgb(251,117,85); color:white;\">savings is unknown/no savings account</span> <b>THEN </b> reject"
      ],
      "text/plain": [
       "<IPython.core.display.HTML object>"
      ]
     },
     "metadata": {},
     "output_type": "display_data"
    },
    {
     "data": {
      "text/html": [
       "#9, 289, LR: 0.97, Confidence: 0.62, Consistency: 0.03, Neighbors: 270, Cover: 12"
      ],
      "text/plain": [
       "<IPython.core.display.HTML object>"
      ]
     },
     "metadata": {},
     "output_type": "display_data"
    },
    {
     "data": {
      "text/html": [
       "<b>IF </b>  <span style=\"background-color: rgb(204,223,241); color:black;\">property is real estate</span>,  <span style=\"background-color: rgb(251,117,85); color:white;\">savings is unknown/no savings account</span>,  <span style=\"background-color: rgb(158,202,225); color:white;\">status is ... >= 200 DM (salary)</span>,  <span style=\"background-color: rgb(252,176,148); color:white;\">age <= 25</span> <b>THEN </b> reject"
      ],
      "text/plain": [
       "<IPython.core.display.HTML object>"
      ]
     },
     "metadata": {},
     "output_type": "display_data"
    }
   ],
   "source": [
    "for it, i in enumerate(np.array(score2).argsort()[:10][::-1]):\n",
    "    display_rule(it, i)"
   ]
  },
  {
   "cell_type": "markdown",
   "metadata": {},
   "source": [
    "<div class=\"alert alert-info\">\n",
    "  <strong>Consistency Top 50 (20 neighbors):</strong>\n",
    "</div>"
   ]
  },
  {
   "cell_type": "code",
   "execution_count": 185,
   "metadata": {},
   "outputs": [
    {
     "data": {
      "text/html": [
       "#0, 6693 <b>IF </b>  <span style=\"background-color: rgb(253,221,206); color:black;\">employment_duration is not >= 7 yrs</span>  <span style=\"background-color: rgb(253,209,191); color:black;\">housing is not for free</span>  <span style=\"background-color: rgb(158,202,225); color:white;\">status is ... >= 200 DM (salary)</span>  <span style=\"background-color: rgb(252,172,144); color:white;\">duration >= 16</span>  <span style=\"background-color: rgb(254,224,210); color:black;\">amount >= 1523</span>  <span style=\"background-color: rgb(219,233,246); color:black;\">other_installment_plans is none</span>  <span style=\"background-color: rgb(253,222,208); color:black;\">purpose is not car (used)</span>  <span style=\"background-color: rgb(252,192,168); color:black;\">credit_history is not all credits at this bank paid back duly</span>  <span style=\"background-color: rgb(254,226,213); color:black;\">number_credits is 1</span>  <span style=\"background-color: rgb(254,228,216); color:black;\">savings is unknown/no savings account</span> <b>THEN </b> accept"
      ],
      "text/plain": [
       "<IPython.core.display.HTML object>"
      ]
     },
     "metadata": {},
     "output_type": "display_data"
    },
    {
     "data": {
      "text/html": [
       "#1, 2156 <b>IF </b>  <span style=\"background-color: rgb(254,228,216); color:black;\">people_liable is 0 to 2</span>  <span style=\"background-color: rgb(253,218,202); color:black;\">property is not building soc. savings agr./life insurance</span>  <span style=\"background-color: rgb(254,224,210); color:black;\">purpose is not furniture/equipment</span>  <span style=\"background-color: rgb(254,228,216); color:black;\">savings is >= 1000 DM</span>  <span style=\"background-color: rgb(254,224,210); color:black;\">job is skilled employee / official</span>  <span style=\"background-color: rgb(158,202,225); color:white;\">status is ... >= 200 DM (salary)</span>  <span style=\"background-color: rgb(254,225,212); color:black;\">housing is not rent</span> <b>THEN </b> accept"
      ],
      "text/plain": [
       "<IPython.core.display.HTML object>"
      ]
     },
     "metadata": {},
     "output_type": "display_data"
    },
    {
     "data": {
      "text/html": [
       "#2, 6485 <b>IF </b>  <span style=\"background-color: rgb(219,233,246); color:black;\">age >= 31</span>  <span style=\"background-color: rgb(252,192,168); color:black;\">credit_history is not all credits at this bank paid back duly</span>  <span style=\"background-color: rgb(252,193,169); color:black;\">installment_rate is not < 20 and 20 to 25</span>  <span style=\"background-color: rgb(254,224,210); color:black;\">purpose is not others</span>  <span style=\"background-color: rgb(254,228,216); color:black;\">savings is unknown/no savings account or < 100 DM</span>  <span style=\"background-color: rgb(225,236,247); color:black;\">amount <= 3201</span>  <span style=\"background-color: rgb(254,225,212); color:black;\">present_residence is >= 7 yrs</span>  <span style=\"background-color: rgb(252,205,185); color:black;\">personal_status_sex is not married male</span> <b>THEN </b> accept"
      ],
      "text/plain": [
       "<IPython.core.display.HTML object>"
      ]
     },
     "metadata": {},
     "output_type": "display_data"
    },
    {
     "data": {
      "text/html": [
       "#3, 8638 <b>IF </b>  <span style=\"background-color: rgb(221,234,246); color:black;\">purpose is furniture/equipment</span>  <span style=\"background-color: rgb(253,209,191); color:black;\">housing is not for free</span>  <span style=\"background-color: rgb(253,214,197); color:black;\">property is car or other</span>  <span style=\"background-color: rgb(252,150,119); color:white;\">duration >= 21</span>  <span style=\"background-color: rgb(253,223,209); color:black;\">credit_history is not no credits taken/all credits paid back duly</span> <b>THEN </b> accept"
      ],
      "text/plain": [
       "<IPython.core.display.HTML object>"
      ]
     },
     "metadata": {},
     "output_type": "display_data"
    },
    {
     "data": {
      "text/html": [
       "#4, 7572 <b>IF </b>  <span style=\"background-color: rgb(218,232,245); color:black;\">employment_duration is 4 to 7 yrs or >= 7 yrs</span>  <span style=\"background-color: rgb(225,237,248); color:black;\">purpose is repairs</span>  <span style=\"background-color: rgb(253,223,209); color:black;\">job is not unskilled - resident</span> <b>THEN </b> accept"
      ],
      "text/plain": [
       "<IPython.core.display.HTML object>"
      ]
     },
     "metadata": {},
     "output_type": "display_data"
    },
    {
     "data": {
      "text/html": [
       "#5, 5597 <b>IF </b>  <span style=\"background-color: rgb(254,225,212); color:black;\">housing is not rent</span>  <span style=\"background-color: rgb(221,234,246); color:black;\">property is not unknown / no property</span>  <span style=\"background-color: rgb(252,172,144); color:white;\">duration >= 15</span>  <span style=\"background-color: rgb(253,208,189); color:black;\">purpose is not others and car (new) and furniture/equipment</span>  <span style=\"background-color: rgb(254,228,216); color:black;\">people_liable is 0 to 2</span>  <span style=\"background-color: rgb(254,224,210); color:black;\">job is skilled employee / official</span>  <span style=\"background-color: rgb(253,212,194); color:black;\">employment_duration is not 4 to 7 yrs and >= 7 yrs</span>  <span style=\"background-color: rgb(158,202,225); color:white;\">status is ... >= 200 DM (salary)</span> <b>THEN </b> accept"
      ],
      "text/plain": [
       "<IPython.core.display.HTML object>"
      ]
     },
     "metadata": {},
     "output_type": "display_data"
    },
    {
     "data": {
      "text/html": [
       "#6, 9627 <b>IF </b>  <span style=\"background-color: rgb(252,192,168); color:black;\">credit_history is no credits taken/all credits paid back duly</span>  <span style=\"background-color: rgb(254,228,216); color:black;\">savings is unknown/no savings account or < 100 DM</span>  <span style=\"background-color: rgb(253,219,203); color:black;\">purpose is not furniture/equipment</span>  <span style=\"background-color: rgb(254,228,216); color:black;\">people_liable is 0 to 2</span>  <span style=\"background-color: rgb(218,232,245); color:black;\">employment_duration is 4 to 7 yrs or >= 7 yrs</span>  <span style=\"background-color: rgb(252,149,117); color:white;\">duration >= 22</span>  <span style=\"background-color: rgb(215,230,244); color:black;\">age >= 37</span> <b>THEN </b> accept"
      ],
      "text/plain": [
       "<IPython.core.display.HTML object>"
      ]
     },
     "metadata": {},
     "output_type": "display_data"
    },
    {
     "data": {
      "text/html": [
       "#7, 349 <b>IF </b>  <span style=\"background-color: rgb(253,222,208); color:black;\">number_credits is not 2 to 3</span>  <span style=\"background-color: rgb(254,224,210); color:black;\">credit_history is not no credits taken/all credits paid back duly</span>  <span style=\"background-color: rgb(158,202,225); color:white;\">status is ... >= 200 DM (salary)</span>  <span style=\"background-color: rgb(254,228,216); color:black;\">people_liable is 0 to 2</span>  <span style=\"background-color: rgb(254,228,216); color:black;\">savings is 500 to 1000 DM or >= 1000 DM</span> <b>THEN </b> accept"
      ],
      "text/plain": [
       "<IPython.core.display.HTML object>"
      ]
     },
     "metadata": {},
     "output_type": "display_data"
    },
    {
     "data": {
      "text/html": [
       "#8, 3231 <b>IF </b>  <span style=\"background-color: rgb(187,214,235); color:white;\">credit_history is all credits at this bank paid back duly</span>  <span style=\"background-color: rgb(253,212,194); color:black;\">other_debtors is none</span>  <span style=\"background-color: rgb(253,212,194); color:black;\">employment_duration is not 4 to 7 yrs and >= 7 yrs</span>  <span style=\"background-color: rgb(225,237,248); color:black;\">amount <= 4726</span>  <span style=\"background-color: rgb(254,228,216); color:black;\">people_liable is 0 to 2</span>  <span style=\"background-color: rgb(253,213,195); color:black;\">telephone is No</span>  <span style=\"background-color: rgb(216,231,245); color:black;\">installment_rate is not >= 35</span>  <span style=\"background-color: rgb(158,202,225); color:white;\">status is ... >= 200 DM (salary)</span> <b>THEN </b> accept"
      ],
      "text/plain": [
       "<IPython.core.display.HTML object>"
      ]
     },
     "metadata": {},
     "output_type": "display_data"
    },
    {
     "data": {
      "text/html": [
       "#9, 5285 <b>IF </b>  <span style=\"background-color: rgb(254,225,211); color:black;\">telephone is Yes</span>  <span style=\"background-color: rgb(254,228,216); color:black;\">savings is unknown/no savings account or < 100 DM</span>  <span style=\"background-color: rgb(227,238,248); color:black;\">purpose is not car (used) and retraining</span>  <span style=\"background-color: rgb(254,225,211); color:black;\">property is not real estate and unknown / no property</span>  <span style=\"background-color: rgb(252,176,148); color:white;\">installment_rate is >= 35</span>  <span style=\"background-color: rgb(252,195,172); color:black;\">status is not ... >= 200 DM (salary)</span> <b>THEN </b> accept"
      ],
      "text/plain": [
       "<IPython.core.display.HTML object>"
      ]
     },
     "metadata": {},
     "output_type": "display_data"
    },
    {
     "data": {
      "text/html": [
       "#10, 1176 <b>IF </b>  <span style=\"background-color: rgb(252,192,168); color:black;\">credit_history is not all credits at this bank paid back duly</span>  <span style=\"background-color: rgb(254,228,216); color:black;\">savings is unknown/no savings account or < 100 DM</span>  <span style=\"background-color: rgb(252,201,180); color:black;\">other_debtors is not guarantor</span>  <span style=\"background-color: rgb(252,178,151); color:white;\">property is not real estate and building soc. savings agr./life insurance</span>  <span style=\"background-color: rgb(254,226,213); color:black;\">number_credits is 1</span>  <span style=\"background-color: rgb(219,233,246); color:black;\">housing is own</span>  <span style=\"background-color: rgb(253,219,203); color:black;\">purpose is not furniture/equipment</span>  <span style=\"background-color: rgb(254,225,212); color:black;\">present_residence is >= 7 yrs</span> <b>THEN </b> accept"
      ],
      "text/plain": [
       "<IPython.core.display.HTML object>"
      ]
     },
     "metadata": {},
     "output_type": "display_data"
    },
    {
     "data": {
      "text/html": [
       "#11, 5421 <b>IF </b>  <span style=\"background-color: rgb(253,220,205); color:black;\">personal_status_sex is married male</span>  <span style=\"background-color: rgb(222,235,247); color:black;\">savings is 100 to 500 DM or 500 to 1000 DM</span>  <span style=\"background-color: rgb(253,214,197); color:black;\">property is car or other</span> <b>THEN </b> accept"
      ],
      "text/plain": [
       "<IPython.core.display.HTML object>"
      ]
     },
     "metadata": {},
     "output_type": "display_data"
    },
    {
     "data": {
      "text/html": [
       "#12, 5790 <b>IF </b>  <span style=\"background-color: rgb(226,237,248); color:black;\">other_installment_plans is not bank</span>  <span style=\"background-color: rgb(254,225,212); color:black;\">housing is not rent</span>  <span style=\"background-color: rgb(221,234,246); color:black;\">credit_history is all credits at this bank paid back duly</span>  <span style=\"background-color: rgb(254,228,216); color:black;\">savings is 500 to 1000 DM or >= 1000 DM</span>  <span style=\"background-color: rgb(216,231,245); color:black;\">installment_rate is not >= 35</span>  <span style=\"background-color: rgb(253,223,209); color:black;\">job is not unskilled - resident</span> <b>THEN </b> accept"
      ],
      "text/plain": [
       "<IPython.core.display.HTML object>"
      ]
     },
     "metadata": {},
     "output_type": "display_data"
    },
    {
     "data": {
      "text/html": [
       "#13, 8320 <b>IF </b>  <span style=\"background-color: rgb(254,224,210); color:black;\">job is skilled employee / official</span>  <span style=\"background-color: rgb(219,233,246); color:black;\">housing is own</span>  <span style=\"background-color: rgb(203,222,240); color:black;\">savings is not unknown/no savings account and < 100 DM</span>  <span style=\"background-color: rgb(253,218,202); color:black;\">property is not building soc. savings agr./life insurance</span>  <span style=\"background-color: rgb(212,228,243); color:black;\">purpose is furniture/equipment</span>  <span style=\"background-color: rgb(253,222,208); color:black;\">number_credits is not 2 to 3</span> <b>THEN </b> accept"
      ],
      "text/plain": [
       "<IPython.core.display.HTML object>"
      ]
     },
     "metadata": {},
     "output_type": "display_data"
    },
    {
     "data": {
      "text/html": [
       "#14, 491 <b>IF </b>  <span style=\"background-color: rgb(205,223,241); color:black;\">duration <= 15</span>  <span style=\"background-color: rgb(252,192,168); color:black;\">credit_history is no credits taken/all credits paid back duly</span>  <span style=\"background-color: rgb(222,235,247); color:black;\">amount <= 1538</span>  <span style=\"background-color: rgb(254,225,212); color:black;\">housing is not rent</span>  <span style=\"background-color: rgb(254,224,210); color:black;\">job is skilled employee / official</span>  <span style=\"background-color: rgb(253,213,195); color:black;\">telephone is No</span>  <span style=\"background-color: rgb(252,199,177); color:black;\">property is not real estate</span> <b>THEN </b> accept"
      ],
      "text/plain": [
       "<IPython.core.display.HTML object>"
      ]
     },
     "metadata": {},
     "output_type": "display_data"
    },
    {
     "data": {
      "text/html": [
       "#15, 5557 <b>IF </b>  <span style=\"background-color: rgb(252,198,175); color:black;\">savings is < 100 DM or 100 to 500 DM</span>  <span style=\"background-color: rgb(158,202,225); color:white;\">status is ... >= 200 DM (salary)</span>  <span style=\"background-color: rgb(252,164,135); color:white;\">credit_history is not existing credits paid back duly till now and all credits at this bank paid back duly</span>  <span style=\"background-color: rgb(223,235,247); color:black;\">employment_duration is not unemployed and < 1 yr</span>  <span style=\"background-color: rgb(226,237,248); color:black;\">job is not skilled employee / official</span> <b>THEN </b> accept"
      ],
      "text/plain": [
       "<IPython.core.display.HTML object>"
      ]
     },
     "metadata": {},
     "output_type": "display_data"
    },
    {
     "data": {
      "text/html": [
       "#16, 198 <b>IF </b>  <span style=\"background-color: rgb(203,222,240); color:black;\">savings is not unknown/no savings account and < 100 DM</span>  <span style=\"background-color: rgb(187,214,235); color:white;\">credit_history is all credits at this bank paid back duly</span>  <span style=\"background-color: rgb(158,202,225); color:white;\">status is ... >= 200 DM (salary)</span>  <span style=\"background-color: rgb(254,226,213); color:black;\">number_credits is 1</span> <b>THEN </b> accept"
      ],
      "text/plain": [
       "<IPython.core.display.HTML object>"
      ]
     },
     "metadata": {},
     "output_type": "display_data"
    },
    {
     "data": {
      "text/html": [
       "#17, 2123 <b>IF </b>  <span style=\"background-color: rgb(158,202,225); color:white;\">status is ... >= 200 DM (salary)</span>  <span style=\"background-color: rgb(254,224,210); color:black;\">credit_history is not existing credits paid back duly till now</span>  <span style=\"background-color: rgb(225,236,247); color:black;\">telephone is Yes</span>  <span style=\"background-color: rgb(254,224,210); color:black;\">job is skilled employee / official</span>  <span style=\"background-color: rgb(254,228,216); color:black;\">savings is >= 1000 DM</span>  <span style=\"background-color: rgb(254,226,213); color:black;\">number_credits is 1</span> <b>THEN </b> accept"
      ],
      "text/plain": [
       "<IPython.core.display.HTML object>"
      ]
     },
     "metadata": {},
     "output_type": "display_data"
    },
    {
     "data": {
      "text/html": [
       "#18, 4675 <b>IF </b>  <span style=\"background-color: rgb(226,237,248); color:black;\">other_installment_plans is not bank</span>  <span style=\"background-color: rgb(253,213,195); color:black;\">telephone is No</span>  <span style=\"background-color: rgb(252,201,180); color:black;\">other_debtors is not guarantor</span>  <span style=\"background-color: rgb(226,237,248); color:black;\">job is not skilled employee / official</span>  <span style=\"background-color: rgb(254,225,211); color:black;\">property is not car or other</span>  <span style=\"background-color: rgb(219,233,246); color:black;\">housing is own</span>  <span style=\"background-color: rgb(253,219,203); color:black;\">purpose is not furniture/equipment</span>  <span style=\"background-color: rgb(253,222,208); color:black;\">number_credits is not 1</span> <b>THEN </b> accept"
      ],
      "text/plain": [
       "<IPython.core.display.HTML object>"
      ]
     },
     "metadata": {},
     "output_type": "display_data"
    },
    {
     "data": {
      "text/html": [
       "#19, 7801 <b>IF </b>  <span style=\"background-color: rgb(226,237,248); color:black;\">other_installment_plans is not bank</span>  <span style=\"background-color: rgb(219,233,246); color:black;\">housing is own</span>  <span style=\"background-color: rgb(225,237,248); color:black;\">purpose is not repairs</span>  <span style=\"background-color: rgb(218,232,245); color:black;\">duration <= 24</span>  <span style=\"background-color: rgb(254,224,210); color:black;\">job is skilled employee / official</span>  <span style=\"background-color: rgb(254,226,213); color:black;\">number_credits is 1</span>  <span style=\"background-color: rgb(209,226,242); color:black;\">property is real estate</span>  <span style=\"background-color: rgb(225,236,247); color:black;\">telephone is Yes</span> <b>THEN </b> accept"
      ],
      "text/plain": [
       "<IPython.core.display.HTML object>"
      ]
     },
     "metadata": {},
     "output_type": "display_data"
    },
    {
     "data": {
      "text/html": [
       "#20, 9605 <b>IF </b>  <span style=\"background-color: rgb(219,233,246); color:black;\">other_installment_plans is none</span>  <span style=\"background-color: rgb(187,214,235); color:white;\">credit_history is all credits at this bank paid back duly</span>  <span style=\"background-color: rgb(225,236,247); color:black;\">job is not management/ self-employed/ highly qualified employee/ officer</span>  <span style=\"background-color: rgb(225,237,248); color:black;\">amount <= 4210</span>  <span style=\"background-color: rgb(252,182,156); color:white;\">duration >= 13</span>  <span style=\"background-color: rgb(253,222,208); color:black;\">number_credits is not 1</span>  <span style=\"background-color: rgb(226,237,248); color:black;\">present_residence is not >= 7 yrs</span>  <span style=\"background-color: rgb(252,205,185); color:black;\">personal_status_sex is not married male</span> <b>THEN </b> accept"
      ],
      "text/plain": [
       "<IPython.core.display.HTML object>"
      ]
     },
     "metadata": {},
     "output_type": "display_data"
    },
    {
     "data": {
      "text/html": [
       "#21, 9577 <b>IF </b>  <span style=\"background-color: rgb(219,233,246); color:black;\">other_installment_plans is none</span>  <span style=\"background-color: rgb(252,192,168); color:black;\">credit_history is not all credits at this bank paid back duly</span>  <span style=\"background-color: rgb(253,214,197); color:black;\">purpose is not car (used) and furniture/equipment</span>  <span style=\"background-color: rgb(254,225,212); color:black;\">housing is not rent</span>  <span style=\"background-color: rgb(254,228,216); color:black;\">savings is unknown/no savings account</span>  <span style=\"background-color: rgb(254,228,216); color:black;\">people_liable is 0 to 2</span>  <span style=\"background-color: rgb(253,218,202); color:black;\">property is not building soc. savings agr./life insurance</span>  <span style=\"background-color: rgb(252,205,185); color:black;\">personal_status_sex is not married male</span> <b>THEN </b> accept"
      ],
      "text/plain": [
       "<IPython.core.display.HTML object>"
      ]
     },
     "metadata": {},
     "output_type": "display_data"
    },
    {
     "data": {
      "text/html": [
       "#22, 5298 <b>IF </b>  <span style=\"background-color: rgb(225,236,247); color:black;\">telephone is Yes</span>  <span style=\"background-color: rgb(254,228,216); color:black;\">savings is not unknown/no savings account and < 100 DM</span>  <span style=\"background-color: rgb(219,233,246); color:black;\">housing is own</span>  <span style=\"background-color: rgb(254,228,216); color:black;\">people_liable is 0 to 2</span>  <span style=\"background-color: rgb(212,228,243); color:black;\">purpose is furniture/equipment</span> <b>THEN </b> accept"
      ],
      "text/plain": [
       "<IPython.core.display.HTML object>"
      ]
     },
     "metadata": {},
     "output_type": "display_data"
    },
    {
     "data": {
      "text/html": [
       "#23, 8759 <b>IF </b>  <span style=\"background-color: rgb(253,213,195); color:black;\">telephone is No</span>  <span style=\"background-color: rgb(158,202,225); color:white;\">status is ... >= 200 DM (salary)</span>  <span style=\"background-color: rgb(254,224,210); color:black;\">job is skilled employee / official</span>  <span style=\"background-color: rgb(219,233,246); color:black;\">housing is own</span>  <span style=\"background-color: rgb(219,233,246); color:black;\">age >= 31</span>  <span style=\"background-color: rgb(253,219,203); color:black;\">purpose is not furniture/equipment</span>  <span style=\"background-color: rgb(254,227,215); color:black;\">credit_history is no credits taken/all credits paid back duly</span> <b>THEN </b> accept"
      ],
      "text/plain": [
       "<IPython.core.display.HTML object>"
      ]
     },
     "metadata": {},
     "output_type": "display_data"
    },
    {
     "data": {
      "text/html": [
       "#24, 2448 <b>IF </b>  <span style=\"background-color: rgb(252,191,166); color:white;\">savings is unknown/no savings account or < 100 DM</span>  <span style=\"background-color: rgb(254,225,212); color:black;\">housing is not rent</span>  <span style=\"background-color: rgb(221,234,246); color:black;\">property is car or other</span>  <span style=\"background-color: rgb(212,228,243); color:black;\">purpose is furniture/equipment</span>  <span style=\"background-color: rgb(216,231,245); color:black;\">installment_rate is not >= 35</span>  <span style=\"background-color: rgb(254,227,215); color:black;\">present_residence is not < 1 yr</span> <b>THEN </b> accept"
      ],
      "text/plain": [
       "<IPython.core.display.HTML object>"
      ]
     },
     "metadata": {},
     "output_type": "display_data"
    },
    {
     "data": {
      "text/html": [
       "#25, 4189 <b>IF </b>  <span style=\"background-color: rgb(253,223,209); color:black;\">property is not unknown / no property</span>  <span style=\"background-color: rgb(254,228,216); color:black;\">savings is not unknown/no savings account and < 100 DM</span>  <span style=\"background-color: rgb(253,220,205); color:black;\">personal_status_sex is married male</span>  <span style=\"background-color: rgb(219,233,246); color:black;\">other_installment_plans is none</span>  <span style=\"background-color: rgb(225,236,247); color:black;\">telephone is Yes</span>  <span style=\"background-color: rgb(254,227,215); color:black;\">credit_history is no credits taken/all credits paid back duly</span> <b>THEN </b> accept"
      ],
      "text/plain": [
       "<IPython.core.display.HTML object>"
      ]
     },
     "metadata": {},
     "output_type": "display_data"
    },
    {
     "data": {
      "text/html": [
       "#26, 7096 <b>IF </b>  <span style=\"background-color: rgb(222,235,247); color:black;\">savings is 100 to 500 DM or 500 to 1000 DM</span>  <span style=\"background-color: rgb(226,237,248); color:black;\">present_residence is not >= 7 yrs</span>  <span style=\"background-color: rgb(252,178,151); color:white;\">property is not real estate and building soc. savings agr./life insurance</span>  <span style=\"background-color: rgb(252,193,169); color:black;\">installment_rate is not < 20 and 20 to 25</span>  <span style=\"background-color: rgb(221,234,246); color:black;\">age >= 28</span> <b>THEN </b> accept"
      ],
      "text/plain": [
       "<IPython.core.display.HTML object>"
      ]
     },
     "metadata": {},
     "output_type": "display_data"
    },
    {
     "data": {
      "text/html": [
       "#27, 7365 <b>IF </b>  <span style=\"background-color: rgb(252,191,166); color:white;\">savings is unknown/no savings account or < 100 DM</span>  <span style=\"background-color: rgb(252,192,168); color:black;\">credit_history is no credits taken/all credits paid back duly</span>  <span style=\"background-color: rgb(253,219,203); color:black;\">duration >= 8</span>  <span style=\"background-color: rgb(253,220,205); color:black;\">personal_status_sex is married male</span>  <span style=\"background-color: rgb(226,237,248); color:black;\">present_residence is not 4 to 7 yrs and >= 7 yrs</span>  <span style=\"background-color: rgb(225,236,247); color:black;\">telephone is Yes</span>  <span style=\"background-color: rgb(225,237,248); color:black;\">amount <= 4765</span> <b>THEN </b> accept"
      ],
      "text/plain": [
       "<IPython.core.display.HTML object>"
      ]
     },
     "metadata": {},
     "output_type": "display_data"
    },
    {
     "data": {
      "text/html": [
       "#28, 6956 <b>IF </b>  <span style=\"background-color: rgb(253,220,205); color:black;\">personal_status_sex is married male</span>  <span style=\"background-color: rgb(187,214,235); color:white;\">credit_history is all credits at this bank paid back duly</span>  <span style=\"background-color: rgb(176,209,231); color:white;\">purpose is car (new)</span>  <span style=\"background-color: rgb(221,234,246); color:black;\">duration <= 34</span> <b>THEN </b> accept"
      ],
      "text/plain": [
       "<IPython.core.display.HTML object>"
      ]
     },
     "metadata": {},
     "output_type": "display_data"
    },
    {
     "data": {
      "text/html": [
       "#29, 1967 <b>IF </b>  <span style=\"background-color: rgb(226,237,248); color:black;\">other_installment_plans is not bank</span>  <span style=\"background-color: rgb(254,225,212); color:black;\">housing is not rent</span>  <span style=\"background-color: rgb(254,226,213); color:black;\">number_credits is 2 to 3</span>  <span style=\"background-color: rgb(220,233,246); color:black;\">age >= 30</span>  <span style=\"background-color: rgb(187,214,235); color:white;\">credit_history is all credits at this bank paid back duly</span>  <span style=\"background-color: rgb(253,220,205); color:black;\">personal_status_sex is married male</span>  <span style=\"background-color: rgb(158,202,225); color:white;\">status is ... >= 200 DM (salary)</span>  <span style=\"background-color: rgb(253,214,197); color:black;\">property is car or other</span> <b>THEN </b> accept"
      ],
      "text/plain": [
       "<IPython.core.display.HTML object>"
      ]
     },
     "metadata": {},
     "output_type": "display_data"
    },
    {
     "data": {
      "text/html": [
       "#30, 9655 <b>IF </b>  <span style=\"background-color: rgb(187,214,235); color:white;\">credit_history is all credits at this bank paid back duly</span>  <span style=\"background-color: rgb(252,201,180); color:black;\">other_debtors is not guarantor</span>  <span style=\"background-color: rgb(253,207,188); color:black;\">duration >= 11</span>  <span style=\"background-color: rgb(225,237,248); color:black;\">purpose is not others</span>  <span style=\"background-color: rgb(158,202,225); color:white;\">status is ... >= 200 DM (salary)</span>  <span style=\"background-color: rgb(252,193,169); color:black;\">installment_rate is not < 20 and 20 to 25</span>  <span style=\"background-color: rgb(226,237,248); color:black;\">present_residence is not >= 7 yrs</span>  <span style=\"background-color: rgb(226,237,248); color:black;\">job is not skilled employee / official</span> <b>THEN </b> accept"
      ],
      "text/plain": [
       "<IPython.core.display.HTML object>"
      ]
     },
     "metadata": {},
     "output_type": "display_data"
    },
    {
     "data": {
      "text/html": [
       "#31, 6307 <b>IF </b>  <span style=\"background-color: rgb(187,214,235); color:white;\">credit_history is all credits at this bank paid back duly</span>  <span style=\"background-color: rgb(254,225,212); color:black;\">housing is not rent</span>  <span style=\"background-color: rgb(254,228,216); color:black;\">savings is >= 1000 DM</span>  <span style=\"background-color: rgb(216,231,245); color:black;\">installment_rate is not >= 35</span> <b>THEN </b> accept"
      ],
      "text/plain": [
       "<IPython.core.display.HTML object>"
      ]
     },
     "metadata": {},
     "output_type": "display_data"
    },
    {
     "data": {
      "text/html": [
       "#32, 773 <b>IF </b>  <span style=\"background-color: rgb(188,215,235); color:white;\">savings is 500 to 1000 DM or >= 1000 DM</span>  <span style=\"background-color: rgb(253,212,194); color:black;\">employment_duration is not 4 to 7 yrs and >= 7 yrs</span>  <span style=\"background-color: rgb(254,228,216); color:black;\">people_liable is 0 to 2</span>  <span style=\"background-color: rgb(219,233,246); color:black;\">housing is own</span>  <span style=\"background-color: rgb(187,214,235); color:white;\">credit_history is all credits at this bank paid back duly</span> <b>THEN </b> accept"
      ],
      "text/plain": [
       "<IPython.core.display.HTML object>"
      ]
     },
     "metadata": {},
     "output_type": "display_data"
    },
    {
     "data": {
      "text/html": [
       "#33, 5562 <b>IF </b>  <span style=\"background-color: rgb(188,215,235); color:white;\">savings is 500 to 1000 DM or >= 1000 DM</span>  <span style=\"background-color: rgb(254,225,212); color:black;\">housing is not rent</span>  <span style=\"background-color: rgb(225,237,248); color:black;\">purpose is not others</span>  <span style=\"background-color: rgb(252,205,185); color:black;\">personal_status_sex is not married male</span>  <span style=\"background-color: rgb(215,230,244); color:black;\">age >= 37</span> <b>THEN </b> accept"
      ],
      "text/plain": [
       "<IPython.core.display.HTML object>"
      ]
     },
     "metadata": {},
     "output_type": "display_data"
    },
    {
     "data": {
      "text/html": [
       "#34, 6769 <b>IF </b>  <span style=\"background-color: rgb(252,195,172); color:black;\">status is not ... >= 200 DM (salary)</span>  <span style=\"background-color: rgb(253,219,203); color:black;\">purpose is not furniture/equipment</span>  <span style=\"background-color: rgb(254,224,210); color:black;\">job is skilled employee / official</span>  <span style=\"background-color: rgb(254,228,216); color:black;\">savings is unknown/no savings account</span>  <span style=\"background-color: rgb(252,164,135); color:white;\">credit_history is no credits taken/all credits paid back duly</span>  <span style=\"background-color: rgb(253,213,195); color:black;\">telephone is No</span>  <span style=\"background-color: rgb(254,225,211); color:black;\">property is not car or other</span>  <span style=\"background-color: rgb(226,237,248); color:black;\">other_installment_plans is not bank</span> <b>THEN </b> accept"
      ],
      "text/plain": [
       "<IPython.core.display.HTML object>"
      ]
     },
     "metadata": {},
     "output_type": "display_data"
    },
    {
     "data": {
      "text/html": [
       "#35, 8411 <b>IF </b>  <span style=\"background-color: rgb(252,172,144); color:white;\">duration >= 15</span>  <span style=\"background-color: rgb(253,220,205); color:black;\">personal_status_sex is married male</span>  <span style=\"background-color: rgb(217,231,245); color:black;\">property is not car or other and unknown / no property</span>  <span style=\"background-color: rgb(252,199,177); color:black;\">age <= 31</span>  <span style=\"background-color: rgb(254,228,216); color:black;\">savings is unknown/no savings account or < 100 DM</span>  <span style=\"background-color: rgb(226,237,248); color:black;\">present_residence is not 4 to 7 yrs and >= 7 yrs</span> <b>THEN </b> accept"
      ],
      "text/plain": [
       "<IPython.core.display.HTML object>"
      ]
     },
     "metadata": {},
     "output_type": "display_data"
    },
    {
     "data": {
      "text/html": [
       "#36, 6198 <b>IF </b>  <span style=\"background-color: rgb(187,214,235); color:white;\">credit_history is all credits at this bank paid back duly</span>  <span style=\"background-color: rgb(226,237,248); color:black;\">other_installment_plans is not bank</span>  <span style=\"background-color: rgb(215,230,244); color:black;\">employment_duration is >= 7 yrs</span>  <span style=\"background-color: rgb(254,225,211); color:black;\">property is not car or other</span>  <span style=\"background-color: rgb(254,228,216); color:black;\">savings is unknown/no savings account</span>  <span style=\"background-color: rgb(253,222,208); color:black;\">number_credits is not 2 to 3</span> <b>THEN </b> accept"
      ],
      "text/plain": [
       "<IPython.core.display.HTML object>"
      ]
     },
     "metadata": {},
     "output_type": "display_data"
    },
    {
     "data": {
      "text/html": [
       "#37, 5475 <b>IF </b>  <span style=\"background-color: rgb(252,191,166); color:white;\">savings is unknown/no savings account or < 100 DM</span>  <span style=\"background-color: rgb(225,236,247); color:black;\">telephone is Yes</span>  <span style=\"background-color: rgb(252,175,147); color:white;\">status is not 0 to 200 DM and ... >= 200 DM (salary)</span>  <span style=\"background-color: rgb(253,222,208); color:black;\">purpose is not car (used)</span>  <span style=\"background-color: rgb(252,192,168); color:black;\">credit_history is no credits taken/all credits paid back duly</span>  <span style=\"background-color: rgb(254,226,213); color:black;\">number_credits is 1</span>  <span style=\"background-color: rgb(253,209,191); color:black;\">housing is not for free</span> <b>THEN </b> accept"
      ],
      "text/plain": [
       "<IPython.core.display.HTML object>"
      ]
     },
     "metadata": {},
     "output_type": "display_data"
    },
    {
     "data": {
      "text/html": [
       "#38, 4708 <b>IF </b>  <span style=\"background-color: rgb(253,208,189); color:black;\">other_installment_plans is not bank</span>  <span style=\"background-color: rgb(225,236,247); color:black;\">telephone is Yes</span>  <span style=\"background-color: rgb(254,228,216); color:black;\">savings is not unknown/no savings account</span>  <span style=\"background-color: rgb(226,237,248); color:black;\">job is not skilled employee / official</span>  <span style=\"background-color: rgb(216,231,245); color:black;\">installment_rate is not >= 35</span> <b>THEN </b> accept"
      ],
      "text/plain": [
       "<IPython.core.display.HTML object>"
      ]
     },
     "metadata": {},
     "output_type": "display_data"
    },
    {
     "data": {
      "text/html": [
       "#39, 2609 <b>IF </b>  <span style=\"background-color: rgb(225,236,247); color:black;\">telephone is Yes</span>  <span style=\"background-color: rgb(225,237,248); color:black;\">amount <= 3939</span>  <span style=\"background-color: rgb(223,235,247); color:black;\">job is not skilled employee / official and management/ self-employed/ highly qualified employee/ officer</span>  <span style=\"background-color: rgb(253,222,208); color:black;\">purpose is not car (used)</span> <b>THEN </b> accept"
      ],
      "text/plain": [
       "<IPython.core.display.HTML object>"
      ]
     },
     "metadata": {},
     "output_type": "display_data"
    },
    {
     "data": {
      "text/html": [
       "#40, 3115 <b>IF </b>  <span style=\"background-color: rgb(252,195,172); color:black;\">status is not ... >= 200 DM (salary)</span>  <span style=\"background-color: rgb(254,227,215); color:black;\">amount >= 599</span>  <span style=\"background-color: rgb(253,207,188); color:black;\">duration >= 11</span>  <span style=\"background-color: rgb(252,192,168); color:black;\">credit_history is not all credits at this bank paid back duly</span>  <span style=\"background-color: rgb(225,236,247); color:black;\">telephone is Yes</span>  <span style=\"background-color: rgb(253,207,188); color:black;\">other_installment_plans is not stores</span>  <span style=\"background-color: rgb(254,225,212); color:black;\">housing is not rent</span>  <span style=\"background-color: rgb(253,212,194); color:black;\">employment_duration is not 4 to 7 yrs and >= 7 yrs</span>  <span style=\"background-color: rgb(226,237,248); color:black;\">present_residence is not 4 to 7 yrs and >= 7 yrs</span> <b>THEN </b> accept"
      ],
      "text/plain": [
       "<IPython.core.display.HTML object>"
      ]
     },
     "metadata": {},
     "output_type": "display_data"
    },
    {
     "data": {
      "text/html": [
       "#41, 5771 <b>IF </b>  <span style=\"background-color: rgb(226,237,248); color:black;\">other_installment_plans is not bank</span>  <span style=\"background-color: rgb(254,225,212); color:black;\">housing is not rent</span>  <span style=\"background-color: rgb(252,192,168); color:black;\">credit_history is not delay in paying off in the past and all credits at this bank paid back duly</span>  <span style=\"background-color: rgb(254,228,216); color:black;\">savings is not 500 to 1000 DM and >= 1000 DM</span>  <span style=\"background-color: rgb(252,199,177); color:black;\">property is building soc. savings agr./life insurance</span>  <span style=\"background-color: rgb(253,220,205); color:black;\">duration >= 6</span>  <span style=\"background-color: rgb(253,214,197); color:black;\">purpose is not car (used) and furniture/equipment</span> <b>THEN </b> accept"
      ],
      "text/plain": [
       "<IPython.core.display.HTML object>"
      ]
     },
     "metadata": {},
     "output_type": "display_data"
    },
    {
     "data": {
      "text/html": [
       "#42, 7574 <b>IF </b>  <span style=\"background-color: rgb(223,235,247); color:black;\">employment_duration is not unemployed and < 1 yr</span>  <span style=\"background-color: rgb(251,127,95); color:white;\">purpose is others</span>  <span style=\"background-color: rgb(252,195,172); color:black;\">status is not ... >= 200 DM (salary)</span>  <span style=\"background-color: rgb(212,228,243); color:black;\">installment_rate is not 25 to 35 and >= 35</span>  <span style=\"background-color: rgb(224,236,247); color:black;\">amount <= 2777</span> <b>THEN </b> accept"
      ],
      "text/plain": [
       "<IPython.core.display.HTML object>"
      ]
     },
     "metadata": {},
     "output_type": "display_data"
    },
    {
     "data": {
      "text/html": [
       "#43, 4816 <b>IF </b>  <span style=\"background-color: rgb(221,234,246); color:black;\">property is not unknown / no property</span>  <span style=\"background-color: rgb(225,236,247); color:black;\">job is not management/ self-employed/ highly qualified employee/ officer</span>  <span style=\"background-color: rgb(252,192,168); color:black;\">credit_history is not all credits at this bank paid back duly</span>  <span style=\"background-color: rgb(254,228,216); color:black;\">savings is unknown/no savings account or < 100 DM</span>  <span style=\"background-color: rgb(252,195,172); color:black;\">status is not ... >= 200 DM (salary)</span>  <span style=\"background-color: rgb(253,212,194); color:black;\">other_debtors is none</span>  <span style=\"background-color: rgb(254,227,215); color:black;\">present_residence is not < 1 yr</span>  <span style=\"background-color: rgb(225,236,247); color:black;\">telephone is Yes</span>  <span style=\"background-color: rgb(254,225,212); color:black;\">housing is not rent</span> <b>THEN </b> accept"
      ],
      "text/plain": [
       "<IPython.core.display.HTML object>"
      ]
     },
     "metadata": {},
     "output_type": "display_data"
    },
    {
     "data": {
      "text/html": [
       "#44, 2636 <b>IF </b>  <span style=\"background-color: rgb(252,195,172); color:black;\">status is not ... >= 200 DM (salary)</span>  <span style=\"background-color: rgb(253,219,203); color:black;\">purpose is not furniture/equipment</span>  <span style=\"background-color: rgb(253,218,202); color:black;\">property is not building soc. savings agr./life insurance</span>  <span style=\"background-color: rgb(253,220,205); color:black;\">personal_status_sex is married male</span>  <span style=\"background-color: rgb(226,237,248); color:black;\">present_residence is not 4 to 7 yrs and >= 7 yrs</span>  <span style=\"background-color: rgb(253,223,209); color:black;\">job is not unskilled - resident</span>  <span style=\"background-color: rgb(252,176,148); color:white;\">installment_rate is >= 35</span> <b>THEN </b> accept"
      ],
      "text/plain": [
       "<IPython.core.display.HTML object>"
      ]
     },
     "metadata": {},
     "output_type": "display_data"
    },
    {
     "data": {
      "text/html": [
       "#45, 3151 <b>IF </b>  <span style=\"background-color: rgb(252,192,168); color:black;\">credit_history is not all credits at this bank paid back duly</span>  <span style=\"background-color: rgb(252,205,185); color:black;\">personal_status_sex is not married male</span>  <span style=\"background-color: rgb(253,223,209); color:black;\">property is not building soc. savings agr./life insurance</span>  <span style=\"background-color: rgb(254,228,216); color:black;\">savings is not 500 to 1000 DM and >= 1000 DM</span>  <span style=\"background-color: rgb(225,236,247); color:black;\">telephone is Yes</span>  <span style=\"background-color: rgb(254,226,213); color:black;\">number_credits is 1</span>  <span style=\"background-color: rgb(212,228,243); color:black;\">installment_rate is not 25 to 35 and >= 35</span> <b>THEN </b> accept"
      ],
      "text/plain": [
       "<IPython.core.display.HTML object>"
      ]
     },
     "metadata": {},
     "output_type": "display_data"
    },
    {
     "data": {
      "text/html": [
       "#46, 369 <b>IF </b>  <span style=\"background-color: rgb(253,223,209); color:black;\">number_credits is not 2 to 3</span>  <span style=\"background-color: rgb(254,227,215); color:black;\">credit_history is no credits taken/all credits paid back duly</span>  <span style=\"background-color: rgb(254,228,216); color:black;\">savings is 100 to 500 DM</span>  <span style=\"background-color: rgb(225,237,248); color:black;\">purpose is not others</span>  <span style=\"background-color: rgb(158,202,225); color:white;\">status is ... >= 200 DM (salary)</span> <b>THEN </b> accept"
      ],
      "text/plain": [
       "<IPython.core.display.HTML object>"
      ]
     },
     "metadata": {},
     "output_type": "display_data"
    },
    {
     "data": {
      "text/html": [
       "#47, 3900 <b>IF </b>  <span style=\"background-color: rgb(252,172,144); color:white;\">duration >= 15</span>  <span style=\"background-color: rgb(254,225,212); color:black;\">housing is not rent</span>  <span style=\"background-color: rgb(225,236,247); color:black;\">telephone is Yes</span>  <span style=\"background-color: rgb(253,218,202); color:black;\">installment_rate is not < 20</span>  <span style=\"background-color: rgb(221,234,246); color:black;\">age >= 28</span>  <span style=\"background-color: rgb(254,225,211); color:black;\">property is not car or other</span>  <span style=\"background-color: rgb(254,228,216); color:black;\">people_liable is 0 to 2</span>  <span style=\"background-color: rgb(253,223,209); color:black;\">credit_history is not no credits taken/all credits paid back duly</span>  <span style=\"background-color: rgb(253,214,197); color:black;\">amount >= 4193</span> <b>THEN </b> accept"
      ],
      "text/plain": [
       "<IPython.core.display.HTML object>"
      ]
     },
     "metadata": {},
     "output_type": "display_data"
    },
    {
     "data": {
      "text/html": [
       "#48, 4368 <b>IF </b>  <span style=\"background-color: rgb(253,213,195); color:black;\">telephone is No</span>  <span style=\"background-color: rgb(253,214,197); color:black;\">property is car or other</span>  <span style=\"background-color: rgb(254,224,210); color:black;\">credit_history is not all credits at this bank paid back duly</span>  <span style=\"background-color: rgb(219,233,246); color:black;\">housing is own</span>  <span style=\"background-color: rgb(254,228,216); color:black;\">savings is not unknown/no savings account</span>  <span style=\"background-color: rgb(212,228,243); color:black;\">purpose is furniture/equipment</span> <b>THEN </b> accept"
      ],
      "text/plain": [
       "<IPython.core.display.HTML object>"
      ]
     },
     "metadata": {},
     "output_type": "display_data"
    },
    {
     "data": {
      "text/html": [
       "#49, 7036 <b>IF </b>  <span style=\"background-color: rgb(254,225,211); color:black;\">telephone is No</span>  <span style=\"background-color: rgb(254,224,210); color:black;\">job is skilled employee / official</span>  <span style=\"background-color: rgb(219,233,246); color:black;\">housing is own</span>  <span style=\"background-color: rgb(253,218,202); color:black;\">installment_rate is not < 20</span>  <span style=\"background-color: rgb(212,228,243); color:black;\">purpose is furniture/equipment</span>  <span style=\"background-color: rgb(254,226,213); color:black;\">number_credits is 1</span>  <span style=\"background-color: rgb(254,228,216); color:black;\">savings is not unknown/no savings account</span> <b>THEN </b> accept"
      ],
      "text/plain": [
       "<IPython.core.display.HTML object>"
      ]
     },
     "metadata": {},
     "output_type": "display_data"
    }
   ],
   "source": [
    "r = np.mean(res.sorted_dist[:, 20])\n",
    "ret20 = res.check_consistency(r, [p['output'] for p in paths])\n",
    "idx20 = np.array(ret20).argsort()[:50]\n",
    "for it, i in enumerate(idx20):\n",
    "    display_rule(it, i) "
   ]
  },
  {
   "cell_type": "markdown",
   "metadata": {},
   "source": [
    "<div class=\"alert alert-info\">\n",
    "  <strong>Consistency Top 50 (50 neighbors):</strong>\n",
    "</div>"
   ]
  },
  {
   "cell_type": "markdown",
   "metadata": {},
   "source": [
    "<div class=\"alert alert-info\">\n",
    "  <strong>Consistency Top 50 (100 neighbors):</strong>\n",
    "</div>"
   ]
  },
  {
   "cell_type": "code",
   "execution_count": 150,
   "metadata": {},
   "outputs": [],
   "source": [
    "res = LOCIMatrixNew(mat, r = 0.2, metric = 'cosine', n_ticks=100)\n",
    "res2 = LOCIMatrixNew(mat, r = 0.2, metric = 'euclidean', n_ticks=100)"
   ]
  },
  {
   "cell_type": "code",
   "execution_count": 151,
   "metadata": {},
   "outputs": [],
   "source": [
    "consist1 = res.check_consistency(res.sorted_dist[:, 100].mean(), [p['output'] for p in paths])\n",
    "consist2 = res2.check_consistency(res2.sorted_dist[:, 100].mean(), [p['output'] for p in paths])"
   ]
  },
  {
   "cell_type": "code",
   "execution_count": 193,
   "metadata": {},
   "outputs": [],
   "source": [
    "consist3 = cond_res.check_consistency(cond_res.sorted_dist[:, 100].mean(), [p['output'] for p in paths])"
   ]
  },
  {
   "cell_type": "code",
   "execution_count": 194,
   "metadata": {},
   "outputs": [
    {
     "data": {
      "text/plain": [
       "0.044534412955465584"
      ]
     },
     "execution_count": 194,
     "metadata": {},
     "output_type": "execute_result"
    }
   ],
   "source": [
    "np.array(consist3).min()"
   ]
  },
  {
   "cell_type": "code",
   "execution_count": 195,
   "metadata": {},
   "outputs": [
    {
     "data": {
      "image/png": "[encoded data removed]",
      "text/plain": [
       "<Figure size 375x375 with 1 Axes>"
      ]
     },
     "metadata": {},
     "output_type": "display_data"
    }
   ],
   "source": [
    "neighbors_data = pd.DataFrame({ 'neighbors': cond_res.outer_ptr })\n",
    "sns.displot(data=neighbors_data, x=\"neighbors\", bins=50, log_scale=(False, False))\n",
    "plt.show()"
   ]
  },
  {
   "cell_type": "code",
   "execution_count": 213,
   "metadata": {},
   "outputs": [
    {
     "data": {
      "image/png": "[encoded data removed]",
      "text/plain": [
       "<Figure size 375x375 with 1 Axes>"
      ]
     },
     "metadata": {},
     "output_type": "display_data"
    }
   ],
   "source": [
    "consist2 = res2.check_consistency(res2.sorted_dist[:, 1000].mean(), [p['output'] for p in paths])\n",
    "neighbors_data2 = pd.DataFrame({ 'neighbors': mat.sum(axis = 1) })\n",
    "sns.displot(data=neighbors_data2, x=\"neighbors\", bins=50, log_scale=(False, False))\n",
    "plt.show()"
   ]
  },
  {
   "cell_type": "code",
   "execution_count": 214,
   "metadata": {},
   "outputs": [
    {
     "data": {
      "image/png": "[encoded data removed]",
      "text/plain": [
       "<Figure size 375x375 with 1 Axes>"
      ]
     },
     "metadata": {},
     "output_type": "display_data"
    }
   ],
   "source": [
    "consist2 = res2.check_consistency(res2.sorted_dist[:, 100].mean(), [p['output'] for p in paths])\n",
    "neighbors_data2 = pd.DataFrame({ 'neighbors': res2.outer_ptr })\n",
    "sns.displot(data=neighbors_data2, x=\"neighbors\", bins=50, log_scale=(False, False))\n",
    "plt.show()"
   ]
  },
  {
   "cell_type": "code",
   "execution_count": 156,
   "metadata": {},
   "outputs": [
    {
     "data": {
      "text/plain": [
       "2748"
      ]
     },
     "execution_count": 156,
     "metadata": {},
     "output_type": "execute_result"
    }
   ],
   "source": [
    "np.array(res2.outer_ptr < 10).sum()"
   ]
  }
 ],
 "metadata": {
  "kernelspec": {
   "display_name": "Python 3.8.1 ('base')",
   "language": "python",
   "name": "python3"
  },
  "language_info": {
   "codemirror_mode": {
    "name": "ipython",
    "version": 3
   },
   "file_extension": ".py",
   "mimetype": "text/x-python",
   "name": "python",
   "nbconvert_exporter": "python",
   "pygments_lexer": "ipython3",
   "version": "3.8.13"
  },
  "orig_nbformat": 4,
  "vscode": {
   "interpreter": {
    "hash": "7e68ee7780e0be540c4e3141e92f7a462f6acd183a50724e7701ea314000c600"
   }
  }
 },
 "nbformat": 4,
 "nbformat_minor": 2
}
