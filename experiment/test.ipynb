{
 "cells": [
  {
   "cell_type": "code",
   "execution_count": 2,
   "metadata": {},
   "outputs": [],
   "source": [
    "import numpy as np\n",
    "from dataset import DatasetLoader\n",
    "data_loader = DatasetLoader()"
   ]
  },
  {
   "cell_type": "code",
   "execution_count": 22,
   "metadata": {},
   "outputs": [
    {
     "name": "stdout",
     "output_type": "stream",
     "text": [
      "['Research and development expense rate', 'Total debt/Total net worth', 'Total Asset Growth Rate', 'Quick Ratio', 'Net Value Per Share (B)', 'Current Assets/Total Assets', 'Revenue Per Share (Yuan ¥)', 'Interest-bearing debt interest rate', 'Contingent liabilities/Net worth', 'Inventory Turnover Rate (times)', 'ROA(C) before interest and depreciation before interest', 'Retained Earnings to Total Assets', 'Fixed Assets to Assets', 'Current Liabilities/Liability', 'Revenue per person', 'Inventory/Working Capital', 'Cash Flow Per Share', 'Average Collection Days', 'Continuous Net Profit Growth Rate', 'Long-term fund suitability ratio (A)', 'Allocation rate per person', 'Long-term Liability to Current Assets', 'Degree of Financial Leverage (DFL)', 'Cash flow rate', 'Accounts Receivable Turnover', 'Interest Coverage Ratio (Interest expense to EBIT)', 'Cash Flow to Sales', 'Inventory/Current Liability', 'Cash Flow to Equity', 'Current Liability to Assets', 'No-credit Interval', 'Total assets to GNP price', 'Operating Gross Margin', 'Total expense/Assets', 'Regular Net Profit Growth Rate', 'Fixed Assets Turnover Frequency', 'Realized Sales Gross Profit Growth Rate', 'Interest Expense Ratio', 'Total Asset Return Growth Rate Ratio', 'Operating profit per person', 'Persistent EPS in the Last Four Seasons', 'Tax rate (A)', 'Cash/Current Liability', 'Inventory and accounts receivable/Net value', 'Cash/Total Assets', 'Cash Flow to Total Assets', 'Borrowing dependency', 'Non-industry income and expenditure/revenue', 'Cash Flow to Liability', 'Total income/Total expense', 'Cash Reinvestment %', 'Operating Expense Rate', 'Current Liability to Current Assets']\n",
      "53\n"
     ]
    }
   ],
   "source": [
    "loader = data_loader.get('bankruptcy')\n",
    "corr = loader.data_table.corr()\n",
    "loader.corr = corr\n",
    "n_cols = len(loader.data_table.columns)\n",
    "corr_values = []\n",
    "for i in range(n_cols):\n",
    "    k1 = loader.data_table.columns[i]\n",
    "    for k2 in loader.data_table.columns[i + 1:]:\n",
    "        if k1 != k2 and abs(corr[k1][k2]) > 0:\n",
    "            corr_values.append(abs(corr[k1][k2]))\n",
    "loader.has_high_corr_thres = np.quantile(corr_values, 0.975)\n",
    "loader.has_low_corr_thres = np.quantile(corr_values, 0.95)\n",
    "features = [[i, x['importance'], x['name']] for i, x in enumerate(loader.features)]\n",
    "features = sorted(features, key = lambda x: -x[1])\n",
    "for i, x in enumerate(features):\n",
    "    k1 = x[2]\n",
    "    for j in range(i + 1, len(features)):\n",
    "        k2 = features[j][2]\n",
    "        if abs(corr[k1][k2]) > loader.has_high_corr_thres:\n",
    "            features[i][1] += features[j][1]\n",
    "            features[j][1] = 0\n",
    "features = [x for x in features if x[1] > 0]\n",
    "features = sorted(features, key = lambda x: -x[1])\n",
    "loader.independent_features = [x[2] for x in features]"
   ]
  },
  {
   "cell_type": "code",
   "execution_count": 21,
   "metadata": {},
   "outputs": [
    {
     "data": {
      "text/plain": [
       "{18: [-100000000000000.0, 0.21257478970453816],\n",
       " 35: [-100000000000000.0, 0.006602832144818881]}"
      ]
     },
     "execution_count": 21,
     "metadata": {},
     "output_type": "execute_result"
    }
   ],
   "source": [
    "feature_count = {}\n",
    "for i in idxes:\n",
    "    for j in self.paths[i]['range']:\n",
    "        if j not in feature_count:\n",
    "            feature_count[j] = 0\n",
    "        feature_count[j] += 1\n",
    "path_relevant_features = [(j, feature_count[j]) for j in feature_count]\n",
    "path_relevant_features = sorted(path_relevant_features, key = lambda x: -x[1])\n",
    "path_top5_relevant_features = path_relevant_features[:5]\n",
    "path_top5_relevant_features = [self.features[x[0]['name']] for x in path_relevant_features]\n",
    "\n"
   ]
  }
 ],
 "metadata": {
  "kernelspec": {
   "display_name": "Python 3.8.1 ('base')",
   "language": "python",
   "name": "python3"
  },
  "language_info": {
   "codemirror_mode": {
    "name": "ipython",
    "version": 3
   },
   "file_extension": ".py",
   "mimetype": "text/x-python",
   "name": "python",
   "nbconvert_exporter": "python",
   "pygments_lexer": "ipython3",
   "version": "3.8.1"
  },
  "orig_nbformat": 4,
  "vscode": {
   "interpreter": {
    "hash": "7e68ee7780e0be540c4e3141e92f7a462f6acd183a50724e7701ea314000c600"
   }
  }
 },
 "nbformat": 4,
 "nbformat_minor": 2
}
