{
 "cells": [
  {
   "cell_type": "code",
   "execution_count": 1,
   "metadata": {},
   "outputs": [],
   "source": [
    "import sys\n",
    "import matplotlib.pyplot as plt\n",
    "from sklearn.metrics import pairwise_distances\n",
    "\n",
    "from IPython.display import HTML\n",
    "import matplotlib.cm as cm\n",
    "import numpy as np\n",
    "from typing import Union\n",
    "import math"
   ]
  },
  {
   "cell_type": "code",
   "execution_count": 2,
   "metadata": {},
   "outputs": [],
   "source": [
    "import pandas as pd\n",
    "import numpy as np\n",
    "import sys\n",
    "sys.path.append('..')\n",
    "from lib.model_reduction_variant import Extractor\n",
    "from lib.anomaly_detection import LOCIMatrix, LOCIMatrixNew\n",
    "from matplotlib import pyplot as plt\n",
    "import pandas as pd\n",
    "import matplotlib.pyplot as plt\n",
    "import seaborn as sns\n",
    "\n",
    "plt.style.use('ggplot')\n",
    "pd.options.display.notebook_repr_html = False \n",
    "plt.rcParams['figure.dpi'] = 75 \n",
    "sns.set_theme(style='darkgrid') "
   ]
  },
  {
   "cell_type": "code",
   "execution_count": 18,
   "metadata": {},
   "outputs": [
    {
     "name": "stdout",
     "output_type": "stream",
     "text": [
      "Test\n",
      "Accuracy Score is 0.828\n",
      "Precision Score is 0.8663101604278075\n",
      "F1 Score is 0.88283378746594\n",
      "Train\n",
      "Accuracy Score is 0.8932692307692308\n"
     ]
    }
   ],
   "source": [
    "from lib.model_utils import ModelUtil\n",
    "model = ModelUtil(data_name = 'german_credit', model_name = 'RF')\n",
    "paths = model.paths\n",
    "mat = model.get_cover_matrix(model.X, fuzzy = True, byclass = False)"
   ]
  },
  {
   "cell_type": "code",
   "execution_count": 4,
   "metadata": {},
   "outputs": [
    {
     "name": "stdout",
     "output_type": "stream",
     "text": [
      "Accuracy Score is 0.8186523134251112\n"
     ]
    }
   ],
   "source": [
    "\n",
    "import copy\n",
    "feature_pos = copy.deepcopy(model.feature_pos)\n",
    "\n",
    "is_feature_categorical = {}\n",
    "feature_val_idxs = {}\n",
    "for i in model.feature_pos:\n",
    "    if i == -1:\n",
    "        continue\n",
    "    feature, index = model.feature_pos[i]\n",
    "    is_feature_categorical[feature] = index > 0\n",
    "\n",
    "for i in model.feature_pos:\n",
    "    if i == -1:\n",
    "        continue\n",
    "    feature, index = model.feature_pos[i]\n",
    "    if is_feature_categorical[feature]:\n",
    "        if feature not in feature_val_idxs:\n",
    "            feature_val_idxs[feature] = []\n",
    "        if i >= 0:\n",
    "            feature_val_idxs[feature].append(i)\n",
    "\n",
    "is_categorical = []\n",
    "feature_range = []\n",
    "for i in model.feature_pos:\n",
    "    if i == -1:\n",
    "        continue\n",
    "    feature, index = model.feature_pos[i]\n",
    "    is_categorical.append(is_feature_categorical[feature])\n",
    "    feature_range.append(model.feature_range[feature])\n",
    "\n",
    "n_features = len(is_categorical)\n",
    "to_category_idx = [3]\n",
    "for i in to_category_idx:\n",
    "    name = model.feature_pos[i][0]\n",
    "    is_categorical[i] = True\n",
    "    feature_len =  model.feature_range[name][1] - model.feature_range[name][0]\n",
    "    idx = [i for i in range(n_features, n_features + feature_len)]\n",
    "    for it, j in enumerate(idx):\n",
    "        feature_pos[j] = (name, it)\n",
    "    feature_val_idxs[name] = idx\n",
    "    n_features += feature_len\n",
    "\n",
    "X = []\n",
    "y = []\n",
    "for p in paths:\n",
    "    m = p['range']\n",
    "    row = np.zeros(n_features)\n",
    "    for i in m:\n",
    "        if is_categorical[i]:\n",
    "            if i in to_category_idx:\n",
    "                left = int(max(feature_range[i][0], math.floor(m[i][0])))\n",
    "                right = int(min(feature_range[i][1], math.ceil(m[i][1])))\n",
    "                if feature_range[i][0] > 0:\n",
    "                    left -= feature_range[i][0]\n",
    "                    right -= feature_range[i][0]\n",
    "                for j in range(left, right):\n",
    "                    if j < len(feature_val_idxs[feature]):\n",
    "                        row[feature_val_idxs[feature][j]] = 1\n",
    "            else:\n",
    "                if m[i][1] > 1:\n",
    "                    row[i] = 1\n",
    "                else:\n",
    "                    if row[i] == 0:\n",
    "                        feature, _ = model.feature_pos[i]\n",
    "                        row[feature_val_idxs[feature]] = 1\n",
    "                    row[i] = 0\n",
    "        else:\n",
    "            left = int(max(feature_range[i][0], m[i][0]))\n",
    "            right = int(min(feature_range[i][1] - 1, m[i][1]))\n",
    "            left = model.get_sum(i, 1, left) / len(model.X)\n",
    "            right = model.get_sum(i, 1, right) / len(model.X)\n",
    "            row[i] = (left + right) / 2 - 0.5\n",
    "    for feature in feature_val_idxs:\n",
    "        idx = feature_val_idxs[feature]\n",
    "        tot = row[idx].sum()\n",
    "        if tot > 0:\n",
    "            row[idx] /= tot\n",
    "\n",
    "    X.append(row)\n",
    "    y.append(p['output'])\n",
    "X = np.array(X).astype('float')\n",
    "lr_mat = X\n",
    "y = np.array(y)\n",
    "\n",
    "from sklearn.linear_model import LogisticRegression\n",
    "lr = LogisticRegression()\n",
    "lr.fit(X[:], y[:])\n",
    "y_pred = lr.predict(X)\n",
    "from sklearn.metrics import accuracy_score, precision_score, f1_score\n",
    "print('Accuracy Score is', accuracy_score(y, y_pred))\n",
    "prob1 = lr.predict_proba(X)[:, 0] * (y != y_pred)\n",
    "outlier1 = prob1.argsort()[-50:][::-1].tolist()\n",
    "prob2 = lr.predict_proba(X)[:, 1] * (y != y_pred)\n",
    "outlier2 = prob2.argsort()[-50:][::-1].tolist()"
   ]
  },
  {
   "cell_type": "code",
   "execution_count": 5,
   "metadata": {},
   "outputs": [],
   "source": [
    "predict_proba = lr.predict_proba(X)\n",
    "score1 = np.array([predict_proba[i, 1 - y[i]] for i in range(predict_proba.shape[0])])"
   ]
  },
  {
   "cell_type": "code",
   "execution_count": 95,
   "metadata": {},
   "outputs": [
    {
     "data": {
      "text/plain": [
       "array([0.02332788, 0.95615952, 0.06012734, 0.19277185, 0.00670663,\n",
       "       0.09110545, 0.0740302 , 0.47783695, 0.22089863, 0.46865872])"
      ]
     },
     "execution_count": 95,
     "metadata": {},
     "output_type": "execute_result"
    }
   ],
   "source": [
    "score1[:10]"
   ]
  },
  {
   "cell_type": "code",
   "execution_count": 137,
   "metadata": {},
   "outputs": [
    {
     "data": {
      "text/plain": [
       "5.121352004134609"
      ]
     },
     "execution_count": 137,
     "metadata": {},
     "output_type": "execute_result"
    }
   ],
   "source": [
    "res.sorted_dist[1216, 100]"
   ]
  },
  {
   "cell_type": "code",
   "execution_count": 92,
   "metadata": {},
   "outputs": [],
   "source": [
    "score1 = lr.predict_proba(X).max(axis = 1) * (y != y_pred)"
   ]
  },
  {
   "cell_type": "code",
   "execution_count": 132,
   "metadata": {},
   "outputs": [
    {
     "data": {
      "image/png": "[encoded data removed]",
      "text/plain": [
       "<Figure size 375x375 with 1 Axes>"
      ]
     },
     "metadata": {},
     "output_type": "display_data"
    }
   ],
   "source": [
    "consistency_data = pd.DataFrame({ '100n': res.sorted_dist[:, 100] })\n",
    "sns.displot(data=consistency_data, x=\"100n\", bins=50, log_scale=(False, False))\n",
    "plt.show()"
   ]
  },
  {
   "cell_type": "code",
   "execution_count": 31,
   "metadata": {},
   "outputs": [],
   "source": [
    "predict_proba = lr.predict_proba(X)\n",
    "score1 = np.array([predict_proba[i, 1 - y[i]] for i in range(predict_proba.shape[0])])\n",
    "score2 = res.check_consistency(res.sorted_dist[:, 100].mean(), [p['output'] for p in paths])\n",
    "score2 = np.array(score2)\n",
    "score_max = score2.max()\n",
    "score_min = score2.min()\n",
    "score2 = (score_max - score2) / (score_max - score_min)"
   ]
  },
  {
   "cell_type": "code",
   "execution_count": 32,
   "metadata": {},
   "outputs": [],
   "source": [
    "score3 = np.array([p['confidence'] for p in paths])\n",
    "score_max = score3.max()\n",
    "score_min = score3.min()\n",
    "score3 = (score_max - score3) / (score_max - score_min)"
   ]
  },
  {
   "cell_type": "code",
   "execution_count": 74,
   "metadata": {},
   "outputs": [
    {
     "name": "stdout",
     "output_type": "stream",
     "text": [
      "3\n",
      "50\n",
      "43\n"
     ]
    }
   ],
   "source": [
    "for s in [score1, score2, score3]:\n",
    "    positives = [i for i in s.argsort()[-50:][::-1] if paths[i]['output'] == 1]\n",
    "    print(len(positives))"
   ]
  },
  {
   "cell_type": "code",
   "execution_count": 68,
   "metadata": {},
   "outputs": [],
   "source": [
    "score = (score1 + score2 + score3) / 3\n",
    "outlier = score.argsort()[-50:][::-1]"
   ]
  },
  {
   "cell_type": "code",
   "execution_count": 42,
   "metadata": {},
   "outputs": [
    {
     "name": "stdout",
     "output_type": "stream",
     "text": [
      "status, vif: 1.0860, coef: 9.8232\n",
      "duration, vif: 1.0295, coef: -4.3244\n",
      "amount, vif: 1.0239, coef: -0.7190\n",
      "savings \"unknown/no savings account\", vif: nan, coef: 0.0000\n",
      "employment_duration, vif: 1.0095, coef: 1.7679\n",
      "installment_rate, vif: 1.0135, coef: -3.3585\n"
     ]
    },
    {
     "name": "stderr",
     "output_type": "stream",
     "text": [
      "/home/lizhen/miniconda3/lib/python3.8/site-packages/statsmodels/regression/linear_model.py:1715: RuntimeWarning: invalid value encountered in double_scalars\n",
      "  return 1 - self.ssr/self.centered_tss\n"
     ]
    },
    {
     "name": "stdout",
     "output_type": "stream",
     "text": [
      "personal_status_sex, vif: 1.0652, coef: 0.8254\n",
      "present_residence, vif: 1.0041, coef: -0.2455\n",
      "age, vif: 1.0114, coef: 1.9279\n",
      "credit_history \"delay in paying off in the past\", vif: 2.7609, coef: -1.6712\n",
      "credit_history \"critical account/other credits elsewhere\", vif: 2.5910, coef: -1.4376\n",
      "credit_history \"no credits taken/all credits paid back duly\", vif: 1.0962, coef: -0.0264\n",
      "credit_history \"existing credits paid back duly till now\", vif: 1.7391, coef: 0.6061\n",
      "credit_history \"all credits at this bank paid back duly\", vif: 1.1199, coef: 1.9986\n",
      "purpose \"others\", vif: 1.0384, coef: -1.5908\n",
      "purpose \"car (new)\", vif: 1.4052, coef: 2.3448\n",
      "purpose \"car (used)\", vif: 1.0997, coef: 0.3113\n",
      "purpose \"furniture/equipment\", vif: 1.0512, coef: 0.8076\n"
     ]
    },
    {
     "name": "stderr",
     "output_type": "stream",
     "text": [
      "/home/lizhen/miniconda3/lib/python3.8/site-packages/statsmodels/stats/outliers_influence.py:193: RuntimeWarning: divide by zero encountered in double_scalars\n",
      "  vif = 1. / (1. - r_squared_i)\n"
     ]
    },
    {
     "name": "stdout",
     "output_type": "stream",
     "text": [
      "purpose \"radio/television\", vif: inf, coef: 0.1005\n",
      "purpose \"domestic appliances\", vif: inf, coef: 0.1005\n",
      "purpose \"repairs\", vif: 2.6432, coef: -1.9171\n",
      "purpose \"vacation\", vif: inf, coef: 0.1005\n",
      "purpose \"retraining\", vif: 1.4275, coef: -1.4462\n",
      "purpose \"business\", vif: inf, coef: 0.1005\n",
      "other_debtors \"none\", vif: 1.1948, coef: -0.3106\n",
      "other_debtors \"co-applicant\", vif: 1.2068, coef: -0.6906\n",
      "other_debtors \"guarantor\", vif: 1.0513, coef: 1.1063\n",
      "property \"real estate\", vif: 1.0753, coef: 1.0246\n",
      "property \"building soc. savings agr./life insurance\", vif: 1.0613, coef: 0.1015\n",
      "property \"car or other\", vif: 1.0495, coef: -0.2798\n",
      "property \"unknown / no property\", vif: 1.0640, coef: -1.3984\n",
      "other_installment_plans \"bank\", vif: 1.1125, coef: -1.2225\n",
      "other_installment_plans \"stores\", vif: 1.1505, coef: -0.3217\n",
      "other_installment_plans \"none\", vif: 1.1225, coef: 0.4067\n",
      "housing \"rent\", vif: 1.1323, coef: -1.1480\n",
      "housing \"own\", vif: 1.0998, coef: 0.4239\n",
      "housing \"for free\", vif: 1.1033, coef: -0.6127\n",
      "job \"unemployed, unskilled and non-resident\", vif: 1.6770, coef: 0.0598\n",
      "job \"unskilled and resident\", vif: 1.2455, coef: 0.3792\n",
      "job \"skilled\", vif: 1.0488, coef: -0.1194\n",
      "job \"highly skilled\", vif: 1.4175, coef: -0.3670\n",
      "people_liable \"0 to 2\", vif: 1.0276, coef: -0.0050\n",
      "people_liable \"3 or more\", vif: 1.0287, coef: -0.7231\n",
      "telephone \"No\", vif: 1.1282, coef: -0.3069\n",
      "telephone \"Yes\", vif: 1.1210, coef: 0.1114\n",
      "foreign_worker \"No\", vif: 1.0429, coef: -0.0080\n",
      "foreign_worker \"Yes\", vif: 1.0065, coef: 0.8679\n",
      "number_credits \"1\", vif: 1.0684, coef: -0.0718\n",
      "number_credits \"2 to 3\", vif: 1.0582, coef: -0.0824\n",
      "number_credits \"4 to 5\", vif: 12.0999, coef: -0.3792\n",
      "number_credits \"6 or more\", vif: 12.2289, coef: -0.0214\n",
      "savings \"unknown/no savings account\", vif: 1.8201, coef: -0.6171\n",
      "savings \"< 100 DM\", vif: 2.0866, coef: -0.6483\n",
      "savings \"100 to 500 DM\", vif: 1.9161, coef: -0.2104\n",
      "savings \"500 to 1000 DM\", vif: 6.0390, coef: 1.9271\n",
      "savings \">= 1000 DM\", vif: 5.2896, coef: 3.3794\n"
     ]
    }
   ],
   "source": [
    "from statsmodels.stats.outliers_influence import variance_inflation_factor\n",
    "\n",
    "data = pd.DataFrame(lr_mat)\n",
    "X = data[[i for i in range(lr_mat.shape[1])]]\n",
    "X[lr_mat.shape[1]] = 1\n",
    "\n",
    "for i in range(lr_mat.shape[1]):\n",
    "    name, pos = feature_pos[i]\n",
    "    if name in model.current_encoding and name in feature_val_idxs:\n",
    "        val = ' \"' + model.current_encoding[name][pos] + '\"'\n",
    "    else:\n",
    "        val = ''\n",
    "    c = variance_inflation_factor(X.values, i)\n",
    "    print('%s, vif: %.4f, coef: %.4f' % (name + val, c, lr.coef_[0][i]))"
   ]
  },
  {
   "cell_type": "code",
   "execution_count": 104,
   "metadata": {},
   "outputs": [
    {
     "data": {
      "text/plain": [
       "14.935877655441125"
      ]
     },
     "execution_count": 104,
     "metadata": {},
     "output_type": "execute_result"
    }
   ],
   "source": [
    "res.sorted_dist[:, 100].max()"
   ]
  },
  {
   "cell_type": "code",
   "execution_count": 123,
   "metadata": {},
   "outputs": [],
   "source": [
    "import random\n",
    "sample_idx = random.sample(range(len(paths)), 500)\n",
    "neg_sample_idx = [i for i in sample_idx if paths[i]['output'] == 0]\n",
    "pos_sample_idx = [i for i in sample_idx if paths[i]['output'] == 1]"
   ]
  },
  {
   "cell_type": "code",
   "execution_count": 129,
   "metadata": {},
   "outputs": [
    {
     "data": {
      "text/html": [
       "#469, 7927, LR: 0.38, Confidence: 0.80, Consistency: 0.14"
      ],
      "text/plain": [
       "<IPython.core.display.HTML object>"
      ]
     },
     "metadata": {},
     "output_type": "display_data"
    },
    {
     "data": {
      "text/html": [
       "<b>IF </b>  <span style=\"background-color: rgb(252,194,171); color:black;\">status is not ... >= 200 DM (salary)</span>,  <span style=\"background-color: white; color:black;\">present_residence is not < 1 yr</span>,  <span style=\"background-color: rgb(253,213,195); color:black;\">telephone is No</span>,  <span style=\"background-color: white; color:black;\">foreign_worker is No</span>,  <span style=\"background-color: rgb(253,206,186); color:black;\">personal_status_sex is not married male</span>,  <span style=\"background-color: rgb(253,221,206); color:black;\">employment_duration is not >= 7 yrs</span>,  <span style=\"background-color: rgb(253,219,203); color:black;\">purpose is not furniture/equipment</span>,  <span style=\"background-color: white; color:black;\">property is not car or other</span>,  <span style=\"background-color: white; color:black;\">amount >= 1179</span>,  <span style=\"background-color: rgb(252,193,169); color:black;\">housing is for free</span> <b>THEN </b> reject"
      ],
      "text/plain": [
       "<IPython.core.display.HTML object>"
      ]
     },
     "metadata": {},
     "output_type": "display_data"
    },
    {
     "data": {
      "text/html": [
       "#124, 8115, LR: 0.15, Confidence: 0.79, Consistency: 0.00"
      ],
      "text/plain": [
       "<IPython.core.display.HTML object>"
      ]
     },
     "metadata": {},
     "output_type": "display_data"
    },
    {
     "data": {
      "text/html": [
       "<b>IF </b>  <span style=\"background-color: rgb(252,153,122); color:white;\">other_installment_plans is bank</span>,  <span style=\"background-color: rgb(252,194,171); color:black;\">status is not ... >= 200 DM (salary)</span>,  <span style=\"background-color: white; color:black;\">property is not car or other</span>,  <span style=\"background-color: white; color:black;\">credit_history is not no credits taken/all credits paid back duly</span>,  <span style=\"background-color: white; color:black;\">job is skilled</span>,  <span style=\"background-color: rgb(251,127,95); color:white;\">purpose is others</span> <b>THEN </b> reject"
      ],
      "text/plain": [
       "<IPython.core.display.HTML object>"
      ]
     },
     "metadata": {},
     "output_type": "display_data"
    },
    {
     "data": {
      "text/html": [
       "#345, 1692, LR: 0.51, Confidence: 0.79, Consistency: 0.27"
      ],
      "text/plain": [
       "<IPython.core.display.HTML object>"
      ]
     },
     "metadata": {},
     "output_type": "display_data"
    },
    {
     "data": {
      "text/html": [
       "<b>IF </b>  <span style=\"background-color: rgb(219,233,246); color:black;\">housing is own</span>,  <span style=\"background-color: rgb(253,219,203); color:black;\">duration >= 8</span>,  <span style=\"background-color: white; color:black;\">number_credits is 1</span>,  <span style=\"background-color: rgb(252,153,122); color:white;\">other_installment_plans is bank</span>,  <span style=\"background-color: rgb(252,186,160); color:white;\">people_liable is 3 or more</span>,  <span style=\"background-color: rgb(253,222,208); color:black;\">purpose is not car (used)</span> <b>THEN </b> reject"
      ],
      "text/plain": [
       "<IPython.core.display.HTML object>"
      ]
     },
     "metadata": {},
     "output_type": "display_data"
    },
    {
     "data": {
      "text/html": [
       "#99, 8228, LR: 0.27, Confidence: 0.79, Consistency: 0.25"
      ],
      "text/plain": [
       "<IPython.core.display.HTML object>"
      ]
     },
     "metadata": {},
     "output_type": "display_data"
    },
    {
     "data": {
      "text/html": [
       "<b>IF </b>  <span style=\"background-color: rgb(252,191,166); color:white;\">purpose is not car (new) and car (used) and furniture/equipment</span>,  <span style=\"background-color: rgb(253,206,186); color:black;\">personal_status_sex is not married male</span>,  <span style=\"background-color: rgb(253,213,195); color:black;\">telephone is No</span>,  <span style=\"background-color: white; color:black;\">present_residence is not < 1 yr</span>,  <span style=\"background-color: rgb(252,191,166); color:black;\">property is not real estate and car or other</span>,  <span style=\"background-color: white; color:black;\">people_liable is 0 to 2</span>,  <span style=\"background-color: rgb(252,175,147); color:white;\">status is not 0 to 200 DM and ... >= 200 DM (salary)</span>,  <span style=\"background-color: white; color:black;\">number_credits is 2 to 3</span> <b>THEN </b> reject"
      ],
      "text/plain": [
       "<IPython.core.display.HTML object>"
      ]
     },
     "metadata": {},
     "output_type": "display_data"
    },
    {
     "data": {
      "text/html": [
       "#300, 484, LR: 0.91, Confidence: 0.78, Consistency: 0.44"
      ],
      "text/plain": [
       "<IPython.core.display.HTML object>"
      ]
     },
     "metadata": {},
     "output_type": "display_data"
    },
    {
     "data": {
      "text/html": [
       "<b>IF </b>  <span style=\"background-color: rgb(205,223,241); color:black;\">duration <= 15</span>,  <span style=\"background-color: rgb(252,178,151); color:white;\">credit_history is not no credits taken/all credits paid back duly and all credits at this bank paid back duly</span>,  <span style=\"background-color: rgb(253,222,208); color:black;\">job is not unskilled and resident</span>,  <span style=\"background-color: white; color:black;\">number_credits is 1</span>,  <span style=\"background-color: white; color:black;\">present_residence is < 1 yr</span> <b>THEN </b> reject"
      ],
      "text/plain": [
       "<IPython.core.display.HTML object>"
      ]
     },
     "metadata": {},
     "output_type": "display_data"
    }
   ],
   "source": [
    "for i in neighbor_100_dist[sample_idx].argsort()[:5]:\n",
    "    display_rule(i, sample_idx[i])"
   ]
  },
  {
   "cell_type": "code",
   "execution_count": 131,
   "metadata": {},
   "outputs": [
    {
     "data": {
      "image/png": "[encoded data removed]",
      "text/plain": [
       "<Figure size 480x360 with 1 Axes>"
      ]
     },
     "metadata": {},
     "output_type": "display_data"
    }
   ],
   "source": [
    "neighbor_100_dist = res.sorted_dist[:, 100]\n",
    "plt.scatter(neighbor_100_dist, score1, s = 2, color='gray')\n",
    "plt.show()"
   ]
  },
  {
   "cell_type": "code",
   "execution_count": 124,
   "metadata": {},
   "outputs": [
    {
     "data": {
      "image/png": "[encoded data removed]",
      "text/plain": [
       "<Figure size 480x360 with 1 Axes>"
      ]
     },
     "metadata": {},
     "output_type": "display_data"
    }
   ],
   "source": [
    "neighbor_100_dist = res.sorted_dist[:, 100]\n",
    "plt.scatter(neighbor_100_dist[neg_sample_idx], score1[neg_sample_idx], s = 2, color='red')\n",
    "plt.scatter(neighbor_100_dist[pos_sample_idx], score1[pos_sample_idx], s = 2, color='blue')\n",
    "plt.show()"
   ]
  },
  {
   "cell_type": "code",
   "execution_count": 125,
   "metadata": {},
   "outputs": [
    {
     "data": {
      "image/png": "[encoded data removed]",
      "text/plain": [
       "<Figure size 480x360 with 1 Axes>"
      ]
     },
     "metadata": {},
     "output_type": "display_data"
    }
   ],
   "source": [
    "neighbor_100_dist = res.sorted_dist[:, 100]\n",
    "plt.scatter(neighbor_100_dist[neg_sample_idx], score2[neg_sample_idx], s = 2, color='red')\n",
    "plt.scatter(neighbor_100_dist[pos_sample_idx], score2[pos_sample_idx], s = 2, color='blue')\n",
    "plt.show()"
   ]
  },
  {
   "cell_type": "code",
   "execution_count": 126,
   "metadata": {},
   "outputs": [
    {
     "data": {
      "image/png": "[encoded data removed]",
      "text/plain": [
       "<Figure size 480x360 with 1 Axes>"
      ]
     },
     "metadata": {},
     "output_type": "display_data"
    }
   ],
   "source": [
    "neighbor_100_dist = res.sorted_dist[:, 100]\n",
    "plt.scatter(neighbor_100_dist[neg_sample_idx], score3[neg_sample_idx], s = 2, color='red')\n",
    "plt.scatter(neighbor_100_dist[pos_sample_idx], score3[pos_sample_idx], s = 2, color='blue')\n",
    "plt.show()"
   ]
  },
  {
   "cell_type": "code",
   "execution_count": 130,
   "metadata": {},
   "outputs": [
    {
     "data": {
      "image/png": "[encoded data removed]",
      "text/plain": [
       "<Figure size 480x360 with 1 Axes>"
      ]
     },
     "metadata": {},
     "output_type": "display_data"
    }
   ],
   "source": [
    "neighbor_100_dist = res.sorted_dist[:, 100]\n",
    "plt.scatter(neighbor_100_dist[neg_sample_idx], score[neg_sample_idx], s = 2, color='red')\n",
    "plt.scatter(neighbor_100_dist[pos_sample_idx], score[pos_sample_idx], s = 2, color='blue')\n",
    "plt.show()"
   ]
  },
  {
   "cell_type": "code",
   "execution_count": 24,
   "metadata": {},
   "outputs": [],
   "source": [
    "def rule_to_text(rule):\n",
    "    conds = rule[0]\n",
    "    ret = rule[1]\n",
    "    return 'IF ' + ' AND '.join(['%s %s %s' % (str(a), str(b), str(c)) for (a, b, c) in conds]) + ' THEN ' + ret"
   ]
  },
  {
   "cell_type": "code",
   "execution_count": 44,
   "metadata": {},
   "outputs": [],
   "source": [
    "high_conf = [i for i, p in enumerate(paths) if p['confidence'] > 0.6]"
   ]
  },
  {
   "cell_type": "code",
   "execution_count": 68,
   "metadata": {},
   "outputs": [],
   "source": [
    "from lib.model_utils import export_rules_to_csv\n",
    "export_rules_to_csv('csv/logistic_regression_top100.csv', model, outlier1 + outlier2)"
   ]
  },
  {
   "cell_type": "code",
   "execution_count": 42,
   "metadata": {},
   "outputs": [],
   "source": [
    "import random\n",
    "old_idxes = [3513, 2297, 17, 4791, 1141, 6940, 1244, 8085, 7724, 2844, 6964, 7434, 4865, 8037, 6782, 4586, 8855, 8068, 7602, 5972, 1580, 1742, 3056, 5327, 6552, 1238, 6017, 9127, 7753, 2866, 7253, 7516, 2525, 4757, 7047, 4993, 540, 846, 5670, 1650, 5506, 4208, 1223, 6596, 6306, 2784, 5545, 3477, 1623, 2293, 6800, 6744, 4001, 608, 5449, 7594, 5566, 1793, 6255, 3394, 2534, 5067, 4584, 1385, 1885, 3059, 5725, 910, 8455, 8004, 6259, 7643, 9658, 9123, 8389, 1324, 6399, 9305, 3921, 222, 4345, 7354, 2954, 5177, 4367, 5289, 916, 8127, 7951, 4006, 1872, 8087, 9404, 7062, 1479, 2801, 4449, 7885, 5365, 6609]\n",
    "idxes = [i for i, p in enumerate(paths) if p['confidence'] == 0.5]\n",
    "idxes = old_idxes + [i for i in idxes if i not in old_idxes]\n",
    "export_rules_to_csv('csv/confidence_top300', model, idxes)"
   ]
  },
  {
   "cell_type": "code",
   "execution_count": 141,
   "metadata": {},
   "outputs": [],
   "source": [
    "low_conf_idxes = idxes"
   ]
  },
  {
   "cell_type": "code",
   "execution_count": null,
   "metadata": {},
   "outputs": [],
   "source": []
  },
  {
   "cell_type": "code",
   "execution_count": 85,
   "metadata": {},
   "outputs": [
    {
     "name": "stdout",
     "output_type": "stream",
     "text": [
      "unemployed, unskilled and non-resident 22\n",
      "status 1.1818\n",
      "installment_rate 1.3182\n",
      "duration 16.3636\n",
      "amount 2744.1364\n",
      "age 39.0909\n",
      "people_liable - 0 -0.1364\n",
      "unskilled and resident 200\n",
      "status 1.4750\n",
      "installment_rate 1.8450\n",
      "duration 15.5350\n",
      "amount 2357.4300\n",
      "age 35.5850\n",
      "people_liable - 0 -0.2600\n",
      "skilled 630\n",
      "status 1.6302\n",
      "installment_rate 2.0095\n",
      "duration 20.4111\n",
      "amount 3069.9778\n",
      "age 33.2222\n",
      "people_liable - 0 -0.1254\n",
      "highly skilled 148\n",
      "status 1.5473\n",
      "installment_rate 2.0878\n",
      "duration 24.1689\n",
      "amount 5434.4932\n",
      "age 38.0743\n",
      "people_liable - 0 -0.1419\n"
     ]
    }
   ],
   "source": [
    "for i in range(4):\n",
    "    idx = np.flatnonzero(model.data_table['job - ' + str(i)])\n",
    "    print(model.current_encoding['job'][i], np.sum(model.data_table['job - ' + str(i)]))\n",
    "    for k in ['status', 'installment_rate', 'duration', 'amount', 'age', 'people_liable - 0']:\n",
    "        print('%s %.4f' % (k, np.mean(model.data_table[k][idx]) - 1))"
   ]
  },
  {
   "cell_type": "code",
   "execution_count": 26,
   "metadata": {},
   "outputs": [],
   "source": [
    "new_mat = mat.copy()\n",
    "for i in range(new_mat.shape[0]):\n",
    "    new_mat[i] /= new_mat[i].sum()"
   ]
  },
  {
   "cell_type": "code",
   "execution_count": 27,
   "metadata": {},
   "outputs": [],
   "source": [
    "res = LOCIMatrixNew(new_mat, r = 8, metric = 'euclidean', n_ticks=100)"
   ]
  },
  {
   "cell_type": "code",
   "execution_count": 28,
   "metadata": {},
   "outputs": [
    {
     "data": {
      "image/png": "[encoded data removed]",
      "text/plain": [
       "<Figure size 375x375 with 1 Axes>"
      ]
     },
     "metadata": {},
     "output_type": "display_data"
    }
   ],
   "source": [
    "dist_data = pd.DataFrame({ 'dist': res.sorted_dist.reshape(-1) })\n",
    "sns.displot(data=dist_data, x=\"dist\", bins=50, log_scale=(False, False))\n",
    "plt.show()"
   ]
  },
  {
   "cell_type": "code",
   "execution_count": 29,
   "metadata": {},
   "outputs": [
    {
     "data": {
      "image/png": "[encoded data removed]",
      "text/plain": [
       "<Figure size 375x375 with 1 Axes>"
      ]
     },
     "metadata": {},
     "output_type": "display_data"
    }
   ],
   "source": [
    "r = np.mean(res.sorted_dist[:, 100])\n",
    "ret = res.check_consistency(r, [p['output'] for p in paths])\n",
    "consistency_data = pd.DataFrame({ 'consistency': ret })\n",
    "sns.displot(data=consistency_data, x=\"consistency\", bins=50, log_scale=(False, False))\n",
    "plt.show()"
   ]
  },
  {
   "cell_type": "code",
   "execution_count": 20,
   "metadata": {},
   "outputs": [
    {
     "data": {
      "image/png": "[encoded data removed]",
      "text/plain": [
       "<Figure size 480x360 with 1 Axes>"
      ]
     },
     "metadata": {},
     "output_type": "display_data"
    }
   ],
   "source": [
    "conf = np.array([p['confidence'] for p in paths])\n",
    "idx = [i for i in range(2, 9000, 45)]\n",
    "ret = np.array(ret)\n",
    "plt.scatter(conf[idx], ret[idx], s = 2, color='gray')\n",
    "plt.show()"
   ]
  },
  {
   "cell_type": "code",
   "execution_count": 36,
   "metadata": {},
   "outputs": [],
   "source": [
    "import matplotlib as mpl\n",
    "\n",
    "class MplColorHelper:\n",
    "\n",
    "  def __init__(self, cmap_name, start_val, stop_val):\n",
    "    self.cmap_name = cmap_name\n",
    "    self.cmap = plt.get_cmap(cmap_name)\n",
    "    self.norm = mpl.colors.Normalize(vmin=start_val, vmax=stop_val)\n",
    "    self.scalarMap = cm.ScalarMappable(norm=self.norm, cmap=self.cmap)\n",
    "\n",
    "  def get_rgb(self, val):\n",
    "    return self.scalarMap.to_rgba(val)\n",
    "\n",
    "for i in model.feature_pos:\n",
    "    if model.feature_pos[i][0] not in feature_val_idxs:\n",
    "        feature_val_idxs[model.feature_pos[i][0]] = i\n",
    "        \n",
    "max_ctr = lr.coef_[0].max()\n",
    "min_ctr = -lr.coef_[0].min()\n",
    "blues = MplColorHelper('Blues', 0, 1)\n",
    "reds = MplColorHelper('Reds', 0, 1)\n",
    "\n",
    "def display_rule(id, i):\n",
    "    conds, output = model.interpret_path(model.paths[i])\n",
    "    vec = lr_mat[i]\n",
    "    text = '<b>IF </b> '\n",
    "    for (feature, op, val) in conds:\n",
    "        idx = feature_val_idxs[feature]\n",
    "        ctr = np.sum(lr.coef_[0][idx] * vec[idx])\n",
    "        if ctr > 0:\n",
    "            ctr /= max_ctr\n",
    "        else:\n",
    "            ctr /= min_ctr\n",
    "        cond_text = feature + ' ' + op + ' ' + str(val)\n",
    "        if ctr > 0:\n",
    "            rgb = blues.get_rgb(ctr * 0.9 + 0.1)\n",
    "        else:\n",
    "            rgb = reds.get_rgb(-ctr * 0.9 + 0.1)\n",
    "        \n",
    "        text_color = 'white' if np.abs(ctr) > 0.15 else 'black'\n",
    "        bgcolor = 'rgb(%d,%d,%d)' % (int(rgb[0] * 255), int(rgb[1] * 255), int(rgb[2] * 255))\n",
    "        if np.abs(ctr) < 0.03:\n",
    "            bgcolor = 'white'\n",
    "\n",
    "        text += ' <span style=\"background-color: %s; color:%s;\">%s</span>, ' % \\\n",
    "            (bgcolor, text_color, cond_text)\n",
    "    text = text[:-2] + ' '\n",
    "    text += '<b>THEN </b> ' + output\n",
    "    display(HTML('#%d, %d, LR: %.2f, Confidence: %.2f, Consistency: %.2f' % (id, i, score1[i], score3[i], score2[i])))\n",
    "    display(HTML(text))\n"
   ]
  },
  {
   "cell_type": "markdown",
   "metadata": {},
   "source": [
    "<div class=\"alert alert-info\">\n",
    "  <strong>Logistic Regression Top 100:</strong>\n",
    "</div>"
   ]
  },
  {
   "cell_type": "code",
   "execution_count": 8,
   "metadata": {},
   "outputs": [],
   "source": [
    "from lib.model_utils import export_rules_to_csv\n",
    "export_rules_to_csv('csv/logistic_regression_top100_0714.csv', model, score1.argsort()[-100:][::-1])"
   ]
  },
  {
   "cell_type": "code",
   "execution_count": 150,
   "metadata": {},
   "outputs": [],
   "source": [
    "export_rules_to_csv('csv/new_logistic_regression_top100.csv', model, outlier1 + outlier2)"
   ]
  },
  {
   "cell_type": "code",
   "execution_count": 63,
   "metadata": {},
   "outputs": [
    {
     "name": "stdout",
     "output_type": "stream",
     "text": [
      "105\n"
     ]
    }
   ],
   "source": [
    "old_outlier = [4137 ,3531 ,4448 ,5338 ,5998 ,1216 ,2361 ,5426 ,3048 ,7896 ,9155 ,9127 , 415 , 751 ,8136 ,2097 ,9367 ,9259 , 603 ,3527 ,1728 ,7021 ,6314 ,2459 ,5860 ,6526 ,3513 ,8433 ,6991 ,6872 ,2314 ,6472 ,3312 ,2539 ,3205 ,5330 , 593 ,2542 ,4443 ,5862 ,3777 ,1171 ,6596 ,3511 ,1042 ,5996 ,7355 ,9039 , 126 ,3785 , 289 ,2573 ,1202 ,5240 ,8516 ,3339 ,   1 ,4992 ,6286 ,8673 ,8068 ,4089 ,9342 ,9536 ,2226 ,8322 ,1476 ,3120 ,9510 , 942 , 166 ,9345 ,2901 ,8564 ,4158 ,5736 ,6022 ,2166 ,4410 ,6365 ,2818 ,7863 ,1427 ,4838 ,1213 ,3713 , 234 ,9488 , 661 ,2821 ,9621 ,3000 ,6720 ,2294 ,2597 ,7799 ,1837 ,6420 ,7786 ,2238]\n",
    "new_outlier = outlier1 + outlier2\n",
    "\n",
    "print(len(set(new_outlier + old_outlier)))"
   ]
  },
  {
   "cell_type": "code",
   "execution_count": 71,
   "metadata": {},
   "outputs": [],
   "source": [
    "from lib.model_utils import export_rules_to_csv\n",
    "\n",
    "export_rules_to_csv('csv/mixed_1_1_1_top50.csv', model, outlier)"
   ]
  },
  {
   "cell_type": "code",
   "execution_count": null,
   "metadata": {},
   "outputs": [],
   "source": []
  },
  {
   "cell_type": "code",
   "execution_count": 33,
   "metadata": {},
   "outputs": [
    {
     "name": "stdout",
     "output_type": "stream",
     "text": [
      "0.9897605804609025\n"
     ]
    },
    {
     "data": {
      "text/html": [
       "#0, 2596, LR: 0.11, Confidence: 0.00, Consistency: 0.15"
      ],
      "text/plain": [
       "<IPython.core.display.HTML object>"
      ]
     },
     "metadata": {},
     "output_type": "display_data"
    },
    {
     "data": {
      "text/html": [
       "<b>IF </b>  <span style=\"background-color: rgb(253,213,195); color:black;\">telephone is No</span>,  <span style=\"background-color: white; color:black;\">housing is own</span>,  <span style=\"background-color: white; color:black;\">number_credits is 1</span>,  <span style=\"background-color: rgb(253,218,202); color:black;\">property is unknown / no property</span>,  <span style=\"background-color: rgb(212,228,243); color:black;\">purpose is furniture/equipment</span> <b>THEN </b> accept"
      ],
      "text/plain": [
       "<IPython.core.display.HTML object>"
      ]
     },
     "metadata": {},
     "output_type": "display_data"
    },
    {
     "name": "stdout",
     "output_type": "stream",
     "text": [
      "0.982607368881035\n"
     ]
    },
    {
     "data": {
      "text/html": [
       "#1, 1693, LR: 0.63, Confidence: 0.00, Consistency: 0.00"
      ],
      "text/plain": [
       "<IPython.core.display.HTML object>"
      ]
     },
     "metadata": {},
     "output_type": "display_data"
    },
    {
     "data": {
      "text/html": [
       "<b>IF </b>  <span style=\"background-color: rgb(219,233,246); color:black;\">housing is own</span>,  <span style=\"background-color: rgb(253,219,203); color:black;\">duration >= 8</span>,  <span style=\"background-color: white; color:black;\">number_credits is 1</span>,  <span style=\"background-color: rgb(252,153,122); color:white;\">other_installment_plans is bank</span>,  <span style=\"background-color: rgb(252,186,160); color:white;\">people_liable is 3 or more</span>,  <span style=\"background-color: rgb(221,234,246); color:black;\">purpose is car (used)</span> <b>THEN </b> reject"
      ],
      "text/plain": [
       "<IPython.core.display.HTML object>"
      ]
     },
     "metadata": {},
     "output_type": "display_data"
    },
    {
     "name": "stdout",
     "output_type": "stream",
     "text": [
      "0.9820625206039383\n"
     ]
    },
    {
     "data": {
      "text/html": [
       "#2, 8123, LR: 0.50, Confidence: 0.00, Consistency: 0.00"
      ],
      "text/plain": [
       "<IPython.core.display.HTML object>"
      ]
     },
     "metadata": {},
     "output_type": "display_data"
    },
    {
     "data": {
      "text/html": [
       "<b>IF </b>  <span style=\"background-color: rgb(252,194,171); color:black;\">status is not ... >= 200 DM (salary)</span>,  <span style=\"background-color: white; color:black;\">purpose is not furniture/equipment and retraining</span>,  <span style=\"background-color: rgb(252,191,166); color:black;\">property is not real estate and car or other</span>,  <span style=\"background-color: rgb(252,192,168); color:black;\">credit_history is not all credits at this bank paid back duly</span>,  <span style=\"background-color: white; color:black;\">job is not highly skilled</span>,  <span style=\"background-color: rgb(253,219,203); color:black;\">number_credits is not 1 and 2 to 3</span> <b>THEN </b> reject"
      ],
      "text/plain": [
       "<IPython.core.display.HTML object>"
      ]
     },
     "metadata": {},
     "output_type": "display_data"
    },
    {
     "name": "stdout",
     "output_type": "stream",
     "text": [
      "0.9820102960016699\n"
     ]
    },
    {
     "data": {
      "text/html": [
       "#3, 4195, LR: 0.51, Confidence: 0.00, Consistency: 0.25"
      ],
      "text/plain": [
       "<IPython.core.display.HTML object>"
      ]
     },
     "metadata": {},
     "output_type": "display_data"
    },
    {
     "data": {
      "text/html": [
       "<b>IF </b>  <span style=\"background-color: rgb(251,140,108); color:white;\">property is unknown / no property</span>,  <span style=\"background-color: white; color:black;\">credit_history is not critical account/other credits elsewhere</span>,  <span style=\"background-color: rgb(253,209,191); color:black;\">housing is not for free</span>,  <span style=\"background-color: rgb(252,186,160); color:white;\">people_liable is 3 or more</span>,  <span style=\"background-color: white; color:black;\">other_debtors is not none</span> <b>THEN </b> accept"
      ],
      "text/plain": [
       "<IPython.core.display.HTML object>"
      ]
     },
     "metadata": {},
     "output_type": "display_data"
    },
    {
     "name": "stdout",
     "output_type": "stream",
     "text": [
      "0.9819805060619657\n"
     ]
    },
    {
     "data": {
      "text/html": [
       "#4, 1418, LR: 0.29, Confidence: 0.00, Consistency: 0.03"
      ],
      "text/plain": [
       "<IPython.core.display.HTML object>"
      ]
     },
     "metadata": {},
     "output_type": "display_data"
    },
    {
     "data": {
      "text/html": [
       "<b>IF </b>  <span style=\"background-color: white; color:black;\">housing is for free</span>,  <span style=\"background-color: white; color:black;\">savings is not >= 1000 DM</span>,  <span style=\"background-color: rgb(252,194,171); color:black;\">status is not ... >= 200 DM (salary)</span>,  <span style=\"background-color: rgb(253,214,197); color:black;\">property is car or other</span>,  <span style=\"background-color: white; color:black;\">job is not highly skilled</span>,  <span style=\"background-color: rgb(253,218,202); color:black;\">installment_rate is not < 20</span> <b>THEN </b> accept"
      ],
      "text/plain": [
       "<IPython.core.display.HTML object>"
      ]
     },
     "metadata": {},
     "output_type": "display_data"
    },
    {
     "name": "stdout",
     "output_type": "stream",
     "text": [
      "0.9819805060619657\n"
     ]
    },
    {
     "data": {
      "text/html": [
       "#5, 5956, LR: 0.21, Confidence: 0.00, Consistency: 0.17"
      ],
      "text/plain": [
       "<IPython.core.display.HTML object>"
      ]
     },
     "metadata": {},
     "output_type": "display_data"
    },
    {
     "data": {
      "text/html": [
       "<b>IF </b>  <span style=\"background-color: white; color:black;\">property is not unknown / no property</span>,  <span style=\"background-color: white; color:black;\">savings is unknown/no savings account or < 100 DM</span>,  <span style=\"background-color: rgb(253,208,189); color:black;\">purpose is not car (new)</span>,  <span style=\"background-color: rgb(252,193,169); color:black;\">housing is for free</span>,  <span style=\"background-color: white; color:black;\">job is not skilled</span> <b>THEN </b> accept"
      ],
      "text/plain": [
       "<IPython.core.display.HTML object>"
      ]
     },
     "metadata": {},
     "output_type": "display_data"
    },
    {
     "name": "stdout",
     "output_type": "stream",
     "text": [
      "0.9819805060619657\n"
     ]
    },
    {
     "data": {
      "text/html": [
       "#6, 7291, LR: 0.25, Confidence: 0.00, Consistency: 0.18"
      ],
      "text/plain": [
       "<IPython.core.display.HTML object>"
      ]
     },
     "metadata": {},
     "output_type": "display_data"
    },
    {
     "data": {
      "text/html": [
       "<b>IF </b>  <span style=\"background-color: rgb(252,194,171); color:black;\">status is not ... >= 200 DM (salary)</span>,  <span style=\"background-color: rgb(252,193,169); color:black;\">housing is for free</span>,  <span style=\"background-color: white; color:black;\">property is not unknown / no property</span>,  <span style=\"background-color: white; color:black;\">job is not skilled</span> <b>THEN </b> accept"
      ],
      "text/plain": [
       "<IPython.core.display.HTML object>"
      ]
     },
     "metadata": {},
     "output_type": "display_data"
    },
    {
     "name": "stdout",
     "output_type": "stream",
     "text": [
      "0.9797958971132713\n"
     ]
    },
    {
     "data": {
      "text/html": [
       "#7, 5011, LR: 0.15, Confidence: 0.00, Consistency: 0.00"
      ],
      "text/plain": [
       "<IPython.core.display.HTML object>"
      ]
     },
     "metadata": {},
     "output_type": "display_data"
    },
    {
     "data": {
      "text/html": [
       "<b>IF </b>  <span style=\"background-color: rgb(253,212,194); color:black;\">other_debtors is none</span>,  <span style=\"background-color: rgb(252,201,180); color:black;\">savings is not 500 to 1000 DM and >= 1000 DM</span>,  <span style=\"background-color: rgb(219,233,246); color:black;\">housing is own</span>,  <span style=\"background-color: rgb(251,140,108); color:white;\">property is unknown / no property</span>,  <span style=\"background-color: rgb(252,175,147); color:white;\">status is not 0 to 200 DM and ... >= 200 DM (salary)</span>,  <span style=\"background-color: rgb(252,192,168); color:black;\">credit_history is not all credits at this bank paid back duly</span>,  <span style=\"background-color: rgb(253,222,208); color:black;\">number_credits is not 2 to 3</span>,  <span style=\"background-color: rgb(253,213,195); color:black;\">telephone is No</span> <b>THEN </b> reject"
      ],
      "text/plain": [
       "<IPython.core.display.HTML object>"
      ]
     },
     "metadata": {},
     "output_type": "display_data"
    },
    {
     "name": "stdout",
     "output_type": "stream",
     "text": [
      "0.977445937049017\n"
     ]
    },
    {
     "data": {
      "text/html": [
       "#8, 7394, LR: 0.40, Confidence: 0.00, Consistency: 0.00"
      ],
      "text/plain": [
       "<IPython.core.display.HTML object>"
      ]
     },
     "metadata": {},
     "output_type": "display_data"
    },
    {
     "data": {
      "text/html": [
       "<b>IF </b>  <span style=\"background-color: white; color:black;\">other_installment_plans is not bank</span>,  <span style=\"background-color: rgb(253,219,203); color:black;\">number_credits is not 1 and 2 to 3</span>,  <span style=\"background-color: rgb(253,213,195); color:black;\">telephone is No</span>,  <span style=\"background-color: rgb(252,175,147); color:white;\">status is not 0 to 200 DM and ... >= 200 DM (salary)</span>,  <span style=\"background-color: rgb(252,200,179); color:black;\">other_debtors is not guarantor</span>,  <span style=\"background-color: rgb(252,199,177); color:black;\">property is not real estate</span> <b>THEN </b> reject"
      ],
      "text/plain": [
       "<IPython.core.display.HTML object>"
      ]
     },
     "metadata": {},
     "output_type": "display_data"
    },
    {
     "name": "stdout",
     "output_type": "stream",
     "text": [
      "0.977445937049017\n"
     ]
    },
    {
     "data": {
      "text/html": [
       "#9, 146, LR: 0.29, Confidence: 0.00, Consistency: 0.00"
      ],
      "text/plain": [
       "<IPython.core.display.HTML object>"
      ]
     },
     "metadata": {},
     "output_type": "display_data"
    },
    {
     "data": {
      "text/html": [
       "<b>IF </b>  <span style=\"background-color: rgb(252,192,168); color:black;\">savings is unknown/no savings account or < 100 DM</span>,  <span style=\"background-color: rgb(252,199,177); color:black;\">property is not real estate</span>,  <span style=\"background-color: white; color:black;\">purpose is not others</span>,  <span style=\"background-color: rgb(252,175,147); color:white;\">status is not 0 to 200 DM and ... >= 200 DM (salary)</span>,  <span style=\"background-color: white; color:black;\">housing is not rent</span>,  <span style=\"background-color: rgb(253,212,194); color:black;\">other_debtors is none</span>,  <span style=\"background-color: rgb(253,219,203); color:black;\">number_credits is not 1 and 2 to 3</span>,  <span style=\"background-color: rgb(253,213,195); color:black;\">telephone is No</span> <b>THEN </b> reject"
      ],
      "text/plain": [
       "<IPython.core.display.HTML object>"
      ]
     },
     "metadata": {},
     "output_type": "display_data"
    },
    {
     "name": "stdout",
     "output_type": "stream",
     "text": [
      "0.7140180778887605\n"
     ]
    },
    {
     "data": {
      "text/html": [
       "#10, 6913, LR: 0.54, Confidence: 0.00, Consistency: 0.00"
      ],
      "text/plain": [
       "<IPython.core.display.HTML object>"
      ]
     },
     "metadata": {},
     "output_type": "display_data"
    },
    {
     "data": {
      "text/html": [
       "<b>IF </b>  <span style=\"background-color: rgb(253,206,186); color:black;\">personal_status_sex is not married male</span>,  <span style=\"background-color: rgb(253,219,203); color:black;\">purpose is not furniture/equipment</span>,  <span style=\"background-color: rgb(253,213,195); color:black;\">telephone is No</span>,  <span style=\"background-color: rgb(252,197,174); color:black;\">duration in 15 to 35</span>,  <span style=\"background-color: rgb(253,219,203); color:black;\">number_credits is not 1 and 2 to 3</span>,  <span style=\"background-color: rgb(253,222,208); color:black;\">job is not unskilled and resident</span> <b>THEN </b> reject"
      ],
      "text/plain": [
       "<IPython.core.display.HTML object>"
      ]
     },
     "metadata": {},
     "output_type": "display_data"
    },
    {
     "name": "stdout",
     "output_type": "stream",
     "text": [
      "0.7137231746508326\n"
     ]
    },
    {
     "data": {
      "text/html": [
       "#11, 5302, LR: 0.54, Confidence: 0.00, Consistency: 0.15"
      ],
      "text/plain": [
       "<IPython.core.display.HTML object>"
      ]
     },
     "metadata": {},
     "output_type": "display_data"
    },
    {
     "data": {
      "text/html": [
       "<b>IF </b>  <span style=\"background-color: rgb(253,213,195); color:black;\">telephone is No</span>,  <span style=\"background-color: white; color:black;\">purpose is not others and furniture/equipment</span>,  <span style=\"background-color: rgb(252,192,168); color:black;\">credit_history is not all credits at this bank paid back duly</span>,  <span style=\"background-color: white; color:black;\">savings is < 100 DM or 100 to 500 DM</span>,  <span style=\"background-color: rgb(252,194,171); color:black;\">status is not ... >= 200 DM (salary)</span>,  <span style=\"background-color: white; color:black;\">amount <= 2878</span>,  <span style=\"background-color: rgb(252,186,160); color:white;\">people_liable is 3 or more</span> <b>THEN </b> accept"
      ],
      "text/plain": [
       "<IPython.core.display.HTML object>"
      ]
     },
     "metadata": {},
     "output_type": "display_data"
    },
    {
     "name": "stdout",
     "output_type": "stream",
     "text": [
      "0.7024430509128573\n"
     ]
    },
    {
     "data": {
      "text/html": [
       "#12, 1086, LR: 0.39, Confidence: 0.00, Consistency: 0.15"
      ],
      "text/plain": [
       "<IPython.core.display.HTML object>"
      ]
     },
     "metadata": {},
     "output_type": "display_data"
    },
    {
     "data": {
      "text/html": [
       "<b>IF </b>  <span style=\"background-color: rgb(252,194,171); color:black;\">status is not ... >= 200 DM (salary)</span>,  <span style=\"background-color: rgb(252,178,151); color:white;\">credit_history is not no credits taken/all credits paid back duly and all credits at this bank paid back duly</span>,  <span style=\"background-color: white; color:black;\">foreign_worker is No</span>,  <span style=\"background-color: rgb(253,213,195); color:black;\">telephone is No</span>,  <span style=\"background-color: white; color:black;\">savings is unknown/no savings account</span>,  <span style=\"background-color: rgb(252,189,163); color:white;\">other_debtors is co-applicant</span> <b>THEN </b> reject"
      ],
      "text/plain": [
       "<IPython.core.display.HTML object>"
      ]
     },
     "metadata": {},
     "output_type": "display_data"
    },
    {
     "name": "stdout",
     "output_type": "stream",
     "text": [
      "0.7023618440065043\n"
     ]
    },
    {
     "data": {
      "text/html": [
       "#13, 5957, LR: 0.76, Confidence: 0.00, Consistency: 0.04"
      ],
      "text/plain": [
       "<IPython.core.display.HTML object>"
      ]
     },
     "metadata": {},
     "output_type": "display_data"
    },
    {
     "data": {
      "text/html": [
       "<b>IF </b>  <span style=\"background-color: white; color:black;\">property is not unknown / no property</span>,  <span style=\"background-color: white; color:black;\">savings is unknown/no savings account or < 100 DM</span>,  <span style=\"background-color: rgb(253,208,189); color:black;\">purpose is not car (new)</span>,  <span style=\"background-color: rgb(252,193,169); color:black;\">housing is for free</span>,  <span style=\"background-color: white; color:black;\">job is skilled</span> <b>THEN </b> reject"
      ],
      "text/plain": [
       "<IPython.core.display.HTML object>"
      ]
     },
     "metadata": {},
     "output_type": "display_data"
    },
    {
     "name": "stdout",
     "output_type": "stream",
     "text": [
      "0.7023618440065043\n"
     ]
    },
    {
     "data": {
      "text/html": [
       "#14, 8601, LR: 0.14, Confidence: 0.00, Consistency: 0.18"
      ],
      "text/plain": [
       "<IPython.core.display.HTML object>"
      ]
     },
     "metadata": {},
     "output_type": "display_data"
    },
    {
     "data": {
      "text/html": [
       "<b>IF </b>  <span style=\"background-color: white; color:black;\">job is skilled</span>,  <span style=\"background-color: rgb(252,192,168); color:black;\">credit_history is not all credits at this bank paid back duly</span>,  <span style=\"background-color: rgb(252,172,144); color:white;\">duration >= 15</span>,  <span style=\"background-color: white; color:black;\">savings is unknown/no savings account or < 100 DM</span>,  <span style=\"background-color: rgb(220,233,246); color:black;\">other_debtors is not co-applicant</span>,  <span style=\"background-color: rgb(252,193,169); color:black;\">housing is for free</span>,  <span style=\"background-color: rgb(245,83,59); color:white;\">status is no checking account</span>,  <span style=\"background-color: white; color:black;\">property is not unknown / no property</span> <b>THEN </b> reject"
      ],
      "text/plain": [
       "<IPython.core.display.HTML object>"
      ]
     },
     "metadata": {},
     "output_type": "display_data"
    },
    {
     "name": "stdout",
     "output_type": "stream",
     "text": [
      "0.7019556117669677\n"
     ]
    },
    {
     "data": {
      "text/html": [
       "#15, 2600, LR: 0.45, Confidence: 0.00, Consistency: 0.11"
      ],
      "text/plain": [
       "<IPython.core.display.HTML object>"
      ]
     },
     "metadata": {},
     "output_type": "display_data"
    },
    {
     "data": {
      "text/html": [
       "<b>IF </b>  <span style=\"background-color: rgb(253,213,195); color:black;\">telephone is No</span>,  <span style=\"background-color: white; color:black;\">housing is not rent</span>,  <span style=\"background-color: white; color:black;\">number_credits is 1</span>,  <span style=\"background-color: white; color:black;\">property is building soc. savings agr./life insurance</span>,  <span style=\"background-color: rgb(253,219,203); color:black;\">purpose is not furniture/equipment</span>,  <span style=\"background-color: rgb(253,206,186); color:black;\">personal_status_sex is not married male</span>,  <span style=\"background-color: rgb(252,153,122); color:white;\">other_installment_plans is bank</span> <b>THEN </b> reject"
      ],
      "text/plain": [
       "<IPython.core.display.HTML object>"
      ]
     },
     "metadata": {},
     "output_type": "display_data"
    },
    {
     "name": "stdout",
     "output_type": "stream",
     "text": [
      "0.7011084943516834\n"
     ]
    },
    {
     "data": {
      "text/html": [
       "#16, 7089, LR: 0.12, Confidence: 0.00, Consistency: 0.44"
      ],
      "text/plain": [
       "<IPython.core.display.HTML object>"
      ]
     },
     "metadata": {},
     "output_type": "display_data"
    },
    {
     "data": {
      "text/html": [
       "<b>IF </b>  <span style=\"background-color: rgb(252,192,168); color:black;\">savings is unknown/no savings account or < 100 DM</span>,  <span style=\"background-color: rgb(253,213,195); color:black;\">telephone is No</span>,  <span style=\"background-color: rgb(253,218,202); color:black;\">property is not building soc. savings agr./life insurance</span>,  <span style=\"background-color: rgb(158,202,225); color:white;\">status is ... >= 200 DM (salary)</span>,  <span style=\"background-color: rgb(252,186,160); color:white;\">people_liable is 3 or more</span>,  <span style=\"background-color: rgb(252,158,128); color:white;\">housing is rent</span> <b>THEN </b> accept"
      ],
      "text/plain": [
       "<IPython.core.display.HTML object>"
      ]
     },
     "metadata": {},
     "output_type": "display_data"
    },
    {
     "name": "stdout",
     "output_type": "stream",
     "text": [
      "0.6900571677434755\n"
     ]
    },
    {
     "data": {
      "text/html": [
       "#17, 3786, LR: 0.71, Confidence: 0.00, Consistency: 0.36"
      ],
      "text/plain": [
       "<IPython.core.display.HTML object>"
      ]
     },
     "metadata": {},
     "output_type": "display_data"
    },
    {
     "data": {
      "text/html": [
       "<b>IF </b>  <span style=\"background-color: rgb(252,175,147); color:white;\">status is not 0 to 200 DM and ... >= 200 DM (salary)</span>,  <span style=\"background-color: rgb(252,192,168); color:black;\">savings is unknown/no savings account or < 100 DM</span>,  <span style=\"background-color: white; color:black;\">purpose is car (used)</span>,  <span style=\"background-color: rgb(252,199,177); color:black;\">property is not real estate</span>,  <span style=\"background-color: white; color:black;\">job is skilled</span>,  <span style=\"background-color: rgb(252,176,148); color:white;\">housing is not own</span>,  <span style=\"background-color: white; color:black;\">telephone is Yes</span> <b>THEN </b> accept"
      ],
      "text/plain": [
       "<IPython.core.display.HTML object>"
      ]
     },
     "metadata": {},
     "output_type": "display_data"
    },
    {
     "name": "stdout",
     "output_type": "stream",
     "text": [
      "0.6464562295529453\n"
     ]
    },
    {
     "data": {
      "text/html": [
       "#18, 7078, LR: 0.47, Confidence: 0.00, Consistency: 0.00"
      ],
      "text/plain": [
       "<IPython.core.display.HTML object>"
      ]
     },
     "metadata": {},
     "output_type": "display_data"
    },
    {
     "data": {
      "text/html": [
       "<b>IF </b>  <span style=\"background-color: rgb(252,192,168); color:black;\">savings is unknown/no savings account or < 100 DM</span>,  <span style=\"background-color: rgb(253,213,195); color:black;\">telephone is No</span>,  <span style=\"background-color: rgb(253,218,202); color:black;\">property is unknown / no property</span>,  <span style=\"background-color: rgb(252,194,171); color:black;\">status is not ... >= 200 DM (salary)</span>,  <span style=\"background-color: rgb(253,222,208); color:black;\">job is not unskilled and resident</span>,  <span style=\"background-color: white; color:black;\">number_credits is 2 to 3</span>,  <span style=\"background-color: white; color:black;\">people_liable is 0 to 2</span>,  <span style=\"background-color: rgb(253,221,206); color:black;\">age <= 46</span> <b>THEN </b> reject"
      ],
      "text/plain": [
       "<IPython.core.display.HTML object>"
      ]
     },
     "metadata": {},
     "output_type": "display_data"
    },
    {
     "name": "stdout",
     "output_type": "stream",
     "text": [
      "0.6122882621111688\n"
     ]
    },
    {
     "data": {
      "text/html": [
       "#19, 3146, LR: 0.26, Confidence: 0.00, Consistency: 0.00"
      ],
      "text/plain": [
       "<IPython.core.display.HTML object>"
      ]
     },
     "metadata": {},
     "output_type": "display_data"
    },
    {
     "data": {
      "text/html": [
       "<b>IF </b>  <span style=\"background-color: rgb(252,192,168); color:black;\">credit_history is not all credits at this bank paid back duly</span>,  <span style=\"background-color: rgb(253,206,186); color:black;\">personal_status_sex is not married male</span>,  <span style=\"background-color: rgb(252,199,177); color:black;\">property is not real estate and building soc. savings agr./life insurance</span>,  <span style=\"background-color: white; color:black;\">savings is < 100 DM or 100 to 500 DM</span>,  <span style=\"background-color: rgb(253,213,195); color:black;\">telephone is No</span>,  <span style=\"background-color: white; color:black;\">job is skilled</span>,  <span style=\"background-color: white; color:black;\">age >= 23</span>,  <span style=\"background-color: white; color:black;\">present_residence is not < 1 yr</span>,  <span style=\"background-color: rgb(252,158,128); color:white;\">housing is rent</span> <b>THEN </b> reject"
      ],
      "text/plain": [
       "<IPython.core.display.HTML object>"
      ]
     },
     "metadata": {},
     "output_type": "display_data"
    },
    {
     "name": "stdout",
     "output_type": "stream",
     "text": [
      "0.5891624799840314\n"
     ]
    },
    {
     "data": {
      "text/html": [
       "#20, 4137, LR: 0.98, Confidence: 0.00, Consistency: 0.25"
      ],
      "text/plain": [
       "<IPython.core.display.HTML object>"
      ]
     },
     "metadata": {},
     "output_type": "display_data"
    },
    {
     "data": {
      "text/html": [
       "<b>IF </b>  <span style=\"background-color: rgb(252,172,144); color:white;\">duration >= 15</span>,  <span style=\"background-color: rgb(253,222,208); color:black;\">purpose is not car (used)</span>,  <span style=\"background-color: rgb(251,140,108); color:white;\">property is unknown / no property</span>,  <span style=\"background-color: rgb(253,209,191); color:black;\">housing is not for free</span>,  <span style=\"background-color: white; color:black;\">job is not highly skilled</span>,  <span style=\"background-color: rgb(245,83,59); color:white;\">status is no checking account</span>,  <span style=\"background-color: rgb(252,186,160); color:white;\">people_liable is 3 or more</span> <b>THEN </b> accept"
      ],
      "text/plain": [
       "<IPython.core.display.HTML object>"
      ]
     },
     "metadata": {},
     "output_type": "display_data"
    },
    {
     "name": "stdout",
     "output_type": "stream",
     "text": [
      "0.5888758409453605\n"
     ]
    },
    {
     "data": {
      "text/html": [
       "#21, 3509, LR: 0.35, Confidence: 0.00, Consistency: 0.20"
      ],
      "text/plain": [
       "<IPython.core.display.HTML object>"
      ]
     },
     "metadata": {},
     "output_type": "display_data"
    },
    {
     "data": {
      "text/html": [
       "<b>IF </b>  <span style=\"background-color: rgb(252,172,144); color:white;\">duration >= 15</span>,  <span style=\"background-color: white; color:black;\">purpose is not others</span>,  <span style=\"background-color: rgb(252,194,171); color:black;\">status is not ... >= 200 DM (salary)</span>,  <span style=\"background-color: rgb(253,222,208); color:black;\">job is not unskilled and resident</span>,  <span style=\"background-color: white; color:black;\">credit_history is no credits taken/all credits paid back duly</span>,  <span style=\"background-color: white; color:black;\">number_credits is 1</span>,  <span style=\"background-color: rgb(253,206,186); color:black;\">personal_status_sex is not married male</span>,  <span style=\"background-color: white; color:black;\">property is unknown / no property</span>,  <span style=\"background-color: white; color:black;\">housing is not rent</span>,  <span style=\"background-color: rgb(253,213,195); color:black;\">telephone is No</span> <b>THEN </b> reject"
      ],
      "text/plain": [
       "<IPython.core.display.HTML object>"
      ]
     },
     "metadata": {},
     "output_type": "display_data"
    },
    {
     "name": "stdout",
     "output_type": "stream",
     "text": [
      "0.5759684827570907\n"
     ]
    },
    {
     "data": {
      "text/html": [
       "#22, 8224, LR: 0.54, Confidence: 0.00, Consistency: 0.00"
      ],
      "text/plain": [
       "<IPython.core.display.HTML object>"
      ]
     },
     "metadata": {},
     "output_type": "display_data"
    },
    {
     "data": {
      "text/html": [
       "<b>IF </b>  <span style=\"background-color: rgb(252,191,166); color:white;\">purpose is not car (new) and car (used) and furniture/equipment</span>,  <span style=\"background-color: rgb(253,206,186); color:black;\">personal_status_sex is not married male</span>,  <span style=\"background-color: rgb(253,213,195); color:black;\">telephone is No</span>,  <span style=\"background-color: white; color:black;\">present_residence is not < 1 yr</span>,  <span style=\"background-color: white; color:black;\">property is not car or other</span>,  <span style=\"background-color: rgb(253,209,191); color:black;\">people_liable is 3 or more</span>,  <span style=\"background-color: white; color:black;\">savings is unknown/no savings account</span> <b>THEN </b> reject"
      ],
      "text/plain": [
       "<IPython.core.display.HTML object>"
      ]
     },
     "metadata": {},
     "output_type": "display_data"
    },
    {
     "name": "stdout",
     "output_type": "stream",
     "text": [
      "0.5756081778678319\n"
     ]
    },
    {
     "data": {
      "text/html": [
       "#23, 8225, LR: 0.54, Confidence: 0.00, Consistency: 0.18"
      ],
      "text/plain": [
       "<IPython.core.display.HTML object>"
      ]
     },
     "metadata": {},
     "output_type": "display_data"
    },
    {
     "data": {
      "text/html": [
       "<b>IF </b>  <span style=\"background-color: rgb(252,191,166); color:white;\">purpose is not car (new) and car (used) and furniture/equipment</span>,  <span style=\"background-color: rgb(253,206,186); color:black;\">personal_status_sex is not married male</span>,  <span style=\"background-color: rgb(253,213,195); color:black;\">telephone is No</span>,  <span style=\"background-color: white; color:black;\">present_residence is not < 1 yr</span>,  <span style=\"background-color: white; color:black;\">property is not car or other</span>,  <span style=\"background-color: rgb(253,209,191); color:black;\">people_liable is 3 or more</span>,  <span style=\"background-color: white; color:black;\">savings is not unknown/no savings account</span> <b>THEN </b> reject"
      ],
      "text/plain": [
       "<IPython.core.display.HTML object>"
      ]
     },
     "metadata": {},
     "output_type": "display_data"
    },
    {
     "name": "stdout",
     "output_type": "stream",
     "text": [
      "0.573721118718712\n"
     ]
    },
    {
     "data": {
      "text/html": [
       "#24, 7292, LR: 0.56, Confidence: 0.00, Consistency: 0.25"
      ],
      "text/plain": [
       "<IPython.core.display.HTML object>"
      ]
     },
     "metadata": {},
     "output_type": "display_data"
    },
    {
     "data": {
      "text/html": [
       "<b>IF </b>  <span style=\"background-color: rgb(252,194,171); color:black;\">status is not ... >= 200 DM (salary)</span>,  <span style=\"background-color: rgb(252,193,169); color:black;\">housing is for free</span>,  <span style=\"background-color: white; color:black;\">property is not unknown / no property</span>,  <span style=\"background-color: white; color:black;\">job is skilled</span>,  <span style=\"background-color: rgb(252,186,160); color:white;\">people_liable is 3 or more</span> <b>THEN </b> reject"
      ],
      "text/plain": [
       "<IPython.core.display.HTML object>"
      ]
     },
     "metadata": {},
     "output_type": "display_data"
    },
    {
     "name": "stdout",
     "output_type": "stream",
     "text": [
      "0.5736233394410591\n"
     ]
    },
    {
     "data": {
      "text/html": [
       "#25, 4021, LR: 0.12, Confidence: 0.00, Consistency: 0.18"
      ],
      "text/plain": [
       "<IPython.core.display.HTML object>"
      ]
     },
     "metadata": {},
     "output_type": "display_data"
    },
    {
     "data": {
      "text/html": [
       "<b>IF </b>  <span style=\"background-color: rgb(253,213,195); color:black;\">telephone is No</span>,  <span style=\"background-color: rgb(252,194,171); color:black;\">status is not ... >= 200 DM (salary)</span>,  <span style=\"background-color: rgb(253,219,203); color:black;\">purpose is not furniture/equipment</span>,  <span style=\"background-color: rgb(252,153,122); color:white;\">other_installment_plans is bank</span>,  <span style=\"background-color: rgb(251,122,90); color:white;\">credit_history is delay in paying off in the past</span> <b>THEN </b> reject"
      ],
      "text/plain": [
       "<IPython.core.display.HTML object>"
      ]
     },
     "metadata": {},
     "output_type": "display_data"
    },
    {
     "name": "stdout",
     "output_type": "stream",
     "text": [
      "0.5724654553712234\n"
     ]
    },
    {
     "data": {
      "text/html": [
       "#26, 5879, LR: 0.30, Confidence: 0.00, Consistency: 0.00"
      ],
      "text/plain": [
       "<IPython.core.display.HTML object>"
      ]
     },
     "metadata": {},
     "output_type": "display_data"
    },
    {
     "data": {
      "text/html": [
       "<b>IF </b>  <span style=\"background-color: rgb(252,194,171); color:black;\">status is not ... >= 200 DM (salary)</span>,  <span style=\"background-color: rgb(252,201,180); color:black;\">savings is not 500 to 1000 DM and >= 1000 DM</span>,  <span style=\"background-color: rgb(252,200,179); color:black;\">other_debtors is not guarantor</span>,  <span style=\"background-color: rgb(253,213,195); color:black;\">telephone is No</span>,  <span style=\"background-color: rgb(219,233,246); color:black;\">housing is own</span>,  <span style=\"background-color: rgb(251,140,108); color:white;\">property is unknown / no property</span> <b>THEN </b> reject"
      ],
      "text/plain": [
       "<IPython.core.display.HTML object>"
      ]
     },
     "metadata": {},
     "output_type": "display_data"
    },
    {
     "name": "stdout",
     "output_type": "stream",
     "text": [
      "0.5723355765253069\n"
     ]
    },
    {
     "data": {
      "text/html": [
       "#27, 8115, LR: 0.15, Confidence: 0.00, Consistency: 0.00"
      ],
      "text/plain": [
       "<IPython.core.display.HTML object>"
      ]
     },
     "metadata": {},
     "output_type": "display_data"
    },
    {
     "data": {
      "text/html": [
       "<b>IF </b>  <span style=\"background-color: rgb(252,153,122); color:white;\">other_installment_plans is bank</span>,  <span style=\"background-color: rgb(252,194,171); color:black;\">status is not ... >= 200 DM (salary)</span>,  <span style=\"background-color: white; color:black;\">property is not car or other</span>,  <span style=\"background-color: white; color:black;\">credit_history is not no credits taken/all credits paid back duly</span>,  <span style=\"background-color: white; color:black;\">job is skilled</span>,  <span style=\"background-color: rgb(251,127,95); color:white;\">purpose is others</span> <b>THEN </b> reject"
      ],
      "text/plain": [
       "<IPython.core.display.HTML object>"
      ]
     },
     "metadata": {},
     "output_type": "display_data"
    },
    {
     "name": "stdout",
     "output_type": "stream",
     "text": [
      "0.5720241568459135\n"
     ]
    },
    {
     "data": {
      "text/html": [
       "#28, 9337, LR: 0.43, Confidence: 0.00, Consistency: 0.00"
      ],
      "text/plain": [
       "<IPython.core.display.HTML object>"
      ]
     },
     "metadata": {},
     "output_type": "display_data"
    },
    {
     "data": {
      "text/html": [
       "<b>IF </b>  <span style=\"background-color: rgb(251,138,106); color:white;\">credit_history is critical account/other credits elsewhere</span>,  <span style=\"background-color: rgb(252,193,169); color:black;\">savings is unknown/no savings account</span>,  <span style=\"background-color: rgb(218,232,245); color:black;\">employment_duration is 4 to 7 yrs or >= 7 yrs</span>,  <span style=\"background-color: rgb(252,186,160); color:white;\">people_liable is 3 or more</span> <b>THEN </b> reject"
      ],
      "text/plain": [
       "<IPython.core.display.HTML object>"
      ]
     },
     "metadata": {},
     "output_type": "display_data"
    },
    {
     "name": "stdout",
     "output_type": "stream",
     "text": [
      "0.5707672496274985\n"
     ]
    },
    {
     "data": {
      "text/html": [
       "#29, 2223, LR: 0.19, Confidence: 0.00, Consistency: 0.17"
      ],
      "text/plain": [
       "<IPython.core.display.HTML object>"
      ]
     },
     "metadata": {},
     "output_type": "display_data"
    },
    {
     "data": {
      "text/html": [
       "<b>IF </b>  <span style=\"background-color: rgb(253,220,205); color:black;\">personal_status_sex is married male</span>,  <span style=\"background-color: rgb(251,127,95); color:white;\">purpose is others</span>,  <span style=\"background-color: rgb(251,122,90); color:white;\">credit_history is delay in paying off in the past</span> <b>THEN </b> reject"
      ],
      "text/plain": [
       "<IPython.core.display.HTML object>"
      ]
     },
     "metadata": {},
     "output_type": "display_data"
    },
    {
     "name": "stdout",
     "output_type": "stream",
     "text": [
      "0.5704356452719495\n"
     ]
    },
    {
     "data": {
      "text/html": [
       "#30, 6777, LR: 0.73, Confidence: 0.00, Consistency: 0.13"
      ],
      "text/plain": [
       "<IPython.core.display.HTML object>"
      ]
     },
     "metadata": {},
     "output_type": "display_data"
    },
    {
     "data": {
      "text/html": [
       "<b>IF </b>  <span style=\"background-color: rgb(252,194,171); color:black;\">status is not ... >= 200 DM (salary)</span>,  <span style=\"background-color: rgb(253,219,203); color:black;\">purpose is not furniture/equipment</span>,  <span style=\"background-color: white; color:black;\">job is skilled</span>,  <span style=\"background-color: white; color:black;\">savings is < 100 DM or 100 to 500 DM</span>,  <span style=\"background-color: rgb(253,222,208); color:black;\">number_credits is not 2 to 3</span>,  <span style=\"background-color: white; color:black;\">credit_history is no credits taken/all credits paid back duly</span>,  <span style=\"background-color: white; color:black;\">amount <= 4038</span>,  <span style=\"background-color: rgb(253,206,186); color:black;\">personal_status_sex is not married male</span>,  <span style=\"background-color: rgb(219,233,246); color:black;\">housing is own</span> <b>THEN </b> reject"
      ],
      "text/plain": [
       "<IPython.core.display.HTML object>"
      ]
     },
     "metadata": {},
     "output_type": "display_data"
    },
    {
     "name": "stdout",
     "output_type": "stream",
     "text": [
      "0.5686106898970275\n"
     ]
    },
    {
     "data": {
      "text/html": [
       "#31, 7927, LR: 0.38, Confidence: 0.00, Consistency: 0.14"
      ],
      "text/plain": [
       "<IPython.core.display.HTML object>"
      ]
     },
     "metadata": {},
     "output_type": "display_data"
    },
    {
     "data": {
      "text/html": [
       "<b>IF </b>  <span style=\"background-color: rgb(252,194,171); color:black;\">status is not ... >= 200 DM (salary)</span>,  <span style=\"background-color: white; color:black;\">present_residence is not < 1 yr</span>,  <span style=\"background-color: rgb(253,213,195); color:black;\">telephone is No</span>,  <span style=\"background-color: white; color:black;\">foreign_worker is No</span>,  <span style=\"background-color: rgb(253,206,186); color:black;\">personal_status_sex is not married male</span>,  <span style=\"background-color: rgb(253,221,206); color:black;\">employment_duration is not >= 7 yrs</span>,  <span style=\"background-color: rgb(253,219,203); color:black;\">purpose is not furniture/equipment</span>,  <span style=\"background-color: white; color:black;\">property is not car or other</span>,  <span style=\"background-color: white; color:black;\">amount >= 1179</span>,  <span style=\"background-color: rgb(252,193,169); color:black;\">housing is for free</span> <b>THEN </b> reject"
      ],
      "text/plain": [
       "<IPython.core.display.HTML object>"
      ]
     },
     "metadata": {},
     "output_type": "display_data"
    },
    {
     "name": "stdout",
     "output_type": "stream",
     "text": [
      "0.5683619952071309\n"
     ]
    },
    {
     "data": {
      "text/html": [
       "#32, 5069, LR: 0.54, Confidence: 0.00, Consistency: 0.00"
      ],
      "text/plain": [
       "<IPython.core.display.HTML object>"
      ]
     },
     "metadata": {},
     "output_type": "display_data"
    },
    {
     "data": {
      "text/html": [
       "<b>IF </b>  <span style=\"background-color: rgb(252,193,169); color:black;\">installment_rate is not < 20 and 20 to 25</span>,  <span style=\"background-color: white; color:black;\">property is not real estate and unknown / no property</span>,  <span style=\"background-color: rgb(219,233,246); color:black;\">other_installment_plans is none</span>,  <span style=\"background-color: rgb(252,176,148); color:white;\">housing is not own</span>,  <span style=\"background-color: rgb(253,206,186); color:black;\">personal_status_sex is not married male</span>,  <span style=\"background-color: white; color:black;\">purpose is furniture/equipment</span>,  <span style=\"background-color: rgb(253,213,195); color:black;\">telephone is No</span> <b>THEN </b> reject"
      ],
      "text/plain": [
       "<IPython.core.display.HTML object>"
      ]
     },
     "metadata": {},
     "output_type": "display_data"
    },
    {
     "name": "stdout",
     "output_type": "stream",
     "text": [
      "0.562351932028899\n"
     ]
    },
    {
     "data": {
      "text/html": [
       "#33, 6776, LR: 0.42, Confidence: 0.00, Consistency: 0.00"
      ],
      "text/plain": [
       "<IPython.core.display.HTML object>"
      ]
     },
     "metadata": {},
     "output_type": "display_data"
    },
    {
     "data": {
      "text/html": [
       "<b>IF </b>  <span style=\"background-color: rgb(252,194,171); color:black;\">status is not ... >= 200 DM (salary)</span>,  <span style=\"background-color: rgb(253,219,203); color:black;\">purpose is not furniture/equipment</span>,  <span style=\"background-color: white; color:black;\">job is skilled</span>,  <span style=\"background-color: white; color:black;\">savings is < 100 DM or 100 to 500 DM</span>,  <span style=\"background-color: rgb(253,222,208); color:black;\">number_credits is not 2 to 3</span>,  <span style=\"background-color: white; color:black;\">credit_history is no credits taken/all credits paid back duly</span>,  <span style=\"background-color: white; color:black;\">amount <= 4038</span>,  <span style=\"background-color: rgb(253,206,186); color:black;\">personal_status_sex is not married male</span>,  <span style=\"background-color: rgb(252,176,148); color:white;\">housing is not own</span> <b>THEN </b> reject"
      ],
      "text/plain": [
       "<IPython.core.display.HTML object>"
      ]
     },
     "metadata": {},
     "output_type": "display_data"
    },
    {
     "name": "stdout",
     "output_type": "stream",
     "text": [
      "0.561976405164662\n"
     ]
    },
    {
     "data": {
      "text/html": [
       "#34, 5814, LR: 0.67, Confidence: 0.00, Consistency: 0.14"
      ],
      "text/plain": [
       "<IPython.core.display.HTML object>"
      ]
     },
     "metadata": {},
     "output_type": "display_data"
    },
    {
     "data": {
      "text/html": [
       "<b>IF </b>  <span style=\"background-color: rgb(251,130,98); color:white;\">credit_history is delay in paying off in the past or critical account/other credits elsewhere</span>,  <span style=\"background-color: rgb(252,200,179); color:black;\">other_debtors is not guarantor</span>,  <span style=\"background-color: white; color:black;\">telephone is No</span>,  <span style=\"background-color: rgb(253,212,194); color:black;\">duration >= 9</span>,  <span style=\"background-color: white; color:black;\">savings is not 500 to 1000 DM and >= 1000 DM</span>,  <span style=\"background-color: white; color:black;\">job is not skilled</span>,  <span style=\"background-color: rgb(253,214,197); color:black;\">property is car or other</span> <b>THEN </b> accept"
      ],
      "text/plain": [
       "<IPython.core.display.HTML object>"
      ]
     },
     "metadata": {},
     "output_type": "display_data"
    },
    {
     "name": "stdout",
     "output_type": "stream",
     "text": [
      "0.5580083088612006\n"
     ]
    },
    {
     "data": {
      "text/html": [
       "#35, 4410, LR: 0.95, Confidence: 0.00, Consistency: 0.17"
      ],
      "text/plain": [
       "<IPython.core.display.HTML object>"
      ]
     },
     "metadata": {},
     "output_type": "display_data"
    },
    {
     "data": {
      "text/html": [
       "<b>IF </b>  <span style=\"background-color: rgb(219,233,246); color:black;\">housing is own</span>,  <span style=\"background-color: rgb(252,194,171); color:black;\">status is not ... >= 200 DM (salary)</span>,  <span style=\"background-color: rgb(252,199,177); color:black;\">property is not real estate</span>,  <span style=\"background-color: rgb(253,222,208); color:black;\">job is not unskilled and resident and skilled</span>,  <span style=\"background-color: rgb(253,213,195); color:black;\">telephone is No</span>,  <span style=\"background-color: rgb(187,214,235); color:white;\">credit_history is all credits at this bank paid back duly</span> <b>THEN </b> reject"
      ],
      "text/plain": [
       "<IPython.core.display.HTML object>"
      ]
     },
     "metadata": {},
     "output_type": "display_data"
    },
    {
     "name": "stdout",
     "output_type": "stream",
     "text": [
      "0.5511940427910434\n"
     ]
    },
    {
     "data": {
      "text/html": [
       "#36, 2395, LR: 0.65, Confidence: 0.00, Consistency: 0.00"
      ],
      "text/plain": [
       "<IPython.core.display.HTML object>"
      ]
     },
     "metadata": {},
     "output_type": "display_data"
    },
    {
     "data": {
      "text/html": [
       "<b>IF </b>  <span style=\"background-color: rgb(253,209,191); color:black;\">housing is not for free</span>,  <span style=\"background-color: rgb(252,192,168); color:black;\">credit_history is no credits taken/all credits paid back duly</span>,  <span style=\"background-color: white; color:black;\">savings is unknown/no savings account or < 100 DM</span>,  <span style=\"background-color: white; color:black;\">other_installment_plans is not bank</span>,  <span style=\"background-color: rgb(252,200,179); color:black;\">other_debtors is not guarantor</span>,  <span style=\"background-color: white; color:black;\">job is skilled</span>,  <span style=\"background-color: rgb(252,194,171); color:black;\">status is not ... >= 200 DM (salary)</span>,  <span style=\"background-color: white; color:black;\">amount >= 1550</span>,  <span style=\"background-color: rgb(212,228,243); color:black;\">purpose is furniture/equipment</span>,  <span style=\"background-color: white; color:black;\">property is building soc. savings agr./life insurance</span> <b>THEN </b> reject"
      ],
      "text/plain": [
       "<IPython.core.display.HTML object>"
      ]
     },
     "metadata": {},
     "output_type": "display_data"
    },
    {
     "name": "stdout",
     "output_type": "stream",
     "text": [
      "0.548195540568553\n"
     ]
    },
    {
     "data": {
      "text/html": [
       "#37, 3531, LR: 0.94, Confidence: 0.00, Consistency: 0.17"
      ],
      "text/plain": [
       "<IPython.core.display.HTML object>"
      ]
     },
     "metadata": {},
     "output_type": "display_data"
    },
    {
     "data": {
      "text/html": [
       "<b>IF </b>  <span style=\"background-color: rgb(252,172,144); color:white;\">duration >= 15</span>,  <span style=\"background-color: rgb(251,127,95); color:white;\">purpose is others</span>,  <span style=\"background-color: rgb(252,175,147); color:white;\">status is not 0 to 200 DM and ... >= 200 DM (salary)</span>,  <span style=\"background-color: white; color:black;\">employment_duration is not unemployed and < 1 yr</span>,  <span style=\"background-color: rgb(253,222,208); color:black;\">job is not unskilled and resident</span>,  <span style=\"background-color: rgb(251,138,106); color:white;\">credit_history is critical account/other credits elsewhere</span> <b>THEN </b> accept"
      ],
      "text/plain": [
       "<IPython.core.display.HTML object>"
      ]
     },
     "metadata": {},
     "output_type": "display_data"
    },
    {
     "name": "stdout",
     "output_type": "stream",
     "text": [
      "0.5297135854263362\n"
     ]
    },
    {
     "data": {
      "text/html": [
       "#38, 754, LR: 0.17, Confidence: 0.00, Consistency: 0.15"
      ],
      "text/plain": [
       "<IPython.core.display.HTML object>"
      ]
     },
     "metadata": {},
     "output_type": "display_data"
    },
    {
     "data": {
      "text/html": [
       "<b>IF </b>  <span style=\"background-color: rgb(252,192,168); color:black;\">savings is < 100 DM</span>,  <span style=\"background-color: rgb(253,213,195); color:black;\">telephone is No</span>,  <span style=\"background-color: rgb(252,194,171); color:black;\">status is not ... >= 200 DM (salary)</span>,  <span style=\"background-color: rgb(252,200,179); color:black;\">other_debtors is not guarantor</span>,  <span style=\"background-color: rgb(253,222,208); color:black;\">job is skilled</span>,  <span style=\"background-color: rgb(253,207,188); color:black;\">duration >= 11</span>,  <span style=\"background-color: rgb(252,158,128); color:white;\">housing is rent</span>,  <span style=\"background-color: white; color:black;\">age >= 23</span> <b>THEN </b> reject"
      ],
      "text/plain": [
       "<IPython.core.display.HTML object>"
      ]
     },
     "metadata": {},
     "output_type": "display_data"
    },
    {
     "name": "stdout",
     "output_type": "stream",
     "text": [
      "0.5149084214373586\n"
     ]
    },
    {
     "data": {
      "text/html": [
       "#39, 1170, LR: 0.32, Confidence: 0.00, Consistency: 0.20"
      ],
      "text/plain": [
       "<IPython.core.display.HTML object>"
      ]
     },
     "metadata": {},
     "output_type": "display_data"
    },
    {
     "data": {
      "text/html": [
       "<b>IF </b>  <span style=\"background-color: rgb(252,192,168); color:black;\">credit_history is no credits taken/all credits paid back duly</span>,  <span style=\"background-color: white; color:black;\">savings is unknown/no savings account or < 100 DM</span>,  <span style=\"background-color: rgb(252,200,179); color:black;\">other_debtors is not guarantor</span>,  <span style=\"background-color: rgb(252,178,151); color:white;\">property is not real estate and building soc. savings agr./life insurance</span>,  <span style=\"background-color: rgb(253,221,206); color:black;\">number_credits is not 1</span>,  <span style=\"background-color: rgb(209,226,242); color:black;\">duration <= 18</span>,  <span style=\"background-color: rgb(251,127,95); color:white;\">purpose is others</span> <b>THEN </b> reject"
      ],
      "text/plain": [
       "<IPython.core.display.HTML object>"
      ]
     },
     "metadata": {},
     "output_type": "display_data"
    },
    {
     "name": "stdout",
     "output_type": "stream",
     "text": [
      "0.5\n"
     ]
    },
    {
     "data": {
      "text/html": [
       "#40, 1537, LR: 0.47, Confidence: 0.00, Consistency: 0.00"
      ],
      "text/plain": [
       "<IPython.core.display.HTML object>"
      ]
     },
     "metadata": {},
     "output_type": "display_data"
    },
    {
     "data": {
      "text/html": [
       "<b>IF </b>  <span style=\"background-color: rgb(252,192,168); color:black;\">credit_history is not all credits at this bank paid back duly</span>,  <span style=\"background-color: white; color:black;\">job is not unskilled and resident</span>,  <span style=\"background-color: white; color:black;\">number_credits is 2 to 3</span>,  <span style=\"background-color: rgb(251,140,108); color:white;\">property is unknown / no property</span>,  <span style=\"background-color: white; color:black;\">savings is not unknown/no savings account</span> <b>THEN </b> reject"
      ],
      "text/plain": [
       "<IPython.core.display.HTML object>"
      ]
     },
     "metadata": {},
     "output_type": "display_data"
    },
    {
     "name": "stdout",
     "output_type": "stream",
     "text": [
      "0.4989228440283098\n"
     ]
    },
    {
     "data": {
      "text/html": [
       "#41, 5639, LR: 0.48, Confidence: 0.00, Consistency: 0.05"
      ],
      "text/plain": [
       "<IPython.core.display.HTML object>"
      ]
     },
     "metadata": {},
     "output_type": "display_data"
    },
    {
     "data": {
      "text/html": [
       "<b>IF </b>  <span style=\"background-color: rgb(252,178,151); color:white;\">credit_history is not no credits taken/all credits paid back duly and all credits at this bank paid back duly</span>,  <span style=\"background-color: rgb(219,233,246); color:black;\">housing is own</span>,  <span style=\"background-color: white; color:black;\">savings is unknown/no savings account</span>,  <span style=\"background-color: white; color:black;\">property is not car or other</span>,  <span style=\"background-color: rgb(251,127,95); color:white;\">purpose is others</span> <b>THEN </b> reject"
      ],
      "text/plain": [
       "<IPython.core.display.HTML object>"
      ]
     },
     "metadata": {},
     "output_type": "display_data"
    },
    {
     "name": "stdout",
     "output_type": "stream",
     "text": [
      "0.4988384950168079\n"
     ]
    },
    {
     "data": {
      "text/html": [
       "#42, 6989, LR: 0.32, Confidence: 0.00, Consistency: 0.29"
      ],
      "text/plain": [
       "<IPython.core.display.HTML object>"
      ]
     },
     "metadata": {},
     "output_type": "display_data"
    },
    {
     "data": {
      "text/html": [
       "<b>IF </b>  <span style=\"background-color: rgb(221,234,246); color:black;\">purpose is not others and repairs</span>,  <span style=\"background-color: rgb(251,140,108); color:white;\">property is unknown / no property</span>,  <span style=\"background-color: rgb(252,194,171); color:black;\">status is not ... >= 200 DM (salary)</span>,  <span style=\"background-color: rgb(253,209,191); color:black;\">housing is not for free</span>,  <span style=\"background-color: rgb(252,186,160); color:white;\">people_liable is 3 or more</span> <b>THEN </b> reject"
      ],
      "text/plain": [
       "<IPython.core.display.HTML object>"
      ]
     },
     "metadata": {},
     "output_type": "display_data"
    },
    {
     "name": "stdout",
     "output_type": "stream",
     "text": [
      "0.49863877194285555\n"
     ]
    },
    {
     "data": {
      "text/html": [
       "#43, 1984, LR: 0.26, Confidence: 0.00, Consistency: 0.33"
      ],
      "text/plain": [
       "<IPython.core.display.HTML object>"
      ]
     },
     "metadata": {},
     "output_type": "display_data"
    },
    {
     "data": {
      "text/html": [
       "<b>IF </b>  <span style=\"background-color: rgb(251,140,108); color:white;\">property is unknown / no property</span>,  <span style=\"background-color: white; color:black;\">telephone is No</span>,  <span style=\"background-color: rgb(252,194,171); color:black;\">status is not ... >= 200 DM (salary)</span>,  <span style=\"background-color: white; color:black;\">savings is not >= 1000 DM</span>,  <span style=\"background-color: rgb(252,193,169); color:black;\">installment_rate is not < 20 and 20 to 25</span>,  <span style=\"background-color: rgb(253,208,189); color:black;\">job is highly skilled</span> <b>THEN </b> reject"
      ],
      "text/plain": [
       "<IPython.core.display.HTML object>"
      ]
     },
     "metadata": {},
     "output_type": "display_data"
    },
    {
     "name": "stdout",
     "output_type": "stream",
     "text": [
      "0.4985130620814663\n"
     ]
    },
    {
     "data": {
      "text/html": [
       "#44, 8180, LR: 0.47, Confidence: 0.00, Consistency: 0.00"
      ],
      "text/plain": [
       "<IPython.core.display.HTML object>"
      ]
     },
     "metadata": {},
     "output_type": "display_data"
    },
    {
     "data": {
      "text/html": [
       "<b>IF </b>  <span style=\"background-color: rgb(252,199,177); color:black;\">credit_history is delay in paying off in the past or existing credits paid back duly till now</span>,  <span style=\"background-color: rgb(252,193,169); color:black;\">installment_rate is not < 20 and 20 to 25</span>,  <span style=\"background-color: rgb(252,194,171); color:black;\">status is not no checking account and ... >= 200 DM (salary)</span>,  <span style=\"background-color: white; color:black;\">purpose is not retraining</span>,  <span style=\"background-color: rgb(253,222,208); color:black;\">number_credits is not 2 to 3</span>,  <span style=\"background-color: rgb(253,214,197); color:black;\">property is car or other</span> <b>THEN </b> reject"
      ],
      "text/plain": [
       "<IPython.core.display.HTML object>"
      ]
     },
     "metadata": {},
     "output_type": "display_data"
    },
    {
     "name": "stdout",
     "output_type": "stream",
     "text": [
      "0.49844356033910087\n"
     ]
    },
    {
     "data": {
      "text/html": [
       "#45, 2980, LR: 0.39, Confidence: 0.00, Consistency: 0.00"
      ],
      "text/plain": [
       "<IPython.core.display.HTML object>"
      ]
     },
     "metadata": {},
     "output_type": "display_data"
    },
    {
     "data": {
      "text/html": [
       "<b>IF </b>  <span style=\"background-color: rgb(219,233,246); color:black;\">housing is own</span>,  <span style=\"background-color: rgb(251,140,108); color:white;\">property is unknown / no property</span>,  <span style=\"background-color: rgb(252,175,147); color:white;\">status is not 0 to 200 DM and ... >= 200 DM (salary)</span>,  <span style=\"background-color: rgb(253,214,197); color:black;\">credit_history is not existing credits paid back duly till now</span>,  <span style=\"background-color: rgb(253,213,195); color:black;\">telephone is No</span> <b>THEN </b> reject"
      ],
      "text/plain": [
       "<IPython.core.display.HTML object>"
      ]
     },
     "metadata": {},
     "output_type": "display_data"
    },
    {
     "name": "stdout",
     "output_type": "stream",
     "text": [
      "0.49837238487842594\n"
     ]
    },
    {
     "data": {
      "text/html": [
       "#46, 8424, LR: 0.31, Confidence: 0.00, Consistency: 0.13"
      ],
      "text/plain": [
       "<IPython.core.display.HTML object>"
      ]
     },
     "metadata": {},
     "output_type": "display_data"
    },
    {
     "data": {
      "text/html": [
       "<b>IF </b>  <span style=\"background-color: rgb(252,172,144); color:white;\">duration >= 15</span>,  <span style=\"background-color: rgb(253,220,205); color:black;\">personal_status_sex is married male</span>,  <span style=\"background-color: rgb(251,140,108); color:white;\">property is unknown / no property</span>,  <span style=\"background-color: white; color:black;\">job is skilled</span>,  <span style=\"background-color: rgb(253,221,206); color:black;\">number_credits is not 1</span>,  <span style=\"background-color: white; color:black;\">credit_history is no credits taken/all credits paid back duly</span> <b>THEN </b> reject"
      ],
      "text/plain": [
       "<IPython.core.display.HTML object>"
      ]
     },
     "metadata": {},
     "output_type": "display_data"
    },
    {
     "name": "stdout",
     "output_type": "stream",
     "text": [
      "0.49830938435848215\n"
     ]
    },
    {
     "data": {
      "text/html": [
       "#47, 3677, LR: 0.41, Confidence: 0.00, Consistency: 0.40"
      ],
      "text/plain": [
       "<IPython.core.display.HTML object>"
      ]
     },
     "metadata": {},
     "output_type": "display_data"
    },
    {
     "data": {
      "text/html": [
       "<b>IF </b>  <span style=\"background-color: rgb(251,140,108); color:white;\">property is unknown / no property</span>,  <span style=\"background-color: rgb(252,192,168); color:black;\">savings is unknown/no savings account or < 100 DM</span>,  <span style=\"background-color: white; color:black;\">present_residence is not < 1 yr and 1 to 4 yrs</span>,  <span style=\"background-color: rgb(219,233,246); color:black;\">housing is own</span>,  <span style=\"background-color: rgb(252,186,160); color:white;\">people_liable is 3 or more</span> <b>THEN </b> reject"
      ],
      "text/plain": [
       "<IPython.core.display.HTML object>"
      ]
     },
     "metadata": {},
     "output_type": "display_data"
    },
    {
     "name": "stdout",
     "output_type": "stream",
     "text": [
      "0.4980860279807006\n"
     ]
    },
    {
     "data": {
      "text/html": [
       "#48, 5766, LR: 0.24, Confidence: 0.00, Consistency: 0.04"
      ],
      "text/plain": [
       "<IPython.core.display.HTML object>"
      ]
     },
     "metadata": {},
     "output_type": "display_data"
    },
    {
     "data": {
      "text/html": [
       "<b>IF </b>  <span style=\"background-color: white; color:black;\">other_installment_plans is not bank</span>,  <span style=\"background-color: white; color:black;\">housing is not rent</span>,  <span style=\"background-color: rgb(251,130,98); color:white;\">credit_history is critical account/other credits elsewhere</span>,  <span style=\"background-color: white; color:black;\">savings is not 500 to 1000 DM and >= 1000 DM</span>,  <span style=\"background-color: rgb(252,178,151); color:white;\">property is not real estate and building soc. savings agr./life insurance</span>,  <span style=\"background-color: rgb(253,220,205); color:black;\">duration >= 6</span>,  <span style=\"background-color: rgb(252,199,177); color:black;\">purpose is not car (new) and furniture/equipment</span> <b>THEN </b> reject"
      ],
      "text/plain": [
       "<IPython.core.display.HTML object>"
      ]
     },
     "metadata": {},
     "output_type": "display_data"
    },
    {
     "name": "stdout",
     "output_type": "stream",
     "text": [
      "0.497824152168448\n"
     ]
    },
    {
     "data": {
      "text/html": [
       "#49, 6739, LR: 0.05, Confidence: 0.00, Consistency: 0.18"
      ],
      "text/plain": [
       "<IPython.core.display.HTML object>"
      ]
     },
     "metadata": {},
     "output_type": "display_data"
    },
    {
     "data": {
      "text/html": [
       "<b>IF </b>  <span style=\"background-color: rgb(252,191,166); color:black;\">property is not real estate and car or other</span>,  <span style=\"background-color: rgb(253,213,195); color:black;\">telephone is No</span>,  <span style=\"background-color: rgb(252,192,168); color:black;\">credit_history is not all credits at this bank paid back duly</span>,  <span style=\"background-color: rgb(252,153,122); color:white;\">other_installment_plans is bank</span>,  <span style=\"background-color: rgb(252,193,169); color:black;\">installment_rate is not < 20 and 20 to 25</span>,  <span style=\"background-color: white; color:black;\">people_liable is 0 to 2</span>,  <span style=\"background-color: rgb(251,127,95); color:white;\">purpose is others</span> <b>THEN </b> reject"
      ],
      "text/plain": [
       "<IPython.core.display.HTML object>"
      ]
     },
     "metadata": {},
     "output_type": "display_data"
    }
   ],
   "source": [
    "for it, i in enumerate(res.sorted_dist[:, 100].argsort()[-50:][::-1]):\n",
    "    print(res.sorted_dist[i, 100])\n",
    "    display_rule(it, i)"
   ]
  },
  {
   "cell_type": "code",
   "execution_count": 44,
   "metadata": {},
   "outputs": [
    {
     "data": {
      "text/html": [
       "#0, 3513, LR: 0.83, Confidence: 1.00, Consistency: 0.26"
      ],
      "text/plain": [
       "<IPython.core.display.HTML object>"
      ]
     },
     "metadata": {},
     "output_type": "display_data"
    },
    {
     "data": {
      "text/html": [
       "<b>IF </b>  <span style=\"background-color: rgb(252,172,144); color:white;\">duration >= 15</span>,  <span style=\"background-color: white; color:black;\">purpose is not others</span>,  <span style=\"background-color: rgb(245,83,59); color:white;\">status is no checking account</span>,  <span style=\"background-color: rgb(253,222,208); color:black;\">job is not unskilled and resident</span>,  <span style=\"background-color: white; color:black;\">credit_history is no credits taken/all credits paid back duly</span>,  <span style=\"background-color: white; color:black;\">number_credits is 1</span>,  <span style=\"background-color: rgb(253,220,205); color:black;\">personal_status_sex is married male</span>,  <span style=\"background-color: white; color:black;\">amount <= 6039</span>,  <span style=\"background-color: white; color:black;\">property is not car or other</span> <b>THEN </b> accept"
      ],
      "text/plain": [
       "<IPython.core.display.HTML object>"
      ]
     },
     "metadata": {},
     "output_type": "display_data"
    },
    {
     "data": {
      "text/html": [
       "#1, 2297, LR: 0.66, Confidence: 1.00, Consistency: 0.00"
      ],
      "text/plain": [
       "<IPython.core.display.HTML object>"
      ]
     },
     "metadata": {},
     "output_type": "display_data"
    },
    {
     "data": {
      "text/html": [
       "<b>IF </b>  <span style=\"background-color: rgb(252,194,171); color:black;\">status is not ... >= 200 DM (salary)</span>,  <span style=\"background-color: rgb(253,212,194); color:black;\">other_debtors is none</span>,  <span style=\"background-color: rgb(253,213,195); color:black;\">telephone is No</span>,  <span style=\"background-color: white; color:black;\">property is not car or other</span>,  <span style=\"background-color: rgb(252,184,157); color:white;\">duration >= 12</span>,  <span style=\"background-color: rgb(253,206,186); color:black;\">personal_status_sex is not married male</span>,  <span style=\"background-color: rgb(253,221,206); color:black;\">number_credits is not 1</span> <b>THEN </b> accept"
      ],
      "text/plain": [
       "<IPython.core.display.HTML object>"
      ]
     },
     "metadata": {},
     "output_type": "display_data"
    },
    {
     "data": {
      "text/html": [
       "#2, 17, LR: 0.46, Confidence: 1.00, Consistency: 0.19"
      ],
      "text/plain": [
       "<IPython.core.display.HTML object>"
      ]
     },
     "metadata": {},
     "output_type": "display_data"
    },
    {
     "data": {
      "text/html": [
       "<b>IF </b>  <span style=\"background-color: rgb(252,193,169); color:black;\">savings is unknown/no savings account</span>,  <span style=\"background-color: rgb(220,233,246); color:black;\">property is not building soc. savings agr./life insurance and unknown / no property</span>,  <span style=\"background-color: rgb(253,219,203); color:black;\">purpose is not furniture/equipment</span>,  <span style=\"background-color: rgb(252,184,157); color:white;\">duration >= 12</span>,  <span style=\"background-color: rgb(253,213,195); color:black;\">telephone is No</span>,  <span style=\"background-color: rgb(253,218,202); color:black;\">amount >= 2942</span>,  <span style=\"background-color: white; color:black;\">number_credits is 1</span> <b>THEN </b> accept"
      ],
      "text/plain": [
       "<IPython.core.display.HTML object>"
      ]
     },
     "metadata": {},
     "output_type": "display_data"
    },
    {
     "data": {
      "text/html": [
       "#3, 4791, LR: 0.17, Confidence: 1.00, Consistency: 0.16"
      ],
      "text/plain": [
       "<IPython.core.display.HTML object>"
      ]
     },
     "metadata": {},
     "output_type": "display_data"
    },
    {
     "data": {
      "text/html": [
       "<b>IF </b>  <span style=\"background-color: white; color:black;\">purpose is not others</span>,  <span style=\"background-color: rgb(253,220,205); color:black;\">personal_status_sex is married male</span>,  <span style=\"background-color: rgb(252,180,153); color:white;\">duration in 20 to 31</span>,  <span style=\"background-color: rgb(253,214,197); color:black;\">property is car or other</span>,  <span style=\"background-color: rgb(212,228,243); color:black;\">installment_rate is not 25 to 35 and >= 35</span> <b>THEN </b> accept"
      ],
      "text/plain": [
       "<IPython.core.display.HTML object>"
      ]
     },
     "metadata": {},
     "output_type": "display_data"
    },
    {
     "data": {
      "text/html": [
       "#4, 1141, LR: 0.45, Confidence: 1.00, Consistency: 0.00"
      ],
      "text/plain": [
       "<IPython.core.display.HTML object>"
      ]
     },
     "metadata": {},
     "output_type": "display_data"
    },
    {
     "data": {
      "text/html": [
       "<b>IF </b>  <span style=\"background-color: rgb(253,219,203); color:black;\">purpose is retraining</span>,  <span style=\"background-color: rgb(253,218,202); color:black;\">property is real estate</span>,  <span style=\"background-color: rgb(252,194,171); color:black;\">status is not ... >= 200 DM (salary)</span>,  <span style=\"background-color: white; color:black;\">people_liable is 0 to 2</span>,  <span style=\"background-color: rgb(252,182,156); color:white;\">duration >= 13</span> <b>THEN </b> accept"
      ],
      "text/plain": [
       "<IPython.core.display.HTML object>"
      ]
     },
     "metadata": {},
     "output_type": "display_data"
    },
    {
     "data": {
      "text/html": [
       "#5, 6940, LR: 0.56, Confidence: 1.00, Consistency: 0.52"
      ],
      "text/plain": [
       "<IPython.core.display.HTML object>"
      ]
     },
     "metadata": {},
     "output_type": "display_data"
    },
    {
     "data": {
      "text/html": [
       "<b>IF </b>  <span style=\"background-color: rgb(253,220,205); color:black;\">personal_status_sex is married male</span>,  <span style=\"background-color: rgb(252,192,168); color:black;\">credit_history is no credits taken/all credits paid back duly</span>,  <span style=\"background-color: white; color:black;\">savings is unknown/no savings account</span>,  <span style=\"background-color: rgb(252,175,147); color:white;\">status is not 0 to 200 DM and ... >= 200 DM (salary)</span>,  <span style=\"background-color: rgb(252,176,148); color:white;\">housing is not own</span>,  <span style=\"background-color: rgb(220,233,246); color:black;\">duration <= 30</span> <b>THEN </b> accept"
      ],
      "text/plain": [
       "<IPython.core.display.HTML object>"
      ]
     },
     "metadata": {},
     "output_type": "display_data"
    },
    {
     "data": {
      "text/html": [
       "#6, 1244, LR: 0.07, Confidence: 1.00, Consistency: 0.00"
      ],
      "text/plain": [
       "<IPython.core.display.HTML object>"
      ]
     },
     "metadata": {},
     "output_type": "display_data"
    },
    {
     "data": {
      "text/html": [
       "<b>IF </b>  <span style=\"background-color: rgb(252,192,168); color:black;\">savings is unknown/no savings account or < 100 DM</span>,  <span style=\"background-color: rgb(252,194,171); color:black;\">status is not ... >= 200 DM (salary)</span>,  <span style=\"background-color: rgb(252,200,179); color:black;\">other_debtors is not guarantor</span>,  <span style=\"background-color: rgb(219,233,246); color:black;\">housing is own</span>,  <span style=\"background-color: rgb(252,193,169); color:black;\">installment_rate is not < 20 and 20 to 25</span>,  <span style=\"background-color: rgb(219,233,246); color:black;\">other_installment_plans is none</span>,  <span style=\"background-color: white; color:black;\">property is car or other</span>,  <span style=\"background-color: rgb(253,220,205); color:black;\">personal_status_sex is married male</span>,  <span style=\"background-color: white; color:black;\">present_residence is not < 1 yr</span>,  <span style=\"background-color: rgb(187,214,235); color:white;\">credit_history is all credits at this bank paid back duly</span> <b>THEN </b> accept"
      ],
      "text/plain": [
       "<IPython.core.display.HTML object>"
      ]
     },
     "metadata": {},
     "output_type": "display_data"
    },
    {
     "data": {
      "text/html": [
       "#7, 8085, LR: 0.09, Confidence: 1.00, Consistency: 0.00"
      ],
      "text/plain": [
       "<IPython.core.display.HTML object>"
      ]
     },
     "metadata": {},
     "output_type": "display_data"
    },
    {
     "data": {
      "text/html": [
       "<b>IF </b>  <span style=\"background-color: white; color:black;\">other_installment_plans is not bank</span>,  <span style=\"background-color: rgb(253,206,186); color:black;\">personal_status_sex is not married male</span>,  <span style=\"background-color: rgb(252,194,171); color:black;\">status is not ... >= 200 DM (salary)</span>,  <span style=\"background-color: rgb(253,212,194); color:black;\">other_debtors is none</span>,  <span style=\"background-color: white; color:black;\">amount >= 714</span>,  <span style=\"background-color: rgb(218,232,245); color:black;\">age >= 34</span>,  <span style=\"background-color: white; color:black;\">purpose is not others</span>,  <span style=\"background-color: rgb(209,226,242); color:black;\">property is real estate</span> <b>THEN </b> accept"
      ],
      "text/plain": [
       "<IPython.core.display.HTML object>"
      ]
     },
     "metadata": {},
     "output_type": "display_data"
    },
    {
     "data": {
      "text/html": [
       "#8, 7724, LR: 0.08, Confidence: 1.00, Consistency: 0.00"
      ],
      "text/plain": [
       "<IPython.core.display.HTML object>"
      ]
     },
     "metadata": {},
     "output_type": "display_data"
    },
    {
     "data": {
      "text/html": [
       "<b>IF </b>  <span style=\"background-color: rgb(209,226,242); color:black;\">property is real estate</span>,  <span style=\"background-color: rgb(252,193,169); color:black;\">savings is unknown/no savings account</span>,  <span style=\"background-color: white; color:black;\">telephone is Yes</span>,  <span style=\"background-color: white; color:black;\">credit_history is not no credits taken/all credits paid back duly</span> <b>THEN </b> accept"
      ],
      "text/plain": [
       "<IPython.core.display.HTML object>"
      ]
     },
     "metadata": {},
     "output_type": "display_data"
    },
    {
     "data": {
      "text/html": [
       "#9, 2844, LR: 0.29, Confidence: 1.00, Consistency: 0.26"
      ],
      "text/plain": [
       "<IPython.core.display.HTML object>"
      ]
     },
     "metadata": {},
     "output_type": "display_data"
    },
    {
     "data": {
      "text/html": [
       "<b>IF </b>  <span style=\"background-color: rgb(252,193,169); color:black;\">installment_rate is not < 20 and 20 to 25</span>,  <span style=\"background-color: rgb(252,194,171); color:black;\">status is not ... >= 200 DM (salary)</span>,  <span style=\"background-color: rgb(253,213,195); color:black;\">telephone is No</span>,  <span style=\"background-color: white; color:black;\">number_credits is 1</span>,  <span style=\"background-color: white; color:black;\">other_installment_plans is not bank</span>,  <span style=\"background-color: white; color:black;\">age >= 24</span>,  <span style=\"background-color: rgb(221,234,246); color:black;\">purpose is car (used)</span> <b>THEN </b> accept"
      ],
      "text/plain": [
       "<IPython.core.display.HTML object>"
      ]
     },
     "metadata": {},
     "output_type": "display_data"
    }
   ],
   "source": [
    "for it, i in enumerate(idxes[:10]):\n",
    "    display_rule(it, i)"
   ]
  },
  {
   "cell_type": "code",
   "execution_count": 62,
   "metadata": {},
   "outputs": [
    {
     "data": {
      "text/html": [
       "#0, 4137 <b>IF </b>  <span style=\"background-color: rgb(252,172,144); color:white;\">duration >= 15</span>  <span style=\"background-color: rgb(253,222,208); color:black;\">purpose is not car (used)</span>  <span style=\"background-color: rgb(251,140,108); color:white;\">property is unknown / no property</span>  <span style=\"background-color: rgb(253,209,191); color:black;\">housing is not for free</span>  <span style=\"background-color: rgb(225,236,247); color:black;\">job is not highly skilled</span>  <span style=\"background-color: rgb(245,83,59); color:white;\">status is no checking account</span>  <span style=\"background-color: rgb(252,186,160); color:white;\">people_liable is 3 or more</span> <b>THEN </b> accept"
      ],
      "text/plain": [
       "<IPython.core.display.HTML object>"
      ]
     },
     "metadata": {},
     "output_type": "display_data"
    },
    {
     "data": {
      "text/html": [
       "#1, 3531 <b>IF </b>  <span style=\"background-color: rgb(252,172,144); color:white;\">duration >= 15</span>  <span style=\"background-color: rgb(251,127,95); color:white;\">purpose is others</span>  <span style=\"background-color: rgb(252,175,147); color:white;\">status is not 0 to 200 DM and ... >= 200 DM (salary)</span>  <span style=\"background-color: rgb(223,235,247); color:black;\">employment_duration is not unemployed and < 1 yr</span>  <span style=\"background-color: rgb(253,222,208); color:black;\">job is not unskilled and resident</span>  <span style=\"background-color: rgb(251,138,106); color:white;\">credit_history is critical account/other credits elsewhere</span> <b>THEN </b> accept"
      ],
      "text/plain": [
       "<IPython.core.display.HTML object>"
      ]
     },
     "metadata": {},
     "output_type": "display_data"
    },
    {
     "data": {
      "text/html": [
       "#2, 4448 <b>IF </b>  <span style=\"background-color: rgb(252,192,168); color:black;\">credit_history is no credits taken/all credits paid back duly</span>  <span style=\"background-color: rgb(245,83,59); color:white;\">status is no checking account</span>  <span style=\"background-color: rgb(254,227,215); color:black;\">present_residence is not < 1 yr</span>  <span style=\"background-color: rgb(251,127,95); color:white;\">purpose is others</span>  <span style=\"background-color: rgb(253,223,209); color:black;\">amount >= 1667</span> <b>THEN </b> accept"
      ],
      "text/plain": [
       "<IPython.core.display.HTML object>"
      ]
     },
     "metadata": {},
     "output_type": "display_data"
    },
    {
     "data": {
      "text/html": [
       "#3, 5338 <b>IF </b>  <span style=\"background-color: rgb(245,83,59); color:white;\">status is no checking account</span>  <span style=\"background-color: rgb(253,222,208); color:black;\">job is not unskilled and resident</span>  <span style=\"background-color: rgb(253,213,195); color:black;\">telephone is No</span>  <span style=\"background-color: rgb(252,199,177); color:black;\">purpose is not car (new) and furniture/equipment</span>  <span style=\"background-color: rgb(252,200,179); color:black;\">other_debtors is not guarantor</span>  <span style=\"background-color: rgb(254,227,214); color:black;\">credit_history is no credits taken/all credits paid back duly</span>  <span style=\"background-color: rgb(254,224,210); color:black;\">amount >= 1495</span>  <span style=\"background-color: rgb(252,197,174); color:black;\">age <= 30</span> <b>THEN </b> accept"
      ],
      "text/plain": [
       "<IPython.core.display.HTML object>"
      ]
     },
     "metadata": {},
     "output_type": "display_data"
    },
    {
     "data": {
      "text/html": [
       "#4, 5998 <b>IF </b>  <span style=\"background-color: rgb(251,140,108); color:white;\">property is unknown / no property</span>  <span style=\"background-color: rgb(252,194,171); color:black;\">status is not ... >= 200 DM (salary)</span>  <span style=\"background-color: rgb(252,176,148); color:white;\">housing is not own</span>  <span style=\"background-color: rgb(253,220,205); color:black;\">personal_status_sex is married male</span>  <span style=\"background-color: rgb(252,153,122); color:white;\">other_installment_plans is bank</span> <b>THEN </b> accept"
      ],
      "text/plain": [
       "<IPython.core.display.HTML object>"
      ]
     },
     "metadata": {},
     "output_type": "display_data"
    },
    {
     "data": {
      "text/html": [
       "#5, 1216 <b>IF </b>  <span style=\"background-color: rgb(252,192,168); color:black;\">savings is unknown/no savings account or < 100 DM</span>  <span style=\"background-color: rgb(245,83,59); color:white;\">status is no checking account</span>  <span style=\"background-color: rgb(252,200,179); color:black;\">other_debtors is not guarantor</span>  <span style=\"background-color: rgb(252,176,148); color:white;\">housing is not own</span>  <span style=\"background-color: rgb(226,237,248); color:black;\">job is not skilled</span> <b>THEN </b> accept"
      ],
      "text/plain": [
       "<IPython.core.display.HTML object>"
      ]
     },
     "metadata": {},
     "output_type": "display_data"
    },
    {
     "data": {
      "text/html": [
       "#6, 2361 <b>IF </b>  <span style=\"background-color: rgb(219,233,246); color:black;\">housing is own</span>  <span style=\"background-color: rgb(226,237,248); color:black;\">other_installment_plans is not bank</span>  <span style=\"background-color: rgb(252,172,144); color:white;\">duration >= 15</span>  <span style=\"background-color: rgb(253,214,197); color:black;\">credit_history is not existing credits paid back duly till now</span>  <span style=\"background-color: rgb(252,199,177); color:black;\">purpose is not car (new) and furniture/equipment</span>  <span style=\"background-color: rgb(245,83,59); color:white;\">status is no checking account</span>  <span style=\"background-color: rgb(253,214,197); color:black;\">age <= 39</span>  <span style=\"background-color: rgb(253,222,208); color:black;\">amount >= 1939</span>  <span style=\"background-color: rgb(254,224,210); color:black;\">job is skilled</span> <b>THEN </b> accept"
      ],
      "text/plain": [
       "<IPython.core.display.HTML object>"
      ]
     },
     "metadata": {},
     "output_type": "display_data"
    },
    {
     "data": {
      "text/html": [
       "#7, 5426 <b>IF </b>  <span style=\"background-color: rgb(245,83,59); color:white;\">status is no checking account</span>  <span style=\"background-color: rgb(252,178,151); color:white;\">property is not real estate and building soc. savings agr./life insurance</span>  <span style=\"background-color: rgb(253,209,191); color:black;\">housing is not for free</span>  <span style=\"background-color: rgb(252,192,168); color:black;\">credit_history is not all credits at this bank paid back duly</span>  <span style=\"background-color: rgb(225,237,248); color:black;\">present_residence is < 1 yr</span> <b>THEN </b> accept"
      ],
      "text/plain": [
       "<IPython.core.display.HTML object>"
      ]
     },
     "metadata": {},
     "output_type": "display_data"
    },
    {
     "data": {
      "text/html": [
       "#8, 7896 <b>IF </b>  <span style=\"background-color: rgb(252,194,171); color:black;\">status is not ... >= 200 DM (salary)</span>  <span style=\"background-color: rgb(251,127,95); color:white;\">purpose is others</span>  <span style=\"background-color: rgb(252,199,177); color:black;\">property is not real estate</span>  <span style=\"background-color: rgb(253,213,195); color:black;\">telephone is No</span>  <span style=\"background-color: rgb(252,192,168); color:black;\">credit_history is not all credits at this bank paid back duly</span>  <span style=\"background-color: rgb(253,213,195); color:black;\">amount >= 6009</span> <b>THEN </b> accept"
      ],
      "text/plain": [
       "<IPython.core.display.HTML object>"
      ]
     },
     "metadata": {},
     "output_type": "display_data"
    },
    {
     "data": {
      "text/html": [
       "#9, 3048 <b>IF </b>  <span style=\"background-color: rgb(251,140,108); color:white;\">property is unknown / no property</span>  <span style=\"background-color: rgb(253,208,189); color:black;\">purpose is not car (new)</span>  <span style=\"background-color: rgb(252,194,171); color:black;\">status is not ... >= 200 DM (salary)</span>  <span style=\"background-color: rgb(253,221,206); color:black;\">duration in 9 to 47</span>  <span style=\"background-color: rgb(252,192,168); color:black;\">credit_history is not all credits at this bank paid back duly</span>  <span style=\"background-color: rgb(252,184,157); color:white;\">employment_duration is unemployed</span> <b>THEN </b> accept"
      ],
      "text/plain": [
       "<IPython.core.display.HTML object>"
      ]
     },
     "metadata": {},
     "output_type": "display_data"
    },
    {
     "data": {
      "text/html": [
       "#10, 7355 <b>IF </b>  <span style=\"background-color: rgb(252,193,169); color:black;\">savings is unknown/no savings account</span>  <span style=\"background-color: rgb(252,192,168); color:black;\">credit_history is no credits taken/all credits paid back duly</span>  <span style=\"background-color: rgb(253,219,203); color:black;\">duration >= 8</span>  <span style=\"background-color: rgb(253,206,186); color:black;\">personal_status_sex is not married male</span>  <span style=\"background-color: rgb(252,194,171); color:black;\">status is not ... >= 200 DM (salary)</span>  <span style=\"background-color: rgb(253,222,208); color:black;\">job is not unskilled and resident</span>  <span style=\"background-color: rgb(252,199,177); color:black;\">property is not real estate</span>  <span style=\"background-color: rgb(226,237,248); color:black;\">purpose is not others</span>  <span style=\"background-color: rgb(252,176,148); color:white;\">installment_rate is >= 35</span> <b>THEN </b> accept"
      ],
      "text/plain": [
       "<IPython.core.display.HTML object>"
      ]
     },
     "metadata": {},
     "output_type": "display_data"
    },
    {
     "data": {
      "text/html": [
       "#11, 9155 <b>IF </b>  <span style=\"background-color: rgb(226,237,248); color:black;\">other_installment_plans is not bank</span>  <span style=\"background-color: rgb(252,194,171); color:black;\">status is not no checking account and ... >= 200 DM (salary)</span>  <span style=\"background-color: rgb(254,225,211); color:black;\">property is not real estate and unknown / no property</span>  <span style=\"background-color: rgb(253,213,195); color:black;\">telephone is No</span>  <span style=\"background-color: rgb(252,176,148); color:white;\">housing is not own</span>  <span style=\"background-color: rgb(253,218,202); color:black;\">installment_rate is not < 20</span>  <span style=\"background-color: rgb(251,114,82); color:white;\">duration >= 35</span> <b>THEN </b> accept"
      ],
      "text/plain": [
       "<IPython.core.display.HTML object>"
      ]
     },
     "metadata": {},
     "output_type": "display_data"
    },
    {
     "data": {
      "text/html": [
       "#12, 9127 <b>IF </b>  <span style=\"background-color: rgb(252,172,144); color:white;\">duration >= 15</span>  <span style=\"background-color: rgb(226,237,248); color:black;\">other_installment_plans is not bank</span>  <span style=\"background-color: rgb(254,226,213); color:black;\">present_residence is not < 1 yr and 1 to 4 yrs</span>  <span style=\"background-color: rgb(252,205,185); color:black;\">age <= 34</span>  <span style=\"background-color: rgb(253,213,195); color:black;\">telephone is No</span>  <span style=\"background-color: rgb(221,234,246); color:black;\">credit_history is not delay in paying off in the past</span>  <span style=\"background-color: rgb(245,83,59); color:white;\">status is no checking account</span>  <span style=\"background-color: rgb(253,219,203); color:black;\">amount >= 2649</span> <b>THEN </b> accept"
      ],
      "text/plain": [
       "<IPython.core.display.HTML object>"
      ]
     },
     "metadata": {},
     "output_type": "display_data"
    },
    {
     "data": {
      "text/html": [
       "#13, 415 <b>IF </b>  <span style=\"background-color: rgb(252,192,168); color:black;\">credit_history is not all credits at this bank paid back duly</span>  <span style=\"background-color: rgb(253,220,205); color:black;\">personal_status_sex is married male</span>  <span style=\"background-color: rgb(252,194,171); color:black;\">status is not ... >= 200 DM (salary)</span>  <span style=\"background-color: rgb(254,225,211); color:black;\">property is not car or other</span>  <span style=\"background-color: rgb(253,214,197); color:black;\">amount >= 4205</span>  <span style=\"background-color: rgb(254,225,212); color:black;\">number_credits is 1</span>  <span style=\"background-color: rgb(250,102,71); color:white;\">duration >= 37</span> <b>THEN </b> accept"
      ],
      "text/plain": [
       "<IPython.core.display.HTML object>"
      ]
     },
     "metadata": {},
     "output_type": "display_data"
    },
    {
     "data": {
      "text/html": [
       "#14, 751 <b>IF </b>  <span style=\"background-color: rgb(252,192,168); color:black;\">savings is unknown/no savings account or < 100 DM</span>  <span style=\"background-color: rgb(253,213,195); color:black;\">telephone is No</span>  <span style=\"background-color: rgb(252,194,171); color:black;\">status is not ... >= 200 DM (salary)</span>  <span style=\"background-color: rgb(252,200,179); color:black;\">other_debtors is not guarantor</span>  <span style=\"background-color: rgb(253,222,208); color:black;\">job is skilled</span>  <span style=\"background-color: rgb(252,150,119); color:white;\">duration >= 21</span>  <span style=\"background-color: rgb(254,225,211); color:black;\">housing is not rent</span>  <span style=\"background-color: rgb(253,214,197); color:black;\">property is car or other</span> <b>THEN </b> accept"
      ],
      "text/plain": [
       "<IPython.core.display.HTML object>"
      ]
     },
     "metadata": {},
     "output_type": "display_data"
    },
    {
     "data": {
      "text/html": [
       "#15, 8136 <b>IF </b>  <span style=\"background-color: rgb(252,194,171); color:black;\">status is not ... >= 200 DM (salary)</span>  <span style=\"background-color: rgb(253,219,203); color:black;\">purpose is not furniture/equipment</span>  <span style=\"background-color: rgb(252,199,177); color:black;\">property is car or other</span>  <span style=\"background-color: rgb(252,192,168); color:black;\">credit_history is not all credits at this bank paid back duly</span>  <span style=\"background-color: rgb(251,122,90); color:white;\">duration >= 26</span>  <span style=\"background-color: rgb(253,221,206); color:black;\">number_credits is not 1</span> <b>THEN </b> accept"
      ],
      "text/plain": [
       "<IPython.core.display.HTML object>"
      ]
     },
     "metadata": {},
     "output_type": "display_data"
    },
    {
     "data": {
      "text/html": [
       "#16, 2097 <b>IF </b>  <span style=\"background-color: rgb(245,83,59); color:white;\">status is no checking account</span>  <span style=\"background-color: rgb(252,182,156); color:white;\">duration >= 13</span>  <span style=\"background-color: rgb(252,192,168); color:black;\">savings is unknown/no savings account or < 100 DM</span>  <span style=\"background-color: rgb(253,206,186); color:black;\">personal_status_sex is not married male</span>  <span style=\"background-color: rgb(221,234,246); color:black;\">purpose is car (used)</span> <b>THEN </b> accept"
      ],
      "text/plain": [
       "<IPython.core.display.HTML object>"
      ]
     },
     "metadata": {},
     "output_type": "display_data"
    },
    {
     "data": {
      "text/html": [
       "#17, 9367 <b>IF </b>  <span style=\"background-color: rgb(252,185,159); color:white;\">duration in 15 to 41</span>  <span style=\"background-color: rgb(252,178,151); color:white;\">credit_history is not no credits taken/all credits paid back duly and all credits at this bank paid back duly</span>  <span style=\"background-color: rgb(253,212,194); color:black;\">employment_duration is not 4 to 7 yrs and >= 7 yrs</span>  <span style=\"background-color: rgb(252,194,171); color:black;\">status is not ... >= 200 DM (salary)</span>  <span style=\"background-color: rgb(252,153,122); color:white;\">other_installment_plans is bank</span> <b>THEN </b> accept"
      ],
      "text/plain": [
       "<IPython.core.display.HTML object>"
      ]
     },
     "metadata": {},
     "output_type": "display_data"
    },
    {
     "data": {
      "text/html": [
       "#18, 9259 <b>IF </b>  <span style=\"background-color: rgb(226,237,248); color:black;\">other_installment_plans is not bank</span>  <span style=\"background-color: rgb(252,186,160); color:white;\">credit_history is critical account/other credits elsewhere or no credits taken/all credits paid back duly</span>  <span style=\"background-color: rgb(252,200,179); color:black;\">other_debtors is not guarantor</span>  <span style=\"background-color: rgb(219,233,246); color:black;\">housing is own</span>  <span style=\"background-color: rgb(252,194,171); color:black;\">status is not ... >= 200 DM (salary)</span>  <span style=\"background-color: rgb(254,228,216); color:black;\">people_liable is 0 to 2</span>  <span style=\"background-color: rgb(252,199,177); color:black;\">property is not real estate</span>  <span style=\"background-color: rgb(252,193,169); color:black;\">employment_duration is unemployed or < 1 yr</span>  <span style=\"background-color: rgb(252,155,125); color:white;\">duration >= 18</span> <b>THEN </b> accept"
      ],
      "text/plain": [
       "<IPython.core.display.HTML object>"
      ]
     },
     "metadata": {},
     "output_type": "display_data"
    },
    {
     "data": {
      "text/html": [
       "#19, 3527 <b>IF </b>  <span style=\"background-color: rgb(252,172,144); color:white;\">duration >= 15</span>  <span style=\"background-color: rgb(251,127,95); color:white;\">purpose is others</span>  <span style=\"background-color: rgb(252,175,147); color:white;\">status is not 0 to 200 DM and ... >= 200 DM (salary)</span>  <span style=\"background-color: rgb(252,193,169); color:black;\">employment_duration is unemployed or < 1 yr</span>  <span style=\"background-color: rgb(221,234,246); color:black;\">age >= 29</span> <b>THEN </b> accept"
      ],
      "text/plain": [
       "<IPython.core.display.HTML object>"
      ]
     },
     "metadata": {},
     "output_type": "display_data"
    },
    {
     "data": {
      "text/html": [
       "#20, 1728 <b>IF </b>  <span style=\"background-color: rgb(252,192,168); color:black;\">credit_history is not all credits at this bank paid back duly</span>  <span style=\"background-color: rgb(254,225,211); color:black;\">property is unknown / no property</span>  <span style=\"background-color: rgb(226,237,248); color:black;\">amount <= 5688</span>  <span style=\"background-color: rgb(245,83,59); color:white;\">status is no checking account</span>  <span style=\"background-color: rgb(252,184,157); color:white;\">other_installment_plans is not none</span> <b>THEN </b> accept"
      ],
      "text/plain": [
       "<IPython.core.display.HTML object>"
      ]
     },
     "metadata": {},
     "output_type": "display_data"
    },
    {
     "data": {
      "text/html": [
       "#21, 7021 <b>IF </b>  <span style=\"background-color: rgb(253,213,195); color:black;\">telephone is No</span>  <span style=\"background-color: rgb(254,224,210); color:black;\">job is skilled</span>  <span style=\"background-color: rgb(252,176,148); color:white;\">housing is not own</span>  <span style=\"background-color: rgb(252,193,169); color:black;\">installment_rate is not < 20 and 20 to 25</span>  <span style=\"background-color: rgb(253,220,205); color:black;\">personal_status_sex is married male</span>  <span style=\"background-color: rgb(253,223,209); color:black;\">credit_history is not no credits taken/all credits paid back duly</span>  <span style=\"background-color: rgb(251,140,108); color:white;\">property is unknown / no property</span> <b>THEN </b> accept"
      ],
      "text/plain": [
       "<IPython.core.display.HTML object>"
      ]
     },
     "metadata": {},
     "output_type": "display_data"
    },
    {
     "data": {
      "text/html": [
       "#22, 6314 <b>IF </b>  <span style=\"background-color: rgb(253,213,195); color:black;\">telephone is No</span>  <span style=\"background-color: rgb(252,178,151); color:white;\">property is not real estate and building soc. savings agr./life insurance</span>  <span style=\"background-color: rgb(253,218,202); color:black;\">purpose is not others and car (new)</span>  <span style=\"background-color: rgb(252,175,147); color:white;\">status is not 0 to 200 DM and ... >= 200 DM (salary)</span>  <span style=\"background-color: rgb(253,209,191); color:black;\">people_liable is 0 to 2</span>  <span style=\"background-color: rgb(254,226,213); color:black;\">present_residence is not < 1 yr and 1 to 4 yrs</span>  <span style=\"background-color: rgb(252,172,144); color:white;\">duration >= 16</span>  <span style=\"background-color: rgb(254,228,216); color:black;\">savings is not unknown/no savings account</span> <b>THEN </b> accept"
      ],
      "text/plain": [
       "<IPython.core.display.HTML object>"
      ]
     },
     "metadata": {},
     "output_type": "display_data"
    },
    {
     "data": {
      "text/html": [
       "#23, 603 <b>IF </b>  <span style=\"background-color: rgb(252,201,180); color:black;\">savings is not 500 to 1000 DM and >= 1000 DM</span>  <span style=\"background-color: rgb(252,184,157); color:white;\">duration >= 12</span>  <span style=\"background-color: rgb(252,175,147); color:white;\">status is not 0 to 200 DM and ... >= 200 DM (salary)</span>  <span style=\"background-color: rgb(254,224,210); color:black;\">job is skilled</span>  <span style=\"background-color: rgb(253,206,186); color:black;\">personal_status_sex is not married male</span>  <span style=\"background-color: rgb(253,220,205); color:black;\">amount >= 2337</span>  <span style=\"background-color: rgb(253,223,209); color:black;\">credit_history is not no credits taken/all credits paid back duly</span>  <span style=\"background-color: rgb(252,193,169); color:black;\">installment_rate is not < 20 and 20 to 25</span> <b>THEN </b> accept"
      ],
      "text/plain": [
       "<IPython.core.display.HTML object>"
      ]
     },
     "metadata": {},
     "output_type": "display_data"
    },
    {
     "data": {
      "text/html": [
       "#24, 2459 <b>IF </b>  <span style=\"background-color: rgb(252,192,168); color:black;\">savings is unknown/no savings account or < 100 DM</span>  <span style=\"background-color: rgb(254,225,211); color:black;\">housing is for free</span>  <span style=\"background-color: rgb(251,140,108); color:white;\">property is unknown / no property</span>  <span style=\"background-color: rgb(225,236,247); color:black;\">telephone is Yes</span>  <span style=\"background-color: rgb(251,127,95); color:white;\">purpose is others</span> <b>THEN </b> accept"
      ],
      "text/plain": [
       "<IPython.core.display.HTML object>"
      ]
     },
     "metadata": {},
     "output_type": "display_data"
    },
    {
     "data": {
      "text/html": [
       "#25, 8433 <b>IF </b>  <span style=\"background-color: rgb(252,193,169); color:black;\">housing is for free</span>  <span style=\"background-color: rgb(252,193,169); color:black;\">installment_rate is not < 20 and 20 to 25</span>  <span style=\"background-color: rgb(252,199,177); color:black;\">property is not real estate</span>  <span style=\"background-color: rgb(252,175,147); color:white;\">status is not 0 to 200 DM and ... >= 200 DM (salary)</span>  <span style=\"background-color: rgb(252,192,168); color:black;\">credit_history is not all credits at this bank paid back duly</span>  <span style=\"background-color: rgb(254,225,212); color:black;\">number_credits is 1</span>  <span style=\"background-color: rgb(225,237,248); color:black;\">age >= 23</span>  <span style=\"background-color: rgb(253,212,194); color:black;\">employment_duration is not 4 to 7 yrs and >= 7 yrs</span> <b>THEN </b> accept"
      ],
      "text/plain": [
       "<IPython.core.display.HTML object>"
      ]
     },
     "metadata": {},
     "output_type": "display_data"
    },
    {
     "data": {
      "text/html": [
       "#26, 6991 <b>IF </b>  <span style=\"background-color: rgb(221,234,246); color:black;\">purpose is not others and repairs</span>  <span style=\"background-color: rgb(251,140,108); color:white;\">property is unknown / no property</span>  <span style=\"background-color: rgb(252,194,171); color:black;\">status is not ... >= 200 DM (salary)</span>  <span style=\"background-color: rgb(252,193,169); color:black;\">housing is for free</span>  <span style=\"background-color: rgb(252,149,117); color:white;\">duration >= 23</span> <b>THEN </b> accept"
      ],
      "text/plain": [
       "<IPython.core.display.HTML object>"
      ]
     },
     "metadata": {},
     "output_type": "display_data"
    },
    {
     "data": {
      "text/html": [
       "#27, 3513 <b>IF </b>  <span style=\"background-color: rgb(252,172,144); color:white;\">duration >= 15</span>  <span style=\"background-color: rgb(226,237,248); color:black;\">purpose is not others</span>  <span style=\"background-color: rgb(245,83,59); color:white;\">status is no checking account</span>  <span style=\"background-color: rgb(253,222,208); color:black;\">job is not unskilled and resident</span>  <span style=\"background-color: rgb(254,227,214); color:black;\">credit_history is no credits taken/all credits paid back duly</span>  <span style=\"background-color: rgb(254,225,212); color:black;\">number_credits is 1</span>  <span style=\"background-color: rgb(253,220,205); color:black;\">personal_status_sex is married male</span>  <span style=\"background-color: rgb(226,237,248); color:black;\">amount <= 6039</span>  <span style=\"background-color: rgb(254,225,211); color:black;\">property is not car or other</span> <b>THEN </b> accept"
      ],
      "text/plain": [
       "<IPython.core.display.HTML object>"
      ]
     },
     "metadata": {},
     "output_type": "display_data"
    },
    {
     "data": {
      "text/html": [
       "#28, 6526 <b>IF </b>  <span style=\"background-color: rgb(252,193,169); color:black;\">installment_rate is not < 20 and 20 to 25</span>  <span style=\"background-color: rgb(252,191,166); color:black;\">property is not real estate and car or other</span>  <span style=\"background-color: rgb(252,178,151); color:white;\">credit_history is not no credits taken/all credits paid back duly and all credits at this bank paid back duly</span>  <span style=\"background-color: rgb(253,220,205); color:black;\">personal_status_sex is married male</span>  <span style=\"background-color: rgb(253,222,208); color:black;\">job is not unskilled and resident</span>  <span style=\"background-color: rgb(252,176,148); color:white;\">housing is not own</span>  <span style=\"background-color: rgb(253,216,200); color:black;\">age <= 41</span> <b>THEN </b> accept"
      ],
      "text/plain": [
       "<IPython.core.display.HTML object>"
      ]
     },
     "metadata": {},
     "output_type": "display_data"
    },
    {
     "data": {
      "text/html": [
       "#29, 5860 <b>IF </b>  <span style=\"background-color: rgb(252,194,171); color:black;\">status is not ... >= 200 DM (salary)</span>  <span style=\"background-color: rgb(252,201,180); color:black;\">savings is not 500 to 1000 DM and >= 1000 DM</span>  <span style=\"background-color: rgb(252,200,179); color:black;\">other_debtors is not guarantor</span>  <span style=\"background-color: rgb(253,213,195); color:black;\">telephone is No</span>  <span style=\"background-color: rgb(252,176,148); color:white;\">housing is not own</span>  <span style=\"background-color: rgb(253,222,208); color:black;\">purpose is not car (used)</span>  <span style=\"background-color: rgb(221,234,246); color:black;\">property is not unknown / no property</span>  <span style=\"background-color: rgb(254,228,216); color:black;\">people_liable is 0 to 2</span>  <span style=\"background-color: rgb(254,225,212); color:black;\">present_residence is >= 7 yrs</span>  <span style=\"background-color: rgb(252,180,153); color:white;\">age <= 24</span> <b>THEN </b> accept"
      ],
      "text/plain": [
       "<IPython.core.display.HTML object>"
      ]
     },
     "metadata": {},
     "output_type": "display_data"
    },
    {
     "data": {
      "text/html": [
       "#30, 6872 <b>IF </b>  <span style=\"background-color: rgb(252,192,168); color:black;\">credit_history is not all credits at this bank paid back duly</span>  <span style=\"background-color: rgb(252,194,171); color:black;\">status is not ... >= 200 DM (salary)</span>  <span style=\"background-color: rgb(253,212,194); color:black;\">other_debtors is none</span>  <span style=\"background-color: rgb(252,193,169); color:black;\">installment_rate is not < 20 and 20 to 25</span>  <span style=\"background-color: rgb(254,225,212); color:black;\">number_credits is 1</span>  <span style=\"background-color: rgb(225,237,248); color:black;\">purpose is not repairs</span>  <span style=\"background-color: rgb(252,205,185); color:black;\">age <= 34</span>  <span style=\"background-color: rgb(253,220,205); color:black;\">personal_status_sex is married male</span>  <span style=\"background-color: rgb(252,184,157); color:white;\">other_installment_plans is not none</span> <b>THEN </b> accept"
      ],
      "text/plain": [
       "<IPython.core.display.HTML object>"
      ]
     },
     "metadata": {},
     "output_type": "display_data"
    },
    {
     "data": {
      "text/html": [
       "#31, 2314 <b>IF </b>  <span style=\"background-color: rgb(252,194,171); color:black;\">status is not ... >= 200 DM (salary)</span>  <span style=\"background-color: rgb(253,212,194); color:black;\">other_debtors is none</span>  <span style=\"background-color: rgb(253,213,195); color:black;\">telephone is No</span>  <span style=\"background-color: rgb(253,214,197); color:black;\">property is car or other</span>  <span style=\"background-color: rgb(249,99,69); color:white;\">duration >= 44</span> <b>THEN </b> accept"
      ],
      "text/plain": [
       "<IPython.core.display.HTML object>"
      ]
     },
     "metadata": {},
     "output_type": "display_data"
    },
    {
     "data": {
      "text/html": [
       "#32, 3312 <b>IF </b>  <span style=\"background-color: rgb(252,192,168); color:black;\">credit_history is not all credits at this bank paid back duly</span>  <span style=\"background-color: rgb(252,193,169); color:black;\">installment_rate is not < 20 and 20 to 25</span>  <span style=\"background-color: rgb(218,232,245); color:black;\">duration <= 24</span>  <span style=\"background-color: rgb(253,213,195); color:black;\">telephone is No</span>  <span style=\"background-color: rgb(254,228,216); color:black;\">people_liable is 0 to 2</span>  <span style=\"background-color: rgb(245,83,59); color:white;\">status is no checking account</span>  <span style=\"background-color: rgb(253,221,206); color:black;\">amount >= 2175</span> <b>THEN </b> accept"
      ],
      "text/plain": [
       "<IPython.core.display.HTML object>"
      ]
     },
     "metadata": {},
     "output_type": "display_data"
    },
    {
     "data": {
      "text/html": [
       "#33, 3205 <b>IF </b>  <span style=\"background-color: rgb(252,192,168); color:black;\">credit_history is not all credits at this bank paid back duly</span>  <span style=\"background-color: rgb(252,194,171); color:black;\">status is not ... >= 200 DM (salary)</span>  <span style=\"background-color: rgb(254,228,216); color:black;\">savings is unknown/no savings account or < 100 DM</span>  <span style=\"background-color: rgb(252,193,169); color:black;\">installment_rate is not < 20 and 20 to 25</span>  <span style=\"background-color: rgb(254,224,210); color:black;\">job is skilled</span>  <span style=\"background-color: rgb(253,212,194); color:black;\">other_debtors is none</span>  <span style=\"background-color: rgb(252,182,156); color:white;\">age <= 25</span>  <span style=\"background-color: rgb(253,213,195); color:black;\">telephone is No</span>  <span style=\"background-color: rgb(254,225,211); color:black;\">housing is not rent</span> <b>THEN </b> accept"
      ],
      "text/plain": [
       "<IPython.core.display.HTML object>"
      ]
     },
     "metadata": {},
     "output_type": "display_data"
    },
    {
     "data": {
      "text/html": [
       "#34, 5330 <b>IF </b>  <span style=\"background-color: rgb(252,194,171); color:black;\">status is not ... >= 200 DM (salary)</span>  <span style=\"background-color: rgb(253,222,208); color:black;\">job is not unskilled and resident</span>  <span style=\"background-color: rgb(253,213,195); color:black;\">telephone is No</span>  <span style=\"background-color: rgb(252,199,177); color:black;\">purpose is not car (new) and furniture/equipment</span>  <span style=\"background-color: rgb(252,200,179); color:black;\">other_debtors is not guarantor</span>  <span style=\"background-color: rgb(251,130,98); color:white;\">credit_history is delay in paying off in the past or critical account/other credits elsewhere</span>  <span style=\"background-color: rgb(225,236,247); color:black;\">duration <= 46</span>  <span style=\"background-color: rgb(212,228,243); color:black;\">installment_rate is not 25 to 35 and >= 35</span>  <span style=\"background-color: rgb(252,184,157); color:white;\">other_installment_plans is not none</span> <b>THEN </b> accept"
      ],
      "text/plain": [
       "<IPython.core.display.HTML object>"
      ]
     },
     "metadata": {},
     "output_type": "display_data"
    },
    {
     "data": {
      "text/html": [
       "#35, 4443 <b>IF </b>  <span style=\"background-color: rgb(252,192,168); color:black;\">credit_history is no credits taken/all credits paid back duly</span>  <span style=\"background-color: rgb(245,83,59); color:white;\">status is no checking account</span>  <span style=\"background-color: rgb(254,227,215); color:black;\">present_residence is not < 1 yr</span>  <span style=\"background-color: rgb(254,227,214); color:black;\">purpose is not others and furniture/equipment</span>  <span style=\"background-color: rgb(253,219,203); color:black;\">amount >= 2645</span>  <span style=\"background-color: rgb(253,213,195); color:black;\">telephone is No</span> <b>THEN </b> accept"
      ],
      "text/plain": [
       "<IPython.core.display.HTML object>"
      ]
     },
     "metadata": {},
     "output_type": "display_data"
    },
    {
     "data": {
      "text/html": [
       "#36, 1171 <b>IF </b>  <span style=\"background-color: rgb(252,192,168); color:black;\">credit_history is no credits taken/all credits paid back duly</span>  <span style=\"background-color: rgb(254,228,216); color:black;\">savings is unknown/no savings account or < 100 DM</span>  <span style=\"background-color: rgb(252,200,179); color:black;\">other_debtors is not guarantor</span>  <span style=\"background-color: rgb(252,178,151); color:white;\">property is not real estate and building soc. savings agr./life insurance</span>  <span style=\"background-color: rgb(253,221,206); color:black;\">number_credits is not 1</span>  <span style=\"background-color: rgb(252,155,125); color:white;\">duration >= 18</span>  <span style=\"background-color: rgb(254,225,211); color:black;\">housing is not rent</span> <b>THEN </b> accept"
      ],
      "text/plain": [
       "<IPython.core.display.HTML object>"
      ]
     },
     "metadata": {},
     "output_type": "display_data"
    },
    {
     "data": {
      "text/html": [
       "#37, 3777 <b>IF </b>  <span style=\"background-color: rgb(245,83,59); color:white;\">status is no checking account</span>  <span style=\"background-color: rgb(252,192,168); color:black;\">savings is unknown/no savings account or < 100 DM</span>  <span style=\"background-color: rgb(226,237,248); color:black;\">purpose is not others</span>  <span style=\"background-color: rgb(252,199,177); color:black;\">property is not real estate</span>  <span style=\"background-color: rgb(226,237,248); color:black;\">job is not skilled</span>  <span style=\"background-color: rgb(254,225,212); color:black;\">present_residence is >= 7 yrs</span> <b>THEN </b> accept"
      ],
      "text/plain": [
       "<IPython.core.display.HTML object>"
      ]
     },
     "metadata": {},
     "output_type": "display_data"
    },
    {
     "data": {
      "text/html": [
       "#38, 593 <b>IF </b>  <span style=\"background-color: rgb(252,201,180); color:black;\">savings is not 500 to 1000 DM and >= 1000 DM</span>  <span style=\"background-color: rgb(252,184,157); color:white;\">duration >= 12</span>  <span style=\"background-color: rgb(252,175,147); color:white;\">status is not 0 to 200 DM and ... >= 200 DM (salary)</span>  <span style=\"background-color: rgb(226,237,248); color:black;\">job is not skilled</span>  <span style=\"background-color: rgb(226,237,248); color:black;\">purpose is not others</span>  <span style=\"background-color: rgb(254,225,211); color:black;\">property is not car or other</span>  <span style=\"background-color: rgb(252,197,174); color:black;\">age <= 30</span>  <span style=\"background-color: rgb(252,193,169); color:black;\">employment_duration is unemployed or < 1 yr</span> <b>THEN </b> accept"
      ],
      "text/plain": [
       "<IPython.core.display.HTML object>"
      ]
     },
     "metadata": {},
     "output_type": "display_data"
    },
    {
     "data": {
      "text/html": [
       "#39, 5862 <b>IF </b>  <span style=\"background-color: rgb(252,194,171); color:black;\">status is not ... >= 200 DM (salary)</span>  <span style=\"background-color: rgb(252,201,180); color:black;\">savings is not 500 to 1000 DM and >= 1000 DM</span>  <span style=\"background-color: rgb(252,200,179); color:black;\">other_debtors is not guarantor</span>  <span style=\"background-color: rgb(253,213,195); color:black;\">telephone is No</span>  <span style=\"background-color: rgb(252,176,148); color:white;\">housing is not own</span>  <span style=\"background-color: rgb(253,222,208); color:black;\">purpose is not car (used)</span>  <span style=\"background-color: rgb(221,234,246); color:black;\">property is not unknown / no property</span>  <span style=\"background-color: rgb(252,186,160); color:white;\">people_liable is 3 or more</span> <b>THEN </b> accept"
      ],
      "text/plain": [
       "<IPython.core.display.HTML object>"
      ]
     },
     "metadata": {},
     "output_type": "display_data"
    },
    {
     "data": {
      "text/html": [
       "#40, 3511 <b>IF </b>  <span style=\"background-color: rgb(252,172,144); color:white;\">duration >= 15</span>  <span style=\"background-color: rgb(226,237,248); color:black;\">purpose is not others</span>  <span style=\"background-color: rgb(252,194,171); color:black;\">status is not ... >= 200 DM (salary)</span>  <span style=\"background-color: rgb(253,222,208); color:black;\">job is not unskilled and resident</span>  <span style=\"background-color: rgb(254,227,214); color:black;\">credit_history is no credits taken/all credits paid back duly</span>  <span style=\"background-color: rgb(254,225,212); color:black;\">number_credits is 1</span>  <span style=\"background-color: rgb(253,206,186); color:black;\">personal_status_sex is not married male</span>  <span style=\"background-color: rgb(254,225,211); color:black;\">property is not car or other</span>  <span style=\"background-color: rgb(252,158,128); color:white;\">housing is rent</span> <b>THEN </b> accept"
      ],
      "text/plain": [
       "<IPython.core.display.HTML object>"
      ]
     },
     "metadata": {},
     "output_type": "display_data"
    },
    {
     "data": {
      "text/html": [
       "#41, 1042 <b>IF </b>  <span style=\"background-color: rgb(252,176,148); color:white;\">housing is not own</span>  <span style=\"background-color: rgb(254,225,212); color:black;\">number_credits is 1</span>  <span style=\"background-color: rgb(252,155,125); color:white;\">duration >= 18</span>  <span style=\"background-color: rgb(252,153,122); color:white;\">other_installment_plans is bank</span> <b>THEN </b> accept"
      ],
      "text/plain": [
       "<IPython.core.display.HTML object>"
      ]
     },
     "metadata": {},
     "output_type": "display_data"
    },
    {
     "data": {
      "text/html": [
       "#42, 126 <b>IF </b>  <span style=\"background-color: rgb(252,194,171); color:black;\">status is not ... >= 200 DM (salary)</span>  <span style=\"background-color: rgb(253,220,205); color:black;\">duration >= 7</span>  <span style=\"background-color: rgb(251,127,95); color:white;\">purpose is others</span>  <span style=\"background-color: rgb(254,228,216); color:black;\">people_liable is 0 to 2</span>  <span style=\"background-color: rgb(253,222,208); color:black;\">job is skilled</span>  <span style=\"background-color: rgb(253,218,202); color:black;\">property is not building soc. savings agr./life insurance</span>  <span style=\"background-color: rgb(252,193,169); color:black;\">housing is for free</span> <b>THEN </b> accept"
      ],
      "text/plain": [
       "<IPython.core.display.HTML object>"
      ]
     },
     "metadata": {},
     "output_type": "display_data"
    },
    {
     "data": {
      "text/html": [
       "#43, 9039 <b>IF </b>  <span style=\"background-color: rgb(219,233,246); color:black;\">other_installment_plans is none</span>  <span style=\"background-color: rgb(251,127,95); color:white;\">purpose is others</span>  <span style=\"background-color: rgb(253,213,195); color:black;\">telephone is No</span>  <span style=\"background-color: rgb(252,192,168); color:black;\">credit_history is not all credits at this bank paid back duly</span>  <span style=\"background-color: rgb(253,222,208); color:black;\">job is not unskilled and resident</span>  <span style=\"background-color: rgb(252,176,148); color:white;\">installment_rate is >= 35</span>  <span style=\"background-color: rgb(253,220,205); color:black;\">personal_status_sex is married male</span> <b>THEN </b> accept"
      ],
      "text/plain": [
       "<IPython.core.display.HTML object>"
      ]
     },
     "metadata": {},
     "output_type": "display_data"
    },
    {
     "data": {
      "text/html": [
       "#44, 5996 <b>IF </b>  <span style=\"background-color: rgb(251,140,108); color:white;\">property is unknown / no property</span>  <span style=\"background-color: rgb(252,194,171); color:black;\">status is not ... >= 200 DM (salary)</span>  <span style=\"background-color: rgb(252,176,148); color:white;\">housing is not own</span>  <span style=\"background-color: rgb(253,220,205); color:black;\">personal_status_sex is married male</span>  <span style=\"background-color: rgb(226,237,248); color:black;\">other_installment_plans is not bank</span>  <span style=\"background-color: rgb(253,213,195); color:black;\">age <= 38</span> <b>THEN </b> accept"
      ],
      "text/plain": [
       "<IPython.core.display.HTML object>"
      ]
     },
     "metadata": {},
     "output_type": "display_data"
    },
    {
     "data": {
      "text/html": [
       "#45, 6472 <b>IF </b>  <span style=\"background-color: rgb(252,199,177); color:black;\">age <= 31</span>  <span style=\"background-color: rgb(225,236,247); color:black;\">savings is not >= 1000 DM</span>  <span style=\"background-color: rgb(252,200,179); color:black;\">other_debtors is not guarantor</span>  <span style=\"background-color: rgb(254,224,210); color:black;\">job is skilled</span>  <span style=\"background-color: rgb(251,140,108); color:white;\">property is unknown / no property</span>  <span style=\"background-color: rgb(252,176,148); color:white;\">installment_rate is >= 35</span> <b>THEN </b> accept"
      ],
      "text/plain": [
       "<IPython.core.display.HTML object>"
      ]
     },
     "metadata": {},
     "output_type": "display_data"
    },
    {
     "data": {
      "text/html": [
       "#46, 3785 <b>IF </b>  <span style=\"background-color: rgb(252,175,147); color:white;\">status is not 0 to 200 DM and ... >= 200 DM (salary)</span>  <span style=\"background-color: rgb(252,192,168); color:black;\">savings is unknown/no savings account or < 100 DM</span>  <span style=\"background-color: rgb(226,237,248); color:black;\">purpose is car (used)</span>  <span style=\"background-color: rgb(252,199,177); color:black;\">property is not real estate</span>  <span style=\"background-color: rgb(254,224,210); color:black;\">job is skilled</span>  <span style=\"background-color: rgb(252,176,148); color:white;\">housing is not own</span>  <span style=\"background-color: rgb(253,213,195); color:black;\">telephone is No</span> <b>THEN </b> accept"
      ],
      "text/plain": [
       "<IPython.core.display.HTML object>"
      ]
     },
     "metadata": {},
     "output_type": "display_data"
    },
    {
     "data": {
      "text/html": [
       "#47, 1847 <b>IF </b>  <span style=\"background-color: rgb(252,192,168); color:black;\">credit_history is no credits taken/all credits paid back duly</span>  <span style=\"background-color: rgb(254,225,212); color:black;\">number_credits is 1</span>  <span style=\"background-color: rgb(252,194,171); color:black;\">status is not ... >= 200 DM (salary)</span>  <span style=\"background-color: rgb(253,206,186); color:black;\">personal_status_sex is not married male</span>  <span style=\"background-color: rgb(253,214,197); color:black;\">property is car or other</span>  <span style=\"background-color: rgb(252,189,163); color:white;\">age <= 27</span>  <span style=\"background-color: rgb(252,193,169); color:black;\">installment_rate is not < 20 and 20 to 25</span> <b>THEN </b> accept"
      ],
      "text/plain": [
       "<IPython.core.display.HTML object>"
      ]
     },
     "metadata": {},
     "output_type": "display_data"
    },
    {
     "data": {
      "text/html": [
       "#48, 7206 <b>IF </b>  <span style=\"background-color: rgb(252,192,168); color:black;\">credit_history is not all credits at this bank paid back duly</span>  <span style=\"background-color: rgb(252,191,166); color:black;\">property is building soc. savings agr./life insurance</span>  <span style=\"background-color: rgb(253,213,195); color:black;\">telephone is No</span>  <span style=\"background-color: rgb(251,121,89); color:white;\">duration >= 27</span> <b>THEN </b> accept"
      ],
      "text/plain": [
       "<IPython.core.display.HTML object>"
      ]
     },
     "metadata": {},
     "output_type": "display_data"
    },
    {
     "data": {
      "text/html": [
       "#49, 6666 <b>IF </b>  <span style=\"background-color: rgb(253,221,206); color:black;\">employment_duration is not >= 7 yrs</span>  <span style=\"background-color: rgb(253,209,191); color:black;\">housing is not for free</span>  <span style=\"background-color: rgb(245,83,59); color:white;\">status is no checking account</span>  <span style=\"background-color: rgb(252,199,177); color:black;\">property is not real estate</span>  <span style=\"background-color: rgb(254,227,214); color:black;\">credit_history is no credits taken/all credits paid back duly</span>  <span style=\"background-color: rgb(226,237,248); color:black;\">job is not skilled</span> <b>THEN </b> accept"
      ],
      "text/plain": [
       "<IPython.core.display.HTML object>"
      ]
     },
     "metadata": {},
     "output_type": "display_data"
    },
    {
     "data": {
      "text/html": [
       "#50, 2573 <b>IF </b>  <span style=\"background-color: rgb(253,219,203); color:black;\">purpose is others</span>  <span style=\"background-color: rgb(158,202,225); color:white;\">status is ... >= 200 DM (salary)</span>  <span style=\"background-color: rgb(217,231,245); color:black;\">installment_rate is not >= 35</span>  <span style=\"background-color: rgb(254,224,210); color:black;\">job is skilled</span>  <span style=\"background-color: rgb(253,221,206); color:black;\">number_credits is not 1</span> <b>THEN </b> reject"
      ],
      "text/plain": [
       "<IPython.core.display.HTML object>"
      ]
     },
     "metadata": {},
     "output_type": "display_data"
    },
    {
     "data": {
      "text/html": [
       "#51, 289 <b>IF </b>  <span style=\"background-color: rgb(209,226,242); color:black;\">property is real estate</span>  <span style=\"background-color: rgb(252,193,169); color:black;\">savings is unknown/no savings account</span>  <span style=\"background-color: rgb(158,202,225); color:white;\">status is ... >= 200 DM (salary)</span>  <span style=\"background-color: rgb(252,182,156); color:white;\">age <= 25</span> <b>THEN </b> reject"
      ],
      "text/plain": [
       "<IPython.core.display.HTML object>"
      ]
     },
     "metadata": {},
     "output_type": "display_data"
    },
    {
     "data": {
      "text/html": [
       "#52, 1202 <b>IF </b>  <span style=\"background-color: rgb(187,214,235); color:white;\">credit_history is all credits at this bank paid back duly</span>  <span style=\"background-color: rgb(223,235,247); color:black;\">other_debtors is not none</span>  <span style=\"background-color: rgb(253,218,202); color:black;\">amount >= 3091</span> <b>THEN </b> reject"
      ],
      "text/plain": [
       "<IPython.core.display.HTML object>"
      ]
     },
     "metadata": {},
     "output_type": "display_data"
    },
    {
     "data": {
      "text/html": [
       "#53, 5240 <b>IF </b>  <span style=\"background-color: rgb(226,237,248); color:black;\">other_installment_plans is not bank</span>  <span style=\"background-color: rgb(254,225,211); color:black;\">housing is not rent</span>  <span style=\"background-color: rgb(254,225,211); color:black;\">property is not real estate and unknown / no property</span>  <span style=\"background-color: rgb(226,237,248); color:black;\">present_residence is not >= 7 yrs</span>  <span style=\"background-color: rgb(253,212,194); color:black;\">employment_duration is not 4 to 7 yrs and >= 7 yrs</span>  <span style=\"background-color: rgb(226,237,248); color:black;\">purpose is not others</span>  <span style=\"background-color: rgb(167,206,228); color:white;\">status is not no checking account and ... < 0 DM</span>  <span style=\"background-color: rgb(253,208,189); color:black;\">job is highly skilled</span> <b>THEN </b> reject"
      ],
      "text/plain": [
       "<IPython.core.display.HTML object>"
      ]
     },
     "metadata": {},
     "output_type": "display_data"
    },
    {
     "data": {
      "text/html": [
       "#54, 8516 <b>IF </b>  <span style=\"background-color: rgb(209,226,242); color:black;\">property is real estate</span>  <span style=\"background-color: rgb(254,227,215); color:black;\">foreign_worker is No</span>  <span style=\"background-color: rgb(252,172,144); color:white;\">duration >= 16</span>  <span style=\"background-color: rgb(253,222,208); color:black;\">job is not unskilled and resident</span>  <span style=\"background-color: rgb(167,206,228); color:white;\">status is not no checking account and ... < 0 DM</span>  <span style=\"background-color: rgb(252,186,160); color:white;\">age <= 26</span> <b>THEN </b> reject"
      ],
      "text/plain": [
       "<IPython.core.display.HTML object>"
      ]
     },
     "metadata": {},
     "output_type": "display_data"
    },
    {
     "data": {
      "text/html": [
       "#55, 3339 <b>IF </b>  <span style=\"background-color: rgb(187,214,235); color:white;\">credit_history is all credits at this bank paid back duly</span>  <span style=\"background-color: rgb(219,233,246); color:black;\">other_installment_plans is none</span>  <span style=\"background-color: rgb(253,209,191); color:black;\">housing is not for free</span>  <span style=\"background-color: rgb(253,212,194); color:black;\">amount >= 7047</span> <b>THEN </b> reject"
      ],
      "text/plain": [
       "<IPython.core.display.HTML object>"
      ]
     },
     "metadata": {},
     "output_type": "display_data"
    },
    {
     "data": {
      "text/html": [
       "#56, 4992 <b>IF </b>  <span style=\"background-color: rgb(187,214,235); color:white;\">credit_history is all credits at this bank paid back duly</span>  <span style=\"background-color: rgb(253,211,192); color:black;\">amount >= 7725</span> <b>THEN </b> reject"
      ],
      "text/plain": [
       "<IPython.core.display.HTML object>"
      ]
     },
     "metadata": {},
     "output_type": "display_data"
    },
    {
     "data": {
      "text/html": [
       "#57, 8673 <b>IF </b>  <span style=\"background-color: rgb(210,227,243); color:black;\">duration in 9 to 17</span>  <span style=\"background-color: rgb(212,228,243); color:black;\">installment_rate is not 25 to 35 and >= 35</span>  <span style=\"background-color: rgb(252,175,147); color:white;\">status is not 0 to 200 DM and ... >= 200 DM (salary)</span>  <span style=\"background-color: rgb(215,230,244); color:black;\">employment_duration is >= 7 yrs</span> <b>THEN </b> reject"
      ],
      "text/plain": [
       "<IPython.core.display.HTML object>"
      ]
     },
     "metadata": {},
     "output_type": "display_data"
    },
    {
     "data": {
      "text/html": [
       "#58, 6286 <b>IF </b>  <span style=\"background-color: rgb(252,192,168); color:black;\">credit_history is not all credits at this bank paid back duly</span>  <span style=\"background-color: rgb(158,202,225); color:white;\">status is ... >= 200 DM (salary)</span>  <span style=\"background-color: rgb(252,184,157); color:white;\">other_installment_plans is not none</span>  <span style=\"background-color: rgb(253,220,205); color:black;\">amount >= 2291</span>  <span style=\"background-color: rgb(225,236,247); color:black;\">telephone is Yes</span> <b>THEN </b> reject"
      ],
      "text/plain": [
       "<IPython.core.display.HTML object>"
      ]
     },
     "metadata": {},
     "output_type": "display_data"
    },
    {
     "data": {
      "text/html": [
       "#59, 8068 <b>IF </b>  <span style=\"background-color: rgb(219,233,246); color:black;\">housing is own</span>  <span style=\"background-color: rgb(219,233,246); color:black;\">other_installment_plans is none</span>  <span style=\"background-color: rgb(187,214,235); color:white;\">credit_history is all credits at this bank paid back duly</span>  <span style=\"background-color: rgb(252,202,182); color:black;\">age <= 33</span>  <span style=\"background-color: rgb(253,214,197); color:black;\">property is car or other</span>  <span style=\"background-color: rgb(252,194,171); color:black;\">status is not ... >= 200 DM (salary)</span> <b>THEN </b> reject"
      ],
      "text/plain": [
       "<IPython.core.display.HTML object>"
      ]
     },
     "metadata": {},
     "output_type": "display_data"
    },
    {
     "data": {
      "text/html": [
       "#60, 9342 <b>IF </b>  <span style=\"background-color: rgb(205,223,241); color:black;\">duration <= 15</span>  <span style=\"background-color: rgb(222,235,247); color:black;\">amount <= 1384</span>  <span style=\"background-color: rgb(221,234,246); color:black;\">property is not unknown / no property</span>  <span style=\"background-color: rgb(253,208,189); color:black;\">other_installment_plans is not none</span>  <span style=\"background-color: rgb(254,228,216); color:black;\">savings is not unknown/no savings account</span> <b>THEN </b> reject"
      ],
      "text/plain": [
       "<IPython.core.display.HTML object>"
      ]
     },
     "metadata": {},
     "output_type": "display_data"
    },
    {
     "data": {
      "text/html": [
       "#61, 2226 <b>IF </b>  <span style=\"background-color: rgb(205,223,241); color:black;\">duration <= 15</span>  <span style=\"background-color: rgb(252,192,168); color:black;\">credit_history is not all credits at this bank paid back duly</span>  <span style=\"background-color: rgb(217,231,245); color:black;\">property is not car or other and unknown / no property</span>  <span style=\"background-color: rgb(254,228,216); color:black;\">people_liable is 0 to 2</span>  <span style=\"background-color: rgb(252,192,168); color:black;\">age <= 28</span>  <span style=\"background-color: rgb(226,237,248); color:black;\">other_installment_plans is not bank</span>  <span style=\"background-color: rgb(254,226,213); color:black;\">amount >= 1082</span>  <span style=\"background-color: rgb(226,237,248); color:black;\">present_residence is not 4 to 7 yrs and >= 7 yrs</span>  <span style=\"background-color: rgb(212,228,243); color:black;\">installment_rate is not 25 to 35 and >= 35</span> <b>THEN </b> reject"
      ],
      "text/plain": [
       "<IPython.core.display.HTML object>"
      ]
     },
     "metadata": {},
     "output_type": "display_data"
    },
    {
     "data": {
      "text/html": [
       "#62, 9536 <b>IF </b>  <span style=\"background-color: rgb(212,228,243); color:black;\">installment_rate is not 25 to 35 and >= 35</span>  <span style=\"background-color: rgb(254,225,211); color:black;\">property is building soc. savings agr./life insurance</span>  <span style=\"background-color: rgb(253,222,208); color:black;\">job is not unskilled and resident</span>  <span style=\"background-color: rgb(225,236,247); color:black;\">telephone is Yes</span>  <span style=\"background-color: rgb(215,230,244); color:black;\">employment_duration is >= 7 yrs</span> <b>THEN </b> reject"
      ],
      "text/plain": [
       "<IPython.core.display.HTML object>"
      ]
     },
     "metadata": {},
     "output_type": "display_data"
    },
    {
     "data": {
      "text/html": [
       "#63, 4089 <b>IF </b>  <span style=\"background-color: rgb(187,214,235); color:white;\">credit_history is all credits at this bank paid back duly</span>  <span style=\"background-color: rgb(226,237,248); color:black;\">other_debtors is not co-applicant</span>  <span style=\"background-color: rgb(254,227,215); color:black;\">present_residence is not < 1 yr</span>  <span style=\"background-color: rgb(252,202,182); color:black;\">age <= 33</span>  <span style=\"background-color: rgb(254,228,216); color:black;\">savings is not 500 to 1000 DM and >= 1000 DM</span>  <span style=\"background-color: rgb(253,220,205); color:black;\">amount >= 2491</span> <b>THEN </b> reject"
      ],
      "text/plain": [
       "<IPython.core.display.HTML object>"
      ]
     },
     "metadata": {},
     "output_type": "display_data"
    },
    {
     "data": {
      "text/html": [
       "#64, 1476 <b>IF </b>  <span style=\"background-color: rgb(252,176,148); color:white;\">housing is not own</span>  <span style=\"background-color: rgb(167,206,228); color:white;\">status is not no checking account and ... < 0 DM</span>  <span style=\"background-color: rgb(253,214,197); color:black;\">property is car or other</span>  <span style=\"background-color: rgb(253,221,206); color:black;\">number_credits is not 1</span> <b>THEN </b> reject"
      ],
      "text/plain": [
       "<IPython.core.display.HTML object>"
      ]
     },
     "metadata": {},
     "output_type": "display_data"
    },
    {
     "data": {
      "text/html": [
       "#65, 9510 <b>IF </b>  <span style=\"background-color: rgb(252,192,168); color:black;\">credit_history is not all credits at this bank paid back duly</span>  <span style=\"background-color: rgb(252,184,157); color:white;\">duration >= 12</span>  <span style=\"background-color: rgb(219,233,246); color:black;\">housing is own</span>  <span style=\"background-color: rgb(254,227,214); color:black;\">amount >= 1047</span>  <span style=\"background-color: rgb(253,206,186); color:black;\">other_installment_plans is not stores</span>  <span style=\"background-color: rgb(225,236,247); color:black;\">telephone is Yes</span>  <span style=\"background-color: rgb(226,237,248); color:black;\">present_residence is not 4 to 7 yrs and >= 7 yrs</span>  <span style=\"background-color: rgb(167,206,228); color:white;\">status is not no checking account and ... < 0 DM</span>  <span style=\"background-color: rgb(253,221,206); color:black;\">number_credits is not 1</span> <b>THEN </b> reject"
      ],
      "text/plain": [
       "<IPython.core.display.HTML object>"
      ]
     },
     "metadata": {},
     "output_type": "display_data"
    },
    {
     "data": {
      "text/html": [
       "#66, 166 <b>IF </b>  <span style=\"background-color: rgb(252,192,168); color:black;\">savings is unknown/no savings account or < 100 DM</span>  <span style=\"background-color: rgb(252,199,177); color:black;\">property is not real estate</span>  <span style=\"background-color: rgb(226,237,248); color:black;\">purpose is not others</span>  <span style=\"background-color: rgb(167,206,228); color:white;\">status is not no checking account and ... < 0 DM</span>  <span style=\"background-color: rgb(253,211,192); color:black;\">amount >= 7973</span> <b>THEN </b> reject"
      ],
      "text/plain": [
       "<IPython.core.display.HTML object>"
      ]
     },
     "metadata": {},
     "output_type": "display_data"
    },
    {
     "data": {
      "text/html": [
       "#67, 3120 <b>IF </b>  <span style=\"background-color: rgb(252,194,171); color:black;\">status is not ... >= 200 DM (salary)</span>  <span style=\"background-color: rgb(254,227,215); color:black;\">amount >= 599</span>  <span style=\"background-color: rgb(253,207,188); color:black;\">duration >= 11</span>  <span style=\"background-color: rgb(187,214,235); color:white;\">credit_history is all credits at this bank paid back duly</span>  <span style=\"background-color: rgb(223,235,247); color:black;\">other_debtors is not none</span> <b>THEN </b> reject"
      ],
      "text/plain": [
       "<IPython.core.display.HTML object>"
      ]
     },
     "metadata": {},
     "output_type": "display_data"
    },
    {
     "data": {
      "text/html": [
       "#68, 942 <b>IF </b>  <span style=\"background-color: rgb(253,213,195); color:black;\">telephone is No</span>  <span style=\"background-color: rgb(253,219,203); color:black;\">purpose is not furniture/equipment</span>  <span style=\"background-color: rgb(254,228,216); color:black;\">savings is not 500 to 1000 DM and >= 1000 DM</span>  <span style=\"background-color: rgb(158,202,225); color:white;\">status is ... >= 200 DM (salary)</span>  <span style=\"background-color: rgb(252,186,160); color:white;\">people_liable is 3 or more</span>  <span style=\"background-color: rgb(252,199,177); color:black;\">property is not real estate</span> <b>THEN </b> reject"
      ],
      "text/plain": [
       "<IPython.core.display.HTML object>"
      ]
     },
     "metadata": {},
     "output_type": "display_data"
    },
    {
     "data": {
      "text/html": [
       "#69, 9345 <b>IF </b>  <span style=\"background-color: rgb(205,223,241); color:black;\">duration <= 15</span>  <span style=\"background-color: rgb(222,235,247); color:black;\">amount <= 1384</span>  <span style=\"background-color: rgb(254,225,211); color:black;\">property is not real estate and unknown / no property</span>  <span style=\"background-color: rgb(219,233,246); color:black;\">other_installment_plans is none</span>  <span style=\"background-color: rgb(254,228,216); color:black;\">present_residence is 4 to 7 yrs</span>  <span style=\"background-color: rgb(252,192,168); color:black;\">credit_history is not all credits at this bank paid back duly</span> <b>THEN </b> reject"
      ],
      "text/plain": [
       "<IPython.core.display.HTML object>"
      ]
     },
     "metadata": {},
     "output_type": "display_data"
    },
    {
     "data": {
      "text/html": [
       "#70, 2901 <b>IF </b>  <span style=\"background-color: rgb(205,223,241); color:black;\">duration <= 15</span>  <span style=\"background-color: rgb(252,199,177); color:black;\">property is not real estate</span>  <span style=\"background-color: rgb(253,209,191); color:black;\">credit_history is not critical account/other credits elsewhere and all credits at this bank paid back duly</span>  <span style=\"background-color: rgb(218,232,245); color:black;\">age >= 33</span>  <span style=\"background-color: rgb(254,228,216); color:black;\">savings is unknown/no savings account</span>  <span style=\"background-color: rgb(221,234,246); color:black;\">amount <= 1223</span> <b>THEN </b> reject"
      ],
      "text/plain": [
       "<IPython.core.display.HTML object>"
      ]
     },
     "metadata": {},
     "output_type": "display_data"
    },
    {
     "data": {
      "text/html": [
       "#71, 8322 <b>IF </b>  <span style=\"background-color: rgb(254,224,210); color:black;\">job is skilled</span>  <span style=\"background-color: rgb(219,233,246); color:black;\">housing is own</span>  <span style=\"background-color: rgb(207,225,242); color:black;\">savings is not unknown/no savings account and < 100 DM</span>  <span style=\"background-color: rgb(225,237,248); color:black;\">property is building soc. savings agr./life insurance</span>  <span style=\"background-color: rgb(253,206,186); color:black;\">personal_status_sex is not married male</span> <b>THEN </b> reject"
      ],
      "text/plain": [
       "<IPython.core.display.HTML object>"
      ]
     },
     "metadata": {},
     "output_type": "display_data"
    },
    {
     "data": {
      "text/html": [
       "#72, 1 <b>IF </b>  <span style=\"background-color: rgb(252,193,169); color:black;\">savings is unknown/no savings account</span>  <span style=\"background-color: rgb(221,234,246); color:black;\">property is not unknown / no property</span>  <span style=\"background-color: rgb(253,219,203); color:black;\">purpose is not furniture/equipment</span>  <span style=\"background-color: rgb(203,222,240); color:black;\">duration <= 12</span>  <span style=\"background-color: rgb(221,234,246); color:black;\">amount <= 922</span>  <span style=\"background-color: rgb(254,225,212); color:black;\">present_residence is >= 7 yrs</span> <b>THEN </b> reject"
      ],
      "text/plain": [
       "<IPython.core.display.HTML object>"
      ]
     },
     "metadata": {},
     "output_type": "display_data"
    },
    {
     "data": {
      "text/html": [
       "#73, 8564 <b>IF </b>  <span style=\"background-color: rgb(219,233,246); color:black;\">other_installment_plans is none</span>  <span style=\"background-color: rgb(216,231,245); color:black;\">credit_history is existing credits paid back duly till now</span>  <span style=\"background-color: rgb(219,233,246); color:black;\">housing is own</span>  <span style=\"background-color: rgb(253,208,189); color:black;\">job is highly skilled</span> <b>THEN </b> reject"
      ],
      "text/plain": [
       "<IPython.core.display.HTML object>"
      ]
     },
     "metadata": {},
     "output_type": "display_data"
    },
    {
     "data": {
      "text/html": [
       "#74, 4158 <b>IF </b>  <span style=\"background-color: rgb(220,233,246); color:black;\">property is not building soc. savings agr./life insurance and unknown / no property</span>  <span style=\"background-color: rgb(254,228,216); color:black;\">savings is unknown/no savings account or < 100 DM</span>  <span style=\"background-color: rgb(252,194,171); color:black;\">status is not ... >= 200 DM (salary)</span>  <span style=\"background-color: rgb(254,228,216); color:black;\">people_liable is 0 to 2</span>  <span style=\"background-color: rgb(253,206,186); color:black;\">personal_status_sex is not married male</span>  <span style=\"background-color: rgb(252,200,179); color:black;\">other_debtors is not guarantor</span>  <span style=\"background-color: rgb(221,234,246); color:black;\">age >= 28</span>  <span style=\"background-color: rgb(254,227,215); color:black;\">amount >= 729</span>  <span style=\"background-color: rgb(254,225,211); color:black;\">housing is not rent</span>  <span style=\"background-color: rgb(187,214,235); color:white;\">credit_history is all credits at this bank paid back duly</span> <b>THEN </b> reject"
      ],
      "text/plain": [
       "<IPython.core.display.HTML object>"
      ]
     },
     "metadata": {},
     "output_type": "display_data"
    },
    {
     "data": {
      "text/html": [
       "#75, 5736 <b>IF </b>  <span style=\"background-color: rgb(253,213,195); color:black;\">telephone is No</span>  <span style=\"background-color: rgb(205,223,241); color:black;\">duration <= 15</span>  <span style=\"background-color: rgb(222,235,247); color:black;\">amount in 653 to 1384</span>  <span style=\"background-color: rgb(254,225,212); color:black;\">number_credits is 1</span>  <span style=\"background-color: rgb(252,186,160); color:white;\">people_liable is 3 or more</span>  <span style=\"background-color: rgb(215,230,244); color:black;\">age >= 38</span> <b>THEN </b> reject"
      ],
      "text/plain": [
       "<IPython.core.display.HTML object>"
      ]
     },
     "metadata": {},
     "output_type": "display_data"
    },
    {
     "data": {
      "text/html": [
       "#76, 2818 <b>IF </b>  <span style=\"background-color: rgb(212,228,243); color:black;\">installment_rate is not 25 to 35 and >= 35</span>  <span style=\"background-color: rgb(253,212,194); color:black;\">other_debtors is none</span>  <span style=\"background-color: rgb(254,226,213); color:black;\">age <= 57</span>  <span style=\"background-color: rgb(252,172,144); color:white;\">duration >= 16</span>  <span style=\"background-color: rgb(203,222,240); color:black;\">status is not no checking account</span>  <span style=\"background-color: rgb(223,235,247); color:black;\">employment_duration is not unemployed and < 1 yr</span>  <span style=\"background-color: rgb(253,218,202); color:black;\">amount in 3432 to 9846</span>  <span style=\"background-color: rgb(225,236,247); color:black;\">savings is not >= 1000 DM</span>  <span style=\"background-color: rgb(226,237,248); color:black;\">job is not skilled</span> <b>THEN </b> reject"
      ],
      "text/plain": [
       "<IPython.core.display.HTML object>"
      ]
     },
     "metadata": {},
     "output_type": "display_data"
    },
    {
     "data": {
      "text/html": [
       "#77, 6022 <b>IF </b>  <span style=\"background-color: rgb(254,225,211); color:black;\">housing is not rent</span>  <span style=\"background-color: rgb(253,206,186); color:black;\">personal_status_sex is not married male</span>  <span style=\"background-color: rgb(253,208,189); color:black;\">job is highly skilled</span>  <span style=\"background-color: rgb(253,214,197); color:black;\">amount >= 4037</span>  <span style=\"background-color: rgb(226,237,248); color:black;\">present_residence is not >= 7 yrs</span>  <span style=\"background-color: rgb(187,214,235); color:white;\">credit_history is all credits at this bank paid back duly</span> <b>THEN </b> reject"
      ],
      "text/plain": [
       "<IPython.core.display.HTML object>"
      ]
     },
     "metadata": {},
     "output_type": "display_data"
    },
    {
     "data": {
      "text/html": [
       "#78, 4410 <b>IF </b>  <span style=\"background-color: rgb(219,233,246); color:black;\">housing is own</span>  <span style=\"background-color: rgb(252,194,171); color:black;\">status is not ... >= 200 DM (salary)</span>  <span style=\"background-color: rgb(252,199,177); color:black;\">property is not real estate</span>  <span style=\"background-color: rgb(253,222,208); color:black;\">job is not unskilled and resident and skilled</span>  <span style=\"background-color: rgb(253,213,195); color:black;\">telephone is No</span>  <span style=\"background-color: rgb(187,214,235); color:white;\">credit_history is all credits at this bank paid back duly</span> <b>THEN </b> reject"
      ],
      "text/plain": [
       "<IPython.core.display.HTML object>"
      ]
     },
     "metadata": {},
     "output_type": "display_data"
    },
    {
     "data": {
      "text/html": [
       "#79, 1213 <b>IF </b>  <span style=\"background-color: rgb(187,214,235); color:white;\">credit_history is all credits at this bank paid back duly</span>  <span style=\"background-color: rgb(253,212,194); color:black;\">other_debtors is none</span>  <span style=\"background-color: rgb(253,207,188); color:black;\">duration >= 11</span>  <span style=\"background-color: rgb(253,213,195); color:black;\">telephone is No</span>  <span style=\"background-color: rgb(252,201,180); color:black;\">savings is not 500 to 1000 DM and >= 1000 DM</span>  <span style=\"background-color: rgb(219,233,246); color:black;\">other_installment_plans is none</span>  <span style=\"background-color: rgb(219,233,246); color:black;\">housing is own</span>  <span style=\"background-color: rgb(220,233,246); color:black;\">age >= 30</span>  <span style=\"background-color: rgb(252,175,147); color:white;\">status is not 0 to 200 DM and ... >= 200 DM (salary)</span> <b>THEN </b> reject"
      ],
      "text/plain": [
       "<IPython.core.display.HTML object>"
      ]
     },
     "metadata": {},
     "output_type": "display_data"
    },
    {
     "data": {
      "text/html": [
       "#80, 6365 <b>IF </b>  <span style=\"background-color: rgb(205,223,241); color:black;\">duration <= 15</span>  <span style=\"background-color: rgb(252,199,177); color:black;\">property is building soc. savings agr./life insurance</span>  <span style=\"background-color: rgb(254,227,214); color:black;\">credit_history is no credits taken/all credits paid back duly</span>  <span style=\"background-color: rgb(254,225,212); color:black;\">number_credits is 1</span>  <span style=\"background-color: rgb(254,225,211); color:black;\">housing is not rent</span>  <span style=\"background-color: rgb(221,234,246); color:black;\">amount <= 993</span> <b>THEN </b> reject"
      ],
      "text/plain": [
       "<IPython.core.display.HTML object>"
      ]
     },
     "metadata": {},
     "output_type": "display_data"
    },
    {
     "data": {
      "text/html": [
       "#81, 7863 <b>IF </b>  <span style=\"background-color: rgb(219,233,246); color:black;\">housing is own</span>  <span style=\"background-color: rgb(254,227,215); color:black;\">employment_duration is 1 to 4 yrs or 4 to 7 yrs</span>  <span style=\"background-color: rgb(225,236,247); color:black;\">telephone is Yes</span>  <span style=\"background-color: rgb(217,231,245); color:black;\">property is not car or other and unknown / no property</span>  <span style=\"background-color: rgb(253,214,197); color:black;\">amount >= 4190</span> <b>THEN </b> reject"
      ],
      "text/plain": [
       "<IPython.core.display.HTML object>"
      ]
     },
     "metadata": {},
     "output_type": "display_data"
    },
    {
     "data": {
      "text/html": [
       "#82, 2166 <b>IF </b>  <span style=\"background-color: rgb(254,228,216); color:black;\">people_liable is 0 to 2</span>  <span style=\"background-color: rgb(253,218,202); color:black;\">property is not building soc. savings agr./life insurance</span>  <span style=\"background-color: rgb(212,228,243); color:black;\">purpose is furniture/equipment</span>  <span style=\"background-color: rgb(254,225,211); color:black;\">housing is not rent</span>  <span style=\"background-color: rgb(220,233,246); color:black;\">other_debtors is not co-applicant</span>  <span style=\"background-color: rgb(254,225,212); color:black;\">number_credits is 2 to 3</span>  <span style=\"background-color: rgb(254,227,214); color:black;\">credit_history is no credits taken/all credits paid back duly</span> <b>THEN </b> reject"
      ],
      "text/plain": [
       "<IPython.core.display.HTML object>"
      ]
     },
     "metadata": {},
     "output_type": "display_data"
    },
    {
     "data": {
      "text/html": [
       "#83, 661 <b>IF </b>  <span style=\"background-color: rgb(252,194,171); color:black;\">status is not ... >= 200 DM (salary)</span>  <span style=\"background-color: rgb(187,214,235); color:white;\">credit_history is all credits at this bank paid back duly</span>  <span style=\"background-color: rgb(254,226,213); color:black;\">number_credits is not 4 to 5</span>  <span style=\"background-color: rgb(253,219,203); color:black;\">age <= 43</span>  <span style=\"background-color: rgb(253,208,189); color:black;\">job is highly skilled</span> <b>THEN </b> reject"
      ],
      "text/plain": [
       "<IPython.core.display.HTML object>"
      ]
     },
     "metadata": {},
     "output_type": "display_data"
    },
    {
     "data": {
      "text/html": [
       "#84, 4838 <b>IF </b>  <span style=\"background-color: rgb(221,234,246); color:black;\">property is not unknown / no property</span>  <span style=\"background-color: rgb(225,236,247); color:black;\">job is not highly skilled</span>  <span style=\"background-color: rgb(187,214,235); color:white;\">credit_history is all credits at this bank paid back duly</span>  <span style=\"background-color: rgb(252,202,182); color:black;\">age <= 33</span>  <span style=\"background-color: rgb(254,228,216); color:black;\">savings is not 500 to 1000 DM and >= 1000 DM</span>  <span style=\"background-color: rgb(252,172,144); color:white;\">duration >= 16</span>  <span style=\"background-color: rgb(253,219,203); color:black;\">purpose is not furniture/equipment</span> <b>THEN </b> reject"
      ],
      "text/plain": [
       "<IPython.core.display.HTML object>"
      ]
     },
     "metadata": {},
     "output_type": "display_data"
    },
    {
     "data": {
      "text/html": [
       "#85, 234 <b>IF </b>  <span style=\"background-color: rgb(158,202,225); color:white;\">status is ... >= 200 DM (salary)</span>  <span style=\"background-color: rgb(252,184,157); color:white;\">other_installment_plans is not none</span>  <span style=\"background-color: rgb(251,138,106); color:white;\">purpose is retraining</span> <b>THEN </b> reject"
      ],
      "text/plain": [
       "<IPython.core.display.HTML object>"
      ]
     },
     "metadata": {},
     "output_type": "display_data"
    },
    {
     "data": {
      "text/html": [
       "#86, 1427 <b>IF </b>  <span style=\"background-color: rgb(219,233,246); color:black;\">housing is own</span>  <span style=\"background-color: rgb(219,233,246); color:black;\">other_installment_plans is none</span>  <span style=\"background-color: rgb(252,194,171); color:black;\">status is not ... >= 200 DM (salary)</span>  <span style=\"background-color: rgb(217,231,245); color:black;\">installment_rate is not >= 35</span>  <span style=\"background-color: rgb(220,233,246); color:black;\">other_debtors is not co-applicant</span>  <span style=\"background-color: rgb(252,182,156); color:white;\">age <= 25</span>  <span style=\"background-color: rgb(221,234,246); color:black;\">purpose is car (used)</span> <b>THEN </b> reject"
      ],
      "text/plain": [
       "<IPython.core.display.HTML object>"
      ]
     },
     "metadata": {},
     "output_type": "display_data"
    },
    {
     "data": {
      "text/html": [
       "#87, 2821 <b>IF </b>  <span style=\"background-color: rgb(212,228,243); color:black;\">installment_rate is not 25 to 35 and >= 35</span>  <span style=\"background-color: rgb(253,212,194); color:black;\">other_debtors is none</span>  <span style=\"background-color: rgb(254,226,213); color:black;\">age <= 57</span>  <span style=\"background-color: rgb(252,172,144); color:white;\">duration >= 16</span>  <span style=\"background-color: rgb(203,222,240); color:black;\">status is not no checking account</span>  <span style=\"background-color: rgb(223,235,247); color:black;\">employment_duration is not unemployed and < 1 yr</span>  <span style=\"background-color: rgb(253,211,192); color:black;\">amount >= 9846</span> <b>THEN </b> reject"
      ],
      "text/plain": [
       "<IPython.core.display.HTML object>"
      ]
     },
     "metadata": {},
     "output_type": "display_data"
    },
    {
     "data": {
      "text/html": [
       "#88, 9488 <b>IF </b>  <span style=\"background-color: rgb(252,192,168); color:black;\">credit_history is critical account/other credits elsewhere</span>  <span style=\"background-color: rgb(203,222,240); color:black;\">duration <= 12</span> <b>THEN </b> reject"
      ],
      "text/plain": [
       "<IPython.core.display.HTML object>"
      ]
     },
     "metadata": {},
     "output_type": "display_data"
    },
    {
     "data": {
      "text/html": [
       "#89, 3713 <b>IF </b>  <span style=\"background-color: rgb(212,228,243); color:black;\">purpose is furniture/equipment</span>  <span style=\"background-color: rgb(252,175,147); color:white;\">age <= 22</span>  <span style=\"background-color: rgb(212,228,243); color:black;\">installment_rate is not 25 to 35 and >= 35</span> <b>THEN </b> reject"
      ],
      "text/plain": [
       "<IPython.core.display.HTML object>"
      ]
     },
     "metadata": {},
     "output_type": "display_data"
    },
    {
     "data": {
      "text/html": [
       "#90, 9621 <b>IF </b>  <span style=\"background-color: rgb(252,192,168); color:black;\">credit_history is not all credits at this bank paid back duly</span>  <span style=\"background-color: rgb(254,228,216); color:black;\">savings is unknown/no savings account or < 100 DM</span>  <span style=\"background-color: rgb(253,219,203); color:black;\">purpose is not furniture/equipment</span>  <span style=\"background-color: rgb(254,228,216); color:black;\">people_liable is 0 to 2</span>  <span style=\"background-color: rgb(218,232,245); color:black;\">employment_duration is 4 to 7 yrs or >= 7 yrs</span>  <span style=\"background-color: rgb(211,227,243); color:black;\">duration <= 22</span>  <span style=\"background-color: rgb(254,225,211); color:black;\">property is not car or other</span>  <span style=\"background-color: rgb(222,235,247); color:black;\">amount <= 1514</span> <b>THEN </b> reject"
      ],
      "text/plain": [
       "<IPython.core.display.HTML object>"
      ]
     },
     "metadata": {},
     "output_type": "display_data"
    },
    {
     "data": {
      "text/html": [
       "#91, 7744 <b>IF </b>  <span style=\"background-color: rgb(252,199,177); color:black;\">property is not real estate</span>  <span style=\"background-color: rgb(254,224,210); color:black;\">purpose is not furniture/equipment</span>  <span style=\"background-color: rgb(254,228,216); color:black;\">savings is not >= 1000 DM</span>  <span style=\"background-color: rgb(187,214,235); color:white;\">credit_history is all credits at this bank paid back duly</span>  <span style=\"background-color: rgb(253,212,194); color:black;\">employment_duration is not 4 to 7 yrs and >= 7 yrs</span>  <span style=\"background-color: rgb(226,237,248); color:black;\">job is not skilled</span>  <span style=\"background-color: rgb(252,205,185); color:black;\">age <= 34</span> <b>THEN </b> reject"
      ],
      "text/plain": [
       "<IPython.core.display.HTML object>"
      ]
     },
     "metadata": {},
     "output_type": "display_data"
    },
    {
     "data": {
      "text/html": [
       "#92, 3000 <b>IF </b>  <span style=\"background-color: rgb(252,192,168); color:black;\">credit_history is not all credits at this bank paid back duly</span>  <span style=\"background-color: rgb(212,228,243); color:black;\">installment_rate is not 25 to 35 and >= 35</span>  <span style=\"background-color: rgb(227,238,248); color:black;\">amount <= 9504</span>  <span style=\"background-color: rgb(253,221,206); color:black;\">number_credits is not 1</span>  <span style=\"background-color: rgb(217,231,245); color:black;\">age >= 35</span> <b>THEN </b> reject"
      ],
      "text/plain": [
       "<IPython.core.display.HTML object>"
      ]
     },
     "metadata": {},
     "output_type": "display_data"
    },
    {
     "data": {
      "text/html": [
       "#93, 2294 <b>IF </b>  <span style=\"background-color: rgb(252,194,171); color:black;\">status is not ... >= 200 DM (salary)</span>  <span style=\"background-color: rgb(253,212,194); color:black;\">other_debtors is none</span>  <span style=\"background-color: rgb(253,213,195); color:black;\">telephone is No</span>  <span style=\"background-color: rgb(254,225,211); color:black;\">property is not car or other</span>  <span style=\"background-color: rgb(203,222,240); color:black;\">duration <= 12</span>  <span style=\"background-color: rgb(254,228,216); color:black;\">savings is unknown/no savings account or < 100 DM</span>  <span style=\"background-color: rgb(226,237,248); color:black;\">present_residence is not >= 7 yrs</span>  <span style=\"background-color: rgb(218,232,245); color:black;\">employment_duration is 4 to 7 yrs or >= 7 yrs</span> <b>THEN </b> reject"
      ],
      "text/plain": [
       "<IPython.core.display.HTML object>"
      ]
     },
     "metadata": {},
     "output_type": "display_data"
    },
    {
     "data": {
      "text/html": [
       "#94, 6720 <b>IF </b>  <span style=\"background-color: rgb(252,199,177); color:black;\">property is unknown / no property</span>  <span style=\"background-color: rgb(225,236,247); color:black;\">telephone is Yes</span>  <span style=\"background-color: rgb(221,234,246); color:black;\">credit_history is not delay in paying off in the past</span>  <span style=\"background-color: rgb(226,237,248); color:black;\">purpose is not retraining</span>  <span style=\"background-color: rgb(227,238,248); color:black;\">amount <= 9790</span>  <span style=\"background-color: rgb(215,230,244); color:black;\">employment_duration is >= 7 yrs</span>  <span style=\"background-color: rgb(226,237,248); color:black;\">job is not skilled</span> <b>THEN </b> reject"
      ],
      "text/plain": [
       "<IPython.core.display.HTML object>"
      ]
     },
     "metadata": {},
     "output_type": "display_data"
    },
    {
     "data": {
      "text/html": [
       "#95, 4281 <b>IF </b>  <span style=\"background-color: rgb(253,223,209); color:black;\">property is not real estate</span>  <span style=\"background-color: rgb(254,224,210); color:black;\">job is skilled</span>  <span style=\"background-color: rgb(216,231,245); color:black;\">duration in 10 to 20</span>  <span style=\"background-color: rgb(254,225,212); color:black;\">number_credits is 2 to 3</span>  <span style=\"background-color: rgb(226,237,248); color:black;\">present_residence is not >= 7 yrs</span>  <span style=\"background-color: rgb(221,234,246); color:black;\">age >= 28</span>  <span style=\"background-color: rgb(254,228,216); color:black;\">savings is unknown/no savings account</span> <b>THEN </b> reject"
      ],
      "text/plain": [
       "<IPython.core.display.HTML object>"
      ]
     },
     "metadata": {},
     "output_type": "display_data"
    },
    {
     "data": {
      "text/html": [
       "#96, 2597 <b>IF </b>  <span style=\"background-color: rgb(253,213,195); color:black;\">telephone is No</span>  <span style=\"background-color: rgb(254,225,211); color:black;\">housing is not rent</span>  <span style=\"background-color: rgb(254,225,212); color:black;\">number_credits is 1</span>  <span style=\"background-color: rgb(225,237,248); color:black;\">property is building soc. savings agr./life insurance</span>  <span style=\"background-color: rgb(254,227,214); color:black;\">purpose is not others and furniture/equipment</span>  <span style=\"background-color: rgb(253,206,186); color:black;\">personal_status_sex is not married male</span>  <span style=\"background-color: rgb(226,237,248); color:black;\">other_installment_plans is not bank</span>  <span style=\"background-color: rgb(203,222,240); color:black;\">duration <= 13</span> <b>THEN </b> reject"
      ],
      "text/plain": [
       "<IPython.core.display.HTML object>"
      ]
     },
     "metadata": {},
     "output_type": "display_data"
    },
    {
     "data": {
      "text/html": [
       "#97, 7799 <b>IF </b>  <span style=\"background-color: rgb(226,237,248); color:black;\">other_installment_plans is not bank</span>  <span style=\"background-color: rgb(219,233,246); color:black;\">housing is own</span>  <span style=\"background-color: rgb(225,237,248); color:black;\">purpose is others</span>  <span style=\"background-color: rgb(218,232,245); color:black;\">duration <= 24</span>  <span style=\"background-color: rgb(254,224,210); color:black;\">job is skilled</span>  <span style=\"background-color: rgb(254,225,212); color:black;\">number_credits is 1</span>  <span style=\"background-color: rgb(252,199,177); color:black;\">property is not real estate</span>  <span style=\"background-color: rgb(222,235,247); color:black;\">amount <= 1500</span> <b>THEN </b> reject"
      ],
      "text/plain": [
       "<IPython.core.display.HTML object>"
      ]
     },
     "metadata": {},
     "output_type": "display_data"
    },
    {
     "data": {
      "text/html": [
       "#98, 1837 <b>IF </b>  <span style=\"background-color: rgb(252,192,168); color:black;\">credit_history is not all credits at this bank paid back duly</span>  <span style=\"background-color: rgb(253,223,209); color:black;\">number_credits is not 1</span>  <span style=\"background-color: rgb(254,228,216); color:black;\">savings is not >= 1000 DM</span>  <span style=\"background-color: rgb(253,218,202); color:black;\">property is not building soc. savings agr./life insurance</span>  <span style=\"background-color: rgb(203,222,240); color:black;\">status is not no checking account</span>  <span style=\"background-color: rgb(252,193,169); color:black;\">employment_duration is unemployed or < 1 yr</span>  <span style=\"background-color: rgb(212,228,243); color:black;\">installment_rate is not 25 to 35 and >= 35</span> <b>THEN </b> reject"
      ],
      "text/plain": [
       "<IPython.core.display.HTML object>"
      ]
     },
     "metadata": {},
     "output_type": "display_data"
    },
    {
     "data": {
      "text/html": [
       "#99, 7786 <b>IF </b>  <span style=\"background-color: rgb(226,237,248); color:black;\">other_installment_plans is not bank</span>  <span style=\"background-color: rgb(219,233,246); color:black;\">housing is own</span>  <span style=\"background-color: rgb(225,237,248); color:black;\">purpose is not repairs</span>  <span style=\"background-color: rgb(218,232,245); color:black;\">duration <= 24</span>  <span style=\"background-color: rgb(253,222,208); color:black;\">job is not unskilled and resident and skilled</span>  <span style=\"background-color: rgb(252,194,171); color:black;\">status is not ... >= 200 DM (salary)</span>  <span style=\"background-color: rgb(222,235,247); color:black;\">amount <= 1369</span> <b>THEN </b> reject"
      ],
      "text/plain": [
       "<IPython.core.display.HTML object>"
      ]
     },
     "metadata": {},
     "output_type": "display_data"
    }
   ],
   "source": [
    "for it, i in enumerate(outlier1 + outlier2):\n",
    "    display_rule(it, i)"
   ]
  },
  {
   "cell_type": "code",
   "execution_count": null,
   "metadata": {},
   "outputs": [],
   "source": [
    "res = LOCIMatrixNew(mat, r = 8, metric = 'euclidean', n_ticks=100)"
   ]
  },
  {
   "cell_type": "markdown",
   "metadata": {},
   "source": [
    "<div class=\"alert alert-info\">\n",
    "  <strong>Consistency Top 50 (20 neighbors):</strong>\n",
    "</div>"
   ]
  },
  {
   "cell_type": "code",
   "execution_count": 185,
   "metadata": {},
   "outputs": [
    {
     "data": {
      "text/html": [
       "#0, 6693 <b>IF </b>  <span style=\"background-color: rgb(253,221,206); color:black;\">employment_duration is not >= 7 yrs</span>  <span style=\"background-color: rgb(253,209,191); color:black;\">housing is not for free</span>  <span style=\"background-color: rgb(158,202,225); color:white;\">status is ... >= 200 DM (salary)</span>  <span style=\"background-color: rgb(252,172,144); color:white;\">duration >= 16</span>  <span style=\"background-color: rgb(254,224,210); color:black;\">amount >= 1523</span>  <span style=\"background-color: rgb(219,233,246); color:black;\">other_installment_plans is none</span>  <span style=\"background-color: rgb(253,222,208); color:black;\">purpose is not car (used)</span>  <span style=\"background-color: rgb(252,192,168); color:black;\">credit_history is not all credits at this bank paid back duly</span>  <span style=\"background-color: rgb(254,226,213); color:black;\">number_credits is 1</span>  <span style=\"background-color: rgb(254,228,216); color:black;\">savings is unknown/no savings account</span> <b>THEN </b> accept"
      ],
      "text/plain": [
       "<IPython.core.display.HTML object>"
      ]
     },
     "metadata": {},
     "output_type": "display_data"
    },
    {
     "data": {
      "text/html": [
       "#1, 2156 <b>IF </b>  <span style=\"background-color: rgb(254,228,216); color:black;\">people_liable is 0 to 2</span>  <span style=\"background-color: rgb(253,218,202); color:black;\">property is not building soc. savings agr./life insurance</span>  <span style=\"background-color: rgb(254,224,210); color:black;\">purpose is not furniture/equipment</span>  <span style=\"background-color: rgb(254,228,216); color:black;\">savings is >= 1000 DM</span>  <span style=\"background-color: rgb(254,224,210); color:black;\">job is skilled employee / official</span>  <span style=\"background-color: rgb(158,202,225); color:white;\">status is ... >= 200 DM (salary)</span>  <span style=\"background-color: rgb(254,225,212); color:black;\">housing is not rent</span> <b>THEN </b> accept"
      ],
      "text/plain": [
       "<IPython.core.display.HTML object>"
      ]
     },
     "metadata": {},
     "output_type": "display_data"
    },
    {
     "data": {
      "text/html": [
       "#2, 6485 <b>IF </b>  <span style=\"background-color: rgb(219,233,246); color:black;\">age >= 31</span>  <span style=\"background-color: rgb(252,192,168); color:black;\">credit_history is not all credits at this bank paid back duly</span>  <span style=\"background-color: rgb(252,193,169); color:black;\">installment_rate is not < 20 and 20 to 25</span>  <span style=\"background-color: rgb(254,224,210); color:black;\">purpose is not others</span>  <span style=\"background-color: rgb(254,228,216); color:black;\">savings is unknown/no savings account or < 100 DM</span>  <span style=\"background-color: rgb(225,236,247); color:black;\">amount <= 3201</span>  <span style=\"background-color: rgb(254,225,212); color:black;\">present_residence is >= 7 yrs</span>  <span style=\"background-color: rgb(252,205,185); color:black;\">personal_status_sex is not married male</span> <b>THEN </b> accept"
      ],
      "text/plain": [
       "<IPython.core.display.HTML object>"
      ]
     },
     "metadata": {},
     "output_type": "display_data"
    },
    {
     "data": {
      "text/html": [
       "#3, 8638 <b>IF </b>  <span style=\"background-color: rgb(221,234,246); color:black;\">purpose is furniture/equipment</span>  <span style=\"background-color: rgb(253,209,191); color:black;\">housing is not for free</span>  <span style=\"background-color: rgb(253,214,197); color:black;\">property is car or other</span>  <span style=\"background-color: rgb(252,150,119); color:white;\">duration >= 21</span>  <span style=\"background-color: rgb(253,223,209); color:black;\">credit_history is not no credits taken/all credits paid back duly</span> <b>THEN </b> accept"
      ],
      "text/plain": [
       "<IPython.core.display.HTML object>"
      ]
     },
     "metadata": {},
     "output_type": "display_data"
    },
    {
     "data": {
      "text/html": [
       "#4, 7572 <b>IF </b>  <span style=\"background-color: rgb(218,232,245); color:black;\">employment_duration is 4 to 7 yrs or >= 7 yrs</span>  <span style=\"background-color: rgb(225,237,248); color:black;\">purpose is repairs</span>  <span style=\"background-color: rgb(253,223,209); color:black;\">job is not unskilled - resident</span> <b>THEN </b> accept"
      ],
      "text/plain": [
       "<IPython.core.display.HTML object>"
      ]
     },
     "metadata": {},
     "output_type": "display_data"
    },
    {
     "data": {
      "text/html": [
       "#5, 5597 <b>IF </b>  <span style=\"background-color: rgb(254,225,212); color:black;\">housing is not rent</span>  <span style=\"background-color: rgb(221,234,246); color:black;\">property is not unknown / no property</span>  <span style=\"background-color: rgb(252,172,144); color:white;\">duration >= 15</span>  <span style=\"background-color: rgb(253,208,189); color:black;\">purpose is not others and car (new) and furniture/equipment</span>  <span style=\"background-color: rgb(254,228,216); color:black;\">people_liable is 0 to 2</span>  <span style=\"background-color: rgb(254,224,210); color:black;\">job is skilled employee / official</span>  <span style=\"background-color: rgb(253,212,194); color:black;\">employment_duration is not 4 to 7 yrs and >= 7 yrs</span>  <span style=\"background-color: rgb(158,202,225); color:white;\">status is ... >= 200 DM (salary)</span> <b>THEN </b> accept"
      ],
      "text/plain": [
       "<IPython.core.display.HTML object>"
      ]
     },
     "metadata": {},
     "output_type": "display_data"
    },
    {
     "data": {
      "text/html": [
       "#6, 9627 <b>IF </b>  <span style=\"background-color: rgb(252,192,168); color:black;\">credit_history is no credits taken/all credits paid back duly</span>  <span style=\"background-color: rgb(254,228,216); color:black;\">savings is unknown/no savings account or < 100 DM</span>  <span style=\"background-color: rgb(253,219,203); color:black;\">purpose is not furniture/equipment</span>  <span style=\"background-color: rgb(254,228,216); color:black;\">people_liable is 0 to 2</span>  <span style=\"background-color: rgb(218,232,245); color:black;\">employment_duration is 4 to 7 yrs or >= 7 yrs</span>  <span style=\"background-color: rgb(252,149,117); color:white;\">duration >= 22</span>  <span style=\"background-color: rgb(215,230,244); color:black;\">age >= 37</span> <b>THEN </b> accept"
      ],
      "text/plain": [
       "<IPython.core.display.HTML object>"
      ]
     },
     "metadata": {},
     "output_type": "display_data"
    },
    {
     "data": {
      "text/html": [
       "#7, 349 <b>IF </b>  <span style=\"background-color: rgb(253,222,208); color:black;\">number_credits is not 2 to 3</span>  <span style=\"background-color: rgb(254,224,210); color:black;\">credit_history is not no credits taken/all credits paid back duly</span>  <span style=\"background-color: rgb(158,202,225); color:white;\">status is ... >= 200 DM (salary)</span>  <span style=\"background-color: rgb(254,228,216); color:black;\">people_liable is 0 to 2</span>  <span style=\"background-color: rgb(254,228,216); color:black;\">savings is 500 to 1000 DM or >= 1000 DM</span> <b>THEN </b> accept"
      ],
      "text/plain": [
       "<IPython.core.display.HTML object>"
      ]
     },
     "metadata": {},
     "output_type": "display_data"
    },
    {
     "data": {
      "text/html": [
       "#8, 3231 <b>IF </b>  <span style=\"background-color: rgb(187,214,235); color:white;\">credit_history is all credits at this bank paid back duly</span>  <span style=\"background-color: rgb(253,212,194); color:black;\">other_debtors is none</span>  <span style=\"background-color: rgb(253,212,194); color:black;\">employment_duration is not 4 to 7 yrs and >= 7 yrs</span>  <span style=\"background-color: rgb(225,237,248); color:black;\">amount <= 4726</span>  <span style=\"background-color: rgb(254,228,216); color:black;\">people_liable is 0 to 2</span>  <span style=\"background-color: rgb(253,213,195); color:black;\">telephone is No</span>  <span style=\"background-color: rgb(216,231,245); color:black;\">installment_rate is not >= 35</span>  <span style=\"background-color: rgb(158,202,225); color:white;\">status is ... >= 200 DM (salary)</span> <b>THEN </b> accept"
      ],
      "text/plain": [
       "<IPython.core.display.HTML object>"
      ]
     },
     "metadata": {},
     "output_type": "display_data"
    },
    {
     "data": {
      "text/html": [
       "#9, 5285 <b>IF </b>  <span style=\"background-color: rgb(254,225,211); color:black;\">telephone is Yes</span>  <span style=\"background-color: rgb(254,228,216); color:black;\">savings is unknown/no savings account or < 100 DM</span>  <span style=\"background-color: rgb(227,238,248); color:black;\">purpose is not car (used) and retraining</span>  <span style=\"background-color: rgb(254,225,211); color:black;\">property is not real estate and unknown / no property</span>  <span style=\"background-color: rgb(252,176,148); color:white;\">installment_rate is >= 35</span>  <span style=\"background-color: rgb(252,195,172); color:black;\">status is not ... >= 200 DM (salary)</span> <b>THEN </b> accept"
      ],
      "text/plain": [
       "<IPython.core.display.HTML object>"
      ]
     },
     "metadata": {},
     "output_type": "display_data"
    },
    {
     "data": {
      "text/html": [
       "#10, 1176 <b>IF </b>  <span style=\"background-color: rgb(252,192,168); color:black;\">credit_history is not all credits at this bank paid back duly</span>  <span style=\"background-color: rgb(254,228,216); color:black;\">savings is unknown/no savings account or < 100 DM</span>  <span style=\"background-color: rgb(252,201,180); color:black;\">other_debtors is not guarantor</span>  <span style=\"background-color: rgb(252,178,151); color:white;\">property is not real estate and building soc. savings agr./life insurance</span>  <span style=\"background-color: rgb(254,226,213); color:black;\">number_credits is 1</span>  <span style=\"background-color: rgb(219,233,246); color:black;\">housing is own</span>  <span style=\"background-color: rgb(253,219,203); color:black;\">purpose is not furniture/equipment</span>  <span style=\"background-color: rgb(254,225,212); color:black;\">present_residence is >= 7 yrs</span> <b>THEN </b> accept"
      ],
      "text/plain": [
       "<IPython.core.display.HTML object>"
      ]
     },
     "metadata": {},
     "output_type": "display_data"
    },
    {
     "data": {
      "text/html": [
       "#11, 5421 <b>IF </b>  <span style=\"background-color: rgb(253,220,205); color:black;\">personal_status_sex is married male</span>  <span style=\"background-color: rgb(222,235,247); color:black;\">savings is 100 to 500 DM or 500 to 1000 DM</span>  <span style=\"background-color: rgb(253,214,197); color:black;\">property is car or other</span> <b>THEN </b> accept"
      ],
      "text/plain": [
       "<IPython.core.display.HTML object>"
      ]
     },
     "metadata": {},
     "output_type": "display_data"
    },
    {
     "data": {
      "text/html": [
       "#12, 5790 <b>IF </b>  <span style=\"background-color: rgb(226,237,248); color:black;\">other_installment_plans is not bank</span>  <span style=\"background-color: rgb(254,225,212); color:black;\">housing is not rent</span>  <span style=\"background-color: rgb(221,234,246); color:black;\">credit_history is all credits at this bank paid back duly</span>  <span style=\"background-color: rgb(254,228,216); color:black;\">savings is 500 to 1000 DM or >= 1000 DM</span>  <span style=\"background-color: rgb(216,231,245); color:black;\">installment_rate is not >= 35</span>  <span style=\"background-color: rgb(253,223,209); color:black;\">job is not unskilled - resident</span> <b>THEN </b> accept"
      ],
      "text/plain": [
       "<IPython.core.display.HTML object>"
      ]
     },
     "metadata": {},
     "output_type": "display_data"
    },
    {
     "data": {
      "text/html": [
       "#13, 8320 <b>IF </b>  <span style=\"background-color: rgb(254,224,210); color:black;\">job is skilled employee / official</span>  <span style=\"background-color: rgb(219,233,246); color:black;\">housing is own</span>  <span style=\"background-color: rgb(203,222,240); color:black;\">savings is not unknown/no savings account and < 100 DM</span>  <span style=\"background-color: rgb(253,218,202); color:black;\">property is not building soc. savings agr./life insurance</span>  <span style=\"background-color: rgb(212,228,243); color:black;\">purpose is furniture/equipment</span>  <span style=\"background-color: rgb(253,222,208); color:black;\">number_credits is not 2 to 3</span> <b>THEN </b> accept"
      ],
      "text/plain": [
       "<IPython.core.display.HTML object>"
      ]
     },
     "metadata": {},
     "output_type": "display_data"
    },
    {
     "data": {
      "text/html": [
       "#14, 491 <b>IF </b>  <span style=\"background-color: rgb(205,223,241); color:black;\">duration <= 15</span>  <span style=\"background-color: rgb(252,192,168); color:black;\">credit_history is no credits taken/all credits paid back duly</span>  <span style=\"background-color: rgb(222,235,247); color:black;\">amount <= 1538</span>  <span style=\"background-color: rgb(254,225,212); color:black;\">housing is not rent</span>  <span style=\"background-color: rgb(254,224,210); color:black;\">job is skilled employee / official</span>  <span style=\"background-color: rgb(253,213,195); color:black;\">telephone is No</span>  <span style=\"background-color: rgb(252,199,177); color:black;\">property is not real estate</span> <b>THEN </b> accept"
      ],
      "text/plain": [
       "<IPython.core.display.HTML object>"
      ]
     },
     "metadata": {},
     "output_type": "display_data"
    },
    {
     "data": {
      "text/html": [
       "#15, 5557 <b>IF </b>  <span style=\"background-color: rgb(252,198,175); color:black;\">savings is < 100 DM or 100 to 500 DM</span>  <span style=\"background-color: rgb(158,202,225); color:white;\">status is ... >= 200 DM (salary)</span>  <span style=\"background-color: rgb(252,164,135); color:white;\">credit_history is not existing credits paid back duly till now and all credits at this bank paid back duly</span>  <span style=\"background-color: rgb(223,235,247); color:black;\">employment_duration is not unemployed and < 1 yr</span>  <span style=\"background-color: rgb(226,237,248); color:black;\">job is not skilled employee / official</span> <b>THEN </b> accept"
      ],
      "text/plain": [
       "<IPython.core.display.HTML object>"
      ]
     },
     "metadata": {},
     "output_type": "display_data"
    },
    {
     "data": {
      "text/html": [
       "#16, 198 <b>IF </b>  <span style=\"background-color: rgb(203,222,240); color:black;\">savings is not unknown/no savings account and < 100 DM</span>  <span style=\"background-color: rgb(187,214,235); color:white;\">credit_history is all credits at this bank paid back duly</span>  <span style=\"background-color: rgb(158,202,225); color:white;\">status is ... >= 200 DM (salary)</span>  <span style=\"background-color: rgb(254,226,213); color:black;\">number_credits is 1</span> <b>THEN </b> accept"
      ],
      "text/plain": [
       "<IPython.core.display.HTML object>"
      ]
     },
     "metadata": {},
     "output_type": "display_data"
    },
    {
     "data": {
      "text/html": [
       "#17, 2123 <b>IF </b>  <span style=\"background-color: rgb(158,202,225); color:white;\">status is ... >= 200 DM (salary)</span>  <span style=\"background-color: rgb(254,224,210); color:black;\">credit_history is not existing credits paid back duly till now</span>  <span style=\"background-color: rgb(225,236,247); color:black;\">telephone is Yes</span>  <span style=\"background-color: rgb(254,224,210); color:black;\">job is skilled employee / official</span>  <span style=\"background-color: rgb(254,228,216); color:black;\">savings is >= 1000 DM</span>  <span style=\"background-color: rgb(254,226,213); color:black;\">number_credits is 1</span> <b>THEN </b> accept"
      ],
      "text/plain": [
       "<IPython.core.display.HTML object>"
      ]
     },
     "metadata": {},
     "output_type": "display_data"
    },
    {
     "data": {
      "text/html": [
       "#18, 4675 <b>IF </b>  <span style=\"background-color: rgb(226,237,248); color:black;\">other_installment_plans is not bank</span>  <span style=\"background-color: rgb(253,213,195); color:black;\">telephone is No</span>  <span style=\"background-color: rgb(252,201,180); color:black;\">other_debtors is not guarantor</span>  <span style=\"background-color: rgb(226,237,248); color:black;\">job is not skilled employee / official</span>  <span style=\"background-color: rgb(254,225,211); color:black;\">property is not car or other</span>  <span style=\"background-color: rgb(219,233,246); color:black;\">housing is own</span>  <span style=\"background-color: rgb(253,219,203); color:black;\">purpose is not furniture/equipment</span>  <span style=\"background-color: rgb(253,222,208); color:black;\">number_credits is not 1</span> <b>THEN </b> accept"
      ],
      "text/plain": [
       "<IPython.core.display.HTML object>"
      ]
     },
     "metadata": {},
     "output_type": "display_data"
    },
    {
     "data": {
      "text/html": [
       "#19, 7801 <b>IF </b>  <span style=\"background-color: rgb(226,237,248); color:black;\">other_installment_plans is not bank</span>  <span style=\"background-color: rgb(219,233,246); color:black;\">housing is own</span>  <span style=\"background-color: rgb(225,237,248); color:black;\">purpose is not repairs</span>  <span style=\"background-color: rgb(218,232,245); color:black;\">duration <= 24</span>  <span style=\"background-color: rgb(254,224,210); color:black;\">job is skilled employee / official</span>  <span style=\"background-color: rgb(254,226,213); color:black;\">number_credits is 1</span>  <span style=\"background-color: rgb(209,226,242); color:black;\">property is real estate</span>  <span style=\"background-color: rgb(225,236,247); color:black;\">telephone is Yes</span> <b>THEN </b> accept"
      ],
      "text/plain": [
       "<IPython.core.display.HTML object>"
      ]
     },
     "metadata": {},
     "output_type": "display_data"
    },
    {
     "data": {
      "text/html": [
       "#20, 9605 <b>IF </b>  <span style=\"background-color: rgb(219,233,246); color:black;\">other_installment_plans is none</span>  <span style=\"background-color: rgb(187,214,235); color:white;\">credit_history is all credits at this bank paid back duly</span>  <span style=\"background-color: rgb(225,236,247); color:black;\">job is not management/ self-employed/ highly qualified employee/ officer</span>  <span style=\"background-color: rgb(225,237,248); color:black;\">amount <= 4210</span>  <span style=\"background-color: rgb(252,182,156); color:white;\">duration >= 13</span>  <span style=\"background-color: rgb(253,222,208); color:black;\">number_credits is not 1</span>  <span style=\"background-color: rgb(226,237,248); color:black;\">present_residence is not >= 7 yrs</span>  <span style=\"background-color: rgb(252,205,185); color:black;\">personal_status_sex is not married male</span> <b>THEN </b> accept"
      ],
      "text/plain": [
       "<IPython.core.display.HTML object>"
      ]
     },
     "metadata": {},
     "output_type": "display_data"
    },
    {
     "data": {
      "text/html": [
       "#21, 9577 <b>IF </b>  <span style=\"background-color: rgb(219,233,246); color:black;\">other_installment_plans is none</span>  <span style=\"background-color: rgb(252,192,168); color:black;\">credit_history is not all credits at this bank paid back duly</span>  <span style=\"background-color: rgb(253,214,197); color:black;\">purpose is not car (used) and furniture/equipment</span>  <span style=\"background-color: rgb(254,225,212); color:black;\">housing is not rent</span>  <span style=\"background-color: rgb(254,228,216); color:black;\">savings is unknown/no savings account</span>  <span style=\"background-color: rgb(254,228,216); color:black;\">people_liable is 0 to 2</span>  <span style=\"background-color: rgb(253,218,202); color:black;\">property is not building soc. savings agr./life insurance</span>  <span style=\"background-color: rgb(252,205,185); color:black;\">personal_status_sex is not married male</span> <b>THEN </b> accept"
      ],
      "text/plain": [
       "<IPython.core.display.HTML object>"
      ]
     },
     "metadata": {},
     "output_type": "display_data"
    },
    {
     "data": {
      "text/html": [
       "#22, 5298 <b>IF </b>  <span style=\"background-color: rgb(225,236,247); color:black;\">telephone is Yes</span>  <span style=\"background-color: rgb(254,228,216); color:black;\">savings is not unknown/no savings account and < 100 DM</span>  <span style=\"background-color: rgb(219,233,246); color:black;\">housing is own</span>  <span style=\"background-color: rgb(254,228,216); color:black;\">people_liable is 0 to 2</span>  <span style=\"background-color: rgb(212,228,243); color:black;\">purpose is furniture/equipment</span> <b>THEN </b> accept"
      ],
      "text/plain": [
       "<IPython.core.display.HTML object>"
      ]
     },
     "metadata": {},
     "output_type": "display_data"
    },
    {
     "data": {
      "text/html": [
       "#23, 8759 <b>IF </b>  <span style=\"background-color: rgb(253,213,195); color:black;\">telephone is No</span>  <span style=\"background-color: rgb(158,202,225); color:white;\">status is ... >= 200 DM (salary)</span>  <span style=\"background-color: rgb(254,224,210); color:black;\">job is skilled employee / official</span>  <span style=\"background-color: rgb(219,233,246); color:black;\">housing is own</span>  <span style=\"background-color: rgb(219,233,246); color:black;\">age >= 31</span>  <span style=\"background-color: rgb(253,219,203); color:black;\">purpose is not furniture/equipment</span>  <span style=\"background-color: rgb(254,227,215); color:black;\">credit_history is no credits taken/all credits paid back duly</span> <b>THEN </b> accept"
      ],
      "text/plain": [
       "<IPython.core.display.HTML object>"
      ]
     },
     "metadata": {},
     "output_type": "display_data"
    },
    {
     "data": {
      "text/html": [
       "#24, 2448 <b>IF </b>  <span style=\"background-color: rgb(252,191,166); color:white;\">savings is unknown/no savings account or < 100 DM</span>  <span style=\"background-color: rgb(254,225,212); color:black;\">housing is not rent</span>  <span style=\"background-color: rgb(221,234,246); color:black;\">property is car or other</span>  <span style=\"background-color: rgb(212,228,243); color:black;\">purpose is furniture/equipment</span>  <span style=\"background-color: rgb(216,231,245); color:black;\">installment_rate is not >= 35</span>  <span style=\"background-color: rgb(254,227,215); color:black;\">present_residence is not < 1 yr</span> <b>THEN </b> accept"
      ],
      "text/plain": [
       "<IPython.core.display.HTML object>"
      ]
     },
     "metadata": {},
     "output_type": "display_data"
    },
    {
     "data": {
      "text/html": [
       "#25, 4189 <b>IF </b>  <span style=\"background-color: rgb(253,223,209); color:black;\">property is not unknown / no property</span>  <span style=\"background-color: rgb(254,228,216); color:black;\">savings is not unknown/no savings account and < 100 DM</span>  <span style=\"background-color: rgb(253,220,205); color:black;\">personal_status_sex is married male</span>  <span style=\"background-color: rgb(219,233,246); color:black;\">other_installment_plans is none</span>  <span style=\"background-color: rgb(225,236,247); color:black;\">telephone is Yes</span>  <span style=\"background-color: rgb(254,227,215); color:black;\">credit_history is no credits taken/all credits paid back duly</span> <b>THEN </b> accept"
      ],
      "text/plain": [
       "<IPython.core.display.HTML object>"
      ]
     },
     "metadata": {},
     "output_type": "display_data"
    },
    {
     "data": {
      "text/html": [
       "#26, 7096 <b>IF </b>  <span style=\"background-color: rgb(222,235,247); color:black;\">savings is 100 to 500 DM or 500 to 1000 DM</span>  <span style=\"background-color: rgb(226,237,248); color:black;\">present_residence is not >= 7 yrs</span>  <span style=\"background-color: rgb(252,178,151); color:white;\">property is not real estate and building soc. savings agr./life insurance</span>  <span style=\"background-color: rgb(252,193,169); color:black;\">installment_rate is not < 20 and 20 to 25</span>  <span style=\"background-color: rgb(221,234,246); color:black;\">age >= 28</span> <b>THEN </b> accept"
      ],
      "text/plain": [
       "<IPython.core.display.HTML object>"
      ]
     },
     "metadata": {},
     "output_type": "display_data"
    },
    {
     "data": {
      "text/html": [
       "#27, 7365 <b>IF </b>  <span style=\"background-color: rgb(252,191,166); color:white;\">savings is unknown/no savings account or < 100 DM</span>  <span style=\"background-color: rgb(252,192,168); color:black;\">credit_history is no credits taken/all credits paid back duly</span>  <span style=\"background-color: rgb(253,219,203); color:black;\">duration >= 8</span>  <span style=\"background-color: rgb(253,220,205); color:black;\">personal_status_sex is married male</span>  <span style=\"background-color: rgb(226,237,248); color:black;\">present_residence is not 4 to 7 yrs and >= 7 yrs</span>  <span style=\"background-color: rgb(225,236,247); color:black;\">telephone is Yes</span>  <span style=\"background-color: rgb(225,237,248); color:black;\">amount <= 4765</span> <b>THEN </b> accept"
      ],
      "text/plain": [
       "<IPython.core.display.HTML object>"
      ]
     },
     "metadata": {},
     "output_type": "display_data"
    },
    {
     "data": {
      "text/html": [
       "#28, 6956 <b>IF </b>  <span style=\"background-color: rgb(253,220,205); color:black;\">personal_status_sex is married male</span>  <span style=\"background-color: rgb(187,214,235); color:white;\">credit_history is all credits at this bank paid back duly</span>  <span style=\"background-color: rgb(176,209,231); color:white;\">purpose is car (new)</span>  <span style=\"background-color: rgb(221,234,246); color:black;\">duration <= 34</span> <b>THEN </b> accept"
      ],
      "text/plain": [
       "<IPython.core.display.HTML object>"
      ]
     },
     "metadata": {},
     "output_type": "display_data"
    },
    {
     "data": {
      "text/html": [
       "#29, 1967 <b>IF </b>  <span style=\"background-color: rgb(226,237,248); color:black;\">other_installment_plans is not bank</span>  <span style=\"background-color: rgb(254,225,212); color:black;\">housing is not rent</span>  <span style=\"background-color: rgb(254,226,213); color:black;\">number_credits is 2 to 3</span>  <span style=\"background-color: rgb(220,233,246); color:black;\">age >= 30</span>  <span style=\"background-color: rgb(187,214,235); color:white;\">credit_history is all credits at this bank paid back duly</span>  <span style=\"background-color: rgb(253,220,205); color:black;\">personal_status_sex is married male</span>  <span style=\"background-color: rgb(158,202,225); color:white;\">status is ... >= 200 DM (salary)</span>  <span style=\"background-color: rgb(253,214,197); color:black;\">property is car or other</span> <b>THEN </b> accept"
      ],
      "text/plain": [
       "<IPython.core.display.HTML object>"
      ]
     },
     "metadata": {},
     "output_type": "display_data"
    },
    {
     "data": {
      "text/html": [
       "#30, 9655 <b>IF </b>  <span style=\"background-color: rgb(187,214,235); color:white;\">credit_history is all credits at this bank paid back duly</span>  <span style=\"background-color: rgb(252,201,180); color:black;\">other_debtors is not guarantor</span>  <span style=\"background-color: rgb(253,207,188); color:black;\">duration >= 11</span>  <span style=\"background-color: rgb(225,237,248); color:black;\">purpose is not others</span>  <span style=\"background-color: rgb(158,202,225); color:white;\">status is ... >= 200 DM (salary)</span>  <span style=\"background-color: rgb(252,193,169); color:black;\">installment_rate is not < 20 and 20 to 25</span>  <span style=\"background-color: rgb(226,237,248); color:black;\">present_residence is not >= 7 yrs</span>  <span style=\"background-color: rgb(226,237,248); color:black;\">job is not skilled employee / official</span> <b>THEN </b> accept"
      ],
      "text/plain": [
       "<IPython.core.display.HTML object>"
      ]
     },
     "metadata": {},
     "output_type": "display_data"
    },
    {
     "data": {
      "text/html": [
       "#31, 6307 <b>IF </b>  <span style=\"background-color: rgb(187,214,235); color:white;\">credit_history is all credits at this bank paid back duly</span>  <span style=\"background-color: rgb(254,225,212); color:black;\">housing is not rent</span>  <span style=\"background-color: rgb(254,228,216); color:black;\">savings is >= 1000 DM</span>  <span style=\"background-color: rgb(216,231,245); color:black;\">installment_rate is not >= 35</span> <b>THEN </b> accept"
      ],
      "text/plain": [
       "<IPython.core.display.HTML object>"
      ]
     },
     "metadata": {},
     "output_type": "display_data"
    },
    {
     "data": {
      "text/html": [
       "#32, 773 <b>IF </b>  <span style=\"background-color: rgb(188,215,235); color:white;\">savings is 500 to 1000 DM or >= 1000 DM</span>  <span style=\"background-color: rgb(253,212,194); color:black;\">employment_duration is not 4 to 7 yrs and >= 7 yrs</span>  <span style=\"background-color: rgb(254,228,216); color:black;\">people_liable is 0 to 2</span>  <span style=\"background-color: rgb(219,233,246); color:black;\">housing is own</span>  <span style=\"background-color: rgb(187,214,235); color:white;\">credit_history is all credits at this bank paid back duly</span> <b>THEN </b> accept"
      ],
      "text/plain": [
       "<IPython.core.display.HTML object>"
      ]
     },
     "metadata": {},
     "output_type": "display_data"
    },
    {
     "data": {
      "text/html": [
       "#33, 5562 <b>IF </b>  <span style=\"background-color: rgb(188,215,235); color:white;\">savings is 500 to 1000 DM or >= 1000 DM</span>  <span style=\"background-color: rgb(254,225,212); color:black;\">housing is not rent</span>  <span style=\"background-color: rgb(225,237,248); color:black;\">purpose is not others</span>  <span style=\"background-color: rgb(252,205,185); color:black;\">personal_status_sex is not married male</span>  <span style=\"background-color: rgb(215,230,244); color:black;\">age >= 37</span> <b>THEN </b> accept"
      ],
      "text/plain": [
       "<IPython.core.display.HTML object>"
      ]
     },
     "metadata": {},
     "output_type": "display_data"
    },
    {
     "data": {
      "text/html": [
       "#34, 6769 <b>IF </b>  <span style=\"background-color: rgb(252,195,172); color:black;\">status is not ... >= 200 DM (salary)</span>  <span style=\"background-color: rgb(253,219,203); color:black;\">purpose is not furniture/equipment</span>  <span style=\"background-color: rgb(254,224,210); color:black;\">job is skilled employee / official</span>  <span style=\"background-color: rgb(254,228,216); color:black;\">savings is unknown/no savings account</span>  <span style=\"background-color: rgb(252,164,135); color:white;\">credit_history is no credits taken/all credits paid back duly</span>  <span style=\"background-color: rgb(253,213,195); color:black;\">telephone is No</span>  <span style=\"background-color: rgb(254,225,211); color:black;\">property is not car or other</span>  <span style=\"background-color: rgb(226,237,248); color:black;\">other_installment_plans is not bank</span> <b>THEN </b> accept"
      ],
      "text/plain": [
       "<IPython.core.display.HTML object>"
      ]
     },
     "metadata": {},
     "output_type": "display_data"
    },
    {
     "data": {
      "text/html": [
       "#35, 8411 <b>IF </b>  <span style=\"background-color: rgb(252,172,144); color:white;\">duration >= 15</span>  <span style=\"background-color: rgb(253,220,205); color:black;\">personal_status_sex is married male</span>  <span style=\"background-color: rgb(217,231,245); color:black;\">property is not car or other and unknown / no property</span>  <span style=\"background-color: rgb(252,199,177); color:black;\">age <= 31</span>  <span style=\"background-color: rgb(254,228,216); color:black;\">savings is unknown/no savings account or < 100 DM</span>  <span style=\"background-color: rgb(226,237,248); color:black;\">present_residence is not 4 to 7 yrs and >= 7 yrs</span> <b>THEN </b> accept"
      ],
      "text/plain": [
       "<IPython.core.display.HTML object>"
      ]
     },
     "metadata": {},
     "output_type": "display_data"
    },
    {
     "data": {
      "text/html": [
       "#36, 6198 <b>IF </b>  <span style=\"background-color: rgb(187,214,235); color:white;\">credit_history is all credits at this bank paid back duly</span>  <span style=\"background-color: rgb(226,237,248); color:black;\">other_installment_plans is not bank</span>  <span style=\"background-color: rgb(215,230,244); color:black;\">employment_duration is >= 7 yrs</span>  <span style=\"background-color: rgb(254,225,211); color:black;\">property is not car or other</span>  <span style=\"background-color: rgb(254,228,216); color:black;\">savings is unknown/no savings account</span>  <span style=\"background-color: rgb(253,222,208); color:black;\">number_credits is not 2 to 3</span> <b>THEN </b> accept"
      ],
      "text/plain": [
       "<IPython.core.display.HTML object>"
      ]
     },
     "metadata": {},
     "output_type": "display_data"
    },
    {
     "data": {
      "text/html": [
       "#37, 5475 <b>IF </b>  <span style=\"background-color: rgb(252,191,166); color:white;\">savings is unknown/no savings account or < 100 DM</span>  <span style=\"background-color: rgb(225,236,247); color:black;\">telephone is Yes</span>  <span style=\"background-color: rgb(252,175,147); color:white;\">status is not 0 to 200 DM and ... >= 200 DM (salary)</span>  <span style=\"background-color: rgb(253,222,208); color:black;\">purpose is not car (used)</span>  <span style=\"background-color: rgb(252,192,168); color:black;\">credit_history is no credits taken/all credits paid back duly</span>  <span style=\"background-color: rgb(254,226,213); color:black;\">number_credits is 1</span>  <span style=\"background-color: rgb(253,209,191); color:black;\">housing is not for free</span> <b>THEN </b> accept"
      ],
      "text/plain": [
       "<IPython.core.display.HTML object>"
      ]
     },
     "metadata": {},
     "output_type": "display_data"
    },
    {
     "data": {
      "text/html": [
       "#38, 4708 <b>IF </b>  <span style=\"background-color: rgb(253,208,189); color:black;\">other_installment_plans is not bank</span>  <span style=\"background-color: rgb(225,236,247); color:black;\">telephone is Yes</span>  <span style=\"background-color: rgb(254,228,216); color:black;\">savings is not unknown/no savings account</span>  <span style=\"background-color: rgb(226,237,248); color:black;\">job is not skilled employee / official</span>  <span style=\"background-color: rgb(216,231,245); color:black;\">installment_rate is not >= 35</span> <b>THEN </b> accept"
      ],
      "text/plain": [
       "<IPython.core.display.HTML object>"
      ]
     },
     "metadata": {},
     "output_type": "display_data"
    },
    {
     "data": {
      "text/html": [
       "#39, 2609 <b>IF </b>  <span style=\"background-color: rgb(225,236,247); color:black;\">telephone is Yes</span>  <span style=\"background-color: rgb(225,237,248); color:black;\">amount <= 3939</span>  <span style=\"background-color: rgb(223,235,247); color:black;\">job is not skilled employee / official and management/ self-employed/ highly qualified employee/ officer</span>  <span style=\"background-color: rgb(253,222,208); color:black;\">purpose is not car (used)</span> <b>THEN </b> accept"
      ],
      "text/plain": [
       "<IPython.core.display.HTML object>"
      ]
     },
     "metadata": {},
     "output_type": "display_data"
    },
    {
     "data": {
      "text/html": [
       "#40, 3115 <b>IF </b>  <span style=\"background-color: rgb(252,195,172); color:black;\">status is not ... >= 200 DM (salary)</span>  <span style=\"background-color: rgb(254,227,215); color:black;\">amount >= 599</span>  <span style=\"background-color: rgb(253,207,188); color:black;\">duration >= 11</span>  <span style=\"background-color: rgb(252,192,168); color:black;\">credit_history is not all credits at this bank paid back duly</span>  <span style=\"background-color: rgb(225,236,247); color:black;\">telephone is Yes</span>  <span style=\"background-color: rgb(253,207,188); color:black;\">other_installment_plans is not stores</span>  <span style=\"background-color: rgb(254,225,212); color:black;\">housing is not rent</span>  <span style=\"background-color: rgb(253,212,194); color:black;\">employment_duration is not 4 to 7 yrs and >= 7 yrs</span>  <span style=\"background-color: rgb(226,237,248); color:black;\">present_residence is not 4 to 7 yrs and >= 7 yrs</span> <b>THEN </b> accept"
      ],
      "text/plain": [
       "<IPython.core.display.HTML object>"
      ]
     },
     "metadata": {},
     "output_type": "display_data"
    },
    {
     "data": {
      "text/html": [
       "#41, 5771 <b>IF </b>  <span style=\"background-color: rgb(226,237,248); color:black;\">other_installment_plans is not bank</span>  <span style=\"background-color: rgb(254,225,212); color:black;\">housing is not rent</span>  <span style=\"background-color: rgb(252,192,168); color:black;\">credit_history is not delay in paying off in the past and all credits at this bank paid back duly</span>  <span style=\"background-color: rgb(254,228,216); color:black;\">savings is not 500 to 1000 DM and >= 1000 DM</span>  <span style=\"background-color: rgb(252,199,177); color:black;\">property is building soc. savings agr./life insurance</span>  <span style=\"background-color: rgb(253,220,205); color:black;\">duration >= 6</span>  <span style=\"background-color: rgb(253,214,197); color:black;\">purpose is not car (used) and furniture/equipment</span> <b>THEN </b> accept"
      ],
      "text/plain": [
       "<IPython.core.display.HTML object>"
      ]
     },
     "metadata": {},
     "output_type": "display_data"
    },
    {
     "data": {
      "text/html": [
       "#42, 7574 <b>IF </b>  <span style=\"background-color: rgb(223,235,247); color:black;\">employment_duration is not unemployed and < 1 yr</span>  <span style=\"background-color: rgb(251,127,95); color:white;\">purpose is others</span>  <span style=\"background-color: rgb(252,195,172); color:black;\">status is not ... >= 200 DM (salary)</span>  <span style=\"background-color: rgb(212,228,243); color:black;\">installment_rate is not 25 to 35 and >= 35</span>  <span style=\"background-color: rgb(224,236,247); color:black;\">amount <= 2777</span> <b>THEN </b> accept"
      ],
      "text/plain": [
       "<IPython.core.display.HTML object>"
      ]
     },
     "metadata": {},
     "output_type": "display_data"
    },
    {
     "data": {
      "text/html": [
       "#43, 4816 <b>IF </b>  <span style=\"background-color: rgb(221,234,246); color:black;\">property is not unknown / no property</span>  <span style=\"background-color: rgb(225,236,247); color:black;\">job is not management/ self-employed/ highly qualified employee/ officer</span>  <span style=\"background-color: rgb(252,192,168); color:black;\">credit_history is not all credits at this bank paid back duly</span>  <span style=\"background-color: rgb(254,228,216); color:black;\">savings is unknown/no savings account or < 100 DM</span>  <span style=\"background-color: rgb(252,195,172); color:black;\">status is not ... >= 200 DM (salary)</span>  <span style=\"background-color: rgb(253,212,194); color:black;\">other_debtors is none</span>  <span style=\"background-color: rgb(254,227,215); color:black;\">present_residence is not < 1 yr</span>  <span style=\"background-color: rgb(225,236,247); color:black;\">telephone is Yes</span>  <span style=\"background-color: rgb(254,225,212); color:black;\">housing is not rent</span> <b>THEN </b> accept"
      ],
      "text/plain": [
       "<IPython.core.display.HTML object>"
      ]
     },
     "metadata": {},
     "output_type": "display_data"
    },
    {
     "data": {
      "text/html": [
       "#44, 2636 <b>IF </b>  <span style=\"background-color: rgb(252,195,172); color:black;\">status is not ... >= 200 DM (salary)</span>  <span style=\"background-color: rgb(253,219,203); color:black;\">purpose is not furniture/equipment</span>  <span style=\"background-color: rgb(253,218,202); color:black;\">property is not building soc. savings agr./life insurance</span>  <span style=\"background-color: rgb(253,220,205); color:black;\">personal_status_sex is married male</span>  <span style=\"background-color: rgb(226,237,248); color:black;\">present_residence is not 4 to 7 yrs and >= 7 yrs</span>  <span style=\"background-color: rgb(253,223,209); color:black;\">job is not unskilled - resident</span>  <span style=\"background-color: rgb(252,176,148); color:white;\">installment_rate is >= 35</span> <b>THEN </b> accept"
      ],
      "text/plain": [
       "<IPython.core.display.HTML object>"
      ]
     },
     "metadata": {},
     "output_type": "display_data"
    },
    {
     "data": {
      "text/html": [
       "#45, 3151 <b>IF </b>  <span style=\"background-color: rgb(252,192,168); color:black;\">credit_history is not all credits at this bank paid back duly</span>  <span style=\"background-color: rgb(252,205,185); color:black;\">personal_status_sex is not married male</span>  <span style=\"background-color: rgb(253,223,209); color:black;\">property is not building soc. savings agr./life insurance</span>  <span style=\"background-color: rgb(254,228,216); color:black;\">savings is not 500 to 1000 DM and >= 1000 DM</span>  <span style=\"background-color: rgb(225,236,247); color:black;\">telephone is Yes</span>  <span style=\"background-color: rgb(254,226,213); color:black;\">number_credits is 1</span>  <span style=\"background-color: rgb(212,228,243); color:black;\">installment_rate is not 25 to 35 and >= 35</span> <b>THEN </b> accept"
      ],
      "text/plain": [
       "<IPython.core.display.HTML object>"
      ]
     },
     "metadata": {},
     "output_type": "display_data"
    },
    {
     "data": {
      "text/html": [
       "#46, 369 <b>IF </b>  <span style=\"background-color: rgb(253,223,209); color:black;\">number_credits is not 2 to 3</span>  <span style=\"background-color: rgb(254,227,215); color:black;\">credit_history is no credits taken/all credits paid back duly</span>  <span style=\"background-color: rgb(254,228,216); color:black;\">savings is 100 to 500 DM</span>  <span style=\"background-color: rgb(225,237,248); color:black;\">purpose is not others</span>  <span style=\"background-color: rgb(158,202,225); color:white;\">status is ... >= 200 DM (salary)</span> <b>THEN </b> accept"
      ],
      "text/plain": [
       "<IPython.core.display.HTML object>"
      ]
     },
     "metadata": {},
     "output_type": "display_data"
    },
    {
     "data": {
      "text/html": [
       "#47, 3900 <b>IF </b>  <span style=\"background-color: rgb(252,172,144); color:white;\">duration >= 15</span>  <span style=\"background-color: rgb(254,225,212); color:black;\">housing is not rent</span>  <span style=\"background-color: rgb(225,236,247); color:black;\">telephone is Yes</span>  <span style=\"background-color: rgb(253,218,202); color:black;\">installment_rate is not < 20</span>  <span style=\"background-color: rgb(221,234,246); color:black;\">age >= 28</span>  <span style=\"background-color: rgb(254,225,211); color:black;\">property is not car or other</span>  <span style=\"background-color: rgb(254,228,216); color:black;\">people_liable is 0 to 2</span>  <span style=\"background-color: rgb(253,223,209); color:black;\">credit_history is not no credits taken/all credits paid back duly</span>  <span style=\"background-color: rgb(253,214,197); color:black;\">amount >= 4193</span> <b>THEN </b> accept"
      ],
      "text/plain": [
       "<IPython.core.display.HTML object>"
      ]
     },
     "metadata": {},
     "output_type": "display_data"
    },
    {
     "data": {
      "text/html": [
       "#48, 4368 <b>IF </b>  <span style=\"background-color: rgb(253,213,195); color:black;\">telephone is No</span>  <span style=\"background-color: rgb(253,214,197); color:black;\">property is car or other</span>  <span style=\"background-color: rgb(254,224,210); color:black;\">credit_history is not all credits at this bank paid back duly</span>  <span style=\"background-color: rgb(219,233,246); color:black;\">housing is own</span>  <span style=\"background-color: rgb(254,228,216); color:black;\">savings is not unknown/no savings account</span>  <span style=\"background-color: rgb(212,228,243); color:black;\">purpose is furniture/equipment</span> <b>THEN </b> accept"
      ],
      "text/plain": [
       "<IPython.core.display.HTML object>"
      ]
     },
     "metadata": {},
     "output_type": "display_data"
    },
    {
     "data": {
      "text/html": [
       "#49, 7036 <b>IF </b>  <span style=\"background-color: rgb(254,225,211); color:black;\">telephone is No</span>  <span style=\"background-color: rgb(254,224,210); color:black;\">job is skilled employee / official</span>  <span style=\"background-color: rgb(219,233,246); color:black;\">housing is own</span>  <span style=\"background-color: rgb(253,218,202); color:black;\">installment_rate is not < 20</span>  <span style=\"background-color: rgb(212,228,243); color:black;\">purpose is furniture/equipment</span>  <span style=\"background-color: rgb(254,226,213); color:black;\">number_credits is 1</span>  <span style=\"background-color: rgb(254,228,216); color:black;\">savings is not unknown/no savings account</span> <b>THEN </b> accept"
      ],
      "text/plain": [
       "<IPython.core.display.HTML object>"
      ]
     },
     "metadata": {},
     "output_type": "display_data"
    }
   ],
   "source": [
    "r = np.mean(res.sorted_dist[:, 20])\n",
    "ret20 = res.check_consistency(r, [p['output'] for p in paths])\n",
    "idx20 = np.array(ret20).argsort()[:50]\n",
    "for it, i in enumerate(idx20):\n",
    "    display_rule(it, i) "
   ]
  },
  {
   "cell_type": "markdown",
   "metadata": {},
   "source": [
    "<div class=\"alert alert-info\">\n",
    "  <strong>Consistency Top 50 (50 neighbors):</strong>\n",
    "</div>"
   ]
  },
  {
   "cell_type": "code",
   "execution_count": 186,
   "metadata": {},
   "outputs": [
    {
     "data": {
      "text/html": [
       "#0, 6693 <b>IF </b>  <span style=\"background-color: rgb(253,221,206); color:black;\">employment_duration is not >= 7 yrs</span>  <span style=\"background-color: rgb(253,209,191); color:black;\">housing is not for free</span>  <span style=\"background-color: rgb(158,202,225); color:white;\">status is ... >= 200 DM (salary)</span>  <span style=\"background-color: rgb(252,172,144); color:white;\">duration >= 16</span>  <span style=\"background-color: rgb(254,224,210); color:black;\">amount >= 1523</span>  <span style=\"background-color: rgb(219,233,246); color:black;\">other_installment_plans is none</span>  <span style=\"background-color: rgb(253,222,208); color:black;\">purpose is not car (used)</span>  <span style=\"background-color: rgb(252,192,168); color:black;\">credit_history is not all credits at this bank paid back duly</span>  <span style=\"background-color: rgb(254,226,213); color:black;\">number_credits is 1</span>  <span style=\"background-color: rgb(254,228,216); color:black;\">savings is unknown/no savings account</span> <b>THEN </b> accept"
      ],
      "text/plain": [
       "<IPython.core.display.HTML object>"
      ]
     },
     "metadata": {},
     "output_type": "display_data"
    },
    {
     "data": {
      "text/html": [
       "#1, 2156 <b>IF </b>  <span style=\"background-color: rgb(254,228,216); color:black;\">people_liable is 0 to 2</span>  <span style=\"background-color: rgb(253,218,202); color:black;\">property is not building soc. savings agr./life insurance</span>  <span style=\"background-color: rgb(254,224,210); color:black;\">purpose is not furniture/equipment</span>  <span style=\"background-color: rgb(254,228,216); color:black;\">savings is >= 1000 DM</span>  <span style=\"background-color: rgb(254,224,210); color:black;\">job is skilled employee / official</span>  <span style=\"background-color: rgb(158,202,225); color:white;\">status is ... >= 200 DM (salary)</span>  <span style=\"background-color: rgb(254,225,212); color:black;\">housing is not rent</span> <b>THEN </b> accept"
      ],
      "text/plain": [
       "<IPython.core.display.HTML object>"
      ]
     },
     "metadata": {},
     "output_type": "display_data"
    },
    {
     "data": {
      "text/html": [
       "#2, 6485 <b>IF </b>  <span style=\"background-color: rgb(219,233,246); color:black;\">age >= 31</span>  <span style=\"background-color: rgb(252,192,168); color:black;\">credit_history is not all credits at this bank paid back duly</span>  <span style=\"background-color: rgb(252,193,169); color:black;\">installment_rate is not < 20 and 20 to 25</span>  <span style=\"background-color: rgb(254,224,210); color:black;\">purpose is not others</span>  <span style=\"background-color: rgb(254,228,216); color:black;\">savings is unknown/no savings account or < 100 DM</span>  <span style=\"background-color: rgb(225,236,247); color:black;\">amount <= 3201</span>  <span style=\"background-color: rgb(254,225,212); color:black;\">present_residence is >= 7 yrs</span>  <span style=\"background-color: rgb(252,205,185); color:black;\">personal_status_sex is not married male</span> <b>THEN </b> accept"
      ],
      "text/plain": [
       "<IPython.core.display.HTML object>"
      ]
     },
     "metadata": {},
     "output_type": "display_data"
    },
    {
     "data": {
      "text/html": [
       "#3, 8638 <b>IF </b>  <span style=\"background-color: rgb(221,234,246); color:black;\">purpose is furniture/equipment</span>  <span style=\"background-color: rgb(253,209,191); color:black;\">housing is not for free</span>  <span style=\"background-color: rgb(253,214,197); color:black;\">property is car or other</span>  <span style=\"background-color: rgb(252,150,119); color:white;\">duration >= 21</span>  <span style=\"background-color: rgb(253,223,209); color:black;\">credit_history is not no credits taken/all credits paid back duly</span> <b>THEN </b> accept"
      ],
      "text/plain": [
       "<IPython.core.display.HTML object>"
      ]
     },
     "metadata": {},
     "output_type": "display_data"
    },
    {
     "data": {
      "text/html": [
       "#4, 7572 <b>IF </b>  <span style=\"background-color: rgb(218,232,245); color:black;\">employment_duration is 4 to 7 yrs or >= 7 yrs</span>  <span style=\"background-color: rgb(225,237,248); color:black;\">purpose is repairs</span>  <span style=\"background-color: rgb(253,223,209); color:black;\">job is not unskilled - resident</span> <b>THEN </b> accept"
      ],
      "text/plain": [
       "<IPython.core.display.HTML object>"
      ]
     },
     "metadata": {},
     "output_type": "display_data"
    },
    {
     "data": {
      "text/html": [
       "#5, 5597 <b>IF </b>  <span style=\"background-color: rgb(254,225,212); color:black;\">housing is not rent</span>  <span style=\"background-color: rgb(221,234,246); color:black;\">property is not unknown / no property</span>  <span style=\"background-color: rgb(252,172,144); color:white;\">duration >= 15</span>  <span style=\"background-color: rgb(253,208,189); color:black;\">purpose is not others and car (new) and furniture/equipment</span>  <span style=\"background-color: rgb(254,228,216); color:black;\">people_liable is 0 to 2</span>  <span style=\"background-color: rgb(254,224,210); color:black;\">job is skilled employee / official</span>  <span style=\"background-color: rgb(253,212,194); color:black;\">employment_duration is not 4 to 7 yrs and >= 7 yrs</span>  <span style=\"background-color: rgb(158,202,225); color:white;\">status is ... >= 200 DM (salary)</span> <b>THEN </b> accept"
      ],
      "text/plain": [
       "<IPython.core.display.HTML object>"
      ]
     },
     "metadata": {},
     "output_type": "display_data"
    },
    {
     "data": {
      "text/html": [
       "#6, 9627 <b>IF </b>  <span style=\"background-color: rgb(252,192,168); color:black;\">credit_history is no credits taken/all credits paid back duly</span>  <span style=\"background-color: rgb(254,228,216); color:black;\">savings is unknown/no savings account or < 100 DM</span>  <span style=\"background-color: rgb(253,219,203); color:black;\">purpose is not furniture/equipment</span>  <span style=\"background-color: rgb(254,228,216); color:black;\">people_liable is 0 to 2</span>  <span style=\"background-color: rgb(218,232,245); color:black;\">employment_duration is 4 to 7 yrs or >= 7 yrs</span>  <span style=\"background-color: rgb(252,149,117); color:white;\">duration >= 22</span>  <span style=\"background-color: rgb(215,230,244); color:black;\">age >= 37</span> <b>THEN </b> accept"
      ],
      "text/plain": [
       "<IPython.core.display.HTML object>"
      ]
     },
     "metadata": {},
     "output_type": "display_data"
    },
    {
     "data": {
      "text/html": [
       "#7, 349 <b>IF </b>  <span style=\"background-color: rgb(253,222,208); color:black;\">number_credits is not 2 to 3</span>  <span style=\"background-color: rgb(254,224,210); color:black;\">credit_history is not no credits taken/all credits paid back duly</span>  <span style=\"background-color: rgb(158,202,225); color:white;\">status is ... >= 200 DM (salary)</span>  <span style=\"background-color: rgb(254,228,216); color:black;\">people_liable is 0 to 2</span>  <span style=\"background-color: rgb(254,228,216); color:black;\">savings is 500 to 1000 DM or >= 1000 DM</span> <b>THEN </b> accept"
      ],
      "text/plain": [
       "<IPython.core.display.HTML object>"
      ]
     },
     "metadata": {},
     "output_type": "display_data"
    },
    {
     "data": {
      "text/html": [
       "#8, 3231 <b>IF </b>  <span style=\"background-color: rgb(187,214,235); color:white;\">credit_history is all credits at this bank paid back duly</span>  <span style=\"background-color: rgb(253,212,194); color:black;\">other_debtors is none</span>  <span style=\"background-color: rgb(253,212,194); color:black;\">employment_duration is not 4 to 7 yrs and >= 7 yrs</span>  <span style=\"background-color: rgb(225,237,248); color:black;\">amount <= 4726</span>  <span style=\"background-color: rgb(254,228,216); color:black;\">people_liable is 0 to 2</span>  <span style=\"background-color: rgb(253,213,195); color:black;\">telephone is No</span>  <span style=\"background-color: rgb(216,231,245); color:black;\">installment_rate is not >= 35</span>  <span style=\"background-color: rgb(158,202,225); color:white;\">status is ... >= 200 DM (salary)</span> <b>THEN </b> accept"
      ],
      "text/plain": [
       "<IPython.core.display.HTML object>"
      ]
     },
     "metadata": {},
     "output_type": "display_data"
    },
    {
     "data": {
      "text/html": [
       "#9, 5285 <b>IF </b>  <span style=\"background-color: rgb(254,225,211); color:black;\">telephone is Yes</span>  <span style=\"background-color: rgb(254,228,216); color:black;\">savings is unknown/no savings account or < 100 DM</span>  <span style=\"background-color: rgb(227,238,248); color:black;\">purpose is not car (used) and retraining</span>  <span style=\"background-color: rgb(254,225,211); color:black;\">property is not real estate and unknown / no property</span>  <span style=\"background-color: rgb(252,176,148); color:white;\">installment_rate is >= 35</span>  <span style=\"background-color: rgb(252,195,172); color:black;\">status is not ... >= 200 DM (salary)</span> <b>THEN </b> accept"
      ],
      "text/plain": [
       "<IPython.core.display.HTML object>"
      ]
     },
     "metadata": {},
     "output_type": "display_data"
    },
    {
     "data": {
      "text/html": [
       "#10, 1176 <b>IF </b>  <span style=\"background-color: rgb(252,192,168); color:black;\">credit_history is not all credits at this bank paid back duly</span>  <span style=\"background-color: rgb(254,228,216); color:black;\">savings is unknown/no savings account or < 100 DM</span>  <span style=\"background-color: rgb(252,201,180); color:black;\">other_debtors is not guarantor</span>  <span style=\"background-color: rgb(252,178,151); color:white;\">property is not real estate and building soc. savings agr./life insurance</span>  <span style=\"background-color: rgb(254,226,213); color:black;\">number_credits is 1</span>  <span style=\"background-color: rgb(219,233,246); color:black;\">housing is own</span>  <span style=\"background-color: rgb(253,219,203); color:black;\">purpose is not furniture/equipment</span>  <span style=\"background-color: rgb(254,225,212); color:black;\">present_residence is >= 7 yrs</span> <b>THEN </b> accept"
      ],
      "text/plain": [
       "<IPython.core.display.HTML object>"
      ]
     },
     "metadata": {},
     "output_type": "display_data"
    },
    {
     "data": {
      "text/html": [
       "#11, 5421 <b>IF </b>  <span style=\"background-color: rgb(253,220,205); color:black;\">personal_status_sex is married male</span>  <span style=\"background-color: rgb(222,235,247); color:black;\">savings is 100 to 500 DM or 500 to 1000 DM</span>  <span style=\"background-color: rgb(253,214,197); color:black;\">property is car or other</span> <b>THEN </b> accept"
      ],
      "text/plain": [
       "<IPython.core.display.HTML object>"
      ]
     },
     "metadata": {},
     "output_type": "display_data"
    },
    {
     "data": {
      "text/html": [
       "#12, 5790 <b>IF </b>  <span style=\"background-color: rgb(226,237,248); color:black;\">other_installment_plans is not bank</span>  <span style=\"background-color: rgb(254,225,212); color:black;\">housing is not rent</span>  <span style=\"background-color: rgb(221,234,246); color:black;\">credit_history is all credits at this bank paid back duly</span>  <span style=\"background-color: rgb(254,228,216); color:black;\">savings is 500 to 1000 DM or >= 1000 DM</span>  <span style=\"background-color: rgb(216,231,245); color:black;\">installment_rate is not >= 35</span>  <span style=\"background-color: rgb(253,223,209); color:black;\">job is not unskilled - resident</span> <b>THEN </b> accept"
      ],
      "text/plain": [
       "<IPython.core.display.HTML object>"
      ]
     },
     "metadata": {},
     "output_type": "display_data"
    },
    {
     "data": {
      "text/html": [
       "#13, 8320 <b>IF </b>  <span style=\"background-color: rgb(254,224,210); color:black;\">job is skilled employee / official</span>  <span style=\"background-color: rgb(219,233,246); color:black;\">housing is own</span>  <span style=\"background-color: rgb(203,222,240); color:black;\">savings is not unknown/no savings account and < 100 DM</span>  <span style=\"background-color: rgb(253,218,202); color:black;\">property is not building soc. savings agr./life insurance</span>  <span style=\"background-color: rgb(212,228,243); color:black;\">purpose is furniture/equipment</span>  <span style=\"background-color: rgb(253,222,208); color:black;\">number_credits is not 2 to 3</span> <b>THEN </b> accept"
      ],
      "text/plain": [
       "<IPython.core.display.HTML object>"
      ]
     },
     "metadata": {},
     "output_type": "display_data"
    },
    {
     "data": {
      "text/html": [
       "#14, 491 <b>IF </b>  <span style=\"background-color: rgb(205,223,241); color:black;\">duration <= 15</span>  <span style=\"background-color: rgb(252,192,168); color:black;\">credit_history is no credits taken/all credits paid back duly</span>  <span style=\"background-color: rgb(222,235,247); color:black;\">amount <= 1538</span>  <span style=\"background-color: rgb(254,225,212); color:black;\">housing is not rent</span>  <span style=\"background-color: rgb(254,224,210); color:black;\">job is skilled employee / official</span>  <span style=\"background-color: rgb(253,213,195); color:black;\">telephone is No</span>  <span style=\"background-color: rgb(252,199,177); color:black;\">property is not real estate</span> <b>THEN </b> accept"
      ],
      "text/plain": [
       "<IPython.core.display.HTML object>"
      ]
     },
     "metadata": {},
     "output_type": "display_data"
    },
    {
     "data": {
      "text/html": [
       "#15, 5557 <b>IF </b>  <span style=\"background-color: rgb(252,198,175); color:black;\">savings is < 100 DM or 100 to 500 DM</span>  <span style=\"background-color: rgb(158,202,225); color:white;\">status is ... >= 200 DM (salary)</span>  <span style=\"background-color: rgb(252,164,135); color:white;\">credit_history is not existing credits paid back duly till now and all credits at this bank paid back duly</span>  <span style=\"background-color: rgb(223,235,247); color:black;\">employment_duration is not unemployed and < 1 yr</span>  <span style=\"background-color: rgb(226,237,248); color:black;\">job is not skilled employee / official</span> <b>THEN </b> accept"
      ],
      "text/plain": [
       "<IPython.core.display.HTML object>"
      ]
     },
     "metadata": {},
     "output_type": "display_data"
    },
    {
     "data": {
      "text/html": [
       "#16, 198 <b>IF </b>  <span style=\"background-color: rgb(203,222,240); color:black;\">savings is not unknown/no savings account and < 100 DM</span>  <span style=\"background-color: rgb(187,214,235); color:white;\">credit_history is all credits at this bank paid back duly</span>  <span style=\"background-color: rgb(158,202,225); color:white;\">status is ... >= 200 DM (salary)</span>  <span style=\"background-color: rgb(254,226,213); color:black;\">number_credits is 1</span> <b>THEN </b> accept"
      ],
      "text/plain": [
       "<IPython.core.display.HTML object>"
      ]
     },
     "metadata": {},
     "output_type": "display_data"
    },
    {
     "data": {
      "text/html": [
       "#17, 2123 <b>IF </b>  <span style=\"background-color: rgb(158,202,225); color:white;\">status is ... >= 200 DM (salary)</span>  <span style=\"background-color: rgb(254,224,210); color:black;\">credit_history is not existing credits paid back duly till now</span>  <span style=\"background-color: rgb(225,236,247); color:black;\">telephone is Yes</span>  <span style=\"background-color: rgb(254,224,210); color:black;\">job is skilled employee / official</span>  <span style=\"background-color: rgb(254,228,216); color:black;\">savings is >= 1000 DM</span>  <span style=\"background-color: rgb(254,226,213); color:black;\">number_credits is 1</span> <b>THEN </b> accept"
      ],
      "text/plain": [
       "<IPython.core.display.HTML object>"
      ]
     },
     "metadata": {},
     "output_type": "display_data"
    },
    {
     "data": {
      "text/html": [
       "#18, 4675 <b>IF </b>  <span style=\"background-color: rgb(226,237,248); color:black;\">other_installment_plans is not bank</span>  <span style=\"background-color: rgb(253,213,195); color:black;\">telephone is No</span>  <span style=\"background-color: rgb(252,201,180); color:black;\">other_debtors is not guarantor</span>  <span style=\"background-color: rgb(226,237,248); color:black;\">job is not skilled employee / official</span>  <span style=\"background-color: rgb(254,225,211); color:black;\">property is not car or other</span>  <span style=\"background-color: rgb(219,233,246); color:black;\">housing is own</span>  <span style=\"background-color: rgb(253,219,203); color:black;\">purpose is not furniture/equipment</span>  <span style=\"background-color: rgb(253,222,208); color:black;\">number_credits is not 1</span> <b>THEN </b> accept"
      ],
      "text/plain": [
       "<IPython.core.display.HTML object>"
      ]
     },
     "metadata": {},
     "output_type": "display_data"
    },
    {
     "data": {
      "text/html": [
       "#19, 7801 <b>IF </b>  <span style=\"background-color: rgb(226,237,248); color:black;\">other_installment_plans is not bank</span>  <span style=\"background-color: rgb(219,233,246); color:black;\">housing is own</span>  <span style=\"background-color: rgb(225,237,248); color:black;\">purpose is not repairs</span>  <span style=\"background-color: rgb(218,232,245); color:black;\">duration <= 24</span>  <span style=\"background-color: rgb(254,224,210); color:black;\">job is skilled employee / official</span>  <span style=\"background-color: rgb(254,226,213); color:black;\">number_credits is 1</span>  <span style=\"background-color: rgb(209,226,242); color:black;\">property is real estate</span>  <span style=\"background-color: rgb(225,236,247); color:black;\">telephone is Yes</span> <b>THEN </b> accept"
      ],
      "text/plain": [
       "<IPython.core.display.HTML object>"
      ]
     },
     "metadata": {},
     "output_type": "display_data"
    },
    {
     "data": {
      "text/html": [
       "#20, 9605 <b>IF </b>  <span style=\"background-color: rgb(219,233,246); color:black;\">other_installment_plans is none</span>  <span style=\"background-color: rgb(187,214,235); color:white;\">credit_history is all credits at this bank paid back duly</span>  <span style=\"background-color: rgb(225,236,247); color:black;\">job is not management/ self-employed/ highly qualified employee/ officer</span>  <span style=\"background-color: rgb(225,237,248); color:black;\">amount <= 4210</span>  <span style=\"background-color: rgb(252,182,156); color:white;\">duration >= 13</span>  <span style=\"background-color: rgb(253,222,208); color:black;\">number_credits is not 1</span>  <span style=\"background-color: rgb(226,237,248); color:black;\">present_residence is not >= 7 yrs</span>  <span style=\"background-color: rgb(252,205,185); color:black;\">personal_status_sex is not married male</span> <b>THEN </b> accept"
      ],
      "text/plain": [
       "<IPython.core.display.HTML object>"
      ]
     },
     "metadata": {},
     "output_type": "display_data"
    },
    {
     "data": {
      "text/html": [
       "#21, 9577 <b>IF </b>  <span style=\"background-color: rgb(219,233,246); color:black;\">other_installment_plans is none</span>  <span style=\"background-color: rgb(252,192,168); color:black;\">credit_history is not all credits at this bank paid back duly</span>  <span style=\"background-color: rgb(253,214,197); color:black;\">purpose is not car (used) and furniture/equipment</span>  <span style=\"background-color: rgb(254,225,212); color:black;\">housing is not rent</span>  <span style=\"background-color: rgb(254,228,216); color:black;\">savings is unknown/no savings account</span>  <span style=\"background-color: rgb(254,228,216); color:black;\">people_liable is 0 to 2</span>  <span style=\"background-color: rgb(253,218,202); color:black;\">property is not building soc. savings agr./life insurance</span>  <span style=\"background-color: rgb(252,205,185); color:black;\">personal_status_sex is not married male</span> <b>THEN </b> accept"
      ],
      "text/plain": [
       "<IPython.core.display.HTML object>"
      ]
     },
     "metadata": {},
     "output_type": "display_data"
    },
    {
     "data": {
      "text/html": [
       "#22, 5298 <b>IF </b>  <span style=\"background-color: rgb(225,236,247); color:black;\">telephone is Yes</span>  <span style=\"background-color: rgb(254,228,216); color:black;\">savings is not unknown/no savings account and < 100 DM</span>  <span style=\"background-color: rgb(219,233,246); color:black;\">housing is own</span>  <span style=\"background-color: rgb(254,228,216); color:black;\">people_liable is 0 to 2</span>  <span style=\"background-color: rgb(212,228,243); color:black;\">purpose is furniture/equipment</span> <b>THEN </b> accept"
      ],
      "text/plain": [
       "<IPython.core.display.HTML object>"
      ]
     },
     "metadata": {},
     "output_type": "display_data"
    },
    {
     "data": {
      "text/html": [
       "#23, 8759 <b>IF </b>  <span style=\"background-color: rgb(253,213,195); color:black;\">telephone is No</span>  <span style=\"background-color: rgb(158,202,225); color:white;\">status is ... >= 200 DM (salary)</span>  <span style=\"background-color: rgb(254,224,210); color:black;\">job is skilled employee / official</span>  <span style=\"background-color: rgb(219,233,246); color:black;\">housing is own</span>  <span style=\"background-color: rgb(219,233,246); color:black;\">age >= 31</span>  <span style=\"background-color: rgb(253,219,203); color:black;\">purpose is not furniture/equipment</span>  <span style=\"background-color: rgb(254,227,215); color:black;\">credit_history is no credits taken/all credits paid back duly</span> <b>THEN </b> accept"
      ],
      "text/plain": [
       "<IPython.core.display.HTML object>"
      ]
     },
     "metadata": {},
     "output_type": "display_data"
    },
    {
     "data": {
      "text/html": [
       "#24, 2448 <b>IF </b>  <span style=\"background-color: rgb(252,191,166); color:white;\">savings is unknown/no savings account or < 100 DM</span>  <span style=\"background-color: rgb(254,225,212); color:black;\">housing is not rent</span>  <span style=\"background-color: rgb(221,234,246); color:black;\">property is car or other</span>  <span style=\"background-color: rgb(212,228,243); color:black;\">purpose is furniture/equipment</span>  <span style=\"background-color: rgb(216,231,245); color:black;\">installment_rate is not >= 35</span>  <span style=\"background-color: rgb(254,227,215); color:black;\">present_residence is not < 1 yr</span> <b>THEN </b> accept"
      ],
      "text/plain": [
       "<IPython.core.display.HTML object>"
      ]
     },
     "metadata": {},
     "output_type": "display_data"
    },
    {
     "data": {
      "text/html": [
       "#25, 4189 <b>IF </b>  <span style=\"background-color: rgb(253,223,209); color:black;\">property is not unknown / no property</span>  <span style=\"background-color: rgb(254,228,216); color:black;\">savings is not unknown/no savings account and < 100 DM</span>  <span style=\"background-color: rgb(253,220,205); color:black;\">personal_status_sex is married male</span>  <span style=\"background-color: rgb(219,233,246); color:black;\">other_installment_plans is none</span>  <span style=\"background-color: rgb(225,236,247); color:black;\">telephone is Yes</span>  <span style=\"background-color: rgb(254,227,215); color:black;\">credit_history is no credits taken/all credits paid back duly</span> <b>THEN </b> accept"
      ],
      "text/plain": [
       "<IPython.core.display.HTML object>"
      ]
     },
     "metadata": {},
     "output_type": "display_data"
    },
    {
     "data": {
      "text/html": [
       "#26, 7096 <b>IF </b>  <span style=\"background-color: rgb(222,235,247); color:black;\">savings is 100 to 500 DM or 500 to 1000 DM</span>  <span style=\"background-color: rgb(226,237,248); color:black;\">present_residence is not >= 7 yrs</span>  <span style=\"background-color: rgb(252,178,151); color:white;\">property is not real estate and building soc. savings agr./life insurance</span>  <span style=\"background-color: rgb(252,193,169); color:black;\">installment_rate is not < 20 and 20 to 25</span>  <span style=\"background-color: rgb(221,234,246); color:black;\">age >= 28</span> <b>THEN </b> accept"
      ],
      "text/plain": [
       "<IPython.core.display.HTML object>"
      ]
     },
     "metadata": {},
     "output_type": "display_data"
    },
    {
     "data": {
      "text/html": [
       "#27, 7365 <b>IF </b>  <span style=\"background-color: rgb(252,191,166); color:white;\">savings is unknown/no savings account or < 100 DM</span>  <span style=\"background-color: rgb(252,192,168); color:black;\">credit_history is no credits taken/all credits paid back duly</span>  <span style=\"background-color: rgb(253,219,203); color:black;\">duration >= 8</span>  <span style=\"background-color: rgb(253,220,205); color:black;\">personal_status_sex is married male</span>  <span style=\"background-color: rgb(226,237,248); color:black;\">present_residence is not 4 to 7 yrs and >= 7 yrs</span>  <span style=\"background-color: rgb(225,236,247); color:black;\">telephone is Yes</span>  <span style=\"background-color: rgb(225,237,248); color:black;\">amount <= 4765</span> <b>THEN </b> accept"
      ],
      "text/plain": [
       "<IPython.core.display.HTML object>"
      ]
     },
     "metadata": {},
     "output_type": "display_data"
    },
    {
     "data": {
      "text/html": [
       "#28, 6956 <b>IF </b>  <span style=\"background-color: rgb(253,220,205); color:black;\">personal_status_sex is married male</span>  <span style=\"background-color: rgb(187,214,235); color:white;\">credit_history is all credits at this bank paid back duly</span>  <span style=\"background-color: rgb(176,209,231); color:white;\">purpose is car (new)</span>  <span style=\"background-color: rgb(221,234,246); color:black;\">duration <= 34</span> <b>THEN </b> accept"
      ],
      "text/plain": [
       "<IPython.core.display.HTML object>"
      ]
     },
     "metadata": {},
     "output_type": "display_data"
    },
    {
     "data": {
      "text/html": [
       "#29, 1967 <b>IF </b>  <span style=\"background-color: rgb(226,237,248); color:black;\">other_installment_plans is not bank</span>  <span style=\"background-color: rgb(254,225,212); color:black;\">housing is not rent</span>  <span style=\"background-color: rgb(254,226,213); color:black;\">number_credits is 2 to 3</span>  <span style=\"background-color: rgb(220,233,246); color:black;\">age >= 30</span>  <span style=\"background-color: rgb(187,214,235); color:white;\">credit_history is all credits at this bank paid back duly</span>  <span style=\"background-color: rgb(253,220,205); color:black;\">personal_status_sex is married male</span>  <span style=\"background-color: rgb(158,202,225); color:white;\">status is ... >= 200 DM (salary)</span>  <span style=\"background-color: rgb(253,214,197); color:black;\">property is car or other</span> <b>THEN </b> accept"
      ],
      "text/plain": [
       "<IPython.core.display.HTML object>"
      ]
     },
     "metadata": {},
     "output_type": "display_data"
    },
    {
     "data": {
      "text/html": [
       "#30, 9655 <b>IF </b>  <span style=\"background-color: rgb(187,214,235); color:white;\">credit_history is all credits at this bank paid back duly</span>  <span style=\"background-color: rgb(252,201,180); color:black;\">other_debtors is not guarantor</span>  <span style=\"background-color: rgb(253,207,188); color:black;\">duration >= 11</span>  <span style=\"background-color: rgb(225,237,248); color:black;\">purpose is not others</span>  <span style=\"background-color: rgb(158,202,225); color:white;\">status is ... >= 200 DM (salary)</span>  <span style=\"background-color: rgb(252,193,169); color:black;\">installment_rate is not < 20 and 20 to 25</span>  <span style=\"background-color: rgb(226,237,248); color:black;\">present_residence is not >= 7 yrs</span>  <span style=\"background-color: rgb(226,237,248); color:black;\">job is not skilled employee / official</span> <b>THEN </b> accept"
      ],
      "text/plain": [
       "<IPython.core.display.HTML object>"
      ]
     },
     "metadata": {},
     "output_type": "display_data"
    },
    {
     "data": {
      "text/html": [
       "#31, 6307 <b>IF </b>  <span style=\"background-color: rgb(187,214,235); color:white;\">credit_history is all credits at this bank paid back duly</span>  <span style=\"background-color: rgb(254,225,212); color:black;\">housing is not rent</span>  <span style=\"background-color: rgb(254,228,216); color:black;\">savings is >= 1000 DM</span>  <span style=\"background-color: rgb(216,231,245); color:black;\">installment_rate is not >= 35</span> <b>THEN </b> accept"
      ],
      "text/plain": [
       "<IPython.core.display.HTML object>"
      ]
     },
     "metadata": {},
     "output_type": "display_data"
    },
    {
     "data": {
      "text/html": [
       "#32, 773 <b>IF </b>  <span style=\"background-color: rgb(188,215,235); color:white;\">savings is 500 to 1000 DM or >= 1000 DM</span>  <span style=\"background-color: rgb(253,212,194); color:black;\">employment_duration is not 4 to 7 yrs and >= 7 yrs</span>  <span style=\"background-color: rgb(254,228,216); color:black;\">people_liable is 0 to 2</span>  <span style=\"background-color: rgb(219,233,246); color:black;\">housing is own</span>  <span style=\"background-color: rgb(187,214,235); color:white;\">credit_history is all credits at this bank paid back duly</span> <b>THEN </b> accept"
      ],
      "text/plain": [
       "<IPython.core.display.HTML object>"
      ]
     },
     "metadata": {},
     "output_type": "display_data"
    },
    {
     "data": {
      "text/html": [
       "#33, 5562 <b>IF </b>  <span style=\"background-color: rgb(188,215,235); color:white;\">savings is 500 to 1000 DM or >= 1000 DM</span>  <span style=\"background-color: rgb(254,225,212); color:black;\">housing is not rent</span>  <span style=\"background-color: rgb(225,237,248); color:black;\">purpose is not others</span>  <span style=\"background-color: rgb(252,205,185); color:black;\">personal_status_sex is not married male</span>  <span style=\"background-color: rgb(215,230,244); color:black;\">age >= 37</span> <b>THEN </b> accept"
      ],
      "text/plain": [
       "<IPython.core.display.HTML object>"
      ]
     },
     "metadata": {},
     "output_type": "display_data"
    },
    {
     "data": {
      "text/html": [
       "#34, 6769 <b>IF </b>  <span style=\"background-color: rgb(252,195,172); color:black;\">status is not ... >= 200 DM (salary)</span>  <span style=\"background-color: rgb(253,219,203); color:black;\">purpose is not furniture/equipment</span>  <span style=\"background-color: rgb(254,224,210); color:black;\">job is skilled employee / official</span>  <span style=\"background-color: rgb(254,228,216); color:black;\">savings is unknown/no savings account</span>  <span style=\"background-color: rgb(252,164,135); color:white;\">credit_history is no credits taken/all credits paid back duly</span>  <span style=\"background-color: rgb(253,213,195); color:black;\">telephone is No</span>  <span style=\"background-color: rgb(254,225,211); color:black;\">property is not car or other</span>  <span style=\"background-color: rgb(226,237,248); color:black;\">other_installment_plans is not bank</span> <b>THEN </b> accept"
      ],
      "text/plain": [
       "<IPython.core.display.HTML object>"
      ]
     },
     "metadata": {},
     "output_type": "display_data"
    },
    {
     "data": {
      "text/html": [
       "#35, 8411 <b>IF </b>  <span style=\"background-color: rgb(252,172,144); color:white;\">duration >= 15</span>  <span style=\"background-color: rgb(253,220,205); color:black;\">personal_status_sex is married male</span>  <span style=\"background-color: rgb(217,231,245); color:black;\">property is not car or other and unknown / no property</span>  <span style=\"background-color: rgb(252,199,177); color:black;\">age <= 31</span>  <span style=\"background-color: rgb(254,228,216); color:black;\">savings is unknown/no savings account or < 100 DM</span>  <span style=\"background-color: rgb(226,237,248); color:black;\">present_residence is not 4 to 7 yrs and >= 7 yrs</span> <b>THEN </b> accept"
      ],
      "text/plain": [
       "<IPython.core.display.HTML object>"
      ]
     },
     "metadata": {},
     "output_type": "display_data"
    },
    {
     "data": {
      "text/html": [
       "#36, 6198 <b>IF </b>  <span style=\"background-color: rgb(187,214,235); color:white;\">credit_history is all credits at this bank paid back duly</span>  <span style=\"background-color: rgb(226,237,248); color:black;\">other_installment_plans is not bank</span>  <span style=\"background-color: rgb(215,230,244); color:black;\">employment_duration is >= 7 yrs</span>  <span style=\"background-color: rgb(254,225,211); color:black;\">property is not car or other</span>  <span style=\"background-color: rgb(254,228,216); color:black;\">savings is unknown/no savings account</span>  <span style=\"background-color: rgb(253,222,208); color:black;\">number_credits is not 2 to 3</span> <b>THEN </b> accept"
      ],
      "text/plain": [
       "<IPython.core.display.HTML object>"
      ]
     },
     "metadata": {},
     "output_type": "display_data"
    },
    {
     "data": {
      "text/html": [
       "#37, 5475 <b>IF </b>  <span style=\"background-color: rgb(252,191,166); color:white;\">savings is unknown/no savings account or < 100 DM</span>  <span style=\"background-color: rgb(225,236,247); color:black;\">telephone is Yes</span>  <span style=\"background-color: rgb(252,175,147); color:white;\">status is not 0 to 200 DM and ... >= 200 DM (salary)</span>  <span style=\"background-color: rgb(253,222,208); color:black;\">purpose is not car (used)</span>  <span style=\"background-color: rgb(252,192,168); color:black;\">credit_history is no credits taken/all credits paid back duly</span>  <span style=\"background-color: rgb(254,226,213); color:black;\">number_credits is 1</span>  <span style=\"background-color: rgb(253,209,191); color:black;\">housing is not for free</span> <b>THEN </b> accept"
      ],
      "text/plain": [
       "<IPython.core.display.HTML object>"
      ]
     },
     "metadata": {},
     "output_type": "display_data"
    },
    {
     "data": {
      "text/html": [
       "#38, 4708 <b>IF </b>  <span style=\"background-color: rgb(253,208,189); color:black;\">other_installment_plans is not bank</span>  <span style=\"background-color: rgb(225,236,247); color:black;\">telephone is Yes</span>  <span style=\"background-color: rgb(254,228,216); color:black;\">savings is not unknown/no savings account</span>  <span style=\"background-color: rgb(226,237,248); color:black;\">job is not skilled employee / official</span>  <span style=\"background-color: rgb(216,231,245); color:black;\">installment_rate is not >= 35</span> <b>THEN </b> accept"
      ],
      "text/plain": [
       "<IPython.core.display.HTML object>"
      ]
     },
     "metadata": {},
     "output_type": "display_data"
    },
    {
     "data": {
      "text/html": [
       "#39, 2609 <b>IF </b>  <span style=\"background-color: rgb(225,236,247); color:black;\">telephone is Yes</span>  <span style=\"background-color: rgb(225,237,248); color:black;\">amount <= 3939</span>  <span style=\"background-color: rgb(223,235,247); color:black;\">job is not skilled employee / official and management/ self-employed/ highly qualified employee/ officer</span>  <span style=\"background-color: rgb(253,222,208); color:black;\">purpose is not car (used)</span> <b>THEN </b> accept"
      ],
      "text/plain": [
       "<IPython.core.display.HTML object>"
      ]
     },
     "metadata": {},
     "output_type": "display_data"
    },
    {
     "data": {
      "text/html": [
       "#40, 3115 <b>IF </b>  <span style=\"background-color: rgb(252,195,172); color:black;\">status is not ... >= 200 DM (salary)</span>  <span style=\"background-color: rgb(254,227,215); color:black;\">amount >= 599</span>  <span style=\"background-color: rgb(253,207,188); color:black;\">duration >= 11</span>  <span style=\"background-color: rgb(252,192,168); color:black;\">credit_history is not all credits at this bank paid back duly</span>  <span style=\"background-color: rgb(225,236,247); color:black;\">telephone is Yes</span>  <span style=\"background-color: rgb(253,207,188); color:black;\">other_installment_plans is not stores</span>  <span style=\"background-color: rgb(254,225,212); color:black;\">housing is not rent</span>  <span style=\"background-color: rgb(253,212,194); color:black;\">employment_duration is not 4 to 7 yrs and >= 7 yrs</span>  <span style=\"background-color: rgb(226,237,248); color:black;\">present_residence is not 4 to 7 yrs and >= 7 yrs</span> <b>THEN </b> accept"
      ],
      "text/plain": [
       "<IPython.core.display.HTML object>"
      ]
     },
     "metadata": {},
     "output_type": "display_data"
    },
    {
     "data": {
      "text/html": [
       "#41, 5771 <b>IF </b>  <span style=\"background-color: rgb(226,237,248); color:black;\">other_installment_plans is not bank</span>  <span style=\"background-color: rgb(254,225,212); color:black;\">housing is not rent</span>  <span style=\"background-color: rgb(252,192,168); color:black;\">credit_history is not delay in paying off in the past and all credits at this bank paid back duly</span>  <span style=\"background-color: rgb(254,228,216); color:black;\">savings is not 500 to 1000 DM and >= 1000 DM</span>  <span style=\"background-color: rgb(252,199,177); color:black;\">property is building soc. savings agr./life insurance</span>  <span style=\"background-color: rgb(253,220,205); color:black;\">duration >= 6</span>  <span style=\"background-color: rgb(253,214,197); color:black;\">purpose is not car (used) and furniture/equipment</span> <b>THEN </b> accept"
      ],
      "text/plain": [
       "<IPython.core.display.HTML object>"
      ]
     },
     "metadata": {},
     "output_type": "display_data"
    },
    {
     "data": {
      "text/html": [
       "#42, 7574 <b>IF </b>  <span style=\"background-color: rgb(223,235,247); color:black;\">employment_duration is not unemployed and < 1 yr</span>  <span style=\"background-color: rgb(251,127,95); color:white;\">purpose is others</span>  <span style=\"background-color: rgb(252,195,172); color:black;\">status is not ... >= 200 DM (salary)</span>  <span style=\"background-color: rgb(212,228,243); color:black;\">installment_rate is not 25 to 35 and >= 35</span>  <span style=\"background-color: rgb(224,236,247); color:black;\">amount <= 2777</span> <b>THEN </b> accept"
      ],
      "text/plain": [
       "<IPython.core.display.HTML object>"
      ]
     },
     "metadata": {},
     "output_type": "display_data"
    },
    {
     "data": {
      "text/html": [
       "#43, 4816 <b>IF </b>  <span style=\"background-color: rgb(221,234,246); color:black;\">property is not unknown / no property</span>  <span style=\"background-color: rgb(225,236,247); color:black;\">job is not management/ self-employed/ highly qualified employee/ officer</span>  <span style=\"background-color: rgb(252,192,168); color:black;\">credit_history is not all credits at this bank paid back duly</span>  <span style=\"background-color: rgb(254,228,216); color:black;\">savings is unknown/no savings account or < 100 DM</span>  <span style=\"background-color: rgb(252,195,172); color:black;\">status is not ... >= 200 DM (salary)</span>  <span style=\"background-color: rgb(253,212,194); color:black;\">other_debtors is none</span>  <span style=\"background-color: rgb(254,227,215); color:black;\">present_residence is not < 1 yr</span>  <span style=\"background-color: rgb(225,236,247); color:black;\">telephone is Yes</span>  <span style=\"background-color: rgb(254,225,212); color:black;\">housing is not rent</span> <b>THEN </b> accept"
      ],
      "text/plain": [
       "<IPython.core.display.HTML object>"
      ]
     },
     "metadata": {},
     "output_type": "display_data"
    },
    {
     "data": {
      "text/html": [
       "#44, 2636 <b>IF </b>  <span style=\"background-color: rgb(252,195,172); color:black;\">status is not ... >= 200 DM (salary)</span>  <span style=\"background-color: rgb(253,219,203); color:black;\">purpose is not furniture/equipment</span>  <span style=\"background-color: rgb(253,218,202); color:black;\">property is not building soc. savings agr./life insurance</span>  <span style=\"background-color: rgb(253,220,205); color:black;\">personal_status_sex is married male</span>  <span style=\"background-color: rgb(226,237,248); color:black;\">present_residence is not 4 to 7 yrs and >= 7 yrs</span>  <span style=\"background-color: rgb(253,223,209); color:black;\">job is not unskilled - resident</span>  <span style=\"background-color: rgb(252,176,148); color:white;\">installment_rate is >= 35</span> <b>THEN </b> accept"
      ],
      "text/plain": [
       "<IPython.core.display.HTML object>"
      ]
     },
     "metadata": {},
     "output_type": "display_data"
    },
    {
     "data": {
      "text/html": [
       "#45, 3151 <b>IF </b>  <span style=\"background-color: rgb(252,192,168); color:black;\">credit_history is not all credits at this bank paid back duly</span>  <span style=\"background-color: rgb(252,205,185); color:black;\">personal_status_sex is not married male</span>  <span style=\"background-color: rgb(253,223,209); color:black;\">property is not building soc. savings agr./life insurance</span>  <span style=\"background-color: rgb(254,228,216); color:black;\">savings is not 500 to 1000 DM and >= 1000 DM</span>  <span style=\"background-color: rgb(225,236,247); color:black;\">telephone is Yes</span>  <span style=\"background-color: rgb(254,226,213); color:black;\">number_credits is 1</span>  <span style=\"background-color: rgb(212,228,243); color:black;\">installment_rate is not 25 to 35 and >= 35</span> <b>THEN </b> accept"
      ],
      "text/plain": [
       "<IPython.core.display.HTML object>"
      ]
     },
     "metadata": {},
     "output_type": "display_data"
    },
    {
     "data": {
      "text/html": [
       "#46, 369 <b>IF </b>  <span style=\"background-color: rgb(253,223,209); color:black;\">number_credits is not 2 to 3</span>  <span style=\"background-color: rgb(254,227,215); color:black;\">credit_history is no credits taken/all credits paid back duly</span>  <span style=\"background-color: rgb(254,228,216); color:black;\">savings is 100 to 500 DM</span>  <span style=\"background-color: rgb(225,237,248); color:black;\">purpose is not others</span>  <span style=\"background-color: rgb(158,202,225); color:white;\">status is ... >= 200 DM (salary)</span> <b>THEN </b> accept"
      ],
      "text/plain": [
       "<IPython.core.display.HTML object>"
      ]
     },
     "metadata": {},
     "output_type": "display_data"
    },
    {
     "data": {
      "text/html": [
       "#47, 3900 <b>IF </b>  <span style=\"background-color: rgb(252,172,144); color:white;\">duration >= 15</span>  <span style=\"background-color: rgb(254,225,212); color:black;\">housing is not rent</span>  <span style=\"background-color: rgb(225,236,247); color:black;\">telephone is Yes</span>  <span style=\"background-color: rgb(253,218,202); color:black;\">installment_rate is not < 20</span>  <span style=\"background-color: rgb(221,234,246); color:black;\">age >= 28</span>  <span style=\"background-color: rgb(254,225,211); color:black;\">property is not car or other</span>  <span style=\"background-color: rgb(254,228,216); color:black;\">people_liable is 0 to 2</span>  <span style=\"background-color: rgb(253,223,209); color:black;\">credit_history is not no credits taken/all credits paid back duly</span>  <span style=\"background-color: rgb(253,214,197); color:black;\">amount >= 4193</span> <b>THEN </b> accept"
      ],
      "text/plain": [
       "<IPython.core.display.HTML object>"
      ]
     },
     "metadata": {},
     "output_type": "display_data"
    },
    {
     "data": {
      "text/html": [
       "#48, 4368 <b>IF </b>  <span style=\"background-color: rgb(253,213,195); color:black;\">telephone is No</span>  <span style=\"background-color: rgb(253,214,197); color:black;\">property is car or other</span>  <span style=\"background-color: rgb(254,224,210); color:black;\">credit_history is not all credits at this bank paid back duly</span>  <span style=\"background-color: rgb(219,233,246); color:black;\">housing is own</span>  <span style=\"background-color: rgb(254,228,216); color:black;\">savings is not unknown/no savings account</span>  <span style=\"background-color: rgb(212,228,243); color:black;\">purpose is furniture/equipment</span> <b>THEN </b> accept"
      ],
      "text/plain": [
       "<IPython.core.display.HTML object>"
      ]
     },
     "metadata": {},
     "output_type": "display_data"
    },
    {
     "data": {
      "text/html": [
       "#49, 7036 <b>IF </b>  <span style=\"background-color: rgb(254,225,211); color:black;\">telephone is No</span>  <span style=\"background-color: rgb(254,224,210); color:black;\">job is skilled employee / official</span>  <span style=\"background-color: rgb(219,233,246); color:black;\">housing is own</span>  <span style=\"background-color: rgb(253,218,202); color:black;\">installment_rate is not < 20</span>  <span style=\"background-color: rgb(212,228,243); color:black;\">purpose is furniture/equipment</span>  <span style=\"background-color: rgb(254,226,213); color:black;\">number_credits is 1</span>  <span style=\"background-color: rgb(254,228,216); color:black;\">savings is not unknown/no savings account</span> <b>THEN </b> accept"
      ],
      "text/plain": [
       "<IPython.core.display.HTML object>"
      ]
     },
     "metadata": {},
     "output_type": "display_data"
    }
   ],
   "source": [
    "r50 = np.mean(res.sorted_dist[:, 50])\n",
    "ret50 = res.check_consistency(r, [p['output'] for p in paths])\n",
    "idx50 = np.array(ret50).argsort()[:50]\n",
    "for it, i in enumerate(idx50):\n",
    "    display_rule(it, i) "
   ]
  },
  {
   "cell_type": "markdown",
   "metadata": {},
   "source": [
    "<div class=\"alert alert-info\">\n",
    "  <strong>Consistency Top 50 (100 neighbors):</strong>\n",
    "</div>"
   ]
  },
  {
   "cell_type": "code",
   "execution_count": 40,
   "metadata": {},
   "outputs": [],
   "source": [
    "export_rules_to_csv('0714_consistency_top200', model, idx100)"
   ]
  },
  {
   "cell_type": "code",
   "execution_count": 41,
   "metadata": {},
   "outputs": [
    {
     "data": {
      "text/html": [
       "#0, 539, LR: 0.64, Confidence: 0.40, Consistency: 1.00"
      ],
      "text/plain": [
       "<IPython.core.display.HTML object>"
      ]
     },
     "metadata": {},
     "output_type": "display_data"
    },
    {
     "data": {
      "text/html": [
       "<b>IF </b>  <span style=\"background-color: rgb(253,219,203); color:black;\">purpose is not furniture/equipment</span>,  <span style=\"background-color: rgb(252,164,135); color:white;\">credit_history is not existing credits paid back duly till now and all credits at this bank paid back duly</span>,  <span style=\"background-color: white; color:black;\">savings is not unknown/no savings account and >= 1000 DM</span>,  <span style=\"background-color: white; color:black;\">people_liable is 0 to 2</span>,  <span style=\"background-color: rgb(253,206,186); color:black;\">personal_status_sex is not married male</span>,  <span style=\"background-color: white; color:black;\">amount <= 1398</span> <b>THEN </b> reject"
      ],
      "text/plain": [
       "<IPython.core.display.HTML object>"
      ]
     },
     "metadata": {},
     "output_type": "display_data"
    },
    {
     "data": {
      "text/html": [
       "#1, 3803, LR: 0.70, Confidence: 0.62, Consistency: 0.99"
      ],
      "text/plain": [
       "<IPython.core.display.HTML object>"
      ]
     },
     "metadata": {},
     "output_type": "display_data"
    },
    {
     "data": {
      "text/html": [
       "<b>IF </b>  <span style=\"background-color: rgb(252,194,171); color:black;\">status is not ... >= 200 DM (salary)</span>,  <span style=\"background-color: rgb(252,192,168); color:black;\">savings is unknown/no savings account or < 100 DM</span>,  <span style=\"background-color: rgb(251,127,95); color:white;\">purpose is others</span>,  <span style=\"background-color: rgb(187,214,235); color:white;\">credit_history is all credits at this bank paid back duly</span>,  <span style=\"background-color: rgb(253,209,191); color:black;\">age <= 36</span> <b>THEN </b> reject"
      ],
      "text/plain": [
       "<IPython.core.display.HTML object>"
      ]
     },
     "metadata": {},
     "output_type": "display_data"
    },
    {
     "data": {
      "text/html": [
       "#2, 9540, LR: 0.60, Confidence: 0.63, Consistency: 0.97"
      ],
      "text/plain": [
       "<IPython.core.display.HTML object>"
      ]
     },
     "metadata": {},
     "output_type": "display_data"
    },
    {
     "data": {
      "text/html": [
       "<b>IF </b>  <span style=\"background-color: rgb(252,193,169); color:black;\">installment_rate is not < 20 and 20 to 25</span>,  <span style=\"background-color: rgb(252,184,157); color:white;\">other_installment_plans is not none</span>,  <span style=\"background-color: white; color:black;\">number_credits is 2 to 3</span>,  <span style=\"background-color: white; color:black;\">job is skilled</span> <b>THEN </b> reject"
      ],
      "text/plain": [
       "<IPython.core.display.HTML object>"
      ]
     },
     "metadata": {},
     "output_type": "display_data"
    },
    {
     "data": {
      "text/html": [
       "#3, 6124, LR: 0.31, Confidence: 0.75, Consistency: 0.96"
      ],
      "text/plain": [
       "<IPython.core.display.HTML object>"
      ]
     },
     "metadata": {},
     "output_type": "display_data"
    },
    {
     "data": {
      "text/html": [
       "<b>IF </b>  <span style=\"background-color: rgb(253,214,197); color:black;\">purpose is not car (used) and furniture/equipment</span>,  <span style=\"background-color: rgb(252,194,171); color:black;\">status is not ... >= 200 DM (salary)</span>,  <span style=\"background-color: rgb(252,193,169); color:black;\">installment_rate is not < 20 and 20 to 25</span>,  <span style=\"background-color: white; color:black;\">credit_history is not all credits at this bank paid back duly</span>,  <span style=\"background-color: white; color:black;\">age >= 22</span>,  <span style=\"background-color: white; color:black;\">savings is 500 to 1000 DM or >= 1000 DM</span>,  <span style=\"background-color: rgb(252,150,119); color:white;\">duration >= 21</span> <b>THEN </b> reject"
      ],
      "text/plain": [
       "<IPython.core.display.HTML object>"
      ]
     },
     "metadata": {},
     "output_type": "display_data"
    },
    {
     "data": {
      "text/html": [
       "#4, 365, LR: 0.73, Confidence: 0.67, Consistency: 0.95"
      ],
      "text/plain": [
       "<IPython.core.display.HTML object>"
      ]
     },
     "metadata": {},
     "output_type": "display_data"
    },
    {
     "data": {
      "text/html": [
       "<b>IF </b>  <span style=\"background-color: rgb(253,223,209); color:black;\">number_credits is not 2 to 3</span>,  <span style=\"background-color: white; color:black;\">credit_history is no credits taken/all credits paid back duly</span>,  <span style=\"background-color: white; color:black;\">savings is < 100 DM</span>,  <span style=\"background-color: rgb(252,177,150); color:white;\">age <= 23</span> <b>THEN </b> reject"
      ],
      "text/plain": [
       "<IPython.core.display.HTML object>"
      ]
     },
     "metadata": {},
     "output_type": "display_data"
    },
    {
     "data": {
      "text/html": [
       "#5, 5952, LR: 0.76, Confidence: 0.43, Consistency: 0.95"
      ],
      "text/plain": [
       "<IPython.core.display.HTML object>"
      ]
     },
     "metadata": {},
     "output_type": "display_data"
    },
    {
     "data": {
      "text/html": [
       "<b>IF </b>  <span style=\"background-color: rgb(187,214,235); color:white;\">credit_history is all credits at this bank paid back duly</span>,  <span style=\"background-color: rgb(252,172,144); color:white;\">duration >= 15</span>,  <span style=\"background-color: rgb(253,213,195); color:black;\">telephone is No</span>,  <span style=\"background-color: rgb(251,127,95); color:white;\">purpose is others</span> <b>THEN </b> reject"
      ],
      "text/plain": [
       "<IPython.core.display.HTML object>"
      ]
     },
     "metadata": {},
     "output_type": "display_data"
    },
    {
     "data": {
      "text/html": [
       "#6, 8278, LR: 0.53, Confidence: 0.38, Consistency: 0.95"
      ],
      "text/plain": [
       "<IPython.core.display.HTML object>"
      ]
     },
     "metadata": {},
     "output_type": "display_data"
    },
    {
     "data": {
      "text/html": [
       "<b>IF </b>  <span style=\"background-color: white; color:black;\">job is not skilled</span>,  <span style=\"background-color: rgb(253,221,206); color:black;\">number_credits is not 1</span>,  <span style=\"background-color: rgb(252,149,117); color:white;\">duration >= 22</span>,  <span style=\"background-color: rgb(253,221,206); color:black;\">employment_duration is not >= 7 yrs</span>,  <span style=\"background-color: rgb(253,213,195); color:black;\">telephone is No</span> <b>THEN </b> reject"
      ],
      "text/plain": [
       "<IPython.core.display.HTML object>"
      ]
     },
     "metadata": {},
     "output_type": "display_data"
    },
    {
     "data": {
      "text/html": [
       "#7, 945, LR: 0.71, Confidence: 0.93, Consistency: 0.95"
      ],
      "text/plain": [
       "<IPython.core.display.HTML object>"
      ]
     },
     "metadata": {},
     "output_type": "display_data"
    },
    {
     "data": {
      "text/html": [
       "<b>IF </b>  <span style=\"background-color: rgb(253,213,195); color:black;\">telephone is No</span>,  <span style=\"background-color: white; color:black;\">purpose is not furniture/equipment</span>,  <span style=\"background-color: white; color:black;\">savings is 500 to 1000 DM or >= 1000 DM</span>,  <span style=\"background-color: rgb(252,193,169); color:black;\">installment_rate is not < 20 and 20 to 25</span>,  <span style=\"background-color: white; color:black;\">amount <= 1618</span>,  <span style=\"background-color: rgb(253,212,194); color:black;\">employment_duration is not 4 to 7 yrs and >= 7 yrs</span> <b>THEN </b> reject"
      ],
      "text/plain": [
       "<IPython.core.display.HTML object>"
      ]
     },
     "metadata": {},
     "output_type": "display_data"
    },
    {
     "data": {
      "text/html": [
       "#8, 6218, LR: 0.90, Confidence: 0.40, Consistency: 0.94"
      ],
      "text/plain": [
       "<IPython.core.display.HTML object>"
      ]
     },
     "metadata": {},
     "output_type": "display_data"
    },
    {
     "data": {
      "text/html": [
       "<b>IF </b>  <span style=\"background-color: rgb(205,223,241); color:black;\">duration <= 15</span>,  <span style=\"background-color: rgb(252,199,177); color:black;\">property is not real estate</span>,  <span style=\"background-color: rgb(252,186,160); color:white;\">people_liable is 3 or more</span>,  <span style=\"background-color: white; color:black;\">amount <= 1237</span>,  <span style=\"background-color: white; color:black;\">present_residence is >= 7 yrs</span> <b>THEN </b> reject"
      ],
      "text/plain": [
       "<IPython.core.display.HTML object>"
      ]
     },
     "metadata": {},
     "output_type": "display_data"
    },
    {
     "data": {
      "text/html": [
       "#9, 4342, LR: 0.76, Confidence: 0.71, Consistency: 0.94"
      ],
      "text/plain": [
       "<IPython.core.display.HTML object>"
      ]
     },
     "metadata": {},
     "output_type": "display_data"
    },
    {
     "data": {
      "text/html": [
       "<b>IF </b>  <span style=\"background-color: rgb(219,233,246); color:black;\">housing is own</span>,  <span style=\"background-color: rgb(252,153,122); color:white;\">other_installment_plans is bank</span>,  <span style=\"background-color: white; color:black;\">number_credits is 2 to 3</span>,  <span style=\"background-color: white; color:black;\">present_residence is not 4 to 7 yrs and >= 7 yrs</span> <b>THEN </b> reject"
      ],
      "text/plain": [
       "<IPython.core.display.HTML object>"
      ]
     },
     "metadata": {},
     "output_type": "display_data"
    }
   ],
   "source": [
    "r100 = np.mean(res.sorted_dist[:, 100])\n",
    "ret100 = res.check_consistency(r100, [p['output'] for p in paths])\n",
    "idx100 = np.array(ret100).argsort()[:10]\n",
    "for it, i in enumerate(idx100):\n",
    "    display_rule(it, i) "
   ]
  },
  {
   "cell_type": "markdown",
   "metadata": {},
   "source": [
    "<div class=\"alert alert-info\">\n",
    "  <strong>Low confidence Top 50:</strong>\n",
    "</div>"
   ]
  },
  {
   "cell_type": "code",
   "execution_count": 188,
   "metadata": {},
   "outputs": [
    {
     "data": {
      "text/html": [
       "#0, 3513 <b>IF </b>  <span style=\"background-color: rgb(252,172,144); color:white;\">duration >= 15</span>  <span style=\"background-color: rgb(225,237,248); color:black;\">purpose is not others</span>  <span style=\"background-color: rgb(245,83,59); color:white;\">status is no checking account</span>  <span style=\"background-color: rgb(253,223,209); color:black;\">job is not unskilled - resident</span>  <span style=\"background-color: rgb(254,227,215); color:black;\">credit_history is no credits taken/all credits paid back duly</span>  <span style=\"background-color: rgb(254,226,213); color:black;\">number_credits is 1</span>  <span style=\"background-color: rgb(253,220,205); color:black;\">personal_status_sex is married male</span>  <span style=\"background-color: rgb(226,237,248); color:black;\">amount <= 6039</span>  <span style=\"background-color: rgb(254,225,211); color:black;\">property is not car or other</span> <b>THEN </b> accept"
      ],
      "text/plain": [
       "<IPython.core.display.HTML object>"
      ]
     },
     "metadata": {},
     "output_type": "display_data"
    },
    {
     "data": {
      "text/html": [
       "#1, 2297 <b>IF </b>  <span style=\"background-color: rgb(252,195,172); color:black;\">status is not ... >= 200 DM (salary)</span>  <span style=\"background-color: rgb(253,212,194); color:black;\">other_debtors is none</span>  <span style=\"background-color: rgb(253,213,195); color:black;\">telephone is No</span>  <span style=\"background-color: rgb(254,225,211); color:black;\">property is not car or other</span>  <span style=\"background-color: rgb(252,184,157); color:white;\">duration >= 12</span>  <span style=\"background-color: rgb(252,205,185); color:black;\">personal_status_sex is not married male</span>  <span style=\"background-color: rgb(253,222,208); color:black;\">number_credits is not 1</span> <b>THEN </b> accept"
      ],
      "text/plain": [
       "<IPython.core.display.HTML object>"
      ]
     },
     "metadata": {},
     "output_type": "display_data"
    },
    {
     "data": {
      "text/html": [
       "#2, 17 <b>IF </b>  <span style=\"background-color: rgb(254,228,216); color:black;\">savings is unknown/no savings account</span>  <span style=\"background-color: rgb(220,233,246); color:black;\">property is not building soc. savings agr./life insurance and unknown / no property</span>  <span style=\"background-color: rgb(253,219,203); color:black;\">purpose is not furniture/equipment</span>  <span style=\"background-color: rgb(252,184,157); color:white;\">duration >= 12</span>  <span style=\"background-color: rgb(253,213,195); color:black;\">telephone is No</span>  <span style=\"background-color: rgb(253,218,202); color:black;\">amount >= 2942</span>  <span style=\"background-color: rgb(254,226,213); color:black;\">number_credits is 1</span> <b>THEN </b> accept"
      ],
      "text/plain": [
       "<IPython.core.display.HTML object>"
      ]
     },
     "metadata": {},
     "output_type": "display_data"
    },
    {
     "data": {
      "text/html": [
       "#3, 4791 <b>IF </b>  <span style=\"background-color: rgb(225,237,248); color:black;\">purpose is not others</span>  <span style=\"background-color: rgb(253,220,205); color:black;\">personal_status_sex is married male</span>  <span style=\"background-color: rgb(252,180,153); color:white;\">duration in 20 to 31</span>  <span style=\"background-color: rgb(253,214,197); color:black;\">property is car or other</span>  <span style=\"background-color: rgb(212,228,243); color:black;\">installment_rate is not 25 to 35 and >= 35</span> <b>THEN </b> accept"
      ],
      "text/plain": [
       "<IPython.core.display.HTML object>"
      ]
     },
     "metadata": {},
     "output_type": "display_data"
    },
    {
     "data": {
      "text/html": [
       "#4, 1141 <b>IF </b>  <span style=\"background-color: rgb(253,219,203); color:black;\">purpose is retraining</span>  <span style=\"background-color: rgb(253,218,202); color:black;\">property is real estate</span>  <span style=\"background-color: rgb(252,195,172); color:black;\">status is not ... >= 200 DM (salary)</span>  <span style=\"background-color: rgb(254,228,216); color:black;\">people_liable is 0 to 2</span>  <span style=\"background-color: rgb(252,182,156); color:white;\">duration >= 13</span> <b>THEN </b> accept"
      ],
      "text/plain": [
       "<IPython.core.display.HTML object>"
      ]
     },
     "metadata": {},
     "output_type": "display_data"
    },
    {
     "data": {
      "text/html": [
       "#5, 6940 <b>IF </b>  <span style=\"background-color: rgb(253,220,205); color:black;\">personal_status_sex is married male</span>  <span style=\"background-color: rgb(252,192,168); color:black;\">credit_history is no credits taken/all credits paid back duly</span>  <span style=\"background-color: rgb(254,228,216); color:black;\">savings is unknown/no savings account</span>  <span style=\"background-color: rgb(252,175,147); color:white;\">status is not 0 to 200 DM and ... >= 200 DM (salary)</span>  <span style=\"background-color: rgb(252,176,148); color:white;\">housing is not own</span>  <span style=\"background-color: rgb(220,233,246); color:black;\">duration <= 30</span> <b>THEN </b> accept"
      ],
      "text/plain": [
       "<IPython.core.display.HTML object>"
      ]
     },
     "metadata": {},
     "output_type": "display_data"
    },
    {
     "data": {
      "text/html": [
       "#6, 1244 <b>IF </b>  <span style=\"background-color: rgb(252,191,166); color:white;\">savings is unknown/no savings account or < 100 DM</span>  <span style=\"background-color: rgb(252,195,172); color:black;\">status is not ... >= 200 DM (salary)</span>  <span style=\"background-color: rgb(252,201,180); color:black;\">other_debtors is not guarantor</span>  <span style=\"background-color: rgb(219,233,246); color:black;\">housing is own</span>  <span style=\"background-color: rgb(252,193,169); color:black;\">installment_rate is not < 20 and 20 to 25</span>  <span style=\"background-color: rgb(219,233,246); color:black;\">other_installment_plans is none</span>  <span style=\"background-color: rgb(221,234,246); color:black;\">property is car or other</span>  <span style=\"background-color: rgb(253,220,205); color:black;\">personal_status_sex is married male</span>  <span style=\"background-color: rgb(254,227,215); color:black;\">present_residence is not < 1 yr</span>  <span style=\"background-color: rgb(187,214,235); color:white;\">credit_history is all credits at this bank paid back duly</span> <b>THEN </b> accept"
      ],
      "text/plain": [
       "<IPython.core.display.HTML object>"
      ]
     },
     "metadata": {},
     "output_type": "display_data"
    },
    {
     "data": {
      "text/html": [
       "#7, 8085 <b>IF </b>  <span style=\"background-color: rgb(226,237,248); color:black;\">other_installment_plans is not bank</span>  <span style=\"background-color: rgb(252,205,185); color:black;\">personal_status_sex is not married male</span>  <span style=\"background-color: rgb(252,195,172); color:black;\">status is not ... >= 200 DM (salary)</span>  <span style=\"background-color: rgb(253,212,194); color:black;\">other_debtors is none</span>  <span style=\"background-color: rgb(254,227,215); color:black;\">amount >= 714</span>  <span style=\"background-color: rgb(218,232,245); color:black;\">age >= 34</span>  <span style=\"background-color: rgb(225,237,248); color:black;\">purpose is not others</span>  <span style=\"background-color: rgb(209,226,242); color:black;\">property is real estate</span> <b>THEN </b> accept"
      ],
      "text/plain": [
       "<IPython.core.display.HTML object>"
      ]
     },
     "metadata": {},
     "output_type": "display_data"
    },
    {
     "data": {
      "text/html": [
       "#8, 7724 <b>IF </b>  <span style=\"background-color: rgb(209,226,242); color:black;\">property is real estate</span>  <span style=\"background-color: rgb(254,228,216); color:black;\">savings is unknown/no savings account</span>  <span style=\"background-color: rgb(225,236,247); color:black;\">telephone is Yes</span>  <span style=\"background-color: rgb(253,223,209); color:black;\">credit_history is not no credits taken/all credits paid back duly</span> <b>THEN </b> accept"
      ],
      "text/plain": [
       "<IPython.core.display.HTML object>"
      ]
     },
     "metadata": {},
     "output_type": "display_data"
    },
    {
     "data": {
      "text/html": [
       "#9, 2844 <b>IF </b>  <span style=\"background-color: rgb(252,193,169); color:black;\">installment_rate is not < 20 and 20 to 25</span>  <span style=\"background-color: rgb(252,195,172); color:black;\">status is not ... >= 200 DM (salary)</span>  <span style=\"background-color: rgb(253,213,195); color:black;\">telephone is No</span>  <span style=\"background-color: rgb(254,226,213); color:black;\">number_credits is 1</span>  <span style=\"background-color: rgb(226,237,248); color:black;\">other_installment_plans is not bank</span>  <span style=\"background-color: rgb(225,236,247); color:black;\">age >= 24</span>  <span style=\"background-color: rgb(221,234,246); color:black;\">purpose is car (used)</span> <b>THEN </b> accept"
      ],
      "text/plain": [
       "<IPython.core.display.HTML object>"
      ]
     },
     "metadata": {},
     "output_type": "display_data"
    },
    {
     "data": {
      "text/html": [
       "#10, 6964 <b>IF </b>  <span style=\"background-color: rgb(254,227,214); color:black;\">purpose is not others and furniture/equipment</span>  <span style=\"background-color: rgb(254,225,211); color:black;\">property is not real estate and unknown / no property</span>  <span style=\"background-color: rgb(254,225,212); color:black;\">housing is not rent</span>  <span style=\"background-color: rgb(252,195,172); color:black;\">status is not ... >= 200 DM (salary)</span>  <span style=\"background-color: rgb(252,201,180); color:black;\">other_debtors is not guarantor</span>  <span style=\"background-color: rgb(254,228,216); color:black;\">savings is unknown/no savings account or < 100 DM</span>  <span style=\"background-color: rgb(254,226,213); color:black;\">number_credits is 1</span>  <span style=\"background-color: rgb(252,192,168); color:black;\">credit_history is not all credits at this bank paid back duly</span>  <span style=\"background-color: rgb(252,193,169); color:black;\">installment_rate is not < 20 and 20 to 25</span>  <span style=\"background-color: rgb(253,219,203); color:black;\">amount >= 2606</span> <b>THEN </b> reject"
      ],
      "text/plain": [
       "<IPython.core.display.HTML object>"
      ]
     },
     "metadata": {},
     "output_type": "display_data"
    },
    {
     "data": {
      "text/html": [
       "#11, 7434 <b>IF </b>  <span style=\"background-color: rgb(252,154,123); color:white;\">other_installment_plans is bank</span>  <span style=\"background-color: rgb(252,205,185); color:black;\">personal_status_sex is not married male</span>  <span style=\"background-color: rgb(158,202,225); color:white;\">status is ... >= 200 DM (salary)</span> <b>THEN </b> accept"
      ],
      "text/plain": [
       "<IPython.core.display.HTML object>"
      ]
     },
     "metadata": {},
     "output_type": "display_data"
    },
    {
     "data": {
      "text/html": [
       "#12, 4865 <b>IF </b>  <span style=\"background-color: rgb(225,236,247); color:black;\">telephone is Yes</span>  <span style=\"background-color: rgb(219,233,246); color:black;\">other_installment_plans is none</span>  <span style=\"background-color: rgb(245,83,59); color:white;\">status is no checking account</span>  <span style=\"background-color: rgb(252,192,168); color:black;\">credit_history is no credits taken/all credits paid back duly</span>  <span style=\"background-color: rgb(225,237,248); color:black;\">property is building soc. savings agr./life insurance</span> <b>THEN </b> accept"
      ],
      "text/plain": [
       "<IPython.core.display.HTML object>"
      ]
     },
     "metadata": {},
     "output_type": "display_data"
    },
    {
     "data": {
      "text/html": [
       "#13, 8037 <b>IF </b>  <span style=\"background-color: rgb(252,176,148); color:white;\">housing is not own</span>  <span style=\"background-color: rgb(253,213,195); color:black;\">telephone is No</span>  <span style=\"background-color: rgb(252,195,172); color:black;\">status is not ... >= 200 DM (salary)</span>  <span style=\"background-color: rgb(252,192,168); color:black;\">credit_history is not all credits at this bank paid back duly</span>  <span style=\"background-color: rgb(209,226,242); color:black;\">property is real estate</span> <b>THEN </b> accept"
      ],
      "text/plain": [
       "<IPython.core.display.HTML object>"
      ]
     },
     "metadata": {},
     "output_type": "display_data"
    },
    {
     "data": {
      "text/html": [
       "#14, 6782 <b>IF </b>  <span style=\"background-color: rgb(252,195,172); color:black;\">status is not ... >= 200 DM (salary)</span>  <span style=\"background-color: rgb(254,224,210); color:black;\">purpose is not furniture/equipment</span>  <span style=\"background-color: rgb(254,224,210); color:black;\">job is skilled employee / official</span>  <span style=\"background-color: rgb(254,228,216); color:black;\">savings is not unknown/no savings account</span>  <span style=\"background-color: rgb(254,226,213); color:black;\">number_credits is 2 to 3</span>  <span style=\"background-color: rgb(253,219,203); color:black;\">amount >= 2529</span> <b>THEN </b> accept"
      ],
      "text/plain": [
       "<IPython.core.display.HTML object>"
      ]
     },
     "metadata": {},
     "output_type": "display_data"
    },
    {
     "data": {
      "text/html": [
       "#15, 4586 <b>IF </b>  <span style=\"background-color: rgb(252,176,148); color:white;\">housing is not own</span>  <span style=\"background-color: rgb(253,213,195); color:black;\">telephone is No</span>  <span style=\"background-color: rgb(252,195,172); color:black;\">status is not ... >= 200 DM (salary)</span>  <span style=\"background-color: rgb(254,224,210); color:black;\">job is skilled employee / official</span>  <span style=\"background-color: rgb(205,223,241); color:black;\">installment_rate is < 20</span> <b>THEN </b> accept"
      ],
      "text/plain": [
       "<IPython.core.display.HTML object>"
      ]
     },
     "metadata": {},
     "output_type": "display_data"
    },
    {
     "data": {
      "text/html": [
       "#16, 8855 <b>IF </b>  <span style=\"background-color: rgb(252,195,172); color:black;\">housing is for free</span>  <span style=\"background-color: rgb(252,184,157); color:white;\">employment_duration is unemployed</span>  <span style=\"background-color: rgb(226,237,248); color:black;\">amount <= 7277</span> <b>THEN </b> accept"
      ],
      "text/plain": [
       "<IPython.core.display.HTML object>"
      ]
     },
     "metadata": {},
     "output_type": "display_data"
    },
    {
     "data": {
      "text/html": [
       "#17, 8068 <b>IF </b>  <span style=\"background-color: rgb(219,233,246); color:black;\">housing is own</span>  <span style=\"background-color: rgb(219,233,246); color:black;\">other_installment_plans is none</span>  <span style=\"background-color: rgb(187,214,235); color:white;\">credit_history is all credits at this bank paid back duly</span>  <span style=\"background-color: rgb(252,202,182); color:black;\">age <= 33</span>  <span style=\"background-color: rgb(253,214,197); color:black;\">property is car or other</span>  <span style=\"background-color: rgb(252,195,172); color:black;\">status is not ... >= 200 DM (salary)</span> <b>THEN </b> reject"
      ],
      "text/plain": [
       "<IPython.core.display.HTML object>"
      ]
     },
     "metadata": {},
     "output_type": "display_data"
    },
    {
     "data": {
      "text/html": [
       "#18, 7602 <b>IF </b>  <span style=\"background-color: rgb(221,234,246); color:black;\">property is not unknown / no property</span>  <span style=\"background-color: rgb(252,202,182); color:black;\">age <= 33</span>  <span style=\"background-color: rgb(252,157,126); color:white;\">housing is rent</span>  <span style=\"background-color: rgb(205,223,241); color:black;\">installment_rate is < 20</span>  <span style=\"background-color: rgb(252,172,144); color:white;\">duration >= 16</span> <b>THEN </b> accept"
      ],
      "text/plain": [
       "<IPython.core.display.HTML object>"
      ]
     },
     "metadata": {},
     "output_type": "display_data"
    },
    {
     "data": {
      "text/html": [
       "#19, 5972 <b>IF </b>  <span style=\"background-color: rgb(221,234,246); color:black;\">property is car or other</span>  <span style=\"background-color: rgb(254,228,216); color:black;\">savings is unknown/no savings account or < 100 DM</span>  <span style=\"background-color: rgb(252,202,182); color:black;\">purpose is not car (new) and car (used)</span>  <span style=\"background-color: rgb(219,233,246); color:black;\">housing is own</span>  <span style=\"background-color: rgb(253,207,188); color:black;\">duration >= 11</span>  <span style=\"background-color: rgb(252,193,169); color:black;\">employment_duration is unemployed or < 1 yr</span>  <span style=\"background-color: rgb(203,222,240); color:black;\">status is not no checking account</span>  <span style=\"background-color: rgb(219,233,246); color:black;\">other_installment_plans is none</span> <b>THEN </b> accept"
      ],
      "text/plain": [
       "<IPython.core.display.HTML object>"
      ]
     },
     "metadata": {},
     "output_type": "display_data"
    },
    {
     "data": {
      "text/html": [
       "#20, 1580 <b>IF </b>  <span style=\"background-color: rgb(253,214,197); color:black;\">purpose is not car (used) and furniture/equipment</span>  <span style=\"background-color: rgb(219,233,246); color:black;\">housing is own</span>  <span style=\"background-color: rgb(252,195,172); color:black;\">status is not ... >= 200 DM (salary)</span>  <span style=\"background-color: rgb(254,224,210); color:black;\">job is skilled employee / official</span>  <span style=\"background-color: rgb(254,228,216); color:black;\">savings is unknown/no savings account</span>  <span style=\"background-color: rgb(225,237,248); color:black;\">amount <= 4802</span>  <span style=\"background-color: rgb(253,213,195); color:black;\">telephone is No</span>  <span style=\"background-color: rgb(187,214,235); color:white;\">credit_history is all credits at this bank paid back duly</span> <b>THEN </b> accept"
      ],
      "text/plain": [
       "<IPython.core.display.HTML object>"
      ]
     },
     "metadata": {},
     "output_type": "display_data"
    },
    {
     "data": {
      "text/html": [
       "#21, 1742 <b>IF </b>  <span style=\"background-color: rgb(187,214,235); color:white;\">credit_history is all credits at this bank paid back duly</span>  <span style=\"background-color: rgb(225,236,247); color:black;\">job is not management/ self-employed/ highly qualified employee/ officer</span>  <span style=\"background-color: rgb(253,213,195); color:black;\">telephone is No</span>  <span style=\"background-color: rgb(251,141,109); color:white;\">property is unknown / no property</span> <b>THEN </b> accept"
      ],
      "text/plain": [
       "<IPython.core.display.HTML object>"
      ]
     },
     "metadata": {},
     "output_type": "display_data"
    },
    {
     "data": {
      "text/html": [
       "#22, 3056 <b>IF </b>  <span style=\"background-color: rgb(252,178,151); color:white;\">property is car or other</span>  <span style=\"background-color: rgb(253,208,189); color:black;\">purpose is furniture/equipment</span>  <span style=\"background-color: rgb(252,195,172); color:black;\">status is not ... >= 200 DM (salary)</span>  <span style=\"background-color: rgb(253,212,194); color:black;\">duration >= 9</span>  <span style=\"background-color: rgb(252,192,168); color:black;\">credit_history is not all credits at this bank paid back duly</span>  <span style=\"background-color: rgb(254,224,210); color:black;\">job is skilled employee / official</span>  <span style=\"background-color: rgb(223,235,247); color:black;\">employment_duration is not unemployed and < 1 yr</span>  <span style=\"background-color: rgb(254,225,212); color:black;\">housing is not rent</span>  <span style=\"background-color: rgb(254,228,216); color:black;\">savings is unknown/no savings account</span> <b>THEN </b> accept"
      ],
      "text/plain": [
       "<IPython.core.display.HTML object>"
      ]
     },
     "metadata": {},
     "output_type": "display_data"
    },
    {
     "data": {
      "text/html": [
       "#23, 5327 <b>IF </b>  <span style=\"background-color: rgb(253,213,195); color:black;\">telephone is No</span>  <span style=\"background-color: rgb(251,127,95); color:white;\">purpose is others</span>  <span style=\"background-color: rgb(253,219,203); color:black;\">duration >= 8</span>  <span style=\"background-color: rgb(167,206,228); color:white;\">status is not no checking account and ... < 0 DM</span>  <span style=\"background-color: rgb(226,237,248); color:black;\">present_residence is not 4 to 7 yrs and >= 7 yrs</span>  <span style=\"background-color: rgb(254,224,210); color:black;\">amount >= 1530</span> <b>THEN </b> accept"
      ],
      "text/plain": [
       "<IPython.core.display.HTML object>"
      ]
     },
     "metadata": {},
     "output_type": "display_data"
    },
    {
     "data": {
      "text/html": [
       "#24, 6552 <b>IF </b>  <span style=\"background-color: rgb(252,193,169); color:black;\">installment_rate is not < 20 and 20 to 25</span>  <span style=\"background-color: rgb(209,226,242); color:black;\">property is real estate</span>  <span style=\"background-color: rgb(252,201,180); color:black;\">other_debtors is not guarantor</span>  <span style=\"background-color: rgb(223,235,247); color:black;\">amount <= 1772</span>  <span style=\"background-color: rgb(252,195,172); color:black;\">status is not ... >= 200 DM (salary)</span>  <span style=\"background-color: rgb(252,193,169); color:black;\">employment_duration is unemployed or < 1 yr</span> <b>THEN </b> accept"
      ],
      "text/plain": [
       "<IPython.core.display.HTML object>"
      ]
     },
     "metadata": {},
     "output_type": "display_data"
    },
    {
     "data": {
      "text/html": [
       "#25, 1238 <b>IF </b>  <span style=\"background-color: rgb(252,191,166); color:white;\">savings is unknown/no savings account or < 100 DM</span>  <span style=\"background-color: rgb(252,195,172); color:black;\">status is not ... >= 200 DM (salary)</span>  <span style=\"background-color: rgb(252,201,180); color:black;\">other_debtors is not guarantor</span>  <span style=\"background-color: rgb(219,233,246); color:black;\">housing is own</span>  <span style=\"background-color: rgb(252,193,169); color:black;\">installment_rate is not < 20 and 20 to 25</span>  <span style=\"background-color: rgb(219,233,246); color:black;\">other_installment_plans is none</span>  <span style=\"background-color: rgb(221,234,246); color:black;\">property is not unknown / no property</span>  <span style=\"background-color: rgb(252,205,185); color:black;\">personal_status_sex is not married male</span>  <span style=\"background-color: rgb(211,227,243); color:black;\">duration <= 21</span>  <span style=\"background-color: rgb(254,225,212); color:black;\">amount >= 1260</span> <b>THEN </b> accept"
      ],
      "text/plain": [
       "<IPython.core.display.HTML object>"
      ]
     },
     "metadata": {},
     "output_type": "display_data"
    },
    {
     "data": {
      "text/html": [
       "#26, 6017 <b>IF </b>  <span style=\"background-color: rgb(254,225,212); color:black;\">housing is not rent</span>  <span style=\"background-color: rgb(252,205,185); color:black;\">personal_status_sex is not married male</span>  <span style=\"background-color: rgb(225,236,247); color:black;\">job is not management/ self-employed/ highly qualified employee/ officer</span>  <span style=\"background-color: rgb(251,141,109); color:white;\">property is unknown / no property</span>  <span style=\"background-color: rgb(225,236,247); color:black;\">telephone is Yes</span> <b>THEN </b> accept"
      ],
      "text/plain": [
       "<IPython.core.display.HTML object>"
      ]
     },
     "metadata": {},
     "output_type": "display_data"
    },
    {
     "data": {
      "text/html": [
       "#27, 9127 <b>IF </b>  <span style=\"background-color: rgb(252,172,144); color:white;\">duration >= 15</span>  <span style=\"background-color: rgb(226,237,248); color:black;\">other_installment_plans is not bank</span>  <span style=\"background-color: rgb(254,226,213); color:black;\">present_residence is not < 1 yr and 1 to 4 yrs</span>  <span style=\"background-color: rgb(252,205,185); color:black;\">age <= 34</span>  <span style=\"background-color: rgb(253,213,195); color:black;\">telephone is No</span>  <span style=\"background-color: rgb(221,234,246); color:black;\">credit_history is not delay in paying off in the past</span>  <span style=\"background-color: rgb(245,83,59); color:white;\">status is no checking account</span>  <span style=\"background-color: rgb(253,219,203); color:black;\">amount >= 2649</span> <b>THEN </b> accept"
      ],
      "text/plain": [
       "<IPython.core.display.HTML object>"
      ]
     },
     "metadata": {},
     "output_type": "display_data"
    },
    {
     "data": {
      "text/html": [
       "#28, 7753 <b>IF </b>  <span style=\"background-color: rgb(252,199,177); color:black;\">property is not real estate</span>  <span style=\"background-color: rgb(254,224,210); color:black;\">purpose is not furniture/equipment</span>  <span style=\"background-color: rgb(254,228,216); color:black;\">savings is >= 1000 DM</span>  <span style=\"background-color: rgb(252,192,168); color:black;\">credit_history is not all credits at this bank paid back duly</span>  <span style=\"background-color: rgb(253,212,194); color:black;\">amount >= 6331</span> <b>THEN </b> accept"
      ],
      "text/plain": [
       "<IPython.core.display.HTML object>"
      ]
     },
     "metadata": {},
     "output_type": "display_data"
    },
    {
     "data": {
      "text/html": [
       "#29, 2866 <b>IF </b>  <span style=\"background-color: rgb(253,213,195); color:black;\">telephone is No</span>  <span style=\"background-color: rgb(253,219,203); color:black;\">purpose is not furniture/equipment</span>  <span style=\"background-color: rgb(254,228,216); color:black;\">foreign_worker is No</span>  <span style=\"background-color: rgb(252,195,172); color:black;\">status is not ... >= 200 DM (salary)</span>  <span style=\"background-color: rgb(219,233,246); color:black;\">housing is own</span>  <span style=\"background-color: rgb(252,205,185); color:black;\">personal_status_sex is not married male</span>  <span style=\"background-color: rgb(253,222,208); color:black;\">number_credits is not 2 to 3</span>  <span style=\"background-color: rgb(225,237,248); color:black;\">age >= 23</span>  <span style=\"background-color: rgb(212,228,243); color:black;\">installment_rate is not 25 to 35 and >= 35</span> <b>THEN </b> accept"
      ],
      "text/plain": [
       "<IPython.core.display.HTML object>"
      ]
     },
     "metadata": {},
     "output_type": "display_data"
    },
    {
     "data": {
      "text/html": [
       "#30, 7253 <b>IF </b>  <span style=\"background-color: rgb(252,176,148); color:white;\">housing is not own</span>  <span style=\"background-color: rgb(252,193,169); color:black;\">installment_rate is not < 20 and 20 to 25</span>  <span style=\"background-color: rgb(253,213,195); color:black;\">telephone is No</span>  <span style=\"background-color: rgb(221,234,246); color:black;\">purpose is car (used)</span>  <span style=\"background-color: rgb(254,228,216); color:black;\">savings is unknown/no savings account</span> <b>THEN </b> accept"
      ],
      "text/plain": [
       "<IPython.core.display.HTML object>"
      ]
     },
     "metadata": {},
     "output_type": "display_data"
    },
    {
     "data": {
      "text/html": [
       "#31, 7516 <b>IF </b>  <span style=\"background-color: rgb(219,233,246); color:black;\">housing is own</span>  <span style=\"background-color: rgb(252,199,177); color:black;\">property is not real estate</span>  <span style=\"background-color: rgb(254,227,215); color:black;\">credit_history is no credits taken/all credits paid back duly</span>  <span style=\"background-color: rgb(225,237,248); color:black;\">purpose is furniture/equipment</span>  <span style=\"background-color: rgb(252,175,147); color:white;\">status is not 0 to 200 DM and ... >= 200 DM (salary)</span>  <span style=\"background-color: rgb(225,237,248); color:black;\">amount <= 4170</span>  <span style=\"background-color: rgb(252,176,148); color:white;\">installment_rate is >= 35</span>  <span style=\"background-color: rgb(254,228,216); color:black;\">savings is unknown/no savings account</span> <b>THEN </b> accept"
      ],
      "text/plain": [
       "<IPython.core.display.HTML object>"
      ]
     },
     "metadata": {},
     "output_type": "display_data"
    },
    {
     "data": {
      "text/html": [
       "#32, 2525 <b>IF </b>  <span style=\"background-color: rgb(221,234,246); color:black;\">purpose is not others and repairs</span>  <span style=\"background-color: rgb(252,195,172); color:black;\">status is not ... >= 200 DM (salary)</span>  <span style=\"background-color: rgb(252,201,180); color:black;\">other_debtors is not guarantor</span>  <span style=\"background-color: rgb(195,217,238); color:white;\">duration <= 11</span>  <span style=\"background-color: rgb(226,237,248); color:black;\">present_residence is not >= 7 yrs</span>  <span style=\"background-color: rgb(253,213,195); color:black;\">telephone is No</span>  <span style=\"background-color: rgb(224,236,247); color:black;\">amount <= 2525</span>  <span style=\"background-color: rgb(221,234,246); color:black;\">age >= 27</span> <b>THEN </b> accept"
      ],
      "text/plain": [
       "<IPython.core.display.HTML object>"
      ]
     },
     "metadata": {},
     "output_type": "display_data"
    },
    {
     "data": {
      "text/html": [
       "#33, 4757 <b>IF </b>  <span style=\"background-color: rgb(253,216,200); color:black;\">amount in 4146 to 7489</span>  <span style=\"background-color: rgb(253,219,203); color:black;\">purpose is not others and car (new) and furniture/equipment</span>  <span style=\"background-color: rgb(254,228,216); color:black;\">savings is not >= 1000 DM</span>  <span style=\"background-color: rgb(220,233,246); color:black;\">age >= 30</span>  <span style=\"background-color: rgb(226,237,248); color:black;\">present_residence is not 4 to 7 yrs and >= 7 yrs</span> <b>THEN </b> accept"
      ],
      "text/plain": [
       "<IPython.core.display.HTML object>"
      ]
     },
     "metadata": {},
     "output_type": "display_data"
    },
    {
     "data": {
      "text/html": [
       "#34, 7047 <b>IF </b>  <span style=\"background-color: rgb(225,236,247); color:black;\">telephone is Yes</span>  <span style=\"background-color: rgb(221,234,246); color:black;\">credit_history is not critical account/other credits elsewhere and no credits taken/all credits paid back duly</span>  <span style=\"background-color: rgb(253,207,188); color:black;\">other_installment_plans is bank</span>  <span style=\"background-color: rgb(225,236,247); color:black;\">job is not management/ self-employed/ highly qualified employee/ officer</span> <b>THEN </b> accept"
      ],
      "text/plain": [
       "<IPython.core.display.HTML object>"
      ]
     },
     "metadata": {},
     "output_type": "display_data"
    },
    {
     "data": {
      "text/html": [
       "#35, 4993 <b>IF </b>  <span style=\"background-color: rgb(221,234,246); color:black;\">other_debtors is not none</span>  <span style=\"background-color: rgb(225,237,248); color:black;\">amount <= 3958</span>  <span style=\"background-color: rgb(252,176,148); color:white;\">housing is not own</span> <b>THEN </b> accept"
      ],
      "text/plain": [
       "<IPython.core.display.HTML object>"
      ]
     },
     "metadata": {},
     "output_type": "display_data"
    },
    {
     "data": {
      "text/html": [
       "#36, 540 <b>IF </b>  <span style=\"background-color: rgb(253,219,203); color:black;\">purpose is not furniture/equipment</span>  <span style=\"background-color: rgb(252,164,135); color:white;\">credit_history is not existing credits paid back duly till now and all credits at this bank paid back duly</span>  <span style=\"background-color: rgb(254,228,216); color:black;\">savings is not unknown/no savings account and >= 1000 DM</span>  <span style=\"background-color: rgb(254,228,216); color:black;\">people_liable is 0 to 2</span>  <span style=\"background-color: rgb(252,205,185); color:black;\">personal_status_sex is not married male</span>  <span style=\"background-color: rgb(254,225,211); color:black;\">amount >= 1398</span> <b>THEN </b> accept"
      ],
      "text/plain": [
       "<IPython.core.display.HTML object>"
      ]
     },
     "metadata": {},
     "output_type": "display_data"
    },
    {
     "data": {
      "text/html": [
       "#37, 846 <b>IF </b>  <span style=\"background-color: rgb(252,195,172); color:black;\">status is not ... >= 200 DM (salary)</span>  <span style=\"background-color: rgb(252,199,177); color:black;\">property is not real estate</span>  <span style=\"background-color: rgb(253,213,195); color:black;\">telephone is No</span>  <span style=\"background-color: rgb(221,234,246); color:black;\">purpose is car (used)</span>  <span style=\"background-color: rgb(254,227,215); color:black;\">credit_history is no credits taken/all credits paid back duly</span>  <span style=\"background-color: rgb(252,182,156); color:white;\">duration >= 13</span>  <span style=\"background-color: rgb(253,220,205); color:black;\">personal_status_sex is married male</span> <b>THEN </b> accept"
      ],
      "text/plain": [
       "<IPython.core.display.HTML object>"
      ]
     },
     "metadata": {},
     "output_type": "display_data"
    },
    {
     "data": {
      "text/html": [
       "#38, 5670 <b>IF </b>  <span style=\"background-color: rgb(252,198,175); color:black;\">savings is not 500 to 1000 DM and >= 1000 DM</span>  <span style=\"background-color: rgb(252,195,172); color:black;\">housing is for free</span>  <span style=\"background-color: rgb(252,205,185); color:black;\">personal_status_sex is not married male</span>  <span style=\"background-color: rgb(219,233,246); color:black;\">other_installment_plans is none</span> <b>THEN </b> accept"
      ],
      "text/plain": [
       "<IPython.core.display.HTML object>"
      ]
     },
     "metadata": {},
     "output_type": "display_data"
    },
    {
     "data": {
      "text/html": [
       "#39, 1650 <b>IF </b>  <span style=\"background-color: rgb(252,176,148); color:white;\">housing is not own</span>  <span style=\"background-color: rgb(225,236,247); color:black;\">telephone is Yes</span>  <span style=\"background-color: rgb(252,192,168); color:black;\">credit_history is not all credits at this bank paid back duly</span>  <span style=\"background-color: rgb(252,175,147); color:white;\">status is not 0 to 200 DM and ... >= 200 DM (salary)</span>  <span style=\"background-color: rgb(224,236,247); color:black;\">age >= 25</span>  <span style=\"background-color: rgb(226,237,248); color:black;\">amount <= 7493</span> <b>THEN </b> accept"
      ],
      "text/plain": [
       "<IPython.core.display.HTML object>"
      ]
     },
     "metadata": {},
     "output_type": "display_data"
    },
    {
     "data": {
      "text/html": [
       "#40, 5506 <b>IF </b>  <span style=\"background-color: rgb(252,191,166); color:white;\">savings is unknown/no savings account or < 100 DM</span>  <span style=\"background-color: rgb(253,213,195); color:black;\">telephone is No</span>  <span style=\"background-color: rgb(254,227,215); color:black;\">present_residence is not < 1 yr</span>  <span style=\"background-color: rgb(253,220,205); color:black;\">personal_status_sex is married male</span>  <span style=\"background-color: rgb(224,236,247); color:black;\">age >= 25</span>  <span style=\"background-color: rgb(252,192,168); color:black;\">credit_history is not all credits at this bank paid back duly</span>  <span style=\"background-color: rgb(219,233,246); color:black;\">other_installment_plans is none</span>  <span style=\"background-color: rgb(253,212,194); color:black;\">other_debtors is none</span>  <span style=\"background-color: rgb(220,233,246); color:black;\">job is unskilled - resident</span> <b>THEN </b> accept"
      ],
      "text/plain": [
       "<IPython.core.display.HTML object>"
      ]
     },
     "metadata": {},
     "output_type": "display_data"
    },
    {
     "data": {
      "text/html": [
       "#41, 4208 <b>IF </b>  <span style=\"background-color: rgb(252,195,172); color:black;\">status is not ... >= 200 DM (salary)</span>  <span style=\"background-color: rgb(252,176,148); color:white;\">housing is rent</span>  <span style=\"background-color: rgb(209,226,242); color:black;\">duration <= 18</span>  <span style=\"background-color: rgb(253,222,208); color:black;\">number_credits is not 2 to 3</span>  <span style=\"background-color: rgb(252,190,165); color:white;\">age <= 27</span>  <span style=\"background-color: rgb(254,225,211); color:black;\">amount >= 1321</span> <b>THEN </b> accept"
      ],
      "text/plain": [
       "<IPython.core.display.HTML object>"
      ]
     },
     "metadata": {},
     "output_type": "display_data"
    },
    {
     "data": {
      "text/html": [
       "#42, 1223 <b>IF </b>  <span style=\"background-color: rgb(252,191,166); color:white;\">savings is unknown/no savings account or < 100 DM</span>  <span style=\"background-color: rgb(252,195,172); color:black;\">status is not ... >= 200 DM (salary)</span>  <span style=\"background-color: rgb(252,201,180); color:black;\">other_debtors is not guarantor</span>  <span style=\"background-color: rgb(252,176,148); color:white;\">housing is rent</span>  <span style=\"background-color: rgb(254,224,210); color:black;\">job is skilled employee / official</span>  <span style=\"background-color: rgb(253,223,209); color:black;\">credit_history is not no credits taken/all credits paid back duly</span> <b>THEN </b> reject"
      ],
      "text/plain": [
       "<IPython.core.display.HTML object>"
      ]
     },
     "metadata": {},
     "output_type": "display_data"
    },
    {
     "data": {
      "text/html": [
       "#43, 6596 <b>IF </b>  <span style=\"background-color: rgb(253,214,197); color:black;\">credit_history is not existing credits paid back duly till now</span>  <span style=\"background-color: rgb(251,127,95); color:white;\">purpose is others</span>  <span style=\"background-color: rgb(253,223,209); color:black;\">job is not unskilled - resident</span>  <span style=\"background-color: rgb(253,213,195); color:black;\">telephone is No</span>  <span style=\"background-color: rgb(252,175,147); color:white;\">status is not 0 to 200 DM and ... >= 200 DM (salary)</span>  <span style=\"background-color: rgb(254,228,216); color:black;\">savings is unknown/no savings account or < 100 DM</span>  <span style=\"background-color: rgb(253,220,205); color:black;\">personal_status_sex is married male</span>  <span style=\"background-color: rgb(226,237,248); color:black;\">present_residence is not >= 7 yrs</span> <b>THEN </b> accept"
      ],
      "text/plain": [
       "<IPython.core.display.HTML object>"
      ]
     },
     "metadata": {},
     "output_type": "display_data"
    },
    {
     "data": {
      "text/html": [
       "#44, 6306 <b>IF </b>  <span style=\"background-color: rgb(187,214,235); color:white;\">credit_history is all credits at this bank paid back duly</span>  <span style=\"background-color: rgb(252,205,185); color:black;\">housing is not rent</span>  <span style=\"background-color: rgb(254,228,216); color:black;\">savings is not >= 1000 DM</span>  <span style=\"background-color: rgb(254,228,216); color:black;\">people_liable is 0 to 2</span>  <span style=\"background-color: rgb(249,100,70); color:white;\">duration >= 39</span> <b>THEN </b> reject"
      ],
      "text/plain": [
       "<IPython.core.display.HTML object>"
      ]
     },
     "metadata": {},
     "output_type": "display_data"
    },
    {
     "data": {
      "text/html": [
       "#45, 2784 <b>IF </b>  <span style=\"background-color: rgb(252,172,144); color:white;\">duration >= 15</span>  <span style=\"background-color: rgb(226,237,248); color:black;\">job is not skilled employee / official</span>  <span style=\"background-color: rgb(253,219,203); color:black;\">purpose is not furniture/equipment</span>  <span style=\"background-color: rgb(254,224,210); color:black;\">amount >= 1550</span>  <span style=\"background-color: rgb(254,228,216); color:black;\">savings is unknown/no savings account</span>  <span style=\"background-color: rgb(209,226,242); color:black;\">property is real estate</span> <b>THEN </b> accept"
      ],
      "text/plain": [
       "<IPython.core.display.HTML object>"
      ]
     },
     "metadata": {},
     "output_type": "display_data"
    },
    {
     "data": {
      "text/html": [
       "#46, 5545 <b>IF </b>  <span style=\"background-color: rgb(254,228,216); color:black;\">savings is unknown/no savings account</span>  <span style=\"background-color: rgb(252,195,172); color:black;\">status is not ... >= 200 DM (salary)</span>  <span style=\"background-color: rgb(218,232,245); color:black;\">employment_duration is 4 to 7 yrs or >= 7 yrs</span>  <span style=\"background-color: rgb(253,209,191); color:black;\">housing is not for free</span>  <span style=\"background-color: rgb(253,219,203); color:black;\">purpose is not furniture/equipment</span>  <span style=\"background-color: rgb(253,213,195); color:black;\">telephone is No</span>  <span style=\"background-color: rgb(225,236,247); color:black;\">amount <= 3575</span>  <span style=\"background-color: rgb(187,214,235); color:white;\">credit_history is all credits at this bank paid back duly</span> <b>THEN </b> accept"
      ],
      "text/plain": [
       "<IPython.core.display.HTML object>"
      ]
     },
     "metadata": {},
     "output_type": "display_data"
    },
    {
     "data": {
      "text/html": [
       "#47, 3477 <b>IF </b>  <span style=\"background-color: rgb(225,236,247); color:black;\">telephone is Yes</span>  <span style=\"background-color: rgb(253,215,199); color:black;\">amount >= 3713</span>  <span style=\"background-color: rgb(203,222,240); color:black;\">savings is not unknown/no savings account and < 100 DM</span>  <span style=\"background-color: rgb(226,237,248); color:black;\">present_residence is not >= 7 yrs</span> <b>THEN </b> accept"
      ],
      "text/plain": [
       "<IPython.core.display.HTML object>"
      ]
     },
     "metadata": {},
     "output_type": "display_data"
    },
    {
     "data": {
      "text/html": [
       "#48, 1623 <b>IF </b>  <span style=\"background-color: rgb(253,213,195); color:black;\">telephone is No</span>  <span style=\"background-color: rgb(252,175,147); color:white;\">status is not 0 to 200 DM and ... >= 200 DM (salary)</span>  <span style=\"background-color: rgb(254,227,215); color:black;\">present_residence is not < 1 yr</span>  <span style=\"background-color: rgb(253,218,202); color:black;\">property is not building soc. savings agr./life insurance</span>  <span style=\"background-color: rgb(195,217,238); color:white;\">duration <= 11</span>  <span style=\"background-color: rgb(252,176,148); color:white;\">housing is not own</span> <b>THEN </b> accept"
      ],
      "text/plain": [
       "<IPython.core.display.HTML object>"
      ]
     },
     "metadata": {},
     "output_type": "display_data"
    },
    {
     "data": {
      "text/html": [
       "#49, 2293 <b>IF </b>  <span style=\"background-color: rgb(252,195,172); color:black;\">status is not ... >= 200 DM (salary)</span>  <span style=\"background-color: rgb(253,212,194); color:black;\">other_debtors is none</span>  <span style=\"background-color: rgb(253,213,195); color:black;\">telephone is No</span>  <span style=\"background-color: rgb(254,225,211); color:black;\">property is not car or other</span>  <span style=\"background-color: rgb(203,222,240); color:black;\">duration <= 12</span>  <span style=\"background-color: rgb(254,228,216); color:black;\">savings is unknown/no savings account or < 100 DM</span>  <span style=\"background-color: rgb(226,237,248); color:black;\">present_residence is not >= 7 yrs</span>  <span style=\"background-color: rgb(253,221,206); color:black;\">employment_duration is 1 to 4 yrs</span> <b>THEN </b> accept"
      ],
      "text/plain": [
       "<IPython.core.display.HTML object>"
      ]
     },
     "metadata": {},
     "output_type": "display_data"
    },
    {
     "data": {
      "text/html": [
       "#50, 6800 <b>IF </b>  <span style=\"background-color: rgb(158,202,225); color:white;\">status is ... >= 200 DM (salary)</span>  <span style=\"background-color: rgb(252,172,144); color:white;\">duration >= 16</span>  <span style=\"background-color: rgb(225,236,247); color:black;\">age >= 24</span>  <span style=\"background-color: rgb(226,237,248); color:black;\">present_residence is not 4 to 7 yrs and >= 7 yrs</span>  <span style=\"background-color: rgb(251,138,106); color:white;\">purpose is retraining</span> <b>THEN </b> accept"
      ],
      "text/plain": [
       "<IPython.core.display.HTML object>"
      ]
     },
     "metadata": {},
     "output_type": "display_data"
    },
    {
     "data": {
      "text/html": [
       "#51, 6744 <b>IF </b>  <span style=\"background-color: rgb(252,199,177); color:black;\">property is not real estate</span>  <span style=\"background-color: rgb(253,213,195); color:black;\">telephone is No</span>  <span style=\"background-color: rgb(187,214,235); color:white;\">credit_history is all credits at this bank paid back duly</span>  <span style=\"background-color: rgb(220,233,246); color:black;\">job is unskilled - resident</span> <b>THEN </b> accept"
      ],
      "text/plain": [
       "<IPython.core.display.HTML object>"
      ]
     },
     "metadata": {},
     "output_type": "display_data"
    },
    {
     "data": {
      "text/html": [
       "#52, 4001 <b>IF </b>  <span style=\"background-color: rgb(219,233,246); color:black;\">other_installment_plans is none</span>  <span style=\"background-color: rgb(226,237,248); color:black;\">purpose is not retraining</span>  <span style=\"background-color: rgb(253,220,205); color:black;\">personal_status_sex is married male</span>  <span style=\"background-color: rgb(253,213,195); color:black;\">amount >= 6048</span>  <span style=\"background-color: rgb(253,209,191); color:black;\">housing is not for free</span>  <span style=\"background-color: rgb(254,227,215); color:black;\">credit_history is no credits taken/all credits paid back duly</span> <b>THEN </b> accept"
      ],
      "text/plain": [
       "<IPython.core.display.HTML object>"
      ]
     },
     "metadata": {},
     "output_type": "display_data"
    },
    {
     "data": {
      "text/html": [
       "#53, 608 <b>IF </b>  <span style=\"background-color: rgb(252,198,175); color:black;\">savings is not 500 to 1000 DM and >= 1000 DM</span>  <span style=\"background-color: rgb(252,195,172); color:black;\">duration in 12 to 37</span>  <span style=\"background-color: rgb(252,175,147); color:white;\">status is not 0 to 200 DM and ... >= 200 DM (salary)</span>  <span style=\"background-color: rgb(254,224,210); color:black;\">job is skilled employee / official</span>  <span style=\"background-color: rgb(253,220,205); color:black;\">personal_status_sex is married male</span>  <span style=\"background-color: rgb(253,212,194); color:black;\">employment_duration is not 4 to 7 yrs and >= 7 yrs</span>  <span style=\"background-color: rgb(221,234,246); color:black;\">purpose is car (used)</span> <b>THEN </b> accept"
      ],
      "text/plain": [
       "<IPython.core.display.HTML object>"
      ]
     },
     "metadata": {},
     "output_type": "display_data"
    },
    {
     "data": {
      "text/html": [
       "#54, 5449 <b>IF </b>  <span style=\"background-color: rgb(252,195,172); color:black;\">status is not no checking account and ... >= 200 DM (salary)</span>  <span style=\"background-color: rgb(253,219,203); color:black;\">age <= 43</span>  <span style=\"background-color: rgb(254,226,213); color:black;\">number_credits is 1</span>  <span style=\"background-color: rgb(252,205,185); color:black;\">personal_status_sex is not married male</span>  <span style=\"background-color: rgb(226,237,248); color:black;\">job is not skilled employee / official</span>  <span style=\"background-color: rgb(223,235,247); color:black;\">employment_duration is not unemployed and < 1 yr</span> <b>THEN </b> accept"
      ],
      "text/plain": [
       "<IPython.core.display.HTML object>"
      ]
     },
     "metadata": {},
     "output_type": "display_data"
    },
    {
     "data": {
      "text/html": [
       "#55, 7594 <b>IF </b>  <span style=\"background-color: rgb(220,233,246); color:black;\">property is not building soc. savings agr./life insurance and unknown / no property</span>  <span style=\"background-color: rgb(252,202,182); color:black;\">age <= 33</span>  <span style=\"background-color: rgb(254,225,212); color:black;\">housing is not rent</span>  <span style=\"background-color: rgb(253,213,195); color:black;\">telephone is No</span>  <span style=\"background-color: rgb(223,235,247); color:black;\">employment_duration is not unemployed and < 1 yr</span>  <span style=\"background-color: rgb(252,154,123); color:white;\">other_installment_plans is bank</span> <b>THEN </b> accept"
      ],
      "text/plain": [
       "<IPython.core.display.HTML object>"
      ]
     },
     "metadata": {},
     "output_type": "display_data"
    },
    {
     "data": {
      "text/html": [
       "#56, 5566 <b>IF </b>  <span style=\"background-color: rgb(188,215,235); color:white;\">savings is 500 to 1000 DM or >= 1000 DM</span>  <span style=\"background-color: rgb(254,225,212); color:black;\">housing is not rent</span>  <span style=\"background-color: rgb(251,127,95); color:white;\">purpose is others</span>  <span style=\"background-color: rgb(252,199,177); color:black;\">property is not real estate</span>  <span style=\"background-color: rgb(224,236,247); color:black;\">amount <= 2496</span> <b>THEN </b> accept"
      ],
      "text/plain": [
       "<IPython.core.display.HTML object>"
      ]
     },
     "metadata": {},
     "output_type": "display_data"
    },
    {
     "data": {
      "text/html": [
       "#57, 1793 <b>IF </b>  <span style=\"background-color: rgb(252,184,157); color:white;\">other_installment_plans is bank</span>  <span style=\"background-color: rgb(252,175,147); color:white;\">status is not 0 to 200 DM and ... >= 200 DM (salary)</span>  <span style=\"background-color: rgb(254,227,215); color:black;\">credit_history is no credits taken/all credits paid back duly</span> <b>THEN </b> accept"
      ],
      "text/plain": [
       "<IPython.core.display.HTML object>"
      ]
     },
     "metadata": {},
     "output_type": "display_data"
    },
    {
     "data": {
      "text/html": [
       "#58, 6255 <b>IF </b>  <span style=\"background-color: rgb(252,172,144); color:white;\">duration >= 15</span>  <span style=\"background-color: rgb(253,214,197); color:black;\">property is car or other</span>  <span style=\"background-color: rgb(254,225,212); color:black;\">housing is not rent</span>  <span style=\"background-color: rgb(253,213,195); color:black;\">credit_history is not delay in paying off in the past and all credits at this bank paid back duly</span>  <span style=\"background-color: rgb(254,228,216); color:black;\">people_liable is 0 to 2</span>  <span style=\"background-color: rgb(253,220,205); color:black;\">amount >= 2418</span>  <span style=\"background-color: rgb(223,235,247); color:black;\">employment_duration is not unemployed and < 1 yr</span>  <span style=\"background-color: rgb(254,226,213); color:black;\">present_residence is not < 1 yr and 1 to 4 yrs</span> <b>THEN </b> accept"
      ],
      "text/plain": [
       "<IPython.core.display.HTML object>"
      ]
     },
     "metadata": {},
     "output_type": "display_data"
    },
    {
     "data": {
      "text/html": [
       "#59, 3394 <b>IF </b>  <span style=\"background-color: rgb(252,192,168); color:black;\">credit_history is not all credits at this bank paid back duly</span>  <span style=\"background-color: rgb(212,228,243); color:black;\">installment_rate is 20 to 25</span>  <span style=\"background-color: rgb(221,234,246); color:black;\">purpose is car (used)</span>  <span style=\"background-color: rgb(252,172,144); color:white;\">duration >= 15</span> <b>THEN </b> accept"
      ],
      "text/plain": [
       "<IPython.core.display.HTML object>"
      ]
     },
     "metadata": {},
     "output_type": "display_data"
    },
    {
     "data": {
      "text/html": [
       "#60, 2534 <b>IF </b>  <span style=\"background-color: rgb(225,237,248); color:black;\">purpose is not others</span>  <span style=\"background-color: rgb(252,195,172); color:black;\">status is not ... >= 200 DM (salary)</span>  <span style=\"background-color: rgb(252,201,180); color:black;\">other_debtors is not guarantor</span>  <span style=\"background-color: rgb(209,226,242); color:black;\">duration <= 18</span>  <span style=\"background-color: rgb(254,225,212); color:black;\">present_residence is >= 7 yrs</span>  <span style=\"background-color: rgb(254,227,215); color:black;\">credit_history is no credits taken/all credits paid back duly</span>  <span style=\"background-color: rgb(225,236,247); color:black;\">telephone is Yes</span> <b>THEN </b> accept"
      ],
      "text/plain": [
       "<IPython.core.display.HTML object>"
      ]
     },
     "metadata": {},
     "output_type": "display_data"
    },
    {
     "data": {
      "text/html": [
       "#61, 5067 <b>IF </b>  <span style=\"background-color: rgb(252,193,169); color:black;\">installment_rate is not < 20 and 20 to 25</span>  <span style=\"background-color: rgb(254,225,211); color:black;\">property is not real estate and unknown / no property</span>  <span style=\"background-color: rgb(219,233,246); color:black;\">other_installment_plans is none</span>  <span style=\"background-color: rgb(252,176,148); color:white;\">housing is not own</span>  <span style=\"background-color: rgb(252,205,185); color:black;\">personal_status_sex is not married male</span>  <span style=\"background-color: rgb(225,237,248); color:black;\">purpose is not others</span>  <span style=\"background-color: rgb(225,236,247); color:black;\">telephone is Yes</span> <b>THEN </b> accept"
      ],
      "text/plain": [
       "<IPython.core.display.HTML object>"
      ]
     },
     "metadata": {},
     "output_type": "display_data"
    },
    {
     "data": {
      "text/html": [
       "#62, 4584 <b>IF </b>  <span style=\"background-color: rgb(252,176,148); color:white;\">housing is not own</span>  <span style=\"background-color: rgb(253,213,195); color:black;\">telephone is No</span>  <span style=\"background-color: rgb(252,195,172); color:black;\">status is not ... >= 200 DM (salary)</span>  <span style=\"background-color: rgb(253,222,208); color:black;\">job is not unskilled - resident and skilled employee / official</span> <b>THEN </b> accept"
      ],
      "text/plain": [
       "<IPython.core.display.HTML object>"
      ]
     },
     "metadata": {},
     "output_type": "display_data"
    },
    {
     "data": {
      "text/html": [
       "#63, 1385 <b>IF </b>  <span style=\"background-color: rgb(252,172,144); color:white;\">duration >= 15</span>  <span style=\"background-color: rgb(225,236,247); color:black;\">telephone is Yes</span>  <span style=\"background-color: rgb(219,233,246); color:black;\">other_debtors is not co-applicant</span>  <span style=\"background-color: rgb(226,237,248); color:black;\">other_installment_plans is not bank</span>  <span style=\"background-color: rgb(251,138,106); color:white;\">purpose is retraining</span>  <span style=\"background-color: rgb(254,224,210); color:black;\">job is skilled employee / official</span> <b>THEN </b> accept"
      ],
      "text/plain": [
       "<IPython.core.display.HTML object>"
      ]
     },
     "metadata": {},
     "output_type": "display_data"
    },
    {
     "data": {
      "text/html": [
       "#64, 1885 <b>IF </b>  <span style=\"background-color: rgb(253,213,195); color:black;\">purpose is not others and car (new) and car (used)</span>  <span style=\"background-color: rgb(252,195,172); color:black;\">status is not ... >= 200 DM (salary)</span>  <span style=\"background-color: rgb(254,228,216); color:black;\">savings is unknown/no savings account</span>  <span style=\"background-color: rgb(254,228,216); color:black;\">people_liable is 0 to 2</span>  <span style=\"background-color: rgb(253,212,194); color:black;\">employment_duration is not 4 to 7 yrs and >= 7 yrs</span>  <span style=\"background-color: rgb(253,212,194); color:black;\">other_debtors is none</span>  <span style=\"background-color: rgb(222,235,247); color:black;\">amount <= 1613</span> <b>THEN </b> accept"
      ],
      "text/plain": [
       "<IPython.core.display.HTML object>"
      ]
     },
     "metadata": {},
     "output_type": "display_data"
    },
    {
     "data": {
      "text/html": [
       "#65, 3059 <b>IF </b>  <span style=\"background-color: rgb(252,178,151); color:white;\">property is not real estate and building soc. savings agr./life insurance</span>  <span style=\"background-color: rgb(253,208,189); color:black;\">purpose is not car (new)</span>  <span style=\"background-color: rgb(252,195,172); color:black;\">status is not ... >= 200 DM (salary)</span>  <span style=\"background-color: rgb(253,212,194); color:black;\">duration >= 9</span>  <span style=\"background-color: rgb(187,214,235); color:white;\">credit_history is all credits at this bank paid back duly</span>  <span style=\"background-color: rgb(253,222,208); color:black;\">number_credits is not 2 to 3</span> <b>THEN </b> accept"
      ],
      "text/plain": [
       "<IPython.core.display.HTML object>"
      ]
     },
     "metadata": {},
     "output_type": "display_data"
    },
    {
     "data": {
      "text/html": [
       "#66, 5725 <b>IF </b>  <span style=\"background-color: rgb(225,236,247); color:black;\">telephone is Yes</span>  <span style=\"background-color: rgb(221,234,246); color:black;\">duration <= 33</span>  <span style=\"background-color: rgb(251,141,109); color:white;\">property is unknown / no property</span>  <span style=\"background-color: rgb(252,195,172); color:black;\">housing is for free</span>  <span style=\"background-color: rgb(252,175,147); color:white;\">status is not 0 to 200 DM and ... >= 200 DM (salary)</span> <b>THEN </b> accept"
      ],
      "text/plain": [
       "<IPython.core.display.HTML object>"
      ]
     },
     "metadata": {},
     "output_type": "display_data"
    },
    {
     "data": {
      "text/html": [
       "#67, 910 <b>IF </b>  <span style=\"background-color: rgb(252,199,177); color:black;\">property is building soc. savings agr./life insurance</span>  <span style=\"background-color: rgb(251,122,90); color:white;\">duration >= 25</span>  <span style=\"background-color: rgb(225,236,247); color:black;\">amount <= 3638</span> <b>THEN </b> accept"
      ],
      "text/plain": [
       "<IPython.core.display.HTML object>"
      ]
     },
     "metadata": {},
     "output_type": "display_data"
    },
    {
     "data": {
      "text/html": [
       "#68, 8455 <b>IF </b>  <span style=\"background-color: rgb(219,233,246); color:black;\">housing is own</span>  <span style=\"background-color: rgb(253,208,189); color:black;\">other_installment_plans is not bank</span>  <span style=\"background-color: rgb(252,195,172); color:black;\">status is not ... >= 200 DM (salary)</span>  <span style=\"background-color: rgb(254,228,216); color:black;\">savings is not unknown/no savings account</span>  <span style=\"background-color: rgb(253,220,205); color:black;\">personal_status_sex is married male</span>  <span style=\"background-color: rgb(251,122,90); color:white;\">duration >= 24</span> <b>THEN </b> accept"
      ],
      "text/plain": [
       "<IPython.core.display.HTML object>"
      ]
     },
     "metadata": {},
     "output_type": "display_data"
    },
    {
     "data": {
      "text/html": [
       "#69, 8004 <b>IF </b>  <span style=\"background-color: rgb(225,237,248); color:black;\">amount <= 3885</span>  <span style=\"background-color: rgb(252,176,148); color:white;\">housing is rent</span>  <span style=\"background-color: rgb(252,191,166); color:white;\">savings is unknown/no savings account or < 100 DM</span>  <span style=\"background-color: rgb(254,228,216); color:black;\">people_liable is 0 to 2</span>  <span style=\"background-color: rgb(254,225,211); color:black;\">purpose is not others and car (used) and furniture/equipment</span>  <span style=\"background-color: rgb(221,234,246); color:black;\">property is not unknown / no property</span>  <span style=\"background-color: rgb(254,224,210); color:black;\">job is skilled employee / official</span> <b>THEN </b> accept"
      ],
      "text/plain": [
       "<IPython.core.display.HTML object>"
      ]
     },
     "metadata": {},
     "output_type": "display_data"
    },
    {
     "data": {
      "text/html": [
       "#70, 6259 <b>IF </b>  <span style=\"background-color: rgb(252,172,144); color:white;\">duration >= 15</span>  <span style=\"background-color: rgb(253,214,197); color:black;\">property is car or other</span>  <span style=\"background-color: rgb(252,176,148); color:white;\">housing is rent</span>  <span style=\"background-color: rgb(245,83,59); color:white;\">status is no checking account</span> <b>THEN </b> reject"
      ],
      "text/plain": [
       "<IPython.core.display.HTML object>"
      ]
     },
     "metadata": {},
     "output_type": "display_data"
    },
    {
     "data": {
      "text/html": [
       "#71, 7643 <b>IF </b>  <span style=\"background-color: rgb(252,195,172); color:black;\">status is not ... >= 200 DM (salary)</span>  <span style=\"background-color: rgb(253,223,209); color:black;\">job is not unskilled - resident</span>  <span style=\"background-color: rgb(253,207,188); color:black;\">duration >= 11</span>  <span style=\"background-color: rgb(253,213,195); color:black;\">telephone is No</span>  <span style=\"background-color: rgb(254,225,212); color:black;\">housing is not rent</span>  <span style=\"background-color: rgb(219,233,246); color:black;\">other_installment_plans is none</span>  <span style=\"background-color: rgb(254,226,213); color:black;\">number_credits is 2 to 3</span>  <span style=\"background-color: rgb(225,237,248); color:black;\">purpose is not others</span>  <span style=\"background-color: rgb(252,176,148); color:white;\">installment_rate is >= 35</span> <b>THEN </b> accept"
      ],
      "text/plain": [
       "<IPython.core.display.HTML object>"
      ]
     },
     "metadata": {},
     "output_type": "display_data"
    },
    {
     "data": {
      "text/html": [
       "#72, 9658 <b>IF </b>  <span style=\"background-color: rgb(187,214,235); color:white;\">credit_history is all credits at this bank paid back duly</span>  <span style=\"background-color: rgb(252,201,180); color:black;\">other_debtors is not guarantor</span>  <span style=\"background-color: rgb(253,207,188); color:black;\">duration >= 11</span>  <span style=\"background-color: rgb(251,127,95); color:white;\">purpose is others</span>  <span style=\"background-color: rgb(252,195,172); color:black;\">status is not ... >= 200 DM (salary)</span> <b>THEN </b> accept"
      ],
      "text/plain": [
       "<IPython.core.display.HTML object>"
      ]
     },
     "metadata": {},
     "output_type": "display_data"
    },
    {
     "data": {
      "text/html": [
       "#73, 9123 <b>IF </b>  <span style=\"background-color: rgb(252,172,144); color:white;\">duration >= 15</span>  <span style=\"background-color: rgb(226,237,248); color:black;\">other_installment_plans is stores</span>  <span style=\"background-color: rgb(226,237,248); color:black;\">present_residence is not 4 to 7 yrs and >= 7 yrs</span>  <span style=\"background-color: rgb(254,226,213); color:black;\">number_credits is 1</span>  <span style=\"background-color: rgb(252,195,172); color:black;\">status is not ... >= 200 DM (salary)</span> <b>THEN </b> accept"
      ],
      "text/plain": [
       "<IPython.core.display.HTML object>"
      ]
     },
     "metadata": {},
     "output_type": "display_data"
    },
    {
     "data": {
      "text/html": [
       "#74, 8389 <b>IF </b>  <span style=\"background-color: rgb(205,223,241); color:black;\">duration <= 15</span>  <span style=\"background-color: rgb(219,233,246); color:black;\">other_installment_plans is none</span>  <span style=\"background-color: rgb(225,237,248); color:black;\">purpose is not others</span>  <span style=\"background-color: rgb(254,227,215); color:black;\">credit_history is no credits taken/all credits paid back duly</span>  <span style=\"background-color: rgb(254,227,214); color:black;\">amount >= 804</span>  <span style=\"background-color: rgb(252,191,166); color:white;\">other_debtors is co-applicant</span> <b>THEN </b> accept"
      ],
      "text/plain": [
       "<IPython.core.display.HTML object>"
      ]
     },
     "metadata": {},
     "output_type": "display_data"
    },
    {
     "data": {
      "text/html": [
       "#75, 1324 <b>IF </b>  <span style=\"background-color: rgb(219,233,246); color:black;\">housing is own</span>  <span style=\"background-color: rgb(253,222,208); color:black;\">purpose is not car (used)</span>  <span style=\"background-color: rgb(253,223,209); color:black;\">job is not unskilled - resident</span>  <span style=\"background-color: rgb(253,208,189); color:black;\">other_installment_plans is none</span>  <span style=\"background-color: rgb(252,197,174); color:black;\">age <= 30</span>  <span style=\"background-color: rgb(254,228,216); color:black;\">savings is not 500 to 1000 DM and >= 1000 DM</span>  <span style=\"background-color: rgb(245,83,59); color:white;\">status is no checking account</span>  <span style=\"background-color: rgb(254,225,211); color:black;\">amount >= 1363</span> <b>THEN </b> reject"
      ],
      "text/plain": [
       "<IPython.core.display.HTML object>"
      ]
     },
     "metadata": {},
     "output_type": "display_data"
    },
    {
     "data": {
      "text/html": [
       "#76, 6399 <b>IF </b>  <span style=\"background-color: rgb(252,172,144); color:white;\">duration >= 15</span>  <span style=\"background-color: rgb(158,202,225); color:white;\">status is ... >= 200 DM (salary)</span>  <span style=\"background-color: rgb(252,184,157); color:white;\">other_installment_plans is not none</span>  <span style=\"background-color: rgb(253,212,194); color:black;\">amount >= 6386</span> <b>THEN </b> accept"
      ],
      "text/plain": [
       "<IPython.core.display.HTML object>"
      ]
     },
     "metadata": {},
     "output_type": "display_data"
    },
    {
     "data": {
      "text/html": [
       "#77, 9305 <b>IF </b>  <span style=\"background-color: rgb(222,235,247); color:black;\">credit_history is not critical account/other credits elsewhere</span>  <span style=\"background-color: rgb(252,195,172); color:black;\">status is not no checking account and ... >= 200 DM (salary)</span>  <span style=\"background-color: rgb(221,234,246); color:black;\">purpose is furniture/equipment</span>  <span style=\"background-color: rgb(219,233,246); color:black;\">housing is own</span>  <span style=\"background-color: rgb(253,218,202); color:black;\">property is not building soc. savings agr./life insurance</span>  <span style=\"background-color: rgb(252,201,180); color:black;\">other_debtors is not guarantor</span>  <span style=\"background-color: rgb(225,236,247); color:black;\">telephone is Yes</span> <b>THEN </b> accept"
      ],
      "text/plain": [
       "<IPython.core.display.HTML object>"
      ]
     },
     "metadata": {},
     "output_type": "display_data"
    },
    {
     "data": {
      "text/html": [
       "#78, 3921 <b>IF </b>  <span style=\"background-color: rgb(252,199,177); color:black;\">property is not real estate</span>  <span style=\"background-color: rgb(252,205,185); color:black;\">personal_status_sex is not married male</span>  <span style=\"background-color: rgb(253,212,194); color:black;\">employment_duration is not 4 to 7 yrs and >= 7 yrs</span>  <span style=\"background-color: rgb(212,228,243); color:black;\">purpose is furniture/equipment</span>  <span style=\"background-color: rgb(253,213,195); color:black;\">telephone is No</span>  <span style=\"background-color: rgb(254,226,213); color:black;\">present_residence is not < 1 yr and 1 to 4 yrs</span> <b>THEN </b> accept"
      ],
      "text/plain": [
       "<IPython.core.display.HTML object>"
      ]
     },
     "metadata": {},
     "output_type": "display_data"
    },
    {
     "data": {
      "text/html": [
       "#79, 222 <b>IF </b>  <span style=\"background-color: rgb(252,195,172); color:black;\">status is not ... >= 200 DM (salary)</span>  <span style=\"background-color: rgb(253,220,205); color:black;\">personal_status_sex is married male</span>  <span style=\"background-color: rgb(253,207,188); color:black;\">other_installment_plans is not stores</span>  <span style=\"background-color: rgb(221,234,246); color:black;\">credit_history is not delay in paying off in the past</span>  <span style=\"background-color: rgb(253,222,208); color:black;\">number_credits is not 2 to 3</span>  <span style=\"background-color: rgb(225,236,247); color:black;\">telephone is Yes</span>  <span style=\"background-color: rgb(251,122,90); color:white;\">duration >= 25</span> <b>THEN </b> reject"
      ],
      "text/plain": [
       "<IPython.core.display.HTML object>"
      ]
     },
     "metadata": {},
     "output_type": "display_data"
    },
    {
     "data": {
      "text/html": [
       "#80, 4345 <b>IF </b>  <span style=\"background-color: rgb(253,213,195); color:black;\">telephone is No</span>  <span style=\"background-color: rgb(254,225,211); color:black;\">property is not car or other</span>  <span style=\"background-color: rgb(254,228,216); color:black;\">foreign_worker is No</span>  <span style=\"background-color: rgb(252,180,153); color:white;\">credit_history is existing credits paid back duly till now</span>  <span style=\"background-color: rgb(252,176,148); color:white;\">housing is not own</span>  <span style=\"background-color: rgb(253,222,208); color:black;\">purpose is not car (used)</span> <b>THEN </b> accept"
      ],
      "text/plain": [
       "<IPython.core.display.HTML object>"
      ]
     },
     "metadata": {},
     "output_type": "display_data"
    },
    {
     "data": {
      "text/html": [
       "#81, 7354 <b>IF </b>  <span style=\"background-color: rgb(254,228,216); color:black;\">savings is unknown/no savings account</span>  <span style=\"background-color: rgb(252,192,168); color:black;\">credit_history is no credits taken/all credits paid back duly</span>  <span style=\"background-color: rgb(253,219,203); color:black;\">duration >= 8</span>  <span style=\"background-color: rgb(252,205,185); color:black;\">personal_status_sex is not married male</span>  <span style=\"background-color: rgb(252,195,172); color:black;\">status is not ... >= 200 DM (salary)</span>  <span style=\"background-color: rgb(253,223,209); color:black;\">job is not unskilled - resident</span>  <span style=\"background-color: rgb(252,199,177); color:black;\">property is not real estate</span>  <span style=\"background-color: rgb(225,237,248); color:black;\">purpose is not others</span>  <span style=\"background-color: rgb(216,231,245); color:black;\">installment_rate is not >= 35</span> <b>THEN </b> accept"
      ],
      "text/plain": [
       "<IPython.core.display.HTML object>"
      ]
     },
     "metadata": {},
     "output_type": "display_data"
    },
    {
     "data": {
      "text/html": [
       "#82, 2954 <b>IF </b>  <span style=\"background-color: rgb(254,225,212); color:black;\">housing is not rent</span>  <span style=\"background-color: rgb(221,234,246); color:black;\">property is not unknown / no property</span>  <span style=\"background-color: rgb(252,180,153); color:white;\">credit_history is not no credits taken/all credits paid back duly and all credits at this bank paid back duly</span>  <span style=\"background-color: rgb(254,226,213); color:black;\">number_credits is 2 to 3</span>  <span style=\"background-color: rgb(252,193,169); color:black;\">installment_rate is not < 20 and 20 to 25</span>  <span style=\"background-color: rgb(218,232,245); color:black;\">employment_duration is 4 to 7 yrs or >= 7 yrs</span> <b>THEN </b> accept"
      ],
      "text/plain": [
       "<IPython.core.display.HTML object>"
      ]
     },
     "metadata": {},
     "output_type": "display_data"
    },
    {
     "data": {
      "text/html": [
       "#83, 5177 <b>IF </b>  <span style=\"background-color: rgb(219,233,246); color:black;\">housing is own</span>  <span style=\"background-color: rgb(254,224,210); color:black;\">job is skilled employee / official</span>  <span style=\"background-color: rgb(219,233,246); color:black;\">other_installment_plans is none</span>  <span style=\"background-color: rgb(253,220,205); color:black;\">personal_status_sex is married male</span>  <span style=\"background-color: rgb(253,222,208); color:black;\">number_credits is not 1</span>  <span style=\"background-color: rgb(252,192,168); color:black;\">credit_history is not all credits at this bank paid back duly</span>  <span style=\"background-color: rgb(252,195,172); color:black;\">status is not ... >= 200 DM (salary)</span> <b>THEN </b> accept"
      ],
      "text/plain": [
       "<IPython.core.display.HTML object>"
      ]
     },
     "metadata": {},
     "output_type": "display_data"
    },
    {
     "data": {
      "text/html": [
       "#84, 4367 <b>IF </b>  <span style=\"background-color: rgb(253,213,195); color:black;\">telephone is No</span>  <span style=\"background-color: rgb(253,214,197); color:black;\">property is car or other</span>  <span style=\"background-color: rgb(254,224,210); color:black;\">credit_history is not all credits at this bank paid back duly</span>  <span style=\"background-color: rgb(219,233,246); color:black;\">housing is own</span>  <span style=\"background-color: rgb(254,228,216); color:black;\">savings is not unknown/no savings account</span>  <span style=\"background-color: rgb(253,219,203); color:black;\">purpose is not furniture/equipment</span> <b>THEN </b> accept"
      ],
      "text/plain": [
       "<IPython.core.display.HTML object>"
      ]
     },
     "metadata": {},
     "output_type": "display_data"
    },
    {
     "data": {
      "text/html": [
       "#85, 5289 <b>IF </b>  <span style=\"background-color: rgb(254,225,211); color:black;\">telephone is Yes</span>  <span style=\"background-color: rgb(254,228,216); color:black;\">savings is unknown/no savings account or < 100 DM</span>  <span style=\"background-color: rgb(226,237,248); color:black;\">purpose is not retraining</span>  <span style=\"background-color: rgb(252,199,177); color:black;\">property is unknown / no property</span>  <span style=\"background-color: rgb(252,176,148); color:white;\">installment_rate is >= 35</span>  <span style=\"background-color: rgb(254,227,215); color:black;\">credit_history is no credits taken/all credits paid back duly</span> <b>THEN </b> reject"
      ],
      "text/plain": [
       "<IPython.core.display.HTML object>"
      ]
     },
     "metadata": {},
     "output_type": "display_data"
    },
    {
     "data": {
      "text/html": [
       "#86, 916 <b>IF </b>  <span style=\"background-color: rgb(209,226,242); color:black;\">property is real estate</span>  <span style=\"background-color: rgb(210,227,243); color:black;\">duration in 9 to 16</span>  <span style=\"background-color: rgb(252,195,172); color:black;\">status is not ... >= 200 DM (salary)</span>  <span style=\"background-color: rgb(254,228,216); color:black;\">people_liable is 0 to 2</span>  <span style=\"background-color: rgb(253,212,194); color:black;\">employment_duration is not 4 to 7 yrs and >= 7 yrs</span>  <span style=\"background-color: rgb(254,224,210); color:black;\">amount >= 1524</span> <b>THEN </b> accept"
      ],
      "text/plain": [
       "<IPython.core.display.HTML object>"
      ]
     },
     "metadata": {},
     "output_type": "display_data"
    },
    {
     "data": {
      "text/html": [
       "#87, 8127 <b>IF </b>  <span style=\"background-color: rgb(252,195,172); color:black;\">status is not ... >= 200 DM (salary)</span>  <span style=\"background-color: rgb(254,226,213); color:black;\">purpose is not furniture/equipment and retraining</span>  <span style=\"background-color: rgb(252,192,168); color:black;\">property is not real estate and car or other</span>  <span style=\"background-color: rgb(252,192,168); color:black;\">credit_history is not all credits at this bank paid back duly</span>  <span style=\"background-color: rgb(225,236,247); color:black;\">job is not management/ self-employed/ highly qualified employee/ officer</span>  <span style=\"background-color: rgb(254,226,213); color:black;\">number_credits is 1</span>  <span style=\"background-color: rgb(253,213,195); color:black;\">telephone is No</span>  <span style=\"background-color: rgb(253,220,205); color:black;\">personal_status_sex is married male</span> <b>THEN </b> accept"
      ],
      "text/plain": [
       "<IPython.core.display.HTML object>"
      ]
     },
     "metadata": {},
     "output_type": "display_data"
    },
    {
     "data": {
      "text/html": [
       "#88, 7951 <b>IF </b>  <span style=\"background-color: rgb(252,195,172); color:black;\">status is not ... >= 200 DM (salary)</span>  <span style=\"background-color: rgb(254,227,215); color:black;\">present_residence is not < 1 yr</span>  <span style=\"background-color: rgb(225,236,247); color:black;\">telephone is Yes</span>  <span style=\"background-color: rgb(222,235,247); color:black;\">purpose is not others and retraining</span>  <span style=\"background-color: rgb(226,237,248); color:black;\">employment_duration is not unemployed</span>  <span style=\"background-color: rgb(224,236,247); color:black;\">duration <= 40</span>  <span style=\"background-color: rgb(251,141,109); color:white;\">property is unknown / no property</span>  <span style=\"background-color: rgb(225,236,247); color:black;\">amount <= 3374</span> <b>THEN </b> accept"
      ],
      "text/plain": [
       "<IPython.core.display.HTML object>"
      ]
     },
     "metadata": {},
     "output_type": "display_data"
    },
    {
     "data": {
      "text/html": [
       "#89, 4006 <b>IF </b>  <span style=\"background-color: rgb(219,233,246); color:black;\">other_installment_plans is none</span>  <span style=\"background-color: rgb(251,138,106); color:white;\">purpose is retraining</span>  <span style=\"background-color: rgb(254,226,213); color:black;\">number_credits is 1</span>  <span style=\"background-color: rgb(253,223,209); color:black;\">credit_history is not no credits taken/all credits paid back duly</span> <b>THEN </b> reject"
      ],
      "text/plain": [
       "<IPython.core.display.HTML object>"
      ]
     },
     "metadata": {},
     "output_type": "display_data"
    },
    {
     "data": {
      "text/html": [
       "#90, 1872 <b>IF </b>  <span style=\"background-color: rgb(187,214,235); color:white;\">credit_history is all credits at this bank paid back duly</span>  <span style=\"background-color: rgb(221,234,246); color:black;\">other_debtors is not none</span>  <span style=\"background-color: rgb(225,236,247); color:black;\">telephone is Yes</span> <b>THEN </b> accept"
      ],
      "text/plain": [
       "<IPython.core.display.HTML object>"
      ]
     },
     "metadata": {},
     "output_type": "display_data"
    },
    {
     "data": {
      "text/html": [
       "#91, 8087 <b>IF </b>  <span style=\"background-color: rgb(226,237,248); color:black;\">other_installment_plans is not bank</span>  <span style=\"background-color: rgb(252,205,185); color:black;\">personal_status_sex is not married male</span>  <span style=\"background-color: rgb(252,195,172); color:black;\">status is not ... >= 200 DM (salary)</span>  <span style=\"background-color: rgb(253,212,194); color:black;\">other_debtors is none</span>  <span style=\"background-color: rgb(254,225,212); color:black;\">amount >= 1282</span>  <span style=\"background-color: rgb(218,232,245); color:black;\">age >= 34</span>  <span style=\"background-color: rgb(251,127,95); color:white;\">purpose is others</span> <b>THEN </b> accept"
      ],
      "text/plain": [
       "<IPython.core.display.HTML object>"
      ]
     },
     "metadata": {},
     "output_type": "display_data"
    },
    {
     "data": {
      "text/html": [
       "#92, 9404 <b>IF </b>  <span style=\"background-color: rgb(219,233,246); color:black;\">other_installment_plans is none</span>  <span style=\"background-color: rgb(252,192,168); color:black;\">credit_history is not all credits at this bank paid back duly</span>  <span style=\"background-color: rgb(253,219,203); color:black;\">purpose is not furniture/equipment</span>  <span style=\"background-color: rgb(253,213,195); color:black;\">telephone is No</span>  <span style=\"background-color: rgb(254,225,212); color:black;\">housing is not rent</span>  <span style=\"background-color: rgb(226,237,248); color:black;\">job is not skilled employee / official</span>  <span style=\"background-color: rgb(221,234,246); color:black;\">amount <= 1263</span> <b>THEN </b> accept"
      ],
      "text/plain": [
       "<IPython.core.display.HTML object>"
      ]
     },
     "metadata": {},
     "output_type": "display_data"
    },
    {
     "data": {
      "text/html": [
       "#93, 7062 <b>IF </b>  <span style=\"background-color: rgb(252,191,166); color:white;\">savings is unknown/no savings account or < 100 DM</span>  <span style=\"background-color: rgb(225,236,247); color:black;\">telephone is Yes</span>  <span style=\"background-color: rgb(252,175,147); color:white;\">status is not 0 to 200 DM and ... >= 200 DM (salary)</span>  <span style=\"background-color: rgb(212,228,243); color:black;\">purpose is furniture/equipment</span> <b>THEN </b> reject"
      ],
      "text/plain": [
       "<IPython.core.display.HTML object>"
      ]
     },
     "metadata": {},
     "output_type": "display_data"
    },
    {
     "data": {
      "text/html": [
       "#94, 1479 <b>IF </b>  <span style=\"background-color: rgb(219,233,246); color:black;\">housing is own</span>  <span style=\"background-color: rgb(252,199,177); color:black;\">property is not real estate</span>  <span style=\"background-color: rgb(252,184,157); color:white;\">other_installment_plans is not none</span>  <span style=\"background-color: rgb(225,237,248); color:black;\">purpose is not others</span>  <span style=\"background-color: rgb(216,231,245); color:black;\">installment_rate is not >= 35</span>  <span style=\"background-color: rgb(254,226,213); color:black;\">number_credits is 2 to 3</span> <b>THEN </b> accept"
      ],
      "text/plain": [
       "<IPython.core.display.HTML object>"
      ]
     },
     "metadata": {},
     "output_type": "display_data"
    },
    {
     "data": {
      "text/html": [
       "#95, 2801 <b>IF </b>  <span style=\"background-color: rgb(252,172,144); color:white;\">duration >= 15</span>  <span style=\"background-color: rgb(254,224,210); color:black;\">job is skilled employee / official</span>  <span style=\"background-color: rgb(219,233,246); color:black;\">housing is own</span>  <span style=\"background-color: rgb(254,226,213); color:black;\">number_credits is 1</span>  <span style=\"background-color: rgb(226,237,248); color:black;\">other_installment_plans is not bank</span>  <span style=\"background-color: rgb(253,223,209); color:black;\">credit_history is not no credits taken/all credits paid back duly</span>  <span style=\"background-color: rgb(212,228,243); color:black;\">purpose is furniture/equipment</span> <b>THEN </b> accept"
      ],
      "text/plain": [
       "<IPython.core.display.HTML object>"
      ]
     },
     "metadata": {},
     "output_type": "display_data"
    },
    {
     "data": {
      "text/html": [
       "#96, 4449 <b>IF </b>  <span style=\"background-color: rgb(252,192,168); color:black;\">credit_history is not all credits at this bank paid back duly</span>  <span style=\"background-color: rgb(252,195,172); color:black;\">status is not no checking account and ... >= 200 DM (salary)</span>  <span style=\"background-color: rgb(253,222,208); color:black;\">number_credits is not 1</span>  <span style=\"background-color: rgb(203,222,240); color:black;\">duration <= 12</span> <b>THEN </b> accept"
      ],
      "text/plain": [
       "<IPython.core.display.HTML object>"
      ]
     },
     "metadata": {},
     "output_type": "display_data"
    },
    {
     "data": {
      "text/html": [
       "#97, 7885 <b>IF </b>  <span style=\"background-color: rgb(252,195,172); color:black;\">status is not ... >= 200 DM (salary)</span>  <span style=\"background-color: rgb(225,237,248); color:black;\">purpose is not others and furniture/equipment</span>  <span style=\"background-color: rgb(254,228,216); color:black;\">savings is >= 1000 DM</span>  <span style=\"background-color: rgb(253,213,195); color:black;\">telephone is No</span> <b>THEN </b> accept"
      ],
      "text/plain": [
       "<IPython.core.display.HTML object>"
      ]
     },
     "metadata": {},
     "output_type": "display_data"
    },
    {
     "data": {
      "text/html": [
       "#98, 5365 <b>IF </b>  <span style=\"background-color: rgb(158,202,225); color:white;\">status is ... >= 200 DM (salary)</span>  <span style=\"background-color: rgb(252,184,157); color:white;\">other_installment_plans is not none</span>  <span style=\"background-color: rgb(253,223,209); color:black;\">property is not car or other</span>  <span style=\"background-color: rgb(254,224,210); color:black;\">job is skilled employee / official</span>  <span style=\"background-color: rgb(254,228,216); color:black;\">savings is not unknown/no savings account</span> <b>THEN </b> accept"
      ],
      "text/plain": [
       "<IPython.core.display.HTML object>"
      ]
     },
     "metadata": {},
     "output_type": "display_data"
    },
    {
     "data": {
      "text/html": [
       "#99, 6609 <b>IF </b>  <span style=\"background-color: rgb(252,195,172); color:black;\">status is not ... >= 200 DM (salary)</span>  <span style=\"background-color: rgb(225,237,248); color:black;\">present_residence is < 1 yr</span>  <span style=\"background-color: rgb(253,223,209); color:black;\">job is not unskilled - resident</span>  <span style=\"background-color: rgb(254,227,215); color:black;\">credit_history is no credits taken/all credits paid back duly</span>  <span style=\"background-color: rgb(252,205,185); color:black;\">personal_status_sex is not married male</span>  <span style=\"background-color: rgb(222,235,247); color:black;\">amount <= 1506</span> <b>THEN </b> accept"
      ],
      "text/plain": [
       "<IPython.core.display.HTML object>"
      ]
     },
     "metadata": {},
     "output_type": "display_data"
    }
   ],
   "source": [
    "for it, i in enumerate(low_conf_idxes):\n",
    "    display_rule(it, i) "
   ]
  }
 ],
 "metadata": {
  "kernelspec": {
   "display_name": "Python 3.8.1 ('base')",
   "language": "python",
   "name": "python3"
  },
  "language_info": {
   "codemirror_mode": {
    "name": "ipython",
    "version": 3
   },
   "file_extension": ".py",
   "mimetype": "text/x-python",
   "name": "python",
   "nbconvert_exporter": "python",
   "pygments_lexer": "ipython3",
   "version": "3.8.1"
  },
  "orig_nbformat": 4,
  "vscode": {
   "interpreter": {
    "hash": "7e68ee7780e0be540c4e3141e92f7a462f6acd183a50724e7701ea314000c600"
   }
  }
 },
 "nbformat": 4,
 "nbformat_minor": 2
}
