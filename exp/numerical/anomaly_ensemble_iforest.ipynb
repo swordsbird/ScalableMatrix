{
 "cells": [
  {
   "cell_type": "code",
   "execution_count": 1,
   "metadata": {},
   "outputs": [],
   "source": [
    "import numpy as np\n",
    "import matplotlib.pyplot as plt\n",
    "from sklearn import manifold, datasets\n",
    "import pickle\n",
    "from sklearn.neighbors import LocalOutlierFactor\n",
    "from sklearn.metrics import pairwise_distances\n",
    "import pandas as pd\n",
    "import seaborn as sns\n",
    "from sklearn.neighbors import LocalOutlierFactor\n",
    "from sklearn.ensemble import IsolationForest\n",
    "from sklearn.svm import OneClassSVM\n",
    "from sklearn.metrics import pairwise_distances"
   ]
  },
  {
   "cell_type": "code",
   "execution_count": 2,
   "metadata": {},
   "outputs": [],
   "source": [
    "def anomaly_detection(mat):\n",
    "    scores = []\n",
    "    clf = IsolationForest(random_state = 0, n_estimators = 100)\n",
    "    clf.fit_predict(mat)\n",
    "    score = -clf.score_samples(mat)\n",
    "    scores.append(score)\n",
    "\n",
    "    clf = IsolationForest(random_state = 0, n_estimators = 200)\n",
    "    clf.fit_predict(mat)\n",
    "    score = -clf.score_samples(mat)\n",
    "    scores.append(score)\n",
    "\n",
    "    clf = IsolationForest(random_state = 10, n_estimators = 100)\n",
    "    clf.fit_predict(mat)\n",
    "    score = -clf.score_samples(mat)\n",
    "    scores.append(score)\n",
    "\n",
    "    clf = IsolationForest(random_state = 10, n_estimators = 200)\n",
    "    clf.fit_predict(mat)\n",
    "    score = -clf.score_samples(mat)\n",
    "    scores.append(score)\n",
    "\n",
    "    clf = IsolationForest(random_state = 20, n_estimators = 100, contamination = 0.2)\n",
    "    clf.fit_predict(mat)\n",
    "    score = -clf.score_samples(mat)\n",
    "    scores.append(score)\n",
    "\n",
    "    clf = IsolationForest(random_state = 20, n_estimators = 200, contamination = 0.2)\n",
    "    clf.fit_predict(mat)\n",
    "    score = -clf.score_samples(mat)\n",
    "    scores.append(score)\n",
    "    \n",
    "    ret = []\n",
    "    for score in scores:\n",
    "        min_s = np.min(score)\n",
    "        max_s = np.max(score)\n",
    "        score = (score - min_s) / (max_s - min_s)\n",
    "        ret.append(score)\n",
    "    \n",
    "    return np.array(ret).mean(axis = 0), ret\n",
    "    "
   ]
  },
  {
   "cell_type": "code",
   "execution_count": 26,
   "metadata": {},
   "outputs": [],
   "source": [
    "from sklearn.linear_model import LinearRegression\n",
    "class DetectorEnsemble:\n",
    "    def __init__(self):\n",
    "        self.detectors = []\n",
    "        self.detectors.append(('lof1', LocalOutlierFactor(metric=\"precomputed\", n_neighbors=10)))\n",
    "        self.detectors.append(('lof2', LocalOutlierFactor(metric=\"precomputed\", n_neighbors=20)))\n",
    "        self.detectors.append(('lof3', LocalOutlierFactor(metric=\"precomputed\", n_neighbors=30)))\n",
    "        self.detectors.append(('iforest1', IsolationForest(random_state = 0, n_estimators = 100)))\n",
    "        self.detectors.append(('iforest2', IsolationForest(random_state = 0, n_estimators = 200)))\n",
    "        self.detectors.append(('ocsvm1', OneClassSVM(gamma='auto', kernel='rbf')))\n",
    "    \n",
    "    def fit_detector(self, X, y):\n",
    "        self.clf = LinearRegression(fit_intercept=True, normalize=False, copy_X=True).fit(X, y)\n",
    "\n",
    "    def fit(self, mat):\n",
    "        dist = pairwise_distances(X = mat, metric='euclidean')\n",
    "        self.scores = []\n",
    "        for (name, detector) in self.detectors:\n",
    "            if name[:3] == 'lof':\n",
    "                detector.fit_predict(dist)\n",
    "                self.scores.append(-detector.negative_outlier_factor_)\n",
    "            else:\n",
    "                detector.fit_predict(mat)\n",
    "                self.scores.append(-detector.score_samples(mat))\n",
    "        tmp = []\n",
    "        for score in self.scores:\n",
    "            min_s = np.min(score)\n",
    "            max_s = np.max(score)\n",
    "            score = (score - min_s) / (max_s - min_s)\n",
    "            tmp.append(score)\n",
    "        self.n = mat.shape[0]\n",
    "        self.scores = np.array(tmp)\n",
    "        self.ground_truth = {}\n",
    "        self.adjust_sample_weight = self.n // 100\n",
    "        self.weights = np.ones(len(self.detectors))\n",
    "        weights = self.weights / np.sum(self.weights)\n",
    "\n",
    "        self.scores = self.scores.transpose()\n",
    "        y = (self.scores * weights).sum(axis = 1)\n",
    "        print('before fit', self.scores.shape, y.shape)\n",
    "        self.fit_detector(self.scores, y)\n",
    "        print('after fit')\n",
    "    \n",
    "    def weighted_score(self):\n",
    "        y = self.clf.predict(self.scores)\n",
    "        for i in self.ground_truth:\n",
    "            y[i] = self.ground_truth[i]\n",
    "        return y\n",
    "\n",
    "    def adjust_weight(self, idx, score):\n",
    "        self.ground_truth[idx] = score\n",
    "        sample_weight = np.ones(self.n)\n",
    "        for i in self.ground_truth:\n",
    "            sample_weight[i] = self.adjust_sample_weight\n",
    "        y = self.weighted_score()\n",
    "        self.fit_detector(self.scores, y)"
   ]
  },
  {
   "cell_type": "code",
   "execution_count": 27,
   "metadata": {},
   "outputs": [],
   "source": [
    "def anomaly_ensemble(scores, weights = None):\n",
    "    if weights is None:\n",
    "        weights = np.ones(len(scores))\n",
    "    tot_weight = np.sum(weights)\n",
    "    avg = np.zeros(scores[0].shape)\n",
    "    for i, score in enumerate(scores):\n",
    "        avg += score * weights[i]\n",
    "    return avg / tot_weight"
   ]
  },
  {
   "cell_type": "code",
   "execution_count": 3,
   "metadata": {},
   "outputs": [],
   "source": [
    "data = pickle.loads(open('german_rf.pkl', 'rb').read())\n",
    "paths, X, y = data['paths'], data['X'], data['y']"
   ]
  },
  {
   "cell_type": "code",
   "execution_count": 4,
   "metadata": {},
   "outputs": [],
   "source": [
    "def rule_sample(path, X):\n",
    "    ans = np.ones(X.shape[0])\n",
    "    m = path.get('range')\n",
    "    for key in m:\n",
    "        ans = ans * (X[:, int(key)] >= m[key][0]) * (X[:, int(key)] < m[key][1])\n",
    "    return ans\n",
    "    \n",
    "mat = np.array([rule_sample(p, X) for p in paths]).astype('float')"
   ]
  },
  {
   "cell_type": "code",
   "execution_count": 28,
   "metadata": {},
   "outputs": [
    {
     "name": "stdout",
     "output_type": "stream",
     "text": [
      "before fit (8837, 6) (8837,)\n",
      "after fit\n"
     ]
    },
    {
     "name": "stderr",
     "output_type": "stream",
     "text": [
      "/home/lizhen/miniconda3/lib/python3.8/site-packages/sklearn/linear_model/_base.py:148: FutureWarning: 'normalize' was deprecated in version 1.0 and will be removed in 1.2. Please leave the normalize parameter to its default value to silence this warning. The default behavior of this estimator is to not do any normalization. If normalization is needed please use sklearn.preprocessing.StandardScaler instead.\n",
      "  warnings.warn(\n"
     ]
    }
   ],
   "source": [
    "ensemble = DetectorEnsemble()\n",
    "ensemble.fit(mat)"
   ]
  },
  {
   "cell_type": "code",
   "execution_count": 29,
   "metadata": {},
   "outputs": [
    {
     "data": {
      "text/plain": [
       "array([5203, 4836, 1307, ..., 1606, 6706, 2079])"
      ]
     },
     "execution_count": 29,
     "metadata": {},
     "output_type": "execute_result"
    }
   ],
   "source": [
    "ensemble.weighted_score().argsort()[:-10]"
   ]
  },
  {
   "cell_type": "code",
   "execution_count": 25,
   "metadata": {},
   "outputs": [
    {
     "data": {
      "text/plain": [
       "array([5203, 4836, 1307, ..., 1606, 6706, 2079])"
      ]
     },
     "execution_count": 25,
     "metadata": {},
     "output_type": "execute_result"
    }
   ],
   "source": [
    "ensemble.scores.mean(axis = 1).argsort()[:-10]"
   ]
  },
  {
   "cell_type": "code",
   "execution_count": 33,
   "metadata": {},
   "outputs": [
    {
     "name": "stderr",
     "output_type": "stream",
     "text": [
      "/home/lizhen/miniconda3/lib/python3.8/site-packages/sklearn/linear_model/_base.py:148: FutureWarning: 'normalize' was deprecated in version 1.0 and will be removed in 1.2. Please leave the normalize parameter to its default value to silence this warning. The default behavior of this estimator is to not do any normalization. If normalization is needed please use sklearn.preprocessing.StandardScaler instead.\n",
      "  warnings.warn(\n"
     ]
    }
   ],
   "source": [
    "ensemble.adjust_weight(1, 1)"
   ]
  },
  {
   "cell_type": "code",
   "execution_count": 36,
   "metadata": {},
   "outputs": [
    {
     "data": {
      "text/plain": [
       "0.22014808187944584"
      ]
     },
     "execution_count": 36,
     "metadata": {},
     "output_type": "execute_result"
    }
   ],
   "source": [
    "ensemble.weighted_score()[1]"
   ]
  },
  {
   "cell_type": "code",
   "execution_count": 5,
   "metadata": {},
   "outputs": [],
   "source": [
    "score, scores = anomaly_detection(mat)"
   ]
  },
  {
   "cell_type": "code",
   "execution_count": 60,
   "metadata": {},
   "outputs": [
    {
     "data": {
      "text/plain": [
       "array([0.20229054, 0.21973649, 0.10680638, ..., 0.09131692, 0.27758608,\n",
       "       0.06717297])"
      ]
     },
     "execution_count": 60,
     "metadata": {},
     "output_type": "execute_result"
    }
   ],
   "source": [
    "score"
   ]
  },
  {
   "cell_type": "code",
   "execution_count": 127,
   "metadata": {},
   "outputs": [
    {
     "name": "stdout",
     "output_type": "stream",
     "text": [
      "[2529 4939 8682 1177 6517 3613 1857 6706 8730 4339]\n",
      "[4709 3267 1606 6733  806 4891 2778 4686 3613 5749]\n",
      "[6733 3591 1201 1606 4709  806 4686 7845 3613 5749]\n"
     ]
    }
   ],
   "source": [
    "for i in range(3):\n",
    "    print(np.argsort(scores[i])[-10:])"
   ]
  },
  {
   "cell_type": "code",
   "execution_count": 22,
   "metadata": {},
   "outputs": [
    {
     "data": {
      "text/plain": [
       "<seaborn.axisgrid.FacetGrid at 0x7f37b7a50f40>"
      ]
     },
     "execution_count": 22,
     "metadata": {},
     "output_type": "execute_result"
    },
    {
     "data": {
      "image/png": "[encoded data removed]",
      "text/plain": [
       "<Figure size 720x360 with 1 Axes>"
      ]
     },
     "metadata": {
      "needs_background": "light"
     },
     "output_type": "display_data"
    }
   ],
   "source": [
    "import pandas as pd\n",
    "import seaborn as sns\n",
    "df = pd.DataFrame({ 'rule score': score })\n",
    "sns.displot(df, x='rule score', bins=50, aspect=2)"
   ]
  },
  {
   "cell_type": "code",
   "execution_count": 15,
   "metadata": {},
   "outputs": [],
   "source": [
    "rank = np.argsort(score)"
   ]
  },
  {
   "cell_type": "code",
   "execution_count": 16,
   "metadata": {},
   "outputs": [
    {
     "data": {
      "text/plain": [
       "0.9882245696894479"
      ]
     },
     "execution_count": 16,
     "metadata": {},
     "output_type": "execute_result"
    }
   ],
   "source": [
    "score[rank[-1]]"
   ]
  },
  {
   "cell_type": "code",
   "execution_count": 9,
   "metadata": {},
   "outputs": [],
   "source": [
    "import bisect"
   ]
  },
  {
   "cell_type": "markdown",
   "metadata": {},
   "source": [
    "1. one cluster or severa"
   ]
  },
  {
   "cell_type": "code",
   "execution_count": 86,
   "metadata": {},
   "outputs": [
    {
     "data": {
      "text/plain": [
       "(8837, 1040)"
      ]
     },
     "execution_count": 86,
     "metadata": {},
     "output_type": "execute_result"
    }
   ],
   "source": [
    "mat.shape"
   ]
  },
  {
   "cell_type": "code",
   "execution_count": 28,
   "metadata": {},
   "outputs": [
    {
     "data": {
      "text/plain": [
       "<AxesSubplot:xlabel='x', ylabel='y'>"
      ]
     },
     "execution_count": 28,
     "metadata": {},
     "output_type": "execute_result"
    },
    {
     "data": {
      "image/png": "[encoded data removed]",
      "text/plain": [
       "<Figure size 432x288 with 1 Axes>"
      ]
     },
     "metadata": {
      "needs_background": "light"
     },
     "output_type": "display_data"
    }
   ],
   "source": [
    "df = pd.DataFrame({ 'x': X[:, 0], 'y': X[:, 1], 's': mat[rank[-8]] })\n",
    "sns.scatterplot(data=df, x='x', y='y', hue='s')"
   ]
  },
  {
   "cell_type": "code",
   "execution_count": 39,
   "metadata": {},
   "outputs": [
    {
     "data": {
      "text/plain": [
       "0.5010269216979877"
      ]
     },
     "execution_count": 39,
     "metadata": {},
     "output_type": "execute_result"
    }
   ],
   "source": [
    "scores[4][rank[-4]]"
   ]
  },
  {
   "cell_type": "code",
   "execution_count": 40,
   "metadata": {},
   "outputs": [
    {
     "data": {
      "text/plain": [
       "{'range': {6: [-100000000000000.0, 0.9963249862194061],\n",
       "  1: [12.285181522369385, 100000000000000.0],\n",
       "  0: [-100000000000000.0, 3.9023869037628174],\n",
       "  5: [1.0074078440666199, 100000000000000.0],\n",
       "  22: [-100000000000000.0, 0.9158418476581573],\n",
       "  17: [-100000000000000.0, 0.9944945871829987],\n",
       "  39: [-100000000000000.0, 0.9944945871829987],\n",
       "  41: [0.3400570750236511, 100000000000000.0]},\n",
       " 'value': -0.212322183775471,\n",
       " 'weight': 1,\n",
       " 'tree_index': 42,\n",
       " 'rule_index': 11,\n",
       " 'name': 'r42_11',\n",
       " 'confidence': 0.9607843137254902}"
      ]
     },
     "execution_count": 40,
     "metadata": {},
     "output_type": "execute_result"
    }
   ],
   "source": [
    "paths[rank[-4]]"
   ]
  },
  {
   "cell_type": "code",
   "execution_count": 18,
   "metadata": {},
   "outputs": [
    {
     "name": "stderr",
     "output_type": "stream",
     "text": [
      "/home/lizhen/miniconda3/lib/python3.8/site-packages/sklearn/manifold/_t_sne.py:780: FutureWarning: The default initialization in TSNE will change from 'random' to 'pca' in 1.2.\n",
      "  warnings.warn(\n",
      "/home/lizhen/miniconda3/lib/python3.8/site-packages/sklearn/manifold/_t_sne.py:790: FutureWarning: The default learning rate in TSNE will change from 200.0 to 'auto' in 1.2.\n",
      "  warnings.warn(\n"
     ]
    }
   ],
   "source": [
    "import pandas as pd\n",
    "import seaborn as sns\n",
    "import numpy as np\n",
    "from sklearn.manifold import TSNE\n",
    "\n",
    "X = TSNE(n_components=2).fit_transform(mat.transpose())\n"
   ]
  },
  {
   "cell_type": "code",
   "execution_count": 7,
   "metadata": {},
   "outputs": [
    {
     "data": {
      "text/html": [
       "<div>\n",
       "<style scoped>\n",
       "    .dataframe tbody tr th:only-of-type {\n",
       "        vertical-align: middle;\n",
       "    }\n",
       "\n",
       "    .dataframe tbody tr th {\n",
       "        vertical-align: top;\n",
       "    }\n",
       "\n",
       "    .dataframe thead th {\n",
       "        text-align: right;\n",
       "    }\n",
       "</style>\n",
       "<table border=\"1\" class=\"dataframe\">\n",
       "  <thead>\n",
       "    <tr style=\"text-align: right;\">\n",
       "      <th></th>\n",
       "      <th>1</th>\n",
       "      <th>2</th>\n",
       "      <th>3</th>\n",
       "      <th>4</th>\n",
       "      <th>5</th>\n",
       "      <th>6</th>\n",
       "    </tr>\n",
       "  </thead>\n",
       "  <tbody>\n",
       "    <tr>\n",
       "      <th>1</th>\n",
       "      <td>1.000000</td>\n",
       "      <td>0.967835</td>\n",
       "      <td>0.861987</td>\n",
       "      <td>0.894685</td>\n",
       "      <td>0.858835</td>\n",
       "      <td>0.890664</td>\n",
       "    </tr>\n",
       "    <tr>\n",
       "      <th>2</th>\n",
       "      <td>0.967835</td>\n",
       "      <td>1.000000</td>\n",
       "      <td>0.890943</td>\n",
       "      <td>0.924413</td>\n",
       "      <td>0.891946</td>\n",
       "      <td>0.925149</td>\n",
       "    </tr>\n",
       "    <tr>\n",
       "      <th>3</th>\n",
       "      <td>0.861987</td>\n",
       "      <td>0.890943</td>\n",
       "      <td>1.000000</td>\n",
       "      <td>0.970297</td>\n",
       "      <td>0.864701</td>\n",
       "      <td>0.891992</td>\n",
       "    </tr>\n",
       "    <tr>\n",
       "      <th>4</th>\n",
       "      <td>0.894685</td>\n",
       "      <td>0.924413</td>\n",
       "      <td>0.970297</td>\n",
       "      <td>1.000000</td>\n",
       "      <td>0.892176</td>\n",
       "      <td>0.922598</td>\n",
       "    </tr>\n",
       "    <tr>\n",
       "      <th>5</th>\n",
       "      <td>0.858835</td>\n",
       "      <td>0.891946</td>\n",
       "      <td>0.864701</td>\n",
       "      <td>0.892176</td>\n",
       "      <td>1.000000</td>\n",
       "      <td>0.966001</td>\n",
       "    </tr>\n",
       "    <tr>\n",
       "      <th>6</th>\n",
       "      <td>0.890664</td>\n",
       "      <td>0.925149</td>\n",
       "      <td>0.891992</td>\n",
       "      <td>0.922598</td>\n",
       "      <td>0.966001</td>\n",
       "      <td>1.000000</td>\n",
       "    </tr>\n",
       "  </tbody>\n",
       "</table>\n",
       "</div>"
      ],
      "text/plain": [
       "          1         2         3         4         5         6\n",
       "1  1.000000  0.967835  0.861987  0.894685  0.858835  0.890664\n",
       "2  0.967835  1.000000  0.890943  0.924413  0.891946  0.925149\n",
       "3  0.861987  0.890943  1.000000  0.970297  0.864701  0.891992\n",
       "4  0.894685  0.924413  0.970297  1.000000  0.892176  0.922598\n",
       "5  0.858835  0.891946  0.864701  0.892176  1.000000  0.966001\n",
       "6  0.890664  0.925149  0.891992  0.922598  0.966001  1.000000"
      ]
     },
     "execution_count": 7,
     "metadata": {},
     "output_type": "execute_result"
    }
   ],
   "source": [
    "df.corr()"
   ]
  },
  {
   "cell_type": "code",
   "execution_count": 6,
   "metadata": {},
   "outputs": [],
   "source": [
    "df = pd.DataFrame({\n",
    "    '1': scores[0],\n",
    "    '2': scores[1],\n",
    "    '3': scores[2],\n",
    "    '4': scores[3],\n",
    "    '5': scores[4],\n",
    "    '6': scores[5],\n",
    "})"
   ]
  },
  {
   "cell_type": "code",
   "execution_count": 9,
   "metadata": {},
   "outputs": [],
   "source": [
    "s = np.array(scores)"
   ]
  },
  {
   "cell_type": "code",
   "execution_count": 14,
   "metadata": {},
   "outputs": [
    {
     "data": {
      "text/plain": [
       "4709"
      ]
     },
     "execution_count": 14,
     "metadata": {},
     "output_type": "execute_result"
    }
   ],
   "source": [
    "for i in range(6):\n",
    "    print()"
   ]
  }
 ],
 "metadata": {
  "interpreter": {
   "hash": "7e68ee7780e0be540c4e3141e92f7a462f6acd183a50724e7701ea314000c600"
  },
  "kernelspec": {
   "display_name": "Python 3.8.1 ('base')",
   "language": "python",
   "name": "python3"
  },
  "language_info": {
   "codemirror_mode": {
    "name": "ipython",
    "version": 3
   },
   "file_extension": ".py",
   "mimetype": "text/x-python",
   "name": "python",
   "nbconvert_exporter": "python",
   "pygments_lexer": "ipython3",
   "version": "3.8.1"
  },
  "orig_nbformat": 4
 },
 "nbformat": 4,
 "nbformat_minor": 2
}
