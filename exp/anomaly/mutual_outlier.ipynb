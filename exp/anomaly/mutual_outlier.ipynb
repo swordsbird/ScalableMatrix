{
 "cells": [
  {
   "cell_type": "code",
   "execution_count": 1,
   "metadata": {},
   "outputs": [],
   "source": [
    "import numpy as np\n",
    "import matplotlib.pyplot as plt\n",
    "from sklearn import manifold, datasets\n",
    "import pickle\n",
    "from sklearn.neighbors import LocalOutlierFactor\n",
    "from sklearn.metrics import pairwise_distances\n",
    "import pandas as pd\n",
    "import seaborn as sns"
   ]
  },
  {
   "cell_type": "code",
   "execution_count": 2,
   "metadata": {},
   "outputs": [],
   "source": [
    "input_data = pickle.load(open('../../model/output/german0316_margin_0.5_alpha_0.95_multiply.pkl', 'rb'))\n",
    "rules = input_data['paths']"
   ]
  },
  {
   "cell_type": "code",
   "execution_count": 3,
   "metadata": {},
   "outputs": [],
   "source": [
    "s_conf = np.zeros(len(rules[0]['sample']))\n",
    "for r in rules:\n",
    "    s_conf += np.array(r['sample'])# * r['value']\n",
    "s_conf /= np.max(np.abs(s_conf))\n",
    "r_conf = np.array([r['confidence'] for r in rules])\n",
    "mat = np.array([np.array(r['sample']) for r in rules])\n",
    "mat = mat.astype(np.float32)"
   ]
  },
  {
   "cell_type": "code",
   "execution_count": 4,
   "metadata": {},
   "outputs": [],
   "source": [
    "def anomaly_detection(mat, row_conf = None, col_conf = None):\n",
    "    if row_conf is None:\n",
    "        row_conf = np.ones(mat.shape[0])\n",
    "    if col_conf is None:\n",
    "        col_conf = np.ones(mat.shape[1])\n",
    "    s_dist = pairwise_distances(X = mat.transpose() * row_conf, metric='euclidean')\n",
    "    clf = LocalOutlierFactor(metric=\"precomputed\")\n",
    "    clf.fit(s_dist)\n",
    "    col_lof = -clf.negative_outlier_factor_\n",
    "\n",
    "    r_dist = pairwise_distances(X = mat * col_conf, metric='euclidean')\n",
    "    clf = LocalOutlierFactor(metric=\"precomputed\")\n",
    "    clf.fit(r_dist)\n",
    "    row_lof = -clf.negative_outlier_factor_\n",
    "\n",
    "    row_weight = row_lof / np.sum(row_lof) * len(row_lof)\n",
    "    col_weight = col_lof / np.sum(col_lof) * len(col_lof)\n",
    "\n",
    "    for i in range(3):\n",
    "        print('column lof', np.mean(col_lof), np.max(col_lof))\n",
    "        X = ((mat * (col_conf * col_weight)).transpose() * row_weight).transpose()\n",
    "        r_dist = pairwise_distances(X = X, metric='euclidean')\n",
    "        print(X[0])\n",
    "        clf = LocalOutlierFactor(metric=\"precomputed\")\n",
    "        clf.fit(r_dist)\n",
    "        row_lof = -clf.negative_outlier_factor_\n",
    "        print('row lof', np.mean(row_lof), np.max(row_lof))\n",
    "\n",
    "        row_weight = row_lof / np.sum(row_lof) * len(row_lof)\n",
    "        X = (mat * col_weight).transpose() * (row_conf * row_weight)\n",
    "        s_dist = pairwise_distances(X = X, metric='euclidean') \n",
    "        clf = LocalOutlierFactor(metric=\"precomputed\")\n",
    "        clf.fit(s_dist)\n",
    "        col_lof = -clf.negative_outlier_factor_\n",
    "        col_weight = col_lof / np.sum(col_lof) * len(col_lof)\n",
    "\n",
    "    return row_lof, col_lof"
   ]
  },
  {
   "cell_type": "code",
   "execution_count": 5,
   "metadata": {},
   "outputs": [
    {
     "name": "stdout",
     "output_type": "stream",
     "text": [
      "column lof 1.0002321401252527 1.0346543496784795\n",
      "[0.97945276 0.97945276 0.97945276 0.         0.        ]\n",
      "row lof 1.0001849583987141 1.0275723143625892\n",
      "column lof 1.000215331590193 1.0333552110493542\n",
      "[0.98266499 0.98266499 0.98266499 0.         0.        ]\n",
      "row lof 1.0002232790398127 1.030334943338277\n",
      "column lof 1.0002198243072438 1.0337071172712298\n",
      "[0.98167903 0.98167903 0.98167903 0.         0.        ]\n",
      "row lof 1.0002109614933745 1.0294740140045198\n",
      "[0.99045661 0.99045661 1.02947401 0.99045661] [0.99187239 0.99187239 0.99187239 0.99187239 1.03360289]\n"
     ]
    },
    {
     "name": "stderr",
     "output_type": "stream",
     "text": [
      "n_neighbors (20) is greater than the total number of samples (5). n_neighbors will be set to (n_samples - 1) for estimation.\n",
      "n_neighbors (20) is greater than the total number of samples (4). n_neighbors will be set to (n_samples - 1) for estimation.\n",
      "n_neighbors (20) is greater than the total number of samples (4). n_neighbors will be set to (n_samples - 1) for estimation.\n",
      "n_neighbors (20) is greater than the total number of samples (5). n_neighbors will be set to (n_samples - 1) for estimation.\n",
      "n_neighbors (20) is greater than the total number of samples (4). n_neighbors will be set to (n_samples - 1) for estimation.\n",
      "n_neighbors (20) is greater than the total number of samples (5). n_neighbors will be set to (n_samples - 1) for estimation.\n",
      "n_neighbors (20) is greater than the total number of samples (4). n_neighbors will be set to (n_samples - 1) for estimation.\n",
      "n_neighbors (20) is greater than the total number of samples (5). n_neighbors will be set to (n_samples - 1) for estimation.\n"
     ]
    }
   ],
   "source": [
    "mat2 = np.array([[1,1,1,0,0],[1,1,1,0,0],[1,1,1,0,1],[0,0,0,1,1]])\n",
    "\n",
    "r_lof, s_lof = anomaly_detection(mat2)\n",
    "print(r_lof, s_lof)"
   ]
  },
  {
   "cell_type": "code",
   "execution_count": 175,
   "metadata": {},
   "outputs": [],
   "source": [
    "\n",
    "def anomaly_detection_3_sigma(mat, row_conf = None, col_conf = None):\n",
    "    if row_conf is None:\n",
    "        row_conf = np.ones(mat.shape[0])\n",
    "    if col_conf is None:\n",
    "        col_conf = np.ones(mat.shape[1])\n",
    "    s_dist = pairwise_distances(X = mat.transpose() * row_conf, metric='jaccard')\n",
    "    clf = LocalOutlierFactor(n_neighbors = 2, metric=\"precomputed\")\n",
    "    clf.fit(s_dist)\n",
    "    col_lof = -clf.negative_outlier_factor_\n",
    "\n",
    "    r_dist = pairwise_distances(X = mat * col_conf, metric='jaccard')\n",
    "    clf = LocalOutlierFactor(n_neighbors = 2, metric=\"precomputed\")\n",
    "    clf.fit(r_dist)\n",
    "    row_lof = -clf.negative_outlier_factor_\n",
    "\n",
    "    row_lof_thres = row_lof.mean() + row_lof.std() * 3\n",
    "    col_lof_thres = col_lof.mean() + col_lof.std() * 3\n",
    "\n",
    "    row_weight = np.array([lof ** (np.sum(col_lof[np.flatnonzero(mat[i, :])] > col_lof_thres) / len(np.flatnonzero(mat[i, :]))) for i, lof in enumerate(row_lof)])\n",
    "    col_weight = np.array([lof ** (np.sum(row_lof[np.flatnonzero(mat[:, i])] > row_lof_thres) / len(np.flatnonzero(mat[:, i]))) for i, lof in enumerate(col_lof)])\n",
    "    # / np.sum(row_lof) * len(row_lof)\n",
    "    # col_weight = col_lof\n",
    "    # / np.sum(col_lof) * len(col_lof)\n",
    "\n",
    "    for i in range(1):\n",
    "        print('column lof', np.mean(col_lof), np.max(col_lof))\n",
    "        #r_dist = pairwise_distances(X = ((mat * col_weight).transpose() * row_weight).transpose(), metric='euclidean')\n",
    "        X = ((mat * (col_conf * col_weight)).transpose() * row_weight).transpose()\n",
    "        r_dist = pairwise_distances(X = X, metric='euclidean')\n",
    "        print(X[0])\n",
    "        clf = LocalOutlierFactor(metric=\"precomputed\")\n",
    "        clf.fit(r_dist)\n",
    "        row_lof = -clf.negative_outlier_factor_\n",
    "        print('row lof', np.mean(row_lof), np.max(row_lof))\n",
    "\n",
    "        #row_weight = row_lof# / np.sum(row_lof) * len(row_lof)\n",
    "        row_weight = np.array([lof ** (np.sum(col_lof[np.flatnonzero(mat[i, :])] > col_lof_thres) / len(np.flatnonzero(mat[i, :]))) for i, lof in enumerate(row_lof)])\n",
    "        X = (mat * col_weight).transpose() * (row_conf * row_weight)\n",
    "        print(X[0])\n",
    "        #s_dist = pairwise_distances(X = (mat * col_weight).transpose() * row_weight, metric='euclidean') \n",
    "        s_dist = pairwise_distances(X = X, metric='euclidean') \n",
    "        clf = LocalOutlierFactor(metric=\"precomputed\")\n",
    "        clf.fit(s_dist)\n",
    "        col_lof = -clf.negative_outlier_factor_\n",
    "        #col_weight = col_lof# / np.sum(col_lof) * len(col_lof)\n",
    "        col_weight = np.array([lof ** (np.sum(row_lof[np.flatnonzero(mat[:, i])] > row_lof_thres) / len(np.flatnonzero(mat[:, i]))) for i, lof in enumerate(col_lof)])\n",
    "\n",
    "    return row_lof, col_lof"
   ]
  },
  {
   "cell_type": "code",
   "execution_count": 166,
   "metadata": {},
   "outputs": [
    {
     "name": "stdout",
     "output_type": "stream",
     "text": [
      "[0.98580443 0.98580443 1.04448099 0.98580443]\n"
     ]
    }
   ],
   "source": [
    "print(r_lof)"
   ]
  },
  {
   "cell_type": "code",
   "execution_count": 6,
   "metadata": {},
   "outputs": [
    {
     "name": "stdout",
     "output_type": "stream",
     "text": [
      "column lof 1.0042827988036847 1.03623242081404\n",
      "[0.         0.         0.         0.         0.         0.\n",
      " 0.         0.         0.         0.         0.         0.\n",
      " 0.         0.         0.         0.         0.         0.\n",
      " 0.         0.         0.         0.         0.         0.\n",
      " 0.         0.         0.         0.         0.         0.\n",
      " 0.         0.         0.         0.         0.         0.\n",
      " 0.         0.         0.         0.         0.         0.\n",
      " 0.         0.         0.         0.         0.         0.\n",
      " 0.         0.         0.         0.         0.         0.\n",
      " 0.         0.         0.         0.         0.         0.\n",
      " 0.         0.         0.         0.         0.         0.\n",
      " 0.         0.         0.         0.         0.         0.\n",
      " 0.         0.         0.         0.         0.         0.\n",
      " 0.         0.         0.         0.         0.         0.\n",
      " 0.         0.         0.         0.         0.         0.\n",
      " 0.         0.         0.         0.         0.         0.\n",
      " 0.         0.         0.         0.         0.         0.\n",
      " 0.         0.         0.         0.         0.         0.\n",
      " 0.         0.         0.         0.75507706 0.         0.\n",
      " 0.         0.         0.         0.         0.         0.\n",
      " 0.         0.         0.         0.         0.         0.\n",
      " 0.         0.         0.         0.         0.         0.\n",
      " 0.         0.         0.         0.         0.         0.\n",
      " 0.         0.         0.         0.         0.         0.\n",
      " 0.         0.         0.         0.         0.         0.\n",
      " 0.         0.         0.         0.         0.         0.\n",
      " 0.         0.         0.         0.         0.         0.\n",
      " 0.         0.         0.         0.         0.         0.\n",
      " 0.         0.         0.         0.         0.         0.\n",
      " 0.         0.         0.         0.         0.         0.\n",
      " 0.         0.         0.         0.         0.         0.\n",
      " 0.         0.         0.         0.         0.         0.\n",
      " 0.         0.         0.         0.         0.         0.\n",
      " 0.         0.         0.         0.         0.         0.\n",
      " 0.         0.         0.         0.         0.         0.\n",
      " 0.         0.         0.         0.         0.         0.\n",
      " 0.         0.         0.         0.         0.         0.\n",
      " 0.         0.         0.         0.         0.         0.\n",
      " 0.         0.         0.         0.76644708 0.         0.\n",
      " 0.         0.         0.         0.         0.         0.\n",
      " 0.         0.         0.         0.         0.         0.\n",
      " 0.         0.         0.         0.         0.         0.\n",
      " 0.         0.         0.         0.         0.         0.\n",
      " 0.         0.         0.         0.         0.         0.\n",
      " 0.         0.         0.         0.         0.         0.\n",
      " 0.         0.         0.         0.         0.         0.\n",
      " 0.         0.         0.         0.         0.         0.\n",
      " 0.         0.         0.         0.         0.         0.\n",
      " 0.         0.         0.         0.         0.         0.\n",
      " 0.         0.         0.         0.         0.         0.\n",
      " 0.         0.         0.         0.         0.         0.\n",
      " 0.         0.         0.         0.         0.         0.\n",
      " 0.         0.         0.         0.         0.         0.\n",
      " 0.         0.         0.         0.         0.         0.\n",
      " 0.         0.         0.         0.         0.         0.\n",
      " 0.         0.         0.         0.         0.         0.\n",
      " 0.         0.         0.         0.         0.         0.\n",
      " 0.         0.         0.         0.         0.         0.\n",
      " 0.         0.         0.         0.         0.         0.\n",
      " 0.         0.         0.         0.         0.         0.\n",
      " 0.         0.         0.         0.         0.         0.\n",
      " 0.         0.         0.         0.         0.         0.\n",
      " 0.         0.75070116 0.         0.         0.         0.\n",
      " 0.         0.         0.         0.         0.         0.\n",
      " 0.         0.         0.         0.         0.         0.\n",
      " 0.         0.         0.         0.         0.         0.\n",
      " 0.         0.         0.         0.         0.         0.\n",
      " 0.         0.         0.         0.         0.         0.\n",
      " 0.         0.         0.         0.         0.         0.\n",
      " 0.         0.         0.         0.         0.         0.\n",
      " 0.         0.         0.         0.         0.         0.\n",
      " 0.         0.         0.         0.         0.         0.\n",
      " 0.         0.         0.         0.         0.         0.\n",
      " 0.         0.         0.         0.         0.         0.\n",
      " 0.         0.         0.         0.         0.         0.\n",
      " 0.         0.         0.         0.         0.         0.\n",
      " 0.         0.         0.         0.         0.         0.\n",
      " 0.         0.         0.         0.         0.         0.\n",
      " 0.         0.         0.         0.         0.         0.\n",
      " 0.         0.         0.         0.         0.         0.\n",
      " 0.         0.         0.         0.         0.         0.\n",
      " 0.         0.         0.         0.         0.         0.\n",
      " 0.         0.         0.         0.         0.         0.\n",
      " 0.         0.         0.         0.         0.         0.\n",
      " 0.         0.         0.         0.         0.         0.\n",
      " 0.         0.         0.         0.         0.         0.\n",
      " 0.         0.         0.         0.         0.         0.\n",
      " 0.         0.         0.         0.         0.         0.\n",
      " 0.         0.         0.         0.         0.         0.\n",
      " 0.         0.         0.         0.         0.         0.\n",
      " 0.         0.         0.         0.         0.         0.\n",
      " 0.         0.         0.         0.         0.         0.\n",
      " 0.         0.         0.         0.         0.         0.\n",
      " 0.         0.         0.         0.         0.         0.\n",
      " 0.         0.         0.         0.         0.         0.\n",
      " 0.         0.         0.         0.         0.         0.\n",
      " 0.         0.         0.         0.         0.         0.\n",
      " 0.         0.         0.         0.         0.         0.\n",
      " 0.         0.         0.         0.         0.         0.\n",
      " 0.         0.         0.         0.         0.         0.\n",
      " 0.         0.         0.         0.         0.         0.\n",
      " 0.         0.         0.         0.         0.         0.\n",
      " 0.         0.         0.         0.         0.         0.\n",
      " 0.         0.         0.         0.         0.         0.\n",
      " 0.         0.         0.         0.         0.         0.\n",
      " 0.         0.         0.         0.         0.         0.\n",
      " 0.         0.         0.         0.         0.         0.\n",
      " 0.         0.         0.         0.         0.         0.\n",
      " 0.         0.         0.         0.         0.         0.\n",
      " 0.         0.         0.         0.         0.         0.\n",
      " 0.         0.         0.         0.         0.         0.\n",
      " 0.         0.         0.         0.         0.         0.\n",
      " 0.         0.         0.         0.         0.         0.\n",
      " 0.         0.         0.         0.         0.         0.\n",
      " 0.         0.         0.         0.         0.         0.\n",
      " 0.         0.         0.         0.         0.         0.\n",
      " 0.         0.         0.         0.         0.         0.\n",
      " 0.         0.         0.         0.         0.         0.\n",
      " 0.         0.         0.         0.         0.         0.\n",
      " 0.         0.         0.         0.         0.         0.\n",
      " 0.         0.         0.         0.         0.         0.\n",
      " 0.         0.         0.         0.         0.         0.\n",
      " 0.         0.         0.         0.         0.         0.\n",
      " 0.         0.         0.         0.         0.         0.\n",
      " 0.         0.         0.         0.         0.         0.\n",
      " 0.         0.         0.         0.         0.         0.\n",
      " 0.         0.         0.         0.         0.         0.\n",
      " 0.         0.         0.         0.         0.         0.\n",
      " 0.         0.         0.         0.         0.         0.\n",
      " 0.         0.         0.         0.         0.         0.\n",
      " 0.         0.         0.         0.75786648 0.         0.\n",
      " 0.         0.         0.         0.         0.         0.\n",
      " 0.         0.         0.         0.         0.         0.\n",
      " 0.         0.         0.         0.         0.         0.\n",
      " 0.         0.         0.         0.         0.         0.\n",
      " 0.         0.         0.         0.         0.         0.\n",
      " 0.         0.         0.         0.         0.         0.\n",
      " 0.         0.         0.         0.         0.         0.\n",
      " 0.         0.         0.         0.         0.         0.\n",
      " 0.         0.         0.         0.         0.         0.\n",
      " 0.         0.         0.         0.         0.         0.\n",
      " 0.         0.         0.         0.         0.         0.\n",
      " 0.         0.         0.         0.         0.         0.\n",
      " 0.         0.         0.         0.         0.         0.\n",
      " 0.         0.         0.         0.         0.         0.\n",
      " 0.         0.         0.         0.         0.         0.\n",
      " 0.         0.         0.         0.         0.         0.\n",
      " 0.         0.         0.         0.         0.         0.\n",
      " 0.         0.         0.         0.         0.         0.\n",
      " 0.         0.         0.         0.         0.         0.\n",
      " 0.         0.         0.         0.         0.         0.\n",
      " 0.         0.         0.         0.         0.         0.\n",
      " 0.         0.         0.         0.         0.         0.\n",
      " 0.         0.         0.         0.         0.         0.\n",
      " 0.         0.         0.         0.         0.         0.\n",
      " 0.         0.         0.         0.         0.         0.\n",
      " 0.         0.         0.         0.         0.         0.\n",
      " 0.         0.         0.         0.         0.         0.\n",
      " 0.         0.         0.         0.         0.         0.\n",
      " 0.         0.         0.         0.         0.         0.\n",
      " 0.         0.         0.         0.         0.         0.\n",
      " 0.         0.         0.         0.         0.         0.\n",
      " 0.         0.         0.75058762 0.         0.         0.\n",
      " 0.         0.         0.         0.         0.         0.\n",
      " 0.         0.         0.         0.         0.         0.\n",
      " 0.         0.         0.         0.         0.         0.\n",
      " 0.         0.         0.         0.        ]\n",
      "row lof 2.717814573165309 7.371461725822795\n",
      "column lof 1.1422620206079201 1.3854397175415551\n",
      "[0.         0.         0.         0.         0.         0.\n",
      " 0.         0.         0.         0.         0.         0.\n",
      " 0.         0.         0.         0.         0.         0.\n",
      " 0.         0.         0.         0.         0.         0.\n",
      " 0.         0.         0.         0.         0.         0.\n",
      " 0.         0.         0.         0.         0.         0.\n",
      " 0.         0.         0.         0.         0.         0.\n",
      " 0.         0.         0.         0.         0.         0.\n",
      " 0.         0.         0.         0.         0.         0.\n",
      " 0.         0.         0.         0.         0.         0.\n",
      " 0.         0.         0.         0.         0.         0.\n",
      " 0.         0.         0.         0.         0.         0.\n",
      " 0.         0.         0.         0.         0.         0.\n",
      " 0.         0.         0.         0.         0.         0.\n",
      " 0.         0.         0.         0.         0.         0.\n",
      " 0.         0.         0.         0.         0.         0.\n",
      " 0.         0.         0.         0.         0.         0.\n",
      " 0.         0.         0.         0.         0.         0.\n",
      " 0.         0.         0.         0.69519982 0.         0.\n",
      " 0.         0.         0.         0.         0.         0.\n",
      " 0.         0.         0.         0.         0.         0.\n",
      " 0.         0.         0.         0.         0.         0.\n",
      " 0.         0.         0.         0.         0.         0.\n",
      " 0.         0.         0.         0.         0.         0.\n",
      " 0.         0.         0.         0.         0.         0.\n",
      " 0.         0.         0.         0.         0.         0.\n",
      " 0.         0.         0.         0.         0.         0.\n",
      " 0.         0.         0.         0.         0.         0.\n",
      " 0.         0.         0.         0.         0.         0.\n",
      " 0.         0.         0.         0.         0.         0.\n",
      " 0.         0.         0.         0.         0.         0.\n",
      " 0.         0.         0.         0.         0.         0.\n",
      " 0.         0.         0.         0.         0.         0.\n",
      " 0.         0.         0.         0.         0.         0.\n",
      " 0.         0.         0.         0.         0.         0.\n",
      " 0.         0.         0.         0.         0.         0.\n",
      " 0.         0.         0.         0.         0.         0.\n",
      " 0.         0.         0.         0.         0.         0.\n",
      " 0.         0.         0.         0.74629556 0.         0.\n",
      " 0.         0.         0.         0.         0.         0.\n",
      " 0.         0.         0.         0.         0.         0.\n",
      " 0.         0.         0.         0.         0.         0.\n",
      " 0.         0.         0.         0.         0.         0.\n",
      " 0.         0.         0.         0.         0.         0.\n",
      " 0.         0.         0.         0.         0.         0.\n",
      " 0.         0.         0.         0.         0.         0.\n",
      " 0.         0.         0.         0.         0.         0.\n",
      " 0.         0.         0.         0.         0.         0.\n",
      " 0.         0.         0.         0.         0.         0.\n",
      " 0.         0.         0.         0.         0.         0.\n",
      " 0.         0.         0.         0.         0.         0.\n",
      " 0.         0.         0.         0.         0.         0.\n",
      " 0.         0.         0.         0.         0.         0.\n",
      " 0.         0.         0.         0.         0.         0.\n",
      " 0.         0.         0.         0.         0.         0.\n",
      " 0.         0.         0.         0.         0.         0.\n",
      " 0.         0.         0.         0.         0.         0.\n",
      " 0.         0.         0.         0.         0.         0.\n",
      " 0.         0.         0.         0.         0.         0.\n",
      " 0.         0.         0.         0.         0.         0.\n",
      " 0.         0.         0.         0.         0.         0.\n",
      " 0.         0.         0.         0.         0.         0.\n",
      " 0.         0.653836   0.         0.         0.         0.\n",
      " 0.         0.         0.         0.         0.         0.\n",
      " 0.         0.         0.         0.         0.         0.\n",
      " 0.         0.         0.         0.         0.         0.\n",
      " 0.         0.         0.         0.         0.         0.\n",
      " 0.         0.         0.         0.         0.         0.\n",
      " 0.         0.         0.         0.         0.         0.\n",
      " 0.         0.         0.         0.         0.         0.\n",
      " 0.         0.         0.         0.         0.         0.\n",
      " 0.         0.         0.         0.         0.         0.\n",
      " 0.         0.         0.         0.         0.         0.\n",
      " 0.         0.         0.         0.         0.         0.\n",
      " 0.         0.         0.         0.         0.         0.\n",
      " 0.         0.         0.         0.         0.         0.\n",
      " 0.         0.         0.         0.         0.         0.\n",
      " 0.         0.         0.         0.         0.         0.\n",
      " 0.         0.         0.         0.         0.         0.\n",
      " 0.         0.         0.         0.         0.         0.\n",
      " 0.         0.         0.         0.         0.         0.\n",
      " 0.         0.         0.         0.         0.         0.\n",
      " 0.         0.         0.         0.         0.         0.\n",
      " 0.         0.         0.         0.         0.         0.\n",
      " 0.         0.         0.         0.         0.         0.\n",
      " 0.         0.         0.         0.         0.         0.\n",
      " 0.         0.         0.         0.         0.         0.\n",
      " 0.         0.         0.         0.         0.         0.\n",
      " 0.         0.         0.         0.         0.         0.\n",
      " 0.         0.         0.         0.         0.         0.\n",
      " 0.         0.         0.         0.         0.         0.\n",
      " 0.         0.         0.         0.         0.         0.\n",
      " 0.         0.         0.         0.         0.         0.\n",
      " 0.         0.         0.         0.         0.         0.\n",
      " 0.         0.         0.         0.         0.         0.\n",
      " 0.         0.         0.         0.         0.         0.\n",
      " 0.         0.         0.         0.         0.         0.\n",
      " 0.         0.         0.         0.         0.         0.\n",
      " 0.         0.         0.         0.         0.         0.\n",
      " 0.         0.         0.         0.         0.         0.\n",
      " 0.         0.         0.         0.         0.         0.\n",
      " 0.         0.         0.         0.         0.         0.\n",
      " 0.         0.         0.         0.         0.         0.\n",
      " 0.         0.         0.         0.         0.         0.\n",
      " 0.         0.         0.         0.         0.         0.\n",
      " 0.         0.         0.         0.         0.         0.\n",
      " 0.         0.         0.         0.         0.         0.\n",
      " 0.         0.         0.         0.         0.         0.\n",
      " 0.         0.         0.         0.         0.         0.\n",
      " 0.         0.         0.         0.         0.         0.\n",
      " 0.         0.         0.         0.         0.         0.\n",
      " 0.         0.         0.         0.         0.         0.\n",
      " 0.         0.         0.         0.         0.         0.\n",
      " 0.         0.         0.         0.         0.         0.\n",
      " 0.         0.         0.         0.         0.         0.\n",
      " 0.         0.         0.         0.         0.         0.\n",
      " 0.         0.         0.         0.         0.         0.\n",
      " 0.         0.         0.         0.         0.         0.\n",
      " 0.         0.         0.         0.         0.         0.\n",
      " 0.         0.         0.         0.         0.         0.\n",
      " 0.         0.         0.         0.         0.         0.\n",
      " 0.         0.         0.         0.         0.         0.\n",
      " 0.         0.         0.         0.         0.         0.\n",
      " 0.         0.         0.         0.         0.         0.\n",
      " 0.         0.         0.         0.         0.         0.\n",
      " 0.         0.         0.         0.         0.         0.\n",
      " 0.         0.         0.         0.         0.         0.\n",
      " 0.         0.         0.         0.         0.         0.\n",
      " 0.         0.         0.         0.         0.         0.\n",
      " 0.         0.         0.         0.         0.         0.\n",
      " 0.         0.         0.         0.60235272 0.         0.\n",
      " 0.         0.         0.         0.         0.         0.\n",
      " 0.         0.         0.         0.         0.         0.\n",
      " 0.         0.         0.         0.         0.         0.\n",
      " 0.         0.         0.         0.         0.         0.\n",
      " 0.         0.         0.         0.         0.         0.\n",
      " 0.         0.         0.         0.         0.         0.\n",
      " 0.         0.         0.         0.         0.         0.\n",
      " 0.         0.         0.         0.         0.         0.\n",
      " 0.         0.         0.         0.         0.         0.\n",
      " 0.         0.         0.         0.         0.         0.\n",
      " 0.         0.         0.         0.         0.         0.\n",
      " 0.         0.         0.         0.         0.         0.\n",
      " 0.         0.         0.         0.         0.         0.\n",
      " 0.         0.         0.         0.         0.         0.\n",
      " 0.         0.         0.         0.         0.         0.\n",
      " 0.         0.         0.         0.         0.         0.\n",
      " 0.         0.         0.         0.         0.         0.\n",
      " 0.         0.         0.         0.         0.         0.\n",
      " 0.         0.         0.         0.         0.         0.\n",
      " 0.         0.         0.         0.         0.         0.\n",
      " 0.         0.         0.         0.         0.         0.\n",
      " 0.         0.         0.         0.         0.         0.\n",
      " 0.         0.         0.         0.         0.         0.\n",
      " 0.         0.         0.         0.         0.         0.\n",
      " 0.         0.         0.         0.         0.         0.\n",
      " 0.         0.         0.         0.         0.         0.\n",
      " 0.         0.         0.         0.         0.         0.\n",
      " 0.         0.         0.         0.         0.         0.\n",
      " 0.         0.         0.         0.         0.         0.\n",
      " 0.         0.         0.         0.         0.         0.\n",
      " 0.         0.         0.         0.         0.         0.\n",
      " 0.         0.         0.61566614 0.         0.         0.\n",
      " 0.         0.         0.         0.         0.         0.\n",
      " 0.         0.         0.         0.         0.         0.\n",
      " 0.         0.         0.         0.         0.         0.\n",
      " 0.         0.         0.         0.        ]\n",
      "row lof 3.508684560206593 10.404964903453621\n",
      "column lof 1.3334158977477204 1.8866447259642005\n",
      "[0.         0.         0.         0.         0.         0.\n",
      " 0.         0.         0.         0.         0.         0.\n",
      " 0.         0.         0.         0.         0.         0.\n",
      " 0.         0.         0.         0.         0.         0.\n",
      " 0.         0.         0.         0.         0.         0.\n",
      " 0.         0.         0.         0.         0.         0.\n",
      " 0.         0.         0.         0.         0.         0.\n",
      " 0.         0.         0.         0.         0.         0.\n",
      " 0.         0.         0.         0.         0.         0.\n",
      " 0.         0.         0.         0.         0.         0.\n",
      " 0.         0.         0.         0.         0.         0.\n",
      " 0.         0.         0.         0.         0.         0.\n",
      " 0.         0.         0.         0.         0.         0.\n",
      " 0.         0.         0.         0.         0.         0.\n",
      " 0.         0.         0.         0.         0.         0.\n",
      " 0.         0.         0.         0.         0.         0.\n",
      " 0.         0.         0.         0.         0.         0.\n",
      " 0.         0.         0.         0.         0.         0.\n",
      " 0.         0.         0.         0.724364   0.         0.\n",
      " 0.         0.         0.         0.         0.         0.\n",
      " 0.         0.         0.         0.         0.         0.\n",
      " 0.         0.         0.         0.         0.         0.\n",
      " 0.         0.         0.         0.         0.         0.\n",
      " 0.         0.         0.         0.         0.         0.\n",
      " 0.         0.         0.         0.         0.         0.\n",
      " 0.         0.         0.         0.         0.         0.\n",
      " 0.         0.         0.         0.         0.         0.\n",
      " 0.         0.         0.         0.         0.         0.\n",
      " 0.         0.         0.         0.         0.         0.\n",
      " 0.         0.         0.         0.         0.         0.\n",
      " 0.         0.         0.         0.         0.         0.\n",
      " 0.         0.         0.         0.         0.         0.\n",
      " 0.         0.         0.         0.         0.         0.\n",
      " 0.         0.         0.         0.         0.         0.\n",
      " 0.         0.         0.         0.         0.         0.\n",
      " 0.         0.         0.         0.         0.         0.\n",
      " 0.         0.         0.         0.         0.         0.\n",
      " 0.         0.         0.         0.         0.         0.\n",
      " 0.         0.         0.         0.83241273 0.         0.\n",
      " 0.         0.         0.         0.         0.         0.\n",
      " 0.         0.         0.         0.         0.         0.\n",
      " 0.         0.         0.         0.         0.         0.\n",
      " 0.         0.         0.         0.         0.         0.\n",
      " 0.         0.         0.         0.         0.         0.\n",
      " 0.         0.         0.         0.         0.         0.\n",
      " 0.         0.         0.         0.         0.         0.\n",
      " 0.         0.         0.         0.         0.         0.\n",
      " 0.         0.         0.         0.         0.         0.\n",
      " 0.         0.         0.         0.         0.         0.\n",
      " 0.         0.         0.         0.         0.         0.\n",
      " 0.         0.         0.         0.         0.         0.\n",
      " 0.         0.         0.         0.         0.         0.\n",
      " 0.         0.         0.         0.         0.         0.\n",
      " 0.         0.         0.         0.         0.         0.\n",
      " 0.         0.         0.         0.         0.         0.\n",
      " 0.         0.         0.         0.         0.         0.\n",
      " 0.         0.         0.         0.         0.         0.\n",
      " 0.         0.         0.         0.         0.         0.\n",
      " 0.         0.         0.         0.         0.         0.\n",
      " 0.         0.         0.         0.         0.         0.\n",
      " 0.         0.         0.         0.         0.         0.\n",
      " 0.         0.         0.         0.         0.         0.\n",
      " 0.         0.66368885 0.         0.         0.         0.\n",
      " 0.         0.         0.         0.         0.         0.\n",
      " 0.         0.         0.         0.         0.         0.\n",
      " 0.         0.         0.         0.         0.         0.\n",
      " 0.         0.         0.         0.         0.         0.\n",
      " 0.         0.         0.         0.         0.         0.\n",
      " 0.         0.         0.         0.         0.         0.\n",
      " 0.         0.         0.         0.         0.         0.\n",
      " 0.         0.         0.         0.         0.         0.\n",
      " 0.         0.         0.         0.         0.         0.\n",
      " 0.         0.         0.         0.         0.         0.\n",
      " 0.         0.         0.         0.         0.         0.\n",
      " 0.         0.         0.         0.         0.         0.\n",
      " 0.         0.         0.         0.         0.         0.\n",
      " 0.         0.         0.         0.         0.         0.\n",
      " 0.         0.         0.         0.         0.         0.\n",
      " 0.         0.         0.         0.         0.         0.\n",
      " 0.         0.         0.         0.         0.         0.\n",
      " 0.         0.         0.         0.         0.         0.\n",
      " 0.         0.         0.         0.         0.         0.\n",
      " 0.         0.         0.         0.         0.         0.\n",
      " 0.         0.         0.         0.         0.         0.\n",
      " 0.         0.         0.         0.         0.         0.\n",
      " 0.         0.         0.         0.         0.         0.\n",
      " 0.         0.         0.         0.         0.         0.\n",
      " 0.         0.         0.         0.         0.         0.\n",
      " 0.         0.         0.         0.         0.         0.\n",
      " 0.         0.         0.         0.         0.         0.\n",
      " 0.         0.         0.         0.         0.         0.\n",
      " 0.         0.         0.         0.         0.         0.\n",
      " 0.         0.         0.         0.         0.         0.\n",
      " 0.         0.         0.         0.         0.         0.\n",
      " 0.         0.         0.         0.         0.         0.\n",
      " 0.         0.         0.         0.         0.         0.\n",
      " 0.         0.         0.         0.         0.         0.\n",
      " 0.         0.         0.         0.         0.         0.\n",
      " 0.         0.         0.         0.         0.         0.\n",
      " 0.         0.         0.         0.         0.         0.\n",
      " 0.         0.         0.         0.         0.         0.\n",
      " 0.         0.         0.         0.         0.         0.\n",
      " 0.         0.         0.         0.         0.         0.\n",
      " 0.         0.         0.         0.         0.         0.\n",
      " 0.         0.         0.         0.         0.         0.\n",
      " 0.         0.         0.         0.         0.         0.\n",
      " 0.         0.         0.         0.         0.         0.\n",
      " 0.         0.         0.         0.         0.         0.\n",
      " 0.         0.         0.         0.         0.         0.\n",
      " 0.         0.         0.         0.         0.         0.\n",
      " 0.         0.         0.         0.         0.         0.\n",
      " 0.         0.         0.         0.         0.         0.\n",
      " 0.         0.         0.         0.         0.         0.\n",
      " 0.         0.         0.         0.         0.         0.\n",
      " 0.         0.         0.         0.         0.         0.\n",
      " 0.         0.         0.         0.         0.         0.\n",
      " 0.         0.         0.         0.         0.         0.\n",
      " 0.         0.         0.         0.         0.         0.\n",
      " 0.         0.         0.         0.         0.         0.\n",
      " 0.         0.         0.         0.         0.         0.\n",
      " 0.         0.         0.         0.         0.         0.\n",
      " 0.         0.         0.         0.         0.         0.\n",
      " 0.         0.         0.         0.         0.         0.\n",
      " 0.         0.         0.         0.         0.         0.\n",
      " 0.         0.         0.         0.         0.         0.\n",
      " 0.         0.         0.         0.         0.         0.\n",
      " 0.         0.         0.         0.         0.         0.\n",
      " 0.         0.         0.         0.         0.         0.\n",
      " 0.         0.         0.         0.         0.         0.\n",
      " 0.         0.         0.         0.         0.         0.\n",
      " 0.         0.         0.         0.54432676 0.         0.\n",
      " 0.         0.         0.         0.         0.         0.\n",
      " 0.         0.         0.         0.         0.         0.\n",
      " 0.         0.         0.         0.         0.         0.\n",
      " 0.         0.         0.         0.         0.         0.\n",
      " 0.         0.         0.         0.         0.         0.\n",
      " 0.         0.         0.         0.         0.         0.\n",
      " 0.         0.         0.         0.         0.         0.\n",
      " 0.         0.         0.         0.         0.         0.\n",
      " 0.         0.         0.         0.         0.         0.\n",
      " 0.         0.         0.         0.         0.         0.\n",
      " 0.         0.         0.         0.         0.         0.\n",
      " 0.         0.         0.         0.         0.         0.\n",
      " 0.         0.         0.         0.         0.         0.\n",
      " 0.         0.         0.         0.         0.         0.\n",
      " 0.         0.         0.         0.         0.         0.\n",
      " 0.         0.         0.         0.         0.         0.\n",
      " 0.         0.         0.         0.         0.         0.\n",
      " 0.         0.         0.         0.         0.         0.\n",
      " 0.         0.         0.         0.         0.         0.\n",
      " 0.         0.         0.         0.         0.         0.\n",
      " 0.         0.         0.         0.         0.         0.\n",
      " 0.         0.         0.         0.         0.         0.\n",
      " 0.         0.         0.         0.         0.         0.\n",
      " 0.         0.         0.         0.         0.         0.\n",
      " 0.         0.         0.         0.         0.         0.\n",
      " 0.         0.         0.         0.         0.         0.\n",
      " 0.         0.         0.         0.         0.         0.\n",
      " 0.         0.         0.         0.         0.         0.\n",
      " 0.         0.         0.         0.         0.         0.\n",
      " 0.         0.         0.         0.         0.         0.\n",
      " 0.         0.         0.         0.         0.         0.\n",
      " 0.         0.         0.57411553 0.         0.         0.\n",
      " 0.         0.         0.         0.         0.         0.\n",
      " 0.         0.         0.         0.         0.         0.\n",
      " 0.         0.         0.         0.         0.         0.\n",
      " 0.         0.         0.         0.        ]\n",
      "row lof 3.9907654403820163 13.981820657060876\n"
     ]
    }
   ],
   "source": [
    "mat = np.array([np.array(r['sample']) for r in rules])\n",
    "mat = mat.astype(np.float32)\n",
    "\n",
    "r_lof, s_lof = anomaly_detection(mat)\n",
    "#r_lof, s_lof = anomaly_detection(mat, row_conf=r_conf, col_conf=s_conf)"
   ]
  },
  {
   "cell_type": "code",
   "execution_count": 7,
   "metadata": {},
   "outputs": [],
   "source": [
    "def plot_anomaly(mat, r_lof, s_lof, type = 'rule', y = 'max', anomaly_precent = 0.05):\n",
    "    if type != 'rule':\n",
    "        (r_lof, s_lof) = (s_lof, r_lof)\n",
    "        mat = mat.transpose()\n",
    "    ordered_s_lof = sorted(s_lof)[::-1][int(len(s_lof) * anomaly_precent)]\n",
    "    px = []\n",
    "    pmax = []\n",
    "    pmean = []\n",
    "    pmedian = []\n",
    "    panum = []\n",
    "    pnum = []\n",
    "    ppercent = []\n",
    "    for i in range(len(r_lof)):\n",
    "        x = r_lof[i]\n",
    "        idxes = np.flatnonzero(mat[i, :])\n",
    "        pmedian.append(np.median(s_lof[idxes]))\n",
    "        pmean.append(np.mean(s_lof[idxes]))\n",
    "        pmax.append(np.max(s_lof[idxes]))\n",
    "        pnum.append(len(idxes))\n",
    "        panum.append(np.sum(s_lof[idxes] > ordered_s_lof))\n",
    "        ppercent.append(np.sum(s_lof[idxes] > ordered_s_lof) / len(idxes))\n",
    "        px.append(x)\n",
    "    df = pd.DataFrame({ 'x': px, 'max': pmax, 'mean': pmean, 'median': pmedian, 'anomaly_num': panum, 'num': pnum, 'percent': ppercent })\n",
    "    sns.scatterplot(data=df, x='x', y=y)"
   ]
  },
  {
   "cell_type": "code",
   "execution_count": 140,
   "metadata": {},
   "outputs": [
    {
     "data": {
      "text/plain": [
       "array([ 2.20946353,  3.30965944,  4.25180078, 18.56647478,  2.65001279])"
      ]
     },
     "execution_count": 140,
     "metadata": {},
     "output_type": "execute_result"
    }
   ],
   "source": [
    "r_lof[[290, 348, 841, 687, 804]]"
   ]
  },
  {
   "cell_type": "code",
   "execution_count": 138,
   "metadata": {},
   "outputs": [
    {
     "name": "stdout",
     "output_type": "stream",
     "text": [
      "[622 399 522  65 161]\n"
     ]
    }
   ],
   "source": [
    "p3 = [i for i, p in enumerate(paths) if p['level'] > 0]\n",
    "print(r_lof[p3].argsort()[::-1][:5])"
   ]
  },
  {
   "cell_type": "code",
   "execution_count": 103,
   "metadata": {},
   "outputs": [
    {
     "name": "stdout",
     "output_type": "stream",
     "text": [
      "iter 0\n",
      "row lof 2.9534028310415006 16.801060090607255\n",
      "column lof 1.402788660277094 2.131530693768395\n"
     ]
    }
   ],
   "source": [
    "def anomaly_detection_jaccard(mat, row_conf = None, col_conf = None):\n",
    "    if row_conf is None:\n",
    "        row_conf = np.ones(mat.shape[0])\n",
    "    if col_conf is None:\n",
    "        col_conf = np.ones(mat.shape[1])\n",
    "    s_dist = global_s_dist #pairwise_distances(X = mat.transpose() * row_conf, metric='jaccard')\n",
    "    clf = LocalOutlierFactor(n_neighbors = 5, metric=\"precomputed\")\n",
    "    clf.fit(s_dist)\n",
    "    col_lof = -clf.negative_outlier_factor_\n",
    "\n",
    "    r_dist = global_r_dist #pairwise_distances(X = mat * col_conf, metric='jaccard')\n",
    "    clf = LocalOutlierFactor(n_neighbors = 5, metric=\"precomputed\")\n",
    "    clf.fit(r_dist)\n",
    "    row_lof = -clf.negative_outlier_factor_\n",
    "    col_weight = col_lof / np.sum(col_lof) * len(col_lof)\n",
    "    row_weight = row_lof / np.sum(row_lof) * len(row_lof)\n",
    "\n",
    "    for i in range(1):\n",
    "        print('iter', i)\n",
    "        #r_dist = pairwise_distances(X = ((mat * col_weight).transpose() * row_weight).transpose(), metric='euclidean')\n",
    "        r_dist = pairwise_distances(X = ((mat * (col_conf * col_weight)).transpose() * row_weight).transpose(), metric='euclidean')\n",
    "        clf = LocalOutlierFactor(metric=\"precomputed\")\n",
    "        clf.fit(r_dist)\n",
    "        row_lof = -clf.negative_outlier_factor_\n",
    "        print('row lof', np.mean(row_lof), np.max(row_lof))\n",
    "        row_weight = row_lof / np.sum(row_lof) * len(row_lof)\n",
    "        #s_dist = pairwise_distances(X = (mat * col_weight).transpose() * row_weight, metric='euclidean') \n",
    "        s_dist = pairwise_distances(X = (mat * col_weight).transpose() * (row_conf * row_weight), metric='euclidean') \n",
    "        clf = LocalOutlierFactor(metric=\"precomputed\")\n",
    "        clf.fit(s_dist)\n",
    "        col_lof = -clf.negative_outlier_factor_\n",
    "        print('column lof', np.mean(col_lof), np.max(col_lof))\n",
    "        col_weight = col_lof / np.sum(col_lof) * len(col_lof)\n",
    "\n",
    "    return row_lof, col_lof\n",
    "\n",
    "mat = np.array([np.array(r['sample']) for r in rules])\n",
    "mat = mat.astype(np.float32)\n",
    "\n",
    "r_lof, s_lof = anomaly_detection_jaccard(mat, row_conf=r_conf, col_conf=s_conf)"
   ]
  },
  {
   "cell_type": "code",
   "execution_count": 177,
   "metadata": {},
   "outputs": [
    {
     "name": "stdout",
     "output_type": "stream",
     "text": [
      "80\n",
      "[9089, 8782, 7023, 802, 9540, 5598, 9794, 218, 348, 10277, 9287, 9608, 1216, 7178, 1217, 9360, 1775, 5235, 5837, 5638, 9746, 9757, 4458, 5904, 7698, 9113, 4517, 8719, 211, 3332, 10267, 9483, 616, 637, 2910, 5251, 5731, 425, 10168, 8896, 9974, 5793, 4686, 8850, 752, 945, 5165, 3149, 7305, 7845, 4791, 4968, 1034, 8070, 1748, 8901, 7247, 1, 10056, 7841, 1182, 2203, 7172, 1173, 2463, 7068, 2749, 6420, 8002, 8065, 5137, 4127, 8625, 9424, 6286, 133, 2222, 1077, 2803, 3428]\n"
     ]
    }
   ],
   "source": [
    "p3 = [i for i, p in enumerate(rules) if p['level'] > 1]\n",
    "print(len(r_lof[p3]))\n",
    "c = r_lof[p3].argsort()[::-1][:80]\n",
    "c = [p3[i] for i in c]\n",
    "print(c)"
   ]
  },
  {
   "cell_type": "code",
   "execution_count": 141,
   "metadata": {},
   "outputs": [
    {
     "name": "stdout",
     "output_type": "stream",
     "text": [
      "3.555107843261356\n"
     ]
    }
   ],
   "source": [
    "print(r_lof[8625])"
   ]
  },
  {
   "cell_type": "markdown",
   "metadata": {},
   "source": []
  },
  {
   "cell_type": "markdown",
   "metadata": {},
   "source": []
  },
  {
   "cell_type": "code",
   "execution_count": 8,
   "metadata": {},
   "outputs": [
    {
     "data": {
      "image/png": "[encoded data removed]",
      "text/plain": [
       "<Figure size 432x288 with 1 Axes>"
      ]
     },
     "metadata": {
      "needs_background": "light"
     },
     "output_type": "display_data"
    }
   ],
   "source": [
    "plot_anomaly(mat, r_lof, s_lof, 'rule', 'percent')"
   ]
  },
  {
   "cell_type": "code",
   "execution_count": 21,
   "metadata": {},
   "outputs": [
    {
     "data": {
      "text/plain": [
       "<seaborn.axisgrid.FacetGrid at 0x7f876295bc70>"
      ]
     },
     "execution_count": 21,
     "metadata": {},
     "output_type": "execute_result"
    },
    {
     "data": {
      "image/png": "[encoded data removed]",
      "text/plain": [
       "<Figure size 720x360 with 1 Axes>"
      ]
     },
     "metadata": {
      "needs_background": "light"
     },
     "output_type": "display_data"
    }
   ],
   "source": [
    "df = pd.DataFrame({ 'rule anomaly': r_lof })\n",
    "sns.displot(df, x='rule anomaly', bins=40, aspect=2)\n"
   ]
  },
  {
   "cell_type": "code",
   "execution_count": 14,
   "metadata": {},
   "outputs": [
    {
     "data": {
      "text/plain": [
       "<seaborn.axisgrid.FacetGrid at 0x7ff03224c940>"
      ]
     },
     "execution_count": 14,
     "metadata": {},
     "output_type": "execute_result"
    },
    {
     "data": {
      "image/png": "[encoded data removed]",
      "text/plain": [
       "<Figure size 720x360 with 1 Axes>"
      ]
     },
     "metadata": {
      "needs_background": "light"
     },
     "output_type": "display_data"
    }
   ],
   "source": [
    "df = pd.DataFrame({ 'sample anomaly': s_lof })\n",
    "sns.displot(df, x='sample anomaly', bins=40, aspect=2)\n"
   ]
  },
  {
   "cell_type": "code",
   "execution_count": 15,
   "metadata": {},
   "outputs": [
    {
     "name": "stderr",
     "output_type": "stream",
     "text": [
      "Data was converted to boolean for metric jaccard\n"
     ]
    },
    {
     "ename": "KeyboardInterrupt",
     "evalue": "",
     "output_type": "error",
     "traceback": [
      "\u001b[0;31m---------------------------------------------------------------------------\u001b[0m",
      "\u001b[0;31mKeyboardInterrupt\u001b[0m                         Traceback (most recent call last)",
      "\u001b[0;32m<ipython-input-15-bad8a30a2f24>\u001b[0m in \u001b[0;36m<module>\u001b[0;34m\u001b[0m\n\u001b[0;32m----> 1\u001b[0;31m \u001b[0mglobal_s_dist\u001b[0m \u001b[0;34m=\u001b[0m \u001b[0mpairwise_distances\u001b[0m\u001b[0;34m(\u001b[0m\u001b[0mX\u001b[0m \u001b[0;34m=\u001b[0m \u001b[0mmat\u001b[0m\u001b[0;34m.\u001b[0m\u001b[0mtranspose\u001b[0m\u001b[0;34m(\u001b[0m\u001b[0;34m)\u001b[0m\u001b[0;34m,\u001b[0m \u001b[0mmetric\u001b[0m\u001b[0;34m=\u001b[0m\u001b[0;34m'jaccard'\u001b[0m\u001b[0;34m)\u001b[0m\u001b[0;34m\u001b[0m\u001b[0;34m\u001b[0m\u001b[0m\n\u001b[0m\u001b[1;32m      2\u001b[0m \u001b[0mglobal_r_dist\u001b[0m \u001b[0;34m=\u001b[0m \u001b[0mpairwise_distances\u001b[0m\u001b[0;34m(\u001b[0m\u001b[0mX\u001b[0m \u001b[0;34m=\u001b[0m \u001b[0mmat\u001b[0m\u001b[0;34m,\u001b[0m \u001b[0mmetric\u001b[0m\u001b[0;34m=\u001b[0m\u001b[0;34m'jaccard'\u001b[0m\u001b[0;34m)\u001b[0m\u001b[0;34m\u001b[0m\u001b[0;34m\u001b[0m\u001b[0m\n",
      "\u001b[0;32m~/miniconda3/lib/python3.8/site-packages/sklearn/metrics/pairwise.py\u001b[0m in \u001b[0;36mpairwise_distances\u001b[0;34m(X, Y, metric, n_jobs, force_all_finite, **kwds)\u001b[0m\n\u001b[1;32m   1879\u001b[0m \u001b[0;34m\u001b[0m\u001b[0m\n\u001b[1;32m   1880\u001b[0m         \u001b[0;32mif\u001b[0m \u001b[0meffective_n_jobs\u001b[0m\u001b[0;34m(\u001b[0m\u001b[0mn_jobs\u001b[0m\u001b[0;34m)\u001b[0m \u001b[0;34m==\u001b[0m \u001b[0;36m1\u001b[0m \u001b[0;32mand\u001b[0m \u001b[0mX\u001b[0m \u001b[0;32mis\u001b[0m \u001b[0mY\u001b[0m\u001b[0;34m:\u001b[0m\u001b[0;34m\u001b[0m\u001b[0;34m\u001b[0m\u001b[0m\n\u001b[0;32m-> 1881\u001b[0;31m             \u001b[0;32mreturn\u001b[0m \u001b[0mdistance\u001b[0m\u001b[0;34m.\u001b[0m\u001b[0msquareform\u001b[0m\u001b[0;34m(\u001b[0m\u001b[0mdistance\u001b[0m\u001b[0;34m.\u001b[0m\u001b[0mpdist\u001b[0m\u001b[0;34m(\u001b[0m\u001b[0mX\u001b[0m\u001b[0;34m,\u001b[0m \u001b[0mmetric\u001b[0m\u001b[0;34m=\u001b[0m\u001b[0mmetric\u001b[0m\u001b[0;34m,\u001b[0m \u001b[0;34m**\u001b[0m\u001b[0mkwds\u001b[0m\u001b[0;34m)\u001b[0m\u001b[0;34m)\u001b[0m\u001b[0;34m\u001b[0m\u001b[0;34m\u001b[0m\u001b[0m\n\u001b[0m\u001b[1;32m   1882\u001b[0m         \u001b[0mfunc\u001b[0m \u001b[0;34m=\u001b[0m \u001b[0mpartial\u001b[0m\u001b[0;34m(\u001b[0m\u001b[0mdistance\u001b[0m\u001b[0;34m.\u001b[0m\u001b[0mcdist\u001b[0m\u001b[0;34m,\u001b[0m \u001b[0mmetric\u001b[0m\u001b[0;34m=\u001b[0m\u001b[0mmetric\u001b[0m\u001b[0;34m,\u001b[0m \u001b[0;34m**\u001b[0m\u001b[0mkwds\u001b[0m\u001b[0;34m)\u001b[0m\u001b[0;34m\u001b[0m\u001b[0;34m\u001b[0m\u001b[0m\n\u001b[1;32m   1883\u001b[0m \u001b[0;34m\u001b[0m\u001b[0m\n",
      "\u001b[0;32m~/miniconda3/lib/python3.8/site-packages/scipy/spatial/distance.py\u001b[0m in \u001b[0;36mpdist\u001b[0;34m(X, metric, *args, **kwargs)\u001b[0m\n\u001b[1;32m   2064\u001b[0m             pdist_fn = getattr(_distance_wrap,\n\u001b[1;32m   2065\u001b[0m                                \"pdist_%s_%s_wrap\" % (metric_name, typ))\n\u001b[0;32m-> 2066\u001b[0;31m             \u001b[0mpdist_fn\u001b[0m\u001b[0;34m(\u001b[0m\u001b[0mX\u001b[0m\u001b[0;34m,\u001b[0m \u001b[0mdm\u001b[0m\u001b[0;34m,\u001b[0m \u001b[0;34m**\u001b[0m\u001b[0mkwargs\u001b[0m\u001b[0;34m)\u001b[0m\u001b[0;34m\u001b[0m\u001b[0;34m\u001b[0m\u001b[0m\n\u001b[0m\u001b[1;32m   2067\u001b[0m             \u001b[0;32mreturn\u001b[0m \u001b[0mdm\u001b[0m\u001b[0;34m\u001b[0m\u001b[0;34m\u001b[0m\u001b[0m\n\u001b[1;32m   2068\u001b[0m \u001b[0;34m\u001b[0m\u001b[0m\n",
      "\u001b[0;31mKeyboardInterrupt\u001b[0m: "
     ]
    }
   ],
   "source": [
    "global_s_dist = pairwise_distances(X = mat.transpose(), metric='jaccard')\n",
    "global_r_dist = pairwise_distances(X = mat, metric='jaccard')"
   ]
  },
  {
   "cell_type": "code",
   "execution_count": 144,
   "metadata": {},
   "outputs": [
    {
     "name": "stdout",
     "output_type": "stream",
     "text": [
      "9757 1.2242020788031809\n",
      "8002 1.2440432271331625\n",
      "2222 0.9562305417212833\n",
      "7841 0.9880298966816021\n"
     ]
    }
   ],
   "source": [
    "clf = LocalOutlierFactor(n_neighbors = 5, metric=\"precomputed\")\n",
    "clf.fit(global_r_dist)\n",
    "r_lof = -clf.negative_outlier_factor_"
   ]
  },
  {
   "cell_type": "code",
   "execution_count": null,
   "metadata": {},
   "outputs": [],
   "source": []
  },
  {
   "cell_type": "code",
   "execution_count": 134,
   "metadata": {},
   "outputs": [
    {
     "data": {
      "text/plain": [
       "87"
      ]
     },
     "execution_count": 134,
     "metadata": {},
     "output_type": "execute_result"
    }
   ],
   "source": [
    "(r_lof > r_lof.mean() + r_lof.std() * 3).sum()"
   ]
  },
  {
   "cell_type": "code",
   "execution_count": 7,
   "metadata": {},
   "outputs": [],
   "source": [
    "def mutual_anomaly_detection(mat, row_conf = None, col_conf = None, lambda_ = 0.85):\n",
    "    if row_conf is None:\n",
    "        row_conf = np.ones(mat.shape[0])\n",
    "    if col_conf is None:\n",
    "        col_conf = np.ones(mat.shape[1])\n",
    "\n",
    "    S = mat.shape[1]\n",
    "    R = mat.shape[0]\n",
    "    M = np.identity(R + S)\n",
    "    M[R:, :R] = mat.transpose()\n",
    "    M[:R, R:] = mat\n",
    "    A = np.ones(S + R) / (S + R)\n",
    "\n",
    "    s_dist = global_s_dist\n",
    "    clf = LocalOutlierFactor(metric=\"precomputed\")\n",
    "    clf.fit(s_dist)\n",
    "    col_lof = -clf.negative_outlier_factor_\n",
    "\n",
    "    r_dist = global_r_dist\n",
    "    clf = LocalOutlierFactor(metric=\"precomputed\")\n",
    "    clf.fit(r_dist)\n",
    "    row_lof = -clf.negative_outlier_factor_\n",
    "\n",
    "    for i in range(1):\n",
    "        row_weight = row_lof / np.sum(row_lof)\n",
    "        col_weight = col_lof / np.sum(col_lof)\n",
    "        P = np.concatenate((row_weight, col_weight), axis = 0)\n",
    "        MA = M * A\n",
    "        MA2 = np.matmul(M, A)\n",
    "        P = P / P.sum()\n",
    "        MA2 = MA2 / MA2.sum()\n",
    "        A = lambda_ * MA2 + (1 - lambda_) * P\n",
    "        s_dist = pairwise_distances(X = MA[R:, :R], metric='euclidean') \n",
    "        clf = LocalOutlierFactor(metric=\"precomputed\")\n",
    "        clf.fit(s_dist)\n",
    "        col_lof = -clf.negative_outlier_factor_\n",
    "\n",
    "        print('iter', i, 'column lof', np.mean(col_lof), np.max(col_lof))\n",
    "        r_dist = pairwise_distances(X = MA[:R, R:], metric='euclidean')\n",
    "        clf = LocalOutlierFactor(metric=\"precomputed\")\n",
    "        clf.fit(r_dist)\n",
    "        row_lof = -clf.negative_outlier_factor_\n",
    "\n",
    "    return A[:R], A[R:]"
   ]
  },
  {
   "cell_type": "code",
   "execution_count": 8,
   "metadata": {},
   "outputs": [
    {
     "name": "stdout",
     "output_type": "stream",
     "text": [
      "iter 0 column lof 1.004269507284359 1.0362324180448024\n",
      "9757 0.00012752325977374905\n",
      "8002 5.651100085285729e-05\n",
      "2222 0.00038076672719588906\n",
      "7841 0.00031819059235184817\n"
     ]
    }
   ],
   "source": [
    "\n",
    "mat = np.array([np.array(r['sample']) for r in rules])\n",
    "mat = mat.astype(np.float32)\n",
    "\n",
    "r_lof, s_lof = mutual_anomaly_detection(mat, row_conf=r_conf, col_conf=s_conf)\n",
    "for i in [9757, 8002, 2222, 7841]:\n",
    "    print(i, r_lof[i])"
   ]
  },
  {
   "cell_type": "code",
   "execution_count": 124,
   "metadata": {},
   "outputs": [
    {
     "name": "stdout",
     "output_type": "stream",
     "text": [
      "80\n",
      "[7023, 2222, 7841, 1216, 10056, 9483, 945, 133, 1034, 5251, 2910, 1217, 2749, 1775, 8850, 9360, 9974, 5793, 7178, 7172, 9287, 2203, 5598, 5837, 5235, 4791, 5137, 10168, 211, 616, 2463, 9540, 7247, 218, 5904, 9757, 8782, 9746, 7068, 802, 1, 10267, 3332, 9113, 8065, 5638, 752, 425, 8896, 10277, 4458, 4686, 9794, 9089, 1077, 1173, 348, 7845, 7698, 9608, 4517, 8719, 637, 3149, 4968, 8002, 1182, 5731, 1748, 4127, 7305, 6286, 6420, 8901, 5165, 8070, 9424, 8625, 2803, 3428]\n"
     ]
    }
   ],
   "source": [
    "p3 = [i for i, p in enumerate(rules) if p['level'] > 1]\n",
    "print(len(r_lof[p3]))\n",
    "c = r_lof[p3].argsort()[::-1][:80]\n",
    "c = [p3[i] for i in c]\n",
    "print(c)"
   ]
  },
  {
   "cell_type": "code",
   "execution_count": 51,
   "metadata": {},
   "outputs": [
    {
     "name": "stdout",
     "output_type": "stream",
     "text": [
      "[2.26426298e-05 1.67535163e-04 8.42317184e-05 3.26400900e-05\n",
      " 6.22947193e-05 4.00685161e-05 3.94055754e-05 3.30057959e-05\n",
      " 2.22689338e-05 1.81319041e-05 2.80109615e-05 1.69716537e-05\n",
      " 8.31202694e-06 3.60342991e-05 1.07585679e-05 4.07143100e-05\n",
      " 7.34120345e-05 9.65834218e-05 7.72043063e-05 7.26262797e-05\n",
      " 3.12400973e-05 6.46301301e-05 4.15449755e-05 1.03745194e-04\n",
      " 5.65239363e-05 1.01451517e-04 5.09008196e-05 2.98892986e-05\n",
      " 2.10519116e-04 3.51539081e-05 4.48120813e-05 3.90656460e-05\n",
      " 1.21074045e-04 8.69154465e-05 1.45199244e-04 1.06201538e-04\n",
      " 4.99073539e-05 5.09188282e-05 6.53466607e-05 5.91420007e-05\n",
      " 7.31636392e-05 4.31710124e-05 1.00238506e-04 1.52070723e-04\n",
      " 4.18690471e-05 1.70628726e-05 1.06841852e-04 3.61877255e-05\n",
      " 7.60748117e-05 6.39063356e-05 2.95758725e-05 5.40908049e-05\n",
      " 1.70058428e-05 4.64283953e-05 5.49669305e-05 2.94747112e-05\n",
      " 3.08655982e-05 4.96829761e-05 2.11927960e-05 4.30226941e-05\n",
      " 4.07899140e-05 1.70395822e-05 1.49468999e-05 5.78007583e-05\n",
      " 6.25300141e-05 4.62777443e-05 4.26331987e-05 4.86334025e-05\n",
      " 8.59365269e-05 2.94093017e-05 5.08186488e-05 3.49521415e-05\n",
      " 4.36405256e-05 1.01157775e-04 7.44149052e-05 3.07073782e-04\n",
      " 7.28849591e-05 8.64326413e-05 1.69117944e-04 3.90688113e-05\n",
      " 2.98824853e-05 3.22483935e-05 3.73313466e-05 3.42954465e-05\n",
      " 4.58047478e-05 3.82588388e-05 2.92500494e-05 4.11313610e-05\n",
      " 1.16475884e-04 6.48745374e-05 6.35747668e-05 4.93487383e-05\n",
      " 2.43025590e-05 1.04357089e-04 5.21231730e-05 1.25659053e-04\n",
      " 7.00097829e-05 3.37160517e-05 1.63927361e-04 3.99324405e-05]\n"
     ]
    }
   ],
   "source": [
    "print(r_lof[:100])"
   ]
  },
  {
   "cell_type": "code",
   "execution_count": 76,
   "metadata": {},
   "outputs": [
    {
     "data": {
      "text/plain": [
       "<AxesSubplot:xlabel='x', ylabel='y'>"
      ]
     },
     "execution_count": 76,
     "metadata": {},
     "output_type": "execute_result"
    },
    {
     "data": {
      "image/png": "[encoded data removed]",
      "text/plain": [
       "<Figure size 432x288 with 1 Axes>"
      ]
     },
     "metadata": {
      "needs_background": "light"
     },
     "output_type": "display_data"
    }
   ],
   "source": [
    "ordered_r_lof = sorted(r_lof)[::-1][len(r_lof) // 20]\n",
    "px = []\n",
    "py = []\n",
    "for i in range(len(s_lof)):\n",
    "    x = s_lof[i]\n",
    "    idxes = np.flatnonzero(mat[i, :])\n",
    "    #y = np.median(r_lof[idxes])\n",
    "    #y = np.max(r_lof[idxes])\n",
    "    y = np.sum(r_lof[idxes] > ordered_r_lof) / len(idxes)\n",
    "    px.append(x)\n",
    "    py.append(y)\n",
    "df = pd.DataFrame({ 'x': px, 'y': py })\n",
    "sns.scatterplot(data=df, x='x', y='y')\n"
   ]
  }
 ],
 "metadata": {
  "interpreter": {
   "hash": "7e68ee7780e0be540c4e3141e92f7a462f6acd183a50724e7701ea314000c600"
  },
  "kernelspec": {
   "display_name": "Python 3.8.1 ('base')",
   "language": "python",
   "name": "python3"
  },
  "language_info": {
   "codemirror_mode": {
    "name": "ipython",
    "version": 3
   },
   "file_extension": ".py",
   "mimetype": "text/x-python",
   "name": "python",
   "nbconvert_exporter": "python",
   "pygments_lexer": "ipython3",
   "version": "3.8.1"
  },
  "orig_nbformat": 4
 },
 "nbformat": 4,
 "nbformat_minor": 2
}
